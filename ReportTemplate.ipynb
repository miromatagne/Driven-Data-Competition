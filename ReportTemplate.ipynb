{
 "cells": [
  {
   "cell_type": "markdown",
   "metadata": {},
   "source": [
    "# INFO-F-422 -  Statistical Foundations of Machine Learning \n",
    "\n",
    "### Student 1 - __[student1@ulb.ac.be](mailto:student1@ulb.ac.be) - Student ID 123456__\n",
    "### Student 2 - __[student2@vub.ac.be](mailto:student2@ulb.ac.be) - Student ID 789012__\n",
    "### Student 3 - __[student3@ulb.ac.be](mailto:student3@ulb.ac.be) - Student ID 345678__\n",
    "\n",
    "### Video presentation: www.youtube.com/abcd1234\n",
    "\n",
    "## Project Title\n"
   ]
  },
  {
   "cell_type": "markdown",
   "metadata": {},
   "source": [
    "# Introduction\n"
   ]
  },
  {
   "cell_type": "markdown",
   "metadata": {},
   "source": [
    "## Read the datasets"
   ]
  },
  {
   "cell_type": "markdown",
   "metadata": {},
   "source": [
    "The training datasets are imported (*training* here means that this data will not be used for the final assessment of the solution quality by DrivenData).\n",
    "\n",
    "Notice that the characters are read as factors in order to be able to study the categorical variables later on."
   ]
  },
  {
   "cell_type": "code",
   "execution_count": 1,
   "metadata": {},
   "outputs": [],
   "source": [
    "X <- read.csv(\"training_set_values.csv\",stringsAsFactors = T)\n",
    "Y <- read.csv(\"training_set_labels.csv\",stringsAsFactors = T)"
   ]
  },
  {
   "cell_type": "markdown",
   "metadata": {},
   "source": [
    "## Data exploration"
   ]
  },
  {
   "cell_type": "markdown",
   "metadata": {},
   "source": [
    "For both these datasets, the dimensions, the head and the summary are displayed in order to get a first feel of the data.class"
   ]
  },
  {
   "cell_type": "code",
   "execution_count": 3,
   "metadata": {
    "scrolled": true
   },
   "outputs": [
    {
     "data": {
      "text/html": [
       "<style>\n",
       ".list-inline {list-style: none; margin:0; padding: 0}\n",
       ".list-inline>li {display: inline-block}\n",
       ".list-inline>li:not(:last-child)::after {content: \"\\00b7\"; padding: 0 .5ex}\n",
       "</style>\n",
       "<ol class=list-inline><li>59400</li><li>40</li></ol>\n"
      ],
      "text/latex": [
       "\\begin{enumerate*}\n",
       "\\item 59400\n",
       "\\item 40\n",
       "\\end{enumerate*}\n"
      ],
      "text/markdown": [
       "1. 59400\n",
       "2. 40\n",
       "\n",
       "\n"
      ],
      "text/plain": [
       "[1] 59400    40"
      ]
     },
     "metadata": {},
     "output_type": "display_data"
    },
    {
     "data": {
      "text/html": [
       "<table class=\"dataframe\">\n",
       "<caption>A data.frame: 6 × 40</caption>\n",
       "<thead>\n",
       "\t<tr><th></th><th scope=col>id</th><th scope=col>amount_tsh</th><th scope=col>date_recorded</th><th scope=col>funder</th><th scope=col>gps_height</th><th scope=col>installer</th><th scope=col>longitude</th><th scope=col>latitude</th><th scope=col>wpt_name</th><th scope=col>num_private</th><th scope=col>⋯</th><th scope=col>payment_type</th><th scope=col>water_quality</th><th scope=col>quality_group</th><th scope=col>quantity</th><th scope=col>quantity_group</th><th scope=col>source</th><th scope=col>source_type</th><th scope=col>source_class</th><th scope=col>waterpoint_type</th><th scope=col>waterpoint_type_group</th></tr>\n",
       "\t<tr><th></th><th scope=col>&lt;int&gt;</th><th scope=col>&lt;dbl&gt;</th><th scope=col>&lt;fct&gt;</th><th scope=col>&lt;fct&gt;</th><th scope=col>&lt;int&gt;</th><th scope=col>&lt;fct&gt;</th><th scope=col>&lt;dbl&gt;</th><th scope=col>&lt;dbl&gt;</th><th scope=col>&lt;fct&gt;</th><th scope=col>&lt;int&gt;</th><th scope=col>⋯</th><th scope=col>&lt;fct&gt;</th><th scope=col>&lt;fct&gt;</th><th scope=col>&lt;fct&gt;</th><th scope=col>&lt;fct&gt;</th><th scope=col>&lt;fct&gt;</th><th scope=col>&lt;fct&gt;</th><th scope=col>&lt;fct&gt;</th><th scope=col>&lt;fct&gt;</th><th scope=col>&lt;fct&gt;</th><th scope=col>&lt;fct&gt;</th></tr>\n",
       "</thead>\n",
       "<tbody>\n",
       "\t<tr><th scope=row>1</th><td>69572</td><td>6000</td><td>2011-03-14</td><td>Roman              </td><td>1390</td><td>Roman       </td><td>34.93809</td><td> -9.856322</td><td>none                </td><td>0</td><td>⋯</td><td>annually  </td><td>soft </td><td>good </td><td>enough      </td><td>enough      </td><td>spring              </td><td>spring              </td><td>groundwater</td><td>communal standpipe         </td><td>communal standpipe</td></tr>\n",
       "\t<tr><th scope=row>2</th><td> 8776</td><td>   0</td><td>2013-03-06</td><td>Grumeti            </td><td>1399</td><td>GRUMETI     </td><td>34.69877</td><td> -2.147466</td><td>Zahanati            </td><td>0</td><td>⋯</td><td>never pay </td><td>soft </td><td>good </td><td>insufficient</td><td>insufficient</td><td>rainwater harvesting</td><td>rainwater harvesting</td><td>surface    </td><td>communal standpipe         </td><td>communal standpipe</td></tr>\n",
       "\t<tr><th scope=row>3</th><td>34310</td><td>  25</td><td>2013-02-25</td><td>Lottery Club       </td><td> 686</td><td>World vision</td><td>37.46066</td><td> -3.821329</td><td>Kwa Mahundi         </td><td>0</td><td>⋯</td><td>per bucket</td><td>soft </td><td>good </td><td>enough      </td><td>enough      </td><td>dam                 </td><td>dam                 </td><td>surface    </td><td>communal standpipe multiple</td><td>communal standpipe</td></tr>\n",
       "\t<tr><th scope=row>4</th><td>67743</td><td>   0</td><td>2013-01-28</td><td>Unicef             </td><td> 263</td><td>UNICEF      </td><td>38.48616</td><td>-11.155298</td><td>Zahanati Ya Nanyumbu</td><td>0</td><td>⋯</td><td>never pay </td><td>soft </td><td>good </td><td>dry         </td><td>dry         </td><td>machine dbh         </td><td>borehole            </td><td>groundwater</td><td>communal standpipe multiple</td><td>communal standpipe</td></tr>\n",
       "\t<tr><th scope=row>5</th><td>19728</td><td>   0</td><td>2011-07-13</td><td>Action In A        </td><td>   0</td><td>Artisan     </td><td>31.13085</td><td> -1.825359</td><td>Shuleni             </td><td>0</td><td>⋯</td><td>never pay </td><td>soft </td><td>good </td><td>seasonal    </td><td>seasonal    </td><td>rainwater harvesting</td><td>rainwater harvesting</td><td>surface    </td><td>communal standpipe         </td><td>communal standpipe</td></tr>\n",
       "\t<tr><th scope=row>6</th><td> 9944</td><td>  20</td><td>2011-03-13</td><td>Mkinga Distric Coun</td><td>   0</td><td>DWE         </td><td>39.17280</td><td> -4.765587</td><td>Tajiri              </td><td>0</td><td>⋯</td><td>per bucket</td><td>salty</td><td>salty</td><td>enough      </td><td>enough      </td><td>other               </td><td>other               </td><td>unknown    </td><td>communal standpipe multiple</td><td>communal standpipe</td></tr>\n",
       "</tbody>\n",
       "</table>\n"
      ],
      "text/latex": [
       "A data.frame: 6 × 40\n",
       "\\begin{tabular}{r|lllllllllllllllllllll}\n",
       "  & id & amount\\_tsh & date\\_recorded & funder & gps\\_height & installer & longitude & latitude & wpt\\_name & num\\_private & ⋯ & payment\\_type & water\\_quality & quality\\_group & quantity & quantity\\_group & source & source\\_type & source\\_class & waterpoint\\_type & waterpoint\\_type\\_group\\\\\n",
       "  & <int> & <dbl> & <fct> & <fct> & <int> & <fct> & <dbl> & <dbl> & <fct> & <int> & ⋯ & <fct> & <fct> & <fct> & <fct> & <fct> & <fct> & <fct> & <fct> & <fct> & <fct>\\\\\n",
       "\\hline\n",
       "\t1 & 69572 & 6000 & 2011-03-14 & Roman               & 1390 & Roman        & 34.93809 &  -9.856322 & none                 & 0 & ⋯ & annually   & soft  & good  & enough       & enough       & spring               & spring               & groundwater & communal standpipe          & communal standpipe\\\\\n",
       "\t2 &  8776 &    0 & 2013-03-06 & Grumeti             & 1399 & GRUMETI      & 34.69877 &  -2.147466 & Zahanati             & 0 & ⋯ & never pay  & soft  & good  & insufficient & insufficient & rainwater harvesting & rainwater harvesting & surface     & communal standpipe          & communal standpipe\\\\\n",
       "\t3 & 34310 &   25 & 2013-02-25 & Lottery Club        &  686 & World vision & 37.46066 &  -3.821329 & Kwa Mahundi          & 0 & ⋯ & per bucket & soft  & good  & enough       & enough       & dam                  & dam                  & surface     & communal standpipe multiple & communal standpipe\\\\\n",
       "\t4 & 67743 &    0 & 2013-01-28 & Unicef              &  263 & UNICEF       & 38.48616 & -11.155298 & Zahanati Ya Nanyumbu & 0 & ⋯ & never pay  & soft  & good  & dry          & dry          & machine dbh          & borehole             & groundwater & communal standpipe multiple & communal standpipe\\\\\n",
       "\t5 & 19728 &    0 & 2011-07-13 & Action In A         &    0 & Artisan      & 31.13085 &  -1.825359 & Shuleni              & 0 & ⋯ & never pay  & soft  & good  & seasonal     & seasonal     & rainwater harvesting & rainwater harvesting & surface     & communal standpipe          & communal standpipe\\\\\n",
       "\t6 &  9944 &   20 & 2011-03-13 & Mkinga Distric Coun &    0 & DWE          & 39.17280 &  -4.765587 & Tajiri               & 0 & ⋯ & per bucket & salty & salty & enough       & enough       & other                & other                & unknown     & communal standpipe multiple & communal standpipe\\\\\n",
       "\\end{tabular}\n"
      ],
      "text/markdown": [
       "\n",
       "A data.frame: 6 × 40\n",
       "\n",
       "| <!--/--> | id &lt;int&gt; | amount_tsh &lt;dbl&gt; | date_recorded &lt;fct&gt; | funder &lt;fct&gt; | gps_height &lt;int&gt; | installer &lt;fct&gt; | longitude &lt;dbl&gt; | latitude &lt;dbl&gt; | wpt_name &lt;fct&gt; | num_private &lt;int&gt; | ⋯ ⋯ | payment_type &lt;fct&gt; | water_quality &lt;fct&gt; | quality_group &lt;fct&gt; | quantity &lt;fct&gt; | quantity_group &lt;fct&gt; | source &lt;fct&gt; | source_type &lt;fct&gt; | source_class &lt;fct&gt; | waterpoint_type &lt;fct&gt; | waterpoint_type_group &lt;fct&gt; |\n",
       "|---|---|---|---|---|---|---|---|---|---|---|---|---|---|---|---|---|---|---|---|---|---|\n",
       "| 1 | 69572 | 6000 | 2011-03-14 | Roman               | 1390 | Roman        | 34.93809 |  -9.856322 | none                 | 0 | ⋯ | annually   | soft  | good  | enough       | enough       | spring               | spring               | groundwater | communal standpipe          | communal standpipe |\n",
       "| 2 |  8776 |    0 | 2013-03-06 | Grumeti             | 1399 | GRUMETI      | 34.69877 |  -2.147466 | Zahanati             | 0 | ⋯ | never pay  | soft  | good  | insufficient | insufficient | rainwater harvesting | rainwater harvesting | surface     | communal standpipe          | communal standpipe |\n",
       "| 3 | 34310 |   25 | 2013-02-25 | Lottery Club        |  686 | World vision | 37.46066 |  -3.821329 | Kwa Mahundi          | 0 | ⋯ | per bucket | soft  | good  | enough       | enough       | dam                  | dam                  | surface     | communal standpipe multiple | communal standpipe |\n",
       "| 4 | 67743 |    0 | 2013-01-28 | Unicef              |  263 | UNICEF       | 38.48616 | -11.155298 | Zahanati Ya Nanyumbu | 0 | ⋯ | never pay  | soft  | good  | dry          | dry          | machine dbh          | borehole             | groundwater | communal standpipe multiple | communal standpipe |\n",
       "| 5 | 19728 |    0 | 2011-07-13 | Action In A         |    0 | Artisan      | 31.13085 |  -1.825359 | Shuleni              | 0 | ⋯ | never pay  | soft  | good  | seasonal     | seasonal     | rainwater harvesting | rainwater harvesting | surface     | communal standpipe          | communal standpipe |\n",
       "| 6 |  9944 |   20 | 2011-03-13 | Mkinga Distric Coun |    0 | DWE          | 39.17280 |  -4.765587 | Tajiri               | 0 | ⋯ | per bucket | salty | salty | enough       | enough       | other                | other                | unknown     | communal standpipe multiple | communal standpipe |\n",
       "\n"
      ],
      "text/plain": [
       "  id    amount_tsh date_recorded funder              gps_height installer   \n",
       "1 69572 6000       2011-03-14    Roman               1390       Roman       \n",
       "2  8776    0       2013-03-06    Grumeti             1399       GRUMETI     \n",
       "3 34310   25       2013-02-25    Lottery Club         686       World vision\n",
       "4 67743    0       2013-01-28    Unicef               263       UNICEF      \n",
       "5 19728    0       2011-07-13    Action In A            0       Artisan     \n",
       "6  9944   20       2011-03-13    Mkinga Distric Coun    0       DWE         \n",
       "  longitude latitude   wpt_name             num_private ⋯ payment_type\n",
       "1 34.93809   -9.856322 none                 0           ⋯ annually    \n",
       "2 34.69877   -2.147466 Zahanati             0           ⋯ never pay   \n",
       "3 37.46066   -3.821329 Kwa Mahundi          0           ⋯ per bucket  \n",
       "4 38.48616  -11.155298 Zahanati Ya Nanyumbu 0           ⋯ never pay   \n",
       "5 31.13085   -1.825359 Shuleni              0           ⋯ never pay   \n",
       "6 39.17280   -4.765587 Tajiri               0           ⋯ per bucket  \n",
       "  water_quality quality_group quantity     quantity_group source              \n",
       "1 soft          good          enough       enough         spring              \n",
       "2 soft          good          insufficient insufficient   rainwater harvesting\n",
       "3 soft          good          enough       enough         dam                 \n",
       "4 soft          good          dry          dry            machine dbh         \n",
       "5 soft          good          seasonal     seasonal       rainwater harvesting\n",
       "6 salty         salty         enough       enough         other               \n",
       "  source_type          source_class waterpoint_type            \n",
       "1 spring               groundwater  communal standpipe         \n",
       "2 rainwater harvesting surface      communal standpipe         \n",
       "3 dam                  surface      communal standpipe multiple\n",
       "4 borehole             groundwater  communal standpipe multiple\n",
       "5 rainwater harvesting surface      communal standpipe         \n",
       "6 other                unknown      communal standpipe multiple\n",
       "  waterpoint_type_group\n",
       "1 communal standpipe   \n",
       "2 communal standpipe   \n",
       "3 communal standpipe   \n",
       "4 communal standpipe   \n",
       "5 communal standpipe   \n",
       "6 communal standpipe   "
      ]
     },
     "metadata": {},
     "output_type": "display_data"
    },
    {
     "data": {
      "text/plain": [
       "       id          amount_tsh          date_recorded  \n",
       " Min.   :    0   Min.   :     0.0   2011-03-15:  572  \n",
       " 1st Qu.:18520   1st Qu.:     0.0   2011-03-17:  558  \n",
       " Median :37062   Median :     0.0   2013-02-03:  546  \n",
       " Mean   :37115   Mean   :   317.7   2011-03-14:  520  \n",
       " 3rd Qu.:55656   3rd Qu.:    20.0   2011-03-16:  513  \n",
       " Max.   :74247   Max.   :350000.0   2011-03-18:  497  \n",
       "                                    (Other)   :56194  \n",
       "                    funder        gps_height          installer    \n",
       " Government Of Tanzania: 9084   Min.   : -90.0   DWE       :17402  \n",
       "                       : 3635   1st Qu.:   0.0             : 3655  \n",
       " Danida                : 3114   Median : 369.0   Government: 1825  \n",
       " Hesawa                : 2202   Mean   : 668.3   RWE       : 1206  \n",
       " Rwssp                 : 1374   3rd Qu.:1319.2   Commu     : 1060  \n",
       " World Bank            : 1349   Max.   :2770.0   DANIDA    : 1050  \n",
       " (Other)               :38642                    (Other)   :33202  \n",
       "   longitude        latitude            wpt_name      num_private       \n",
       " Min.   : 0.00   Min.   :-11.649   none     : 3563   Min.   :   0.0000  \n",
       " 1st Qu.:33.09   1st Qu.: -8.541   Shuleni  : 1748   1st Qu.:   0.0000  \n",
       " Median :34.91   Median : -5.022   Zahanati :  830   Median :   0.0000  \n",
       " Mean   :34.08   Mean   : -5.706   Msikitini:  535   Mean   :   0.4741  \n",
       " 3rd Qu.:37.18   3rd Qu.: -3.326   Kanisani :  323   3rd Qu.:   0.0000  \n",
       " Max.   :40.35   Max.   :  0.000   Bombani  :  271   Max.   :1776.0000  \n",
       "                                   (Other)  :52130                      \n",
       "             basin          subvillage            region       region_code  \n",
       " Lake Victoria  :10248   Madukani:  508   Iringa     : 5294   Min.   : 1.0  \n",
       " Pangani        : 8940   Shuleni :  506   Shinyanga  : 4982   1st Qu.: 5.0  \n",
       " Rufiji         : 7976   Majengo :  502   Mbeya      : 4639   Median :12.0  \n",
       " Internal       : 7785   Kati    :  373   Kilimanjaro: 4379   Mean   :15.3  \n",
       " Lake Tanganyika: 6432           :  371   Morogoro   : 4006   3rd Qu.:17.0  \n",
       " Wami / Ruvu    : 5987   Mtakuja :  262   Arusha     : 3350   Max.   :99.0  \n",
       " (Other)        :12032   (Other) :56878   (Other)    :32750                 \n",
       " district_code             lga               ward         population     \n",
       " Min.   : 0.00   Njombe      : 2503   Igosi    :  307   Min.   :    0.0  \n",
       " 1st Qu.: 2.00   Arusha Rural: 1252   Imalinyi :  252   1st Qu.:    0.0  \n",
       " Median : 3.00   Moshi Rural : 1251   Siha Kati:  232   Median :   25.0  \n",
       " Mean   : 5.63   Bariadi     : 1177   Mdandu   :  231   Mean   :  179.9  \n",
       " 3rd Qu.: 5.00   Rungwe      : 1106   Nduruma  :  217   3rd Qu.:  215.0  \n",
       " Max.   :80.00   Kilosa      : 1094   Kitunda  :  203   Max.   :30500.0  \n",
       "                 (Other)     :51017   (Other)  :57958                    \n",
       " public_meeting                  recorded_by          scheme_management\n",
       "      : 3334    GeoData Consultants Ltd:59400   VWC            :36793  \n",
       " False: 5055                                    WUG            : 5206  \n",
       " True :51011                                                   : 3877  \n",
       "                                                Water authority: 3153  \n",
       "                                                WUA            : 2883  \n",
       "                                                Water Board    : 2748  \n",
       "                                                (Other)        : 4740  \n",
       "        scheme_name      permit      construction_year    extraction_type \n",
       "              :28166        : 3056   Min.   :   0      gravity    :26780  \n",
       " K            :  682   False:17492   1st Qu.:   0      nira/tanira: 8154  \n",
       " None         :  644   True :38852   Median :1986      other      : 6430  \n",
       " Borehole     :  546                 Mean   :1301      submersible: 4764  \n",
       " Chalinze wate:  405                 3rd Qu.:2004      swn 80     : 3670  \n",
       " M            :  400                 Max.   :2013      mono       : 2865  \n",
       " (Other)      :28557                                   (Other)    : 6737  \n",
       " extraction_type_group  extraction_type_class            management   \n",
       " gravity    :26780     gravity     :26780     vwc             :40507  \n",
       " nira/tanira: 8154     handpump    :16456     wug             : 6515  \n",
       " other      : 6430     motorpump   : 2987     water board     : 2933  \n",
       " submersible: 6179     other       : 6430     wua             : 2535  \n",
       " swn 80     : 3670     rope pump   :  451     private operator: 1971  \n",
       " mono       : 2865     submersible : 6179     parastatal      : 1768  \n",
       " (Other)    : 5322     wind-powered:  117     (Other)         : 3171  \n",
       "   management_group                  payment          payment_type  \n",
       " commercial: 3638   never pay            :25348   annually  : 3642  \n",
       " other     :  943   other                : 1054   monthly   : 8300  \n",
       " parastatal: 1768   pay annually         : 3642   never pay :25348  \n",
       " unknown   :  561   pay monthly          : 8300   on failure: 3914  \n",
       " user-group:52490   pay per bucket       : 8985   other     : 1054  \n",
       "                    pay when scheme fails: 3914   per bucket: 8985  \n",
       "                    unknown              : 8157   unknown   : 8157  \n",
       "         water_quality    quality_group           quantity    \n",
       " soft           :50818   colored :  490   dry         : 6246  \n",
       " salty          : 4856   fluoride:  217   enough      :33186  \n",
       " unknown        : 1876   good    :50818   insufficient:15129  \n",
       " milky          :  804   milky   :  804   seasonal    : 4050  \n",
       " coloured       :  490   salty   : 5195   unknown     :  789  \n",
       " salty abandoned:  339   unknown : 1876                       \n",
       " (Other)        :  217                                        \n",
       "      quantity_group                   source                    source_type   \n",
       " dry         : 6246   spring              :17021   borehole            :11949  \n",
       " enough      :33186   shallow well        :16824   dam                 :  656  \n",
       " insufficient:15129   machine dbh         :11075   other               :  278  \n",
       " seasonal    : 4050   river               : 9612   rainwater harvesting: 2295  \n",
       " unknown     :  789   rainwater harvesting: 2295   river/lake          :10377  \n",
       "                      hand dtw            :  874   shallow well        :16824  \n",
       "                      (Other)             : 1699   spring              :17021  \n",
       "      source_class                      waterpoint_type \n",
       " groundwater:45794   cattle trough              :  116  \n",
       " surface    :13328   communal standpipe         :28522  \n",
       " unknown    :  278   communal standpipe multiple: 6103  \n",
       "                     dam                        :    7  \n",
       "                     hand pump                  :17488  \n",
       "                     improved spring            :  784  \n",
       "                     other                      : 6380  \n",
       "        waterpoint_type_group\n",
       " cattle trough     :  116    \n",
       " communal standpipe:34625    \n",
       " dam               :    7    \n",
       " hand pump         :17488    \n",
       " improved spring   :  784    \n",
       " other             : 6380    \n",
       "                             "
      ]
     },
     "metadata": {},
     "output_type": "display_data"
    }
   ],
   "source": [
    "dim(X)\n",
    "head(X)\n",
    "summary(X)"
   ]
  },
  {
   "cell_type": "code",
   "execution_count": 4,
   "metadata": {
    "scrolled": true
   },
   "outputs": [
    {
     "data": {
      "text/html": [
       "<style>\n",
       ".list-inline {list-style: none; margin:0; padding: 0}\n",
       ".list-inline>li {display: inline-block}\n",
       ".list-inline>li:not(:last-child)::after {content: \"\\00b7\"; padding: 0 .5ex}\n",
       "</style>\n",
       "<ol class=list-inline><li>59400</li><li>2</li></ol>\n"
      ],
      "text/latex": [
       "\\begin{enumerate*}\n",
       "\\item 59400\n",
       "\\item 2\n",
       "\\end{enumerate*}\n"
      ],
      "text/markdown": [
       "1. 59400\n",
       "2. 2\n",
       "\n",
       "\n"
      ],
      "text/plain": [
       "[1] 59400     2"
      ]
     },
     "metadata": {},
     "output_type": "display_data"
    },
    {
     "data": {
      "text/html": [
       "<table class=\"dataframe\">\n",
       "<caption>A data.frame: 6 × 2</caption>\n",
       "<thead>\n",
       "\t<tr><th></th><th scope=col>id</th><th scope=col>status_group</th></tr>\n",
       "\t<tr><th></th><th scope=col>&lt;int&gt;</th><th scope=col>&lt;fct&gt;</th></tr>\n",
       "</thead>\n",
       "<tbody>\n",
       "\t<tr><th scope=row>1</th><td>69572</td><td>functional    </td></tr>\n",
       "\t<tr><th scope=row>2</th><td> 8776</td><td>functional    </td></tr>\n",
       "\t<tr><th scope=row>3</th><td>34310</td><td>functional    </td></tr>\n",
       "\t<tr><th scope=row>4</th><td>67743</td><td>non functional</td></tr>\n",
       "\t<tr><th scope=row>5</th><td>19728</td><td>functional    </td></tr>\n",
       "\t<tr><th scope=row>6</th><td> 9944</td><td>functional    </td></tr>\n",
       "</tbody>\n",
       "</table>\n"
      ],
      "text/latex": [
       "A data.frame: 6 × 2\n",
       "\\begin{tabular}{r|ll}\n",
       "  & id & status\\_group\\\\\n",
       "  & <int> & <fct>\\\\\n",
       "\\hline\n",
       "\t1 & 69572 & functional    \\\\\n",
       "\t2 &  8776 & functional    \\\\\n",
       "\t3 & 34310 & functional    \\\\\n",
       "\t4 & 67743 & non functional\\\\\n",
       "\t5 & 19728 & functional    \\\\\n",
       "\t6 &  9944 & functional    \\\\\n",
       "\\end{tabular}\n"
      ],
      "text/markdown": [
       "\n",
       "A data.frame: 6 × 2\n",
       "\n",
       "| <!--/--> | id &lt;int&gt; | status_group &lt;fct&gt; |\n",
       "|---|---|---|\n",
       "| 1 | 69572 | functional     |\n",
       "| 2 |  8776 | functional     |\n",
       "| 3 | 34310 | functional     |\n",
       "| 4 | 67743 | non functional |\n",
       "| 5 | 19728 | functional     |\n",
       "| 6 |  9944 | functional     |\n",
       "\n"
      ],
      "text/plain": [
       "  id    status_group  \n",
       "1 69572 functional    \n",
       "2  8776 functional    \n",
       "3 34310 functional    \n",
       "4 67743 non functional\n",
       "5 19728 functional    \n",
       "6  9944 functional    "
      ]
     },
     "metadata": {},
     "output_type": "display_data"
    },
    {
     "data": {
      "text/plain": [
       "       id                         status_group  \n",
       " Min.   :    0   functional             :32259  \n",
       " 1st Qu.:18520   functional needs repair: 4317  \n",
       " Median :37062   non functional         :22824  \n",
       " Mean   :37115                                  \n",
       " 3rd Qu.:55656                                  \n",
       " Max.   :74247                                  "
      ]
     },
     "metadata": {},
     "output_type": "display_data"
    }
   ],
   "source": [
    "dim(Y)\n",
    "head(Y)\n",
    "summary(Y)"
   ]
  },
  {
   "cell_type": "markdown",
   "metadata": {},
   "source": [
    "This histogram shows that there are large differences in terms of numbers of samples corresponding to each class. In particular, we see that there are very few samples falling in the category $functional needs repair$, which might be a problem because a model will have a lot of trouble predicting this class since the number of corresponding training samples is very low."
   ]
  },
  {
   "cell_type": "code",
   "execution_count": 2,
   "metadata": {},
   "outputs": [
    {
     "data": {
      "text/plain": [
       "[1] Functional : 32259"
      ]
     },
     "metadata": {},
     "output_type": "display_data"
    },
    {
     "data": {
      "text/plain": [
       "[1] Functional needs repair : 4317"
      ]
     },
     "metadata": {},
     "output_type": "display_data"
    },
    {
     "data": {
      "text/plain": [
       "[1] Non functional : 22824"
      ]
     },
     "metadata": {},
     "output_type": "display_data"
    },
    {
     "data": {
      "image/png": "[encoded data removed]",
      "text/plain": [
       "plot without title"
      ]
     },
     "metadata": {
      "image/png": {
       "height": 420,
       "width": 420
      }
     },
     "output_type": "display_data"
    }
   ],
   "source": [
    "noquote(paste(\"Functional :\",sum(Y$status_group==\"functional\")))\n",
    "noquote(paste(\"Functional needs repair :\",sum(Y$status_group==\"functional needs repair\")))\n",
    "noquote(paste(\"Non functional :\",sum(Y$status_group==\"non functional\")))\n",
    "\n",
    "barplot(table(Y))"
   ]
  },
  {
   "cell_type": "markdown",
   "metadata": {},
   "source": [
    "# Data preprocessing"
   ]
  },
  {
   "cell_type": "markdown",
   "metadata": {},
   "source": [
    "## Missing value imputation\n"
   ]
  },
  {
   "cell_type": "markdown",
   "metadata": {},
   "source": [
    "We check if there are any missing values in the dataset. The results show that no empty values are present in either dataset."
   ]
  },
  {
   "cell_type": "code",
   "execution_count": 6,
   "metadata": {},
   "outputs": [
    {
     "data": {
      "text/html": [
       "0"
      ],
      "text/latex": [
       "0"
      ],
      "text/markdown": [
       "0"
      ],
      "text/plain": [
       "[1] 0"
      ]
     },
     "metadata": {},
     "output_type": "display_data"
    },
    {
     "data": {
      "text/html": [
       "0"
      ],
      "text/latex": [
       "0"
      ],
      "text/markdown": [
       "0"
      ],
      "text/plain": [
       "[1] 0"
      ]
     },
     "metadata": {},
     "output_type": "display_data"
    }
   ],
   "source": [
    "sum(is.na(X))\n",
    "sum(is.na(Y))"
   ]
  },
  {
   "cell_type": "markdown",
   "metadata": {},
   "source": [
    "It is however important to note that this result does not look for empty strings in the categorical variables. Indeed, we saw previously in the summaries of the datasets that there were wome empty strings, for example for features $funder$, $installer$, $subvillage$, $scheme\\_management$,..."
   ]
  },
  {
   "cell_type": "markdown",
   "metadata": {},
   "source": [
    "It is also important to check that all entries in X have a corresponding entry in Y. To do so, we merge the 2 datasets X and Y based on their common feature $id$ and check the dimension of the resulting dataset. As expected, the merged dataset has 59400 entries and 41 features, which means that for all samples in X there exists a corresponding sample in Y."
   ]
  },
  {
   "cell_type": "code",
   "execution_count": 2,
   "metadata": {},
   "outputs": [
    {
     "data": {
      "text/html": [
       "<style>\n",
       ".list-inline {list-style: none; margin:0; padding: 0}\n",
       ".list-inline>li {display: inline-block}\n",
       ".list-inline>li:not(:last-child)::after {content: \"\\00b7\"; padding: 0 .5ex}\n",
       "</style>\n",
       "<ol class=list-inline><li>59400</li><li>41</li></ol>\n"
      ],
      "text/latex": [
       "\\begin{enumerate*}\n",
       "\\item 59400\n",
       "\\item 41\n",
       "\\end{enumerate*}\n"
      ],
      "text/markdown": [
       "1. 59400\n",
       "2. 41\n",
       "\n",
       "\n"
      ],
      "text/plain": [
       "[1] 59400    41"
      ]
     },
     "metadata": {},
     "output_type": "display_data"
    },
    {
     "data": {
      "text/html": [
       "<table class=\"dataframe\">\n",
       "<caption>A data.frame: 6 × 41</caption>\n",
       "<thead>\n",
       "\t<tr><th></th><th scope=col>id</th><th scope=col>amount_tsh</th><th scope=col>date_recorded</th><th scope=col>funder</th><th scope=col>gps_height</th><th scope=col>installer</th><th scope=col>longitude</th><th scope=col>latitude</th><th scope=col>wpt_name</th><th scope=col>num_private</th><th scope=col>⋯</th><th scope=col>water_quality</th><th scope=col>quality_group</th><th scope=col>quantity</th><th scope=col>quantity_group</th><th scope=col>source</th><th scope=col>source_type</th><th scope=col>source_class</th><th scope=col>waterpoint_type</th><th scope=col>waterpoint_type_group</th><th scope=col>status_group</th></tr>\n",
       "\t<tr><th></th><th scope=col>&lt;int&gt;</th><th scope=col>&lt;dbl&gt;</th><th scope=col>&lt;fct&gt;</th><th scope=col>&lt;fct&gt;</th><th scope=col>&lt;int&gt;</th><th scope=col>&lt;fct&gt;</th><th scope=col>&lt;dbl&gt;</th><th scope=col>&lt;dbl&gt;</th><th scope=col>&lt;fct&gt;</th><th scope=col>&lt;int&gt;</th><th scope=col>⋯</th><th scope=col>&lt;fct&gt;</th><th scope=col>&lt;fct&gt;</th><th scope=col>&lt;fct&gt;</th><th scope=col>&lt;fct&gt;</th><th scope=col>&lt;fct&gt;</th><th scope=col>&lt;fct&gt;</th><th scope=col>&lt;fct&gt;</th><th scope=col>&lt;fct&gt;</th><th scope=col>&lt;fct&gt;</th><th scope=col>&lt;fct&gt;</th></tr>\n",
       "</thead>\n",
       "<tbody>\n",
       "\t<tr><th scope=row>1</th><td>0</td><td> 0</td><td>2012-11-13</td><td>Tasaf          </td><td>   0</td><td>TASAF  </td><td>33.12583</td><td>-5.118154</td><td>Mratibu       </td><td>0</td><td>⋯</td><td>milky</td><td>milky</td><td>enough      </td><td>enough      </td><td>shallow well</td><td>shallow well</td><td>groundwater</td><td>hand pump                  </td><td>hand pump         </td><td>non functional</td></tr>\n",
       "\t<tr><th scope=row>2</th><td>1</td><td> 0</td><td>2011-03-05</td><td>Shipo          </td><td>1978</td><td>SHIPO  </td><td>34.77072</td><td>-9.395642</td><td>none          </td><td>0</td><td>⋯</td><td>soft </td><td>good </td><td>enough      </td><td>enough      </td><td>shallow well</td><td>shallow well</td><td>groundwater</td><td>hand pump                  </td><td>hand pump         </td><td>functional    </td></tr>\n",
       "\t<tr><th scope=row>3</th><td>2</td><td> 0</td><td>2011-03-27</td><td>Lvia           </td><td>   0</td><td>LVIA   </td><td>36.11506</td><td>-6.279268</td><td>Bombani       </td><td>0</td><td>⋯</td><td>soft </td><td>good </td><td>insufficient</td><td>insufficient</td><td>machine dbh </td><td>borehole    </td><td>groundwater</td><td>communal standpipe multiple</td><td>communal standpipe</td><td>functional    </td></tr>\n",
       "\t<tr><th scope=row>4</th><td>3</td><td>10</td><td>2013-06-03</td><td>Germany Republi</td><td>1639</td><td>CES    </td><td>37.14743</td><td>-3.187555</td><td>Area 7 Namba 5</td><td>0</td><td>⋯</td><td>soft </td><td>good </td><td>enough      </td><td>enough      </td><td>spring      </td><td>spring      </td><td>groundwater</td><td>communal standpipe         </td><td>communal standpipe</td><td>functional    </td></tr>\n",
       "\t<tr><th scope=row>5</th><td>4</td><td> 0</td><td>2011-03-22</td><td>Cmsr           </td><td>   0</td><td>CMSR   </td><td>36.16489</td><td>-6.099289</td><td>Ezeleda       </td><td>0</td><td>⋯</td><td>soft </td><td>good </td><td>dry         </td><td>dry         </td><td>shallow well</td><td>shallow well</td><td>groundwater</td><td>hand pump                  </td><td>hand pump         </td><td>non functional</td></tr>\n",
       "\t<tr><th scope=row>6</th><td>5</td><td>50</td><td>2011-02-26</td><td>Private        </td><td>  28</td><td>Private</td><td>39.28612</td><td>-6.972403</td><td>Kwa Namaj     </td><td>0</td><td>⋯</td><td>soft </td><td>good </td><td>enough      </td><td>enough      </td><td>machine dbh </td><td>borehole    </td><td>groundwater</td><td>communal standpipe multiple</td><td>communal standpipe</td><td>functional    </td></tr>\n",
       "</tbody>\n",
       "</table>\n"
      ],
      "text/latex": [
       "A data.frame: 6 × 41\n",
       "\\begin{tabular}{r|lllllllllllllllllllll}\n",
       "  & id & amount\\_tsh & date\\_recorded & funder & gps\\_height & installer & longitude & latitude & wpt\\_name & num\\_private & ⋯ & water\\_quality & quality\\_group & quantity & quantity\\_group & source & source\\_type & source\\_class & waterpoint\\_type & waterpoint\\_type\\_group & status\\_group\\\\\n",
       "  & <int> & <dbl> & <fct> & <fct> & <int> & <fct> & <dbl> & <dbl> & <fct> & <int> & ⋯ & <fct> & <fct> & <fct> & <fct> & <fct> & <fct> & <fct> & <fct> & <fct> & <fct>\\\\\n",
       "\\hline\n",
       "\t1 & 0 &  0 & 2012-11-13 & Tasaf           &    0 & TASAF   & 33.12583 & -5.118154 & Mratibu        & 0 & ⋯ & milky & milky & enough       & enough       & shallow well & shallow well & groundwater & hand pump                   & hand pump          & non functional\\\\\n",
       "\t2 & 1 &  0 & 2011-03-05 & Shipo           & 1978 & SHIPO   & 34.77072 & -9.395642 & none           & 0 & ⋯ & soft  & good  & enough       & enough       & shallow well & shallow well & groundwater & hand pump                   & hand pump          & functional    \\\\\n",
       "\t3 & 2 &  0 & 2011-03-27 & Lvia            &    0 & LVIA    & 36.11506 & -6.279268 & Bombani        & 0 & ⋯ & soft  & good  & insufficient & insufficient & machine dbh  & borehole     & groundwater & communal standpipe multiple & communal standpipe & functional    \\\\\n",
       "\t4 & 3 & 10 & 2013-06-03 & Germany Republi & 1639 & CES     & 37.14743 & -3.187555 & Area 7 Namba 5 & 0 & ⋯ & soft  & good  & enough       & enough       & spring       & spring       & groundwater & communal standpipe          & communal standpipe & functional    \\\\\n",
       "\t5 & 4 &  0 & 2011-03-22 & Cmsr            &    0 & CMSR    & 36.16489 & -6.099289 & Ezeleda        & 0 & ⋯ & soft  & good  & dry          & dry          & shallow well & shallow well & groundwater & hand pump                   & hand pump          & non functional\\\\\n",
       "\t6 & 5 & 50 & 2011-02-26 & Private         &   28 & Private & 39.28612 & -6.972403 & Kwa Namaj      & 0 & ⋯ & soft  & good  & enough       & enough       & machine dbh  & borehole     & groundwater & communal standpipe multiple & communal standpipe & functional    \\\\\n",
       "\\end{tabular}\n"
      ],
      "text/markdown": [
       "\n",
       "A data.frame: 6 × 41\n",
       "\n",
       "| <!--/--> | id &lt;int&gt; | amount_tsh &lt;dbl&gt; | date_recorded &lt;fct&gt; | funder &lt;fct&gt; | gps_height &lt;int&gt; | installer &lt;fct&gt; | longitude &lt;dbl&gt; | latitude &lt;dbl&gt; | wpt_name &lt;fct&gt; | num_private &lt;int&gt; | ⋯ ⋯ | water_quality &lt;fct&gt; | quality_group &lt;fct&gt; | quantity &lt;fct&gt; | quantity_group &lt;fct&gt; | source &lt;fct&gt; | source_type &lt;fct&gt; | source_class &lt;fct&gt; | waterpoint_type &lt;fct&gt; | waterpoint_type_group &lt;fct&gt; | status_group &lt;fct&gt; |\n",
       "|---|---|---|---|---|---|---|---|---|---|---|---|---|---|---|---|---|---|---|---|---|---|\n",
       "| 1 | 0 |  0 | 2012-11-13 | Tasaf           |    0 | TASAF   | 33.12583 | -5.118154 | Mratibu        | 0 | ⋯ | milky | milky | enough       | enough       | shallow well | shallow well | groundwater | hand pump                   | hand pump          | non functional |\n",
       "| 2 | 1 |  0 | 2011-03-05 | Shipo           | 1978 | SHIPO   | 34.77072 | -9.395642 | none           | 0 | ⋯ | soft  | good  | enough       | enough       | shallow well | shallow well | groundwater | hand pump                   | hand pump          | functional     |\n",
       "| 3 | 2 |  0 | 2011-03-27 | Lvia            |    0 | LVIA    | 36.11506 | -6.279268 | Bombani        | 0 | ⋯ | soft  | good  | insufficient | insufficient | machine dbh  | borehole     | groundwater | communal standpipe multiple | communal standpipe | functional     |\n",
       "| 4 | 3 | 10 | 2013-06-03 | Germany Republi | 1639 | CES     | 37.14743 | -3.187555 | Area 7 Namba 5 | 0 | ⋯ | soft  | good  | enough       | enough       | spring       | spring       | groundwater | communal standpipe          | communal standpipe | functional     |\n",
       "| 5 | 4 |  0 | 2011-03-22 | Cmsr            |    0 | CMSR    | 36.16489 | -6.099289 | Ezeleda        | 0 | ⋯ | soft  | good  | dry          | dry          | shallow well | shallow well | groundwater | hand pump                   | hand pump          | non functional |\n",
       "| 6 | 5 | 50 | 2011-02-26 | Private         |   28 | Private | 39.28612 | -6.972403 | Kwa Namaj      | 0 | ⋯ | soft  | good  | enough       | enough       | machine dbh  | borehole     | groundwater | communal standpipe multiple | communal standpipe | functional     |\n",
       "\n"
      ],
      "text/plain": [
       "  id amount_tsh date_recorded funder          gps_height installer longitude\n",
       "1 0   0         2012-11-13    Tasaf              0       TASAF     33.12583 \n",
       "2 1   0         2011-03-05    Shipo           1978       SHIPO     34.77072 \n",
       "3 2   0         2011-03-27    Lvia               0       LVIA      36.11506 \n",
       "4 3  10         2013-06-03    Germany Republi 1639       CES       37.14743 \n",
       "5 4   0         2011-03-22    Cmsr               0       CMSR      36.16489 \n",
       "6 5  50         2011-02-26    Private           28       Private   39.28612 \n",
       "  latitude  wpt_name       num_private ⋯ water_quality quality_group\n",
       "1 -5.118154 Mratibu        0           ⋯ milky         milky        \n",
       "2 -9.395642 none           0           ⋯ soft          good         \n",
       "3 -6.279268 Bombani        0           ⋯ soft          good         \n",
       "4 -3.187555 Area 7 Namba 5 0           ⋯ soft          good         \n",
       "5 -6.099289 Ezeleda        0           ⋯ soft          good         \n",
       "6 -6.972403 Kwa Namaj      0           ⋯ soft          good         \n",
       "  quantity     quantity_group source       source_type  source_class\n",
       "1 enough       enough         shallow well shallow well groundwater \n",
       "2 enough       enough         shallow well shallow well groundwater \n",
       "3 insufficient insufficient   machine dbh  borehole     groundwater \n",
       "4 enough       enough         spring       spring       groundwater \n",
       "5 dry          dry            shallow well shallow well groundwater \n",
       "6 enough       enough         machine dbh  borehole     groundwater \n",
       "  waterpoint_type             waterpoint_type_group status_group  \n",
       "1 hand pump                   hand pump             non functional\n",
       "2 hand pump                   hand pump             functional    \n",
       "3 communal standpipe multiple communal standpipe    functional    \n",
       "4 communal standpipe          communal standpipe    functional    \n",
       "5 hand pump                   hand pump             non functional\n",
       "6 communal standpipe multiple communal standpipe    functional    "
      ]
     },
     "metadata": {},
     "output_type": "display_data"
    }
   ],
   "source": [
    "merged <- merge(X,Y)\n",
    "dim(merged)\n",
    "head(merged)"
   ]
  },
  {
   "cell_type": "markdown",
   "metadata": {},
   "source": [
    "## Handle categorical variables"
   ]
  },
  {
   "cell_type": "markdown",
   "metadata": {},
   "source": [
    "All the categorical variables present in the merged dataset are presented below."
   ]
  },
  {
   "cell_type": "code",
   "execution_count": 3,
   "metadata": {},
   "outputs": [
    {
     "data": {
      "text/html": [
       "<style>\n",
       ".dl-inline {width: auto; margin:0; padding: 0}\n",
       ".dl-inline>dt, .dl-inline>dd {float: none; width: auto; display: inline-block}\n",
       ".dl-inline>dt::after {content: \":\\0020\"; padding-right: .5ex}\n",
       ".dl-inline>dt:not(:first-of-type) {padding-left: .5ex}\n",
       "</style><dl class=dl-inline><dt>date_recorded</dt><dd>3</dd><dt>funder</dt><dd>4</dd><dt>installer</dt><dd>6</dd><dt>wpt_name</dt><dd>9</dd><dt>basin</dt><dd>11</dd><dt>subvillage</dt><dd>12</dd><dt>region</dt><dd>13</dd><dt>lga</dt><dd>16</dd><dt>ward</dt><dd>17</dd><dt>public_meeting</dt><dd>19</dd><dt>recorded_by</dt><dd>20</dd><dt>scheme_management</dt><dd>21</dd><dt>scheme_name</dt><dd>22</dd><dt>permit</dt><dd>23</dd><dt>extraction_type</dt><dd>25</dd><dt>extraction_type_group</dt><dd>26</dd><dt>extraction_type_class</dt><dd>27</dd><dt>management</dt><dd>28</dd><dt>management_group</dt><dd>29</dd><dt>payment</dt><dd>30</dd><dt>payment_type</dt><dd>31</dd><dt>water_quality</dt><dd>32</dd><dt>quality_group</dt><dd>33</dd><dt>quantity</dt><dd>34</dd><dt>quantity_group</dt><dd>35</dd><dt>source</dt><dd>36</dd><dt>source_type</dt><dd>37</dd><dt>source_class</dt><dd>38</dd><dt>waterpoint_type</dt><dd>39</dd><dt>waterpoint_type_group</dt><dd>40</dd><dt>status_group</dt><dd>41</dd></dl>\n"
      ],
      "text/latex": [
       "\\begin{description*}\n",
       "\\item[date\\textbackslash{}\\_recorded] 3\n",
       "\\item[funder] 4\n",
       "\\item[installer] 6\n",
       "\\item[wpt\\textbackslash{}\\_name] 9\n",
       "\\item[basin] 11\n",
       "\\item[subvillage] 12\n",
       "\\item[region] 13\n",
       "\\item[lga] 16\n",
       "\\item[ward] 17\n",
       "\\item[public\\textbackslash{}\\_meeting] 19\n",
       "\\item[recorded\\textbackslash{}\\_by] 20\n",
       "\\item[scheme\\textbackslash{}\\_management] 21\n",
       "\\item[scheme\\textbackslash{}\\_name] 22\n",
       "\\item[permit] 23\n",
       "\\item[extraction\\textbackslash{}\\_type] 25\n",
       "\\item[extraction\\textbackslash{}\\_type\\textbackslash{}\\_group] 26\n",
       "\\item[extraction\\textbackslash{}\\_type\\textbackslash{}\\_class] 27\n",
       "\\item[management] 28\n",
       "\\item[management\\textbackslash{}\\_group] 29\n",
       "\\item[payment] 30\n",
       "\\item[payment\\textbackslash{}\\_type] 31\n",
       "\\item[water\\textbackslash{}\\_quality] 32\n",
       "\\item[quality\\textbackslash{}\\_group] 33\n",
       "\\item[quantity] 34\n",
       "\\item[quantity\\textbackslash{}\\_group] 35\n",
       "\\item[source] 36\n",
       "\\item[source\\textbackslash{}\\_type] 37\n",
       "\\item[source\\textbackslash{}\\_class] 38\n",
       "\\item[waterpoint\\textbackslash{}\\_type] 39\n",
       "\\item[waterpoint\\textbackslash{}\\_type\\textbackslash{}\\_group] 40\n",
       "\\item[status\\textbackslash{}\\_group] 41\n",
       "\\end{description*}\n"
      ],
      "text/markdown": [
       "date_recorded\n",
       ":   3funder\n",
       ":   4installer\n",
       ":   6wpt_name\n",
       ":   9basin\n",
       ":   11subvillage\n",
       ":   12region\n",
       ":   13lga\n",
       ":   16ward\n",
       ":   17public_meeting\n",
       ":   19recorded_by\n",
       ":   20scheme_management\n",
       ":   21scheme_name\n",
       ":   22permit\n",
       ":   23extraction_type\n",
       ":   25extraction_type_group\n",
       ":   26extraction_type_class\n",
       ":   27management\n",
       ":   28management_group\n",
       ":   29payment\n",
       ":   30payment_type\n",
       ":   31water_quality\n",
       ":   32quality_group\n",
       ":   33quantity\n",
       ":   34quantity_group\n",
       ":   35source\n",
       ":   36source_type\n",
       ":   37source_class\n",
       ":   38waterpoint_type\n",
       ":   39waterpoint_type_group\n",
       ":   40status_group\n",
       ":   41\n",
       "\n"
      ],
      "text/plain": [
       "        date_recorded                funder             installer \n",
       "                    3                     4                     6 \n",
       "             wpt_name                 basin            subvillage \n",
       "                    9                    11                    12 \n",
       "               region                   lga                  ward \n",
       "                   13                    16                    17 \n",
       "       public_meeting           recorded_by     scheme_management \n",
       "                   19                    20                    21 \n",
       "          scheme_name                permit       extraction_type \n",
       "                   22                    23                    25 \n",
       "extraction_type_group extraction_type_class            management \n",
       "                   26                    27                    28 \n",
       "     management_group               payment          payment_type \n",
       "                   29                    30                    31 \n",
       "        water_quality         quality_group              quantity \n",
       "                   32                    33                    34 \n",
       "       quantity_group                source           source_type \n",
       "                   35                    36                    37 \n",
       "         source_class       waterpoint_type waterpoint_type_group \n",
       "                   38                    39                    40 \n",
       "         status_group \n",
       "                   41 "
      ]
     },
     "metadata": {},
     "output_type": "display_data"
    }
   ],
   "source": [
    "categorical_variables <- which(sapply(merged[1,],class)==\"factor\")\n",
    "categorical_variables"
   ]
  },
  {
   "cell_type": "code",
   "execution_count": 9,
   "metadata": {},
   "outputs": [
    {
     "name": "stdout",
     "output_type": "stream",
     "text": [
      "\n",
      "The downloaded binary packages are in\n",
      "\t/var/folders/5s/m318ng1j19dd_3kmbrnrg9vh0000gn/T//RtmpXr7jqU/downloaded_packages\n"
     ]
    },
    {
     "name": "stderr",
     "output_type": "stream",
     "text": [
      "dummies-1.5.6 provided by Decision Patterns\n",
      "\n",
      "\n"
     ]
    }
   ],
   "source": [
    "install.packages('dummies')\n",
    "library(dummies)"
   ]
  },
  {
   "cell_type": "code",
   "execution_count": 18,
   "metadata": {},
   "outputs": [],
   "source": [
    "#data <- dummy.data.frame(merged, names=c(\"status_group\"), sep=\"_\")\n",
    "#head(data)\n",
    "data <- merged"
   ]
  },
  {
   "cell_type": "code",
   "execution_count": 6,
   "metadata": {},
   "outputs": [
    {
     "data": {
      "text/html": [
       "<style>\n",
       ".list-inline {list-style: none; margin:0; padding: 0}\n",
       ".list-inline>li {display: inline-block}\n",
       ".list-inline>li:not(:last-child)::after {content: \"\\00b7\"; padding: 0 .5ex}\n",
       "</style>\n",
       "<ol class=list-inline><li>59400</li><li>41</li></ol>\n"
      ],
      "text/latex": [
       "\\begin{enumerate*}\n",
       "\\item 59400\n",
       "\\item 41\n",
       "\\end{enumerate*}\n"
      ],
      "text/markdown": [
       "1. 59400\n",
       "2. 41\n",
       "\n",
       "\n"
      ],
      "text/plain": [
       "[1] 59400    41"
      ]
     },
     "metadata": {},
     "output_type": "display_data"
    }
   ],
   "source": [
    "options(repr.matrix.max.cols=50)\n",
    "colnames(data) <- gsub(colnames(data),pattern = \" \", replacement = \"_\")\n",
    "dim(data)"
   ]
  },
  {
   "cell_type": "markdown",
   "metadata": {},
   "source": [
    "## Feature engineering"
   ]
  },
  {
   "cell_type": "markdown",
   "metadata": {},
   "source": [
    "## Feature selection"
   ]
  },
  {
   "cell_type": "markdown",
   "metadata": {},
   "source": [
    "# Model selection"
   ]
  },
  {
   "cell_type": "markdown",
   "metadata": {},
   "source": [
    "## Model 1\n"
   ]
  },
  {
   "cell_type": "code",
   "execution_count": 7,
   "metadata": {},
   "outputs": [],
   "source": [
    "library(\"rpart\")"
   ]
  },
  {
   "cell_type": "code",
   "execution_count": 19,
   "metadata": {},
   "outputs": [
    {
     "data": {
      "text/html": [
       "<table class=\"dataframe\">\n",
       "<caption>A data.frame: 6 × 3</caption>\n",
       "<thead>\n",
       "\t<tr><th></th><th scope=col>amount_tsh</th><th scope=col>gps_height</th><th scope=col>status_group</th></tr>\n",
       "\t<tr><th></th><th scope=col>&lt;dbl&gt;</th><th scope=col>&lt;int&gt;</th><th scope=col>&lt;fct&gt;</th></tr>\n",
       "</thead>\n",
       "<tbody>\n",
       "\t<tr><th scope=row>1</th><td> 0</td><td>   0</td><td>non functional</td></tr>\n",
       "\t<tr><th scope=row>2</th><td> 0</td><td>1978</td><td>functional    </td></tr>\n",
       "\t<tr><th scope=row>3</th><td> 0</td><td>   0</td><td>functional    </td></tr>\n",
       "\t<tr><th scope=row>4</th><td>10</td><td>1639</td><td>functional    </td></tr>\n",
       "\t<tr><th scope=row>5</th><td> 0</td><td>   0</td><td>non functional</td></tr>\n",
       "\t<tr><th scope=row>6</th><td>50</td><td>  28</td><td>functional    </td></tr>\n",
       "</tbody>\n",
       "</table>\n"
      ],
      "text/latex": [
       "A data.frame: 6 × 3\n",
       "\\begin{tabular}{r|lll}\n",
       "  & amount\\_tsh & gps\\_height & status\\_group\\\\\n",
       "  & <dbl> & <int> & <fct>\\\\\n",
       "\\hline\n",
       "\t1 &  0 &    0 & non functional\\\\\n",
       "\t2 &  0 & 1978 & functional    \\\\\n",
       "\t3 &  0 &    0 & functional    \\\\\n",
       "\t4 & 10 & 1639 & functional    \\\\\n",
       "\t5 &  0 &    0 & non functional\\\\\n",
       "\t6 & 50 &   28 & functional    \\\\\n",
       "\\end{tabular}\n"
      ],
      "text/markdown": [
       "\n",
       "A data.frame: 6 × 3\n",
       "\n",
       "| <!--/--> | amount_tsh &lt;dbl&gt; | gps_height &lt;int&gt; | status_group &lt;fct&gt; |\n",
       "|---|---|---|---|\n",
       "| 1 |  0 |    0 | non functional |\n",
       "| 2 |  0 | 1978 | functional     |\n",
       "| 3 |  0 |    0 | functional     |\n",
       "| 4 | 10 | 1639 | functional     |\n",
       "| 5 |  0 |    0 | non functional |\n",
       "| 6 | 50 |   28 | functional     |\n",
       "\n"
      ],
      "text/plain": [
       "  amount_tsh gps_height status_group  \n",
       "1  0            0       non functional\n",
       "2  0         1978       functional    \n",
       "3  0            0       functional    \n",
       "4 10         1639       functional    \n",
       "5  0            0       non functional\n",
       "6 50           28       functional    "
      ]
     },
     "metadata": {},
     "output_type": "display_data"
    },
    {
     "data": {
      "text/html": [
       "<style>\n",
       ".list-inline {list-style: none; margin:0; padding: 0}\n",
       ".list-inline>li {display: inline-block}\n",
       ".list-inline>li:not(:last-child)::after {content: \"\\00b7\"; padding: 0 .5ex}\n",
       "</style>\n",
       "<ol class=list-inline><li>500</li><li>3</li></ol>\n"
      ],
      "text/latex": [
       "\\begin{enumerate*}\n",
       "\\item 500\n",
       "\\item 3\n",
       "\\end{enumerate*}\n"
      ],
      "text/markdown": [
       "1. 500\n",
       "2. 3\n",
       "\n",
       "\n"
      ],
      "text/plain": [
       "[1] 500   3"
      ]
     },
     "metadata": {},
     "output_type": "display_data"
    }
   ],
   "source": [
    "n_trees <- 1\n",
    "features_per_tree <- 2\n",
    "data <- data[1:500,c(2,5,41)]\n",
    "head(data)\n",
    "\n",
    "#Shuffle the samples\n",
    "data_idx <- sample(1:nrow(data))\n",
    "half_split <- floor(nrow(data)/2)\n",
    "target_variable <- ncol(data)\n",
    "\n",
    "dim(data)\n"
   ]
  },
  {
   "cell_type": "code",
   "execution_count": null,
   "metadata": {},
   "outputs": [],
   "source": [
    "Y_trees <- numeric()\n",
    "\n",
    "for(i in 1:n_trees){\n",
    "    #3.1 Sample the features\n",
    "    selected_features <- sample(1:(ncol(data)-1),features_per_tree)\n",
    "    \n",
    "    #3.2 Take the group as a hold out or train data set with bootstrap for each tree\n",
    "    bootstrap_idx <- sample(1:half_split,replace = T)\n",
    "    train_data <- data[data_idx[bootstrap_idx],c(selected_features,target_variable)]\n",
    "    print(head(train_data))\n",
    "    #3.3 Take the remaining groups as a test data set\n",
    "    test_data <- data[data_idx[(half_split+1):nrow(data)],c(selected_features,target_variable)]\n",
    "    print(paste(\"[INFO] - Training set size:\",dim(train_data)[1],\"- Testing set size\",dim(test_data)[1]))\n",
    "    \n",
    "    #3.4 Fit a model on the training set and evaluate it on the test set\n",
    "    model <- rpart(status_group ~ ., method=\"class\",data=train_data)\n",
    "    Y_pred <- predict(model,subset(test_data, select=-c(target_variable)))\n",
    "    #print(Y_pred)\n",
    "    #3.5 Store the prediction of each tree (2 is to take only the P(Y=\"spam\"|x))\n",
    "    Y_trees <- cbind(Y_trees,Y_pred[,2])\n",
    "}\n"
   ]
  },
  {
   "cell_type": "code",
   "execution_count": null,
   "metadata": {
    "scrolled": true
   },
   "outputs": [],
   "source": [
    "# Calculate the ensemble prediction\n",
    "Y_hat <- apply(Y_trees,1,mean)\n",
    "#Y_hat <- ifelse(Y_hat > threshold,\"spam\",\"nonspam\") \n",
    "\n",
    "# Evaluate the predictions\n",
    "#Y <- test_data[,\"type\"]\n",
    "#confusion_matrix <- table(Y_hat,Y)\n",
    "#confusion_matrix\n",
    "\n",
    "#accuracy = (confusion_matrix[1,1]+confusion_matrix[2,2])/sum(confusion_matrix)\n",
    "#misclassification_rate = 1 - accuracy\n",
    "#misclassification_rate"
   ]
  },
  {
   "cell_type": "markdown",
   "metadata": {},
   "source": [
    "## Model 2\n"
   ]
  },
  {
   "cell_type": "code",
   "execution_count": 20,
   "metadata": {},
   "outputs": [
    {
     "data": {
      "text/html": [
       "<style>\n",
       ".list-inline {list-style: none; margin:0; padding: 0}\n",
       ".list-inline>li {display: inline-block}\n",
       ".list-inline>li:not(:last-child)::after {content: \"\\00b7\"; padding: 0 .5ex}\n",
       "</style>\n",
       "<ol class=list-inline><li>500</li><li>3</li></ol>\n"
      ],
      "text/latex": [
       "\\begin{enumerate*}\n",
       "\\item 500\n",
       "\\item 3\n",
       "\\end{enumerate*}\n"
      ],
      "text/markdown": [
       "1. 500\n",
       "2. 3\n",
       "\n",
       "\n"
      ],
      "text/plain": [
       "[1] 500   3"
      ]
     },
     "metadata": {},
     "output_type": "display_data"
    },
    {
     "name": "stdout",
     "output_type": "stream",
     "text": [
      "                        functional functional needs repair non functional\n",
      "functional                     105                       3             28\n",
      "functional needs repair         14                       2              4\n",
      "non functional                  51                       5             38\n",
      "                        class.error\n",
      "functional                0.2279412\n",
      "functional needs repair   0.9000000\n",
      "non functional            0.5957447\n",
      "                        functional functional needs repair non functional\n",
      "functional                      83                       7             46\n",
      "functional needs repair         13                       2              5\n",
      "non functional                  47                       4             43\n",
      "                        class.error\n",
      "functional                0.3897059\n",
      "functional needs repair   0.9000000\n",
      "non functional            0.5425532\n",
      "                        functional functional needs repair non functional\n",
      "functional                     128                       1              7\n",
      "functional needs repair         20                       0              0\n",
      "non functional                  88                       1              5\n",
      "                        class.error\n",
      "functional               0.05882353\n",
      "functional needs repair  1.00000000\n",
      "non functional           0.94680851\n"
     ]
    },
    {
     "data": {
      "text/html": [
       "<style>\n",
       ".list-inline {list-style: none; margin:0; padding: 0}\n",
       ".list-inline>li {display: inline-block}\n",
       ".list-inline>li:not(:last-child)::after {content: \"\\00b7\"; padding: 0 .5ex}\n",
       "</style>\n",
       "<ol class=list-inline><li>0.576028431755074</li><li>0.508274835284179</li><li>0.527765982543053</li></ol>\n"
      ],
      "text/latex": [
       "\\begin{enumerate*}\n",
       "\\item 0.576028431755074\n",
       "\\item 0.508274835284179\n",
       "\\item 0.527765982543053\n",
       "\\end{enumerate*}\n"
      ],
      "text/markdown": [
       "1. 0.576028431755074\n",
       "2. 0.508274835284179\n",
       "3. 0.527765982543053\n",
       "\n",
       "\n"
      ],
      "text/plain": [
       "[1] 0.5760284 0.5082748 0.5277660"
      ]
     },
     "metadata": {},
     "output_type": "display_data"
    }
   ],
   "source": [
    "library(\"randomForest\")\n",
    "n_trees <- 3\n",
    "accuracy_vec <- array(0,n_trees)\n",
    "#data <- data[1:500,c(2,3,41)]\n",
    "dim(data)\n",
    "data_idx <- sample(1:nrow(data))\n",
    "half_split <- floor(nrow(data)/2)\n",
    "target_variable <- ncol(data)\n",
    "\n",
    "for (i in 1:n_trees){ #print(i)\n",
    "    #3.1 Take the first half of the dataset as a training data set\n",
    "    train_data <- data[data_idx[1:half_split],]\n",
    "\n",
    "    #3.2 Take the second half of the dataset as a hold out or test data set\n",
    "    test_data <- data[data_idx[(half_split+1):nrow(data)],]\n",
    "    \n",
    "    model <- randomForest(x=train_data[,-c(target_variable)],\n",
    "                          y=as.factor(train_data[,c(target_variable)]),\n",
    "                          xtest=test_data[,-c(target_variable)],\n",
    "                          ytest=as.factor(test_data[,c(target_variable)]),\n",
    "                          ntree=i)\n",
    "    print(model$test$confusion)\n",
    "    accuracy_vec[i] = (model$test$confusion[1,1]+model$test$confusion[2,2]+model$test$confusion[3,3])/sum(model$test$confusion)\n",
    "}\n",
    "\n",
    "accuracy_vec\n",
    "\n",
    "#plot(accuracy_vec,main = \"Number of trees influence\",xlab = \"Nbr of trees\",ylab = \"Classification rate\")"
   ]
  },
  {
   "cell_type": "markdown",
   "metadata": {},
   "source": [
    "## Model 3\n",
    "\n",
    "#### Example of simple equation\n",
    "\\begin{equation}\n",
    "e = mc^2\n",
    "\\end{equation}\n",
    "\n",
    "#### Example of matrix equation - Cross product formula:\n",
    "\n",
    "\\begin{equation*}\n",
    "\\mathbf{V}_1 \\times \\mathbf{V}_2 =  \\begin{vmatrix}\n",
    "\\mathbf{i} & \\mathbf{j} & \\mathbf{k} \\\\\n",
    "\\frac{\\partial X}{\\partial u} &  \\frac{\\partial Y}{\\partial u} & 0 \\\\\n",
    "\\frac{\\partial X}{\\partial v} &  \\frac{\\partial Y}{\\partial v} & 0\n",
    "\\end{vmatrix}\n",
    "\\end{equation*}\n",
    "\n",
    "#### Example of multiline equation - The Lorenz Equations:\n",
    "\n",
    "\\begin{align}\n",
    "\\dot{x} & = \\sigma(y-x) \\\\\n",
    "\\dot{y} & = \\rho x - y - xz \\\\\n",
    "\\dot{z} & = -\\beta z + xy\n",
    "\\end{align}\n",
    "\n",
    "#### Example of Markdown Table:\n",
    "\n",
    "| This | is   |\n",
    "|------|------|\n",
    "|   a  | table|\n"
   ]
  },
  {
   "cell_type": "markdown",
   "metadata": {},
   "source": [
    "# Alternative models\n",
    "\n",
    "\n",
    "\n"
   ]
  },
  {
   "cell_type": "markdown",
   "metadata": {},
   "source": [
    "# Conclusions"
   ]
  }
 ],
 "metadata": {
  "kernelspec": {
   "display_name": "R",
   "language": "R",
   "name": "ir"
  },
  "language_info": {
   "codemirror_mode": "r",
   "file_extension": ".r",
   "mimetype": "text/x-r-source",
   "name": "R",
   "pygments_lexer": "r",
   "version": "4.0.3"
  }
 },
 "nbformat": 4,
 "nbformat_minor": 4
}
