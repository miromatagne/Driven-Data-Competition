{
 "cells": [
  {
   "cell_type": "markdown",
   "metadata": {},
   "source": [
    "# INFO-F-422 -  Statistical Foundations of Machine Learning \n",
    "\n",
    "### MATAGNE Miro-Manuel - __[Miro-Manuel.Matagne@ulb.be](mailto:Miro-Manuel.Matagne@ulb.be) - Student ID 459668__\n",
    "### Student 2 - __[student2@vub.ac.be](mailto:student2@ulb.ac.be) - Student ID 789012__\n",
    "### Student 3 - __[student3@ulb.ac.be](mailto:student3@ulb.ac.be) - Student ID 345678__\n",
    "\n",
    "### Video presentation: www.youtube.com/abcd1234\n",
    "\n",
    "## Project Title\n"
   ]
  },
  {
   "cell_type": "markdown",
   "metadata": {},
   "source": [
    "# Introduction\n"
   ]
  },
  {
   "cell_type": "markdown",
   "metadata": {},
   "source": [
    "## Read the datasets"
   ]
  },
  {
   "cell_type": "markdown",
   "metadata": {},
   "source": [
    "The training datasets are imported (*training* here means that this data will not be used for the final assessment of the solution quality by DrivenData).\n",
    "\n",
    "Notice that the characters are read as factors in order to be able to study the categorical variables later on."
   ]
  },
  {
   "cell_type": "code",
   "execution_count": 1,
   "metadata": {},
   "outputs": [],
   "source": [
    "X <- read.csv(\"training_set_values.csv\",stringsAsFactors = T)\n",
    "Y <- read.csv(\"training_set_labels.csv\",stringsAsFactors = T)"
   ]
  },
  {
   "cell_type": "markdown",
   "metadata": {},
   "source": [
    "The dataset on which we will have to establush predictions for the DrivenData is also loaded."
   ]
  },
  {
   "cell_type": "code",
   "execution_count": 2,
   "metadata": {},
   "outputs": [],
   "source": [
    "eval_data <- read.csv(\"test_set_values.csv\",stringsAsFactors = T)"
   ]
  },
  {
   "cell_type": "markdown",
   "metadata": {},
   "source": [
    "## Data exploration"
   ]
  },
  {
   "cell_type": "markdown",
   "metadata": {},
   "source": [
    "For both these datasets, the dimensions, the head and the summary are displayed in order to get a first feel of the data."
   ]
  },
  {
   "cell_type": "markdown",
   "metadata": {},
   "source": [
    "The X dataset contains 59400 samples with 40 different features, of which 30 are categorical and 10 are numerical."
   ]
  },
  {
   "cell_type": "code",
   "execution_count": 3,
   "metadata": {
    "scrolled": true
   },
   "outputs": [
    {
     "data": {
      "text/html": [
       "<style>\n",
       ".list-inline {list-style: none; margin:0; padding: 0}\n",
       ".list-inline>li {display: inline-block}\n",
       ".list-inline>li:not(:last-child)::after {content: \"\\00b7\"; padding: 0 .5ex}\n",
       "</style>\n",
       "<ol class=list-inline><li>59400</li><li>40</li></ol>\n"
      ],
      "text/latex": [
       "\\begin{enumerate*}\n",
       "\\item 59400\n",
       "\\item 40\n",
       "\\end{enumerate*}\n"
      ],
      "text/markdown": [
       "1. 59400\n",
       "2. 40\n",
       "\n",
       "\n"
      ],
      "text/plain": [
       "[1] 59400    40"
      ]
     },
     "metadata": {},
     "output_type": "display_data"
    },
    {
     "data": {
      "text/html": [
       "<table class=\"dataframe\">\n",
       "<caption>A data.frame: 6 × 40</caption>\n",
       "<thead>\n",
       "\t<tr><th></th><th scope=col>id</th><th scope=col>amount_tsh</th><th scope=col>date_recorded</th><th scope=col>funder</th><th scope=col>gps_height</th><th scope=col>installer</th><th scope=col>longitude</th><th scope=col>latitude</th><th scope=col>wpt_name</th><th scope=col>num_private</th><th scope=col>basin</th><th scope=col>subvillage</th><th scope=col>region</th><th scope=col>region_code</th><th scope=col>district_code</th><th scope=col>lga</th><th scope=col>ward</th><th scope=col>population</th><th scope=col>public_meeting</th><th scope=col>recorded_by</th><th scope=col>scheme_management</th><th scope=col>scheme_name</th><th scope=col>permit</th><th scope=col>construction_year</th><th scope=col>extraction_type</th><th scope=col>extraction_type_group</th><th scope=col>extraction_type_class</th><th scope=col>management</th><th scope=col>management_group</th><th scope=col>payment</th><th scope=col>payment_type</th><th scope=col>water_quality</th><th scope=col>quality_group</th><th scope=col>quantity</th><th scope=col>quantity_group</th><th scope=col>source</th><th scope=col>source_type</th><th scope=col>source_class</th><th scope=col>waterpoint_type</th><th scope=col>waterpoint_type_group</th></tr>\n",
       "\t<tr><th></th><th scope=col>&lt;int&gt;</th><th scope=col>&lt;dbl&gt;</th><th scope=col>&lt;fct&gt;</th><th scope=col>&lt;fct&gt;</th><th scope=col>&lt;int&gt;</th><th scope=col>&lt;fct&gt;</th><th scope=col>&lt;dbl&gt;</th><th scope=col>&lt;dbl&gt;</th><th scope=col>&lt;fct&gt;</th><th scope=col>&lt;int&gt;</th><th scope=col>&lt;fct&gt;</th><th scope=col>&lt;fct&gt;</th><th scope=col>&lt;fct&gt;</th><th scope=col>&lt;int&gt;</th><th scope=col>&lt;int&gt;</th><th scope=col>&lt;fct&gt;</th><th scope=col>&lt;fct&gt;</th><th scope=col>&lt;int&gt;</th><th scope=col>&lt;fct&gt;</th><th scope=col>&lt;fct&gt;</th><th scope=col>&lt;fct&gt;</th><th scope=col>&lt;fct&gt;</th><th scope=col>&lt;fct&gt;</th><th scope=col>&lt;int&gt;</th><th scope=col>&lt;fct&gt;</th><th scope=col>&lt;fct&gt;</th><th scope=col>&lt;fct&gt;</th><th scope=col>&lt;fct&gt;</th><th scope=col>&lt;fct&gt;</th><th scope=col>&lt;fct&gt;</th><th scope=col>&lt;fct&gt;</th><th scope=col>&lt;fct&gt;</th><th scope=col>&lt;fct&gt;</th><th scope=col>&lt;fct&gt;</th><th scope=col>&lt;fct&gt;</th><th scope=col>&lt;fct&gt;</th><th scope=col>&lt;fct&gt;</th><th scope=col>&lt;fct&gt;</th><th scope=col>&lt;fct&gt;</th><th scope=col>&lt;fct&gt;</th></tr>\n",
       "</thead>\n",
       "<tbody>\n",
       "\t<tr><th scope=row>1</th><td>69572</td><td>6000</td><td>2011-03-14</td><td>Roman              </td><td>1390</td><td>Roman       </td><td>34.93809</td><td> -9.856322</td><td>none                </td><td>0</td><td>Lake Nyasa             </td><td>Mnyusi B   </td><td>Iringa </td><td>11</td><td> 5</td><td>Ludewa   </td><td>Mundindi  </td><td>109</td><td>True</td><td>GeoData Consultants Ltd</td><td>VWC  </td><td>Roman                      </td><td>False</td><td>1999</td><td>gravity    </td><td>gravity    </td><td>gravity    </td><td>vwc  </td><td>user-group</td><td>pay annually  </td><td>annually  </td><td>soft </td><td>good </td><td>enough      </td><td>enough      </td><td>spring              </td><td>spring              </td><td>groundwater</td><td>communal standpipe         </td><td>communal standpipe</td></tr>\n",
       "\t<tr><th scope=row>2</th><td> 8776</td><td>   0</td><td>2013-03-06</td><td>Grumeti            </td><td>1399</td><td>GRUMETI     </td><td>34.69877</td><td> -2.147466</td><td>Zahanati            </td><td>0</td><td>Lake Victoria          </td><td>Nyamara    </td><td>Mara   </td><td>20</td><td> 2</td><td>Serengeti</td><td>Natta     </td><td>280</td><td>    </td><td>GeoData Consultants Ltd</td><td>Other</td><td>                           </td><td>True </td><td>2010</td><td>gravity    </td><td>gravity    </td><td>gravity    </td><td>wug  </td><td>user-group</td><td>never pay     </td><td>never pay </td><td>soft </td><td>good </td><td>insufficient</td><td>insufficient</td><td>rainwater harvesting</td><td>rainwater harvesting</td><td>surface    </td><td>communal standpipe         </td><td>communal standpipe</td></tr>\n",
       "\t<tr><th scope=row>3</th><td>34310</td><td>  25</td><td>2013-02-25</td><td>Lottery Club       </td><td> 686</td><td>World vision</td><td>37.46066</td><td> -3.821329</td><td>Kwa Mahundi         </td><td>0</td><td>Pangani                </td><td>Majengo    </td><td>Manyara</td><td>21</td><td> 4</td><td>Simanjiro</td><td>Ngorika   </td><td>250</td><td>True</td><td>GeoData Consultants Ltd</td><td>VWC  </td><td>Nyumba ya mungu pipe scheme</td><td>True </td><td>2009</td><td>gravity    </td><td>gravity    </td><td>gravity    </td><td>vwc  </td><td>user-group</td><td>pay per bucket</td><td>per bucket</td><td>soft </td><td>good </td><td>enough      </td><td>enough      </td><td>dam                 </td><td>dam                 </td><td>surface    </td><td>communal standpipe multiple</td><td>communal standpipe</td></tr>\n",
       "\t<tr><th scope=row>4</th><td>67743</td><td>   0</td><td>2013-01-28</td><td>Unicef             </td><td> 263</td><td>UNICEF      </td><td>38.48616</td><td>-11.155298</td><td>Zahanati Ya Nanyumbu</td><td>0</td><td>Ruvuma / Southern Coast</td><td>Mahakamani </td><td>Mtwara </td><td>90</td><td>63</td><td>Nanyumbu </td><td>Nanyumbu  </td><td> 58</td><td>True</td><td>GeoData Consultants Ltd</td><td>VWC  </td><td>                           </td><td>True </td><td>1986</td><td>submersible</td><td>submersible</td><td>submersible</td><td>vwc  </td><td>user-group</td><td>never pay     </td><td>never pay </td><td>soft </td><td>good </td><td>dry         </td><td>dry         </td><td>machine dbh         </td><td>borehole            </td><td>groundwater</td><td>communal standpipe multiple</td><td>communal standpipe</td></tr>\n",
       "\t<tr><th scope=row>5</th><td>19728</td><td>   0</td><td>2011-07-13</td><td>Action In A        </td><td>   0</td><td>Artisan     </td><td>31.13085</td><td> -1.825359</td><td>Shuleni             </td><td>0</td><td>Lake Victoria          </td><td>Kyanyamisa </td><td>Kagera </td><td>18</td><td> 1</td><td>Karagwe  </td><td>Nyakasimbi</td><td>  0</td><td>True</td><td>GeoData Consultants Ltd</td><td>     </td><td>                           </td><td>True </td><td>   0</td><td>gravity    </td><td>gravity    </td><td>gravity    </td><td>other</td><td>other     </td><td>never pay     </td><td>never pay </td><td>soft </td><td>good </td><td>seasonal    </td><td>seasonal    </td><td>rainwater harvesting</td><td>rainwater harvesting</td><td>surface    </td><td>communal standpipe         </td><td>communal standpipe</td></tr>\n",
       "\t<tr><th scope=row>6</th><td> 9944</td><td>  20</td><td>2011-03-13</td><td>Mkinga Distric Coun</td><td>   0</td><td>DWE         </td><td>39.17280</td><td> -4.765587</td><td>Tajiri              </td><td>0</td><td>Pangani                </td><td>Moa/Mwereme</td><td>Tanga  </td><td> 4</td><td> 8</td><td>Mkinga   </td><td>Moa       </td><td>  1</td><td>True</td><td>GeoData Consultants Ltd</td><td>VWC  </td><td>Zingibali                  </td><td>True </td><td>2009</td><td>submersible</td><td>submersible</td><td>submersible</td><td>vwc  </td><td>user-group</td><td>pay per bucket</td><td>per bucket</td><td>salty</td><td>salty</td><td>enough      </td><td>enough      </td><td>other               </td><td>other               </td><td>unknown    </td><td>communal standpipe multiple</td><td>communal standpipe</td></tr>\n",
       "</tbody>\n",
       "</table>\n"
      ],
      "text/latex": [
       "A data.frame: 6 × 40\n",
       "\\begin{tabular}{r|llllllllllllllllllllllllllllllllllllllll}\n",
       "  & id & amount\\_tsh & date\\_recorded & funder & gps\\_height & installer & longitude & latitude & wpt\\_name & num\\_private & basin & subvillage & region & region\\_code & district\\_code & lga & ward & population & public\\_meeting & recorded\\_by & scheme\\_management & scheme\\_name & permit & construction\\_year & extraction\\_type & extraction\\_type\\_group & extraction\\_type\\_class & management & management\\_group & payment & payment\\_type & water\\_quality & quality\\_group & quantity & quantity\\_group & source & source\\_type & source\\_class & waterpoint\\_type & waterpoint\\_type\\_group\\\\\n",
       "  & <int> & <dbl> & <fct> & <fct> & <int> & <fct> & <dbl> & <dbl> & <fct> & <int> & <fct> & <fct> & <fct> & <int> & <int> & <fct> & <fct> & <int> & <fct> & <fct> & <fct> & <fct> & <fct> & <int> & <fct> & <fct> & <fct> & <fct> & <fct> & <fct> & <fct> & <fct> & <fct> & <fct> & <fct> & <fct> & <fct> & <fct> & <fct> & <fct>\\\\\n",
       "\\hline\n",
       "\t1 & 69572 & 6000 & 2011-03-14 & Roman               & 1390 & Roman        & 34.93809 &  -9.856322 & none                 & 0 & Lake Nyasa              & Mnyusi B    & Iringa  & 11 &  5 & Ludewa    & Mundindi   & 109 & True & GeoData Consultants Ltd & VWC   & Roman                       & False & 1999 & gravity     & gravity     & gravity     & vwc   & user-group & pay annually   & annually   & soft  & good  & enough       & enough       & spring               & spring               & groundwater & communal standpipe          & communal standpipe\\\\\n",
       "\t2 &  8776 &    0 & 2013-03-06 & Grumeti             & 1399 & GRUMETI      & 34.69877 &  -2.147466 & Zahanati             & 0 & Lake Victoria           & Nyamara     & Mara    & 20 &  2 & Serengeti & Natta      & 280 &      & GeoData Consultants Ltd & Other &                             & True  & 2010 & gravity     & gravity     & gravity     & wug   & user-group & never pay      & never pay  & soft  & good  & insufficient & insufficient & rainwater harvesting & rainwater harvesting & surface     & communal standpipe          & communal standpipe\\\\\n",
       "\t3 & 34310 &   25 & 2013-02-25 & Lottery Club        &  686 & World vision & 37.46066 &  -3.821329 & Kwa Mahundi          & 0 & Pangani                 & Majengo     & Manyara & 21 &  4 & Simanjiro & Ngorika    & 250 & True & GeoData Consultants Ltd & VWC   & Nyumba ya mungu pipe scheme & True  & 2009 & gravity     & gravity     & gravity     & vwc   & user-group & pay per bucket & per bucket & soft  & good  & enough       & enough       & dam                  & dam                  & surface     & communal standpipe multiple & communal standpipe\\\\\n",
       "\t4 & 67743 &    0 & 2013-01-28 & Unicef              &  263 & UNICEF       & 38.48616 & -11.155298 & Zahanati Ya Nanyumbu & 0 & Ruvuma / Southern Coast & Mahakamani  & Mtwara  & 90 & 63 & Nanyumbu  & Nanyumbu   &  58 & True & GeoData Consultants Ltd & VWC   &                             & True  & 1986 & submersible & submersible & submersible & vwc   & user-group & never pay      & never pay  & soft  & good  & dry          & dry          & machine dbh          & borehole             & groundwater & communal standpipe multiple & communal standpipe\\\\\n",
       "\t5 & 19728 &    0 & 2011-07-13 & Action In A         &    0 & Artisan      & 31.13085 &  -1.825359 & Shuleni              & 0 & Lake Victoria           & Kyanyamisa  & Kagera  & 18 &  1 & Karagwe   & Nyakasimbi &   0 & True & GeoData Consultants Ltd &       &                             & True  &    0 & gravity     & gravity     & gravity     & other & other      & never pay      & never pay  & soft  & good  & seasonal     & seasonal     & rainwater harvesting & rainwater harvesting & surface     & communal standpipe          & communal standpipe\\\\\n",
       "\t6 &  9944 &   20 & 2011-03-13 & Mkinga Distric Coun &    0 & DWE          & 39.17280 &  -4.765587 & Tajiri               & 0 & Pangani                 & Moa/Mwereme & Tanga   &  4 &  8 & Mkinga    & Moa        &   1 & True & GeoData Consultants Ltd & VWC   & Zingibali                   & True  & 2009 & submersible & submersible & submersible & vwc   & user-group & pay per bucket & per bucket & salty & salty & enough       & enough       & other                & other                & unknown     & communal standpipe multiple & communal standpipe\\\\\n",
       "\\end{tabular}\n"
      ],
      "text/markdown": [
       "\n",
       "A data.frame: 6 × 40\n",
       "\n",
       "| <!--/--> | id &lt;int&gt; | amount_tsh &lt;dbl&gt; | date_recorded &lt;fct&gt; | funder &lt;fct&gt; | gps_height &lt;int&gt; | installer &lt;fct&gt; | longitude &lt;dbl&gt; | latitude &lt;dbl&gt; | wpt_name &lt;fct&gt; | num_private &lt;int&gt; | basin &lt;fct&gt; | subvillage &lt;fct&gt; | region &lt;fct&gt; | region_code &lt;int&gt; | district_code &lt;int&gt; | lga &lt;fct&gt; | ward &lt;fct&gt; | population &lt;int&gt; | public_meeting &lt;fct&gt; | recorded_by &lt;fct&gt; | scheme_management &lt;fct&gt; | scheme_name &lt;fct&gt; | permit &lt;fct&gt; | construction_year &lt;int&gt; | extraction_type &lt;fct&gt; | extraction_type_group &lt;fct&gt; | extraction_type_class &lt;fct&gt; | management &lt;fct&gt; | management_group &lt;fct&gt; | payment &lt;fct&gt; | payment_type &lt;fct&gt; | water_quality &lt;fct&gt; | quality_group &lt;fct&gt; | quantity &lt;fct&gt; | quantity_group &lt;fct&gt; | source &lt;fct&gt; | source_type &lt;fct&gt; | source_class &lt;fct&gt; | waterpoint_type &lt;fct&gt; | waterpoint_type_group &lt;fct&gt; |\n",
       "|---|---|---|---|---|---|---|---|---|---|---|---|---|---|---|---|---|---|---|---|---|---|---|---|---|---|---|---|---|---|---|---|---|---|---|---|---|---|---|---|---|\n",
       "| 1 | 69572 | 6000 | 2011-03-14 | Roman               | 1390 | Roman        | 34.93809 |  -9.856322 | none                 | 0 | Lake Nyasa              | Mnyusi B    | Iringa  | 11 |  5 | Ludewa    | Mundindi   | 109 | True | GeoData Consultants Ltd | VWC   | Roman                       | False | 1999 | gravity     | gravity     | gravity     | vwc   | user-group | pay annually   | annually   | soft  | good  | enough       | enough       | spring               | spring               | groundwater | communal standpipe          | communal standpipe |\n",
       "| 2 |  8776 |    0 | 2013-03-06 | Grumeti             | 1399 | GRUMETI      | 34.69877 |  -2.147466 | Zahanati             | 0 | Lake Victoria           | Nyamara     | Mara    | 20 |  2 | Serengeti | Natta      | 280 | <!----> | GeoData Consultants Ltd | Other | <!----> | True  | 2010 | gravity     | gravity     | gravity     | wug   | user-group | never pay      | never pay  | soft  | good  | insufficient | insufficient | rainwater harvesting | rainwater harvesting | surface     | communal standpipe          | communal standpipe |\n",
       "| 3 | 34310 |   25 | 2013-02-25 | Lottery Club        |  686 | World vision | 37.46066 |  -3.821329 | Kwa Mahundi          | 0 | Pangani                 | Majengo     | Manyara | 21 |  4 | Simanjiro | Ngorika    | 250 | True | GeoData Consultants Ltd | VWC   | Nyumba ya mungu pipe scheme | True  | 2009 | gravity     | gravity     | gravity     | vwc   | user-group | pay per bucket | per bucket | soft  | good  | enough       | enough       | dam                  | dam                  | surface     | communal standpipe multiple | communal standpipe |\n",
       "| 4 | 67743 |    0 | 2013-01-28 | Unicef              |  263 | UNICEF       | 38.48616 | -11.155298 | Zahanati Ya Nanyumbu | 0 | Ruvuma / Southern Coast | Mahakamani  | Mtwara  | 90 | 63 | Nanyumbu  | Nanyumbu   |  58 | True | GeoData Consultants Ltd | VWC   | <!----> | True  | 1986 | submersible | submersible | submersible | vwc   | user-group | never pay      | never pay  | soft  | good  | dry          | dry          | machine dbh          | borehole             | groundwater | communal standpipe multiple | communal standpipe |\n",
       "| 5 | 19728 |    0 | 2011-07-13 | Action In A         |    0 | Artisan      | 31.13085 |  -1.825359 | Shuleni              | 0 | Lake Victoria           | Kyanyamisa  | Kagera  | 18 |  1 | Karagwe   | Nyakasimbi |   0 | True | GeoData Consultants Ltd | <!----> | <!----> | True  |    0 | gravity     | gravity     | gravity     | other | other      | never pay      | never pay  | soft  | good  | seasonal     | seasonal     | rainwater harvesting | rainwater harvesting | surface     | communal standpipe          | communal standpipe |\n",
       "| 6 |  9944 |   20 | 2011-03-13 | Mkinga Distric Coun |    0 | DWE          | 39.17280 |  -4.765587 | Tajiri               | 0 | Pangani                 | Moa/Mwereme | Tanga   |  4 |  8 | Mkinga    | Moa        |   1 | True | GeoData Consultants Ltd | VWC   | Zingibali                   | True  | 2009 | submersible | submersible | submersible | vwc   | user-group | pay per bucket | per bucket | salty | salty | enough       | enough       | other                | other                | unknown     | communal standpipe multiple | communal standpipe |\n",
       "\n"
      ],
      "text/plain": [
       "  id    amount_tsh date_recorded funder              gps_height installer   \n",
       "1 69572 6000       2011-03-14    Roman               1390       Roman       \n",
       "2  8776    0       2013-03-06    Grumeti             1399       GRUMETI     \n",
       "3 34310   25       2013-02-25    Lottery Club         686       World vision\n",
       "4 67743    0       2013-01-28    Unicef               263       UNICEF      \n",
       "5 19728    0       2011-07-13    Action In A            0       Artisan     \n",
       "6  9944   20       2011-03-13    Mkinga Distric Coun    0       DWE         \n",
       "  longitude latitude   wpt_name             num_private basin                  \n",
       "1 34.93809   -9.856322 none                 0           Lake Nyasa             \n",
       "2 34.69877   -2.147466 Zahanati             0           Lake Victoria          \n",
       "3 37.46066   -3.821329 Kwa Mahundi          0           Pangani                \n",
       "4 38.48616  -11.155298 Zahanati Ya Nanyumbu 0           Ruvuma / Southern Coast\n",
       "5 31.13085   -1.825359 Shuleni              0           Lake Victoria          \n",
       "6 39.17280   -4.765587 Tajiri               0           Pangani                \n",
       "  subvillage  region  region_code district_code lga       ward       population\n",
       "1 Mnyusi B    Iringa  11           5            Ludewa    Mundindi   109       \n",
       "2 Nyamara     Mara    20           2            Serengeti Natta      280       \n",
       "3 Majengo     Manyara 21           4            Simanjiro Ngorika    250       \n",
       "4 Mahakamani  Mtwara  90          63            Nanyumbu  Nanyumbu    58       \n",
       "5 Kyanyamisa  Kagera  18           1            Karagwe   Nyakasimbi   0       \n",
       "6 Moa/Mwereme Tanga    4           8            Mkinga    Moa          1       \n",
       "  public_meeting recorded_by             scheme_management\n",
       "1 True           GeoData Consultants Ltd VWC              \n",
       "2                GeoData Consultants Ltd Other            \n",
       "3 True           GeoData Consultants Ltd VWC              \n",
       "4 True           GeoData Consultants Ltd VWC              \n",
       "5 True           GeoData Consultants Ltd                  \n",
       "6 True           GeoData Consultants Ltd VWC              \n",
       "  scheme_name                 permit construction_year extraction_type\n",
       "1 Roman                       False  1999              gravity        \n",
       "2                             True   2010              gravity        \n",
       "3 Nyumba ya mungu pipe scheme True   2009              gravity        \n",
       "4                             True   1986              submersible    \n",
       "5                             True      0              gravity        \n",
       "6 Zingibali                   True   2009              submersible    \n",
       "  extraction_type_group extraction_type_class management management_group\n",
       "1 gravity               gravity               vwc        user-group      \n",
       "2 gravity               gravity               wug        user-group      \n",
       "3 gravity               gravity               vwc        user-group      \n",
       "4 submersible           submersible           vwc        user-group      \n",
       "5 gravity               gravity               other      other           \n",
       "6 submersible           submersible           vwc        user-group      \n",
       "  payment        payment_type water_quality quality_group quantity    \n",
       "1 pay annually   annually     soft          good          enough      \n",
       "2 never pay      never pay    soft          good          insufficient\n",
       "3 pay per bucket per bucket   soft          good          enough      \n",
       "4 never pay      never pay    soft          good          dry         \n",
       "5 never pay      never pay    soft          good          seasonal    \n",
       "6 pay per bucket per bucket   salty         salty         enough      \n",
       "  quantity_group source               source_type          source_class\n",
       "1 enough         spring               spring               groundwater \n",
       "2 insufficient   rainwater harvesting rainwater harvesting surface     \n",
       "3 enough         dam                  dam                  surface     \n",
       "4 dry            machine dbh          borehole             groundwater \n",
       "5 seasonal       rainwater harvesting rainwater harvesting surface     \n",
       "6 enough         other                other                unknown     \n",
       "  waterpoint_type             waterpoint_type_group\n",
       "1 communal standpipe          communal standpipe   \n",
       "2 communal standpipe          communal standpipe   \n",
       "3 communal standpipe multiple communal standpipe   \n",
       "4 communal standpipe multiple communal standpipe   \n",
       "5 communal standpipe          communal standpipe   \n",
       "6 communal standpipe multiple communal standpipe   "
      ]
     },
     "metadata": {},
     "output_type": "display_data"
    },
    {
     "data": {
      "text/plain": [
       "       id          amount_tsh          date_recorded  \n",
       " Min.   :    0   Min.   :     0.0   2011-03-15:  572  \n",
       " 1st Qu.:18520   1st Qu.:     0.0   2011-03-17:  558  \n",
       " Median :37062   Median :     0.0   2013-02-03:  546  \n",
       " Mean   :37115   Mean   :   317.7   2011-03-14:  520  \n",
       " 3rd Qu.:55657   3rd Qu.:    20.0   2011-03-16:  513  \n",
       " Max.   :74247   Max.   :350000.0   2011-03-18:  497  \n",
       "                                    (Other)   :56194  \n",
       "                    funder        gps_height          installer    \n",
       " Government Of Tanzania: 9084   Min.   : -90.0   DWE       :17402  \n",
       "                       : 3635   1st Qu.:   0.0             : 3655  \n",
       " Danida                : 3114   Median : 369.0   Government: 1825  \n",
       " Hesawa                : 2202   Mean   : 668.3   RWE       : 1206  \n",
       " Rwssp                 : 1374   3rd Qu.:1319.2   Commu     : 1060  \n",
       " World Bank            : 1349   Max.   :2770.0   DANIDA    : 1050  \n",
       " (Other)               :38642                    (Other)   :33202  \n",
       "   longitude        latitude            wpt_name      num_private       \n",
       " Min.   : 0.00   Min.   :-11.649   none     : 3563   Min.   :   0.0000  \n",
       " 1st Qu.:33.09   1st Qu.: -8.541   Shuleni  : 1748   1st Qu.:   0.0000  \n",
       " Median :34.91   Median : -5.022   Zahanati :  830   Median :   0.0000  \n",
       " Mean   :34.08   Mean   : -5.706   Msikitini:  535   Mean   :   0.4741  \n",
       " 3rd Qu.:37.18   3rd Qu.: -3.326   Kanisani :  323   3rd Qu.:   0.0000  \n",
       " Max.   :40.35   Max.   :  0.000   Bombani  :  271   Max.   :1776.0000  \n",
       "                                   (Other)  :52130                      \n",
       "             basin          subvillage            region       region_code  \n",
       " Lake Victoria  :10248   Madukani:  508   Iringa     : 5294   Min.   : 1.0  \n",
       " Pangani        : 8940   Shuleni :  506   Shinyanga  : 4982   1st Qu.: 5.0  \n",
       " Rufiji         : 7976   Majengo :  502   Mbeya      : 4639   Median :12.0  \n",
       " Internal       : 7785   Kati    :  373   Kilimanjaro: 4379   Mean   :15.3  \n",
       " Lake Tanganyika: 6432           :  371   Morogoro   : 4006   3rd Qu.:17.0  \n",
       " Wami / Ruvu    : 5987   Mtakuja :  262   Arusha     : 3350   Max.   :99.0  \n",
       " (Other)        :12032   (Other) :56878   (Other)    :32750                 \n",
       " district_code             lga               ward         population     \n",
       " Min.   : 0.00   Njombe      : 2503   Igosi    :  307   Min.   :    0.0  \n",
       " 1st Qu.: 2.00   Arusha Rural: 1252   Imalinyi :  252   1st Qu.:    0.0  \n",
       " Median : 3.00   Moshi Rural : 1251   Siha Kati:  232   Median :   25.0  \n",
       " Mean   : 5.63   Bariadi     : 1177   Mdandu   :  231   Mean   :  179.9  \n",
       " 3rd Qu.: 5.00   Rungwe      : 1106   Nduruma  :  217   3rd Qu.:  215.0  \n",
       " Max.   :80.00   Kilosa      : 1094   Kitunda  :  203   Max.   :30500.0  \n",
       "                 (Other)     :51017   (Other)  :57958                    \n",
       " public_meeting                  recorded_by          scheme_management\n",
       "      : 3334    GeoData Consultants Ltd:59400   VWC            :36793  \n",
       " False: 5055                                    WUG            : 5206  \n",
       " True :51011                                                   : 3877  \n",
       "                                                Water authority: 3153  \n",
       "                                                WUA            : 2883  \n",
       "                                                Water Board    : 2748  \n",
       "                                                (Other)        : 4740  \n",
       "        scheme_name      permit      construction_year    extraction_type \n",
       "              :28166        : 3056   Min.   :   0      gravity    :26780  \n",
       " K            :  682   False:17492   1st Qu.:   0      nira/tanira: 8154  \n",
       " None         :  644   True :38852   Median :1986      other      : 6430  \n",
       " Borehole     :  546                 Mean   :1301      submersible: 4764  \n",
       " Chalinze wate:  405                 3rd Qu.:2004      swn 80     : 3670  \n",
       " M            :  400                 Max.   :2013      mono       : 2865  \n",
       " (Other)      :28557                                   (Other)    : 6737  \n",
       " extraction_type_group  extraction_type_class            management   \n",
       " gravity    :26780     gravity     :26780     vwc             :40507  \n",
       " nira/tanira: 8154     handpump    :16456     wug             : 6515  \n",
       " other      : 6430     motorpump   : 2987     water board     : 2933  \n",
       " submersible: 6179     other       : 6430     wua             : 2535  \n",
       " swn 80     : 3670     rope pump   :  451     private operator: 1971  \n",
       " mono       : 2865     submersible : 6179     parastatal      : 1768  \n",
       " (Other)    : 5322     wind-powered:  117     (Other)         : 3171  \n",
       "   management_group                  payment          payment_type  \n",
       " commercial: 3638   never pay            :25348   annually  : 3642  \n",
       " other     :  943   other                : 1054   monthly   : 8300  \n",
       " parastatal: 1768   pay annually         : 3642   never pay :25348  \n",
       " unknown   :  561   pay monthly          : 8300   on failure: 3914  \n",
       " user-group:52490   pay per bucket       : 8985   other     : 1054  \n",
       "                    pay when scheme fails: 3914   per bucket: 8985  \n",
       "                    unknown              : 8157   unknown   : 8157  \n",
       "         water_quality    quality_group           quantity    \n",
       " soft           :50818   colored :  490   dry         : 6246  \n",
       " salty          : 4856   fluoride:  217   enough      :33186  \n",
       " unknown        : 1876   good    :50818   insufficient:15129  \n",
       " milky          :  804   milky   :  804   seasonal    : 4050  \n",
       " coloured       :  490   salty   : 5195   unknown     :  789  \n",
       " salty abandoned:  339   unknown : 1876                       \n",
       " (Other)        :  217                                        \n",
       "      quantity_group                   source                    source_type   \n",
       " dry         : 6246   spring              :17021   borehole            :11949  \n",
       " enough      :33186   shallow well        :16824   dam                 :  656  \n",
       " insufficient:15129   machine dbh         :11075   other               :  278  \n",
       " seasonal    : 4050   river               : 9612   rainwater harvesting: 2295  \n",
       " unknown     :  789   rainwater harvesting: 2295   river/lake          :10377  \n",
       "                      hand dtw            :  874   shallow well        :16824  \n",
       "                      (Other)             : 1699   spring              :17021  \n",
       "      source_class                      waterpoint_type \n",
       " groundwater:45794   cattle trough              :  116  \n",
       " surface    :13328   communal standpipe         :28522  \n",
       " unknown    :  278   communal standpipe multiple: 6103  \n",
       "                     dam                        :    7  \n",
       "                     hand pump                  :17488  \n",
       "                     improved spring            :  784  \n",
       "                     other                      : 6380  \n",
       "        waterpoint_type_group\n",
       " cattle trough     :  116    \n",
       " communal standpipe:34625    \n",
       " dam               :    7    \n",
       " hand pump         :17488    \n",
       " improved spring   :  784    \n",
       " other             : 6380    \n",
       "                             "
      ]
     },
     "metadata": {},
     "output_type": "display_data"
    }
   ],
   "source": [
    "options(repr.matrix.max.cols=50)\n",
    "dim(X)\n",
    "head(X)\n",
    "summary(X)"
   ]
  },
  {
   "cell_type": "code",
   "execution_count": 4,
   "metadata": {},
   "outputs": [
    {
     "data": {
      "text/html": [
       "30"
      ],
      "text/latex": [
       "30"
      ],
      "text/markdown": [
       "30"
      ],
      "text/plain": [
       "[1] 30"
      ]
     },
     "metadata": {},
     "output_type": "display_data"
    }
   ],
   "source": [
    "categorical_variables <- which(sapply(X[1,],class)==\"factor\")\n",
    "length(categorical_variables)"
   ]
  },
  {
   "cell_type": "markdown",
   "metadata": {},
   "source": [
    "The target variable is a categorical variable with 3 different levels, indicating if the water pump is functional, functional but needs repair or non functional."
   ]
  },
  {
   "cell_type": "code",
   "execution_count": 395,
   "metadata": {
    "scrolled": true
   },
   "outputs": [
    {
     "data": {
      "text/html": [
       "<style>\n",
       ".list-inline {list-style: none; margin:0; padding: 0}\n",
       ".list-inline>li {display: inline-block}\n",
       ".list-inline>li:not(:last-child)::after {content: \"\\00b7\"; padding: 0 .5ex}\n",
       "</style>\n",
       "<ol class=list-inline><li>59400</li><li>2</li></ol>\n"
      ],
      "text/latex": [
       "\\begin{enumerate*}\n",
       "\\item 59400\n",
       "\\item 2\n",
       "\\end{enumerate*}\n"
      ],
      "text/markdown": [
       "1. 59400\n",
       "2. 2\n",
       "\n",
       "\n"
      ],
      "text/plain": [
       "[1] 59400     2"
      ]
     },
     "metadata": {},
     "output_type": "display_data"
    },
    {
     "data": {
      "text/html": [
       "<table class=\"dataframe\">\n",
       "<caption>A data.frame: 6 × 2</caption>\n",
       "<thead>\n",
       "\t<tr><th></th><th scope=col>id</th><th scope=col>status_group</th></tr>\n",
       "\t<tr><th></th><th scope=col>&lt;int&gt;</th><th scope=col>&lt;fct&gt;</th></tr>\n",
       "</thead>\n",
       "<tbody>\n",
       "\t<tr><th scope=row>1</th><td>69572</td><td>functional    </td></tr>\n",
       "\t<tr><th scope=row>2</th><td> 8776</td><td>functional    </td></tr>\n",
       "\t<tr><th scope=row>3</th><td>34310</td><td>functional    </td></tr>\n",
       "\t<tr><th scope=row>4</th><td>67743</td><td>non functional</td></tr>\n",
       "\t<tr><th scope=row>5</th><td>19728</td><td>functional    </td></tr>\n",
       "\t<tr><th scope=row>6</th><td> 9944</td><td>functional    </td></tr>\n",
       "</tbody>\n",
       "</table>\n"
      ],
      "text/latex": [
       "A data.frame: 6 × 2\n",
       "\\begin{tabular}{r|ll}\n",
       "  & id & status\\_group\\\\\n",
       "  & <int> & <fct>\\\\\n",
       "\\hline\n",
       "\t1 & 69572 & functional    \\\\\n",
       "\t2 &  8776 & functional    \\\\\n",
       "\t3 & 34310 & functional    \\\\\n",
       "\t4 & 67743 & non functional\\\\\n",
       "\t5 & 19728 & functional    \\\\\n",
       "\t6 &  9944 & functional    \\\\\n",
       "\\end{tabular}\n"
      ],
      "text/markdown": [
       "\n",
       "A data.frame: 6 × 2\n",
       "\n",
       "| <!--/--> | id &lt;int&gt; | status_group &lt;fct&gt; |\n",
       "|---|---|---|\n",
       "| 1 | 69572 | functional     |\n",
       "| 2 |  8776 | functional     |\n",
       "| 3 | 34310 | functional     |\n",
       "| 4 | 67743 | non functional |\n",
       "| 5 | 19728 | functional     |\n",
       "| 6 |  9944 | functional     |\n",
       "\n"
      ],
      "text/plain": [
       "  id    status_group  \n",
       "1 69572 functional    \n",
       "2  8776 functional    \n",
       "3 34310 functional    \n",
       "4 67743 non functional\n",
       "5 19728 functional    \n",
       "6  9944 functional    "
      ]
     },
     "metadata": {},
     "output_type": "display_data"
    },
    {
     "data": {
      "text/plain": [
       "       id                         status_group  \n",
       " Min.   :    0   functional             :32259  \n",
       " 1st Qu.:18520   functional needs repair: 4317  \n",
       " Median :37062   non functional         :22824  \n",
       " Mean   :37115                                  \n",
       " 3rd Qu.:55657                                  \n",
       " Max.   :74247                                  "
      ]
     },
     "metadata": {},
     "output_type": "display_data"
    }
   ],
   "source": [
    "dim(Y)\n",
    "head(Y)\n",
    "summary(Y)"
   ]
  },
  {
   "cell_type": "markdown",
   "metadata": {},
   "source": [
    "This histogram shows the number of samples corresponding to each class of the target variable. Notice that there are large differences in terms of numbers of samples corresponding to each class. In particular, we see that there are very few samples falling in the category $functional\\ needs\\ repair$, which might be a problem because a model will have a lot of trouble predicting this class since the number of corresponding training samples is very low."
   ]
  },
  {
   "cell_type": "code",
   "execution_count": 148,
   "metadata": {},
   "outputs": [
    {
     "data": {
      "text/plain": [
       "[1] Functional : 32259"
      ]
     },
     "metadata": {},
     "output_type": "display_data"
    },
    {
     "data": {
      "text/plain": [
       "[1] Functional needs repair : 4317"
      ]
     },
     "metadata": {},
     "output_type": "display_data"
    },
    {
     "data": {
      "text/plain": [
       "[1] Non functional : 22824"
      ]
     },
     "metadata": {},
     "output_type": "display_data"
    },
    {
     "data": {
      "image/png": "[encoded data removed]",
      "text/plain": [
       "plot without title"
      ]
     },
     "metadata": {
      "image/png": {
       "height": 420,
       "width": 420
      }
     },
     "output_type": "display_data"
    }
   ],
   "source": [
    "noquote(paste(\"Functional :\",sum(Y$status_group==\"functional\")))\n",
    "noquote(paste(\"Functional needs repair :\",sum(Y$status_group==\"functional needs repair\")))\n",
    "noquote(paste(\"Non functional :\",sum(Y$status_group==\"non functional\")))\n",
    "\n",
    "barplot(table(Y))"
   ]
  },
  {
   "cell_type": "markdown",
   "metadata": {},
   "source": [
    "# Data preprocessing"
   ]
  },
  {
   "cell_type": "markdown",
   "metadata": {},
   "source": [
    "## Missing value imputation\n"
   ]
  },
  {
   "cell_type": "markdown",
   "metadata": {},
   "source": [
    "We check if there are any NA values in the dataset. The results show that no empty values are present in either dataset."
   ]
  },
  {
   "cell_type": "code",
   "execution_count": 5,
   "metadata": {},
   "outputs": [
    {
     "data": {
      "text/html": [
       "0"
      ],
      "text/latex": [
       "0"
      ],
      "text/markdown": [
       "0"
      ],
      "text/plain": [
       "[1] 0"
      ]
     },
     "metadata": {},
     "output_type": "display_data"
    },
    {
     "data": {
      "text/html": [
       "0"
      ],
      "text/latex": [
       "0"
      ],
      "text/markdown": [
       "0"
      ],
      "text/plain": [
       "[1] 0"
      ]
     },
     "metadata": {},
     "output_type": "display_data"
    }
   ],
   "source": [
    "sum(is.na(X))\n",
    "sum(is.na(Y))"
   ]
  },
  {
   "cell_type": "markdown",
   "metadata": {},
   "source": [
    "It is however important to note that this result does not look for empty strings or $none$ strings in the categorical variables. Indeed, we saw previously in the summaries of the datasets that there were wome empty strings, for example for features $funder$, $installer$, $subvillage$, $scheme\\_management$,..."
   ]
  },
  {
   "cell_type": "markdown",
   "metadata": {},
   "source": [
    "It is also important to check that all entries in X have a corresponding entry in Y. To do so, we merge the 2 datasets X and Y based on their common feature $id$ and check the dimension of the resulting dataset. As expected, the merged dataset has 59400 entries and 41 features, which means that for all samples in X there exists a corresponding sample in Y."
   ]
  },
  {
   "cell_type": "code",
   "execution_count": 6,
   "metadata": {
    "scrolled": false
   },
   "outputs": [
    {
     "data": {
      "text/html": [
       "<style>\n",
       ".list-inline {list-style: none; margin:0; padding: 0}\n",
       ".list-inline>li {display: inline-block}\n",
       ".list-inline>li:not(:last-child)::after {content: \"\\00b7\"; padding: 0 .5ex}\n",
       "</style>\n",
       "<ol class=list-inline><li>59400</li><li>41</li></ol>\n"
      ],
      "text/latex": [
       "\\begin{enumerate*}\n",
       "\\item 59400\n",
       "\\item 41\n",
       "\\end{enumerate*}\n"
      ],
      "text/markdown": [
       "1. 59400\n",
       "2. 41\n",
       "\n",
       "\n"
      ],
      "text/plain": [
       "[1] 59400    41"
      ]
     },
     "metadata": {},
     "output_type": "display_data"
    },
    {
     "data": {
      "text/html": [
       "<table class=\"dataframe\">\n",
       "<caption>A data.frame: 6 × 41</caption>\n",
       "<thead>\n",
       "\t<tr><th></th><th scope=col>id</th><th scope=col>amount_tsh</th><th scope=col>date_recorded</th><th scope=col>funder</th><th scope=col>gps_height</th><th scope=col>installer</th><th scope=col>longitude</th><th scope=col>latitude</th><th scope=col>wpt_name</th><th scope=col>num_private</th><th scope=col>basin</th><th scope=col>subvillage</th><th scope=col>region</th><th scope=col>region_code</th><th scope=col>district_code</th><th scope=col>lga</th><th scope=col>ward</th><th scope=col>population</th><th scope=col>public_meeting</th><th scope=col>recorded_by</th><th scope=col>scheme_management</th><th scope=col>scheme_name</th><th scope=col>permit</th><th scope=col>construction_year</th><th scope=col>extraction_type</th><th scope=col>extraction_type_group</th><th scope=col>extraction_type_class</th><th scope=col>management</th><th scope=col>management_group</th><th scope=col>payment</th><th scope=col>payment_type</th><th scope=col>water_quality</th><th scope=col>quality_group</th><th scope=col>quantity</th><th scope=col>quantity_group</th><th scope=col>source</th><th scope=col>source_type</th><th scope=col>source_class</th><th scope=col>waterpoint_type</th><th scope=col>waterpoint_type_group</th><th scope=col>status_group</th></tr>\n",
       "\t<tr><th></th><th scope=col>&lt;int&gt;</th><th scope=col>&lt;dbl&gt;</th><th scope=col>&lt;fct&gt;</th><th scope=col>&lt;fct&gt;</th><th scope=col>&lt;int&gt;</th><th scope=col>&lt;fct&gt;</th><th scope=col>&lt;dbl&gt;</th><th scope=col>&lt;dbl&gt;</th><th scope=col>&lt;fct&gt;</th><th scope=col>&lt;int&gt;</th><th scope=col>&lt;fct&gt;</th><th scope=col>&lt;fct&gt;</th><th scope=col>&lt;fct&gt;</th><th scope=col>&lt;int&gt;</th><th scope=col>&lt;int&gt;</th><th scope=col>&lt;fct&gt;</th><th scope=col>&lt;fct&gt;</th><th scope=col>&lt;int&gt;</th><th scope=col>&lt;fct&gt;</th><th scope=col>&lt;fct&gt;</th><th scope=col>&lt;fct&gt;</th><th scope=col>&lt;fct&gt;</th><th scope=col>&lt;fct&gt;</th><th scope=col>&lt;int&gt;</th><th scope=col>&lt;fct&gt;</th><th scope=col>&lt;fct&gt;</th><th scope=col>&lt;fct&gt;</th><th scope=col>&lt;fct&gt;</th><th scope=col>&lt;fct&gt;</th><th scope=col>&lt;fct&gt;</th><th scope=col>&lt;fct&gt;</th><th scope=col>&lt;fct&gt;</th><th scope=col>&lt;fct&gt;</th><th scope=col>&lt;fct&gt;</th><th scope=col>&lt;fct&gt;</th><th scope=col>&lt;fct&gt;</th><th scope=col>&lt;fct&gt;</th><th scope=col>&lt;fct&gt;</th><th scope=col>&lt;fct&gt;</th><th scope=col>&lt;fct&gt;</th><th scope=col>&lt;fct&gt;</th></tr>\n",
       "</thead>\n",
       "<tbody>\n",
       "\t<tr><th scope=row>1</th><td>0</td><td> 0</td><td>2012-11-13</td><td>Tasaf          </td><td>   0</td><td>TASAF  </td><td>33.12583</td><td>-5.118154</td><td>Mratibu       </td><td>0</td><td>Lake Tanganyika</td><td>Majengo   </td><td>Tabora     </td><td>14</td><td> 3</td><td>Uyui    </td><td>Igalula         </td><td>   0</td><td>    </td><td>GeoData Consultants Ltd</td><td>VWC             </td><td>                      </td><td>True </td><td>   0</td><td>afridev          </td><td>afridev    </td><td>handpump   </td><td>vwc             </td><td>user-group</td><td>unknown       </td><td>unknown   </td><td>milky</td><td>milky</td><td>enough      </td><td>enough      </td><td>shallow well</td><td>shallow well</td><td>groundwater</td><td>hand pump                  </td><td>hand pump         </td><td>non functional</td></tr>\n",
       "\t<tr><th scope=row>2</th><td>1</td><td> 0</td><td>2011-03-05</td><td>Shipo          </td><td>1978</td><td>SHIPO  </td><td>34.77072</td><td>-9.395642</td><td>none          </td><td>0</td><td>Rufiji         </td><td>Magoda C  </td><td>Iringa     </td><td>11</td><td> 4</td><td>Njombe  </td><td>Uwemba          </td><td>  20</td><td>True</td><td>GeoData Consultants Ltd</td><td>                </td><td>                      </td><td>False</td><td>2008</td><td>other - rope pump</td><td>rope pump  </td><td>rope pump  </td><td>vwc             </td><td>user-group</td><td>never pay     </td><td>never pay </td><td>soft </td><td>good </td><td>enough      </td><td>enough      </td><td>shallow well</td><td>shallow well</td><td>groundwater</td><td>hand pump                  </td><td>hand pump         </td><td>functional    </td></tr>\n",
       "\t<tr><th scope=row>3</th><td>2</td><td> 0</td><td>2011-03-27</td><td>Lvia           </td><td>   0</td><td>LVIA   </td><td>36.11506</td><td>-6.279268</td><td>Bombani       </td><td>0</td><td>Wami / Ruvu    </td><td>Songambele</td><td>Dodoma     </td><td> 1</td><td> 4</td><td>Chamwino</td><td>Msamalo         </td><td>   0</td><td>True</td><td>GeoData Consultants Ltd</td><td>VWC             </td><td>Mgun                  </td><td>True </td><td>   0</td><td>mono             </td><td>mono       </td><td>motorpump  </td><td>vwc             </td><td>user-group</td><td>pay per bucket</td><td>per bucket</td><td>soft </td><td>good </td><td>insufficient</td><td>insufficient</td><td>machine dbh </td><td>borehole    </td><td>groundwater</td><td>communal standpipe multiple</td><td>communal standpipe</td><td>functional    </td></tr>\n",
       "\t<tr><th scope=row>4</th><td>3</td><td>10</td><td>2013-06-03</td><td>Germany Republi</td><td>1639</td><td>CES    </td><td>37.14743</td><td>-3.187555</td><td>Area 7 Namba 5</td><td>0</td><td>Pangani        </td><td>Urereni   </td><td>Kilimanjaro</td><td> 3</td><td> 5</td><td>Hai     </td><td>Masama Magharibi</td><td>  25</td><td>True</td><td>GeoData Consultants Ltd</td><td>Water Board     </td><td>Losaa-Kia water supply</td><td>True </td><td>1999</td><td>gravity          </td><td>gravity    </td><td>gravity    </td><td>water board     </td><td>user-group</td><td>pay per bucket</td><td>per bucket</td><td>soft </td><td>good </td><td>enough      </td><td>enough      </td><td>spring      </td><td>spring      </td><td>groundwater</td><td>communal standpipe         </td><td>communal standpipe</td><td>functional    </td></tr>\n",
       "\t<tr><th scope=row>5</th><td>4</td><td> 0</td><td>2011-03-22</td><td>Cmsr           </td><td>   0</td><td>CMSR   </td><td>36.16489</td><td>-6.099289</td><td>Ezeleda       </td><td>0</td><td>Wami / Ruvu    </td><td>Maata A   </td><td>Dodoma     </td><td> 1</td><td> 4</td><td>Chamwino</td><td>Majeleko        </td><td>   0</td><td>True</td><td>GeoData Consultants Ltd</td><td>VWC             </td><td>                      </td><td>True </td><td>   0</td><td>nira/tanira      </td><td>nira/tanira</td><td>handpump   </td><td>vwc             </td><td>user-group</td><td>unknown       </td><td>unknown   </td><td>soft </td><td>good </td><td>dry         </td><td>dry         </td><td>shallow well</td><td>shallow well</td><td>groundwater</td><td>hand pump                  </td><td>hand pump         </td><td>non functional</td></tr>\n",
       "\t<tr><th scope=row>6</th><td>5</td><td>50</td><td>2011-02-26</td><td>Private        </td><td>  28</td><td>Private</td><td>39.28612</td><td>-6.972403</td><td>Kwa Namaj     </td><td>0</td><td>Wami / Ruvu    </td><td>Mwandege  </td><td>Pwani      </td><td>60</td><td>43</td><td>Mkuranga</td><td>Vikindu         </td><td>6922</td><td>True</td><td>GeoData Consultants Ltd</td><td>Private operator</td><td>                      </td><td>False</td><td>   0</td><td>submersible      </td><td>submersible</td><td>submersible</td><td>private operator</td><td>commercial</td><td>pay per bucket</td><td>per bucket</td><td>soft </td><td>good </td><td>enough      </td><td>enough      </td><td>machine dbh </td><td>borehole    </td><td>groundwater</td><td>communal standpipe multiple</td><td>communal standpipe</td><td>functional    </td></tr>\n",
       "</tbody>\n",
       "</table>\n"
      ],
      "text/latex": [
       "A data.frame: 6 × 41\n",
       "\\begin{tabular}{r|lllllllllllllllllllllllllllllllllllllllll}\n",
       "  & id & amount\\_tsh & date\\_recorded & funder & gps\\_height & installer & longitude & latitude & wpt\\_name & num\\_private & basin & subvillage & region & region\\_code & district\\_code & lga & ward & population & public\\_meeting & recorded\\_by & scheme\\_management & scheme\\_name & permit & construction\\_year & extraction\\_type & extraction\\_type\\_group & extraction\\_type\\_class & management & management\\_group & payment & payment\\_type & water\\_quality & quality\\_group & quantity & quantity\\_group & source & source\\_type & source\\_class & waterpoint\\_type & waterpoint\\_type\\_group & status\\_group\\\\\n",
       "  & <int> & <dbl> & <fct> & <fct> & <int> & <fct> & <dbl> & <dbl> & <fct> & <int> & <fct> & <fct> & <fct> & <int> & <int> & <fct> & <fct> & <int> & <fct> & <fct> & <fct> & <fct> & <fct> & <int> & <fct> & <fct> & <fct> & <fct> & <fct> & <fct> & <fct> & <fct> & <fct> & <fct> & <fct> & <fct> & <fct> & <fct> & <fct> & <fct> & <fct>\\\\\n",
       "\\hline\n",
       "\t1 & 0 &  0 & 2012-11-13 & Tasaf           &    0 & TASAF   & 33.12583 & -5.118154 & Mratibu        & 0 & Lake Tanganyika & Majengo    & Tabora      & 14 &  3 & Uyui     & Igalula          &    0 &      & GeoData Consultants Ltd & VWC              &                        & True  &    0 & afridev           & afridev     & handpump    & vwc              & user-group & unknown        & unknown    & milky & milky & enough       & enough       & shallow well & shallow well & groundwater & hand pump                   & hand pump          & non functional\\\\\n",
       "\t2 & 1 &  0 & 2011-03-05 & Shipo           & 1978 & SHIPO   & 34.77072 & -9.395642 & none           & 0 & Rufiji          & Magoda C   & Iringa      & 11 &  4 & Njombe   & Uwemba           &   20 & True & GeoData Consultants Ltd &                  &                        & False & 2008 & other - rope pump & rope pump   & rope pump   & vwc              & user-group & never pay      & never pay  & soft  & good  & enough       & enough       & shallow well & shallow well & groundwater & hand pump                   & hand pump          & functional    \\\\\n",
       "\t3 & 2 &  0 & 2011-03-27 & Lvia            &    0 & LVIA    & 36.11506 & -6.279268 & Bombani        & 0 & Wami / Ruvu     & Songambele & Dodoma      &  1 &  4 & Chamwino & Msamalo          &    0 & True & GeoData Consultants Ltd & VWC              & Mgun                   & True  &    0 & mono              & mono        & motorpump   & vwc              & user-group & pay per bucket & per bucket & soft  & good  & insufficient & insufficient & machine dbh  & borehole     & groundwater & communal standpipe multiple & communal standpipe & functional    \\\\\n",
       "\t4 & 3 & 10 & 2013-06-03 & Germany Republi & 1639 & CES     & 37.14743 & -3.187555 & Area 7 Namba 5 & 0 & Pangani         & Urereni    & Kilimanjaro &  3 &  5 & Hai      & Masama Magharibi &   25 & True & GeoData Consultants Ltd & Water Board      & Losaa-Kia water supply & True  & 1999 & gravity           & gravity     & gravity     & water board      & user-group & pay per bucket & per bucket & soft  & good  & enough       & enough       & spring       & spring       & groundwater & communal standpipe          & communal standpipe & functional    \\\\\n",
       "\t5 & 4 &  0 & 2011-03-22 & Cmsr            &    0 & CMSR    & 36.16489 & -6.099289 & Ezeleda        & 0 & Wami / Ruvu     & Maata A    & Dodoma      &  1 &  4 & Chamwino & Majeleko         &    0 & True & GeoData Consultants Ltd & VWC              &                        & True  &    0 & nira/tanira       & nira/tanira & handpump    & vwc              & user-group & unknown        & unknown    & soft  & good  & dry          & dry          & shallow well & shallow well & groundwater & hand pump                   & hand pump          & non functional\\\\\n",
       "\t6 & 5 & 50 & 2011-02-26 & Private         &   28 & Private & 39.28612 & -6.972403 & Kwa Namaj      & 0 & Wami / Ruvu     & Mwandege   & Pwani       & 60 & 43 & Mkuranga & Vikindu          & 6922 & True & GeoData Consultants Ltd & Private operator &                        & False &    0 & submersible       & submersible & submersible & private operator & commercial & pay per bucket & per bucket & soft  & good  & enough       & enough       & machine dbh  & borehole     & groundwater & communal standpipe multiple & communal standpipe & functional    \\\\\n",
       "\\end{tabular}\n"
      ],
      "text/markdown": [
       "\n",
       "A data.frame: 6 × 41\n",
       "\n",
       "| <!--/--> | id &lt;int&gt; | amount_tsh &lt;dbl&gt; | date_recorded &lt;fct&gt; | funder &lt;fct&gt; | gps_height &lt;int&gt; | installer &lt;fct&gt; | longitude &lt;dbl&gt; | latitude &lt;dbl&gt; | wpt_name &lt;fct&gt; | num_private &lt;int&gt; | basin &lt;fct&gt; | subvillage &lt;fct&gt; | region &lt;fct&gt; | region_code &lt;int&gt; | district_code &lt;int&gt; | lga &lt;fct&gt; | ward &lt;fct&gt; | population &lt;int&gt; | public_meeting &lt;fct&gt; | recorded_by &lt;fct&gt; | scheme_management &lt;fct&gt; | scheme_name &lt;fct&gt; | permit &lt;fct&gt; | construction_year &lt;int&gt; | extraction_type &lt;fct&gt; | extraction_type_group &lt;fct&gt; | extraction_type_class &lt;fct&gt; | management &lt;fct&gt; | management_group &lt;fct&gt; | payment &lt;fct&gt; | payment_type &lt;fct&gt; | water_quality &lt;fct&gt; | quality_group &lt;fct&gt; | quantity &lt;fct&gt; | quantity_group &lt;fct&gt; | source &lt;fct&gt; | source_type &lt;fct&gt; | source_class &lt;fct&gt; | waterpoint_type &lt;fct&gt; | waterpoint_type_group &lt;fct&gt; | status_group &lt;fct&gt; |\n",
       "|---|---|---|---|---|---|---|---|---|---|---|---|---|---|---|---|---|---|---|---|---|---|---|---|---|---|---|---|---|---|---|---|---|---|---|---|---|---|---|---|---|---|\n",
       "| 1 | 0 |  0 | 2012-11-13 | Tasaf           |    0 | TASAF   | 33.12583 | -5.118154 | Mratibu        | 0 | Lake Tanganyika | Majengo    | Tabora      | 14 |  3 | Uyui     | Igalula          |    0 | <!----> | GeoData Consultants Ltd | VWC              | <!----> | True  |    0 | afridev           | afridev     | handpump    | vwc              | user-group | unknown        | unknown    | milky | milky | enough       | enough       | shallow well | shallow well | groundwater | hand pump                   | hand pump          | non functional |\n",
       "| 2 | 1 |  0 | 2011-03-05 | Shipo           | 1978 | SHIPO   | 34.77072 | -9.395642 | none           | 0 | Rufiji          | Magoda C   | Iringa      | 11 |  4 | Njombe   | Uwemba           |   20 | True | GeoData Consultants Ltd | <!----> | <!----> | False | 2008 | other - rope pump | rope pump   | rope pump   | vwc              | user-group | never pay      | never pay  | soft  | good  | enough       | enough       | shallow well | shallow well | groundwater | hand pump                   | hand pump          | functional     |\n",
       "| 3 | 2 |  0 | 2011-03-27 | Lvia            |    0 | LVIA    | 36.11506 | -6.279268 | Bombani        | 0 | Wami / Ruvu     | Songambele | Dodoma      |  1 |  4 | Chamwino | Msamalo          |    0 | True | GeoData Consultants Ltd | VWC              | Mgun                   | True  |    0 | mono              | mono        | motorpump   | vwc              | user-group | pay per bucket | per bucket | soft  | good  | insufficient | insufficient | machine dbh  | borehole     | groundwater | communal standpipe multiple | communal standpipe | functional     |\n",
       "| 4 | 3 | 10 | 2013-06-03 | Germany Republi | 1639 | CES     | 37.14743 | -3.187555 | Area 7 Namba 5 | 0 | Pangani         | Urereni    | Kilimanjaro |  3 |  5 | Hai      | Masama Magharibi |   25 | True | GeoData Consultants Ltd | Water Board      | Losaa-Kia water supply | True  | 1999 | gravity           | gravity     | gravity     | water board      | user-group | pay per bucket | per bucket | soft  | good  | enough       | enough       | spring       | spring       | groundwater | communal standpipe          | communal standpipe | functional     |\n",
       "| 5 | 4 |  0 | 2011-03-22 | Cmsr            |    0 | CMSR    | 36.16489 | -6.099289 | Ezeleda        | 0 | Wami / Ruvu     | Maata A    | Dodoma      |  1 |  4 | Chamwino | Majeleko         |    0 | True | GeoData Consultants Ltd | VWC              | <!----> | True  |    0 | nira/tanira       | nira/tanira | handpump    | vwc              | user-group | unknown        | unknown    | soft  | good  | dry          | dry          | shallow well | shallow well | groundwater | hand pump                   | hand pump          | non functional |\n",
       "| 6 | 5 | 50 | 2011-02-26 | Private         |   28 | Private | 39.28612 | -6.972403 | Kwa Namaj      | 0 | Wami / Ruvu     | Mwandege   | Pwani       | 60 | 43 | Mkuranga | Vikindu          | 6922 | True | GeoData Consultants Ltd | Private operator | <!----> | False |    0 | submersible       | submersible | submersible | private operator | commercial | pay per bucket | per bucket | soft  | good  | enough       | enough       | machine dbh  | borehole     | groundwater | communal standpipe multiple | communal standpipe | functional     |\n",
       "\n"
      ],
      "text/plain": [
       "  id amount_tsh date_recorded funder          gps_height installer longitude\n",
       "1 0   0         2012-11-13    Tasaf              0       TASAF     33.12583 \n",
       "2 1   0         2011-03-05    Shipo           1978       SHIPO     34.77072 \n",
       "3 2   0         2011-03-27    Lvia               0       LVIA      36.11506 \n",
       "4 3  10         2013-06-03    Germany Republi 1639       CES       37.14743 \n",
       "5 4   0         2011-03-22    Cmsr               0       CMSR      36.16489 \n",
       "6 5  50         2011-02-26    Private           28       Private   39.28612 \n",
       "  latitude  wpt_name       num_private basin           subvillage region     \n",
       "1 -5.118154 Mratibu        0           Lake Tanganyika Majengo    Tabora     \n",
       "2 -9.395642 none           0           Rufiji          Magoda C   Iringa     \n",
       "3 -6.279268 Bombani        0           Wami / Ruvu     Songambele Dodoma     \n",
       "4 -3.187555 Area 7 Namba 5 0           Pangani         Urereni    Kilimanjaro\n",
       "5 -6.099289 Ezeleda        0           Wami / Ruvu     Maata A    Dodoma     \n",
       "6 -6.972403 Kwa Namaj      0           Wami / Ruvu     Mwandege   Pwani      \n",
       "  region_code district_code lga      ward             population public_meeting\n",
       "1 14           3            Uyui     Igalula             0                     \n",
       "2 11           4            Njombe   Uwemba             20       True          \n",
       "3  1           4            Chamwino Msamalo             0       True          \n",
       "4  3           5            Hai      Masama Magharibi   25       True          \n",
       "5  1           4            Chamwino Majeleko            0       True          \n",
       "6 60          43            Mkuranga Vikindu          6922       True          \n",
       "  recorded_by             scheme_management scheme_name            permit\n",
       "1 GeoData Consultants Ltd VWC                                      True  \n",
       "2 GeoData Consultants Ltd                                          False \n",
       "3 GeoData Consultants Ltd VWC               Mgun                   True  \n",
       "4 GeoData Consultants Ltd Water Board       Losaa-Kia water supply True  \n",
       "5 GeoData Consultants Ltd VWC                                      True  \n",
       "6 GeoData Consultants Ltd Private operator                         False \n",
       "  construction_year extraction_type   extraction_type_group\n",
       "1    0              afridev           afridev              \n",
       "2 2008              other - rope pump rope pump            \n",
       "3    0              mono              mono                 \n",
       "4 1999              gravity           gravity              \n",
       "5    0              nira/tanira       nira/tanira          \n",
       "6    0              submersible       submersible          \n",
       "  extraction_type_class management       management_group payment       \n",
       "1 handpump              vwc              user-group       unknown       \n",
       "2 rope pump             vwc              user-group       never pay     \n",
       "3 motorpump             vwc              user-group       pay per bucket\n",
       "4 gravity               water board      user-group       pay per bucket\n",
       "5 handpump              vwc              user-group       unknown       \n",
       "6 submersible           private operator commercial       pay per bucket\n",
       "  payment_type water_quality quality_group quantity     quantity_group\n",
       "1 unknown      milky         milky         enough       enough        \n",
       "2 never pay    soft          good          enough       enough        \n",
       "3 per bucket   soft          good          insufficient insufficient  \n",
       "4 per bucket   soft          good          enough       enough        \n",
       "5 unknown      soft          good          dry          dry           \n",
       "6 per bucket   soft          good          enough       enough        \n",
       "  source       source_type  source_class waterpoint_type            \n",
       "1 shallow well shallow well groundwater  hand pump                  \n",
       "2 shallow well shallow well groundwater  hand pump                  \n",
       "3 machine dbh  borehole     groundwater  communal standpipe multiple\n",
       "4 spring       spring       groundwater  communal standpipe         \n",
       "5 shallow well shallow well groundwater  hand pump                  \n",
       "6 machine dbh  borehole     groundwater  communal standpipe multiple\n",
       "  waterpoint_type_group status_group  \n",
       "1 hand pump             non functional\n",
       "2 hand pump             functional    \n",
       "3 communal standpipe    functional    \n",
       "4 communal standpipe    functional    \n",
       "5 hand pump             non functional\n",
       "6 communal standpipe    functional    "
      ]
     },
     "metadata": {},
     "output_type": "display_data"
    }
   ],
   "source": [
    "data <- merge(X,Y)\n",
    "dim(data)\n",
    "head(data)\n",
    "demo_data <- data"
   ]
  },
  {
   "cell_type": "markdown",
   "metadata": {},
   "source": [
    "By representing the number of missing values for each categorical variable, it stands out that the feature $scheme\\_name$ has nearly 50% of missing values. The missing values will be treated in several different ways :\n",
    "- removing the samples with the missing values\n",
    "- considering the missing values as a category on their own\n",
    "- keeping only the relevant classes of the problematic features through one hot encoding (for example discard the column resulting from the none class in the one hot encoding but keeping the rest)"
   ]
  },
  {
   "cell_type": "code",
   "execution_count": 8,
   "metadata": {},
   "outputs": [
    {
     "data": {
      "text/html": [
       "<table class=\"dataframe\">\n",
       "<caption>A data.frame: 8 × 3</caption>\n",
       "<thead>\n",
       "\t<tr><th></th><th scope=col>variable</th><th scope=col>empty_count</th><th scope=col>percentage</th></tr>\n",
       "\t<tr><th></th><th scope=col>&lt;chr&gt;</th><th scope=col>&lt;int&gt;</th><th scope=col>&lt;dbl&gt;</th></tr>\n",
       "</thead>\n",
       "<tbody>\n",
       "\t<tr><th scope=row>2</th><td>funder           </td><td> 3635</td><td>0.061195286</td></tr>\n",
       "\t<tr><th scope=row>3</th><td>installer        </td><td> 3655</td><td>0.061531987</td></tr>\n",
       "\t<tr><th scope=row>4</th><td>wpt_name         </td><td> 3563</td><td>0.059983165</td></tr>\n",
       "\t<tr><th scope=row>6</th><td>subvillage       </td><td>  371</td><td>0.006245791</td></tr>\n",
       "\t<tr><th scope=row>10</th><td>public_meeting   </td><td> 3334</td><td>0.056127946</td></tr>\n",
       "\t<tr><th scope=row>12</th><td>scheme_management</td><td> 3877</td><td>0.065269360</td></tr>\n",
       "\t<tr><th scope=row>13</th><td>scheme_name      </td><td>28191</td><td>0.474595960</td></tr>\n",
       "\t<tr><th scope=row>14</th><td>permit           </td><td> 3056</td><td>0.051447811</td></tr>\n",
       "</tbody>\n",
       "</table>\n"
      ],
      "text/latex": [
       "A data.frame: 8 × 3\n",
       "\\begin{tabular}{r|lll}\n",
       "  & variable & empty\\_count & percentage\\\\\n",
       "  & <chr> & <int> & <dbl>\\\\\n",
       "\\hline\n",
       "\t2 & funder            &  3635 & 0.061195286\\\\\n",
       "\t3 & installer         &  3655 & 0.061531987\\\\\n",
       "\t4 & wpt\\_name          &  3563 & 0.059983165\\\\\n",
       "\t6 & subvillage        &   371 & 0.006245791\\\\\n",
       "\t10 & public\\_meeting    &  3334 & 0.056127946\\\\\n",
       "\t12 & scheme\\_management &  3877 & 0.065269360\\\\\n",
       "\t13 & scheme\\_name       & 28191 & 0.474595960\\\\\n",
       "\t14 & permit            &  3056 & 0.051447811\\\\\n",
       "\\end{tabular}\n"
      ],
      "text/markdown": [
       "\n",
       "A data.frame: 8 × 3\n",
       "\n",
       "| <!--/--> | variable &lt;chr&gt; | empty_count &lt;int&gt; | percentage &lt;dbl&gt; |\n",
       "|---|---|---|---|\n",
       "| 2 | funder            |  3635 | 0.061195286 |\n",
       "| 3 | installer         |  3655 | 0.061531987 |\n",
       "| 4 | wpt_name          |  3563 | 0.059983165 |\n",
       "| 6 | subvillage        |   371 | 0.006245791 |\n",
       "| 10 | public_meeting    |  3334 | 0.056127946 |\n",
       "| 12 | scheme_management |  3877 | 0.065269360 |\n",
       "| 13 | scheme_name       | 28191 | 0.474595960 |\n",
       "| 14 | permit            |  3056 | 0.051447811 |\n",
       "\n"
      ],
      "text/plain": [
       "   variable          empty_count percentage \n",
       "2  funder             3635       0.061195286\n",
       "3  installer          3655       0.061531987\n",
       "4  wpt_name           3563       0.059983165\n",
       "6  subvillage          371       0.006245791\n",
       "10 public_meeting     3334       0.056127946\n",
       "12 scheme_management  3877       0.065269360\n",
       "13 scheme_name       28191       0.474595960\n",
       "14 permit             3056       0.051447811"
      ]
     },
     "metadata": {},
     "output_type": "display_data"
    }
   ],
   "source": [
    "empty_count <- c()\n",
    "for (c in colnames(data[,categorical_variables])) { \n",
    "    a <- dim(data[data[,c] == \"none\" | data[,c] == \"\",])[1]\n",
    "    empty_count <- c(empty_count,a)\n",
    "}\n",
    "\n",
    "df <- data.frame(variable=colnames(data[,categorical_variables]),empty_count=empty_count,percentage=empty_count/nrow(data))\n",
    "df[df$empty_count != 0,]"
   ]
  },
  {
   "cell_type": "code",
   "execution_count": 253,
   "metadata": {},
   "outputs": [
    {
     "ename": "ERROR",
     "evalue": "Error in `[.data.frame`(data, , scheme_name): objet 'scheme_name' introuvable\n",
     "output_type": "error",
     "traceback": [
      "Error in `[.data.frame`(data, , scheme_name): objet 'scheme_name' introuvable\nTraceback:\n",
      "1. barplot(table(data[, scheme_name]))",
      "2. table(data[, scheme_name])",
      "3. data[, scheme_name]",
      "4. `[.data.frame`(data, , scheme_name)"
     ]
    }
   ],
   "source": [
    "barplot(table(data[,scheme_name]))"
   ]
  },
  {
   "cell_type": "code",
   "execution_count": 9,
   "metadata": {},
   "outputs": [],
   "source": [
    "remove_scheme_name <- function(df) {\n",
    "    return(subset(df,select=-c(scheme_name)))\n",
    "}"
   ]
  },
  {
   "cell_type": "markdown",
   "metadata": {},
   "source": [
    "## Dataset balancing"
   ]
  },
  {
   "cell_type": "markdown",
   "metadata": {},
   "source": [
    "In order to avoid the previously described situation where the models will predict only the very frequent classes, some dataset balancing can be done. It is important to understand this does not necessarily yield better results, but it could, and this is why it was implemented. Indeed, sometimes the frequency of apparition of certain classes is actually very relevant, and moreover if the dataset is large enough the minority class might be representative enough in the sense that it contains all relevant information in its features to be classified.\n",
    "\n",
    "The 2 dataset balancing techniques that were tested are SMOTE and oversampling."
   ]
  },
  {
   "cell_type": "markdown",
   "metadata": {},
   "source": [
    "### SMOTE"
   ]
  },
  {
   "cell_type": "code",
   "execution_count": null,
   "metadata": {},
   "outputs": [],
   "source": [
    "install.packages(\"performanceEstimation\")"
   ]
  },
  {
   "cell_type": "code",
   "execution_count": 255,
   "metadata": {},
   "outputs": [],
   "source": [
    "library(performanceEstimation)"
   ]
  },
  {
   "cell_type": "code",
   "execution_count": 10,
   "metadata": {},
   "outputs": [],
   "source": [
    "create_smote_dataset <- function(df) {\n",
    "    df <- smote(status_group ~ ., df, perc.over = 3,perc.under=3)\n",
    "    return(df)\n",
    "}"
   ]
  },
  {
   "cell_type": "code",
   "execution_count": 155,
   "metadata": {},
   "outputs": [],
   "source": [
    "demo_data <- create_smote_dataset(demo_data)"
   ]
  },
  {
   "cell_type": "code",
   "execution_count": 156,
   "metadata": {},
   "outputs": [
    {
     "data": {
      "image/png": "[encoded data removed]",
      "text/plain": [
       "plot without title"
      ]
     },
     "metadata": {
      "image/png": {
       "height": 420,
       "width": 420
      }
     },
     "output_type": "display_data"
    }
   ],
   "source": [
    "barplot(table(demo_data$status_group))"
   ]
  },
  {
   "cell_type": "code",
   "execution_count": 64,
   "metadata": {},
   "outputs": [
    {
     "data": {
      "text/html": [
       "<style>\n",
       ".list-inline {list-style: none; margin:0; padding: 0}\n",
       ".list-inline>li {display: inline-block}\n",
       ".list-inline>li:not(:last-child)::after {content: \"\\00b7\"; padding: 0 .5ex}\n",
       "</style>\n",
       "<ol class=list-inline><li>56121</li><li>41</li></ol>\n"
      ],
      "text/latex": [
       "\\begin{enumerate*}\n",
       "\\item 56121\n",
       "\\item 41\n",
       "\\end{enumerate*}\n"
      ],
      "text/markdown": [
       "1. 56121\n",
       "2. 41\n",
       "\n",
       "\n"
      ],
      "text/plain": [
       "[1] 56121    41"
      ]
     },
     "metadata": {},
     "output_type": "display_data"
    }
   ],
   "source": [
    "dim(demo_data)"
   ]
  },
  {
   "cell_type": "markdown",
   "metadata": {},
   "source": [
    "### Over sampling"
   ]
  },
  {
   "cell_type": "code",
   "execution_count": 11,
   "metadata": {},
   "outputs": [],
   "source": [
    "create_over_sampling_dataset <- function(df) {\n",
    "    to_dup <- df[data$status_group == \"functional needs repair\",]\n",
    "    for(i in 1:4) {\n",
    "        df <- rbind(df,to_dup)\n",
    "    }\n",
    "    to_remove <- which(data$status_group == \"functional\")[1:10000]\n",
    "    #print(to_remove)\n",
    "    return(df[-to_remove,])\n",
    "}"
   ]
  },
  {
   "cell_type": "code",
   "execution_count": null,
   "metadata": {},
   "outputs": [],
   "source": [
    "demo_data <- data"
   ]
  },
  {
   "cell_type": "code",
   "execution_count": null,
   "metadata": {},
   "outputs": [],
   "source": [
    "dem <- create_over_sampling_dataset(demo_data)"
   ]
  },
  {
   "cell_type": "code",
   "execution_count": null,
   "metadata": {},
   "outputs": [],
   "source": [
    "barplot(table(dem$status_group))"
   ]
  },
  {
   "cell_type": "code",
   "execution_count": null,
   "metadata": {},
   "outputs": [],
   "source": [
    "dim(demo_data)"
   ]
  },
  {
   "cell_type": "markdown",
   "metadata": {},
   "source": [
    "## Handle categorical variables"
   ]
  },
  {
   "cell_type": "markdown",
   "metadata": {},
   "source": [
    "All the categorical variables present in the merged dataset are presented below."
   ]
  },
  {
   "cell_type": "code",
   "execution_count": 12,
   "metadata": {},
   "outputs": [
    {
     "data": {
      "text/html": [
       "<style>\n",
       ".list-inline {list-style: none; margin:0; padding: 0}\n",
       ".list-inline>li {display: inline-block}\n",
       ".list-inline>li:not(:last-child)::after {content: \"\\00b7\"; padding: 0 .5ex}\n",
       "</style>\n",
       "<ol class=list-inline><li>'date_recorded'</li><li>'funder'</li><li>'installer'</li><li>'wpt_name'</li><li>'basin'</li><li>'subvillage'</li><li>'region'</li><li>'lga'</li><li>'ward'</li><li>'public_meeting'</li><li>'recorded_by'</li><li>'scheme_management'</li><li>'scheme_name'</li><li>'permit'</li><li>'extraction_type'</li><li>'extraction_type_group'</li><li>'extraction_type_class'</li><li>'management'</li><li>'management_group'</li><li>'payment'</li><li>'payment_type'</li><li>'water_quality'</li><li>'quality_group'</li><li>'quantity'</li><li>'quantity_group'</li><li>'source'</li><li>'source_type'</li><li>'source_class'</li><li>'waterpoint_type'</li><li>'waterpoint_type_group'</li><li>'status_group'</li></ol>\n"
      ],
      "text/latex": [
       "\\begin{enumerate*}\n",
       "\\item 'date\\_recorded'\n",
       "\\item 'funder'\n",
       "\\item 'installer'\n",
       "\\item 'wpt\\_name'\n",
       "\\item 'basin'\n",
       "\\item 'subvillage'\n",
       "\\item 'region'\n",
       "\\item 'lga'\n",
       "\\item 'ward'\n",
       "\\item 'public\\_meeting'\n",
       "\\item 'recorded\\_by'\n",
       "\\item 'scheme\\_management'\n",
       "\\item 'scheme\\_name'\n",
       "\\item 'permit'\n",
       "\\item 'extraction\\_type'\n",
       "\\item 'extraction\\_type\\_group'\n",
       "\\item 'extraction\\_type\\_class'\n",
       "\\item 'management'\n",
       "\\item 'management\\_group'\n",
       "\\item 'payment'\n",
       "\\item 'payment\\_type'\n",
       "\\item 'water\\_quality'\n",
       "\\item 'quality\\_group'\n",
       "\\item 'quantity'\n",
       "\\item 'quantity\\_group'\n",
       "\\item 'source'\n",
       "\\item 'source\\_type'\n",
       "\\item 'source\\_class'\n",
       "\\item 'waterpoint\\_type'\n",
       "\\item 'waterpoint\\_type\\_group'\n",
       "\\item 'status\\_group'\n",
       "\\end{enumerate*}\n"
      ],
      "text/markdown": [
       "1. 'date_recorded'\n",
       "2. 'funder'\n",
       "3. 'installer'\n",
       "4. 'wpt_name'\n",
       "5. 'basin'\n",
       "6. 'subvillage'\n",
       "7. 'region'\n",
       "8. 'lga'\n",
       "9. 'ward'\n",
       "10. 'public_meeting'\n",
       "11. 'recorded_by'\n",
       "12. 'scheme_management'\n",
       "13. 'scheme_name'\n",
       "14. 'permit'\n",
       "15. 'extraction_type'\n",
       "16. 'extraction_type_group'\n",
       "17. 'extraction_type_class'\n",
       "18. 'management'\n",
       "19. 'management_group'\n",
       "20. 'payment'\n",
       "21. 'payment_type'\n",
       "22. 'water_quality'\n",
       "23. 'quality_group'\n",
       "24. 'quantity'\n",
       "25. 'quantity_group'\n",
       "26. 'source'\n",
       "27. 'source_type'\n",
       "28. 'source_class'\n",
       "29. 'waterpoint_type'\n",
       "30. 'waterpoint_type_group'\n",
       "31. 'status_group'\n",
       "\n",
       "\n"
      ],
      "text/plain": [
       " [1] \"date_recorded\"         \"funder\"                \"installer\"            \n",
       " [4] \"wpt_name\"              \"basin\"                 \"subvillage\"           \n",
       " [7] \"region\"                \"lga\"                   \"ward\"                 \n",
       "[10] \"public_meeting\"        \"recorded_by\"           \"scheme_management\"    \n",
       "[13] \"scheme_name\"           \"permit\"                \"extraction_type\"      \n",
       "[16] \"extraction_type_group\" \"extraction_type_class\" \"management\"           \n",
       "[19] \"management_group\"      \"payment\"               \"payment_type\"         \n",
       "[22] \"water_quality\"         \"quality_group\"         \"quantity\"             \n",
       "[25] \"quantity_group\"        \"source\"                \"source_type\"          \n",
       "[28] \"source_class\"          \"waterpoint_type\"       \"waterpoint_type_group\"\n",
       "[31] \"status_group\"         "
      ]
     },
     "metadata": {},
     "output_type": "display_data"
    }
   ],
   "source": [
    "categorical_variables <- which(sapply(data[1,],class)==\"factor\")\n",
    "colnames(data[,categorical_variables])"
   ]
  },
  {
   "cell_type": "markdown",
   "metadata": {},
   "source": [
    "### Useless features"
   ]
  },
  {
   "cell_type": "markdown",
   "metadata": {},
   "source": [
    "A check is made to ensure all categorical variables take more than 1 possible value, otherwise they are not necessary since they do not bring any information. The following code shows that the feature $recorded\\_by$ contains only 1 factor, which is $GeoData Consultants Ltd$."
   ]
  },
  {
   "cell_type": "code",
   "execution_count": 13,
   "metadata": {},
   "outputs": [
    {
     "name": "stdout",
     "output_type": "stream",
     "text": [
      "[1] \"recorded_by\"\n",
      "[1] GeoData Consultants Ltd\n",
      "Levels: GeoData Consultants Ltd\n"
     ]
    }
   ],
   "source": [
    "for (n in colnames(data[,categorical_variables])) {\n",
    "    l <- nlevels(data[,n])\n",
    "    if (l < 2) {\n",
    "        print(n)\n",
    "        print(data[1,n])\n",
    "    }\n",
    "}"
   ]
  },
  {
   "cell_type": "code",
   "execution_count": 14,
   "metadata": {},
   "outputs": [],
   "source": [
    "remove_useless_features <- function(df) {\n",
    "    df <- subset(df,select=-c(recorded_by))\n",
    "    return(df)\n",
    "}"
   ]
  },
  {
   "cell_type": "code",
   "execution_count": 90,
   "metadata": {},
   "outputs": [],
   "source": [
    "demo_data <- remove_useless_features(demo_data)"
   ]
  },
  {
   "cell_type": "code",
   "execution_count": 161,
   "metadata": {},
   "outputs": [
    {
     "data": {
      "text/html": [
       "<style>\n",
       ".list-inline {list-style: none; margin:0; padding: 0}\n",
       ".list-inline>li {display: inline-block}\n",
       ".list-inline>li:not(:last-child)::after {content: \"\\00b7\"; padding: 0 .5ex}\n",
       "</style>\n",
       "<ol class=list-inline><li>56121</li><li>41</li></ol>\n"
      ],
      "text/latex": [
       "\\begin{enumerate*}\n",
       "\\item 56121\n",
       "\\item 41\n",
       "\\end{enumerate*}\n"
      ],
      "text/markdown": [
       "1. 56121\n",
       "2. 41\n",
       "\n",
       "\n"
      ],
      "text/plain": [
       "[1] 56121    41"
      ]
     },
     "metadata": {},
     "output_type": "display_data"
    }
   ],
   "source": [
    "dim(demo_data)"
   ]
  },
  {
   "cell_type": "markdown",
   "metadata": {},
   "source": [
    "## Boolean features"
   ]
  },
  {
   "cell_type": "markdown",
   "metadata": {},
   "source": [
    "By analyzing the features that contain 3 classes, we see that some of them are boolean features ($public\\_meeting$ and $permit$), which take the values True, False or an empty string. There is also a feature $source_class$ that contains only 2 classes and an $unknown$ class. By analyzing the distribution of the different classes of these features, we can see that the missing values are always very minoritary, we could therefore remove the problematic samples and encode these features as boolean 0-1 features."
   ]
  },
  {
   "cell_type": "code",
   "execution_count": 15,
   "metadata": {},
   "outputs": [
    {
     "name": "stdout",
     "output_type": "stream",
     "text": [
      "[1] \"public_meeting\"\n",
      "[1] \n",
      "Levels:  False True\n",
      "[1] \"permit\"\n",
      "[1] True\n",
      "Levels:  False True\n"
     ]
    },
    {
     "data": {
      "image/png": "[encoded data removed]",
      "text/plain": [
       "plot without title"
      ]
     },
     "metadata": {
      "image/png": {
       "height": 420,
       "width": 420
      }
     },
     "output_type": "display_data"
    },
    {
     "name": "stdout",
     "output_type": "stream",
     "text": [
      "[1] \"source_class\"\n",
      "[1] groundwater\n",
      "Levels: groundwater surface unknown\n"
     ]
    },
    {
     "data": {
      "image/png": "[encoded data removed]",
      "text/plain": [
       "plot without title"
      ]
     },
     "metadata": {
      "image/png": {
       "height": 420,
       "width": 420
      }
     },
     "output_type": "display_data"
    },
    {
     "name": "stdout",
     "output_type": "stream",
     "text": [
      "[1] \"status_group\"\n",
      "[1] non functional\n",
      "Levels: functional functional needs repair non functional\n"
     ]
    },
    {
     "data": {
      "image/png": "[encoded data removed]",
      "text/plain": [
       "plot without title"
      ]
     },
     "metadata": {
      "image/png": {
       "height": 420,
       "width": 420
      }
     },
     "output_type": "display_data"
    },
    {
     "data": {
      "image/png": "[encoded data removed]",
      "text/plain": [
       "plot without title"
      ]
     },
     "metadata": {
      "image/png": {
       "height": 420,
       "width": 420
      }
     },
     "output_type": "display_data"
    }
   ],
   "source": [
    "for (n in colnames(data[,categorical_variables])) {\n",
    "    l <- nlevels(data[,n])\n",
    "    if (l == 3) {\n",
    "        print(n)\n",
    "        print(data[1,n])\n",
    "        barplot(table(data[,n]))\n",
    "    }\n",
    "}"
   ]
  },
  {
   "cell_type": "code",
   "execution_count": 16,
   "metadata": {},
   "outputs": [],
   "source": [
    "create_binary_features <- function(df) {\n",
    "    df <- df[df$public_meeting != \"\", ] \n",
    "    levels(df$public_meeting) <- c(levels(df$public_meeting), \"1\",\"0\") \n",
    "    df$public_meeting[df$public_meeting == \"True\"] <- 1\n",
    "    df$public_meeting[df$public_meeting != \"1\"] <- 0\n",
    "    df <- transform(df, public_meeting = as.integer(as.character(public_meeting)))\n",
    "    \n",
    "    df <- df[df$permit != \"\", ] \n",
    "    levels(df$permit) <- c(levels(df$permit), \"1\",\"0\") \n",
    "    df$permit[df$permit == \"True\"] <- 1\n",
    "    df$permit[df$permit != \"1\"] <- 0\n",
    "    df <- transform(df, permit = as.integer(as.character(permit)))\n",
    "    \n",
    "    df <- df[df$source_class != \"unknown\", ] \n",
    "    levels(df$source_class) <- c(levels(df$source_class), \"1\",\"0\") \n",
    "    df$source_class[df$source_class == \"groundwater\"] <- 1\n",
    "    df$source_class[df$source_class != \"1\"] <- 0\n",
    "    df <- transform(df, source_class = as.integer(as.character(source_class)))\n",
    "    return(df)\n",
    "}"
   ]
  },
  {
   "cell_type": "markdown",
   "metadata": {},
   "source": [
    "### Convert the dates"
   ]
  },
  {
   "cell_type": "markdown",
   "metadata": {},
   "source": [
    "The feature $date\\_recorded$ is a categorical variable but can easily be converted into a numerical one."
   ]
  },
  {
   "cell_type": "code",
   "execution_count": 17,
   "metadata": {},
   "outputs": [],
   "source": [
    "convert_date_to_numeric <- function(df) {\n",
    "    df$date_recorded <- as.numeric(as.Date(df$date_recorded))\n",
    "    return(df)\n",
    "}"
   ]
  },
  {
   "cell_type": "code",
   "execution_count": 94,
   "metadata": {},
   "outputs": [],
   "source": [
    "demo_data <- convert_date_to_numeric(demo_data)"
   ]
  },
  {
   "cell_type": "code",
   "execution_count": 264,
   "metadata": {
    "scrolled": true
   },
   "outputs": [
    {
     "data": {
      "text/html": [
       "<table class=\"dataframe\">\n",
       "<caption>A data.frame: 20 × 41</caption>\n",
       "<thead>\n",
       "\t<tr><th></th><th scope=col>id</th><th scope=col>amount_tsh</th><th scope=col>date_recorded</th><th scope=col>funder</th><th scope=col>gps_height</th><th scope=col>installer</th><th scope=col>longitude</th><th scope=col>latitude</th><th scope=col>wpt_name</th><th scope=col>num_private</th><th scope=col>basin</th><th scope=col>subvillage</th><th scope=col>region</th><th scope=col>region_code</th><th scope=col>district_code</th><th scope=col>lga</th><th scope=col>ward</th><th scope=col>population</th><th scope=col>public_meeting</th><th scope=col>recorded_by</th><th scope=col>scheme_management</th><th scope=col>scheme_name</th><th scope=col>permit</th><th scope=col>construction_year</th><th scope=col>extraction_type</th><th scope=col>extraction_type_group</th><th scope=col>extraction_type_class</th><th scope=col>management</th><th scope=col>management_group</th><th scope=col>payment</th><th scope=col>payment_type</th><th scope=col>water_quality</th><th scope=col>quality_group</th><th scope=col>quantity</th><th scope=col>quantity_group</th><th scope=col>source</th><th scope=col>source_type</th><th scope=col>source_class</th><th scope=col>waterpoint_type</th><th scope=col>waterpoint_type_group</th><th scope=col>status_group</th></tr>\n",
       "\t<tr><th></th><th scope=col>&lt;int&gt;</th><th scope=col>&lt;dbl&gt;</th><th scope=col>&lt;fct&gt;</th><th scope=col>&lt;fct&gt;</th><th scope=col>&lt;int&gt;</th><th scope=col>&lt;fct&gt;</th><th scope=col>&lt;dbl&gt;</th><th scope=col>&lt;dbl&gt;</th><th scope=col>&lt;fct&gt;</th><th scope=col>&lt;int&gt;</th><th scope=col>&lt;fct&gt;</th><th scope=col>&lt;fct&gt;</th><th scope=col>&lt;fct&gt;</th><th scope=col>&lt;int&gt;</th><th scope=col>&lt;int&gt;</th><th scope=col>&lt;fct&gt;</th><th scope=col>&lt;fct&gt;</th><th scope=col>&lt;int&gt;</th><th scope=col>&lt;fct&gt;</th><th scope=col>&lt;fct&gt;</th><th scope=col>&lt;fct&gt;</th><th scope=col>&lt;fct&gt;</th><th scope=col>&lt;fct&gt;</th><th scope=col>&lt;int&gt;</th><th scope=col>&lt;fct&gt;</th><th scope=col>&lt;fct&gt;</th><th scope=col>&lt;fct&gt;</th><th scope=col>&lt;fct&gt;</th><th scope=col>&lt;fct&gt;</th><th scope=col>&lt;fct&gt;</th><th scope=col>&lt;fct&gt;</th><th scope=col>&lt;fct&gt;</th><th scope=col>&lt;fct&gt;</th><th scope=col>&lt;fct&gt;</th><th scope=col>&lt;fct&gt;</th><th scope=col>&lt;fct&gt;</th><th scope=col>&lt;fct&gt;</th><th scope=col>&lt;fct&gt;</th><th scope=col>&lt;fct&gt;</th><th scope=col>&lt;fct&gt;</th><th scope=col>&lt;fct&gt;</th></tr>\n",
       "</thead>\n",
       "<tbody>\n",
       "\t<tr><th scope=row>1</th><td> 0</td><td>  0</td><td>2012-11-13</td><td>Tasaf                  </td><td>   0</td><td>TASAF     </td><td>33.12583</td><td> -5.11815407</td><td>Mratibu                     </td><td>0</td><td>Lake Tanganyika        </td><td>Majengo        </td><td>Tabora       </td><td>14</td><td> 3</td><td>Uyui           </td><td>Igalula         </td><td>   0</td><td>     </td><td>GeoData Consultants Ltd</td><td>VWC             </td><td>                         </td><td>True </td><td>   0</td><td>afridev          </td><td>afridev    </td><td>handpump   </td><td>vwc             </td><td>user-group</td><td>unknown              </td><td>unknown   </td><td>milky          </td><td>milky</td><td>enough      </td><td>enough      </td><td>shallow well        </td><td>shallow well        </td><td>groundwater</td><td>hand pump                  </td><td>hand pump         </td><td>non functional         </td></tr>\n",
       "\t<tr><th scope=row>2</th><td> 1</td><td>  0</td><td>2011-03-05</td><td>Shipo                  </td><td>1978</td><td>SHIPO     </td><td>34.77072</td><td> -9.39564152</td><td>none                        </td><td>0</td><td>Rufiji                 </td><td>Magoda C       </td><td>Iringa       </td><td>11</td><td> 4</td><td>Njombe         </td><td>Uwemba          </td><td>  20</td><td>True </td><td>GeoData Consultants Ltd</td><td>                </td><td>                         </td><td>False</td><td>2008</td><td>other - rope pump</td><td>rope pump  </td><td>rope pump  </td><td>vwc             </td><td>user-group</td><td>never pay            </td><td>never pay </td><td>soft           </td><td>good </td><td>enough      </td><td>enough      </td><td>shallow well        </td><td>shallow well        </td><td>groundwater</td><td>hand pump                  </td><td>hand pump         </td><td>functional             </td></tr>\n",
       "\t<tr><th scope=row>3</th><td> 2</td><td>  0</td><td>2011-03-27</td><td>Lvia                   </td><td>   0</td><td>LVIA      </td><td>36.11506</td><td> -6.27926803</td><td>Bombani                     </td><td>0</td><td>Wami / Ruvu            </td><td>Songambele     </td><td>Dodoma       </td><td> 1</td><td> 4</td><td>Chamwino       </td><td>Msamalo         </td><td>   0</td><td>True </td><td>GeoData Consultants Ltd</td><td>VWC             </td><td>Mgun                     </td><td>True </td><td>   0</td><td>mono             </td><td>mono       </td><td>motorpump  </td><td>vwc             </td><td>user-group</td><td>pay per bucket       </td><td>per bucket</td><td>soft           </td><td>good </td><td>insufficient</td><td>insufficient</td><td>machine dbh         </td><td>borehole            </td><td>groundwater</td><td>communal standpipe multiple</td><td>communal standpipe</td><td>functional             </td></tr>\n",
       "\t<tr><th scope=row>4</th><td> 3</td><td> 10</td><td>2013-06-03</td><td>Germany Republi        </td><td>1639</td><td>CES       </td><td>37.14743</td><td> -3.18755455</td><td>Area 7 Namba 5              </td><td>0</td><td>Pangani                </td><td>Urereni        </td><td>Kilimanjaro  </td><td> 3</td><td> 5</td><td>Hai            </td><td>Masama Magharibi</td><td>  25</td><td>True </td><td>GeoData Consultants Ltd</td><td>Water Board     </td><td>Losaa-Kia water supply   </td><td>True </td><td>1999</td><td>gravity          </td><td>gravity    </td><td>gravity    </td><td>water board     </td><td>user-group</td><td>pay per bucket       </td><td>per bucket</td><td>soft           </td><td>good </td><td>enough      </td><td>enough      </td><td>spring              </td><td>spring              </td><td>groundwater</td><td>communal standpipe         </td><td>communal standpipe</td><td>functional             </td></tr>\n",
       "\t<tr><th scope=row>5</th><td> 4</td><td>  0</td><td>2011-03-22</td><td>Cmsr                   </td><td>   0</td><td>CMSR      </td><td>36.16489</td><td> -6.09928949</td><td>Ezeleda                     </td><td>0</td><td>Wami / Ruvu            </td><td>Maata A        </td><td>Dodoma       </td><td> 1</td><td> 4</td><td>Chamwino       </td><td>Majeleko        </td><td>   0</td><td>True </td><td>GeoData Consultants Ltd</td><td>VWC             </td><td>                         </td><td>True </td><td>   0</td><td>nira/tanira      </td><td>nira/tanira</td><td>handpump   </td><td>vwc             </td><td>user-group</td><td>unknown              </td><td>unknown   </td><td>soft           </td><td>good </td><td>dry         </td><td>dry         </td><td>shallow well        </td><td>shallow well        </td><td>groundwater</td><td>hand pump                  </td><td>hand pump         </td><td>non functional         </td></tr>\n",
       "\t<tr><th scope=row>6</th><td> 5</td><td> 50</td><td>2011-02-26</td><td>Private                </td><td>  28</td><td>Private   </td><td>39.28612</td><td> -6.97240273</td><td>Kwa Namaj                   </td><td>0</td><td>Wami / Ruvu            </td><td>Mwandege       </td><td>Pwani        </td><td>60</td><td>43</td><td>Mkuranga       </td><td>Vikindu         </td><td>6922</td><td>True </td><td>GeoData Consultants Ltd</td><td>Private operator</td><td>                         </td><td>False</td><td>   0</td><td>submersible      </td><td>submersible</td><td>submersible</td><td>private operator</td><td>commercial</td><td>pay per bucket       </td><td>per bucket</td><td>soft           </td><td>good </td><td>enough      </td><td>enough      </td><td>machine dbh         </td><td>borehole            </td><td>groundwater</td><td>communal standpipe multiple</td><td>communal standpipe</td><td>functional             </td></tr>\n",
       "\t<tr><th scope=row>7</th><td> 6</td><td>  0</td><td>2012-10-20</td><td>Government Of Tanzania </td><td>   0</td><td>Government</td><td>33.22988</td><td> -3.85298271</td><td>Mission                     </td><td>0</td><td>Internal               </td><td>Ngaganulwa     </td><td>Shinyanga    </td><td>17</td><td> 3</td><td>Shinyanga Rural</td><td>Usanda          </td><td>   0</td><td>True </td><td>GeoData Consultants Ltd</td><td>VWC             </td><td>                         </td><td>True </td><td>   0</td><td>other            </td><td>other      </td><td>other      </td><td>vwc             </td><td>user-group</td><td>never pay            </td><td>never pay </td><td>soft           </td><td>good </td><td>seasonal    </td><td>seasonal    </td><td>shallow well        </td><td>shallow well        </td><td>groundwater</td><td>other                      </td><td>other             </td><td>non functional         </td></tr>\n",
       "\t<tr><th scope=row>8</th><td> 7</td><td>  0</td><td>2011-03-23</td><td>Water                  </td><td>   0</td><td>Gover     </td><td>36.31362</td><td> -6.71925716</td><td>Itawi                       </td><td>0</td><td>Rufiji                 </td><td>Mwangaza       </td><td>Dodoma       </td><td> 1</td><td> 1</td><td>Mpwapwa        </td><td>Wotta           </td><td>   0</td><td>True </td><td>GeoData Consultants Ltd</td><td>VWC             </td><td>Lwih                     </td><td>True </td><td>   0</td><td>other            </td><td>other      </td><td>other      </td><td>vwc             </td><td>user-group</td><td>never pay            </td><td>never pay </td><td>milky          </td><td>milky</td><td>insufficient</td><td>insufficient</td><td>spring              </td><td>spring              </td><td>groundwater</td><td>improved spring            </td><td>improved spring   </td><td>functional             </td></tr>\n",
       "\t<tr><th scope=row>9</th><td> 8</td><td>  0</td><td>2011-04-07</td><td>Water                  </td><td>   0</td><td>Commu     </td><td>35.93944</td><td> -6.01435820</td><td>Kwa Chiswagala              </td><td>0</td><td>Wami / Ruvu            </td><td>Mazengo        </td><td>Dodoma       </td><td> 1</td><td> 5</td><td>Dodoma Urban   </td><td>Ipala           </td><td>   0</td><td>True </td><td>GeoData Consultants Ltd</td><td>VWC             </td><td>Ipal                     </td><td>False</td><td>   0</td><td>mono             </td><td>mono       </td><td>motorpump  </td><td>private operator</td><td>commercial</td><td>pay per bucket       </td><td>per bucket</td><td>soft           </td><td>good </td><td>dry         </td><td>dry         </td><td>machine dbh         </td><td>borehole            </td><td>groundwater</td><td>communal standpipe multiple</td><td>communal standpipe</td><td>non functional         </td></tr>\n",
       "\t<tr><th scope=row>10</th><td> 9</td><td>  0</td><td>2011-07-12</td><td>Ded                    </td><td>   0</td><td>DED       </td><td>31.69337</td><td> -2.53070326</td><td>Shule Ya Msingi Nyamirembe A</td><td>0</td><td>Lake Victoria          </td><td>Miembeni       </td><td>Kagera       </td><td>18</td><td> 8</td><td>Chato          </td><td>Nyamirembe      </td><td>   0</td><td>True </td><td>GeoData Consultants Ltd</td><td>VWC             </td><td>Mapinduzi                </td><td>True </td><td>   0</td><td>mono             </td><td>mono       </td><td>motorpump  </td><td>vwc             </td><td>user-group</td><td>never pay            </td><td>never pay </td><td>soft           </td><td>good </td><td>insufficient</td><td>insufficient</td><td>machine dbh         </td><td>borehole            </td><td>groundwater</td><td>communal standpipe multiple</td><td>communal standpipe</td><td>non functional         </td></tr>\n",
       "\t<tr><th scope=row>11</th><td>11</td><td> 30</td><td>2011-03-09</td><td>Kwa Makala             </td><td>  64</td><td>Makala    </td><td>38.66364</td><td> -5.80574551</td><td>Kwa Makala                  </td><td>0</td><td>Pangani                </td><td>Sokoni         </td><td>Tanga        </td><td> 4</td><td> 5</td><td>Pangani        </td><td>Mkalamo         </td><td> 150</td><td>False</td><td>GeoData Consultants Ltd</td><td>Private operator</td><td>Mkalamo water supply     </td><td>False</td><td>2007</td><td>submersible      </td><td>submersible</td><td>submersible</td><td>private operator</td><td>commercial</td><td>pay per bucket       </td><td>per bucket</td><td>salty          </td><td>salty</td><td>insufficient</td><td>insufficient</td><td>machine dbh         </td><td>borehole            </td><td>groundwater</td><td>communal standpipe         </td><td>communal standpipe</td><td>non functional         </td></tr>\n",
       "\t<tr><th scope=row>12</th><td>12</td><td>  0</td><td>2013-03-14</td><td>World Bank             </td><td>1332</td><td>World bank</td><td>36.75623</td><td> -3.37377239</td><td>Moivaro Primary School      </td><td>0</td><td>Pangani                </td><td>Moivaro        </td><td>Arusha       </td><td> 2</td><td> 7</td><td>Meru           </td><td>Nkoanrua        </td><td> 350</td><td>True </td><td>GeoData Consultants Ltd</td><td>WUA             </td><td>                         </td><td>False</td><td>2010</td><td>gravity          </td><td>gravity    </td><td>gravity    </td><td>wua             </td><td>user-group</td><td>unknown              </td><td>unknown   </td><td>soft           </td><td>good </td><td>insufficient</td><td>insufficient</td><td>rainwater harvesting</td><td>rainwater harvesting</td><td>surface    </td><td>communal standpipe         </td><td>communal standpipe</td><td>non functional         </td></tr>\n",
       "\t<tr><th scope=row>13</th><td>15</td><td>  0</td><td>2012-11-06</td><td>Hesawa                 </td><td>   0</td><td>DWE       </td><td> 0.00000</td><td> -0.00000002</td><td>Kwamazoa                    </td><td>0</td><td>Lake Victoria          </td><td>Madukani       </td><td>Mwanza       </td><td>19</td><td> 2</td><td>Magu           </td><td>Igalukilo       </td><td>   0</td><td>True </td><td>GeoData Consultants Ltd</td><td>                </td><td>                         </td><td>True </td><td>   0</td><td>other            </td><td>other      </td><td>other      </td><td>vwc             </td><td>user-group</td><td>never pay            </td><td>never pay </td><td>soft           </td><td>good </td><td>seasonal    </td><td>seasonal    </td><td>shallow well        </td><td>shallow well        </td><td>groundwater</td><td>other                      </td><td>other             </td><td>non functional         </td></tr>\n",
       "\t<tr><th scope=row>14</th><td>16</td><td>  0</td><td>2013-02-03</td><td>Songea District Council</td><td>1014</td><td>DWE       </td><td>35.33371</td><td>-10.46963842</td><td>Kwa Feristasi               </td><td>0</td><td>Lake Nyasa             </td><td>Amka Twende    </td><td>Ruvuma       </td><td>10</td><td> 2</td><td>Songea Rural   </td><td>Kilagano        </td><td>   0</td><td>True </td><td>GeoData Consultants Ltd</td><td>VWC             </td><td>Mradi wa maji wa kilagano</td><td>True </td><td>1984</td><td>gravity          </td><td>gravity    </td><td>gravity    </td><td>vwc             </td><td>user-group</td><td>pay when scheme fails</td><td>on failure</td><td>soft           </td><td>good </td><td>dry         </td><td>dry         </td><td>spring              </td><td>spring              </td><td>groundwater</td><td>communal standpipe         </td><td>communal standpipe</td><td>non functional         </td></tr>\n",
       "\t<tr><th scope=row>15</th><td>17</td><td>  0</td><td>2013-03-28</td><td>World Bank             </td><td>1606</td><td>DWE       </td><td>36.62429</td><td> -3.27627358</td><td>Seuli                       </td><td>0</td><td>Pangani                </td><td>Seuli          </td><td>Arusha       </td><td> 2</td><td> 2</td><td>Arusha Rural   </td><td>Oltrumet        </td><td> 200</td><td>True </td><td>GeoData Consultants Ltd</td><td>VWC             </td><td>Mlimani pipe line        </td><td>True </td><td>2010</td><td>gravity          </td><td>gravity    </td><td>gravity    </td><td>vwc             </td><td>user-group</td><td>never pay            </td><td>never pay </td><td>soft           </td><td>good </td><td>enough      </td><td>enough      </td><td>spring              </td><td>spring              </td><td>groundwater</td><td>communal standpipe         </td><td>communal standpipe</td><td>functional             </td></tr>\n",
       "\t<tr><th scope=row>16</th><td>18</td><td>  0</td><td>2011-03-13</td><td>Water                  </td><td>   0</td><td>Commu     </td><td>36.52430</td><td> -6.18081796</td><td>Kwa Majele                  </td><td>0</td><td>Wami / Ruvu            </td><td>               </td><td>Dodoma       </td><td> 1</td><td> 3</td><td>Kongwa         </td><td>Ugogoni         </td><td>   0</td><td>True </td><td>GeoData Consultants Ltd</td><td>VWC             </td><td>Msin                     </td><td>False</td><td>   0</td><td>mono             </td><td>mono       </td><td>motorpump  </td><td>vwc             </td><td>user-group</td><td>pay per bucket       </td><td>per bucket</td><td>salty          </td><td>salty</td><td>enough      </td><td>enough      </td><td>machine dbh         </td><td>borehole            </td><td>groundwater</td><td>communal standpipe multiple</td><td>communal standpipe</td><td>functional             </td></tr>\n",
       "\t<tr><th scope=row>17</th><td>19</td><td> 50</td><td>2013-02-23</td><td>Amref                  </td><td> 226</td><td>Amref     </td><td>39.73442</td><td>-10.56919171</td><td>Kwa Ally Likomba            </td><td>0</td><td>Ruvuma / Southern Coast</td><td>Mwenge         </td><td>Mtwara       </td><td>99</td><td> 1</td><td>Mtwara Rural   </td><td>Njengwa         </td><td> 450</td><td>True </td><td>GeoData Consultants Ltd</td><td>VWC             </td><td>Nang'awanga water supply </td><td>True </td><td>2012</td><td>mono             </td><td>mono       </td><td>motorpump  </td><td>vwc             </td><td>user-group</td><td>pay per bucket       </td><td>per bucket</td><td>soft           </td><td>good </td><td>enough      </td><td>enough      </td><td>machine dbh         </td><td>borehole            </td><td>groundwater</td><td>communal standpipe multiple</td><td>communal standpipe</td><td>functional             </td></tr>\n",
       "\t<tr><th scope=row>18</th><td>20</td><td>250</td><td>2013-02-09</td><td>Oxfam                  </td><td>1257</td><td>OXFAM     </td><td>29.90178</td><td> -4.54070514</td><td>Ccm                         </td><td>0</td><td>Lake Tanganyika        </td><td>Gwandamula     </td><td>Kigoma       </td><td>16</td><td> 2</td><td>Kasulu         </td><td>Janda           </td><td> 340</td><td>True </td><td>GeoData Consultants Ltd</td><td>Water authority </td><td>Mwangwe                  </td><td>True </td><td>1999</td><td>gravity          </td><td>gravity    </td><td>gravity    </td><td>water board     </td><td>user-group</td><td>pay monthly          </td><td>monthly   </td><td>soft           </td><td>good </td><td>enough      </td><td>enough      </td><td>river               </td><td>river/lake          </td><td>surface    </td><td>communal standpipe multiple</td><td>communal standpipe</td><td>functional needs repair</td></tr>\n",
       "\t<tr><th scope=row>19</th><td>21</td><td>  0</td><td>2011-03-22</td><td>Government Of Tanzania </td><td>   0</td><td>GOVER     </td><td>36.24521</td><td> -6.01976068</td><td>Salum Sady                  </td><td>0</td><td>Wami / Ruvu            </td><td>Manzilanzi A   </td><td>Dodoma       </td><td> 1</td><td> 4</td><td>Chamwino       </td><td>Majeleko        </td><td>   0</td><td>True </td><td>GeoData Consultants Ltd</td><td>VWC             </td><td>Manz                     </td><td>True </td><td>   0</td><td>mono             </td><td>mono       </td><td>motorpump  </td><td>vwc             </td><td>user-group</td><td>unknown              </td><td>unknown   </td><td>soft           </td><td>good </td><td>dry         </td><td>dry         </td><td>machine dbh         </td><td>borehole            </td><td>groundwater</td><td>communal standpipe multiple</td><td>communal standpipe</td><td>non functional         </td></tr>\n",
       "\t<tr><th scope=row>20</th><td>22</td><td> 50</td><td>2013-03-16</td><td>                       </td><td>  76</td><td>          </td><td>39.08618</td><td> -6.98584173</td><td>Kwa Konde                   </td><td>0</td><td>Wami / Ruvu            </td><td>Mtaa Wa Tungini</td><td>Dar es Salaam</td><td> 7</td><td> 2</td><td>Ilala          </td><td>Chanika         </td><td> 250</td><td>     </td><td>GeoData Consultants Ltd</td><td>Private operator</td><td>                         </td><td>     </td><td>2010</td><td>other            </td><td>other      </td><td>other      </td><td>private operator</td><td>commercial</td><td>pay per bucket       </td><td>per bucket</td><td>salty abandoned</td><td>salty</td><td>enough      </td><td>enough      </td><td>machine dbh         </td><td>borehole            </td><td>groundwater</td><td>communal standpipe         </td><td>communal standpipe</td><td>functional             </td></tr>\n",
       "</tbody>\n",
       "</table>\n"
      ],
      "text/latex": [
       "A data.frame: 20 × 41\n",
       "\\begin{tabular}{r|lllllllllllllllllllllllllllllllllllllllll}\n",
       "  & id & amount\\_tsh & date\\_recorded & funder & gps\\_height & installer & longitude & latitude & wpt\\_name & num\\_private & basin & subvillage & region & region\\_code & district\\_code & lga & ward & population & public\\_meeting & recorded\\_by & scheme\\_management & scheme\\_name & permit & construction\\_year & extraction\\_type & extraction\\_type\\_group & extraction\\_type\\_class & management & management\\_group & payment & payment\\_type & water\\_quality & quality\\_group & quantity & quantity\\_group & source & source\\_type & source\\_class & waterpoint\\_type & waterpoint\\_type\\_group & status\\_group\\\\\n",
       "  & <int> & <dbl> & <fct> & <fct> & <int> & <fct> & <dbl> & <dbl> & <fct> & <int> & <fct> & <fct> & <fct> & <int> & <int> & <fct> & <fct> & <int> & <fct> & <fct> & <fct> & <fct> & <fct> & <int> & <fct> & <fct> & <fct> & <fct> & <fct> & <fct> & <fct> & <fct> & <fct> & <fct> & <fct> & <fct> & <fct> & <fct> & <fct> & <fct> & <fct>\\\\\n",
       "\\hline\n",
       "\t1 &  0 &   0 & 2012-11-13 & Tasaf                   &    0 & TASAF      & 33.12583 &  -5.11815407 & Mratibu                      & 0 & Lake Tanganyika         & Majengo         & Tabora        & 14 &  3 & Uyui            & Igalula          &    0 &       & GeoData Consultants Ltd & VWC              &                           & True  &    0 & afridev           & afridev     & handpump    & vwc              & user-group & unknown               & unknown    & milky           & milky & enough       & enough       & shallow well         & shallow well         & groundwater & hand pump                   & hand pump          & non functional         \\\\\n",
       "\t2 &  1 &   0 & 2011-03-05 & Shipo                   & 1978 & SHIPO      & 34.77072 &  -9.39564152 & none                         & 0 & Rufiji                  & Magoda C        & Iringa        & 11 &  4 & Njombe          & Uwemba           &   20 & True  & GeoData Consultants Ltd &                  &                           & False & 2008 & other - rope pump & rope pump   & rope pump   & vwc              & user-group & never pay             & never pay  & soft            & good  & enough       & enough       & shallow well         & shallow well         & groundwater & hand pump                   & hand pump          & functional             \\\\\n",
       "\t3 &  2 &   0 & 2011-03-27 & Lvia                    &    0 & LVIA       & 36.11506 &  -6.27926803 & Bombani                      & 0 & Wami / Ruvu             & Songambele      & Dodoma        &  1 &  4 & Chamwino        & Msamalo          &    0 & True  & GeoData Consultants Ltd & VWC              & Mgun                      & True  &    0 & mono              & mono        & motorpump   & vwc              & user-group & pay per bucket        & per bucket & soft            & good  & insufficient & insufficient & machine dbh          & borehole             & groundwater & communal standpipe multiple & communal standpipe & functional             \\\\\n",
       "\t4 &  3 &  10 & 2013-06-03 & Germany Republi         & 1639 & CES        & 37.14743 &  -3.18755455 & Area 7 Namba 5               & 0 & Pangani                 & Urereni         & Kilimanjaro   &  3 &  5 & Hai             & Masama Magharibi &   25 & True  & GeoData Consultants Ltd & Water Board      & Losaa-Kia water supply    & True  & 1999 & gravity           & gravity     & gravity     & water board      & user-group & pay per bucket        & per bucket & soft            & good  & enough       & enough       & spring               & spring               & groundwater & communal standpipe          & communal standpipe & functional             \\\\\n",
       "\t5 &  4 &   0 & 2011-03-22 & Cmsr                    &    0 & CMSR       & 36.16489 &  -6.09928949 & Ezeleda                      & 0 & Wami / Ruvu             & Maata A         & Dodoma        &  1 &  4 & Chamwino        & Majeleko         &    0 & True  & GeoData Consultants Ltd & VWC              &                           & True  &    0 & nira/tanira       & nira/tanira & handpump    & vwc              & user-group & unknown               & unknown    & soft            & good  & dry          & dry          & shallow well         & shallow well         & groundwater & hand pump                   & hand pump          & non functional         \\\\\n",
       "\t6 &  5 &  50 & 2011-02-26 & Private                 &   28 & Private    & 39.28612 &  -6.97240273 & Kwa Namaj                    & 0 & Wami / Ruvu             & Mwandege        & Pwani         & 60 & 43 & Mkuranga        & Vikindu          & 6922 & True  & GeoData Consultants Ltd & Private operator &                           & False &    0 & submersible       & submersible & submersible & private operator & commercial & pay per bucket        & per bucket & soft            & good  & enough       & enough       & machine dbh          & borehole             & groundwater & communal standpipe multiple & communal standpipe & functional             \\\\\n",
       "\t7 &  6 &   0 & 2012-10-20 & Government Of Tanzania  &    0 & Government & 33.22988 &  -3.85298271 & Mission                      & 0 & Internal                & Ngaganulwa      & Shinyanga     & 17 &  3 & Shinyanga Rural & Usanda           &    0 & True  & GeoData Consultants Ltd & VWC              &                           & True  &    0 & other             & other       & other       & vwc              & user-group & never pay             & never pay  & soft            & good  & seasonal     & seasonal     & shallow well         & shallow well         & groundwater & other                       & other              & non functional         \\\\\n",
       "\t8 &  7 &   0 & 2011-03-23 & Water                   &    0 & Gover      & 36.31362 &  -6.71925716 & Itawi                        & 0 & Rufiji                  & Mwangaza        & Dodoma        &  1 &  1 & Mpwapwa         & Wotta            &    0 & True  & GeoData Consultants Ltd & VWC              & Lwih                      & True  &    0 & other             & other       & other       & vwc              & user-group & never pay             & never pay  & milky           & milky & insufficient & insufficient & spring               & spring               & groundwater & improved spring             & improved spring    & functional             \\\\\n",
       "\t9 &  8 &   0 & 2011-04-07 & Water                   &    0 & Commu      & 35.93944 &  -6.01435820 & Kwa Chiswagala               & 0 & Wami / Ruvu             & Mazengo         & Dodoma        &  1 &  5 & Dodoma Urban    & Ipala            &    0 & True  & GeoData Consultants Ltd & VWC              & Ipal                      & False &    0 & mono              & mono        & motorpump   & private operator & commercial & pay per bucket        & per bucket & soft            & good  & dry          & dry          & machine dbh          & borehole             & groundwater & communal standpipe multiple & communal standpipe & non functional         \\\\\n",
       "\t10 &  9 &   0 & 2011-07-12 & Ded                     &    0 & DED        & 31.69337 &  -2.53070326 & Shule Ya Msingi Nyamirembe A & 0 & Lake Victoria           & Miembeni        & Kagera        & 18 &  8 & Chato           & Nyamirembe       &    0 & True  & GeoData Consultants Ltd & VWC              & Mapinduzi                 & True  &    0 & mono              & mono        & motorpump   & vwc              & user-group & never pay             & never pay  & soft            & good  & insufficient & insufficient & machine dbh          & borehole             & groundwater & communal standpipe multiple & communal standpipe & non functional         \\\\\n",
       "\t11 & 11 &  30 & 2011-03-09 & Kwa Makala              &   64 & Makala     & 38.66364 &  -5.80574551 & Kwa Makala                   & 0 & Pangani                 & Sokoni          & Tanga         &  4 &  5 & Pangani         & Mkalamo          &  150 & False & GeoData Consultants Ltd & Private operator & Mkalamo water supply      & False & 2007 & submersible       & submersible & submersible & private operator & commercial & pay per bucket        & per bucket & salty           & salty & insufficient & insufficient & machine dbh          & borehole             & groundwater & communal standpipe          & communal standpipe & non functional         \\\\\n",
       "\t12 & 12 &   0 & 2013-03-14 & World Bank              & 1332 & World bank & 36.75623 &  -3.37377239 & Moivaro Primary School       & 0 & Pangani                 & Moivaro         & Arusha        &  2 &  7 & Meru            & Nkoanrua         &  350 & True  & GeoData Consultants Ltd & WUA              &                           & False & 2010 & gravity           & gravity     & gravity     & wua              & user-group & unknown               & unknown    & soft            & good  & insufficient & insufficient & rainwater harvesting & rainwater harvesting & surface     & communal standpipe          & communal standpipe & non functional         \\\\\n",
       "\t13 & 15 &   0 & 2012-11-06 & Hesawa                  &    0 & DWE        &  0.00000 &  -0.00000002 & Kwamazoa                     & 0 & Lake Victoria           & Madukani        & Mwanza        & 19 &  2 & Magu            & Igalukilo        &    0 & True  & GeoData Consultants Ltd &                  &                           & True  &    0 & other             & other       & other       & vwc              & user-group & never pay             & never pay  & soft            & good  & seasonal     & seasonal     & shallow well         & shallow well         & groundwater & other                       & other              & non functional         \\\\\n",
       "\t14 & 16 &   0 & 2013-02-03 & Songea District Council & 1014 & DWE        & 35.33371 & -10.46963842 & Kwa Feristasi                & 0 & Lake Nyasa              & Amka Twende     & Ruvuma        & 10 &  2 & Songea Rural    & Kilagano         &    0 & True  & GeoData Consultants Ltd & VWC              & Mradi wa maji wa kilagano & True  & 1984 & gravity           & gravity     & gravity     & vwc              & user-group & pay when scheme fails & on failure & soft            & good  & dry          & dry          & spring               & spring               & groundwater & communal standpipe          & communal standpipe & non functional         \\\\\n",
       "\t15 & 17 &   0 & 2013-03-28 & World Bank              & 1606 & DWE        & 36.62429 &  -3.27627358 & Seuli                        & 0 & Pangani                 & Seuli           & Arusha        &  2 &  2 & Arusha Rural    & Oltrumet         &  200 & True  & GeoData Consultants Ltd & VWC              & Mlimani pipe line         & True  & 2010 & gravity           & gravity     & gravity     & vwc              & user-group & never pay             & never pay  & soft            & good  & enough       & enough       & spring               & spring               & groundwater & communal standpipe          & communal standpipe & functional             \\\\\n",
       "\t16 & 18 &   0 & 2011-03-13 & Water                   &    0 & Commu      & 36.52430 &  -6.18081796 & Kwa Majele                   & 0 & Wami / Ruvu             &                 & Dodoma        &  1 &  3 & Kongwa          & Ugogoni          &    0 & True  & GeoData Consultants Ltd & VWC              & Msin                      & False &    0 & mono              & mono        & motorpump   & vwc              & user-group & pay per bucket        & per bucket & salty           & salty & enough       & enough       & machine dbh          & borehole             & groundwater & communal standpipe multiple & communal standpipe & functional             \\\\\n",
       "\t17 & 19 &  50 & 2013-02-23 & Amref                   &  226 & Amref      & 39.73442 & -10.56919171 & Kwa Ally Likomba             & 0 & Ruvuma / Southern Coast & Mwenge          & Mtwara        & 99 &  1 & Mtwara Rural    & Njengwa          &  450 & True  & GeoData Consultants Ltd & VWC              & Nang'awanga water supply  & True  & 2012 & mono              & mono        & motorpump   & vwc              & user-group & pay per bucket        & per bucket & soft            & good  & enough       & enough       & machine dbh          & borehole             & groundwater & communal standpipe multiple & communal standpipe & functional             \\\\\n",
       "\t18 & 20 & 250 & 2013-02-09 & Oxfam                   & 1257 & OXFAM      & 29.90178 &  -4.54070514 & Ccm                          & 0 & Lake Tanganyika         & Gwandamula      & Kigoma        & 16 &  2 & Kasulu          & Janda            &  340 & True  & GeoData Consultants Ltd & Water authority  & Mwangwe                   & True  & 1999 & gravity           & gravity     & gravity     & water board      & user-group & pay monthly           & monthly    & soft            & good  & enough       & enough       & river                & river/lake           & surface     & communal standpipe multiple & communal standpipe & functional needs repair\\\\\n",
       "\t19 & 21 &   0 & 2011-03-22 & Government Of Tanzania  &    0 & GOVER      & 36.24521 &  -6.01976068 & Salum Sady                   & 0 & Wami / Ruvu             & Manzilanzi A    & Dodoma        &  1 &  4 & Chamwino        & Majeleko         &    0 & True  & GeoData Consultants Ltd & VWC              & Manz                      & True  &    0 & mono              & mono        & motorpump   & vwc              & user-group & unknown               & unknown    & soft            & good  & dry          & dry          & machine dbh          & borehole             & groundwater & communal standpipe multiple & communal standpipe & non functional         \\\\\n",
       "\t20 & 22 &  50 & 2013-03-16 &                         &   76 &            & 39.08618 &  -6.98584173 & Kwa Konde                    & 0 & Wami / Ruvu             & Mtaa Wa Tungini & Dar es Salaam &  7 &  2 & Ilala           & Chanika          &  250 &       & GeoData Consultants Ltd & Private operator &                           &       & 2010 & other             & other       & other       & private operator & commercial & pay per bucket        & per bucket & salty abandoned & salty & enough       & enough       & machine dbh          & borehole             & groundwater & communal standpipe          & communal standpipe & functional             \\\\\n",
       "\\end{tabular}\n"
      ],
      "text/markdown": [
       "\n",
       "A data.frame: 20 × 41\n",
       "\n",
       "| <!--/--> | id &lt;int&gt; | amount_tsh &lt;dbl&gt; | date_recorded &lt;fct&gt; | funder &lt;fct&gt; | gps_height &lt;int&gt; | installer &lt;fct&gt; | longitude &lt;dbl&gt; | latitude &lt;dbl&gt; | wpt_name &lt;fct&gt; | num_private &lt;int&gt; | basin &lt;fct&gt; | subvillage &lt;fct&gt; | region &lt;fct&gt; | region_code &lt;int&gt; | district_code &lt;int&gt; | lga &lt;fct&gt; | ward &lt;fct&gt; | population &lt;int&gt; | public_meeting &lt;fct&gt; | recorded_by &lt;fct&gt; | scheme_management &lt;fct&gt; | scheme_name &lt;fct&gt; | permit &lt;fct&gt; | construction_year &lt;int&gt; | extraction_type &lt;fct&gt; | extraction_type_group &lt;fct&gt; | extraction_type_class &lt;fct&gt; | management &lt;fct&gt; | management_group &lt;fct&gt; | payment &lt;fct&gt; | payment_type &lt;fct&gt; | water_quality &lt;fct&gt; | quality_group &lt;fct&gt; | quantity &lt;fct&gt; | quantity_group &lt;fct&gt; | source &lt;fct&gt; | source_type &lt;fct&gt; | source_class &lt;fct&gt; | waterpoint_type &lt;fct&gt; | waterpoint_type_group &lt;fct&gt; | status_group &lt;fct&gt; |\n",
       "|---|---|---|---|---|---|---|---|---|---|---|---|---|---|---|---|---|---|---|---|---|---|---|---|---|---|---|---|---|---|---|---|---|---|---|---|---|---|---|---|---|---|\n",
       "| 1 |  0 |   0 | 2012-11-13 | Tasaf                   |    0 | TASAF      | 33.12583 |  -5.11815407 | Mratibu                      | 0 | Lake Tanganyika         | Majengo         | Tabora        | 14 |  3 | Uyui            | Igalula          |    0 | <!----> | GeoData Consultants Ltd | VWC              | <!----> | True  |    0 | afridev           | afridev     | handpump    | vwc              | user-group | unknown               | unknown    | milky           | milky | enough       | enough       | shallow well         | shallow well         | groundwater | hand pump                   | hand pump          | non functional          |\n",
       "| 2 |  1 |   0 | 2011-03-05 | Shipo                   | 1978 | SHIPO      | 34.77072 |  -9.39564152 | none                         | 0 | Rufiji                  | Magoda C        | Iringa        | 11 |  4 | Njombe          | Uwemba           |   20 | True  | GeoData Consultants Ltd | <!----> | <!----> | False | 2008 | other - rope pump | rope pump   | rope pump   | vwc              | user-group | never pay             | never pay  | soft            | good  | enough       | enough       | shallow well         | shallow well         | groundwater | hand pump                   | hand pump          | functional              |\n",
       "| 3 |  2 |   0 | 2011-03-27 | Lvia                    |    0 | LVIA       | 36.11506 |  -6.27926803 | Bombani                      | 0 | Wami / Ruvu             | Songambele      | Dodoma        |  1 |  4 | Chamwino        | Msamalo          |    0 | True  | GeoData Consultants Ltd | VWC              | Mgun                      | True  |    0 | mono              | mono        | motorpump   | vwc              | user-group | pay per bucket        | per bucket | soft            | good  | insufficient | insufficient | machine dbh          | borehole             | groundwater | communal standpipe multiple | communal standpipe | functional              |\n",
       "| 4 |  3 |  10 | 2013-06-03 | Germany Republi         | 1639 | CES        | 37.14743 |  -3.18755455 | Area 7 Namba 5               | 0 | Pangani                 | Urereni         | Kilimanjaro   |  3 |  5 | Hai             | Masama Magharibi |   25 | True  | GeoData Consultants Ltd | Water Board      | Losaa-Kia water supply    | True  | 1999 | gravity           | gravity     | gravity     | water board      | user-group | pay per bucket        | per bucket | soft            | good  | enough       | enough       | spring               | spring               | groundwater | communal standpipe          | communal standpipe | functional              |\n",
       "| 5 |  4 |   0 | 2011-03-22 | Cmsr                    |    0 | CMSR       | 36.16489 |  -6.09928949 | Ezeleda                      | 0 | Wami / Ruvu             | Maata A         | Dodoma        |  1 |  4 | Chamwino        | Majeleko         |    0 | True  | GeoData Consultants Ltd | VWC              | <!----> | True  |    0 | nira/tanira       | nira/tanira | handpump    | vwc              | user-group | unknown               | unknown    | soft            | good  | dry          | dry          | shallow well         | shallow well         | groundwater | hand pump                   | hand pump          | non functional          |\n",
       "| 6 |  5 |  50 | 2011-02-26 | Private                 |   28 | Private    | 39.28612 |  -6.97240273 | Kwa Namaj                    | 0 | Wami / Ruvu             | Mwandege        | Pwani         | 60 | 43 | Mkuranga        | Vikindu          | 6922 | True  | GeoData Consultants Ltd | Private operator | <!----> | False |    0 | submersible       | submersible | submersible | private operator | commercial | pay per bucket        | per bucket | soft            | good  | enough       | enough       | machine dbh          | borehole             | groundwater | communal standpipe multiple | communal standpipe | functional              |\n",
       "| 7 |  6 |   0 | 2012-10-20 | Government Of Tanzania  |    0 | Government | 33.22988 |  -3.85298271 | Mission                      | 0 | Internal                | Ngaganulwa      | Shinyanga     | 17 |  3 | Shinyanga Rural | Usanda           |    0 | True  | GeoData Consultants Ltd | VWC              | <!----> | True  |    0 | other             | other       | other       | vwc              | user-group | never pay             | never pay  | soft            | good  | seasonal     | seasonal     | shallow well         | shallow well         | groundwater | other                       | other              | non functional          |\n",
       "| 8 |  7 |   0 | 2011-03-23 | Water                   |    0 | Gover      | 36.31362 |  -6.71925716 | Itawi                        | 0 | Rufiji                  | Mwangaza        | Dodoma        |  1 |  1 | Mpwapwa         | Wotta            |    0 | True  | GeoData Consultants Ltd | VWC              | Lwih                      | True  |    0 | other             | other       | other       | vwc              | user-group | never pay             | never pay  | milky           | milky | insufficient | insufficient | spring               | spring               | groundwater | improved spring             | improved spring    | functional              |\n",
       "| 9 |  8 |   0 | 2011-04-07 | Water                   |    0 | Commu      | 35.93944 |  -6.01435820 | Kwa Chiswagala               | 0 | Wami / Ruvu             | Mazengo         | Dodoma        |  1 |  5 | Dodoma Urban    | Ipala            |    0 | True  | GeoData Consultants Ltd | VWC              | Ipal                      | False |    0 | mono              | mono        | motorpump   | private operator | commercial | pay per bucket        | per bucket | soft            | good  | dry          | dry          | machine dbh          | borehole             | groundwater | communal standpipe multiple | communal standpipe | non functional          |\n",
       "| 10 |  9 |   0 | 2011-07-12 | Ded                     |    0 | DED        | 31.69337 |  -2.53070326 | Shule Ya Msingi Nyamirembe A | 0 | Lake Victoria           | Miembeni        | Kagera        | 18 |  8 | Chato           | Nyamirembe       |    0 | True  | GeoData Consultants Ltd | VWC              | Mapinduzi                 | True  |    0 | mono              | mono        | motorpump   | vwc              | user-group | never pay             | never pay  | soft            | good  | insufficient | insufficient | machine dbh          | borehole             | groundwater | communal standpipe multiple | communal standpipe | non functional          |\n",
       "| 11 | 11 |  30 | 2011-03-09 | Kwa Makala              |   64 | Makala     | 38.66364 |  -5.80574551 | Kwa Makala                   | 0 | Pangani                 | Sokoni          | Tanga         |  4 |  5 | Pangani         | Mkalamo          |  150 | False | GeoData Consultants Ltd | Private operator | Mkalamo water supply      | False | 2007 | submersible       | submersible | submersible | private operator | commercial | pay per bucket        | per bucket | salty           | salty | insufficient | insufficient | machine dbh          | borehole             | groundwater | communal standpipe          | communal standpipe | non functional          |\n",
       "| 12 | 12 |   0 | 2013-03-14 | World Bank              | 1332 | World bank | 36.75623 |  -3.37377239 | Moivaro Primary School       | 0 | Pangani                 | Moivaro         | Arusha        |  2 |  7 | Meru            | Nkoanrua         |  350 | True  | GeoData Consultants Ltd | WUA              | <!----> | False | 2010 | gravity           | gravity     | gravity     | wua              | user-group | unknown               | unknown    | soft            | good  | insufficient | insufficient | rainwater harvesting | rainwater harvesting | surface     | communal standpipe          | communal standpipe | non functional          |\n",
       "| 13 | 15 |   0 | 2012-11-06 | Hesawa                  |    0 | DWE        |  0.00000 |  -0.00000002 | Kwamazoa                     | 0 | Lake Victoria           | Madukani        | Mwanza        | 19 |  2 | Magu            | Igalukilo        |    0 | True  | GeoData Consultants Ltd | <!----> | <!----> | True  |    0 | other             | other       | other       | vwc              | user-group | never pay             | never pay  | soft            | good  | seasonal     | seasonal     | shallow well         | shallow well         | groundwater | other                       | other              | non functional          |\n",
       "| 14 | 16 |   0 | 2013-02-03 | Songea District Council | 1014 | DWE        | 35.33371 | -10.46963842 | Kwa Feristasi                | 0 | Lake Nyasa              | Amka Twende     | Ruvuma        | 10 |  2 | Songea Rural    | Kilagano         |    0 | True  | GeoData Consultants Ltd | VWC              | Mradi wa maji wa kilagano | True  | 1984 | gravity           | gravity     | gravity     | vwc              | user-group | pay when scheme fails | on failure | soft            | good  | dry          | dry          | spring               | spring               | groundwater | communal standpipe          | communal standpipe | non functional          |\n",
       "| 15 | 17 |   0 | 2013-03-28 | World Bank              | 1606 | DWE        | 36.62429 |  -3.27627358 | Seuli                        | 0 | Pangani                 | Seuli           | Arusha        |  2 |  2 | Arusha Rural    | Oltrumet         |  200 | True  | GeoData Consultants Ltd | VWC              | Mlimani pipe line         | True  | 2010 | gravity           | gravity     | gravity     | vwc              | user-group | never pay             | never pay  | soft            | good  | enough       | enough       | spring               | spring               | groundwater | communal standpipe          | communal standpipe | functional              |\n",
       "| 16 | 18 |   0 | 2011-03-13 | Water                   |    0 | Commu      | 36.52430 |  -6.18081796 | Kwa Majele                   | 0 | Wami / Ruvu             | <!----> | Dodoma        |  1 |  3 | Kongwa          | Ugogoni          |    0 | True  | GeoData Consultants Ltd | VWC              | Msin                      | False |    0 | mono              | mono        | motorpump   | vwc              | user-group | pay per bucket        | per bucket | salty           | salty | enough       | enough       | machine dbh          | borehole             | groundwater | communal standpipe multiple | communal standpipe | functional              |\n",
       "| 17 | 19 |  50 | 2013-02-23 | Amref                   |  226 | Amref      | 39.73442 | -10.56919171 | Kwa Ally Likomba             | 0 | Ruvuma / Southern Coast | Mwenge          | Mtwara        | 99 |  1 | Mtwara Rural    | Njengwa          |  450 | True  | GeoData Consultants Ltd | VWC              | Nang'awanga water supply  | True  | 2012 | mono              | mono        | motorpump   | vwc              | user-group | pay per bucket        | per bucket | soft            | good  | enough       | enough       | machine dbh          | borehole             | groundwater | communal standpipe multiple | communal standpipe | functional              |\n",
       "| 18 | 20 | 250 | 2013-02-09 | Oxfam                   | 1257 | OXFAM      | 29.90178 |  -4.54070514 | Ccm                          | 0 | Lake Tanganyika         | Gwandamula      | Kigoma        | 16 |  2 | Kasulu          | Janda            |  340 | True  | GeoData Consultants Ltd | Water authority  | Mwangwe                   | True  | 1999 | gravity           | gravity     | gravity     | water board      | user-group | pay monthly           | monthly    | soft            | good  | enough       | enough       | river                | river/lake           | surface     | communal standpipe multiple | communal standpipe | functional needs repair |\n",
       "| 19 | 21 |   0 | 2011-03-22 | Government Of Tanzania  |    0 | GOVER      | 36.24521 |  -6.01976068 | Salum Sady                   | 0 | Wami / Ruvu             | Manzilanzi A    | Dodoma        |  1 |  4 | Chamwino        | Majeleko         |    0 | True  | GeoData Consultants Ltd | VWC              | Manz                      | True  |    0 | mono              | mono        | motorpump   | vwc              | user-group | unknown               | unknown    | soft            | good  | dry          | dry          | machine dbh          | borehole             | groundwater | communal standpipe multiple | communal standpipe | non functional          |\n",
       "| 20 | 22 |  50 | 2013-03-16 | <!----> |   76 | <!----> | 39.08618 |  -6.98584173 | Kwa Konde                    | 0 | Wami / Ruvu             | Mtaa Wa Tungini | Dar es Salaam |  7 |  2 | Ilala           | Chanika          |  250 | <!----> | GeoData Consultants Ltd | Private operator | <!----> | <!----> | 2010 | other             | other       | other       | private operator | commercial | pay per bucket        | per bucket | salty abandoned | salty | enough       | enough       | machine dbh          | borehole             | groundwater | communal standpipe          | communal standpipe | functional              |\n",
       "\n"
      ],
      "text/plain": [
       "   id amount_tsh date_recorded funder                  gps_height installer \n",
       "1   0   0        2012-11-13    Tasaf                      0       TASAF     \n",
       "2   1   0        2011-03-05    Shipo                   1978       SHIPO     \n",
       "3   2   0        2011-03-27    Lvia                       0       LVIA      \n",
       "4   3  10        2013-06-03    Germany Republi         1639       CES       \n",
       "5   4   0        2011-03-22    Cmsr                       0       CMSR      \n",
       "6   5  50        2011-02-26    Private                   28       Private   \n",
       "7   6   0        2012-10-20    Government Of Tanzania     0       Government\n",
       "8   7   0        2011-03-23    Water                      0       Gover     \n",
       "9   8   0        2011-04-07    Water                      0       Commu     \n",
       "10  9   0        2011-07-12    Ded                        0       DED       \n",
       "11 11  30        2011-03-09    Kwa Makala                64       Makala    \n",
       "12 12   0        2013-03-14    World Bank              1332       World bank\n",
       "13 15   0        2012-11-06    Hesawa                     0       DWE       \n",
       "14 16   0        2013-02-03    Songea District Council 1014       DWE       \n",
       "15 17   0        2013-03-28    World Bank              1606       DWE       \n",
       "16 18   0        2011-03-13    Water                      0       Commu     \n",
       "17 19  50        2013-02-23    Amref                    226       Amref     \n",
       "18 20 250        2013-02-09    Oxfam                   1257       OXFAM     \n",
       "19 21   0        2011-03-22    Government Of Tanzania     0       GOVER     \n",
       "20 22  50        2013-03-16                              76                 \n",
       "   longitude latitude     wpt_name                     num_private\n",
       "1  33.12583   -5.11815407 Mratibu                      0          \n",
       "2  34.77072   -9.39564152 none                         0          \n",
       "3  36.11506   -6.27926803 Bombani                      0          \n",
       "4  37.14743   -3.18755455 Area 7 Namba 5               0          \n",
       "5  36.16489   -6.09928949 Ezeleda                      0          \n",
       "6  39.28612   -6.97240273 Kwa Namaj                    0          \n",
       "7  33.22988   -3.85298271 Mission                      0          \n",
       "8  36.31362   -6.71925716 Itawi                        0          \n",
       "9  35.93944   -6.01435820 Kwa Chiswagala               0          \n",
       "10 31.69337   -2.53070326 Shule Ya Msingi Nyamirembe A 0          \n",
       "11 38.66364   -5.80574551 Kwa Makala                   0          \n",
       "12 36.75623   -3.37377239 Moivaro Primary School       0          \n",
       "13  0.00000   -0.00000002 Kwamazoa                     0          \n",
       "14 35.33371  -10.46963842 Kwa Feristasi                0          \n",
       "15 36.62429   -3.27627358 Seuli                        0          \n",
       "16 36.52430   -6.18081796 Kwa Majele                   0          \n",
       "17 39.73442  -10.56919171 Kwa Ally Likomba             0          \n",
       "18 29.90178   -4.54070514 Ccm                          0          \n",
       "19 36.24521   -6.01976068 Salum Sady                   0          \n",
       "20 39.08618   -6.98584173 Kwa Konde                    0          \n",
       "   basin                   subvillage      region        region_code\n",
       "1  Lake Tanganyika         Majengo         Tabora        14         \n",
       "2  Rufiji                  Magoda C        Iringa        11         \n",
       "3  Wami / Ruvu             Songambele      Dodoma         1         \n",
       "4  Pangani                 Urereni         Kilimanjaro    3         \n",
       "5  Wami / Ruvu             Maata A         Dodoma         1         \n",
       "6  Wami / Ruvu             Mwandege        Pwani         60         \n",
       "7  Internal                Ngaganulwa      Shinyanga     17         \n",
       "8  Rufiji                  Mwangaza        Dodoma         1         \n",
       "9  Wami / Ruvu             Mazengo         Dodoma         1         \n",
       "10 Lake Victoria           Miembeni        Kagera        18         \n",
       "11 Pangani                 Sokoni          Tanga          4         \n",
       "12 Pangani                 Moivaro         Arusha         2         \n",
       "13 Lake Victoria           Madukani        Mwanza        19         \n",
       "14 Lake Nyasa              Amka Twende     Ruvuma        10         \n",
       "15 Pangani                 Seuli           Arusha         2         \n",
       "16 Wami / Ruvu                             Dodoma         1         \n",
       "17 Ruvuma / Southern Coast Mwenge          Mtwara        99         \n",
       "18 Lake Tanganyika         Gwandamula      Kigoma        16         \n",
       "19 Wami / Ruvu             Manzilanzi A    Dodoma         1         \n",
       "20 Wami / Ruvu             Mtaa Wa Tungini Dar es Salaam  7         \n",
       "   district_code lga             ward             population public_meeting\n",
       "1   3            Uyui            Igalula             0                     \n",
       "2   4            Njombe          Uwemba             20       True          \n",
       "3   4            Chamwino        Msamalo             0       True          \n",
       "4   5            Hai             Masama Magharibi   25       True          \n",
       "5   4            Chamwino        Majeleko            0       True          \n",
       "6  43            Mkuranga        Vikindu          6922       True          \n",
       "7   3            Shinyanga Rural Usanda              0       True          \n",
       "8   1            Mpwapwa         Wotta               0       True          \n",
       "9   5            Dodoma Urban    Ipala               0       True          \n",
       "10  8            Chato           Nyamirembe          0       True          \n",
       "11  5            Pangani         Mkalamo           150       False         \n",
       "12  7            Meru            Nkoanrua          350       True          \n",
       "13  2            Magu            Igalukilo           0       True          \n",
       "14  2            Songea Rural    Kilagano            0       True          \n",
       "15  2            Arusha Rural    Oltrumet          200       True          \n",
       "16  3            Kongwa          Ugogoni             0       True          \n",
       "17  1            Mtwara Rural    Njengwa           450       True          \n",
       "18  2            Kasulu          Janda             340       True          \n",
       "19  4            Chamwino        Majeleko            0       True          \n",
       "20  2            Ilala           Chanika           250                     \n",
       "   recorded_by             scheme_management scheme_name               permit\n",
       "1  GeoData Consultants Ltd VWC                                         True  \n",
       "2  GeoData Consultants Ltd                                             False \n",
       "3  GeoData Consultants Ltd VWC               Mgun                      True  \n",
       "4  GeoData Consultants Ltd Water Board       Losaa-Kia water supply    True  \n",
       "5  GeoData Consultants Ltd VWC                                         True  \n",
       "6  GeoData Consultants Ltd Private operator                            False \n",
       "7  GeoData Consultants Ltd VWC                                         True  \n",
       "8  GeoData Consultants Ltd VWC               Lwih                      True  \n",
       "9  GeoData Consultants Ltd VWC               Ipal                      False \n",
       "10 GeoData Consultants Ltd VWC               Mapinduzi                 True  \n",
       "11 GeoData Consultants Ltd Private operator  Mkalamo water supply      False \n",
       "12 GeoData Consultants Ltd WUA                                         False \n",
       "13 GeoData Consultants Ltd                                             True  \n",
       "14 GeoData Consultants Ltd VWC               Mradi wa maji wa kilagano True  \n",
       "15 GeoData Consultants Ltd VWC               Mlimani pipe line         True  \n",
       "16 GeoData Consultants Ltd VWC               Msin                      False \n",
       "17 GeoData Consultants Ltd VWC               Nang'awanga water supply  True  \n",
       "18 GeoData Consultants Ltd Water authority   Mwangwe                   True  \n",
       "19 GeoData Consultants Ltd VWC               Manz                      True  \n",
       "20 GeoData Consultants Ltd Private operator                                  \n",
       "   construction_year extraction_type   extraction_type_group\n",
       "1     0              afridev           afridev              \n",
       "2  2008              other - rope pump rope pump            \n",
       "3     0              mono              mono                 \n",
       "4  1999              gravity           gravity              \n",
       "5     0              nira/tanira       nira/tanira          \n",
       "6     0              submersible       submersible          \n",
       "7     0              other             other                \n",
       "8     0              other             other                \n",
       "9     0              mono              mono                 \n",
       "10    0              mono              mono                 \n",
       "11 2007              submersible       submersible          \n",
       "12 2010              gravity           gravity              \n",
       "13    0              other             other                \n",
       "14 1984              gravity           gravity              \n",
       "15 2010              gravity           gravity              \n",
       "16    0              mono              mono                 \n",
       "17 2012              mono              mono                 \n",
       "18 1999              gravity           gravity              \n",
       "19    0              mono              mono                 \n",
       "20 2010              other             other                \n",
       "   extraction_type_class management       management_group\n",
       "1  handpump              vwc              user-group      \n",
       "2  rope pump             vwc              user-group      \n",
       "3  motorpump             vwc              user-group      \n",
       "4  gravity               water board      user-group      \n",
       "5  handpump              vwc              user-group      \n",
       "6  submersible           private operator commercial      \n",
       "7  other                 vwc              user-group      \n",
       "8  other                 vwc              user-group      \n",
       "9  motorpump             private operator commercial      \n",
       "10 motorpump             vwc              user-group      \n",
       "11 submersible           private operator commercial      \n",
       "12 gravity               wua              user-group      \n",
       "13 other                 vwc              user-group      \n",
       "14 gravity               vwc              user-group      \n",
       "15 gravity               vwc              user-group      \n",
       "16 motorpump             vwc              user-group      \n",
       "17 motorpump             vwc              user-group      \n",
       "18 gravity               water board      user-group      \n",
       "19 motorpump             vwc              user-group      \n",
       "20 other                 private operator commercial      \n",
       "   payment               payment_type water_quality   quality_group\n",
       "1  unknown               unknown      milky           milky        \n",
       "2  never pay             never pay    soft            good         \n",
       "3  pay per bucket        per bucket   soft            good         \n",
       "4  pay per bucket        per bucket   soft            good         \n",
       "5  unknown               unknown      soft            good         \n",
       "6  pay per bucket        per bucket   soft            good         \n",
       "7  never pay             never pay    soft            good         \n",
       "8  never pay             never pay    milky           milky        \n",
       "9  pay per bucket        per bucket   soft            good         \n",
       "10 never pay             never pay    soft            good         \n",
       "11 pay per bucket        per bucket   salty           salty        \n",
       "12 unknown               unknown      soft            good         \n",
       "13 never pay             never pay    soft            good         \n",
       "14 pay when scheme fails on failure   soft            good         \n",
       "15 never pay             never pay    soft            good         \n",
       "16 pay per bucket        per bucket   salty           salty        \n",
       "17 pay per bucket        per bucket   soft            good         \n",
       "18 pay monthly           monthly      soft            good         \n",
       "19 unknown               unknown      soft            good         \n",
       "20 pay per bucket        per bucket   salty abandoned salty        \n",
       "   quantity     quantity_group source               source_type         \n",
       "1  enough       enough         shallow well         shallow well        \n",
       "2  enough       enough         shallow well         shallow well        \n",
       "3  insufficient insufficient   machine dbh          borehole            \n",
       "4  enough       enough         spring               spring              \n",
       "5  dry          dry            shallow well         shallow well        \n",
       "6  enough       enough         machine dbh          borehole            \n",
       "7  seasonal     seasonal       shallow well         shallow well        \n",
       "8  insufficient insufficient   spring               spring              \n",
       "9  dry          dry            machine dbh          borehole            \n",
       "10 insufficient insufficient   machine dbh          borehole            \n",
       "11 insufficient insufficient   machine dbh          borehole            \n",
       "12 insufficient insufficient   rainwater harvesting rainwater harvesting\n",
       "13 seasonal     seasonal       shallow well         shallow well        \n",
       "14 dry          dry            spring               spring              \n",
       "15 enough       enough         spring               spring              \n",
       "16 enough       enough         machine dbh          borehole            \n",
       "17 enough       enough         machine dbh          borehole            \n",
       "18 enough       enough         river                river/lake          \n",
       "19 dry          dry            machine dbh          borehole            \n",
       "20 enough       enough         machine dbh          borehole            \n",
       "   source_class waterpoint_type             waterpoint_type_group\n",
       "1  groundwater  hand pump                   hand pump            \n",
       "2  groundwater  hand pump                   hand pump            \n",
       "3  groundwater  communal standpipe multiple communal standpipe   \n",
       "4  groundwater  communal standpipe          communal standpipe   \n",
       "5  groundwater  hand pump                   hand pump            \n",
       "6  groundwater  communal standpipe multiple communal standpipe   \n",
       "7  groundwater  other                       other                \n",
       "8  groundwater  improved spring             improved spring      \n",
       "9  groundwater  communal standpipe multiple communal standpipe   \n",
       "10 groundwater  communal standpipe multiple communal standpipe   \n",
       "11 groundwater  communal standpipe          communal standpipe   \n",
       "12 surface      communal standpipe          communal standpipe   \n",
       "13 groundwater  other                       other                \n",
       "14 groundwater  communal standpipe          communal standpipe   \n",
       "15 groundwater  communal standpipe          communal standpipe   \n",
       "16 groundwater  communal standpipe multiple communal standpipe   \n",
       "17 groundwater  communal standpipe multiple communal standpipe   \n",
       "18 surface      communal standpipe multiple communal standpipe   \n",
       "19 groundwater  communal standpipe multiple communal standpipe   \n",
       "20 groundwater  communal standpipe          communal standpipe   \n",
       "   status_group           \n",
       "1  non functional         \n",
       "2  functional             \n",
       "3  functional             \n",
       "4  functional             \n",
       "5  non functional         \n",
       "6  functional             \n",
       "7  non functional         \n",
       "8  functional             \n",
       "9  non functional         \n",
       "10 non functional         \n",
       "11 non functional         \n",
       "12 non functional         \n",
       "13 non functional         \n",
       "14 non functional         \n",
       "15 functional             \n",
       "16 functional             \n",
       "17 functional             \n",
       "18 functional needs repair\n",
       "19 non functional         \n",
       "20 functional             "
      ]
     },
     "metadata": {},
     "output_type": "display_data"
    }
   ],
   "source": [
    "head(demo_data,20)"
   ]
  },
  {
   "cell_type": "markdown",
   "metadata": {},
   "source": [
    "### Handpicking redundant features"
   ]
  },
  {
   "cell_type": "markdown",
   "metadata": {},
   "source": [
    "Some features are noticeably redudant at first sight, and we can therefore reduce the number of features."
   ]
  },
  {
   "cell_type": "code",
   "execution_count": null,
   "metadata": {},
   "outputs": [],
   "source": [
    "table(data$extraction_type)\n",
    "table(data$extraction_type_group)\n",
    "table(data$extraction_type_class)"
   ]
  },
  {
   "cell_type": "code",
   "execution_count": null,
   "metadata": {},
   "outputs": [],
   "source": [
    "table(data$management)\n",
    "table(data$scheme_management)"
   ]
  },
  {
   "cell_type": "code",
   "execution_count": null,
   "metadata": {},
   "outputs": [],
   "source": [
    "table(data$waterpoint_type)\n",
    "table(data$waterpoint_type_group)"
   ]
  },
  {
   "cell_type": "code",
   "execution_count": null,
   "metadata": {},
   "outputs": [],
   "source": [
    "table(data$source)\n",
    "table(data$source_type)"
   ]
  },
  {
   "cell_type": "code",
   "execution_count": null,
   "metadata": {},
   "outputs": [],
   "source": [
    "table(data$quantity)\n",
    "table(data$quantity_group)"
   ]
  },
  {
   "cell_type": "code",
   "execution_count": null,
   "metadata": {},
   "outputs": [],
   "source": [
    "table(data$water_quality)\n",
    "table(data$quality_group)"
   ]
  },
  {
   "cell_type": "code",
   "execution_count": null,
   "metadata": {},
   "outputs": [],
   "source": [
    "table(data$payment)\n",
    "table(data$payment_type)"
   ]
  },
  {
   "cell_type": "code",
   "execution_count": 38,
   "metadata": {},
   "outputs": [],
   "source": [
    "remove_redundant_features <- function(df) {\n",
    "    df <- subset(df,select=-c(extraction_type,scheme_management,waterpoint_type_group,source_type,quantity_group,quality_group,payment))\n",
    "    return(df)\n",
    "}"
   ]
  },
  {
   "cell_type": "markdown",
   "metadata": {},
   "source": [
    "### Handle the coordinates"
   ]
  },
  {
   "cell_type": "markdown",
   "metadata": {},
   "source": [
    "The dataset contains $longitude$ and $latitude$ features which can be useful in the sense that the outcome of the prediction might depend on if the water pumps are located in a similar region."
   ]
  },
  {
   "cell_type": "code",
   "execution_count": null,
   "metadata": {},
   "outputs": [],
   "source": [
    "plot(data$longitude,data$latitude)"
   ]
  },
  {
   "cell_type": "markdown",
   "metadata": {},
   "source": [
    "There seems to be some outliers having coordinates (0,0), which we will remove since they represent null values :"
   ]
  },
  {
   "cell_type": "code",
   "execution_count": 18,
   "metadata": {},
   "outputs": [],
   "source": [
    "discard_unrealistic_coordinates <- function(df) {\n",
    "    df <- df[df$longitude > 20 & df$latitude <0,]\n",
    "    return(df)\n",
    "}"
   ]
  },
  {
   "cell_type": "code",
   "execution_count": 96,
   "metadata": {},
   "outputs": [],
   "source": [
    "demo_data <- discard_unrealistic_coordinates(demo_data)"
   ]
  },
  {
   "cell_type": "code",
   "execution_count": 97,
   "metadata": {},
   "outputs": [
    {
     "data": {
      "text/html": [
       "<style>\n",
       ".list-inline {list-style: none; margin:0; padding: 0}\n",
       ".list-inline>li {display: inline-block}\n",
       ".list-inline>li:not(:last-child)::after {content: \"\\00b7\"; padding: 0 .5ex}\n",
       "</style>\n",
       "<ol class=list-inline><li>54034</li><li>40</li></ol>\n"
      ],
      "text/latex": [
       "\\begin{enumerate*}\n",
       "\\item 54034\n",
       "\\item 40\n",
       "\\end{enumerate*}\n"
      ],
      "text/markdown": [
       "1. 54034\n",
       "2. 40\n",
       "\n",
       "\n"
      ],
      "text/plain": [
       "[1] 54034    40"
      ]
     },
     "metadata": {},
     "output_type": "display_data"
    }
   ],
   "source": [
    "dim(demo_data)"
   ]
  },
  {
   "cell_type": "markdown",
   "metadata": {},
   "source": [
    "The new longitudes and latitudes, after filtering, are represented below :"
   ]
  },
  {
   "cell_type": "code",
   "execution_count": null,
   "metadata": {},
   "outputs": [],
   "source": [
    "plot(demo_data$longitude,demo_data$latitude)"
   ]
  },
  {
   "cell_type": "code",
   "execution_count": null,
   "metadata": {},
   "outputs": [],
   "source": [
    "install.packages(\"factoextra\")\n"
   ]
  },
  {
   "cell_type": "code",
   "execution_count": 267,
   "metadata": {},
   "outputs": [],
   "source": [
    "library(factoextra)"
   ]
  },
  {
   "cell_type": "markdown",
   "metadata": {},
   "source": [
    "Although there is already an attribute $region\\_code$ in the dataset, we might use these coordinates to our advantage by defining a custom notion of spaciality between the water pumps. Using k-means clustering, we can separate the pumps into k different geographical regions based on $longitude$ and $latitude$. The advangate of this method compared to the $region\\_code$ feature is that we can choose how small or large the different regions are."
   ]
  },
  {
   "cell_type": "code",
   "execution_count": 19,
   "metadata": {},
   "outputs": [],
   "source": [
    "generate_regions <- function(df) {\n",
    "    set.seed(19)\n",
    "    coordinates <- as.data.frame(cbind(df$longitude,df$latitude))\n",
    "    km_res <- kmeans(coordinates,8)\n",
    "    df <- subset(df,select=-c(longitude,latitude))\n",
    "    df$region_kmeans <- km_res$cluster\n",
    "    write.csv(km_res$centers,\"cluster_centers.csv\")\n",
    "    return(df)\n",
    "}\n",
    "#head(km.res$cluster,20)"
   ]
  },
  {
   "cell_type": "code",
   "execution_count": 20,
   "metadata": {},
   "outputs": [
    {
     "ename": "ERROR",
     "evalue": "Error in dummy.data.frame(data[, ncol(data), drop = F], names = c(\"status_group\"), : impossible de trouver la fonction \"dummy.data.frame\"\n",
     "output_type": "error",
     "traceback": [
      "Error in dummy.data.frame(data[, ncol(data), drop = F], names = c(\"status_group\"), : impossible de trouver la fonction \"dummy.data.frame\"\nTraceback:\n"
     ]
    }
   ],
   "source": [
    "best_correlation <- 0\n",
    "best_seed <- 1\n",
    "correlations <- numeric(length(5:40))\n",
    "dum <- dummy.data.frame(data[,ncol(data),drop=F],names=c(\"status_group\"), sep=\"_\")\n",
    "coordinates <- as.data.frame(cbind(data$longitude,data$latitude))\n",
    "\n",
    "for(k in 5:40) {\n",
    "    for(s in 1:30) {\n",
    "        set.seed(s)\n",
    "        km_res <- kmeans(coordinates,k)\n",
    "        region_kmeans <- km_res$cluster\n",
    "\n",
    "        correlation <- 0\n",
    "        for(i in 1:ncol(dum)) {\n",
    "            correlation <- correlation + abs(cor(region_kmeans,dum[,i]))\n",
    "        }\n",
    "        correlations[k] <- correlations[k] + correlation\n",
    "        if(correlation > best_correlation) {\n",
    "            best_k <- k\n",
    "            best_correlation <- correlation\n",
    "            best_seed <- s\n",
    "        }\n",
    "    }\n",
    "}\n"
   ]
  },
  {
   "cell_type": "code",
   "execution_count": 411,
   "metadata": {},
   "outputs": [
    {
     "data": {
      "text/html": [
       "8"
      ],
      "text/latex": [
       "8"
      ],
      "text/markdown": [
       "8"
      ],
      "text/plain": [
       "[1] 8"
      ]
     },
     "metadata": {},
     "output_type": "display_data"
    },
    {
     "data": {
      "text/html": [
       "0.32106318305806"
      ],
      "text/latex": [
       "0.32106318305806"
      ],
      "text/markdown": [
       "0.32106318305806"
      ],
      "text/plain": [
       "[1] 0.3210632"
      ]
     },
     "metadata": {},
     "output_type": "display_data"
    },
    {
     "data": {
      "text/html": [
       "19"
      ],
      "text/latex": [
       "19"
      ],
      "text/markdown": [
       "19"
      ],
      "text/plain": [
       "[1] 19"
      ]
     },
     "metadata": {},
     "output_type": "display_data"
    }
   ],
   "source": [
    "best_k\n",
    "best_correlation\n",
    "best_seed"
   ]
  },
  {
   "cell_type": "code",
   "execution_count": 412,
   "metadata": {},
   "outputs": [
    {
     "data": {
      "image/png": "[encoded data removed]",
      "text/plain": [
       "plot without title"
      ]
     },
     "metadata": {
      "image/png": {
       "height": 420,
       "width": 420
      }
     },
     "output_type": "display_data"
    }
   ],
   "source": [
    "mean_cor <- correlations / 30\n",
    "plot(5:40,mean_cor[5:40],xlab=\"Number of clusters\",ylab=\"Averaged summed correlation\",col = \"blue\",pch=19)"
   ]
  },
  {
   "cell_type": "code",
   "execution_count": 21,
   "metadata": {},
   "outputs": [],
   "source": [
    "closest_cluster <- function(x) {\n",
    "    centers <- read.csv(\"cluster_centers.csv\")\n",
    "    centers <- centers[,c(\"V1\",\"V2\")]\n",
    "    #print(centers)\n",
    "    #print(paste(\"x:\",x))\n",
    "    cluster_dist <- apply(centers, 1, function(y) sqrt(sum((x-y)^2)))\n",
    "    return(which.min(cluster_dist)[1])\n",
    "}"
   ]
  },
  {
   "cell_type": "code",
   "execution_count": 22,
   "metadata": {},
   "outputs": [],
   "source": [
    "set_existing_regions <- function(df) {\n",
    "    print(head(df))\n",
    "    clusters2 <- apply(df[,c(\"longitude\",\"latitude\")], 1, closest_cluster)\n",
    "    df <- subset(df,select=-c(longitude,latitude))\n",
    "    df$region_kmeans <- clusters2\n",
    "    return(df)\n",
    "}"
   ]
  },
  {
   "cell_type": "code",
   "execution_count": 23,
   "metadata": {
    "scrolled": true
   },
   "outputs": [
    {
     "data": {
      "text/html": [
       "<table class=\"dataframe\">\n",
       "<caption>A data.frame: 20 × 40</caption>\n",
       "<thead>\n",
       "\t<tr><th></th><th scope=col>id</th><th scope=col>amount_tsh</th><th scope=col>date_recorded</th><th scope=col>funder</th><th scope=col>gps_height</th><th scope=col>installer</th><th scope=col>longitude</th><th scope=col>latitude</th><th scope=col>wpt_name</th><th scope=col>num_private</th><th scope=col>basin</th><th scope=col>subvillage</th><th scope=col>region</th><th scope=col>region_code</th><th scope=col>district_code</th><th scope=col>lga</th><th scope=col>ward</th><th scope=col>population</th><th scope=col>public_meeting</th><th scope=col>recorded_by</th><th scope=col>scheme_management</th><th scope=col>scheme_name</th><th scope=col>permit</th><th scope=col>construction_year</th><th scope=col>extraction_type</th><th scope=col>extraction_type_group</th><th scope=col>extraction_type_class</th><th scope=col>management</th><th scope=col>management_group</th><th scope=col>payment</th><th scope=col>payment_type</th><th scope=col>water_quality</th><th scope=col>quality_group</th><th scope=col>quantity</th><th scope=col>quantity_group</th><th scope=col>source</th><th scope=col>source_type</th><th scope=col>source_class</th><th scope=col>waterpoint_type</th><th scope=col>waterpoint_type_group</th></tr>\n",
       "\t<tr><th></th><th scope=col>&lt;int&gt;</th><th scope=col>&lt;dbl&gt;</th><th scope=col>&lt;fct&gt;</th><th scope=col>&lt;fct&gt;</th><th scope=col>&lt;int&gt;</th><th scope=col>&lt;fct&gt;</th><th scope=col>&lt;dbl&gt;</th><th scope=col>&lt;dbl&gt;</th><th scope=col>&lt;fct&gt;</th><th scope=col>&lt;int&gt;</th><th scope=col>&lt;fct&gt;</th><th scope=col>&lt;fct&gt;</th><th scope=col>&lt;fct&gt;</th><th scope=col>&lt;int&gt;</th><th scope=col>&lt;int&gt;</th><th scope=col>&lt;fct&gt;</th><th scope=col>&lt;fct&gt;</th><th scope=col>&lt;int&gt;</th><th scope=col>&lt;fct&gt;</th><th scope=col>&lt;fct&gt;</th><th scope=col>&lt;fct&gt;</th><th scope=col>&lt;fct&gt;</th><th scope=col>&lt;fct&gt;</th><th scope=col>&lt;int&gt;</th><th scope=col>&lt;fct&gt;</th><th scope=col>&lt;fct&gt;</th><th scope=col>&lt;fct&gt;</th><th scope=col>&lt;fct&gt;</th><th scope=col>&lt;fct&gt;</th><th scope=col>&lt;fct&gt;</th><th scope=col>&lt;fct&gt;</th><th scope=col>&lt;fct&gt;</th><th scope=col>&lt;fct&gt;</th><th scope=col>&lt;fct&gt;</th><th scope=col>&lt;fct&gt;</th><th scope=col>&lt;fct&gt;</th><th scope=col>&lt;fct&gt;</th><th scope=col>&lt;fct&gt;</th><th scope=col>&lt;fct&gt;</th><th scope=col>&lt;fct&gt;</th></tr>\n",
       "</thead>\n",
       "<tbody>\n",
       "\t<tr><th scope=row>1</th><td>50785</td><td>   0</td><td>2013-02-04</td><td>Dmdd                          </td><td>1996</td><td>DMDD                      </td><td>35.29080</td><td> -4.059696</td><td>Dinamu Secondary School</td><td>0</td><td>Internal               </td><td>Magoma     </td><td>Manyara    </td><td>21</td><td> 3</td><td>Mbulu        </td><td>Bashay           </td><td>321</td><td>True</td><td>GeoData Consultants Ltd</td><td>Parastatal </td><td>                               </td><td>True </td><td>2012</td><td>other        </td><td>other        </td><td>other      </td><td>parastatal </td><td>parastatal</td><td>never pay     </td><td>never pay </td><td>soft </td><td>good </td><td>seasonal    </td><td>seasonal    </td><td>rainwater harvesting</td><td>rainwater harvesting</td><td>surface    </td><td>other                      </td><td>other             </td></tr>\n",
       "\t<tr><th scope=row>2</th><td>51630</td><td>   0</td><td>2013-02-04</td><td>Government Of Tanzania        </td><td>1569</td><td>DWE                       </td><td>36.65671</td><td> -3.309214</td><td>Kimnyak                </td><td>0</td><td>Pangani                </td><td>Kimnyak    </td><td>Arusha     </td><td> 2</td><td> 2</td><td>Arusha Rural </td><td>Kimnyaki         </td><td>300</td><td>True</td><td>GeoData Consultants Ltd</td><td>VWC        </td><td>TPRI pipe line                 </td><td>True </td><td>2000</td><td>gravity      </td><td>gravity      </td><td>gravity    </td><td>vwc        </td><td>user-group</td><td>never pay     </td><td>never pay </td><td>soft </td><td>good </td><td>insufficient</td><td>insufficient</td><td>spring              </td><td>spring              </td><td>groundwater</td><td>communal standpipe         </td><td>communal standpipe</td></tr>\n",
       "\t<tr><th scope=row>3</th><td>17168</td><td>   0</td><td>2013-02-01</td><td>                              </td><td>1567</td><td>                          </td><td>34.76786</td><td> -5.004344</td><td>Puma Secondary         </td><td>0</td><td>Internal               </td><td>Msatu      </td><td>Singida    </td><td>13</td><td> 2</td><td>Singida Rural</td><td>Puma             </td><td>500</td><td>True</td><td>GeoData Consultants Ltd</td><td>VWC        </td><td>P                              </td><td>     </td><td>2010</td><td>other        </td><td>other        </td><td>other      </td><td>vwc        </td><td>user-group</td><td>never pay     </td><td>never pay </td><td>soft </td><td>good </td><td>insufficient</td><td>insufficient</td><td>rainwater harvesting</td><td>rainwater harvesting</td><td>surface    </td><td>other                      </td><td>other             </td></tr>\n",
       "\t<tr><th scope=row>4</th><td>45559</td><td>   0</td><td>2013-01-22</td><td>Finn Water                    </td><td> 267</td><td>FINN WATER                </td><td>38.05805</td><td> -9.418672</td><td>Kwa Mzee Pange         </td><td>0</td><td>Ruvuma / Southern Coast</td><td>Kipindimbi </td><td>Lindi      </td><td>80</td><td>43</td><td>Liwale       </td><td>Mkutano          </td><td>250</td><td>    </td><td>GeoData Consultants Ltd</td><td>VWC        </td><td>                               </td><td>True </td><td>1987</td><td>other        </td><td>other        </td><td>other      </td><td>vwc        </td><td>user-group</td><td>unknown       </td><td>unknown   </td><td>soft </td><td>good </td><td>dry         </td><td>dry         </td><td>shallow well        </td><td>shallow well        </td><td>groundwater</td><td>other                      </td><td>other             </td></tr>\n",
       "\t<tr><th scope=row>5</th><td>49871</td><td> 500</td><td>2013-03-27</td><td>Bruder                        </td><td>1260</td><td>BRUDER                    </td><td>35.00612</td><td>-10.950412</td><td>Kwa Mzee Turuka        </td><td>0</td><td>Ruvuma / Southern Coast</td><td>Losonga    </td><td>Ruvuma     </td><td>10</td><td> 3</td><td>Mbinga       </td><td>Mbinga Urban     </td><td> 60</td><td>    </td><td>GeoData Consultants Ltd</td><td>Water Board</td><td>BRUDER                         </td><td>True </td><td>2000</td><td>gravity      </td><td>gravity      </td><td>gravity    </td><td>water board</td><td>user-group</td><td>pay monthly   </td><td>monthly   </td><td>soft </td><td>good </td><td>enough      </td><td>enough      </td><td>spring              </td><td>spring              </td><td>groundwater</td><td>communal standpipe         </td><td>communal standpipe</td></tr>\n",
       "\t<tr><th scope=row>6</th><td>52449</td><td>   0</td><td>2013-03-04</td><td>Government Of Tanzania        </td><td>1685</td><td>DWE                       </td><td>36.68528</td><td> -3.302420</td><td>Masaga                 </td><td>0</td><td>Pangani                </td><td>Masaga     </td><td>Arusha     </td><td> 2</td><td> 2</td><td>Arusha Rural </td><td>Ilkiding'a       </td><td>200</td><td>True</td><td>GeoData Consultants Ltd</td><td>VWC        </td><td>Timbolo sambasha TPRI pipe line</td><td>True </td><td>1990</td><td>gravity      </td><td>gravity      </td><td>gravity    </td><td>vwc        </td><td>user-group</td><td>never pay     </td><td>never pay </td><td>soft </td><td>good </td><td>enough      </td><td>enough      </td><td>spring              </td><td>spring              </td><td>groundwater</td><td>communal standpipe         </td><td>communal standpipe</td></tr>\n",
       "\t<tr><th scope=row>7</th><td>24806</td><td>   0</td><td>2011-03-02</td><td>Government Of Tanzania        </td><td> 550</td><td>Gover                     </td><td>36.39804</td><td> -7.541382</td><td>none                   </td><td>0</td><td>Rufiji                 </td><td>Kichangani </td><td>Iringa     </td><td>11</td><td> 7</td><td>Kilolo       </td><td>Mahenge          </td><td>600</td><td>True</td><td>GeoData Consultants Ltd</td><td>VWC        </td><td>                               </td><td>True </td><td>2007</td><td>india mark ii</td><td>india mark ii</td><td>handpump   </td><td>vwc        </td><td>user-group</td><td>never pay     </td><td>never pay </td><td>salty</td><td>salty</td><td>enough      </td><td>enough      </td><td>machine dbh         </td><td>borehole            </td><td>groundwater</td><td>hand pump                  </td><td>hand pump         </td></tr>\n",
       "\t<tr><th scope=row>8</th><td>28965</td><td>   0</td><td>2013-01-25</td><td>Finw                          </td><td> 234</td><td>FinW                      </td><td>39.60742</td><td>-10.893786</td><td>Kwa Mkwaa              </td><td>0</td><td>Ruvuma / Southern Coast</td><td>Ilala      </td><td>Mtwara     </td><td> 9</td><td> 4</td><td>Tandahimba   </td><td>Maundo           </td><td>  1</td><td>True</td><td>GeoData Consultants Ltd</td><td>Water Board</td><td>Borehole                       </td><td>True </td><td>1982</td><td>submersible  </td><td>submersible  </td><td>submersible</td><td>vwc        </td><td>user-group</td><td>never pay     </td><td>never pay </td><td>soft </td><td>good </td><td>dry         </td><td>dry         </td><td>machine dbh         </td><td>borehole            </td><td>groundwater</td><td>communal standpipe multiple</td><td>communal standpipe</td></tr>\n",
       "\t<tr><th scope=row>9</th><td>36301</td><td>  30</td><td>2013-01-23</td><td>Unicef                        </td><td> 584</td><td>LGA                       </td><td>39.26295</td><td>-10.823588</td><td>Kwa Mzee Mpini         </td><td>0</td><td>Ruvuma / Southern Coast</td><td>Bondeni    </td><td>Mtwara     </td><td>90</td><td>33</td><td>Newala       </td><td>Mnekachi         </td><td> 40</td><td>True</td><td>GeoData Consultants Ltd</td><td>VWC        </td><td>MWS                            </td><td>False</td><td>1997</td><td>gravity      </td><td>gravity      </td><td>gravity    </td><td>vwc        </td><td>user-group</td><td>pay per bucket</td><td>per bucket</td><td>soft </td><td>good </td><td>insufficient</td><td>insufficient</td><td>spring              </td><td>spring              </td><td>groundwater</td><td>communal standpipe         </td><td>communal standpipe</td></tr>\n",
       "\t<tr><th scope=row>10</th><td>54122</td><td>   0</td><td>2013-03-18</td><td>Lawatefuka Water Supply       </td><td>1083</td><td>Lawatefuka water sup      </td><td>37.09611</td><td> -3.251754</td><td>Kwa Flora Daud         </td><td>0</td><td>Pangani                </td><td>Donyomuruak</td><td>Kilimanjaro</td><td> 3</td><td> 7</td><td>Siha         </td><td>Siha Kati        </td><td>  1</td><td>True</td><td>GeoData Consultants Ltd</td><td>Water Board</td><td>BL Erasto Laizer               </td><td>True </td><td>2003</td><td>gravity      </td><td>gravity      </td><td>gravity    </td><td>water board</td><td>user-group</td><td>pay monthly   </td><td>monthly   </td><td>soft </td><td>good </td><td>enough      </td><td>enough      </td><td>spring              </td><td>spring              </td><td>groundwater</td><td>communal standpipe         </td><td>communal standpipe</td></tr>\n",
       "\t<tr><th scope=row>11</th><td>  419</td><td>   5</td><td>2013-10-03</td><td>Germany Republi               </td><td>1259</td><td>CES                       </td><td>37.23325</td><td> -3.241121</td><td>Kwa Anna P Muro        </td><td>0</td><td>Pangani                </td><td>Saa        </td><td>Kilimanjaro</td><td> 3</td><td> 5</td><td>Hai          </td><td>Machame Kaskazini</td><td> 75</td><td>True</td><td>GeoData Consultants Ltd</td><td>Water Board</td><td>Lyamungo-Umbwe water supply    </td><td>True </td><td>2006</td><td>gravity      </td><td>gravity      </td><td>gravity    </td><td>water board</td><td>user-group</td><td>pay per bucket</td><td>per bucket</td><td>soft </td><td>good </td><td>enough      </td><td>enough      </td><td>spring              </td><td>spring              </td><td>groundwater</td><td>communal standpipe         </td><td>communal standpipe</td></tr>\n",
       "\t<tr><th scope=row>12</th><td>45750</td><td>   0</td><td>2013-02-27</td><td>World Vision                  </td><td> 608</td><td>World vision              </td><td>37.68639</td><td> -4.555975</td><td>Shuleni                </td><td>0</td><td>Pangani                </td><td>Remit      </td><td>Manyara    </td><td>21</td><td> 4</td><td>Simanjiro    </td><td>Ruvu Remit       </td><td>500</td><td>True</td><td>GeoData Consultants Ltd</td><td>           </td><td>                               </td><td>True </td><td>2002</td><td>other        </td><td>other        </td><td>other      </td><td>vwc        </td><td>user-group</td><td>never pay     </td><td>never pay </td><td>soft </td><td>good </td><td>dry         </td><td>dry         </td><td>rainwater harvesting</td><td>rainwater harvesting</td><td>surface    </td><td>other                      </td><td>other             </td></tr>\n",
       "\t<tr><th scope=row>13</th><td>  653</td><td>   0</td><td>2012-10-11</td><td>World Bank                    </td><td>   0</td><td>Building works company Ltd</td><td>33.66107</td><td> -4.165720</td><td>Kwa Nzega              </td><td>0</td><td>Internal               </td><td>Chonja     </td><td>Tabora     </td><td>14</td><td> 2</td><td>Igunga       </td><td>Itunduru         </td><td>  0</td><td>True</td><td>GeoData Consultants Ltd</td><td>Other      </td><td>World Bank                     </td><td>True </td><td>   0</td><td>mono         </td><td>mono         </td><td>motorpump  </td><td>vwc        </td><td>user-group</td><td>unknown       </td><td>unknown   </td><td>soft </td><td>good </td><td>dry         </td><td>dry         </td><td>machine dbh         </td><td>borehole            </td><td>groundwater</td><td>communal standpipe multiple</td><td>communal standpipe</td></tr>\n",
       "\t<tr><th scope=row>14</th><td>14017</td><td>   0</td><td>2011-07-29</td><td>Ministry Of Water             </td><td>   0</td><td>DWE                       </td><td>33.00768</td><td> -3.209529</td><td>Gati La Shuleni        </td><td>0</td><td>Lake Victoria          </td><td>Ilobashi   </td><td>Mwanza     </td><td>19</td><td> 4</td><td>Kwimba       </td><td>Bupamwa          </td><td>  0</td><td>True</td><td>GeoData Consultants Ltd</td><td>VWC        </td><td>Mradi wa maji Kiliwi           </td><td>True </td><td>   0</td><td>mono         </td><td>mono         </td><td>motorpump  </td><td>vwc        </td><td>user-group</td><td>pay per bucket</td><td>per bucket</td><td>soft </td><td>good </td><td>enough      </td><td>enough      </td><td>machine dbh         </td><td>borehole            </td><td>groundwater</td><td>communal standpipe multiple</td><td>communal standpipe</td></tr>\n",
       "\t<tr><th scope=row>15</th><td>44607</td><td>1000</td><td>2011-03-02</td><td>Danida                        </td><td>1625</td><td>DANID                     </td><td>35.61562</td><td> -7.870290</td><td>none                   </td><td>0</td><td>Rufiji                 </td><td>Winome     </td><td>Iringa     </td><td>11</td><td> 1</td><td>Iringa Rural </td><td>Mseke            </td><td>  1</td><td>True</td><td>GeoData Consultants Ltd</td><td>VWC        </td><td>Meseke                         </td><td>True </td><td>1984</td><td>gravity      </td><td>gravity      </td><td>gravity    </td><td>vwc        </td><td>user-group</td><td>pay monthly   </td><td>monthly   </td><td>soft </td><td>good </td><td>enough      </td><td>enough      </td><td>spring              </td><td>spring              </td><td>groundwater</td><td>communal standpipe         </td><td>communal standpipe</td></tr>\n",
       "\t<tr><th scope=row>16</th><td>40228</td><td>1200</td><td>2013-06-03</td><td>Danida                        </td><td> 916</td><td>DWE                       </td><td>35.48289</td><td>-10.912596</td><td>Kwa Daniela            </td><td>0</td><td>Ruvuma / Southern Coast</td><td>Mkulu      </td><td>Ruvuma     </td><td>10</td><td> 2</td><td>Songea Rural </td><td>Ndogosi          </td><td>  0</td><td>True</td><td>GeoData Consultants Ltd</td><td>VWC        </td><td>Mradi wa maji wa ndongosi      </td><td>True </td><td>1989</td><td>gravity      </td><td>gravity      </td><td>gravity    </td><td>vwc        </td><td>user-group</td><td>pay annually  </td><td>annually  </td><td>soft </td><td>good </td><td>enough      </td><td>enough      </td><td>river               </td><td>river/lake          </td><td>surface    </td><td>communal standpipe multiple</td><td>communal standpipe</td></tr>\n",
       "\t<tr><th scope=row>17</th><td>27714</td><td>   0</td><td>2011-02-24</td><td>                              </td><td> -39</td><td>                          </td><td>39.85019</td><td> -7.727946</td><td>Kitotoni               </td><td>0</td><td>Rufiji                 </td><td>Barabarani </td><td>Pwani      </td><td> 6</td><td> 6</td><td>Mafia        </td><td>Kanga            </td><td>900</td><td>True</td><td>GeoData Consultants Ltd</td><td>VWC        </td><td>                               </td><td>False</td><td>   0</td><td>nira/tanira  </td><td>nira/tanira  </td><td>handpump   </td><td>vwc        </td><td>user-group</td><td>never pay     </td><td>never pay </td><td>soft </td><td>good </td><td>enough      </td><td>enough      </td><td>shallow well        </td><td>shallow well        </td><td>groundwater</td><td>hand pump                  </td><td>hand pump         </td></tr>\n",
       "\t<tr><th scope=row>18</th><td>28785</td><td> 200</td><td>2011-03-11</td><td>Government Of Tanzania        </td><td>1793</td><td>DWE                       </td><td>38.25402</td><td> -4.565802</td><td>Magagai Hospital       </td><td>0</td><td>Pangani                </td><td>Magagai 2  </td><td>Tanga      </td><td> 4</td><td> 1</td><td>Lushoto      </td><td>Rangwi           </td><td>  1</td><td>True</td><td>GeoData Consultants Ltd</td><td>VWC        </td><td>Shagayo forest                 </td><td>True </td><td>1978</td><td>gravity      </td><td>gravity      </td><td>gravity    </td><td>vwc        </td><td>user-group</td><td>pay monthly   </td><td>monthly   </td><td>soft </td><td>good </td><td>enough      </td><td>enough      </td><td>spring              </td><td>spring              </td><td>groundwater</td><td>communal standpipe         </td><td>communal standpipe</td></tr>\n",
       "\t<tr><th scope=row>19</th><td>28330</td><td>   0</td><td>2012-10-06</td><td>Rural Water Supply And Sanitat</td><td>   0</td><td>DWE                       </td><td>31.58680</td><td> -3.387808</td><td>Shule Ya Msingi Ikuzi  </td><td>0</td><td>Lake Tanganyika        </td><td>Bumbaaga A </td><td>Shinyanga  </td><td>17</td><td> 5</td><td>Bukombe      </td><td>Runzewe          </td><td>  0</td><td>True</td><td>GeoData Consultants Ltd</td><td>Parastatal </td><td>                               </td><td>True </td><td>   0</td><td>gravity      </td><td>gravity      </td><td>gravity    </td><td>parastatal </td><td>parastatal</td><td>unknown       </td><td>unknown   </td><td>soft </td><td>good </td><td>seasonal    </td><td>seasonal    </td><td>rainwater harvesting</td><td>rainwater harvesting</td><td>surface    </td><td>communal standpipe         </td><td>communal standpipe</td></tr>\n",
       "\t<tr><th scope=row>20</th><td>18532</td><td>   0</td><td>2013-02-02</td><td>Finw                          </td><td> 368</td><td>FinW                      </td><td>39.43853</td><td>-10.583366</td><td>Liponde A              </td><td>0</td><td>Ruvuma / Southern Coast</td><td>Liponde A  </td><td>Mtwara     </td><td> 9</td><td> 4</td><td>Tandahimba   </td><td>Chaume           </td><td>300</td><td>True</td><td>GeoData Consultants Ltd</td><td>Water Board</td><td>Borehole                       </td><td>True </td><td>1982</td><td>submersible  </td><td>submersible  </td><td>submersible</td><td>vwc        </td><td>user-group</td><td>never pay     </td><td>never pay </td><td>soft </td><td>good </td><td>dry         </td><td>dry         </td><td>machine dbh         </td><td>borehole            </td><td>groundwater</td><td>communal standpipe         </td><td>communal standpipe</td></tr>\n",
       "</tbody>\n",
       "</table>\n"
      ],
      "text/latex": [
       "A data.frame: 20 × 40\n",
       "\\begin{tabular}{r|llllllllllllllllllllllllllllllllllllllll}\n",
       "  & id & amount\\_tsh & date\\_recorded & funder & gps\\_height & installer & longitude & latitude & wpt\\_name & num\\_private & basin & subvillage & region & region\\_code & district\\_code & lga & ward & population & public\\_meeting & recorded\\_by & scheme\\_management & scheme\\_name & permit & construction\\_year & extraction\\_type & extraction\\_type\\_group & extraction\\_type\\_class & management & management\\_group & payment & payment\\_type & water\\_quality & quality\\_group & quantity & quantity\\_group & source & source\\_type & source\\_class & waterpoint\\_type & waterpoint\\_type\\_group\\\\\n",
       "  & <int> & <dbl> & <fct> & <fct> & <int> & <fct> & <dbl> & <dbl> & <fct> & <int> & <fct> & <fct> & <fct> & <int> & <int> & <fct> & <fct> & <int> & <fct> & <fct> & <fct> & <fct> & <fct> & <int> & <fct> & <fct> & <fct> & <fct> & <fct> & <fct> & <fct> & <fct> & <fct> & <fct> & <fct> & <fct> & <fct> & <fct> & <fct> & <fct>\\\\\n",
       "\\hline\n",
       "\t1 & 50785 &    0 & 2013-02-04 & Dmdd                           & 1996 & DMDD                       & 35.29080 &  -4.059696 & Dinamu Secondary School & 0 & Internal                & Magoma      & Manyara     & 21 &  3 & Mbulu         & Bashay            & 321 & True & GeoData Consultants Ltd & Parastatal  &                                 & True  & 2012 & other         & other         & other       & parastatal  & parastatal & never pay      & never pay  & soft  & good  & seasonal     & seasonal     & rainwater harvesting & rainwater harvesting & surface     & other                       & other             \\\\\n",
       "\t2 & 51630 &    0 & 2013-02-04 & Government Of Tanzania         & 1569 & DWE                        & 36.65671 &  -3.309214 & Kimnyak                 & 0 & Pangani                 & Kimnyak     & Arusha      &  2 &  2 & Arusha Rural  & Kimnyaki          & 300 & True & GeoData Consultants Ltd & VWC         & TPRI pipe line                  & True  & 2000 & gravity       & gravity       & gravity     & vwc         & user-group & never pay      & never pay  & soft  & good  & insufficient & insufficient & spring               & spring               & groundwater & communal standpipe          & communal standpipe\\\\\n",
       "\t3 & 17168 &    0 & 2013-02-01 &                                & 1567 &                            & 34.76786 &  -5.004344 & Puma Secondary          & 0 & Internal                & Msatu       & Singida     & 13 &  2 & Singida Rural & Puma              & 500 & True & GeoData Consultants Ltd & VWC         & P                               &       & 2010 & other         & other         & other       & vwc         & user-group & never pay      & never pay  & soft  & good  & insufficient & insufficient & rainwater harvesting & rainwater harvesting & surface     & other                       & other             \\\\\n",
       "\t4 & 45559 &    0 & 2013-01-22 & Finn Water                     &  267 & FINN WATER                 & 38.05805 &  -9.418672 & Kwa Mzee Pange          & 0 & Ruvuma / Southern Coast & Kipindimbi  & Lindi       & 80 & 43 & Liwale        & Mkutano           & 250 &      & GeoData Consultants Ltd & VWC         &                                 & True  & 1987 & other         & other         & other       & vwc         & user-group & unknown        & unknown    & soft  & good  & dry          & dry          & shallow well         & shallow well         & groundwater & other                       & other             \\\\\n",
       "\t5 & 49871 &  500 & 2013-03-27 & Bruder                         & 1260 & BRUDER                     & 35.00612 & -10.950412 & Kwa Mzee Turuka         & 0 & Ruvuma / Southern Coast & Losonga     & Ruvuma      & 10 &  3 & Mbinga        & Mbinga Urban      &  60 &      & GeoData Consultants Ltd & Water Board & BRUDER                          & True  & 2000 & gravity       & gravity       & gravity     & water board & user-group & pay monthly    & monthly    & soft  & good  & enough       & enough       & spring               & spring               & groundwater & communal standpipe          & communal standpipe\\\\\n",
       "\t6 & 52449 &    0 & 2013-03-04 & Government Of Tanzania         & 1685 & DWE                        & 36.68528 &  -3.302420 & Masaga                  & 0 & Pangani                 & Masaga      & Arusha      &  2 &  2 & Arusha Rural  & Ilkiding'a        & 200 & True & GeoData Consultants Ltd & VWC         & Timbolo sambasha TPRI pipe line & True  & 1990 & gravity       & gravity       & gravity     & vwc         & user-group & never pay      & never pay  & soft  & good  & enough       & enough       & spring               & spring               & groundwater & communal standpipe          & communal standpipe\\\\\n",
       "\t7 & 24806 &    0 & 2011-03-02 & Government Of Tanzania         &  550 & Gover                      & 36.39804 &  -7.541382 & none                    & 0 & Rufiji                  & Kichangani  & Iringa      & 11 &  7 & Kilolo        & Mahenge           & 600 & True & GeoData Consultants Ltd & VWC         &                                 & True  & 2007 & india mark ii & india mark ii & handpump    & vwc         & user-group & never pay      & never pay  & salty & salty & enough       & enough       & machine dbh          & borehole             & groundwater & hand pump                   & hand pump         \\\\\n",
       "\t8 & 28965 &    0 & 2013-01-25 & Finw                           &  234 & FinW                       & 39.60742 & -10.893786 & Kwa Mkwaa               & 0 & Ruvuma / Southern Coast & Ilala       & Mtwara      &  9 &  4 & Tandahimba    & Maundo            &   1 & True & GeoData Consultants Ltd & Water Board & Borehole                        & True  & 1982 & submersible   & submersible   & submersible & vwc         & user-group & never pay      & never pay  & soft  & good  & dry          & dry          & machine dbh          & borehole             & groundwater & communal standpipe multiple & communal standpipe\\\\\n",
       "\t9 & 36301 &   30 & 2013-01-23 & Unicef                         &  584 & LGA                        & 39.26295 & -10.823588 & Kwa Mzee Mpini          & 0 & Ruvuma / Southern Coast & Bondeni     & Mtwara      & 90 & 33 & Newala        & Mnekachi          &  40 & True & GeoData Consultants Ltd & VWC         & MWS                             & False & 1997 & gravity       & gravity       & gravity     & vwc         & user-group & pay per bucket & per bucket & soft  & good  & insufficient & insufficient & spring               & spring               & groundwater & communal standpipe          & communal standpipe\\\\\n",
       "\t10 & 54122 &    0 & 2013-03-18 & Lawatefuka Water Supply        & 1083 & Lawatefuka water sup       & 37.09611 &  -3.251754 & Kwa Flora Daud          & 0 & Pangani                 & Donyomuruak & Kilimanjaro &  3 &  7 & Siha          & Siha Kati         &   1 & True & GeoData Consultants Ltd & Water Board & BL Erasto Laizer                & True  & 2003 & gravity       & gravity       & gravity     & water board & user-group & pay monthly    & monthly    & soft  & good  & enough       & enough       & spring               & spring               & groundwater & communal standpipe          & communal standpipe\\\\\n",
       "\t11 &   419 &    5 & 2013-10-03 & Germany Republi                & 1259 & CES                        & 37.23325 &  -3.241121 & Kwa Anna P Muro         & 0 & Pangani                 & Saa         & Kilimanjaro &  3 &  5 & Hai           & Machame Kaskazini &  75 & True & GeoData Consultants Ltd & Water Board & Lyamungo-Umbwe water supply     & True  & 2006 & gravity       & gravity       & gravity     & water board & user-group & pay per bucket & per bucket & soft  & good  & enough       & enough       & spring               & spring               & groundwater & communal standpipe          & communal standpipe\\\\\n",
       "\t12 & 45750 &    0 & 2013-02-27 & World Vision                   &  608 & World vision               & 37.68639 &  -4.555975 & Shuleni                 & 0 & Pangani                 & Remit       & Manyara     & 21 &  4 & Simanjiro     & Ruvu Remit        & 500 & True & GeoData Consultants Ltd &             &                                 & True  & 2002 & other         & other         & other       & vwc         & user-group & never pay      & never pay  & soft  & good  & dry          & dry          & rainwater harvesting & rainwater harvesting & surface     & other                       & other             \\\\\n",
       "\t13 &   653 &    0 & 2012-10-11 & World Bank                     &    0 & Building works company Ltd & 33.66107 &  -4.165720 & Kwa Nzega               & 0 & Internal                & Chonja      & Tabora      & 14 &  2 & Igunga        & Itunduru          &   0 & True & GeoData Consultants Ltd & Other       & World Bank                      & True  &    0 & mono          & mono          & motorpump   & vwc         & user-group & unknown        & unknown    & soft  & good  & dry          & dry          & machine dbh          & borehole             & groundwater & communal standpipe multiple & communal standpipe\\\\\n",
       "\t14 & 14017 &    0 & 2011-07-29 & Ministry Of Water              &    0 & DWE                        & 33.00768 &  -3.209529 & Gati La Shuleni         & 0 & Lake Victoria           & Ilobashi    & Mwanza      & 19 &  4 & Kwimba        & Bupamwa           &   0 & True & GeoData Consultants Ltd & VWC         & Mradi wa maji Kiliwi            & True  &    0 & mono          & mono          & motorpump   & vwc         & user-group & pay per bucket & per bucket & soft  & good  & enough       & enough       & machine dbh          & borehole             & groundwater & communal standpipe multiple & communal standpipe\\\\\n",
       "\t15 & 44607 & 1000 & 2011-03-02 & Danida                         & 1625 & DANID                      & 35.61562 &  -7.870290 & none                    & 0 & Rufiji                  & Winome      & Iringa      & 11 &  1 & Iringa Rural  & Mseke             &   1 & True & GeoData Consultants Ltd & VWC         & Meseke                          & True  & 1984 & gravity       & gravity       & gravity     & vwc         & user-group & pay monthly    & monthly    & soft  & good  & enough       & enough       & spring               & spring               & groundwater & communal standpipe          & communal standpipe\\\\\n",
       "\t16 & 40228 & 1200 & 2013-06-03 & Danida                         &  916 & DWE                        & 35.48289 & -10.912596 & Kwa Daniela             & 0 & Ruvuma / Southern Coast & Mkulu       & Ruvuma      & 10 &  2 & Songea Rural  & Ndogosi           &   0 & True & GeoData Consultants Ltd & VWC         & Mradi wa maji wa ndongosi       & True  & 1989 & gravity       & gravity       & gravity     & vwc         & user-group & pay annually   & annually   & soft  & good  & enough       & enough       & river                & river/lake           & surface     & communal standpipe multiple & communal standpipe\\\\\n",
       "\t17 & 27714 &    0 & 2011-02-24 &                                &  -39 &                            & 39.85019 &  -7.727946 & Kitotoni                & 0 & Rufiji                  & Barabarani  & Pwani       &  6 &  6 & Mafia         & Kanga             & 900 & True & GeoData Consultants Ltd & VWC         &                                 & False &    0 & nira/tanira   & nira/tanira   & handpump    & vwc         & user-group & never pay      & never pay  & soft  & good  & enough       & enough       & shallow well         & shallow well         & groundwater & hand pump                   & hand pump         \\\\\n",
       "\t18 & 28785 &  200 & 2011-03-11 & Government Of Tanzania         & 1793 & DWE                        & 38.25402 &  -4.565802 & Magagai Hospital        & 0 & Pangani                 & Magagai 2   & Tanga       &  4 &  1 & Lushoto       & Rangwi            &   1 & True & GeoData Consultants Ltd & VWC         & Shagayo forest                  & True  & 1978 & gravity       & gravity       & gravity     & vwc         & user-group & pay monthly    & monthly    & soft  & good  & enough       & enough       & spring               & spring               & groundwater & communal standpipe          & communal standpipe\\\\\n",
       "\t19 & 28330 &    0 & 2012-10-06 & Rural Water Supply And Sanitat &    0 & DWE                        & 31.58680 &  -3.387808 & Shule Ya Msingi Ikuzi   & 0 & Lake Tanganyika         & Bumbaaga A  & Shinyanga   & 17 &  5 & Bukombe       & Runzewe           &   0 & True & GeoData Consultants Ltd & Parastatal  &                                 & True  &    0 & gravity       & gravity       & gravity     & parastatal  & parastatal & unknown        & unknown    & soft  & good  & seasonal     & seasonal     & rainwater harvesting & rainwater harvesting & surface     & communal standpipe          & communal standpipe\\\\\n",
       "\t20 & 18532 &    0 & 2013-02-02 & Finw                           &  368 & FinW                       & 39.43853 & -10.583366 & Liponde A               & 0 & Ruvuma / Southern Coast & Liponde A   & Mtwara      &  9 &  4 & Tandahimba    & Chaume            & 300 & True & GeoData Consultants Ltd & Water Board & Borehole                        & True  & 1982 & submersible   & submersible   & submersible & vwc         & user-group & never pay      & never pay  & soft  & good  & dry          & dry          & machine dbh          & borehole             & groundwater & communal standpipe          & communal standpipe\\\\\n",
       "\\end{tabular}\n"
      ],
      "text/markdown": [
       "\n",
       "A data.frame: 20 × 40\n",
       "\n",
       "| <!--/--> | id &lt;int&gt; | amount_tsh &lt;dbl&gt; | date_recorded &lt;fct&gt; | funder &lt;fct&gt; | gps_height &lt;int&gt; | installer &lt;fct&gt; | longitude &lt;dbl&gt; | latitude &lt;dbl&gt; | wpt_name &lt;fct&gt; | num_private &lt;int&gt; | basin &lt;fct&gt; | subvillage &lt;fct&gt; | region &lt;fct&gt; | region_code &lt;int&gt; | district_code &lt;int&gt; | lga &lt;fct&gt; | ward &lt;fct&gt; | population &lt;int&gt; | public_meeting &lt;fct&gt; | recorded_by &lt;fct&gt; | scheme_management &lt;fct&gt; | scheme_name &lt;fct&gt; | permit &lt;fct&gt; | construction_year &lt;int&gt; | extraction_type &lt;fct&gt; | extraction_type_group &lt;fct&gt; | extraction_type_class &lt;fct&gt; | management &lt;fct&gt; | management_group &lt;fct&gt; | payment &lt;fct&gt; | payment_type &lt;fct&gt; | water_quality &lt;fct&gt; | quality_group &lt;fct&gt; | quantity &lt;fct&gt; | quantity_group &lt;fct&gt; | source &lt;fct&gt; | source_type &lt;fct&gt; | source_class &lt;fct&gt; | waterpoint_type &lt;fct&gt; | waterpoint_type_group &lt;fct&gt; |\n",
       "|---|---|---|---|---|---|---|---|---|---|---|---|---|---|---|---|---|---|---|---|---|---|---|---|---|---|---|---|---|---|---|---|---|---|---|---|---|---|---|---|---|\n",
       "| 1 | 50785 |    0 | 2013-02-04 | Dmdd                           | 1996 | DMDD                       | 35.29080 |  -4.059696 | Dinamu Secondary School | 0 | Internal                | Magoma      | Manyara     | 21 |  3 | Mbulu         | Bashay            | 321 | True | GeoData Consultants Ltd | Parastatal  | <!----> | True  | 2012 | other         | other         | other       | parastatal  | parastatal | never pay      | never pay  | soft  | good  | seasonal     | seasonal     | rainwater harvesting | rainwater harvesting | surface     | other                       | other              |\n",
       "| 2 | 51630 |    0 | 2013-02-04 | Government Of Tanzania         | 1569 | DWE                        | 36.65671 |  -3.309214 | Kimnyak                 | 0 | Pangani                 | Kimnyak     | Arusha      |  2 |  2 | Arusha Rural  | Kimnyaki          | 300 | True | GeoData Consultants Ltd | VWC         | TPRI pipe line                  | True  | 2000 | gravity       | gravity       | gravity     | vwc         | user-group | never pay      | never pay  | soft  | good  | insufficient | insufficient | spring               | spring               | groundwater | communal standpipe          | communal standpipe |\n",
       "| 3 | 17168 |    0 | 2013-02-01 | <!----> | 1567 | <!----> | 34.76786 |  -5.004344 | Puma Secondary          | 0 | Internal                | Msatu       | Singida     | 13 |  2 | Singida Rural | Puma              | 500 | True | GeoData Consultants Ltd | VWC         | P                               | <!----> | 2010 | other         | other         | other       | vwc         | user-group | never pay      | never pay  | soft  | good  | insufficient | insufficient | rainwater harvesting | rainwater harvesting | surface     | other                       | other              |\n",
       "| 4 | 45559 |    0 | 2013-01-22 | Finn Water                     |  267 | FINN WATER                 | 38.05805 |  -9.418672 | Kwa Mzee Pange          | 0 | Ruvuma / Southern Coast | Kipindimbi  | Lindi       | 80 | 43 | Liwale        | Mkutano           | 250 | <!----> | GeoData Consultants Ltd | VWC         | <!----> | True  | 1987 | other         | other         | other       | vwc         | user-group | unknown        | unknown    | soft  | good  | dry          | dry          | shallow well         | shallow well         | groundwater | other                       | other              |\n",
       "| 5 | 49871 |  500 | 2013-03-27 | Bruder                         | 1260 | BRUDER                     | 35.00612 | -10.950412 | Kwa Mzee Turuka         | 0 | Ruvuma / Southern Coast | Losonga     | Ruvuma      | 10 |  3 | Mbinga        | Mbinga Urban      |  60 | <!----> | GeoData Consultants Ltd | Water Board | BRUDER                          | True  | 2000 | gravity       | gravity       | gravity     | water board | user-group | pay monthly    | monthly    | soft  | good  | enough       | enough       | spring               | spring               | groundwater | communal standpipe          | communal standpipe |\n",
       "| 6 | 52449 |    0 | 2013-03-04 | Government Of Tanzania         | 1685 | DWE                        | 36.68528 |  -3.302420 | Masaga                  | 0 | Pangani                 | Masaga      | Arusha      |  2 |  2 | Arusha Rural  | Ilkiding'a        | 200 | True | GeoData Consultants Ltd | VWC         | Timbolo sambasha TPRI pipe line | True  | 1990 | gravity       | gravity       | gravity     | vwc         | user-group | never pay      | never pay  | soft  | good  | enough       | enough       | spring               | spring               | groundwater | communal standpipe          | communal standpipe |\n",
       "| 7 | 24806 |    0 | 2011-03-02 | Government Of Tanzania         |  550 | Gover                      | 36.39804 |  -7.541382 | none                    | 0 | Rufiji                  | Kichangani  | Iringa      | 11 |  7 | Kilolo        | Mahenge           | 600 | True | GeoData Consultants Ltd | VWC         | <!----> | True  | 2007 | india mark ii | india mark ii | handpump    | vwc         | user-group | never pay      | never pay  | salty | salty | enough       | enough       | machine dbh          | borehole             | groundwater | hand pump                   | hand pump          |\n",
       "| 8 | 28965 |    0 | 2013-01-25 | Finw                           |  234 | FinW                       | 39.60742 | -10.893786 | Kwa Mkwaa               | 0 | Ruvuma / Southern Coast | Ilala       | Mtwara      |  9 |  4 | Tandahimba    | Maundo            |   1 | True | GeoData Consultants Ltd | Water Board | Borehole                        | True  | 1982 | submersible   | submersible   | submersible | vwc         | user-group | never pay      | never pay  | soft  | good  | dry          | dry          | machine dbh          | borehole             | groundwater | communal standpipe multiple | communal standpipe |\n",
       "| 9 | 36301 |   30 | 2013-01-23 | Unicef                         |  584 | LGA                        | 39.26295 | -10.823588 | Kwa Mzee Mpini          | 0 | Ruvuma / Southern Coast | Bondeni     | Mtwara      | 90 | 33 | Newala        | Mnekachi          |  40 | True | GeoData Consultants Ltd | VWC         | MWS                             | False | 1997 | gravity       | gravity       | gravity     | vwc         | user-group | pay per bucket | per bucket | soft  | good  | insufficient | insufficient | spring               | spring               | groundwater | communal standpipe          | communal standpipe |\n",
       "| 10 | 54122 |    0 | 2013-03-18 | Lawatefuka Water Supply        | 1083 | Lawatefuka water sup       | 37.09611 |  -3.251754 | Kwa Flora Daud          | 0 | Pangani                 | Donyomuruak | Kilimanjaro |  3 |  7 | Siha          | Siha Kati         |   1 | True | GeoData Consultants Ltd | Water Board | BL Erasto Laizer                | True  | 2003 | gravity       | gravity       | gravity     | water board | user-group | pay monthly    | monthly    | soft  | good  | enough       | enough       | spring               | spring               | groundwater | communal standpipe          | communal standpipe |\n",
       "| 11 |   419 |    5 | 2013-10-03 | Germany Republi                | 1259 | CES                        | 37.23325 |  -3.241121 | Kwa Anna P Muro         | 0 | Pangani                 | Saa         | Kilimanjaro |  3 |  5 | Hai           | Machame Kaskazini |  75 | True | GeoData Consultants Ltd | Water Board | Lyamungo-Umbwe water supply     | True  | 2006 | gravity       | gravity       | gravity     | water board | user-group | pay per bucket | per bucket | soft  | good  | enough       | enough       | spring               | spring               | groundwater | communal standpipe          | communal standpipe |\n",
       "| 12 | 45750 |    0 | 2013-02-27 | World Vision                   |  608 | World vision               | 37.68639 |  -4.555975 | Shuleni                 | 0 | Pangani                 | Remit       | Manyara     | 21 |  4 | Simanjiro     | Ruvu Remit        | 500 | True | GeoData Consultants Ltd | <!----> | <!----> | True  | 2002 | other         | other         | other       | vwc         | user-group | never pay      | never pay  | soft  | good  | dry          | dry          | rainwater harvesting | rainwater harvesting | surface     | other                       | other              |\n",
       "| 13 |   653 |    0 | 2012-10-11 | World Bank                     |    0 | Building works company Ltd | 33.66107 |  -4.165720 | Kwa Nzega               | 0 | Internal                | Chonja      | Tabora      | 14 |  2 | Igunga        | Itunduru          |   0 | True | GeoData Consultants Ltd | Other       | World Bank                      | True  |    0 | mono          | mono          | motorpump   | vwc         | user-group | unknown        | unknown    | soft  | good  | dry          | dry          | machine dbh          | borehole             | groundwater | communal standpipe multiple | communal standpipe |\n",
       "| 14 | 14017 |    0 | 2011-07-29 | Ministry Of Water              |    0 | DWE                        | 33.00768 |  -3.209529 | Gati La Shuleni         | 0 | Lake Victoria           | Ilobashi    | Mwanza      | 19 |  4 | Kwimba        | Bupamwa           |   0 | True | GeoData Consultants Ltd | VWC         | Mradi wa maji Kiliwi            | True  |    0 | mono          | mono          | motorpump   | vwc         | user-group | pay per bucket | per bucket | soft  | good  | enough       | enough       | machine dbh          | borehole             | groundwater | communal standpipe multiple | communal standpipe |\n",
       "| 15 | 44607 | 1000 | 2011-03-02 | Danida                         | 1625 | DANID                      | 35.61562 |  -7.870290 | none                    | 0 | Rufiji                  | Winome      | Iringa      | 11 |  1 | Iringa Rural  | Mseke             |   1 | True | GeoData Consultants Ltd | VWC         | Meseke                          | True  | 1984 | gravity       | gravity       | gravity     | vwc         | user-group | pay monthly    | monthly    | soft  | good  | enough       | enough       | spring               | spring               | groundwater | communal standpipe          | communal standpipe |\n",
       "| 16 | 40228 | 1200 | 2013-06-03 | Danida                         |  916 | DWE                        | 35.48289 | -10.912596 | Kwa Daniela             | 0 | Ruvuma / Southern Coast | Mkulu       | Ruvuma      | 10 |  2 | Songea Rural  | Ndogosi           |   0 | True | GeoData Consultants Ltd | VWC         | Mradi wa maji wa ndongosi       | True  | 1989 | gravity       | gravity       | gravity     | vwc         | user-group | pay annually   | annually   | soft  | good  | enough       | enough       | river                | river/lake           | surface     | communal standpipe multiple | communal standpipe |\n",
       "| 17 | 27714 |    0 | 2011-02-24 | <!----> |  -39 | <!----> | 39.85019 |  -7.727946 | Kitotoni                | 0 | Rufiji                  | Barabarani  | Pwani       |  6 |  6 | Mafia         | Kanga             | 900 | True | GeoData Consultants Ltd | VWC         | <!----> | False |    0 | nira/tanira   | nira/tanira   | handpump    | vwc         | user-group | never pay      | never pay  | soft  | good  | enough       | enough       | shallow well         | shallow well         | groundwater | hand pump                   | hand pump          |\n",
       "| 18 | 28785 |  200 | 2011-03-11 | Government Of Tanzania         | 1793 | DWE                        | 38.25402 |  -4.565802 | Magagai Hospital        | 0 | Pangani                 | Magagai 2   | Tanga       |  4 |  1 | Lushoto       | Rangwi            |   1 | True | GeoData Consultants Ltd | VWC         | Shagayo forest                  | True  | 1978 | gravity       | gravity       | gravity     | vwc         | user-group | pay monthly    | monthly    | soft  | good  | enough       | enough       | spring               | spring               | groundwater | communal standpipe          | communal standpipe |\n",
       "| 19 | 28330 |    0 | 2012-10-06 | Rural Water Supply And Sanitat |    0 | DWE                        | 31.58680 |  -3.387808 | Shule Ya Msingi Ikuzi   | 0 | Lake Tanganyika         | Bumbaaga A  | Shinyanga   | 17 |  5 | Bukombe       | Runzewe           |   0 | True | GeoData Consultants Ltd | Parastatal  | <!----> | True  |    0 | gravity       | gravity       | gravity     | parastatal  | parastatal | unknown        | unknown    | soft  | good  | seasonal     | seasonal     | rainwater harvesting | rainwater harvesting | surface     | communal standpipe          | communal standpipe |\n",
       "| 20 | 18532 |    0 | 2013-02-02 | Finw                           |  368 | FinW                       | 39.43853 | -10.583366 | Liponde A               | 0 | Ruvuma / Southern Coast | Liponde A   | Mtwara      |  9 |  4 | Tandahimba    | Chaume            | 300 | True | GeoData Consultants Ltd | Water Board | Borehole                        | True  | 1982 | submersible   | submersible   | submersible | vwc         | user-group | never pay      | never pay  | soft  | good  | dry          | dry          | machine dbh          | borehole             | groundwater | communal standpipe          | communal standpipe |\n",
       "\n"
      ],
      "text/plain": [
       "   id    amount_tsh date_recorded funder                         gps_height\n",
       "1  50785    0       2013-02-04    Dmdd                           1996      \n",
       "2  51630    0       2013-02-04    Government Of Tanzania         1569      \n",
       "3  17168    0       2013-02-01                                   1567      \n",
       "4  45559    0       2013-01-22    Finn Water                      267      \n",
       "5  49871  500       2013-03-27    Bruder                         1260      \n",
       "6  52449    0       2013-03-04    Government Of Tanzania         1685      \n",
       "7  24806    0       2011-03-02    Government Of Tanzania          550      \n",
       "8  28965    0       2013-01-25    Finw                            234      \n",
       "9  36301   30       2013-01-23    Unicef                          584      \n",
       "10 54122    0       2013-03-18    Lawatefuka Water Supply        1083      \n",
       "11   419    5       2013-10-03    Germany Republi                1259      \n",
       "12 45750    0       2013-02-27    World Vision                    608      \n",
       "13   653    0       2012-10-11    World Bank                        0      \n",
       "14 14017    0       2011-07-29    Ministry Of Water                 0      \n",
       "15 44607 1000       2011-03-02    Danida                         1625      \n",
       "16 40228 1200       2013-06-03    Danida                          916      \n",
       "17 27714    0       2011-02-24                                    -39      \n",
       "18 28785  200       2011-03-11    Government Of Tanzania         1793      \n",
       "19 28330    0       2012-10-06    Rural Water Supply And Sanitat    0      \n",
       "20 18532    0       2013-02-02    Finw                            368      \n",
       "   installer                  longitude latitude   wpt_name               \n",
       "1  DMDD                       35.29080   -4.059696 Dinamu Secondary School\n",
       "2  DWE                        36.65671   -3.309214 Kimnyak                \n",
       "3                             34.76786   -5.004344 Puma Secondary         \n",
       "4  FINN WATER                 38.05805   -9.418672 Kwa Mzee Pange         \n",
       "5  BRUDER                     35.00612  -10.950412 Kwa Mzee Turuka        \n",
       "6  DWE                        36.68528   -3.302420 Masaga                 \n",
       "7  Gover                      36.39804   -7.541382 none                   \n",
       "8  FinW                       39.60742  -10.893786 Kwa Mkwaa              \n",
       "9  LGA                        39.26295  -10.823588 Kwa Mzee Mpini         \n",
       "10 Lawatefuka water sup       37.09611   -3.251754 Kwa Flora Daud         \n",
       "11 CES                        37.23325   -3.241121 Kwa Anna P Muro        \n",
       "12 World vision               37.68639   -4.555975 Shuleni                \n",
       "13 Building works company Ltd 33.66107   -4.165720 Kwa Nzega              \n",
       "14 DWE                        33.00768   -3.209529 Gati La Shuleni        \n",
       "15 DANID                      35.61562   -7.870290 none                   \n",
       "16 DWE                        35.48289  -10.912596 Kwa Daniela            \n",
       "17                            39.85019   -7.727946 Kitotoni               \n",
       "18 DWE                        38.25402   -4.565802 Magagai Hospital       \n",
       "19 DWE                        31.58680   -3.387808 Shule Ya Msingi Ikuzi  \n",
       "20 FinW                       39.43853  -10.583366 Liponde A              \n",
       "   num_private basin                   subvillage  region      region_code\n",
       "1  0           Internal                Magoma      Manyara     21         \n",
       "2  0           Pangani                 Kimnyak     Arusha       2         \n",
       "3  0           Internal                Msatu       Singida     13         \n",
       "4  0           Ruvuma / Southern Coast Kipindimbi  Lindi       80         \n",
       "5  0           Ruvuma / Southern Coast Losonga     Ruvuma      10         \n",
       "6  0           Pangani                 Masaga      Arusha       2         \n",
       "7  0           Rufiji                  Kichangani  Iringa      11         \n",
       "8  0           Ruvuma / Southern Coast Ilala       Mtwara       9         \n",
       "9  0           Ruvuma / Southern Coast Bondeni     Mtwara      90         \n",
       "10 0           Pangani                 Donyomuruak Kilimanjaro  3         \n",
       "11 0           Pangani                 Saa         Kilimanjaro  3         \n",
       "12 0           Pangani                 Remit       Manyara     21         \n",
       "13 0           Internal                Chonja      Tabora      14         \n",
       "14 0           Lake Victoria           Ilobashi    Mwanza      19         \n",
       "15 0           Rufiji                  Winome      Iringa      11         \n",
       "16 0           Ruvuma / Southern Coast Mkulu       Ruvuma      10         \n",
       "17 0           Rufiji                  Barabarani  Pwani        6         \n",
       "18 0           Pangani                 Magagai 2   Tanga        4         \n",
       "19 0           Lake Tanganyika         Bumbaaga A  Shinyanga   17         \n",
       "20 0           Ruvuma / Southern Coast Liponde A   Mtwara       9         \n",
       "   district_code lga           ward              population public_meeting\n",
       "1   3            Mbulu         Bashay            321        True          \n",
       "2   2            Arusha Rural  Kimnyaki          300        True          \n",
       "3   2            Singida Rural Puma              500        True          \n",
       "4  43            Liwale        Mkutano           250                      \n",
       "5   3            Mbinga        Mbinga Urban       60                      \n",
       "6   2            Arusha Rural  Ilkiding'a        200        True          \n",
       "7   7            Kilolo        Mahenge           600        True          \n",
       "8   4            Tandahimba    Maundo              1        True          \n",
       "9  33            Newala        Mnekachi           40        True          \n",
       "10  7            Siha          Siha Kati           1        True          \n",
       "11  5            Hai           Machame Kaskazini  75        True          \n",
       "12  4            Simanjiro     Ruvu Remit        500        True          \n",
       "13  2            Igunga        Itunduru            0        True          \n",
       "14  4            Kwimba        Bupamwa             0        True          \n",
       "15  1            Iringa Rural  Mseke               1        True          \n",
       "16  2            Songea Rural  Ndogosi             0        True          \n",
       "17  6            Mafia         Kanga             900        True          \n",
       "18  1            Lushoto       Rangwi              1        True          \n",
       "19  5            Bukombe       Runzewe             0        True          \n",
       "20  4            Tandahimba    Chaume            300        True          \n",
       "   recorded_by             scheme_management scheme_name                    \n",
       "1  GeoData Consultants Ltd Parastatal                                       \n",
       "2  GeoData Consultants Ltd VWC               TPRI pipe line                 \n",
       "3  GeoData Consultants Ltd VWC               P                              \n",
       "4  GeoData Consultants Ltd VWC                                              \n",
       "5  GeoData Consultants Ltd Water Board       BRUDER                         \n",
       "6  GeoData Consultants Ltd VWC               Timbolo sambasha TPRI pipe line\n",
       "7  GeoData Consultants Ltd VWC                                              \n",
       "8  GeoData Consultants Ltd Water Board       Borehole                       \n",
       "9  GeoData Consultants Ltd VWC               MWS                            \n",
       "10 GeoData Consultants Ltd Water Board       BL Erasto Laizer               \n",
       "11 GeoData Consultants Ltd Water Board       Lyamungo-Umbwe water supply    \n",
       "12 GeoData Consultants Ltd                                                  \n",
       "13 GeoData Consultants Ltd Other             World Bank                     \n",
       "14 GeoData Consultants Ltd VWC               Mradi wa maji Kiliwi           \n",
       "15 GeoData Consultants Ltd VWC               Meseke                         \n",
       "16 GeoData Consultants Ltd VWC               Mradi wa maji wa ndongosi      \n",
       "17 GeoData Consultants Ltd VWC                                              \n",
       "18 GeoData Consultants Ltd VWC               Shagayo forest                 \n",
       "19 GeoData Consultants Ltd Parastatal                                       \n",
       "20 GeoData Consultants Ltd Water Board       Borehole                       \n",
       "   permit construction_year extraction_type extraction_type_group\n",
       "1  True   2012              other           other                \n",
       "2  True   2000              gravity         gravity              \n",
       "3         2010              other           other                \n",
       "4  True   1987              other           other                \n",
       "5  True   2000              gravity         gravity              \n",
       "6  True   1990              gravity         gravity              \n",
       "7  True   2007              india mark ii   india mark ii        \n",
       "8  True   1982              submersible     submersible          \n",
       "9  False  1997              gravity         gravity              \n",
       "10 True   2003              gravity         gravity              \n",
       "11 True   2006              gravity         gravity              \n",
       "12 True   2002              other           other                \n",
       "13 True      0              mono            mono                 \n",
       "14 True      0              mono            mono                 \n",
       "15 True   1984              gravity         gravity              \n",
       "16 True   1989              gravity         gravity              \n",
       "17 False     0              nira/tanira     nira/tanira          \n",
       "18 True   1978              gravity         gravity              \n",
       "19 True      0              gravity         gravity              \n",
       "20 True   1982              submersible     submersible          \n",
       "   extraction_type_class management  management_group payment       \n",
       "1  other                 parastatal  parastatal       never pay     \n",
       "2  gravity               vwc         user-group       never pay     \n",
       "3  other                 vwc         user-group       never pay     \n",
       "4  other                 vwc         user-group       unknown       \n",
       "5  gravity               water board user-group       pay monthly   \n",
       "6  gravity               vwc         user-group       never pay     \n",
       "7  handpump              vwc         user-group       never pay     \n",
       "8  submersible           vwc         user-group       never pay     \n",
       "9  gravity               vwc         user-group       pay per bucket\n",
       "10 gravity               water board user-group       pay monthly   \n",
       "11 gravity               water board user-group       pay per bucket\n",
       "12 other                 vwc         user-group       never pay     \n",
       "13 motorpump             vwc         user-group       unknown       \n",
       "14 motorpump             vwc         user-group       pay per bucket\n",
       "15 gravity               vwc         user-group       pay monthly   \n",
       "16 gravity               vwc         user-group       pay annually  \n",
       "17 handpump              vwc         user-group       never pay     \n",
       "18 gravity               vwc         user-group       pay monthly   \n",
       "19 gravity               parastatal  parastatal       unknown       \n",
       "20 submersible           vwc         user-group       never pay     \n",
       "   payment_type water_quality quality_group quantity     quantity_group\n",
       "1  never pay    soft          good          seasonal     seasonal      \n",
       "2  never pay    soft          good          insufficient insufficient  \n",
       "3  never pay    soft          good          insufficient insufficient  \n",
       "4  unknown      soft          good          dry          dry           \n",
       "5  monthly      soft          good          enough       enough        \n",
       "6  never pay    soft          good          enough       enough        \n",
       "7  never pay    salty         salty         enough       enough        \n",
       "8  never pay    soft          good          dry          dry           \n",
       "9  per bucket   soft          good          insufficient insufficient  \n",
       "10 monthly      soft          good          enough       enough        \n",
       "11 per bucket   soft          good          enough       enough        \n",
       "12 never pay    soft          good          dry          dry           \n",
       "13 unknown      soft          good          dry          dry           \n",
       "14 per bucket   soft          good          enough       enough        \n",
       "15 monthly      soft          good          enough       enough        \n",
       "16 annually     soft          good          enough       enough        \n",
       "17 never pay    soft          good          enough       enough        \n",
       "18 monthly      soft          good          enough       enough        \n",
       "19 unknown      soft          good          seasonal     seasonal      \n",
       "20 never pay    soft          good          dry          dry           \n",
       "   source               source_type          source_class\n",
       "1  rainwater harvesting rainwater harvesting surface     \n",
       "2  spring               spring               groundwater \n",
       "3  rainwater harvesting rainwater harvesting surface     \n",
       "4  shallow well         shallow well         groundwater \n",
       "5  spring               spring               groundwater \n",
       "6  spring               spring               groundwater \n",
       "7  machine dbh          borehole             groundwater \n",
       "8  machine dbh          borehole             groundwater \n",
       "9  spring               spring               groundwater \n",
       "10 spring               spring               groundwater \n",
       "11 spring               spring               groundwater \n",
       "12 rainwater harvesting rainwater harvesting surface     \n",
       "13 machine dbh          borehole             groundwater \n",
       "14 machine dbh          borehole             groundwater \n",
       "15 spring               spring               groundwater \n",
       "16 river                river/lake           surface     \n",
       "17 shallow well         shallow well         groundwater \n",
       "18 spring               spring               groundwater \n",
       "19 rainwater harvesting rainwater harvesting surface     \n",
       "20 machine dbh          borehole             groundwater \n",
       "   waterpoint_type             waterpoint_type_group\n",
       "1  other                       other                \n",
       "2  communal standpipe          communal standpipe   \n",
       "3  other                       other                \n",
       "4  other                       other                \n",
       "5  communal standpipe          communal standpipe   \n",
       "6  communal standpipe          communal standpipe   \n",
       "7  hand pump                   hand pump            \n",
       "8  communal standpipe multiple communal standpipe   \n",
       "9  communal standpipe          communal standpipe   \n",
       "10 communal standpipe          communal standpipe   \n",
       "11 communal standpipe          communal standpipe   \n",
       "12 other                       other                \n",
       "13 communal standpipe multiple communal standpipe   \n",
       "14 communal standpipe multiple communal standpipe   \n",
       "15 communal standpipe          communal standpipe   \n",
       "16 communal standpipe multiple communal standpipe   \n",
       "17 hand pump                   hand pump            \n",
       "18 communal standpipe          communal standpipe   \n",
       "19 communal standpipe          communal standpipe   \n",
       "20 communal standpipe          communal standpipe   "
      ]
     },
     "metadata": {},
     "output_type": "display_data"
    },
    {
     "data": {
      "text/html": [
       "<table class=\"dataframe\">\n",
       "<caption>A data.frame: 20 × 41</caption>\n",
       "<thead>\n",
       "\t<tr><th></th><th scope=col>id</th><th scope=col>amount_tsh</th><th scope=col>date_recorded</th><th scope=col>funder</th><th scope=col>gps_height</th><th scope=col>installer</th><th scope=col>longitude</th><th scope=col>latitude</th><th scope=col>wpt_name</th><th scope=col>num_private</th><th scope=col>basin</th><th scope=col>subvillage</th><th scope=col>region</th><th scope=col>region_code</th><th scope=col>district_code</th><th scope=col>lga</th><th scope=col>ward</th><th scope=col>population</th><th scope=col>public_meeting</th><th scope=col>recorded_by</th><th scope=col>scheme_management</th><th scope=col>scheme_name</th><th scope=col>permit</th><th scope=col>construction_year</th><th scope=col>extraction_type</th><th scope=col>extraction_type_group</th><th scope=col>extraction_type_class</th><th scope=col>management</th><th scope=col>management_group</th><th scope=col>payment</th><th scope=col>payment_type</th><th scope=col>water_quality</th><th scope=col>quality_group</th><th scope=col>quantity</th><th scope=col>quantity_group</th><th scope=col>source</th><th scope=col>source_type</th><th scope=col>source_class</th><th scope=col>waterpoint_type</th><th scope=col>waterpoint_type_group</th><th scope=col>status_group</th></tr>\n",
       "\t<tr><th></th><th scope=col>&lt;int&gt;</th><th scope=col>&lt;dbl&gt;</th><th scope=col>&lt;fct&gt;</th><th scope=col>&lt;fct&gt;</th><th scope=col>&lt;int&gt;</th><th scope=col>&lt;fct&gt;</th><th scope=col>&lt;dbl&gt;</th><th scope=col>&lt;dbl&gt;</th><th scope=col>&lt;fct&gt;</th><th scope=col>&lt;int&gt;</th><th scope=col>&lt;fct&gt;</th><th scope=col>&lt;fct&gt;</th><th scope=col>&lt;fct&gt;</th><th scope=col>&lt;int&gt;</th><th scope=col>&lt;int&gt;</th><th scope=col>&lt;fct&gt;</th><th scope=col>&lt;fct&gt;</th><th scope=col>&lt;int&gt;</th><th scope=col>&lt;fct&gt;</th><th scope=col>&lt;fct&gt;</th><th scope=col>&lt;fct&gt;</th><th scope=col>&lt;fct&gt;</th><th scope=col>&lt;fct&gt;</th><th scope=col>&lt;int&gt;</th><th scope=col>&lt;fct&gt;</th><th scope=col>&lt;fct&gt;</th><th scope=col>&lt;fct&gt;</th><th scope=col>&lt;fct&gt;</th><th scope=col>&lt;fct&gt;</th><th scope=col>&lt;fct&gt;</th><th scope=col>&lt;fct&gt;</th><th scope=col>&lt;fct&gt;</th><th scope=col>&lt;fct&gt;</th><th scope=col>&lt;fct&gt;</th><th scope=col>&lt;fct&gt;</th><th scope=col>&lt;fct&gt;</th><th scope=col>&lt;fct&gt;</th><th scope=col>&lt;fct&gt;</th><th scope=col>&lt;fct&gt;</th><th scope=col>&lt;fct&gt;</th><th scope=col>&lt;fct&gt;</th></tr>\n",
       "</thead>\n",
       "<tbody>\n",
       "\t<tr><th scope=row>1</th><td> 0</td><td>  0</td><td>2012-11-13</td><td>Tasaf                  </td><td>   0</td><td>TASAF     </td><td>33.12583</td><td> -5.11815407</td><td>Mratibu                     </td><td>0</td><td>Lake Tanganyika        </td><td>Majengo        </td><td>Tabora       </td><td>14</td><td> 3</td><td>Uyui           </td><td>Igalula         </td><td>   0</td><td>     </td><td>GeoData Consultants Ltd</td><td>VWC             </td><td>                         </td><td>True </td><td>   0</td><td>afridev          </td><td>afridev    </td><td>handpump   </td><td>vwc             </td><td>user-group</td><td>unknown              </td><td>unknown   </td><td>milky          </td><td>milky</td><td>enough      </td><td>enough      </td><td>shallow well        </td><td>shallow well        </td><td>groundwater</td><td>hand pump                  </td><td>hand pump         </td><td>non functional         </td></tr>\n",
       "\t<tr><th scope=row>2</th><td> 1</td><td>  0</td><td>2011-03-05</td><td>Shipo                  </td><td>1978</td><td>SHIPO     </td><td>34.77072</td><td> -9.39564152</td><td>none                        </td><td>0</td><td>Rufiji                 </td><td>Magoda C       </td><td>Iringa       </td><td>11</td><td> 4</td><td>Njombe         </td><td>Uwemba          </td><td>  20</td><td>True </td><td>GeoData Consultants Ltd</td><td>                </td><td>                         </td><td>False</td><td>2008</td><td>other - rope pump</td><td>rope pump  </td><td>rope pump  </td><td>vwc             </td><td>user-group</td><td>never pay            </td><td>never pay </td><td>soft           </td><td>good </td><td>enough      </td><td>enough      </td><td>shallow well        </td><td>shallow well        </td><td>groundwater</td><td>hand pump                  </td><td>hand pump         </td><td>functional             </td></tr>\n",
       "\t<tr><th scope=row>3</th><td> 2</td><td>  0</td><td>2011-03-27</td><td>Lvia                   </td><td>   0</td><td>LVIA      </td><td>36.11506</td><td> -6.27926803</td><td>Bombani                     </td><td>0</td><td>Wami / Ruvu            </td><td>Songambele     </td><td>Dodoma       </td><td> 1</td><td> 4</td><td>Chamwino       </td><td>Msamalo         </td><td>   0</td><td>True </td><td>GeoData Consultants Ltd</td><td>VWC             </td><td>Mgun                     </td><td>True </td><td>   0</td><td>mono             </td><td>mono       </td><td>motorpump  </td><td>vwc             </td><td>user-group</td><td>pay per bucket       </td><td>per bucket</td><td>soft           </td><td>good </td><td>insufficient</td><td>insufficient</td><td>machine dbh         </td><td>borehole            </td><td>groundwater</td><td>communal standpipe multiple</td><td>communal standpipe</td><td>functional             </td></tr>\n",
       "\t<tr><th scope=row>4</th><td> 3</td><td> 10</td><td>2013-06-03</td><td>Germany Republi        </td><td>1639</td><td>CES       </td><td>37.14743</td><td> -3.18755455</td><td>Area 7 Namba 5              </td><td>0</td><td>Pangani                </td><td>Urereni        </td><td>Kilimanjaro  </td><td> 3</td><td> 5</td><td>Hai            </td><td>Masama Magharibi</td><td>  25</td><td>True </td><td>GeoData Consultants Ltd</td><td>Water Board     </td><td>Losaa-Kia water supply   </td><td>True </td><td>1999</td><td>gravity          </td><td>gravity    </td><td>gravity    </td><td>water board     </td><td>user-group</td><td>pay per bucket       </td><td>per bucket</td><td>soft           </td><td>good </td><td>enough      </td><td>enough      </td><td>spring              </td><td>spring              </td><td>groundwater</td><td>communal standpipe         </td><td>communal standpipe</td><td>functional             </td></tr>\n",
       "\t<tr><th scope=row>5</th><td> 4</td><td>  0</td><td>2011-03-22</td><td>Cmsr                   </td><td>   0</td><td>CMSR      </td><td>36.16489</td><td> -6.09928949</td><td>Ezeleda                     </td><td>0</td><td>Wami / Ruvu            </td><td>Maata A        </td><td>Dodoma       </td><td> 1</td><td> 4</td><td>Chamwino       </td><td>Majeleko        </td><td>   0</td><td>True </td><td>GeoData Consultants Ltd</td><td>VWC             </td><td>                         </td><td>True </td><td>   0</td><td>nira/tanira      </td><td>nira/tanira</td><td>handpump   </td><td>vwc             </td><td>user-group</td><td>unknown              </td><td>unknown   </td><td>soft           </td><td>good </td><td>dry         </td><td>dry         </td><td>shallow well        </td><td>shallow well        </td><td>groundwater</td><td>hand pump                  </td><td>hand pump         </td><td>non functional         </td></tr>\n",
       "\t<tr><th scope=row>6</th><td> 5</td><td> 50</td><td>2011-02-26</td><td>Private                </td><td>  28</td><td>Private   </td><td>39.28612</td><td> -6.97240273</td><td>Kwa Namaj                   </td><td>0</td><td>Wami / Ruvu            </td><td>Mwandege       </td><td>Pwani        </td><td>60</td><td>43</td><td>Mkuranga       </td><td>Vikindu         </td><td>6922</td><td>True </td><td>GeoData Consultants Ltd</td><td>Private operator</td><td>                         </td><td>False</td><td>   0</td><td>submersible      </td><td>submersible</td><td>submersible</td><td>private operator</td><td>commercial</td><td>pay per bucket       </td><td>per bucket</td><td>soft           </td><td>good </td><td>enough      </td><td>enough      </td><td>machine dbh         </td><td>borehole            </td><td>groundwater</td><td>communal standpipe multiple</td><td>communal standpipe</td><td>functional             </td></tr>\n",
       "\t<tr><th scope=row>7</th><td> 6</td><td>  0</td><td>2012-10-20</td><td>Government Of Tanzania </td><td>   0</td><td>Government</td><td>33.22988</td><td> -3.85298271</td><td>Mission                     </td><td>0</td><td>Internal               </td><td>Ngaganulwa     </td><td>Shinyanga    </td><td>17</td><td> 3</td><td>Shinyanga Rural</td><td>Usanda          </td><td>   0</td><td>True </td><td>GeoData Consultants Ltd</td><td>VWC             </td><td>                         </td><td>True </td><td>   0</td><td>other            </td><td>other      </td><td>other      </td><td>vwc             </td><td>user-group</td><td>never pay            </td><td>never pay </td><td>soft           </td><td>good </td><td>seasonal    </td><td>seasonal    </td><td>shallow well        </td><td>shallow well        </td><td>groundwater</td><td>other                      </td><td>other             </td><td>non functional         </td></tr>\n",
       "\t<tr><th scope=row>8</th><td> 7</td><td>  0</td><td>2011-03-23</td><td>Water                  </td><td>   0</td><td>Gover     </td><td>36.31362</td><td> -6.71925716</td><td>Itawi                       </td><td>0</td><td>Rufiji                 </td><td>Mwangaza       </td><td>Dodoma       </td><td> 1</td><td> 1</td><td>Mpwapwa        </td><td>Wotta           </td><td>   0</td><td>True </td><td>GeoData Consultants Ltd</td><td>VWC             </td><td>Lwih                     </td><td>True </td><td>   0</td><td>other            </td><td>other      </td><td>other      </td><td>vwc             </td><td>user-group</td><td>never pay            </td><td>never pay </td><td>milky          </td><td>milky</td><td>insufficient</td><td>insufficient</td><td>spring              </td><td>spring              </td><td>groundwater</td><td>improved spring            </td><td>improved spring   </td><td>functional             </td></tr>\n",
       "\t<tr><th scope=row>9</th><td> 8</td><td>  0</td><td>2011-04-07</td><td>Water                  </td><td>   0</td><td>Commu     </td><td>35.93944</td><td> -6.01435820</td><td>Kwa Chiswagala              </td><td>0</td><td>Wami / Ruvu            </td><td>Mazengo        </td><td>Dodoma       </td><td> 1</td><td> 5</td><td>Dodoma Urban   </td><td>Ipala           </td><td>   0</td><td>True </td><td>GeoData Consultants Ltd</td><td>VWC             </td><td>Ipal                     </td><td>False</td><td>   0</td><td>mono             </td><td>mono       </td><td>motorpump  </td><td>private operator</td><td>commercial</td><td>pay per bucket       </td><td>per bucket</td><td>soft           </td><td>good </td><td>dry         </td><td>dry         </td><td>machine dbh         </td><td>borehole            </td><td>groundwater</td><td>communal standpipe multiple</td><td>communal standpipe</td><td>non functional         </td></tr>\n",
       "\t<tr><th scope=row>10</th><td> 9</td><td>  0</td><td>2011-07-12</td><td>Ded                    </td><td>   0</td><td>DED       </td><td>31.69337</td><td> -2.53070326</td><td>Shule Ya Msingi Nyamirembe A</td><td>0</td><td>Lake Victoria          </td><td>Miembeni       </td><td>Kagera       </td><td>18</td><td> 8</td><td>Chato          </td><td>Nyamirembe      </td><td>   0</td><td>True </td><td>GeoData Consultants Ltd</td><td>VWC             </td><td>Mapinduzi                </td><td>True </td><td>   0</td><td>mono             </td><td>mono       </td><td>motorpump  </td><td>vwc             </td><td>user-group</td><td>never pay            </td><td>never pay </td><td>soft           </td><td>good </td><td>insufficient</td><td>insufficient</td><td>machine dbh         </td><td>borehole            </td><td>groundwater</td><td>communal standpipe multiple</td><td>communal standpipe</td><td>non functional         </td></tr>\n",
       "\t<tr><th scope=row>11</th><td>11</td><td> 30</td><td>2011-03-09</td><td>Kwa Makala             </td><td>  64</td><td>Makala    </td><td>38.66364</td><td> -5.80574551</td><td>Kwa Makala                  </td><td>0</td><td>Pangani                </td><td>Sokoni         </td><td>Tanga        </td><td> 4</td><td> 5</td><td>Pangani        </td><td>Mkalamo         </td><td> 150</td><td>False</td><td>GeoData Consultants Ltd</td><td>Private operator</td><td>Mkalamo water supply     </td><td>False</td><td>2007</td><td>submersible      </td><td>submersible</td><td>submersible</td><td>private operator</td><td>commercial</td><td>pay per bucket       </td><td>per bucket</td><td>salty          </td><td>salty</td><td>insufficient</td><td>insufficient</td><td>machine dbh         </td><td>borehole            </td><td>groundwater</td><td>communal standpipe         </td><td>communal standpipe</td><td>non functional         </td></tr>\n",
       "\t<tr><th scope=row>12</th><td>12</td><td>  0</td><td>2013-03-14</td><td>World Bank             </td><td>1332</td><td>World bank</td><td>36.75623</td><td> -3.37377239</td><td>Moivaro Primary School      </td><td>0</td><td>Pangani                </td><td>Moivaro        </td><td>Arusha       </td><td> 2</td><td> 7</td><td>Meru           </td><td>Nkoanrua        </td><td> 350</td><td>True </td><td>GeoData Consultants Ltd</td><td>WUA             </td><td>                         </td><td>False</td><td>2010</td><td>gravity          </td><td>gravity    </td><td>gravity    </td><td>wua             </td><td>user-group</td><td>unknown              </td><td>unknown   </td><td>soft           </td><td>good </td><td>insufficient</td><td>insufficient</td><td>rainwater harvesting</td><td>rainwater harvesting</td><td>surface    </td><td>communal standpipe         </td><td>communal standpipe</td><td>non functional         </td></tr>\n",
       "\t<tr><th scope=row>13</th><td>15</td><td>  0</td><td>2012-11-06</td><td>Hesawa                 </td><td>   0</td><td>DWE       </td><td> 0.00000</td><td> -0.00000002</td><td>Kwamazoa                    </td><td>0</td><td>Lake Victoria          </td><td>Madukani       </td><td>Mwanza       </td><td>19</td><td> 2</td><td>Magu           </td><td>Igalukilo       </td><td>   0</td><td>True </td><td>GeoData Consultants Ltd</td><td>                </td><td>                         </td><td>True </td><td>   0</td><td>other            </td><td>other      </td><td>other      </td><td>vwc             </td><td>user-group</td><td>never pay            </td><td>never pay </td><td>soft           </td><td>good </td><td>seasonal    </td><td>seasonal    </td><td>shallow well        </td><td>shallow well        </td><td>groundwater</td><td>other                      </td><td>other             </td><td>non functional         </td></tr>\n",
       "\t<tr><th scope=row>14</th><td>16</td><td>  0</td><td>2013-02-03</td><td>Songea District Council</td><td>1014</td><td>DWE       </td><td>35.33371</td><td>-10.46963842</td><td>Kwa Feristasi               </td><td>0</td><td>Lake Nyasa             </td><td>Amka Twende    </td><td>Ruvuma       </td><td>10</td><td> 2</td><td>Songea Rural   </td><td>Kilagano        </td><td>   0</td><td>True </td><td>GeoData Consultants Ltd</td><td>VWC             </td><td>Mradi wa maji wa kilagano</td><td>True </td><td>1984</td><td>gravity          </td><td>gravity    </td><td>gravity    </td><td>vwc             </td><td>user-group</td><td>pay when scheme fails</td><td>on failure</td><td>soft           </td><td>good </td><td>dry         </td><td>dry         </td><td>spring              </td><td>spring              </td><td>groundwater</td><td>communal standpipe         </td><td>communal standpipe</td><td>non functional         </td></tr>\n",
       "\t<tr><th scope=row>15</th><td>17</td><td>  0</td><td>2013-03-28</td><td>World Bank             </td><td>1606</td><td>DWE       </td><td>36.62429</td><td> -3.27627358</td><td>Seuli                       </td><td>0</td><td>Pangani                </td><td>Seuli          </td><td>Arusha       </td><td> 2</td><td> 2</td><td>Arusha Rural   </td><td>Oltrumet        </td><td> 200</td><td>True </td><td>GeoData Consultants Ltd</td><td>VWC             </td><td>Mlimani pipe line        </td><td>True </td><td>2010</td><td>gravity          </td><td>gravity    </td><td>gravity    </td><td>vwc             </td><td>user-group</td><td>never pay            </td><td>never pay </td><td>soft           </td><td>good </td><td>enough      </td><td>enough      </td><td>spring              </td><td>spring              </td><td>groundwater</td><td>communal standpipe         </td><td>communal standpipe</td><td>functional             </td></tr>\n",
       "\t<tr><th scope=row>16</th><td>18</td><td>  0</td><td>2011-03-13</td><td>Water                  </td><td>   0</td><td>Commu     </td><td>36.52430</td><td> -6.18081796</td><td>Kwa Majele                  </td><td>0</td><td>Wami / Ruvu            </td><td>               </td><td>Dodoma       </td><td> 1</td><td> 3</td><td>Kongwa         </td><td>Ugogoni         </td><td>   0</td><td>True </td><td>GeoData Consultants Ltd</td><td>VWC             </td><td>Msin                     </td><td>False</td><td>   0</td><td>mono             </td><td>mono       </td><td>motorpump  </td><td>vwc             </td><td>user-group</td><td>pay per bucket       </td><td>per bucket</td><td>salty          </td><td>salty</td><td>enough      </td><td>enough      </td><td>machine dbh         </td><td>borehole            </td><td>groundwater</td><td>communal standpipe multiple</td><td>communal standpipe</td><td>functional             </td></tr>\n",
       "\t<tr><th scope=row>17</th><td>19</td><td> 50</td><td>2013-02-23</td><td>Amref                  </td><td> 226</td><td>Amref     </td><td>39.73442</td><td>-10.56919171</td><td>Kwa Ally Likomba            </td><td>0</td><td>Ruvuma / Southern Coast</td><td>Mwenge         </td><td>Mtwara       </td><td>99</td><td> 1</td><td>Mtwara Rural   </td><td>Njengwa         </td><td> 450</td><td>True </td><td>GeoData Consultants Ltd</td><td>VWC             </td><td>Nang'awanga water supply </td><td>True </td><td>2012</td><td>mono             </td><td>mono       </td><td>motorpump  </td><td>vwc             </td><td>user-group</td><td>pay per bucket       </td><td>per bucket</td><td>soft           </td><td>good </td><td>enough      </td><td>enough      </td><td>machine dbh         </td><td>borehole            </td><td>groundwater</td><td>communal standpipe multiple</td><td>communal standpipe</td><td>functional             </td></tr>\n",
       "\t<tr><th scope=row>18</th><td>20</td><td>250</td><td>2013-02-09</td><td>Oxfam                  </td><td>1257</td><td>OXFAM     </td><td>29.90178</td><td> -4.54070514</td><td>Ccm                         </td><td>0</td><td>Lake Tanganyika        </td><td>Gwandamula     </td><td>Kigoma       </td><td>16</td><td> 2</td><td>Kasulu         </td><td>Janda           </td><td> 340</td><td>True </td><td>GeoData Consultants Ltd</td><td>Water authority </td><td>Mwangwe                  </td><td>True </td><td>1999</td><td>gravity          </td><td>gravity    </td><td>gravity    </td><td>water board     </td><td>user-group</td><td>pay monthly          </td><td>monthly   </td><td>soft           </td><td>good </td><td>enough      </td><td>enough      </td><td>river               </td><td>river/lake          </td><td>surface    </td><td>communal standpipe multiple</td><td>communal standpipe</td><td>functional needs repair</td></tr>\n",
       "\t<tr><th scope=row>19</th><td>21</td><td>  0</td><td>2011-03-22</td><td>Government Of Tanzania </td><td>   0</td><td>GOVER     </td><td>36.24521</td><td> -6.01976068</td><td>Salum Sady                  </td><td>0</td><td>Wami / Ruvu            </td><td>Manzilanzi A   </td><td>Dodoma       </td><td> 1</td><td> 4</td><td>Chamwino       </td><td>Majeleko        </td><td>   0</td><td>True </td><td>GeoData Consultants Ltd</td><td>VWC             </td><td>Manz                     </td><td>True </td><td>   0</td><td>mono             </td><td>mono       </td><td>motorpump  </td><td>vwc             </td><td>user-group</td><td>unknown              </td><td>unknown   </td><td>soft           </td><td>good </td><td>dry         </td><td>dry         </td><td>machine dbh         </td><td>borehole            </td><td>groundwater</td><td>communal standpipe multiple</td><td>communal standpipe</td><td>non functional         </td></tr>\n",
       "\t<tr><th scope=row>20</th><td>22</td><td> 50</td><td>2013-03-16</td><td>                       </td><td>  76</td><td>          </td><td>39.08618</td><td> -6.98584173</td><td>Kwa Konde                   </td><td>0</td><td>Wami / Ruvu            </td><td>Mtaa Wa Tungini</td><td>Dar es Salaam</td><td> 7</td><td> 2</td><td>Ilala          </td><td>Chanika         </td><td> 250</td><td>     </td><td>GeoData Consultants Ltd</td><td>Private operator</td><td>                         </td><td>     </td><td>2010</td><td>other            </td><td>other      </td><td>other      </td><td>private operator</td><td>commercial</td><td>pay per bucket       </td><td>per bucket</td><td>salty abandoned</td><td>salty</td><td>enough      </td><td>enough      </td><td>machine dbh         </td><td>borehole            </td><td>groundwater</td><td>communal standpipe         </td><td>communal standpipe</td><td>functional             </td></tr>\n",
       "</tbody>\n",
       "</table>\n"
      ],
      "text/latex": [
       "A data.frame: 20 × 41\n",
       "\\begin{tabular}{r|lllllllllllllllllllllllllllllllllllllllll}\n",
       "  & id & amount\\_tsh & date\\_recorded & funder & gps\\_height & installer & longitude & latitude & wpt\\_name & num\\_private & basin & subvillage & region & region\\_code & district\\_code & lga & ward & population & public\\_meeting & recorded\\_by & scheme\\_management & scheme\\_name & permit & construction\\_year & extraction\\_type & extraction\\_type\\_group & extraction\\_type\\_class & management & management\\_group & payment & payment\\_type & water\\_quality & quality\\_group & quantity & quantity\\_group & source & source\\_type & source\\_class & waterpoint\\_type & waterpoint\\_type\\_group & status\\_group\\\\\n",
       "  & <int> & <dbl> & <fct> & <fct> & <int> & <fct> & <dbl> & <dbl> & <fct> & <int> & <fct> & <fct> & <fct> & <int> & <int> & <fct> & <fct> & <int> & <fct> & <fct> & <fct> & <fct> & <fct> & <int> & <fct> & <fct> & <fct> & <fct> & <fct> & <fct> & <fct> & <fct> & <fct> & <fct> & <fct> & <fct> & <fct> & <fct> & <fct> & <fct> & <fct>\\\\\n",
       "\\hline\n",
       "\t1 &  0 &   0 & 2012-11-13 & Tasaf                   &    0 & TASAF      & 33.12583 &  -5.11815407 & Mratibu                      & 0 & Lake Tanganyika         & Majengo         & Tabora        & 14 &  3 & Uyui            & Igalula          &    0 &       & GeoData Consultants Ltd & VWC              &                           & True  &    0 & afridev           & afridev     & handpump    & vwc              & user-group & unknown               & unknown    & milky           & milky & enough       & enough       & shallow well         & shallow well         & groundwater & hand pump                   & hand pump          & non functional         \\\\\n",
       "\t2 &  1 &   0 & 2011-03-05 & Shipo                   & 1978 & SHIPO      & 34.77072 &  -9.39564152 & none                         & 0 & Rufiji                  & Magoda C        & Iringa        & 11 &  4 & Njombe          & Uwemba           &   20 & True  & GeoData Consultants Ltd &                  &                           & False & 2008 & other - rope pump & rope pump   & rope pump   & vwc              & user-group & never pay             & never pay  & soft            & good  & enough       & enough       & shallow well         & shallow well         & groundwater & hand pump                   & hand pump          & functional             \\\\\n",
       "\t3 &  2 &   0 & 2011-03-27 & Lvia                    &    0 & LVIA       & 36.11506 &  -6.27926803 & Bombani                      & 0 & Wami / Ruvu             & Songambele      & Dodoma        &  1 &  4 & Chamwino        & Msamalo          &    0 & True  & GeoData Consultants Ltd & VWC              & Mgun                      & True  &    0 & mono              & mono        & motorpump   & vwc              & user-group & pay per bucket        & per bucket & soft            & good  & insufficient & insufficient & machine dbh          & borehole             & groundwater & communal standpipe multiple & communal standpipe & functional             \\\\\n",
       "\t4 &  3 &  10 & 2013-06-03 & Germany Republi         & 1639 & CES        & 37.14743 &  -3.18755455 & Area 7 Namba 5               & 0 & Pangani                 & Urereni         & Kilimanjaro   &  3 &  5 & Hai             & Masama Magharibi &   25 & True  & GeoData Consultants Ltd & Water Board      & Losaa-Kia water supply    & True  & 1999 & gravity           & gravity     & gravity     & water board      & user-group & pay per bucket        & per bucket & soft            & good  & enough       & enough       & spring               & spring               & groundwater & communal standpipe          & communal standpipe & functional             \\\\\n",
       "\t5 &  4 &   0 & 2011-03-22 & Cmsr                    &    0 & CMSR       & 36.16489 &  -6.09928949 & Ezeleda                      & 0 & Wami / Ruvu             & Maata A         & Dodoma        &  1 &  4 & Chamwino        & Majeleko         &    0 & True  & GeoData Consultants Ltd & VWC              &                           & True  &    0 & nira/tanira       & nira/tanira & handpump    & vwc              & user-group & unknown               & unknown    & soft            & good  & dry          & dry          & shallow well         & shallow well         & groundwater & hand pump                   & hand pump          & non functional         \\\\\n",
       "\t6 &  5 &  50 & 2011-02-26 & Private                 &   28 & Private    & 39.28612 &  -6.97240273 & Kwa Namaj                    & 0 & Wami / Ruvu             & Mwandege        & Pwani         & 60 & 43 & Mkuranga        & Vikindu          & 6922 & True  & GeoData Consultants Ltd & Private operator &                           & False &    0 & submersible       & submersible & submersible & private operator & commercial & pay per bucket        & per bucket & soft            & good  & enough       & enough       & machine dbh          & borehole             & groundwater & communal standpipe multiple & communal standpipe & functional             \\\\\n",
       "\t7 &  6 &   0 & 2012-10-20 & Government Of Tanzania  &    0 & Government & 33.22988 &  -3.85298271 & Mission                      & 0 & Internal                & Ngaganulwa      & Shinyanga     & 17 &  3 & Shinyanga Rural & Usanda           &    0 & True  & GeoData Consultants Ltd & VWC              &                           & True  &    0 & other             & other       & other       & vwc              & user-group & never pay             & never pay  & soft            & good  & seasonal     & seasonal     & shallow well         & shallow well         & groundwater & other                       & other              & non functional         \\\\\n",
       "\t8 &  7 &   0 & 2011-03-23 & Water                   &    0 & Gover      & 36.31362 &  -6.71925716 & Itawi                        & 0 & Rufiji                  & Mwangaza        & Dodoma        &  1 &  1 & Mpwapwa         & Wotta            &    0 & True  & GeoData Consultants Ltd & VWC              & Lwih                      & True  &    0 & other             & other       & other       & vwc              & user-group & never pay             & never pay  & milky           & milky & insufficient & insufficient & spring               & spring               & groundwater & improved spring             & improved spring    & functional             \\\\\n",
       "\t9 &  8 &   0 & 2011-04-07 & Water                   &    0 & Commu      & 35.93944 &  -6.01435820 & Kwa Chiswagala               & 0 & Wami / Ruvu             & Mazengo         & Dodoma        &  1 &  5 & Dodoma Urban    & Ipala            &    0 & True  & GeoData Consultants Ltd & VWC              & Ipal                      & False &    0 & mono              & mono        & motorpump   & private operator & commercial & pay per bucket        & per bucket & soft            & good  & dry          & dry          & machine dbh          & borehole             & groundwater & communal standpipe multiple & communal standpipe & non functional         \\\\\n",
       "\t10 &  9 &   0 & 2011-07-12 & Ded                     &    0 & DED        & 31.69337 &  -2.53070326 & Shule Ya Msingi Nyamirembe A & 0 & Lake Victoria           & Miembeni        & Kagera        & 18 &  8 & Chato           & Nyamirembe       &    0 & True  & GeoData Consultants Ltd & VWC              & Mapinduzi                 & True  &    0 & mono              & mono        & motorpump   & vwc              & user-group & never pay             & never pay  & soft            & good  & insufficient & insufficient & machine dbh          & borehole             & groundwater & communal standpipe multiple & communal standpipe & non functional         \\\\\n",
       "\t11 & 11 &  30 & 2011-03-09 & Kwa Makala              &   64 & Makala     & 38.66364 &  -5.80574551 & Kwa Makala                   & 0 & Pangani                 & Sokoni          & Tanga         &  4 &  5 & Pangani         & Mkalamo          &  150 & False & GeoData Consultants Ltd & Private operator & Mkalamo water supply      & False & 2007 & submersible       & submersible & submersible & private operator & commercial & pay per bucket        & per bucket & salty           & salty & insufficient & insufficient & machine dbh          & borehole             & groundwater & communal standpipe          & communal standpipe & non functional         \\\\\n",
       "\t12 & 12 &   0 & 2013-03-14 & World Bank              & 1332 & World bank & 36.75623 &  -3.37377239 & Moivaro Primary School       & 0 & Pangani                 & Moivaro         & Arusha        &  2 &  7 & Meru            & Nkoanrua         &  350 & True  & GeoData Consultants Ltd & WUA              &                           & False & 2010 & gravity           & gravity     & gravity     & wua              & user-group & unknown               & unknown    & soft            & good  & insufficient & insufficient & rainwater harvesting & rainwater harvesting & surface     & communal standpipe          & communal standpipe & non functional         \\\\\n",
       "\t13 & 15 &   0 & 2012-11-06 & Hesawa                  &    0 & DWE        &  0.00000 &  -0.00000002 & Kwamazoa                     & 0 & Lake Victoria           & Madukani        & Mwanza        & 19 &  2 & Magu            & Igalukilo        &    0 & True  & GeoData Consultants Ltd &                  &                           & True  &    0 & other             & other       & other       & vwc              & user-group & never pay             & never pay  & soft            & good  & seasonal     & seasonal     & shallow well         & shallow well         & groundwater & other                       & other              & non functional         \\\\\n",
       "\t14 & 16 &   0 & 2013-02-03 & Songea District Council & 1014 & DWE        & 35.33371 & -10.46963842 & Kwa Feristasi                & 0 & Lake Nyasa              & Amka Twende     & Ruvuma        & 10 &  2 & Songea Rural    & Kilagano         &    0 & True  & GeoData Consultants Ltd & VWC              & Mradi wa maji wa kilagano & True  & 1984 & gravity           & gravity     & gravity     & vwc              & user-group & pay when scheme fails & on failure & soft            & good  & dry          & dry          & spring               & spring               & groundwater & communal standpipe          & communal standpipe & non functional         \\\\\n",
       "\t15 & 17 &   0 & 2013-03-28 & World Bank              & 1606 & DWE        & 36.62429 &  -3.27627358 & Seuli                        & 0 & Pangani                 & Seuli           & Arusha        &  2 &  2 & Arusha Rural    & Oltrumet         &  200 & True  & GeoData Consultants Ltd & VWC              & Mlimani pipe line         & True  & 2010 & gravity           & gravity     & gravity     & vwc              & user-group & never pay             & never pay  & soft            & good  & enough       & enough       & spring               & spring               & groundwater & communal standpipe          & communal standpipe & functional             \\\\\n",
       "\t16 & 18 &   0 & 2011-03-13 & Water                   &    0 & Commu      & 36.52430 &  -6.18081796 & Kwa Majele                   & 0 & Wami / Ruvu             &                 & Dodoma        &  1 &  3 & Kongwa          & Ugogoni          &    0 & True  & GeoData Consultants Ltd & VWC              & Msin                      & False &    0 & mono              & mono        & motorpump   & vwc              & user-group & pay per bucket        & per bucket & salty           & salty & enough       & enough       & machine dbh          & borehole             & groundwater & communal standpipe multiple & communal standpipe & functional             \\\\\n",
       "\t17 & 19 &  50 & 2013-02-23 & Amref                   &  226 & Amref      & 39.73442 & -10.56919171 & Kwa Ally Likomba             & 0 & Ruvuma / Southern Coast & Mwenge          & Mtwara        & 99 &  1 & Mtwara Rural    & Njengwa          &  450 & True  & GeoData Consultants Ltd & VWC              & Nang'awanga water supply  & True  & 2012 & mono              & mono        & motorpump   & vwc              & user-group & pay per bucket        & per bucket & soft            & good  & enough       & enough       & machine dbh          & borehole             & groundwater & communal standpipe multiple & communal standpipe & functional             \\\\\n",
       "\t18 & 20 & 250 & 2013-02-09 & Oxfam                   & 1257 & OXFAM      & 29.90178 &  -4.54070514 & Ccm                          & 0 & Lake Tanganyika         & Gwandamula      & Kigoma        & 16 &  2 & Kasulu          & Janda            &  340 & True  & GeoData Consultants Ltd & Water authority  & Mwangwe                   & True  & 1999 & gravity           & gravity     & gravity     & water board      & user-group & pay monthly           & monthly    & soft            & good  & enough       & enough       & river                & river/lake           & surface     & communal standpipe multiple & communal standpipe & functional needs repair\\\\\n",
       "\t19 & 21 &   0 & 2011-03-22 & Government Of Tanzania  &    0 & GOVER      & 36.24521 &  -6.01976068 & Salum Sady                   & 0 & Wami / Ruvu             & Manzilanzi A    & Dodoma        &  1 &  4 & Chamwino        & Majeleko         &    0 & True  & GeoData Consultants Ltd & VWC              & Manz                      & True  &    0 & mono              & mono        & motorpump   & vwc              & user-group & unknown               & unknown    & soft            & good  & dry          & dry          & machine dbh          & borehole             & groundwater & communal standpipe multiple & communal standpipe & non functional         \\\\\n",
       "\t20 & 22 &  50 & 2013-03-16 &                         &   76 &            & 39.08618 &  -6.98584173 & Kwa Konde                    & 0 & Wami / Ruvu             & Mtaa Wa Tungini & Dar es Salaam &  7 &  2 & Ilala           & Chanika          &  250 &       & GeoData Consultants Ltd & Private operator &                           &       & 2010 & other             & other       & other       & private operator & commercial & pay per bucket        & per bucket & salty abandoned & salty & enough       & enough       & machine dbh          & borehole             & groundwater & communal standpipe          & communal standpipe & functional             \\\\\n",
       "\\end{tabular}\n"
      ],
      "text/markdown": [
       "\n",
       "A data.frame: 20 × 41\n",
       "\n",
       "| <!--/--> | id &lt;int&gt; | amount_tsh &lt;dbl&gt; | date_recorded &lt;fct&gt; | funder &lt;fct&gt; | gps_height &lt;int&gt; | installer &lt;fct&gt; | longitude &lt;dbl&gt; | latitude &lt;dbl&gt; | wpt_name &lt;fct&gt; | num_private &lt;int&gt; | basin &lt;fct&gt; | subvillage &lt;fct&gt; | region &lt;fct&gt; | region_code &lt;int&gt; | district_code &lt;int&gt; | lga &lt;fct&gt; | ward &lt;fct&gt; | population &lt;int&gt; | public_meeting &lt;fct&gt; | recorded_by &lt;fct&gt; | scheme_management &lt;fct&gt; | scheme_name &lt;fct&gt; | permit &lt;fct&gt; | construction_year &lt;int&gt; | extraction_type &lt;fct&gt; | extraction_type_group &lt;fct&gt; | extraction_type_class &lt;fct&gt; | management &lt;fct&gt; | management_group &lt;fct&gt; | payment &lt;fct&gt; | payment_type &lt;fct&gt; | water_quality &lt;fct&gt; | quality_group &lt;fct&gt; | quantity &lt;fct&gt; | quantity_group &lt;fct&gt; | source &lt;fct&gt; | source_type &lt;fct&gt; | source_class &lt;fct&gt; | waterpoint_type &lt;fct&gt; | waterpoint_type_group &lt;fct&gt; | status_group &lt;fct&gt; |\n",
       "|---|---|---|---|---|---|---|---|---|---|---|---|---|---|---|---|---|---|---|---|---|---|---|---|---|---|---|---|---|---|---|---|---|---|---|---|---|---|---|---|---|---|\n",
       "| 1 |  0 |   0 | 2012-11-13 | Tasaf                   |    0 | TASAF      | 33.12583 |  -5.11815407 | Mratibu                      | 0 | Lake Tanganyika         | Majengo         | Tabora        | 14 |  3 | Uyui            | Igalula          |    0 | <!----> | GeoData Consultants Ltd | VWC              | <!----> | True  |    0 | afridev           | afridev     | handpump    | vwc              | user-group | unknown               | unknown    | milky           | milky | enough       | enough       | shallow well         | shallow well         | groundwater | hand pump                   | hand pump          | non functional          |\n",
       "| 2 |  1 |   0 | 2011-03-05 | Shipo                   | 1978 | SHIPO      | 34.77072 |  -9.39564152 | none                         | 0 | Rufiji                  | Magoda C        | Iringa        | 11 |  4 | Njombe          | Uwemba           |   20 | True  | GeoData Consultants Ltd | <!----> | <!----> | False | 2008 | other - rope pump | rope pump   | rope pump   | vwc              | user-group | never pay             | never pay  | soft            | good  | enough       | enough       | shallow well         | shallow well         | groundwater | hand pump                   | hand pump          | functional              |\n",
       "| 3 |  2 |   0 | 2011-03-27 | Lvia                    |    0 | LVIA       | 36.11506 |  -6.27926803 | Bombani                      | 0 | Wami / Ruvu             | Songambele      | Dodoma        |  1 |  4 | Chamwino        | Msamalo          |    0 | True  | GeoData Consultants Ltd | VWC              | Mgun                      | True  |    0 | mono              | mono        | motorpump   | vwc              | user-group | pay per bucket        | per bucket | soft            | good  | insufficient | insufficient | machine dbh          | borehole             | groundwater | communal standpipe multiple | communal standpipe | functional              |\n",
       "| 4 |  3 |  10 | 2013-06-03 | Germany Republi         | 1639 | CES        | 37.14743 |  -3.18755455 | Area 7 Namba 5               | 0 | Pangani                 | Urereni         | Kilimanjaro   |  3 |  5 | Hai             | Masama Magharibi |   25 | True  | GeoData Consultants Ltd | Water Board      | Losaa-Kia water supply    | True  | 1999 | gravity           | gravity     | gravity     | water board      | user-group | pay per bucket        | per bucket | soft            | good  | enough       | enough       | spring               | spring               | groundwater | communal standpipe          | communal standpipe | functional              |\n",
       "| 5 |  4 |   0 | 2011-03-22 | Cmsr                    |    0 | CMSR       | 36.16489 |  -6.09928949 | Ezeleda                      | 0 | Wami / Ruvu             | Maata A         | Dodoma        |  1 |  4 | Chamwino        | Majeleko         |    0 | True  | GeoData Consultants Ltd | VWC              | <!----> | True  |    0 | nira/tanira       | nira/tanira | handpump    | vwc              | user-group | unknown               | unknown    | soft            | good  | dry          | dry          | shallow well         | shallow well         | groundwater | hand pump                   | hand pump          | non functional          |\n",
       "| 6 |  5 |  50 | 2011-02-26 | Private                 |   28 | Private    | 39.28612 |  -6.97240273 | Kwa Namaj                    | 0 | Wami / Ruvu             | Mwandege        | Pwani         | 60 | 43 | Mkuranga        | Vikindu          | 6922 | True  | GeoData Consultants Ltd | Private operator | <!----> | False |    0 | submersible       | submersible | submersible | private operator | commercial | pay per bucket        | per bucket | soft            | good  | enough       | enough       | machine dbh          | borehole             | groundwater | communal standpipe multiple | communal standpipe | functional              |\n",
       "| 7 |  6 |   0 | 2012-10-20 | Government Of Tanzania  |    0 | Government | 33.22988 |  -3.85298271 | Mission                      | 0 | Internal                | Ngaganulwa      | Shinyanga     | 17 |  3 | Shinyanga Rural | Usanda           |    0 | True  | GeoData Consultants Ltd | VWC              | <!----> | True  |    0 | other             | other       | other       | vwc              | user-group | never pay             | never pay  | soft            | good  | seasonal     | seasonal     | shallow well         | shallow well         | groundwater | other                       | other              | non functional          |\n",
       "| 8 |  7 |   0 | 2011-03-23 | Water                   |    0 | Gover      | 36.31362 |  -6.71925716 | Itawi                        | 0 | Rufiji                  | Mwangaza        | Dodoma        |  1 |  1 | Mpwapwa         | Wotta            |    0 | True  | GeoData Consultants Ltd | VWC              | Lwih                      | True  |    0 | other             | other       | other       | vwc              | user-group | never pay             | never pay  | milky           | milky | insufficient | insufficient | spring               | spring               | groundwater | improved spring             | improved spring    | functional              |\n",
       "| 9 |  8 |   0 | 2011-04-07 | Water                   |    0 | Commu      | 35.93944 |  -6.01435820 | Kwa Chiswagala               | 0 | Wami / Ruvu             | Mazengo         | Dodoma        |  1 |  5 | Dodoma Urban    | Ipala            |    0 | True  | GeoData Consultants Ltd | VWC              | Ipal                      | False |    0 | mono              | mono        | motorpump   | private operator | commercial | pay per bucket        | per bucket | soft            | good  | dry          | dry          | machine dbh          | borehole             | groundwater | communal standpipe multiple | communal standpipe | non functional          |\n",
       "| 10 |  9 |   0 | 2011-07-12 | Ded                     |    0 | DED        | 31.69337 |  -2.53070326 | Shule Ya Msingi Nyamirembe A | 0 | Lake Victoria           | Miembeni        | Kagera        | 18 |  8 | Chato           | Nyamirembe       |    0 | True  | GeoData Consultants Ltd | VWC              | Mapinduzi                 | True  |    0 | mono              | mono        | motorpump   | vwc              | user-group | never pay             | never pay  | soft            | good  | insufficient | insufficient | machine dbh          | borehole             | groundwater | communal standpipe multiple | communal standpipe | non functional          |\n",
       "| 11 | 11 |  30 | 2011-03-09 | Kwa Makala              |   64 | Makala     | 38.66364 |  -5.80574551 | Kwa Makala                   | 0 | Pangani                 | Sokoni          | Tanga         |  4 |  5 | Pangani         | Mkalamo          |  150 | False | GeoData Consultants Ltd | Private operator | Mkalamo water supply      | False | 2007 | submersible       | submersible | submersible | private operator | commercial | pay per bucket        | per bucket | salty           | salty | insufficient | insufficient | machine dbh          | borehole             | groundwater | communal standpipe          | communal standpipe | non functional          |\n",
       "| 12 | 12 |   0 | 2013-03-14 | World Bank              | 1332 | World bank | 36.75623 |  -3.37377239 | Moivaro Primary School       | 0 | Pangani                 | Moivaro         | Arusha        |  2 |  7 | Meru            | Nkoanrua         |  350 | True  | GeoData Consultants Ltd | WUA              | <!----> | False | 2010 | gravity           | gravity     | gravity     | wua              | user-group | unknown               | unknown    | soft            | good  | insufficient | insufficient | rainwater harvesting | rainwater harvesting | surface     | communal standpipe          | communal standpipe | non functional          |\n",
       "| 13 | 15 |   0 | 2012-11-06 | Hesawa                  |    0 | DWE        |  0.00000 |  -0.00000002 | Kwamazoa                     | 0 | Lake Victoria           | Madukani        | Mwanza        | 19 |  2 | Magu            | Igalukilo        |    0 | True  | GeoData Consultants Ltd | <!----> | <!----> | True  |    0 | other             | other       | other       | vwc              | user-group | never pay             | never pay  | soft            | good  | seasonal     | seasonal     | shallow well         | shallow well         | groundwater | other                       | other              | non functional          |\n",
       "| 14 | 16 |   0 | 2013-02-03 | Songea District Council | 1014 | DWE        | 35.33371 | -10.46963842 | Kwa Feristasi                | 0 | Lake Nyasa              | Amka Twende     | Ruvuma        | 10 |  2 | Songea Rural    | Kilagano         |    0 | True  | GeoData Consultants Ltd | VWC              | Mradi wa maji wa kilagano | True  | 1984 | gravity           | gravity     | gravity     | vwc              | user-group | pay when scheme fails | on failure | soft            | good  | dry          | dry          | spring               | spring               | groundwater | communal standpipe          | communal standpipe | non functional          |\n",
       "| 15 | 17 |   0 | 2013-03-28 | World Bank              | 1606 | DWE        | 36.62429 |  -3.27627358 | Seuli                        | 0 | Pangani                 | Seuli           | Arusha        |  2 |  2 | Arusha Rural    | Oltrumet         |  200 | True  | GeoData Consultants Ltd | VWC              | Mlimani pipe line         | True  | 2010 | gravity           | gravity     | gravity     | vwc              | user-group | never pay             | never pay  | soft            | good  | enough       | enough       | spring               | spring               | groundwater | communal standpipe          | communal standpipe | functional              |\n",
       "| 16 | 18 |   0 | 2011-03-13 | Water                   |    0 | Commu      | 36.52430 |  -6.18081796 | Kwa Majele                   | 0 | Wami / Ruvu             | <!----> | Dodoma        |  1 |  3 | Kongwa          | Ugogoni          |    0 | True  | GeoData Consultants Ltd | VWC              | Msin                      | False |    0 | mono              | mono        | motorpump   | vwc              | user-group | pay per bucket        | per bucket | salty           | salty | enough       | enough       | machine dbh          | borehole             | groundwater | communal standpipe multiple | communal standpipe | functional              |\n",
       "| 17 | 19 |  50 | 2013-02-23 | Amref                   |  226 | Amref      | 39.73442 | -10.56919171 | Kwa Ally Likomba             | 0 | Ruvuma / Southern Coast | Mwenge          | Mtwara        | 99 |  1 | Mtwara Rural    | Njengwa          |  450 | True  | GeoData Consultants Ltd | VWC              | Nang'awanga water supply  | True  | 2012 | mono              | mono        | motorpump   | vwc              | user-group | pay per bucket        | per bucket | soft            | good  | enough       | enough       | machine dbh          | borehole             | groundwater | communal standpipe multiple | communal standpipe | functional              |\n",
       "| 18 | 20 | 250 | 2013-02-09 | Oxfam                   | 1257 | OXFAM      | 29.90178 |  -4.54070514 | Ccm                          | 0 | Lake Tanganyika         | Gwandamula      | Kigoma        | 16 |  2 | Kasulu          | Janda            |  340 | True  | GeoData Consultants Ltd | Water authority  | Mwangwe                   | True  | 1999 | gravity           | gravity     | gravity     | water board      | user-group | pay monthly           | monthly    | soft            | good  | enough       | enough       | river                | river/lake           | surface     | communal standpipe multiple | communal standpipe | functional needs repair |\n",
       "| 19 | 21 |   0 | 2011-03-22 | Government Of Tanzania  |    0 | GOVER      | 36.24521 |  -6.01976068 | Salum Sady                   | 0 | Wami / Ruvu             | Manzilanzi A    | Dodoma        |  1 |  4 | Chamwino        | Majeleko         |    0 | True  | GeoData Consultants Ltd | VWC              | Manz                      | True  |    0 | mono              | mono        | motorpump   | vwc              | user-group | unknown               | unknown    | soft            | good  | dry          | dry          | machine dbh          | borehole             | groundwater | communal standpipe multiple | communal standpipe | non functional          |\n",
       "| 20 | 22 |  50 | 2013-03-16 | <!----> |   76 | <!----> | 39.08618 |  -6.98584173 | Kwa Konde                    | 0 | Wami / Ruvu             | Mtaa Wa Tungini | Dar es Salaam |  7 |  2 | Ilala           | Chanika          |  250 | <!----> | GeoData Consultants Ltd | Private operator | <!----> | <!----> | 2010 | other             | other       | other       | private operator | commercial | pay per bucket        | per bucket | salty abandoned | salty | enough       | enough       | machine dbh          | borehole             | groundwater | communal standpipe          | communal standpipe | functional              |\n",
       "\n"
      ],
      "text/plain": [
       "   id amount_tsh date_recorded funder                  gps_height installer \n",
       "1   0   0        2012-11-13    Tasaf                      0       TASAF     \n",
       "2   1   0        2011-03-05    Shipo                   1978       SHIPO     \n",
       "3   2   0        2011-03-27    Lvia                       0       LVIA      \n",
       "4   3  10        2013-06-03    Germany Republi         1639       CES       \n",
       "5   4   0        2011-03-22    Cmsr                       0       CMSR      \n",
       "6   5  50        2011-02-26    Private                   28       Private   \n",
       "7   6   0        2012-10-20    Government Of Tanzania     0       Government\n",
       "8   7   0        2011-03-23    Water                      0       Gover     \n",
       "9   8   0        2011-04-07    Water                      0       Commu     \n",
       "10  9   0        2011-07-12    Ded                        0       DED       \n",
       "11 11  30        2011-03-09    Kwa Makala                64       Makala    \n",
       "12 12   0        2013-03-14    World Bank              1332       World bank\n",
       "13 15   0        2012-11-06    Hesawa                     0       DWE       \n",
       "14 16   0        2013-02-03    Songea District Council 1014       DWE       \n",
       "15 17   0        2013-03-28    World Bank              1606       DWE       \n",
       "16 18   0        2011-03-13    Water                      0       Commu     \n",
       "17 19  50        2013-02-23    Amref                    226       Amref     \n",
       "18 20 250        2013-02-09    Oxfam                   1257       OXFAM     \n",
       "19 21   0        2011-03-22    Government Of Tanzania     0       GOVER     \n",
       "20 22  50        2013-03-16                              76                 \n",
       "   longitude latitude     wpt_name                     num_private\n",
       "1  33.12583   -5.11815407 Mratibu                      0          \n",
       "2  34.77072   -9.39564152 none                         0          \n",
       "3  36.11506   -6.27926803 Bombani                      0          \n",
       "4  37.14743   -3.18755455 Area 7 Namba 5               0          \n",
       "5  36.16489   -6.09928949 Ezeleda                      0          \n",
       "6  39.28612   -6.97240273 Kwa Namaj                    0          \n",
       "7  33.22988   -3.85298271 Mission                      0          \n",
       "8  36.31362   -6.71925716 Itawi                        0          \n",
       "9  35.93944   -6.01435820 Kwa Chiswagala               0          \n",
       "10 31.69337   -2.53070326 Shule Ya Msingi Nyamirembe A 0          \n",
       "11 38.66364   -5.80574551 Kwa Makala                   0          \n",
       "12 36.75623   -3.37377239 Moivaro Primary School       0          \n",
       "13  0.00000   -0.00000002 Kwamazoa                     0          \n",
       "14 35.33371  -10.46963842 Kwa Feristasi                0          \n",
       "15 36.62429   -3.27627358 Seuli                        0          \n",
       "16 36.52430   -6.18081796 Kwa Majele                   0          \n",
       "17 39.73442  -10.56919171 Kwa Ally Likomba             0          \n",
       "18 29.90178   -4.54070514 Ccm                          0          \n",
       "19 36.24521   -6.01976068 Salum Sady                   0          \n",
       "20 39.08618   -6.98584173 Kwa Konde                    0          \n",
       "   basin                   subvillage      region        region_code\n",
       "1  Lake Tanganyika         Majengo         Tabora        14         \n",
       "2  Rufiji                  Magoda C        Iringa        11         \n",
       "3  Wami / Ruvu             Songambele      Dodoma         1         \n",
       "4  Pangani                 Urereni         Kilimanjaro    3         \n",
       "5  Wami / Ruvu             Maata A         Dodoma         1         \n",
       "6  Wami / Ruvu             Mwandege        Pwani         60         \n",
       "7  Internal                Ngaganulwa      Shinyanga     17         \n",
       "8  Rufiji                  Mwangaza        Dodoma         1         \n",
       "9  Wami / Ruvu             Mazengo         Dodoma         1         \n",
       "10 Lake Victoria           Miembeni        Kagera        18         \n",
       "11 Pangani                 Sokoni          Tanga          4         \n",
       "12 Pangani                 Moivaro         Arusha         2         \n",
       "13 Lake Victoria           Madukani        Mwanza        19         \n",
       "14 Lake Nyasa              Amka Twende     Ruvuma        10         \n",
       "15 Pangani                 Seuli           Arusha         2         \n",
       "16 Wami / Ruvu                             Dodoma         1         \n",
       "17 Ruvuma / Southern Coast Mwenge          Mtwara        99         \n",
       "18 Lake Tanganyika         Gwandamula      Kigoma        16         \n",
       "19 Wami / Ruvu             Manzilanzi A    Dodoma         1         \n",
       "20 Wami / Ruvu             Mtaa Wa Tungini Dar es Salaam  7         \n",
       "   district_code lga             ward             population public_meeting\n",
       "1   3            Uyui            Igalula             0                     \n",
       "2   4            Njombe          Uwemba             20       True          \n",
       "3   4            Chamwino        Msamalo             0       True          \n",
       "4   5            Hai             Masama Magharibi   25       True          \n",
       "5   4            Chamwino        Majeleko            0       True          \n",
       "6  43            Mkuranga        Vikindu          6922       True          \n",
       "7   3            Shinyanga Rural Usanda              0       True          \n",
       "8   1            Mpwapwa         Wotta               0       True          \n",
       "9   5            Dodoma Urban    Ipala               0       True          \n",
       "10  8            Chato           Nyamirembe          0       True          \n",
       "11  5            Pangani         Mkalamo           150       False         \n",
       "12  7            Meru            Nkoanrua          350       True          \n",
       "13  2            Magu            Igalukilo           0       True          \n",
       "14  2            Songea Rural    Kilagano            0       True          \n",
       "15  2            Arusha Rural    Oltrumet          200       True          \n",
       "16  3            Kongwa          Ugogoni             0       True          \n",
       "17  1            Mtwara Rural    Njengwa           450       True          \n",
       "18  2            Kasulu          Janda             340       True          \n",
       "19  4            Chamwino        Majeleko            0       True          \n",
       "20  2            Ilala           Chanika           250                     \n",
       "   recorded_by             scheme_management scheme_name               permit\n",
       "1  GeoData Consultants Ltd VWC                                         True  \n",
       "2  GeoData Consultants Ltd                                             False \n",
       "3  GeoData Consultants Ltd VWC               Mgun                      True  \n",
       "4  GeoData Consultants Ltd Water Board       Losaa-Kia water supply    True  \n",
       "5  GeoData Consultants Ltd VWC                                         True  \n",
       "6  GeoData Consultants Ltd Private operator                            False \n",
       "7  GeoData Consultants Ltd VWC                                         True  \n",
       "8  GeoData Consultants Ltd VWC               Lwih                      True  \n",
       "9  GeoData Consultants Ltd VWC               Ipal                      False \n",
       "10 GeoData Consultants Ltd VWC               Mapinduzi                 True  \n",
       "11 GeoData Consultants Ltd Private operator  Mkalamo water supply      False \n",
       "12 GeoData Consultants Ltd WUA                                         False \n",
       "13 GeoData Consultants Ltd                                             True  \n",
       "14 GeoData Consultants Ltd VWC               Mradi wa maji wa kilagano True  \n",
       "15 GeoData Consultants Ltd VWC               Mlimani pipe line         True  \n",
       "16 GeoData Consultants Ltd VWC               Msin                      False \n",
       "17 GeoData Consultants Ltd VWC               Nang'awanga water supply  True  \n",
       "18 GeoData Consultants Ltd Water authority   Mwangwe                   True  \n",
       "19 GeoData Consultants Ltd VWC               Manz                      True  \n",
       "20 GeoData Consultants Ltd Private operator                                  \n",
       "   construction_year extraction_type   extraction_type_group\n",
       "1     0              afridev           afridev              \n",
       "2  2008              other - rope pump rope pump            \n",
       "3     0              mono              mono                 \n",
       "4  1999              gravity           gravity              \n",
       "5     0              nira/tanira       nira/tanira          \n",
       "6     0              submersible       submersible          \n",
       "7     0              other             other                \n",
       "8     0              other             other                \n",
       "9     0              mono              mono                 \n",
       "10    0              mono              mono                 \n",
       "11 2007              submersible       submersible          \n",
       "12 2010              gravity           gravity              \n",
       "13    0              other             other                \n",
       "14 1984              gravity           gravity              \n",
       "15 2010              gravity           gravity              \n",
       "16    0              mono              mono                 \n",
       "17 2012              mono              mono                 \n",
       "18 1999              gravity           gravity              \n",
       "19    0              mono              mono                 \n",
       "20 2010              other             other                \n",
       "   extraction_type_class management       management_group\n",
       "1  handpump              vwc              user-group      \n",
       "2  rope pump             vwc              user-group      \n",
       "3  motorpump             vwc              user-group      \n",
       "4  gravity               water board      user-group      \n",
       "5  handpump              vwc              user-group      \n",
       "6  submersible           private operator commercial      \n",
       "7  other                 vwc              user-group      \n",
       "8  other                 vwc              user-group      \n",
       "9  motorpump             private operator commercial      \n",
       "10 motorpump             vwc              user-group      \n",
       "11 submersible           private operator commercial      \n",
       "12 gravity               wua              user-group      \n",
       "13 other                 vwc              user-group      \n",
       "14 gravity               vwc              user-group      \n",
       "15 gravity               vwc              user-group      \n",
       "16 motorpump             vwc              user-group      \n",
       "17 motorpump             vwc              user-group      \n",
       "18 gravity               water board      user-group      \n",
       "19 motorpump             vwc              user-group      \n",
       "20 other                 private operator commercial      \n",
       "   payment               payment_type water_quality   quality_group\n",
       "1  unknown               unknown      milky           milky        \n",
       "2  never pay             never pay    soft            good         \n",
       "3  pay per bucket        per bucket   soft            good         \n",
       "4  pay per bucket        per bucket   soft            good         \n",
       "5  unknown               unknown      soft            good         \n",
       "6  pay per bucket        per bucket   soft            good         \n",
       "7  never pay             never pay    soft            good         \n",
       "8  never pay             never pay    milky           milky        \n",
       "9  pay per bucket        per bucket   soft            good         \n",
       "10 never pay             never pay    soft            good         \n",
       "11 pay per bucket        per bucket   salty           salty        \n",
       "12 unknown               unknown      soft            good         \n",
       "13 never pay             never pay    soft            good         \n",
       "14 pay when scheme fails on failure   soft            good         \n",
       "15 never pay             never pay    soft            good         \n",
       "16 pay per bucket        per bucket   salty           salty        \n",
       "17 pay per bucket        per bucket   soft            good         \n",
       "18 pay monthly           monthly      soft            good         \n",
       "19 unknown               unknown      soft            good         \n",
       "20 pay per bucket        per bucket   salty abandoned salty        \n",
       "   quantity     quantity_group source               source_type         \n",
       "1  enough       enough         shallow well         shallow well        \n",
       "2  enough       enough         shallow well         shallow well        \n",
       "3  insufficient insufficient   machine dbh          borehole            \n",
       "4  enough       enough         spring               spring              \n",
       "5  dry          dry            shallow well         shallow well        \n",
       "6  enough       enough         machine dbh          borehole            \n",
       "7  seasonal     seasonal       shallow well         shallow well        \n",
       "8  insufficient insufficient   spring               spring              \n",
       "9  dry          dry            machine dbh          borehole            \n",
       "10 insufficient insufficient   machine dbh          borehole            \n",
       "11 insufficient insufficient   machine dbh          borehole            \n",
       "12 insufficient insufficient   rainwater harvesting rainwater harvesting\n",
       "13 seasonal     seasonal       shallow well         shallow well        \n",
       "14 dry          dry            spring               spring              \n",
       "15 enough       enough         spring               spring              \n",
       "16 enough       enough         machine dbh          borehole            \n",
       "17 enough       enough         machine dbh          borehole            \n",
       "18 enough       enough         river                river/lake          \n",
       "19 dry          dry            machine dbh          borehole            \n",
       "20 enough       enough         machine dbh          borehole            \n",
       "   source_class waterpoint_type             waterpoint_type_group\n",
       "1  groundwater  hand pump                   hand pump            \n",
       "2  groundwater  hand pump                   hand pump            \n",
       "3  groundwater  communal standpipe multiple communal standpipe   \n",
       "4  groundwater  communal standpipe          communal standpipe   \n",
       "5  groundwater  hand pump                   hand pump            \n",
       "6  groundwater  communal standpipe multiple communal standpipe   \n",
       "7  groundwater  other                       other                \n",
       "8  groundwater  improved spring             improved spring      \n",
       "9  groundwater  communal standpipe multiple communal standpipe   \n",
       "10 groundwater  communal standpipe multiple communal standpipe   \n",
       "11 groundwater  communal standpipe          communal standpipe   \n",
       "12 surface      communal standpipe          communal standpipe   \n",
       "13 groundwater  other                       other                \n",
       "14 groundwater  communal standpipe          communal standpipe   \n",
       "15 groundwater  communal standpipe          communal standpipe   \n",
       "16 groundwater  communal standpipe multiple communal standpipe   \n",
       "17 groundwater  communal standpipe multiple communal standpipe   \n",
       "18 surface      communal standpipe multiple communal standpipe   \n",
       "19 groundwater  communal standpipe multiple communal standpipe   \n",
       "20 groundwater  communal standpipe          communal standpipe   \n",
       "   status_group           \n",
       "1  non functional         \n",
       "2  functional             \n",
       "3  functional             \n",
       "4  functional             \n",
       "5  non functional         \n",
       "6  functional             \n",
       "7  non functional         \n",
       "8  functional             \n",
       "9  non functional         \n",
       "10 non functional         \n",
       "11 non functional         \n",
       "12 non functional         \n",
       "13 non functional         \n",
       "14 non functional         \n",
       "15 functional             \n",
       "16 functional             \n",
       "17 functional             \n",
       "18 functional needs repair\n",
       "19 non functional         \n",
       "20 functional             "
      ]
     },
     "metadata": {},
     "output_type": "display_data"
    }
   ],
   "source": [
    "options(repr.matrix.max.cols=50)\n",
    "head(eval_data,20)\n",
    "head(data,20)"
   ]
  },
  {
   "cell_type": "markdown",
   "metadata": {},
   "source": [
    "The graphical representation of the regions after the k-means clustering is shown below."
   ]
  },
  {
   "cell_type": "code",
   "execution_count": 416,
   "metadata": {},
   "outputs": [],
   "source": [
    "coordinates <- as.data.frame(cbind(demo_data$longitude,demo_data$latitude))\n",
    "km_res <- kmeans(coordinates,20)\n",
    "demo_data <- subset(demo_data,select=-c(longitude,latitude))\n",
    "demo_data$region_kmeans <- km_res$cluster"
   ]
  },
  {
   "cell_type": "code",
   "execution_count": null,
   "metadata": {},
   "outputs": [],
   "source": [
    "fviz_cluster(km_res,coordinates)"
   ]
  },
  {
   "cell_type": "markdown",
   "metadata": {},
   "source": [
    "Therefore, we can now remove the longitude and latitude features from the dataset and replace them with a new feature called $region$, representing the cluster in which the pump is located."
   ]
  },
  {
   "cell_type": "code",
   "execution_count": 82,
   "metadata": {},
   "outputs": [
    {
     "data": {
      "text/html": [
       "<table class=\"dataframe\">\n",
       "<caption>A data.frame: 6 × 41</caption>\n",
       "<thead>\n",
       "\t<tr><th></th><th scope=col>id</th><th scope=col>amount_tsh</th><th scope=col>date_recorded</th><th scope=col>funder</th><th scope=col>gps_height</th><th scope=col>installer</th><th scope=col>longitude</th><th scope=col>latitude</th><th scope=col>wpt_name</th><th scope=col>num_private</th><th scope=col>basin</th><th scope=col>subvillage</th><th scope=col>region</th><th scope=col>region_code</th><th scope=col>district_code</th><th scope=col>lga</th><th scope=col>ward</th><th scope=col>population</th><th scope=col>public_meeting</th><th scope=col>recorded_by</th><th scope=col>scheme_management</th><th scope=col>scheme_name</th><th scope=col>permit</th><th scope=col>construction_year</th><th scope=col>extraction_type</th><th scope=col>extraction_type_group</th><th scope=col>extraction_type_class</th><th scope=col>management</th><th scope=col>management_group</th><th scope=col>payment</th><th scope=col>payment_type</th><th scope=col>water_quality</th><th scope=col>quality_group</th><th scope=col>quantity</th><th scope=col>quantity_group</th><th scope=col>source</th><th scope=col>source_type</th><th scope=col>source_class</th><th scope=col>waterpoint_type</th><th scope=col>waterpoint_type_group</th><th scope=col>status_group</th></tr>\n",
       "\t<tr><th></th><th scope=col>&lt;int&gt;</th><th scope=col>&lt;dbl&gt;</th><th scope=col>&lt;fct&gt;</th><th scope=col>&lt;fct&gt;</th><th scope=col>&lt;int&gt;</th><th scope=col>&lt;fct&gt;</th><th scope=col>&lt;dbl&gt;</th><th scope=col>&lt;dbl&gt;</th><th scope=col>&lt;fct&gt;</th><th scope=col>&lt;int&gt;</th><th scope=col>&lt;fct&gt;</th><th scope=col>&lt;fct&gt;</th><th scope=col>&lt;fct&gt;</th><th scope=col>&lt;int&gt;</th><th scope=col>&lt;int&gt;</th><th scope=col>&lt;fct&gt;</th><th scope=col>&lt;fct&gt;</th><th scope=col>&lt;int&gt;</th><th scope=col>&lt;fct&gt;</th><th scope=col>&lt;fct&gt;</th><th scope=col>&lt;fct&gt;</th><th scope=col>&lt;fct&gt;</th><th scope=col>&lt;fct&gt;</th><th scope=col>&lt;int&gt;</th><th scope=col>&lt;fct&gt;</th><th scope=col>&lt;fct&gt;</th><th scope=col>&lt;fct&gt;</th><th scope=col>&lt;fct&gt;</th><th scope=col>&lt;fct&gt;</th><th scope=col>&lt;fct&gt;</th><th scope=col>&lt;fct&gt;</th><th scope=col>&lt;fct&gt;</th><th scope=col>&lt;fct&gt;</th><th scope=col>&lt;fct&gt;</th><th scope=col>&lt;fct&gt;</th><th scope=col>&lt;fct&gt;</th><th scope=col>&lt;fct&gt;</th><th scope=col>&lt;fct&gt;</th><th scope=col>&lt;fct&gt;</th><th scope=col>&lt;fct&gt;</th><th scope=col>&lt;fct&gt;</th></tr>\n",
       "</thead>\n",
       "<tbody>\n",
       "\t<tr><th scope=row>1</th><td>0</td><td> 0</td><td>2012-11-13</td><td>Tasaf          </td><td>   0</td><td>TASAF  </td><td>33.12583</td><td>-5.118154</td><td>Mratibu       </td><td>0</td><td>Lake Tanganyika</td><td>Majengo   </td><td>Tabora     </td><td>14</td><td> 3</td><td>Uyui    </td><td>Igalula         </td><td>   0</td><td>    </td><td>GeoData Consultants Ltd</td><td>VWC             </td><td>                      </td><td>True </td><td>   0</td><td>afridev          </td><td>afridev    </td><td>handpump   </td><td>vwc             </td><td>user-group</td><td>unknown       </td><td>unknown   </td><td>milky</td><td>milky</td><td>enough      </td><td>enough      </td><td>shallow well</td><td>shallow well</td><td>groundwater</td><td>hand pump                  </td><td>hand pump         </td><td>non functional</td></tr>\n",
       "\t<tr><th scope=row>2</th><td>1</td><td> 0</td><td>2011-03-05</td><td>Shipo          </td><td>1978</td><td>SHIPO  </td><td>34.77072</td><td>-9.395642</td><td>none          </td><td>0</td><td>Rufiji         </td><td>Magoda C  </td><td>Iringa     </td><td>11</td><td> 4</td><td>Njombe  </td><td>Uwemba          </td><td>  20</td><td>True</td><td>GeoData Consultants Ltd</td><td>                </td><td>                      </td><td>False</td><td>2008</td><td>other - rope pump</td><td>rope pump  </td><td>rope pump  </td><td>vwc             </td><td>user-group</td><td>never pay     </td><td>never pay </td><td>soft </td><td>good </td><td>enough      </td><td>enough      </td><td>shallow well</td><td>shallow well</td><td>groundwater</td><td>hand pump                  </td><td>hand pump         </td><td>functional    </td></tr>\n",
       "\t<tr><th scope=row>3</th><td>2</td><td> 0</td><td>2011-03-27</td><td>Lvia           </td><td>   0</td><td>LVIA   </td><td>36.11506</td><td>-6.279268</td><td>Bombani       </td><td>0</td><td>Wami / Ruvu    </td><td>Songambele</td><td>Dodoma     </td><td> 1</td><td> 4</td><td>Chamwino</td><td>Msamalo         </td><td>   0</td><td>True</td><td>GeoData Consultants Ltd</td><td>VWC             </td><td>Mgun                  </td><td>True </td><td>   0</td><td>mono             </td><td>mono       </td><td>motorpump  </td><td>vwc             </td><td>user-group</td><td>pay per bucket</td><td>per bucket</td><td>soft </td><td>good </td><td>insufficient</td><td>insufficient</td><td>machine dbh </td><td>borehole    </td><td>groundwater</td><td>communal standpipe multiple</td><td>communal standpipe</td><td>functional    </td></tr>\n",
       "\t<tr><th scope=row>4</th><td>3</td><td>10</td><td>2013-06-03</td><td>Germany Republi</td><td>1639</td><td>CES    </td><td>37.14743</td><td>-3.187555</td><td>Area 7 Namba 5</td><td>0</td><td>Pangani        </td><td>Urereni   </td><td>Kilimanjaro</td><td> 3</td><td> 5</td><td>Hai     </td><td>Masama Magharibi</td><td>  25</td><td>True</td><td>GeoData Consultants Ltd</td><td>Water Board     </td><td>Losaa-Kia water supply</td><td>True </td><td>1999</td><td>gravity          </td><td>gravity    </td><td>gravity    </td><td>water board     </td><td>user-group</td><td>pay per bucket</td><td>per bucket</td><td>soft </td><td>good </td><td>enough      </td><td>enough      </td><td>spring      </td><td>spring      </td><td>groundwater</td><td>communal standpipe         </td><td>communal standpipe</td><td>functional    </td></tr>\n",
       "\t<tr><th scope=row>5</th><td>4</td><td> 0</td><td>2011-03-22</td><td>Cmsr           </td><td>   0</td><td>CMSR   </td><td>36.16489</td><td>-6.099289</td><td>Ezeleda       </td><td>0</td><td>Wami / Ruvu    </td><td>Maata A   </td><td>Dodoma     </td><td> 1</td><td> 4</td><td>Chamwino</td><td>Majeleko        </td><td>   0</td><td>True</td><td>GeoData Consultants Ltd</td><td>VWC             </td><td>                      </td><td>True </td><td>   0</td><td>nira/tanira      </td><td>nira/tanira</td><td>handpump   </td><td>vwc             </td><td>user-group</td><td>unknown       </td><td>unknown   </td><td>soft </td><td>good </td><td>dry         </td><td>dry         </td><td>shallow well</td><td>shallow well</td><td>groundwater</td><td>hand pump                  </td><td>hand pump         </td><td>non functional</td></tr>\n",
       "\t<tr><th scope=row>6</th><td>5</td><td>50</td><td>2011-02-26</td><td>Private        </td><td>  28</td><td>Private</td><td>39.28612</td><td>-6.972403</td><td>Kwa Namaj     </td><td>0</td><td>Wami / Ruvu    </td><td>Mwandege  </td><td>Pwani      </td><td>60</td><td>43</td><td>Mkuranga</td><td>Vikindu         </td><td>6922</td><td>True</td><td>GeoData Consultants Ltd</td><td>Private operator</td><td>                      </td><td>False</td><td>   0</td><td>submersible      </td><td>submersible</td><td>submersible</td><td>private operator</td><td>commercial</td><td>pay per bucket</td><td>per bucket</td><td>soft </td><td>good </td><td>enough      </td><td>enough      </td><td>machine dbh </td><td>borehole    </td><td>groundwater</td><td>communal standpipe multiple</td><td>communal standpipe</td><td>functional    </td></tr>\n",
       "</tbody>\n",
       "</table>\n"
      ],
      "text/latex": [
       "A data.frame: 6 × 41\n",
       "\\begin{tabular}{r|lllllllllllllllllllllllllllllllllllllllll}\n",
       "  & id & amount\\_tsh & date\\_recorded & funder & gps\\_height & installer & longitude & latitude & wpt\\_name & num\\_private & basin & subvillage & region & region\\_code & district\\_code & lga & ward & population & public\\_meeting & recorded\\_by & scheme\\_management & scheme\\_name & permit & construction\\_year & extraction\\_type & extraction\\_type\\_group & extraction\\_type\\_class & management & management\\_group & payment & payment\\_type & water\\_quality & quality\\_group & quantity & quantity\\_group & source & source\\_type & source\\_class & waterpoint\\_type & waterpoint\\_type\\_group & status\\_group\\\\\n",
       "  & <int> & <dbl> & <fct> & <fct> & <int> & <fct> & <dbl> & <dbl> & <fct> & <int> & <fct> & <fct> & <fct> & <int> & <int> & <fct> & <fct> & <int> & <fct> & <fct> & <fct> & <fct> & <fct> & <int> & <fct> & <fct> & <fct> & <fct> & <fct> & <fct> & <fct> & <fct> & <fct> & <fct> & <fct> & <fct> & <fct> & <fct> & <fct> & <fct> & <fct>\\\\\n",
       "\\hline\n",
       "\t1 & 0 &  0 & 2012-11-13 & Tasaf           &    0 & TASAF   & 33.12583 & -5.118154 & Mratibu        & 0 & Lake Tanganyika & Majengo    & Tabora      & 14 &  3 & Uyui     & Igalula          &    0 &      & GeoData Consultants Ltd & VWC              &                        & True  &    0 & afridev           & afridev     & handpump    & vwc              & user-group & unknown        & unknown    & milky & milky & enough       & enough       & shallow well & shallow well & groundwater & hand pump                   & hand pump          & non functional\\\\\n",
       "\t2 & 1 &  0 & 2011-03-05 & Shipo           & 1978 & SHIPO   & 34.77072 & -9.395642 & none           & 0 & Rufiji          & Magoda C   & Iringa      & 11 &  4 & Njombe   & Uwemba           &   20 & True & GeoData Consultants Ltd &                  &                        & False & 2008 & other - rope pump & rope pump   & rope pump   & vwc              & user-group & never pay      & never pay  & soft  & good  & enough       & enough       & shallow well & shallow well & groundwater & hand pump                   & hand pump          & functional    \\\\\n",
       "\t3 & 2 &  0 & 2011-03-27 & Lvia            &    0 & LVIA    & 36.11506 & -6.279268 & Bombani        & 0 & Wami / Ruvu     & Songambele & Dodoma      &  1 &  4 & Chamwino & Msamalo          &    0 & True & GeoData Consultants Ltd & VWC              & Mgun                   & True  &    0 & mono              & mono        & motorpump   & vwc              & user-group & pay per bucket & per bucket & soft  & good  & insufficient & insufficient & machine dbh  & borehole     & groundwater & communal standpipe multiple & communal standpipe & functional    \\\\\n",
       "\t4 & 3 & 10 & 2013-06-03 & Germany Republi & 1639 & CES     & 37.14743 & -3.187555 & Area 7 Namba 5 & 0 & Pangani         & Urereni    & Kilimanjaro &  3 &  5 & Hai      & Masama Magharibi &   25 & True & GeoData Consultants Ltd & Water Board      & Losaa-Kia water supply & True  & 1999 & gravity           & gravity     & gravity     & water board      & user-group & pay per bucket & per bucket & soft  & good  & enough       & enough       & spring       & spring       & groundwater & communal standpipe          & communal standpipe & functional    \\\\\n",
       "\t5 & 4 &  0 & 2011-03-22 & Cmsr            &    0 & CMSR    & 36.16489 & -6.099289 & Ezeleda        & 0 & Wami / Ruvu     & Maata A    & Dodoma      &  1 &  4 & Chamwino & Majeleko         &    0 & True & GeoData Consultants Ltd & VWC              &                        & True  &    0 & nira/tanira       & nira/tanira & handpump    & vwc              & user-group & unknown        & unknown    & soft  & good  & dry          & dry          & shallow well & shallow well & groundwater & hand pump                   & hand pump          & non functional\\\\\n",
       "\t6 & 5 & 50 & 2011-02-26 & Private         &   28 & Private & 39.28612 & -6.972403 & Kwa Namaj      & 0 & Wami / Ruvu     & Mwandege   & Pwani       & 60 & 43 & Mkuranga & Vikindu          & 6922 & True & GeoData Consultants Ltd & Private operator &                        & False &    0 & submersible       & submersible & submersible & private operator & commercial & pay per bucket & per bucket & soft  & good  & enough       & enough       & machine dbh  & borehole     & groundwater & communal standpipe multiple & communal standpipe & functional    \\\\\n",
       "\\end{tabular}\n"
      ],
      "text/markdown": [
       "\n",
       "A data.frame: 6 × 41\n",
       "\n",
       "| <!--/--> | id &lt;int&gt; | amount_tsh &lt;dbl&gt; | date_recorded &lt;fct&gt; | funder &lt;fct&gt; | gps_height &lt;int&gt; | installer &lt;fct&gt; | longitude &lt;dbl&gt; | latitude &lt;dbl&gt; | wpt_name &lt;fct&gt; | num_private &lt;int&gt; | basin &lt;fct&gt; | subvillage &lt;fct&gt; | region &lt;fct&gt; | region_code &lt;int&gt; | district_code &lt;int&gt; | lga &lt;fct&gt; | ward &lt;fct&gt; | population &lt;int&gt; | public_meeting &lt;fct&gt; | recorded_by &lt;fct&gt; | scheme_management &lt;fct&gt; | scheme_name &lt;fct&gt; | permit &lt;fct&gt; | construction_year &lt;int&gt; | extraction_type &lt;fct&gt; | extraction_type_group &lt;fct&gt; | extraction_type_class &lt;fct&gt; | management &lt;fct&gt; | management_group &lt;fct&gt; | payment &lt;fct&gt; | payment_type &lt;fct&gt; | water_quality &lt;fct&gt; | quality_group &lt;fct&gt; | quantity &lt;fct&gt; | quantity_group &lt;fct&gt; | source &lt;fct&gt; | source_type &lt;fct&gt; | source_class &lt;fct&gt; | waterpoint_type &lt;fct&gt; | waterpoint_type_group &lt;fct&gt; | status_group &lt;fct&gt; |\n",
       "|---|---|---|---|---|---|---|---|---|---|---|---|---|---|---|---|---|---|---|---|---|---|---|---|---|---|---|---|---|---|---|---|---|---|---|---|---|---|---|---|---|---|\n",
       "| 1 | 0 |  0 | 2012-11-13 | Tasaf           |    0 | TASAF   | 33.12583 | -5.118154 | Mratibu        | 0 | Lake Tanganyika | Majengo    | Tabora      | 14 |  3 | Uyui     | Igalula          |    0 | <!----> | GeoData Consultants Ltd | VWC              | <!----> | True  |    0 | afridev           | afridev     | handpump    | vwc              | user-group | unknown        | unknown    | milky | milky | enough       | enough       | shallow well | shallow well | groundwater | hand pump                   | hand pump          | non functional |\n",
       "| 2 | 1 |  0 | 2011-03-05 | Shipo           | 1978 | SHIPO   | 34.77072 | -9.395642 | none           | 0 | Rufiji          | Magoda C   | Iringa      | 11 |  4 | Njombe   | Uwemba           |   20 | True | GeoData Consultants Ltd | <!----> | <!----> | False | 2008 | other - rope pump | rope pump   | rope pump   | vwc              | user-group | never pay      | never pay  | soft  | good  | enough       | enough       | shallow well | shallow well | groundwater | hand pump                   | hand pump          | functional     |\n",
       "| 3 | 2 |  0 | 2011-03-27 | Lvia            |    0 | LVIA    | 36.11506 | -6.279268 | Bombani        | 0 | Wami / Ruvu     | Songambele | Dodoma      |  1 |  4 | Chamwino | Msamalo          |    0 | True | GeoData Consultants Ltd | VWC              | Mgun                   | True  |    0 | mono              | mono        | motorpump   | vwc              | user-group | pay per bucket | per bucket | soft  | good  | insufficient | insufficient | machine dbh  | borehole     | groundwater | communal standpipe multiple | communal standpipe | functional     |\n",
       "| 4 | 3 | 10 | 2013-06-03 | Germany Republi | 1639 | CES     | 37.14743 | -3.187555 | Area 7 Namba 5 | 0 | Pangani         | Urereni    | Kilimanjaro |  3 |  5 | Hai      | Masama Magharibi |   25 | True | GeoData Consultants Ltd | Water Board      | Losaa-Kia water supply | True  | 1999 | gravity           | gravity     | gravity     | water board      | user-group | pay per bucket | per bucket | soft  | good  | enough       | enough       | spring       | spring       | groundwater | communal standpipe          | communal standpipe | functional     |\n",
       "| 5 | 4 |  0 | 2011-03-22 | Cmsr            |    0 | CMSR    | 36.16489 | -6.099289 | Ezeleda        | 0 | Wami / Ruvu     | Maata A    | Dodoma      |  1 |  4 | Chamwino | Majeleko         |    0 | True | GeoData Consultants Ltd | VWC              | <!----> | True  |    0 | nira/tanira       | nira/tanira | handpump    | vwc              | user-group | unknown        | unknown    | soft  | good  | dry          | dry          | shallow well | shallow well | groundwater | hand pump                   | hand pump          | non functional |\n",
       "| 6 | 5 | 50 | 2011-02-26 | Private         |   28 | Private | 39.28612 | -6.972403 | Kwa Namaj      | 0 | Wami / Ruvu     | Mwandege   | Pwani       | 60 | 43 | Mkuranga | Vikindu          | 6922 | True | GeoData Consultants Ltd | Private operator | <!----> | False |    0 | submersible       | submersible | submersible | private operator | commercial | pay per bucket | per bucket | soft  | good  | enough       | enough       | machine dbh  | borehole     | groundwater | communal standpipe multiple | communal standpipe | functional     |\n",
       "\n"
      ],
      "text/plain": [
       "  id amount_tsh date_recorded funder          gps_height installer longitude\n",
       "1 0   0         2012-11-13    Tasaf              0       TASAF     33.12583 \n",
       "2 1   0         2011-03-05    Shipo           1978       SHIPO     34.77072 \n",
       "3 2   0         2011-03-27    Lvia               0       LVIA      36.11506 \n",
       "4 3  10         2013-06-03    Germany Republi 1639       CES       37.14743 \n",
       "5 4   0         2011-03-22    Cmsr               0       CMSR      36.16489 \n",
       "6 5  50         2011-02-26    Private           28       Private   39.28612 \n",
       "  latitude  wpt_name       num_private basin           subvillage region     \n",
       "1 -5.118154 Mratibu        0           Lake Tanganyika Majengo    Tabora     \n",
       "2 -9.395642 none           0           Rufiji          Magoda C   Iringa     \n",
       "3 -6.279268 Bombani        0           Wami / Ruvu     Songambele Dodoma     \n",
       "4 -3.187555 Area 7 Namba 5 0           Pangani         Urereni    Kilimanjaro\n",
       "5 -6.099289 Ezeleda        0           Wami / Ruvu     Maata A    Dodoma     \n",
       "6 -6.972403 Kwa Namaj      0           Wami / Ruvu     Mwandege   Pwani      \n",
       "  region_code district_code lga      ward             population public_meeting\n",
       "1 14           3            Uyui     Igalula             0                     \n",
       "2 11           4            Njombe   Uwemba             20       True          \n",
       "3  1           4            Chamwino Msamalo             0       True          \n",
       "4  3           5            Hai      Masama Magharibi   25       True          \n",
       "5  1           4            Chamwino Majeleko            0       True          \n",
       "6 60          43            Mkuranga Vikindu          6922       True          \n",
       "  recorded_by             scheme_management scheme_name            permit\n",
       "1 GeoData Consultants Ltd VWC                                      True  \n",
       "2 GeoData Consultants Ltd                                          False \n",
       "3 GeoData Consultants Ltd VWC               Mgun                   True  \n",
       "4 GeoData Consultants Ltd Water Board       Losaa-Kia water supply True  \n",
       "5 GeoData Consultants Ltd VWC                                      True  \n",
       "6 GeoData Consultants Ltd Private operator                         False \n",
       "  construction_year extraction_type   extraction_type_group\n",
       "1    0              afridev           afridev              \n",
       "2 2008              other - rope pump rope pump            \n",
       "3    0              mono              mono                 \n",
       "4 1999              gravity           gravity              \n",
       "5    0              nira/tanira       nira/tanira          \n",
       "6    0              submersible       submersible          \n",
       "  extraction_type_class management       management_group payment       \n",
       "1 handpump              vwc              user-group       unknown       \n",
       "2 rope pump             vwc              user-group       never pay     \n",
       "3 motorpump             vwc              user-group       pay per bucket\n",
       "4 gravity               water board      user-group       pay per bucket\n",
       "5 handpump              vwc              user-group       unknown       \n",
       "6 submersible           private operator commercial       pay per bucket\n",
       "  payment_type water_quality quality_group quantity     quantity_group\n",
       "1 unknown      milky         milky         enough       enough        \n",
       "2 never pay    soft          good          enough       enough        \n",
       "3 per bucket   soft          good          insufficient insufficient  \n",
       "4 per bucket   soft          good          enough       enough        \n",
       "5 unknown      soft          good          dry          dry           \n",
       "6 per bucket   soft          good          enough       enough        \n",
       "  source       source_type  source_class waterpoint_type            \n",
       "1 shallow well shallow well groundwater  hand pump                  \n",
       "2 shallow well shallow well groundwater  hand pump                  \n",
       "3 machine dbh  borehole     groundwater  communal standpipe multiple\n",
       "4 spring       spring       groundwater  communal standpipe         \n",
       "5 shallow well shallow well groundwater  hand pump                  \n",
       "6 machine dbh  borehole     groundwater  communal standpipe multiple\n",
       "  waterpoint_type_group status_group  \n",
       "1 hand pump             non functional\n",
       "2 hand pump             functional    \n",
       "3 communal standpipe    functional    \n",
       "4 communal standpipe    functional    \n",
       "5 hand pump             non functional\n",
       "6 communal standpipe    functional    "
      ]
     },
     "metadata": {},
     "output_type": "display_data"
    }
   ],
   "source": [
    "options(repr.matrix.max.cols=50)\n",
    "head(data)"
   ]
  },
  {
   "cell_type": "markdown",
   "metadata": {},
   "source": [
    "### Variables with too many levels"
   ]
  },
  {
   "cell_type": "markdown",
   "metadata": {},
   "source": [
    "Some categorical variables that have too many levels could be useless for the problem. Indeed, let us imagine if each sample has a different factor for a given feature, this would not bring any additional information. This is why we check what features have a huge amount of features below :"
   ]
  },
  {
   "cell_type": "code",
   "execution_count": 24,
   "metadata": {},
   "outputs": [
    {
     "name": "stdout",
     "output_type": "stream",
     "text": [
      "[1] \"funder\"\n",
      "[1] Tasaf\n",
      "1898 Levels:  0 A/co Germany Aar Abas Ka Abasia ... Zingibali Secondary\n",
      "[1] \"wpt_name\"\n",
      "[1] Mratibu\n",
      "37400 Levels: 24 A Kulwa A Saidi Abass Abbas Abdala Hamisi ... Zuwena Kindo\n",
      "[1] \"subvillage\"\n",
      "[1] Majengo\n",
      "19288 Levels:  'A' Kati ## 1 14Kambalage 18 19 20 22B 23B 24 24B 30 42 43 ... Zuri\n",
      "[1] \"ward\"\n",
      "[1] Igalula\n",
      "2092 Levels: Aghondi Akheri Arash Arri Arusha Chini Babayu Badi Badugu ... Zuzu\n",
      "[1] \"scheme_name\"\n",
      "[1] \n",
      "2697 Levels:  14 Kambarage A ADP ADP Simbo ADP Simbu Adra ... Zuzu\n"
     ]
    },
    {
     "data": {
      "text/html": [
       "<style>\n",
       ".list-inline {list-style: none; margin:0; padding: 0}\n",
       ".list-inline>li {display: inline-block}\n",
       ".list-inline>li:not(:last-child)::after {content: \"\\00b7\"; padding: 0 .5ex}\n",
       "</style>\n",
       "<ol class=list-inline><li>'funder'</li><li>'wpt_name'</li><li>'subvillage'</li><li>'ward'</li><li>'scheme_name'</li></ol>\n"
      ],
      "text/latex": [
       "\\begin{enumerate*}\n",
       "\\item 'funder'\n",
       "\\item 'wpt\\_name'\n",
       "\\item 'subvillage'\n",
       "\\item 'ward'\n",
       "\\item 'scheme\\_name'\n",
       "\\end{enumerate*}\n"
      ],
      "text/markdown": [
       "1. 'funder'\n",
       "2. 'wpt_name'\n",
       "3. 'subvillage'\n",
       "4. 'ward'\n",
       "5. 'scheme_name'\n",
       "\n",
       "\n"
      ],
      "text/plain": [
       "[1] \"funder\"      \"wpt_name\"    \"subvillage\"  \"ward\"        \"scheme_name\""
      ]
     },
     "metadata": {},
     "output_type": "display_data"
    }
   ],
   "source": [
    "categorical_variables <- which(sapply(data[1,],class)==\"factor\")\n",
    "\n",
    "problematic_features <- c()\n",
    "\n",
    "for (n in colnames(data[,categorical_variables])) {\n",
    "    l <- nlevels(data[,n])\n",
    "    if (l > 1000 & n != \"installer\") {\n",
    "        print(n)\n",
    "        problematic_features <- c(problematic_features,n)\n",
    "        print(data[1,n])\n",
    "    }\n",
    "}\n",
    "problematic_features"
   ]
  },
  {
   "cell_type": "markdown",
   "metadata": {},
   "source": [
    "For each one of these features, we check the distribution of the different categories."
   ]
  },
  {
   "cell_type": "code",
   "execution_count": 25,
   "metadata": {
    "scrolled": true
   },
   "outputs": [
    {
     "data": {
      "image/png": "[encoded data removed]",
      "text/plain": [
       "plot without title"
      ]
     },
     "metadata": {
      "image/png": {
       "height": 420,
       "width": 420
      }
     },
     "output_type": "display_data"
    },
    {
     "data": {
      "image/png": "[encoded data removed]",
      "text/plain": [
       "plot without title"
      ]
     },
     "metadata": {
      "image/png": {
       "height": 420,
       "width": 420
      }
     },
     "output_type": "display_data"
    },
    {
     "data": {
      "image/png": "[encoded data removed]",
      "text/plain": [
       "plot without title"
      ]
     },
     "metadata": {
      "image/png": {
       "height": 420,
       "width": 420
      }
     },
     "output_type": "display_data"
    },
    {
     "data": {
      "image/png": "[encoded data removed]",
      "text/plain": [
       "plot without title"
      ]
     },
     "metadata": {
      "image/png": {
       "height": 420,
       "width": 420
      }
     },
     "output_type": "display_data"
    },
    {
     "data": {
      "image/png": "[encoded data removed]",
      "text/plain": [
       "plot without title"
      ]
     },
     "metadata": {
      "image/png": {
       "height": 420,
       "width": 420
      }
     },
     "output_type": "display_data"
    }
   ],
   "source": [
    "for (f in problematic_features) {\n",
    "    factors <- table(data[,f])\n",
    "    barplot( (sort(factors, decreasing=TRUE)[1:5] ))\n",
    "}"
   ]
  },
  {
   "cell_type": "markdown",
   "metadata": {},
   "source": [
    "By taking a look at the barplots, some features might be interesting to keep because they have a large dominance in one category. For example, the $installer$ feature contains more than 16000 samples with the category $DWE$ so it might be useful to simply keep track of whether the installer is DWE or not (binary value)."
   ]
  },
  {
   "cell_type": "code",
   "execution_count": 26,
   "metadata": {},
   "outputs": [],
   "source": [
    "convert_installer_to_binary <- function(df) {\n",
    "    levels(df$installer) <- c(levels(df$installer), \"1\",\"0\") \n",
    "    df$installer[df$installer == \"DWE\"] <- 1\n",
    "    df$installer[df$installer != \"1\"] <- 0\n",
    "    df <- transform(df, installer = as.integer(as.character(installer)))\n",
    "    return(df)\n",
    "}"
   ]
  },
  {
   "cell_type": "markdown",
   "metadata": {},
   "source": [
    "By analyzing the rest of the barplots, either there are extremely few samples of each category of the feature, or there are majoritarily samples containing $none$ or an empty string. Therefore, we choose to remove them from the dataset."
   ]
  },
  {
   "cell_type": "code",
   "execution_count": 27,
   "metadata": {},
   "outputs": [],
   "source": [
    "remove_features_many_levels <- function(df) {\n",
    "    df <- subset(df,select=-which(names(df) %in% problematic_features))\n",
    "    return(df)\n",
    "}"
   ]
  },
  {
   "cell_type": "code",
   "execution_count": 28,
   "metadata": {},
   "outputs": [
    {
     "data": {
      "text/html": [
       "<style>\n",
       ".list-inline {list-style: none; margin:0; padding: 0}\n",
       ".list-inline>li {display: inline-block}\n",
       ".list-inline>li:not(:last-child)::after {content: \"\\00b7\"; padding: 0 .5ex}\n",
       "</style>\n",
       "<ol class=list-inline><li>'date_recorded'</li><li>'funder'</li><li>'installer'</li><li>'wpt_name'</li><li>'basin'</li><li>'subvillage'</li><li>'region'</li><li>'lga'</li><li>'ward'</li><li>'public_meeting'</li><li>'recorded_by'</li><li>'scheme_management'</li><li>'scheme_name'</li><li>'permit'</li><li>'extraction_type'</li><li>'extraction_type_group'</li><li>'extraction_type_class'</li><li>'management'</li><li>'management_group'</li><li>'payment'</li><li>'payment_type'</li><li>'water_quality'</li><li>'quality_group'</li><li>'quantity'</li><li>'quantity_group'</li><li>'source'</li><li>'source_type'</li><li>'source_class'</li><li>'waterpoint_type'</li><li>'waterpoint_type_group'</li></ol>\n"
      ],
      "text/latex": [
       "\\begin{enumerate*}\n",
       "\\item 'date\\_recorded'\n",
       "\\item 'funder'\n",
       "\\item 'installer'\n",
       "\\item 'wpt\\_name'\n",
       "\\item 'basin'\n",
       "\\item 'subvillage'\n",
       "\\item 'region'\n",
       "\\item 'lga'\n",
       "\\item 'ward'\n",
       "\\item 'public\\_meeting'\n",
       "\\item 'recorded\\_by'\n",
       "\\item 'scheme\\_management'\n",
       "\\item 'scheme\\_name'\n",
       "\\item 'permit'\n",
       "\\item 'extraction\\_type'\n",
       "\\item 'extraction\\_type\\_group'\n",
       "\\item 'extraction\\_type\\_class'\n",
       "\\item 'management'\n",
       "\\item 'management\\_group'\n",
       "\\item 'payment'\n",
       "\\item 'payment\\_type'\n",
       "\\item 'water\\_quality'\n",
       "\\item 'quality\\_group'\n",
       "\\item 'quantity'\n",
       "\\item 'quantity\\_group'\n",
       "\\item 'source'\n",
       "\\item 'source\\_type'\n",
       "\\item 'source\\_class'\n",
       "\\item 'waterpoint\\_type'\n",
       "\\item 'waterpoint\\_type\\_group'\n",
       "\\end{enumerate*}\n"
      ],
      "text/markdown": [
       "1. 'date_recorded'\n",
       "2. 'funder'\n",
       "3. 'installer'\n",
       "4. 'wpt_name'\n",
       "5. 'basin'\n",
       "6. 'subvillage'\n",
       "7. 'region'\n",
       "8. 'lga'\n",
       "9. 'ward'\n",
       "10. 'public_meeting'\n",
       "11. 'recorded_by'\n",
       "12. 'scheme_management'\n",
       "13. 'scheme_name'\n",
       "14. 'permit'\n",
       "15. 'extraction_type'\n",
       "16. 'extraction_type_group'\n",
       "17. 'extraction_type_class'\n",
       "18. 'management'\n",
       "19. 'management_group'\n",
       "20. 'payment'\n",
       "21. 'payment_type'\n",
       "22. 'water_quality'\n",
       "23. 'quality_group'\n",
       "24. 'quantity'\n",
       "25. 'quantity_group'\n",
       "26. 'source'\n",
       "27. 'source_type'\n",
       "28. 'source_class'\n",
       "29. 'waterpoint_type'\n",
       "30. 'waterpoint_type_group'\n",
       "\n",
       "\n"
      ],
      "text/plain": [
       " [1] \"date_recorded\"         \"funder\"                \"installer\"            \n",
       " [4] \"wpt_name\"              \"basin\"                 \"subvillage\"           \n",
       " [7] \"region\"                \"lga\"                   \"ward\"                 \n",
       "[10] \"public_meeting\"        \"recorded_by\"           \"scheme_management\"    \n",
       "[13] \"scheme_name\"           \"permit\"                \"extraction_type\"      \n",
       "[16] \"extraction_type_group\" \"extraction_type_class\" \"management\"           \n",
       "[19] \"management_group\"      \"payment\"               \"payment_type\"         \n",
       "[22] \"water_quality\"         \"quality_group\"         \"quantity\"             \n",
       "[25] \"quantity_group\"        \"source\"                \"source_type\"          \n",
       "[28] \"source_class\"          \"waterpoint_type\"       \"waterpoint_type_group\""
      ]
     },
     "metadata": {},
     "output_type": "display_data"
    }
   ],
   "source": [
    "categorical_variables <- which(sapply(subset(data,select=-c(status_group)),class)==\"factor\")\n",
    "colnames(data[,categorical_variables])"
   ]
  },
  {
   "cell_type": "code",
   "execution_count": 47,
   "metadata": {},
   "outputs": [
    {
     "name": "stderr",
     "output_type": "stream",
     "text": [
      "Installing package into 'C:/Users/minhx/OneDrive/Documents/R/win-library/4.0'\n",
      "(as 'lib' is unspecified)\n",
      "\n"
     ]
    },
    {
     "name": "stdout",
     "output_type": "stream",
     "text": [
      "package 'dummies' successfully unpacked and MD5 sums checked\n",
      "\n",
      "The downloaded binary packages are in\n",
      "\tC:\\Users\\minhx\\AppData\\Local\\Temp\\RtmpmiPYH5\\downloaded_packages\n"
     ]
    }
   ],
   "source": [
    "install.packages('dummies')"
   ]
  },
  {
   "cell_type": "code",
   "execution_count": 29,
   "metadata": {},
   "outputs": [
    {
     "name": "stderr",
     "output_type": "stream",
     "text": [
      "dummies-1.5.6 provided by Decision Patterns\n",
      "\n",
      "\n"
     ]
    }
   ],
   "source": [
    "library(dummies)"
   ]
  },
  {
   "cell_type": "code",
   "execution_count": 30,
   "metadata": {
    "scrolled": true
   },
   "outputs": [],
   "source": [
    "one_hot_encoding_training <- function(df) {\n",
    "    categorical_variables <- which(sapply(subset(df,select=-c(status_group)),class)==\"factor\")\n",
    "    dum <- dummy.data.frame(df[,categorical_variables], sep=\"_\")\n",
    "    df <- cbind(df[,-categorical_variables],dum)\n",
    "    return(df)\n",
    "}"
   ]
  },
  {
   "cell_type": "code",
   "execution_count": 31,
   "metadata": {},
   "outputs": [],
   "source": [
    "one_hot_encoding_test <- function(df) {\n",
    "    categorical_variables <- which(sapply(df,class)==\"factor\")\n",
    "    dum <- dummy.data.frame(df[,categorical_variables], sep=\"_\")\n",
    "    df <- cbind(df[,-categorical_variables],dum)\n",
    "    return(df)\n",
    "}"
   ]
  },
  {
   "cell_type": "code",
   "execution_count": 60,
   "metadata": {},
   "outputs": [
    {
     "data": {
      "text/html": [
       "<style>\n",
       ".list-inline {list-style: none; margin:0; padding: 0}\n",
       ".list-inline>li {display: inline-block}\n",
       ".list-inline>li:not(:last-child)::after {content: \"\\00b7\"; padding: 0 .5ex}\n",
       "</style>\n",
       "<ol class=list-inline><li>59400</li><li>14</li></ol>\n"
      ],
      "text/latex": [
       "\\begin{enumerate*}\n",
       "\\item 59400\n",
       "\\item 14\n",
       "\\end{enumerate*}\n"
      ],
      "text/markdown": [
       "1. 59400\n",
       "2. 14\n",
       "\n",
       "\n"
      ],
      "text/plain": [
       "[1] 59400    14"
      ]
     },
     "metadata": {},
     "output_type": "display_data"
    },
    {
     "data": {
      "text/html": [
       "<table class=\"dataframe\">\n",
       "<caption>A data.frame: 6 × 14</caption>\n",
       "<thead>\n",
       "\t<tr><th></th><th scope=col>id</th><th scope=col>amount_tsh</th><th scope=col>gps_height</th><th scope=col>longitude</th><th scope=col>latitude</th><th scope=col>num_private</th><th scope=col>region_code</th><th scope=col>district_code</th><th scope=col>population</th><th scope=col>construction_year</th><th scope=col>status_group</th><th scope=col>status_group_functional</th><th scope=col>status_group_functional needs repair</th><th scope=col>status_group_non functional</th></tr>\n",
       "\t<tr><th></th><th scope=col>&lt;int&gt;</th><th scope=col>&lt;dbl&gt;</th><th scope=col>&lt;int&gt;</th><th scope=col>&lt;dbl&gt;</th><th scope=col>&lt;dbl&gt;</th><th scope=col>&lt;int&gt;</th><th scope=col>&lt;int&gt;</th><th scope=col>&lt;int&gt;</th><th scope=col>&lt;int&gt;</th><th scope=col>&lt;int&gt;</th><th scope=col>&lt;fct&gt;</th><th scope=col>&lt;int&gt;</th><th scope=col>&lt;int&gt;</th><th scope=col>&lt;int&gt;</th></tr>\n",
       "</thead>\n",
       "<tbody>\n",
       "\t<tr><th scope=row>1</th><td>0</td><td> 0</td><td>   0</td><td>33.12583</td><td>-5.118154</td><td>0</td><td>14</td><td> 3</td><td>   0</td><td>   0</td><td>non functional</td><td>0</td><td>0</td><td>1</td></tr>\n",
       "\t<tr><th scope=row>2</th><td>1</td><td> 0</td><td>1978</td><td>34.77072</td><td>-9.395642</td><td>0</td><td>11</td><td> 4</td><td>  20</td><td>2008</td><td>functional    </td><td>1</td><td>0</td><td>0</td></tr>\n",
       "\t<tr><th scope=row>3</th><td>2</td><td> 0</td><td>   0</td><td>36.11506</td><td>-6.279268</td><td>0</td><td> 1</td><td> 4</td><td>   0</td><td>   0</td><td>functional    </td><td>1</td><td>0</td><td>0</td></tr>\n",
       "\t<tr><th scope=row>4</th><td>3</td><td>10</td><td>1639</td><td>37.14743</td><td>-3.187555</td><td>0</td><td> 3</td><td> 5</td><td>  25</td><td>1999</td><td>functional    </td><td>1</td><td>0</td><td>0</td></tr>\n",
       "\t<tr><th scope=row>5</th><td>4</td><td> 0</td><td>   0</td><td>36.16489</td><td>-6.099289</td><td>0</td><td> 1</td><td> 4</td><td>   0</td><td>   0</td><td>non functional</td><td>0</td><td>0</td><td>1</td></tr>\n",
       "\t<tr><th scope=row>6</th><td>5</td><td>50</td><td>  28</td><td>39.28612</td><td>-6.972403</td><td>0</td><td>60</td><td>43</td><td>6922</td><td>   0</td><td>functional    </td><td>1</td><td>0</td><td>0</td></tr>\n",
       "</tbody>\n",
       "</table>\n"
      ],
      "text/latex": [
       "A data.frame: 6 × 14\n",
       "\\begin{tabular}{r|llllllllllllll}\n",
       "  & id & amount\\_tsh & gps\\_height & longitude & latitude & num\\_private & region\\_code & district\\_code & population & construction\\_year & status\\_group & status\\_group\\_functional & status\\_group\\_functional needs repair & status\\_group\\_non functional\\\\\n",
       "  & <int> & <dbl> & <int> & <dbl> & <dbl> & <int> & <int> & <int> & <int> & <int> & <fct> & <int> & <int> & <int>\\\\\n",
       "\\hline\n",
       "\t1 & 0 &  0 &    0 & 33.12583 & -5.118154 & 0 & 14 &  3 &    0 &    0 & non functional & 0 & 0 & 1\\\\\n",
       "\t2 & 1 &  0 & 1978 & 34.77072 & -9.395642 & 0 & 11 &  4 &   20 & 2008 & functional     & 1 & 0 & 0\\\\\n",
       "\t3 & 2 &  0 &    0 & 36.11506 & -6.279268 & 0 &  1 &  4 &    0 &    0 & functional     & 1 & 0 & 0\\\\\n",
       "\t4 & 3 & 10 & 1639 & 37.14743 & -3.187555 & 0 &  3 &  5 &   25 & 1999 & functional     & 1 & 0 & 0\\\\\n",
       "\t5 & 4 &  0 &    0 & 36.16489 & -6.099289 & 0 &  1 &  4 &    0 &    0 & non functional & 0 & 0 & 1\\\\\n",
       "\t6 & 5 & 50 &   28 & 39.28612 & -6.972403 & 0 & 60 & 43 & 6922 &    0 & functional     & 1 & 0 & 0\\\\\n",
       "\\end{tabular}\n"
      ],
      "text/markdown": [
       "\n",
       "A data.frame: 6 × 14\n",
       "\n",
       "| <!--/--> | id &lt;int&gt; | amount_tsh &lt;dbl&gt; | gps_height &lt;int&gt; | longitude &lt;dbl&gt; | latitude &lt;dbl&gt; | num_private &lt;int&gt; | region_code &lt;int&gt; | district_code &lt;int&gt; | population &lt;int&gt; | construction_year &lt;int&gt; | status_group &lt;fct&gt; | status_group_functional &lt;int&gt; | status_group_functional needs repair &lt;int&gt; | status_group_non functional &lt;int&gt; |\n",
       "|---|---|---|---|---|---|---|---|---|---|---|---|---|---|---|\n",
       "| 1 | 0 |  0 |    0 | 33.12583 | -5.118154 | 0 | 14 |  3 |    0 |    0 | non functional | 0 | 0 | 1 |\n",
       "| 2 | 1 |  0 | 1978 | 34.77072 | -9.395642 | 0 | 11 |  4 |   20 | 2008 | functional     | 1 | 0 | 0 |\n",
       "| 3 | 2 |  0 |    0 | 36.11506 | -6.279268 | 0 |  1 |  4 |    0 |    0 | functional     | 1 | 0 | 0 |\n",
       "| 4 | 3 | 10 | 1639 | 37.14743 | -3.187555 | 0 |  3 |  5 |   25 | 1999 | functional     | 1 | 0 | 0 |\n",
       "| 5 | 4 |  0 |    0 | 36.16489 | -6.099289 | 0 |  1 |  4 |    0 |    0 | non functional | 0 | 0 | 1 |\n",
       "| 6 | 5 | 50 |   28 | 39.28612 | -6.972403 | 0 | 60 | 43 | 6922 |    0 | functional     | 1 | 0 | 0 |\n",
       "\n"
      ],
      "text/plain": [
       "  id amount_tsh gps_height longitude latitude  num_private region_code\n",
       "1 0   0            0       33.12583  -5.118154 0           14         \n",
       "2 1   0         1978       34.77072  -9.395642 0           11         \n",
       "3 2   0            0       36.11506  -6.279268 0            1         \n",
       "4 3  10         1639       37.14743  -3.187555 0            3         \n",
       "5 4   0            0       36.16489  -6.099289 0            1         \n",
       "6 5  50           28       39.28612  -6.972403 0           60         \n",
       "  district_code population construction_year status_group  \n",
       "1  3               0          0              non functional\n",
       "2  4              20       2008              functional    \n",
       "3  4               0          0              functional    \n",
       "4  5              25       1999              functional    \n",
       "5  4               0          0              non functional\n",
       "6 43            6922          0              functional    \n",
       "  status_group_functional status_group_functional needs repair\n",
       "1 0                       0                                   \n",
       "2 1                       0                                   \n",
       "3 1                       0                                   \n",
       "4 1                       0                                   \n",
       "5 0                       0                                   \n",
       "6 1                       0                                   \n",
       "  status_group_non functional\n",
       "1 1                          \n",
       "2 0                          \n",
       "3 0                          \n",
       "4 0                          \n",
       "5 1                          \n",
       "6 0                          "
      ]
     },
     "metadata": {},
     "output_type": "display_data"
    },
    {
     "data": {
      "text/html": [
       "<table class=\"dataframe\">\n",
       "<caption>A data.frame: 6 × 40</caption>\n",
       "<thead>\n",
       "\t<tr><th></th><th scope=col>id</th><th scope=col>amount_tsh</th><th scope=col>date_recorded</th><th scope=col>funder</th><th scope=col>gps_height</th><th scope=col>installer</th><th scope=col>wpt_name</th><th scope=col>num_private</th><th scope=col>basin</th><th scope=col>subvillage</th><th scope=col>region</th><th scope=col>region_code</th><th scope=col>district_code</th><th scope=col>lga</th><th scope=col>ward</th><th scope=col>population</th><th scope=col>public_meeting</th><th scope=col>recorded_by</th><th scope=col>scheme_management</th><th scope=col>scheme_name</th><th scope=col>permit</th><th scope=col>construction_year</th><th scope=col>extraction_type</th><th scope=col>extraction_type_group</th><th scope=col>extraction_type_class</th><th scope=col>management</th><th scope=col>management_group</th><th scope=col>payment</th><th scope=col>payment_type</th><th scope=col>water_quality</th><th scope=col>quality_group</th><th scope=col>quantity</th><th scope=col>quantity_group</th><th scope=col>source</th><th scope=col>source_type</th><th scope=col>source_class</th><th scope=col>waterpoint_type</th><th scope=col>waterpoint_type_group</th><th scope=col>status_group</th><th scope=col>region_kmeans</th></tr>\n",
       "\t<tr><th></th><th scope=col>&lt;int&gt;</th><th scope=col>&lt;dbl&gt;</th><th scope=col>&lt;fct&gt;</th><th scope=col>&lt;fct&gt;</th><th scope=col>&lt;int&gt;</th><th scope=col>&lt;fct&gt;</th><th scope=col>&lt;fct&gt;</th><th scope=col>&lt;int&gt;</th><th scope=col>&lt;fct&gt;</th><th scope=col>&lt;fct&gt;</th><th scope=col>&lt;fct&gt;</th><th scope=col>&lt;int&gt;</th><th scope=col>&lt;int&gt;</th><th scope=col>&lt;fct&gt;</th><th scope=col>&lt;fct&gt;</th><th scope=col>&lt;int&gt;</th><th scope=col>&lt;fct&gt;</th><th scope=col>&lt;fct&gt;</th><th scope=col>&lt;fct&gt;</th><th scope=col>&lt;fct&gt;</th><th scope=col>&lt;fct&gt;</th><th scope=col>&lt;int&gt;</th><th scope=col>&lt;fct&gt;</th><th scope=col>&lt;fct&gt;</th><th scope=col>&lt;fct&gt;</th><th scope=col>&lt;fct&gt;</th><th scope=col>&lt;fct&gt;</th><th scope=col>&lt;fct&gt;</th><th scope=col>&lt;fct&gt;</th><th scope=col>&lt;fct&gt;</th><th scope=col>&lt;fct&gt;</th><th scope=col>&lt;fct&gt;</th><th scope=col>&lt;fct&gt;</th><th scope=col>&lt;fct&gt;</th><th scope=col>&lt;fct&gt;</th><th scope=col>&lt;fct&gt;</th><th scope=col>&lt;fct&gt;</th><th scope=col>&lt;fct&gt;</th><th scope=col>&lt;fct&gt;</th><th scope=col>&lt;int&gt;</th></tr>\n",
       "</thead>\n",
       "<tbody>\n",
       "\t<tr><th scope=row>1</th><td>0</td><td> 0</td><td>2012-11-13</td><td>Tasaf          </td><td>   0</td><td>TASAF  </td><td>Mratibu       </td><td>0</td><td>Lake Tanganyika</td><td>Majengo   </td><td>Tabora     </td><td>14</td><td> 3</td><td>Uyui    </td><td>Igalula         </td><td>   0</td><td>    </td><td>GeoData Consultants Ltd</td><td>VWC             </td><td>                      </td><td>True </td><td>   0</td><td>afridev          </td><td>afridev    </td><td>handpump   </td><td>vwc             </td><td>user-group</td><td>unknown       </td><td>unknown   </td><td>milky</td><td>milky</td><td>enough      </td><td>enough      </td><td>shallow well</td><td>shallow well</td><td>groundwater</td><td>hand pump                  </td><td>hand pump         </td><td>non functional</td><td> 1</td></tr>\n",
       "\t<tr><th scope=row>2</th><td>1</td><td> 0</td><td>2011-03-05</td><td>Shipo          </td><td>1978</td><td>SHIPO  </td><td>none          </td><td>0</td><td>Rufiji         </td><td>Magoda C  </td><td>Iringa     </td><td>11</td><td> 4</td><td>Njombe  </td><td>Uwemba          </td><td>  20</td><td>True</td><td>GeoData Consultants Ltd</td><td>                </td><td>                      </td><td>False</td><td>2008</td><td>other - rope pump</td><td>rope pump  </td><td>rope pump  </td><td>vwc             </td><td>user-group</td><td>never pay     </td><td>never pay </td><td>soft </td><td>good </td><td>enough      </td><td>enough      </td><td>shallow well</td><td>shallow well</td><td>groundwater</td><td>hand pump                  </td><td>hand pump         </td><td>functional    </td><td>18</td></tr>\n",
       "\t<tr><th scope=row>3</th><td>2</td><td> 0</td><td>2011-03-27</td><td>Lvia           </td><td>   0</td><td>LVIA   </td><td>Bombani       </td><td>0</td><td>Wami / Ruvu    </td><td>Songambele</td><td>Dodoma     </td><td> 1</td><td> 4</td><td>Chamwino</td><td>Msamalo         </td><td>   0</td><td>True</td><td>GeoData Consultants Ltd</td><td>VWC             </td><td>Mgun                  </td><td>True </td><td>   0</td><td>mono             </td><td>mono       </td><td>motorpump  </td><td>vwc             </td><td>user-group</td><td>pay per bucket</td><td>per bucket</td><td>soft </td><td>good </td><td>insufficient</td><td>insufficient</td><td>machine dbh </td><td>borehole    </td><td>groundwater</td><td>communal standpipe multiple</td><td>communal standpipe</td><td>functional    </td><td> 4</td></tr>\n",
       "\t<tr><th scope=row>4</th><td>3</td><td>10</td><td>2013-06-03</td><td>Germany Republi</td><td>1639</td><td>CES    </td><td>Area 7 Namba 5</td><td>0</td><td>Pangani        </td><td>Urereni   </td><td>Kilimanjaro</td><td> 3</td><td> 5</td><td>Hai     </td><td>Masama Magharibi</td><td>  25</td><td>True</td><td>GeoData Consultants Ltd</td><td>Water Board     </td><td>Losaa-Kia water supply</td><td>True </td><td>1999</td><td>gravity          </td><td>gravity    </td><td>gravity    </td><td>water board     </td><td>user-group</td><td>pay per bucket</td><td>per bucket</td><td>soft </td><td>good </td><td>enough      </td><td>enough      </td><td>spring      </td><td>spring      </td><td>groundwater</td><td>communal standpipe         </td><td>communal standpipe</td><td>functional    </td><td>12</td></tr>\n",
       "\t<tr><th scope=row>5</th><td>4</td><td> 0</td><td>2011-03-22</td><td>Cmsr           </td><td>   0</td><td>CMSR   </td><td>Ezeleda       </td><td>0</td><td>Wami / Ruvu    </td><td>Maata A   </td><td>Dodoma     </td><td> 1</td><td> 4</td><td>Chamwino</td><td>Majeleko        </td><td>   0</td><td>True</td><td>GeoData Consultants Ltd</td><td>VWC             </td><td>                      </td><td>True </td><td>   0</td><td>nira/tanira      </td><td>nira/tanira</td><td>handpump   </td><td>vwc             </td><td>user-group</td><td>unknown       </td><td>unknown   </td><td>soft </td><td>good </td><td>dry         </td><td>dry         </td><td>shallow well</td><td>shallow well</td><td>groundwater</td><td>hand pump                  </td><td>hand pump         </td><td>non functional</td><td> 4</td></tr>\n",
       "\t<tr><th scope=row>6</th><td>5</td><td>50</td><td>2011-02-26</td><td>Private        </td><td>  28</td><td>Private</td><td>Kwa Namaj     </td><td>0</td><td>Wami / Ruvu    </td><td>Mwandege  </td><td>Pwani      </td><td>60</td><td>43</td><td>Mkuranga</td><td>Vikindu         </td><td>6922</td><td>True</td><td>GeoData Consultants Ltd</td><td>Private operator</td><td>                      </td><td>False</td><td>   0</td><td>submersible      </td><td>submersible</td><td>submersible</td><td>private operator</td><td>commercial</td><td>pay per bucket</td><td>per bucket</td><td>soft </td><td>good </td><td>enough      </td><td>enough      </td><td>machine dbh </td><td>borehole    </td><td>groundwater</td><td>communal standpipe multiple</td><td>communal standpipe</td><td>functional    </td><td> 3</td></tr>\n",
       "</tbody>\n",
       "</table>\n"
      ],
      "text/latex": [
       "A data.frame: 6 × 40\n",
       "\\begin{tabular}{r|llllllllllllllllllllllllllllllllllllllll}\n",
       "  & id & amount\\_tsh & date\\_recorded & funder & gps\\_height & installer & wpt\\_name & num\\_private & basin & subvillage & region & region\\_code & district\\_code & lga & ward & population & public\\_meeting & recorded\\_by & scheme\\_management & scheme\\_name & permit & construction\\_year & extraction\\_type & extraction\\_type\\_group & extraction\\_type\\_class & management & management\\_group & payment & payment\\_type & water\\_quality & quality\\_group & quantity & quantity\\_group & source & source\\_type & source\\_class & waterpoint\\_type & waterpoint\\_type\\_group & status\\_group & region\\_kmeans\\\\\n",
       "  & <int> & <dbl> & <fct> & <fct> & <int> & <fct> & <fct> & <int> & <fct> & <fct> & <fct> & <int> & <int> & <fct> & <fct> & <int> & <fct> & <fct> & <fct> & <fct> & <fct> & <int> & <fct> & <fct> & <fct> & <fct> & <fct> & <fct> & <fct> & <fct> & <fct> & <fct> & <fct> & <fct> & <fct> & <fct> & <fct> & <fct> & <fct> & <int>\\\\\n",
       "\\hline\n",
       "\t1 & 0 &  0 & 2012-11-13 & Tasaf           &    0 & TASAF   & Mratibu        & 0 & Lake Tanganyika & Majengo    & Tabora      & 14 &  3 & Uyui     & Igalula          &    0 &      & GeoData Consultants Ltd & VWC              &                        & True  &    0 & afridev           & afridev     & handpump    & vwc              & user-group & unknown        & unknown    & milky & milky & enough       & enough       & shallow well & shallow well & groundwater & hand pump                   & hand pump          & non functional &  1\\\\\n",
       "\t2 & 1 &  0 & 2011-03-05 & Shipo           & 1978 & SHIPO   & none           & 0 & Rufiji          & Magoda C   & Iringa      & 11 &  4 & Njombe   & Uwemba           &   20 & True & GeoData Consultants Ltd &                  &                        & False & 2008 & other - rope pump & rope pump   & rope pump   & vwc              & user-group & never pay      & never pay  & soft  & good  & enough       & enough       & shallow well & shallow well & groundwater & hand pump                   & hand pump          & functional     & 18\\\\\n",
       "\t3 & 2 &  0 & 2011-03-27 & Lvia            &    0 & LVIA    & Bombani        & 0 & Wami / Ruvu     & Songambele & Dodoma      &  1 &  4 & Chamwino & Msamalo          &    0 & True & GeoData Consultants Ltd & VWC              & Mgun                   & True  &    0 & mono              & mono        & motorpump   & vwc              & user-group & pay per bucket & per bucket & soft  & good  & insufficient & insufficient & machine dbh  & borehole     & groundwater & communal standpipe multiple & communal standpipe & functional     &  4\\\\\n",
       "\t4 & 3 & 10 & 2013-06-03 & Germany Republi & 1639 & CES     & Area 7 Namba 5 & 0 & Pangani         & Urereni    & Kilimanjaro &  3 &  5 & Hai      & Masama Magharibi &   25 & True & GeoData Consultants Ltd & Water Board      & Losaa-Kia water supply & True  & 1999 & gravity           & gravity     & gravity     & water board      & user-group & pay per bucket & per bucket & soft  & good  & enough       & enough       & spring       & spring       & groundwater & communal standpipe          & communal standpipe & functional     & 12\\\\\n",
       "\t5 & 4 &  0 & 2011-03-22 & Cmsr            &    0 & CMSR    & Ezeleda        & 0 & Wami / Ruvu     & Maata A    & Dodoma      &  1 &  4 & Chamwino & Majeleko         &    0 & True & GeoData Consultants Ltd & VWC              &                        & True  &    0 & nira/tanira       & nira/tanira & handpump    & vwc              & user-group & unknown        & unknown    & soft  & good  & dry          & dry          & shallow well & shallow well & groundwater & hand pump                   & hand pump          & non functional &  4\\\\\n",
       "\t6 & 5 & 50 & 2011-02-26 & Private         &   28 & Private & Kwa Namaj      & 0 & Wami / Ruvu     & Mwandege   & Pwani       & 60 & 43 & Mkuranga & Vikindu          & 6922 & True & GeoData Consultants Ltd & Private operator &                        & False &    0 & submersible       & submersible & submersible & private operator & commercial & pay per bucket & per bucket & soft  & good  & enough       & enough       & machine dbh  & borehole     & groundwater & communal standpipe multiple & communal standpipe & functional     &  3\\\\\n",
       "\\end{tabular}\n"
      ],
      "text/markdown": [
       "\n",
       "A data.frame: 6 × 40\n",
       "\n",
       "| <!--/--> | id &lt;int&gt; | amount_tsh &lt;dbl&gt; | date_recorded &lt;fct&gt; | funder &lt;fct&gt; | gps_height &lt;int&gt; | installer &lt;fct&gt; | wpt_name &lt;fct&gt; | num_private &lt;int&gt; | basin &lt;fct&gt; | subvillage &lt;fct&gt; | region &lt;fct&gt; | region_code &lt;int&gt; | district_code &lt;int&gt; | lga &lt;fct&gt; | ward &lt;fct&gt; | population &lt;int&gt; | public_meeting &lt;fct&gt; | recorded_by &lt;fct&gt; | scheme_management &lt;fct&gt; | scheme_name &lt;fct&gt; | permit &lt;fct&gt; | construction_year &lt;int&gt; | extraction_type &lt;fct&gt; | extraction_type_group &lt;fct&gt; | extraction_type_class &lt;fct&gt; | management &lt;fct&gt; | management_group &lt;fct&gt; | payment &lt;fct&gt; | payment_type &lt;fct&gt; | water_quality &lt;fct&gt; | quality_group &lt;fct&gt; | quantity &lt;fct&gt; | quantity_group &lt;fct&gt; | source &lt;fct&gt; | source_type &lt;fct&gt; | source_class &lt;fct&gt; | waterpoint_type &lt;fct&gt; | waterpoint_type_group &lt;fct&gt; | status_group &lt;fct&gt; | region_kmeans &lt;int&gt; |\n",
       "|---|---|---|---|---|---|---|---|---|---|---|---|---|---|---|---|---|---|---|---|---|---|---|---|---|---|---|---|---|---|---|---|---|---|---|---|---|---|---|---|---|\n",
       "| 1 | 0 |  0 | 2012-11-13 | Tasaf           |    0 | TASAF   | Mratibu        | 0 | Lake Tanganyika | Majengo    | Tabora      | 14 |  3 | Uyui     | Igalula          |    0 | <!----> | GeoData Consultants Ltd | VWC              | <!----> | True  |    0 | afridev           | afridev     | handpump    | vwc              | user-group | unknown        | unknown    | milky | milky | enough       | enough       | shallow well | shallow well | groundwater | hand pump                   | hand pump          | non functional |  1 |\n",
       "| 2 | 1 |  0 | 2011-03-05 | Shipo           | 1978 | SHIPO   | none           | 0 | Rufiji          | Magoda C   | Iringa      | 11 |  4 | Njombe   | Uwemba           |   20 | True | GeoData Consultants Ltd | <!----> | <!----> | False | 2008 | other - rope pump | rope pump   | rope pump   | vwc              | user-group | never pay      | never pay  | soft  | good  | enough       | enough       | shallow well | shallow well | groundwater | hand pump                   | hand pump          | functional     | 18 |\n",
       "| 3 | 2 |  0 | 2011-03-27 | Lvia            |    0 | LVIA    | Bombani        | 0 | Wami / Ruvu     | Songambele | Dodoma      |  1 |  4 | Chamwino | Msamalo          |    0 | True | GeoData Consultants Ltd | VWC              | Mgun                   | True  |    0 | mono              | mono        | motorpump   | vwc              | user-group | pay per bucket | per bucket | soft  | good  | insufficient | insufficient | machine dbh  | borehole     | groundwater | communal standpipe multiple | communal standpipe | functional     |  4 |\n",
       "| 4 | 3 | 10 | 2013-06-03 | Germany Republi | 1639 | CES     | Area 7 Namba 5 | 0 | Pangani         | Urereni    | Kilimanjaro |  3 |  5 | Hai      | Masama Magharibi |   25 | True | GeoData Consultants Ltd | Water Board      | Losaa-Kia water supply | True  | 1999 | gravity           | gravity     | gravity     | water board      | user-group | pay per bucket | per bucket | soft  | good  | enough       | enough       | spring       | spring       | groundwater | communal standpipe          | communal standpipe | functional     | 12 |\n",
       "| 5 | 4 |  0 | 2011-03-22 | Cmsr            |    0 | CMSR    | Ezeleda        | 0 | Wami / Ruvu     | Maata A    | Dodoma      |  1 |  4 | Chamwino | Majeleko         |    0 | True | GeoData Consultants Ltd | VWC              | <!----> | True  |    0 | nira/tanira       | nira/tanira | handpump    | vwc              | user-group | unknown        | unknown    | soft  | good  | dry          | dry          | shallow well | shallow well | groundwater | hand pump                   | hand pump          | non functional |  4 |\n",
       "| 6 | 5 | 50 | 2011-02-26 | Private         |   28 | Private | Kwa Namaj      | 0 | Wami / Ruvu     | Mwandege   | Pwani       | 60 | 43 | Mkuranga | Vikindu          | 6922 | True | GeoData Consultants Ltd | Private operator | <!----> | False |    0 | submersible       | submersible | submersible | private operator | commercial | pay per bucket | per bucket | soft  | good  | enough       | enough       | machine dbh  | borehole     | groundwater | communal standpipe multiple | communal standpipe | functional     |  3 |\n",
       "\n"
      ],
      "text/plain": [
       "  id amount_tsh date_recorded funder          gps_height installer\n",
       "1 0   0         2012-11-13    Tasaf              0       TASAF    \n",
       "2 1   0         2011-03-05    Shipo           1978       SHIPO    \n",
       "3 2   0         2011-03-27    Lvia               0       LVIA     \n",
       "4 3  10         2013-06-03    Germany Republi 1639       CES      \n",
       "5 4   0         2011-03-22    Cmsr               0       CMSR     \n",
       "6 5  50         2011-02-26    Private           28       Private  \n",
       "  wpt_name       num_private basin           subvillage region      region_code\n",
       "1 Mratibu        0           Lake Tanganyika Majengo    Tabora      14         \n",
       "2 none           0           Rufiji          Magoda C   Iringa      11         \n",
       "3 Bombani        0           Wami / Ruvu     Songambele Dodoma       1         \n",
       "4 Area 7 Namba 5 0           Pangani         Urereni    Kilimanjaro  3         \n",
       "5 Ezeleda        0           Wami / Ruvu     Maata A    Dodoma       1         \n",
       "6 Kwa Namaj      0           Wami / Ruvu     Mwandege   Pwani       60         \n",
       "  district_code lga      ward             population public_meeting\n",
       "1  3            Uyui     Igalula             0                     \n",
       "2  4            Njombe   Uwemba             20       True          \n",
       "3  4            Chamwino Msamalo             0       True          \n",
       "4  5            Hai      Masama Magharibi   25       True          \n",
       "5  4            Chamwino Majeleko            0       True          \n",
       "6 43            Mkuranga Vikindu          6922       True          \n",
       "  recorded_by             scheme_management scheme_name            permit\n",
       "1 GeoData Consultants Ltd VWC                                      True  \n",
       "2 GeoData Consultants Ltd                                          False \n",
       "3 GeoData Consultants Ltd VWC               Mgun                   True  \n",
       "4 GeoData Consultants Ltd Water Board       Losaa-Kia water supply True  \n",
       "5 GeoData Consultants Ltd VWC                                      True  \n",
       "6 GeoData Consultants Ltd Private operator                         False \n",
       "  construction_year extraction_type   extraction_type_group\n",
       "1    0              afridev           afridev              \n",
       "2 2008              other - rope pump rope pump            \n",
       "3    0              mono              mono                 \n",
       "4 1999              gravity           gravity              \n",
       "5    0              nira/tanira       nira/tanira          \n",
       "6    0              submersible       submersible          \n",
       "  extraction_type_class management       management_group payment       \n",
       "1 handpump              vwc              user-group       unknown       \n",
       "2 rope pump             vwc              user-group       never pay     \n",
       "3 motorpump             vwc              user-group       pay per bucket\n",
       "4 gravity               water board      user-group       pay per bucket\n",
       "5 handpump              vwc              user-group       unknown       \n",
       "6 submersible           private operator commercial       pay per bucket\n",
       "  payment_type water_quality quality_group quantity     quantity_group\n",
       "1 unknown      milky         milky         enough       enough        \n",
       "2 never pay    soft          good          enough       enough        \n",
       "3 per bucket   soft          good          insufficient insufficient  \n",
       "4 per bucket   soft          good          enough       enough        \n",
       "5 unknown      soft          good          dry          dry           \n",
       "6 per bucket   soft          good          enough       enough        \n",
       "  source       source_type  source_class waterpoint_type            \n",
       "1 shallow well shallow well groundwater  hand pump                  \n",
       "2 shallow well shallow well groundwater  hand pump                  \n",
       "3 machine dbh  borehole     groundwater  communal standpipe multiple\n",
       "4 spring       spring       groundwater  communal standpipe         \n",
       "5 shallow well shallow well groundwater  hand pump                  \n",
       "6 machine dbh  borehole     groundwater  communal standpipe multiple\n",
       "  waterpoint_type_group status_group   region_kmeans\n",
       "1 hand pump             non functional  1           \n",
       "2 hand pump             functional     18           \n",
       "3 communal standpipe    functional      4           \n",
       "4 communal standpipe    functional     12           \n",
       "5 hand pump             non functional  4           \n",
       "6 communal standpipe    functional      3           "
      ]
     },
     "metadata": {},
     "output_type": "display_data"
    }
   ],
   "source": []
  },
  {
   "cell_type": "markdown",
   "metadata": {},
   "source": [
    "# Feature selection"
   ]
  },
  {
   "cell_type": "markdown",
   "metadata": {},
   "source": [
    "## mRMR on one-hot encoded data"
   ]
  },
  {
   "cell_type": "code",
   "execution_count": 368,
   "metadata": {},
   "outputs": [],
   "source": [
    "apply_mrmr_numerical <- function(df) {\n",
    "    #print(head(df[,ncol(df)]))\n",
    "    X <- subset(df,select=-c(status_group))\n",
    "    print(colnames(X))\n",
    "    \n",
    "    dum <- dummy.data.frame(subset(df,select=c(status_group)),names=c(\"status_group\"), sep=\"_\")\n",
    "    correlation <- numeric(ncol(X))\n",
    "    #print(head(dum))\n",
    "    #print(head(dum[,1]))\n",
    "    for(i in 1:ncol(dum)) {\n",
    "        correlation <- correlation + abs(cor(X,dum[,i]))\n",
    "    }\n",
    "    correlation <- correlation / 3\n",
    "    #print(correlation)\n",
    "    n <- ncol(X)\n",
    "    selected_features <- c()\n",
    "    candidate_features <- 1:n\n",
    "    #message(correlation)\n",
    "    for(j in 1:n) {\n",
    "        redundancy_score <- numeric(length(candidate_features))\n",
    "        if (length(selected_features)>0) {\n",
    "            cor_selected_candidates <- cor(X[,selected_features,drop=F],X[,candidate_features,drop=F])\n",
    "            redundancy_score <- apply(cor_selected_candidates,2,mean)\n",
    "        }\n",
    "        mRMR_score <- correlation[candidate_features] - redundancy_score\n",
    "        best_candidate <- candidate_features[which.max(mRMR_score)]\n",
    "        message(best_candidate)\n",
    "        selected_features<-c(selected_features,best_candidate)\n",
    "        \n",
    "        candidate_features <- setdiff(candidate_features,best_candidate)\n",
    "    }\n",
    "    return(selected_features)\n",
    "}"
   ]
  },
  {
   "cell_type": "code",
   "execution_count": 369,
   "metadata": {},
   "outputs": [],
   "source": [
    "get_k_mrmr_variables <- function(df,k) {\n",
    "    sorted_features <- apply_mrmr_numerical(df[,1:ncol(df)])    \n",
    "    df <- df[,sorted_features[1:k]]\n",
    "    return(df)\n",
    "}"
   ]
  },
  {
   "cell_type": "markdown",
   "metadata": {},
   "source": [
    "## mRMR on categorical data"
   ]
  },
  {
   "cell_type": "code",
   "execution_count": 370,
   "metadata": {},
   "outputs": [],
   "source": [
    "apply_mrmr <- function(X,Y) {\n",
    "    selected_features <- c()\n",
    "    n <- ncol(X)\n",
    "    candidate_features <- 1:n\n",
    "    correlation <- c()\n",
    "    for (i in 1:n) {\n",
    "        chi_value <- chisq.test(X[,i], Y)\n",
    "        correlation[i] <- chi_value$statistic\n",
    "    }\n",
    "    message(correlation)\n",
    "    correlation <- correlation/max(correlation)\n",
    "    redundancy_score <- c()\n",
    "    for(j in 1:n) {\n",
    "        redundancy_score <- numeric(length(candidate_features))\n",
    "        if(length(selected_features) > 0) {\n",
    "            for (c in 1:length(candidate_features)) {\n",
    "                redundancy_cor <- numeric(length(selected_features))\n",
    "                for (s in 1:length(selected_features)) {\n",
    "                    #print(length(X[,selected_features[s]]))\n",
    "                    #print(length(X[,candidate_features[c]]))\n",
    "                    chi_value <- chisq.test(X[,selected_features[s]],X[,candidate_features[c]])\n",
    "                    redundancy_cor[s]  <- chi_value$statistic\n",
    "                    message(chi_value$statistic)\n",
    "                }\n",
    "                message(redundancy_cor)\n",
    "                redundancy_score[c] <- mean(redundancy_cor)\n",
    "            }\n",
    "        }\n",
    "        #message(redundancy_score)\n",
    "        mRMR_score <- correlation[candidate_features] - redundancy_score\n",
    "        #message(mRMR_score)\n",
    "        #message(candidate_features)\n",
    "        max_score_candidate <- candidate_features[which.max(mRMR_score)]\n",
    "        message(max_score_candidate)\n",
    "        selected_features <- c(selected_features,max_score_candidate)\n",
    "        candidate_features <- setdiff(candidate_features,max_score_candidate)\n",
    "    }\n",
    "    #write(selected_features,\"selected_features.txt\")\n",
    "    #print(selected_features)\n",
    "}"
   ]
  },
  {
   "cell_type": "markdown",
   "metadata": {},
   "source": [
    "## PCA"
   ]
  },
  {
   "cell_type": "code",
   "execution_count": 33,
   "metadata": {},
   "outputs": [],
   "source": [
    "\n",
    "pca2 <- function(df,nb_components){\n",
    "    X <- df[,setdiff(colnames(df),\"status_group\")]\n",
    "    # Compute PCA on the full input dataset X and return the dataset transformed in the space of principal components\n",
    "    X_pca <- prcomp(X, scale=TRUE) \n",
    "\n",
    "    ## make a scree plot\n",
    "    X_pca.var <- X_pca$sdev^2\n",
    "    X_pca.var.per <- round(X_pca.var/sum(X_pca.var)*100, 1)\n",
    " \n",
    "    barplot(X_pca.var.per, main=\"Scree Plot\", xlab=\"Principal Component\", ylab=\"Percent Variation\")\n",
    "\n",
    "    return(X_pca)\n",
    "\n",
    "}\n",
    "\n",
    "pca2_select <- function (df,X_pca,nb_components){\n",
    "   \n",
    "    X_pca <- predict(X_pca,newdata=df)[,1:nb_components]\n",
    "   \n",
    "    #df_pca<-data.frame(X_pca,df[,\"status_group\"])\n",
    "    #names(df_pca)[length(names(df_pca))]<-\"status_group\" \n",
    "    return(X_pca)\n",
    "}\n"
   ]
  },
  {
   "cell_type": "code",
   "execution_count": 103,
   "metadata": {},
   "outputs": [
    {
     "name": "stderr",
     "output_type": "stream",
     "text": [
      "Warning message in model.matrix.default(~x - 1, model.frame(~x - 1), contrasts = FALSE):\n",
      "\"non-list contrasts argument ignored\"\n"
     ]
    },
    {
     "data": {
      "text/html": [
       "<table class=\"dataframe\">\n",
       "<caption>A data.frame: 6 × 26</caption>\n",
       "<thead>\n",
       "\t<tr><th></th><th scope=col>PC1</th><th scope=col>PC10</th><th scope=col>PC11</th><th scope=col>PC12</th><th scope=col>PC13</th><th scope=col>PC14</th><th scope=col>PC15</th><th scope=col>PC16</th><th scope=col>PC17</th><th scope=col>PC18</th><th scope=col>PC19</th><th scope=col>PC2</th><th scope=col>PC20</th><th scope=col>PC21</th><th scope=col>PC22</th><th scope=col>PC23</th><th scope=col>PC24</th><th scope=col>PC25</th><th scope=col>PC3</th><th scope=col>PC4</th><th scope=col>PC5</th><th scope=col>PC6</th><th scope=col>PC7</th><th scope=col>PC8</th><th scope=col>PC9</th><th scope=col>status_group</th></tr>\n",
       "\t<tr><th></th><th scope=col>&lt;dbl&gt;</th><th scope=col>&lt;dbl&gt;</th><th scope=col>&lt;dbl&gt;</th><th scope=col>&lt;dbl&gt;</th><th scope=col>&lt;dbl&gt;</th><th scope=col>&lt;dbl&gt;</th><th scope=col>&lt;dbl&gt;</th><th scope=col>&lt;dbl&gt;</th><th scope=col>&lt;dbl&gt;</th><th scope=col>&lt;dbl&gt;</th><th scope=col>&lt;dbl&gt;</th><th scope=col>&lt;dbl&gt;</th><th scope=col>&lt;dbl&gt;</th><th scope=col>&lt;dbl&gt;</th><th scope=col>&lt;dbl&gt;</th><th scope=col>&lt;dbl&gt;</th><th scope=col>&lt;dbl&gt;</th><th scope=col>&lt;dbl&gt;</th><th scope=col>&lt;dbl&gt;</th><th scope=col>&lt;dbl&gt;</th><th scope=col>&lt;dbl&gt;</th><th scope=col>&lt;dbl&gt;</th><th scope=col>&lt;dbl&gt;</th><th scope=col>&lt;dbl&gt;</th><th scope=col>&lt;dbl&gt;</th><th scope=col>&lt;fct&gt;</th></tr>\n",
       "</thead>\n",
       "<tbody>\n",
       "\t<tr><th scope=row>42500</th><td> 2.0650709</td><td> 0.6657258</td><td>-0.4946925</td><td> 2.1653761</td><td> 0.4020257</td><td>-1.1448786</td><td>-0.1304074</td><td> 0.8216918</td><td> 0.8912444</td><td> 0.46180073</td><td>-0.2364658</td><td> 1.28598200</td><td>-0.70637707</td><td>-1.5109322</td><td> 0.06733030</td><td>-0.06488377</td><td>-1.85280317</td><td> 3.4818701</td><td>-2.8547696</td><td>-0.445384983</td><td> 4.80793558</td><td>-1.5289399</td><td> 1.8440529</td><td>-1.7571245</td><td> 1.5681639</td><td>functional    </td></tr>\n",
       "\t<tr><th scope=row>36826</th><td> 0.9488555</td><td> 0.7581389</td><td>-0.7667154</td><td> 0.4291154</td><td>-0.3046899</td><td> 0.2621719</td><td> 0.3075217</td><td> 1.1791512</td><td>-2.0028988</td><td>-0.92844772</td><td>-0.4594058</td><td>-0.03446098</td><td>-0.07336701</td><td> 0.7585264</td><td>-0.26133142</td><td>-0.06969975</td><td> 0.85020459</td><td>-0.6177279</td><td>-2.1685618</td><td> 0.382154613</td><td>-0.16886171</td><td> 0.4754943</td><td>-0.2700024</td><td> 1.1525674</td><td> 2.1050952</td><td>non functional</td></tr>\n",
       "\t<tr><th scope=row>49600</th><td> 2.8895709</td><td>-1.3449811</td><td> 1.5704716</td><td>-2.6710111</td><td> 5.1572792</td><td> 2.4468786</td><td> 0.8477324</td><td>-0.6123600</td><td> 3.8385666</td><td> 0.02933881</td><td> 1.6127331</td><td>-1.39008639</td><td>-0.38380520</td><td> 3.0587699</td><td>-1.20423356</td><td> 0.14503649</td><td> 0.06311228</td><td> 0.2031535</td><td>-0.3085020</td><td> 3.808372018</td><td>-2.59026939</td><td>-3.1129080</td><td>-5.6568288</td><td>-0.1865847</td><td> 0.2855469</td><td>non functional</td></tr>\n",
       "\t<tr><th scope=row>54596</th><td>-3.9195319</td><td> 0.3854242</td><td>-0.9523399</td><td> 0.3674390</td><td>-0.7025876</td><td> 0.8253099</td><td> 0.2039055</td><td>-0.5110381</td><td>-0.3265390</td><td>-0.63841402</td><td>-0.1653484</td><td> 0.59782315</td><td> 1.27262209</td><td> 0.3879825</td><td> 0.44473869</td><td>-0.12838017</td><td>-0.82586676</td><td> 0.5960112</td><td> 2.0741863</td><td>-0.889914827</td><td>-0.75289971</td><td>-2.3879045</td><td>-3.1444609</td><td>-0.7555036</td><td>-1.4674581</td><td>functional    </td></tr>\n",
       "\t<tr><th scope=row>28119</th><td> 3.3991336</td><td> 0.3486686</td><td> 0.3068546</td><td>-0.2447175</td><td> 0.3414236</td><td>-1.7320421</td><td>-0.7848755</td><td> 0.8481176</td><td>-0.5334513</td><td> 0.42935324</td><td> 0.4819838</td><td> 2.50725184</td><td> 0.03322591</td><td>-0.6044460</td><td>-0.57659246</td><td> 0.28811741</td><td> 0.61820798</td><td>-0.5079180</td><td> 0.4954165</td><td>-0.001210976</td><td>-0.12084959</td><td>-0.3928383</td><td> 0.4876881</td><td> 0.4145130</td><td>-0.6054287</td><td>functional    </td></tr>\n",
       "\t<tr><th scope=row>43196</th><td> 1.2932197</td><td> 1.1820415</td><td> 0.5495203</td><td> 0.9632557</td><td> 0.3847366</td><td> 2.2715793</td><td>-2.4818002</td><td> 1.1651329</td><td> 0.2741389</td><td>-0.49370076</td><td> 0.7721597</td><td>-1.16407783</td><td> 0.67734941</td><td>-0.2117507</td><td> 0.06053791</td><td> 0.04268399</td><td> 0.15245463</td><td> 0.5437075</td><td> 2.0314938</td><td> 1.092532598</td><td>-0.02178361</td><td>-0.9041785</td><td> 2.6810126</td><td> 2.0329226</td><td> 0.8045137</td><td>functional    </td></tr>\n",
       "</tbody>\n",
       "</table>\n"
      ],
      "text/latex": [
       "A data.frame: 6 × 26\n",
       "\\begin{tabular}{r|llllllllllllllllllllllllll}\n",
       "  & PC1 & PC10 & PC11 & PC12 & PC13 & PC14 & PC15 & PC16 & PC17 & PC18 & PC19 & PC2 & PC20 & PC21 & PC22 & PC23 & PC24 & PC25 & PC3 & PC4 & PC5 & PC6 & PC7 & PC8 & PC9 & status\\_group\\\\\n",
       "  & <dbl> & <dbl> & <dbl> & <dbl> & <dbl> & <dbl> & <dbl> & <dbl> & <dbl> & <dbl> & <dbl> & <dbl> & <dbl> & <dbl> & <dbl> & <dbl> & <dbl> & <dbl> & <dbl> & <dbl> & <dbl> & <dbl> & <dbl> & <dbl> & <dbl> & <fct>\\\\\n",
       "\\hline\n",
       "\t42500 &  2.0650709 &  0.6657258 & -0.4946925 &  2.1653761 &  0.4020257 & -1.1448786 & -0.1304074 &  0.8216918 &  0.8912444 &  0.46180073 & -0.2364658 &  1.28598200 & -0.70637707 & -1.5109322 &  0.06733030 & -0.06488377 & -1.85280317 &  3.4818701 & -2.8547696 & -0.445384983 &  4.80793558 & -1.5289399 &  1.8440529 & -1.7571245 &  1.5681639 & functional    \\\\\n",
       "\t36826 &  0.9488555 &  0.7581389 & -0.7667154 &  0.4291154 & -0.3046899 &  0.2621719 &  0.3075217 &  1.1791512 & -2.0028988 & -0.92844772 & -0.4594058 & -0.03446098 & -0.07336701 &  0.7585264 & -0.26133142 & -0.06969975 &  0.85020459 & -0.6177279 & -2.1685618 &  0.382154613 & -0.16886171 &  0.4754943 & -0.2700024 &  1.1525674 &  2.1050952 & non functional\\\\\n",
       "\t49600 &  2.8895709 & -1.3449811 &  1.5704716 & -2.6710111 &  5.1572792 &  2.4468786 &  0.8477324 & -0.6123600 &  3.8385666 &  0.02933881 &  1.6127331 & -1.39008639 & -0.38380520 &  3.0587699 & -1.20423356 &  0.14503649 &  0.06311228 &  0.2031535 & -0.3085020 &  3.808372018 & -2.59026939 & -3.1129080 & -5.6568288 & -0.1865847 &  0.2855469 & non functional\\\\\n",
       "\t54596 & -3.9195319 &  0.3854242 & -0.9523399 &  0.3674390 & -0.7025876 &  0.8253099 &  0.2039055 & -0.5110381 & -0.3265390 & -0.63841402 & -0.1653484 &  0.59782315 &  1.27262209 &  0.3879825 &  0.44473869 & -0.12838017 & -0.82586676 &  0.5960112 &  2.0741863 & -0.889914827 & -0.75289971 & -2.3879045 & -3.1444609 & -0.7555036 & -1.4674581 & functional    \\\\\n",
       "\t28119 &  3.3991336 &  0.3486686 &  0.3068546 & -0.2447175 &  0.3414236 & -1.7320421 & -0.7848755 &  0.8481176 & -0.5334513 &  0.42935324 &  0.4819838 &  2.50725184 &  0.03322591 & -0.6044460 & -0.57659246 &  0.28811741 &  0.61820798 & -0.5079180 &  0.4954165 & -0.001210976 & -0.12084959 & -0.3928383 &  0.4876881 &  0.4145130 & -0.6054287 & functional    \\\\\n",
       "\t43196 &  1.2932197 &  1.1820415 &  0.5495203 &  0.9632557 &  0.3847366 &  2.2715793 & -2.4818002 &  1.1651329 &  0.2741389 & -0.49370076 &  0.7721597 & -1.16407783 &  0.67734941 & -0.2117507 &  0.06053791 &  0.04268399 &  0.15245463 &  0.5437075 &  2.0314938 &  1.092532598 & -0.02178361 & -0.9041785 &  2.6810126 &  2.0329226 &  0.8045137 & functional    \\\\\n",
       "\\end{tabular}\n"
      ],
      "text/markdown": [
       "\n",
       "A data.frame: 6 × 26\n",
       "\n",
       "| <!--/--> | PC1 &lt;dbl&gt; | PC10 &lt;dbl&gt; | PC11 &lt;dbl&gt; | PC12 &lt;dbl&gt; | PC13 &lt;dbl&gt; | PC14 &lt;dbl&gt; | PC15 &lt;dbl&gt; | PC16 &lt;dbl&gt; | PC17 &lt;dbl&gt; | PC18 &lt;dbl&gt; | PC19 &lt;dbl&gt; | PC2 &lt;dbl&gt; | PC20 &lt;dbl&gt; | PC21 &lt;dbl&gt; | PC22 &lt;dbl&gt; | PC23 &lt;dbl&gt; | PC24 &lt;dbl&gt; | PC25 &lt;dbl&gt; | PC3 &lt;dbl&gt; | PC4 &lt;dbl&gt; | PC5 &lt;dbl&gt; | PC6 &lt;dbl&gt; | PC7 &lt;dbl&gt; | PC8 &lt;dbl&gt; | PC9 &lt;dbl&gt; | status_group &lt;fct&gt; |\n",
       "|---|---|---|---|---|---|---|---|---|---|---|---|---|---|---|---|---|---|---|---|---|---|---|---|---|---|---|\n",
       "| 42500 |  2.0650709 |  0.6657258 | -0.4946925 |  2.1653761 |  0.4020257 | -1.1448786 | -0.1304074 |  0.8216918 |  0.8912444 |  0.46180073 | -0.2364658 |  1.28598200 | -0.70637707 | -1.5109322 |  0.06733030 | -0.06488377 | -1.85280317 |  3.4818701 | -2.8547696 | -0.445384983 |  4.80793558 | -1.5289399 |  1.8440529 | -1.7571245 |  1.5681639 | functional     |\n",
       "| 36826 |  0.9488555 |  0.7581389 | -0.7667154 |  0.4291154 | -0.3046899 |  0.2621719 |  0.3075217 |  1.1791512 | -2.0028988 | -0.92844772 | -0.4594058 | -0.03446098 | -0.07336701 |  0.7585264 | -0.26133142 | -0.06969975 |  0.85020459 | -0.6177279 | -2.1685618 |  0.382154613 | -0.16886171 |  0.4754943 | -0.2700024 |  1.1525674 |  2.1050952 | non functional |\n",
       "| 49600 |  2.8895709 | -1.3449811 |  1.5704716 | -2.6710111 |  5.1572792 |  2.4468786 |  0.8477324 | -0.6123600 |  3.8385666 |  0.02933881 |  1.6127331 | -1.39008639 | -0.38380520 |  3.0587699 | -1.20423356 |  0.14503649 |  0.06311228 |  0.2031535 | -0.3085020 |  3.808372018 | -2.59026939 | -3.1129080 | -5.6568288 | -0.1865847 |  0.2855469 | non functional |\n",
       "| 54596 | -3.9195319 |  0.3854242 | -0.9523399 |  0.3674390 | -0.7025876 |  0.8253099 |  0.2039055 | -0.5110381 | -0.3265390 | -0.63841402 | -0.1653484 |  0.59782315 |  1.27262209 |  0.3879825 |  0.44473869 | -0.12838017 | -0.82586676 |  0.5960112 |  2.0741863 | -0.889914827 | -0.75289971 | -2.3879045 | -3.1444609 | -0.7555036 | -1.4674581 | functional     |\n",
       "| 28119 |  3.3991336 |  0.3486686 |  0.3068546 | -0.2447175 |  0.3414236 | -1.7320421 | -0.7848755 |  0.8481176 | -0.5334513 |  0.42935324 |  0.4819838 |  2.50725184 |  0.03322591 | -0.6044460 | -0.57659246 |  0.28811741 |  0.61820798 | -0.5079180 |  0.4954165 | -0.001210976 | -0.12084959 | -0.3928383 |  0.4876881 |  0.4145130 | -0.6054287 | functional     |\n",
       "| 43196 |  1.2932197 |  1.1820415 |  0.5495203 |  0.9632557 |  0.3847366 |  2.2715793 | -2.4818002 |  1.1651329 |  0.2741389 | -0.49370076 |  0.7721597 | -1.16407783 |  0.67734941 | -0.2117507 |  0.06053791 |  0.04268399 |  0.15245463 |  0.5437075 |  2.0314938 |  1.092532598 | -0.02178361 | -0.9041785 |  2.6810126 |  2.0329226 |  0.8045137 | functional     |\n",
       "\n"
      ],
      "text/plain": [
       "      PC1        PC10       PC11       PC12       PC13       PC14      \n",
       "42500  2.0650709  0.6657258 -0.4946925  2.1653761  0.4020257 -1.1448786\n",
       "36826  0.9488555  0.7581389 -0.7667154  0.4291154 -0.3046899  0.2621719\n",
       "49600  2.8895709 -1.3449811  1.5704716 -2.6710111  5.1572792  2.4468786\n",
       "54596 -3.9195319  0.3854242 -0.9523399  0.3674390 -0.7025876  0.8253099\n",
       "28119  3.3991336  0.3486686  0.3068546 -0.2447175  0.3414236 -1.7320421\n",
       "43196  1.2932197  1.1820415  0.5495203  0.9632557  0.3847366  2.2715793\n",
       "      PC15       PC16       PC17       PC18        PC19       PC2        \n",
       "42500 -0.1304074  0.8216918  0.8912444  0.46180073 -0.2364658  1.28598200\n",
       "36826  0.3075217  1.1791512 -2.0028988 -0.92844772 -0.4594058 -0.03446098\n",
       "49600  0.8477324 -0.6123600  3.8385666  0.02933881  1.6127331 -1.39008639\n",
       "54596  0.2039055 -0.5110381 -0.3265390 -0.63841402 -0.1653484  0.59782315\n",
       "28119 -0.7848755  0.8481176 -0.5334513  0.42935324  0.4819838  2.50725184\n",
       "43196 -2.4818002  1.1651329  0.2741389 -0.49370076  0.7721597 -1.16407783\n",
       "      PC20        PC21       PC22        PC23        PC24        PC25      \n",
       "42500 -0.70637707 -1.5109322  0.06733030 -0.06488377 -1.85280317  3.4818701\n",
       "36826 -0.07336701  0.7585264 -0.26133142 -0.06969975  0.85020459 -0.6177279\n",
       "49600 -0.38380520  3.0587699 -1.20423356  0.14503649  0.06311228  0.2031535\n",
       "54596  1.27262209  0.3879825  0.44473869 -0.12838017 -0.82586676  0.5960112\n",
       "28119  0.03322591 -0.6044460 -0.57659246  0.28811741  0.61820798 -0.5079180\n",
       "43196  0.67734941 -0.2117507  0.06053791  0.04268399  0.15245463  0.5437075\n",
       "      PC3        PC4          PC5         PC6        PC7        PC8       \n",
       "42500 -2.8547696 -0.445384983  4.80793558 -1.5289399  1.8440529 -1.7571245\n",
       "36826 -2.1685618  0.382154613 -0.16886171  0.4754943 -0.2700024  1.1525674\n",
       "49600 -0.3085020  3.808372018 -2.59026939 -3.1129080 -5.6568288 -0.1865847\n",
       "54596  2.0741863 -0.889914827 -0.75289971 -2.3879045 -3.1444609 -0.7555036\n",
       "28119  0.4954165 -0.001210976 -0.12084959 -0.3928383  0.4876881  0.4145130\n",
       "43196  2.0314938  1.092532598 -0.02178361 -0.9041785  2.6810126  2.0329226\n",
       "      PC9        status_group  \n",
       "42500  1.5681639 functional    \n",
       "36826  2.1050952 non functional\n",
       "49600  0.2855469 non functional\n",
       "54596 -1.4674581 functional    \n",
       "28119 -0.6054287 functional    \n",
       "43196  0.8045137 functional    "
      ]
     },
     "metadata": {},
     "output_type": "display_data"
    },
    {
     "name": "stdout",
     "output_type": "stream",
     "text": [
      "             PC1         PC2          PC3        PC4        PC5         PC6\n",
      "42500 -1.0158533  1.72184389  0.442224108  0.6743654 -0.8924181  0.07277876\n",
      "36826 -0.3073428 -0.63670550 -0.009976138  0.6237301  0.8719080 -0.39815690\n",
      "49600  1.9910169  1.14385155 -1.391772557  2.6983375 -2.0639403 -3.44090941\n",
      "54596  2.8119925 -0.50064306  0.140223200 -0.6105466  0.3260576  0.69296159\n",
      "28119 -0.1970631  0.02864245  0.422022059  0.2631927 -0.2755116 -0.57795922\n",
      "43196  0.1040979  1.45551757 -0.875971943 -0.7648679 -0.3683957  0.89600157\n",
      "               PC7         PC8         PC9         PC10       PC11       PC12\n",
      "42500  1.268133891  0.73381147 -2.10286845 -0.852759338 -1.8011222  0.1166165\n",
      "36826  0.530812172  0.22675121  0.06573028  0.006613268 -1.3909042 -0.2919732\n",
      "49600  0.008639652  0.12142838 -0.14971856  1.282220799  3.4381305  0.4344511\n",
      "54596  0.087277774 -0.07786271 -0.28245130  1.671876748  0.4839874 -0.4287213\n",
      "28119 -0.292642923  0.23571549  1.15918418 -0.699179798 -0.8694952 -1.0419726\n",
      "43196  2.487115238  1.48691820  0.51289032 -0.709342774 -0.2357878 -0.1474994\n",
      "             PC13       PC14        PC15       PC16       PC17       PC18\n",
      "42500  0.04312219  0.8660598  0.87059897  0.3683491 -0.1140813 -2.1048199\n",
      "36826  1.17325611 -0.1403795 -0.04073750  0.3895220  0.8584073  1.4629358\n",
      "49600  0.98733827 -0.2513629 -1.97763288 -1.5149662  0.8188975 -1.1012171\n",
      "54596 -0.31482555 -0.4515704  0.45270458 -1.4020870  0.0976529 -0.2059898\n",
      "28119 -1.23892114 -0.6010599  0.01800494  0.9229564 -0.4220859 -0.5725405\n",
      "43196  0.36021796 -0.3055259 -0.89122073  0.5306671 -0.4882425  0.1381214\n",
      "             PC19        PC20   status_group\n",
      "42500 -0.43499137 -1.50753135     functional\n",
      "36826  0.26576402  0.43796085 non functional\n",
      "49600  0.43575694  3.50947949 non functional\n",
      "54596  0.07311531 -0.41085404     functional\n",
      "28119 -0.00942354  0.51822103     functional\n",
      "43196  0.55213525 -0.05634869     functional\n",
      "             PC1         PC2          PC3        PC4        PC5         PC6\n",
      "42500 -1.0158533  1.72184389  0.442224108  0.6743654 -0.8924181  0.07277876\n",
      "36826 -0.3073428 -0.63670550 -0.009976138  0.6237301  0.8719080 -0.39815690\n",
      "49600  1.9910169  1.14385155 -1.391772557  2.6983375 -2.0639403 -3.44090941\n",
      "54596  2.8119925 -0.50064306  0.140223200 -0.6105466  0.3260576  0.69296159\n",
      "28119 -0.1970631  0.02864245  0.422022059  0.2631927 -0.2755116 -0.57795922\n",
      "43196  0.1040979  1.45551757 -0.875971943 -0.7648679 -0.3683957  0.89600157\n",
      "               PC7         PC8         PC9         PC10       PC11       PC12\n",
      "42500  1.268133891  0.73381147 -2.10286845 -0.852759338 -1.8011222  0.1166165\n",
      "36826  0.530812172  0.22675121  0.06573028  0.006613268 -1.3909042 -0.2919732\n",
      "49600  0.008639652  0.12142838 -0.14971856  1.282220799  3.4381305  0.4344511\n",
      "54596  0.087277774 -0.07786271 -0.28245130  1.671876748  0.4839874 -0.4287213\n",
      "28119 -0.292642923  0.23571549  1.15918418 -0.699179798 -0.8694952 -1.0419726\n",
      "43196  2.487115238  1.48691820  0.51289032 -0.709342774 -0.2357878 -0.1474994\n",
      "             PC13       PC14        PC15       PC16       PC17       PC18\n",
      "42500  0.04312219  0.8660598  0.87059897  0.3683491 -0.1140813 -2.1048199\n",
      "36826  1.17325611 -0.1403795 -0.04073750  0.3895220  0.8584073  1.4629358\n",
      "49600  0.98733827 -0.2513629 -1.97763288 -1.5149662  0.8188975 -1.1012171\n",
      "54596 -0.31482555 -0.4515704  0.45270458 -1.4020870  0.0976529 -0.2059898\n",
      "28119 -1.23892114 -0.6010599  0.01800494  0.9229564 -0.4220859 -0.5725405\n",
      "43196  0.36021796 -0.3055259 -0.89122073  0.5306671 -0.4882425  0.1381214\n",
      "             PC19        PC20   status_group\n",
      "42500 -0.43499137 -1.50753135     functional\n",
      "36826  0.26576402  0.43796085 non functional\n",
      "49600  0.43575694  3.50947949 non functional\n",
      "54596  0.07311531 -0.41085404     functional\n",
      "28119 -0.00942354  0.51822103     functional\n",
      "43196  0.55213525 -0.05634869     functional\n"
     ]
    },
    {
     "data": {
      "image/png": "[encoded data removed]",
      "text/plain": [
       "Plot with title \"Scree Plot\""
      ]
     },
     "metadata": {
      "image/png": {
       "height": 420,
       "width": 420
      }
     },
     "output_type": "display_data"
    }
   ],
   "source": [
    "library(dummies)\n",
    "load(file = \"data_preproc.Rdata\")\n",
    "\n",
    "#for (i in 1:CV_folds) {\n",
    "#}\n",
    "#X<-data_preprocessed[,setdiff(colnames(data_preprocessed),\"imdb_score\")]\n",
    "\n",
    "data_preproc_onehot <- dummy.data.frame(data_preproc, sep=\"_\")\n",
    "colnames(data_preproc_onehot) <- gsub(colnames(data_preproc_onehot),pattern = \" \", replacement = \"_\")\n",
    "targets <- c(\"status_group_functional\",\"status_group_functional_needs_repair\",\"status_group_non_functional\")\n",
    "X <- data_preproc_onehot[,setdiff(colnames(data_preproc_onehot),targets)]\n",
    "#X<- subset(as.data.frame(data_preproc),select=-c(targets[1]))\n",
    "#X<-data_preproc_onehot[,setdiff(colnames(data_preproc_onehot),targets[1])]\n",
    "head(data_preproc)\n",
    "\n",
    "#head(Y)\n",
    "\n",
    "for (target in targets) {\n",
    "    Y <- data_preproc_onehot[,target]\n",
    "    names(Y)[length(names(Y))]<- target\n",
    "    #pca(X,Y)\n",
    "}\n",
    "X_pca <- pca2(data_preproc)\n",
    "train <- pca2_select(data_preproc,X_pca,20)\n",
    "test <- pca2_select(data_preproc,X_pca,20)\n",
    "\n",
    "#test <- predict(X_pca, newdata =data_preproc_onehot[,setdiff(colnames(data_preproc_onehot),\"status_group\")])[,1:20]\n",
    "#tt <- predict(X_pca) # the standard way\n",
    "#print(head(tt))\n",
    "#tt3 <- predict(X_pca)[,1:3]\n",
    "print(head(train))\n",
    "print(head(test))\n",
    "#X_pca <- X_pca[,1:nb_components]\n",
    "#print(X_pca)\n",
    "#X <- subset(df,select=-c(status_group))\n",
    "#data <- subset(data,select=-c(status_group))\n",
    "#print(colnames(X))\n",
    "#X<-data_preprocessed[,setdiff(colnames(data_preprocessed),\"imdb_score\")]\n",
    "#Y<-as.data.frame(data_preproc[,\"status_group\"])\n",
    "#head(Y)\n",
    "#head(data_preproc)\n",
    "#Y <- as.data.frame(dummy.data.frame(subset(as.data.frame(data_preproc),select=c(status_group)),names=c(\"status_group\"), sep=\"_\"))\n",
    "#print(head(dum))\n",
    "#data_preproc<-cbind(X,Y)\n",
    "#head(data_preproc)\n"
   ]
  },
  {
   "cell_type": "markdown",
   "metadata": {},
   "source": [
    "# Call the preprocessing functions"
   ]
  },
  {
   "cell_type": "code",
   "execution_count": 180,
   "metadata": {},
   "outputs": [],
   "source": [
    "preprocess_training <- function(df) {\n",
    "    df <- remove_redundant_features(df)\n",
    "    #df <- create_over_sampling_dataset(df)\n",
    "    df <- create_smote_dataset(df)\n",
    "    df <- remove_useless_features(df)\n",
    "    df <- create_binary_features(df)\n",
    "    df <- convert_date_to_numeric(df)\n",
    "    df <- convert_installer_to_binary(df)\n",
    "    df <- discard_unrealistic_coordinates(df)\n",
    "    df <- generate_regions(df)\n",
    "    df <- remove_features_many_levels(df)\n",
    "    df <- one_hot_encoding_training(df)\n",
    "    colnames(df) <- gsub(colnames(df),pattern = \" \", replacement = \"_\")\n",
    "    df_no_status <- get_k_mrmr_variables(df,100)\n",
    "    df_no_status <- subset(df_no_status,select=-c(status_group))\n",
    "    df_ordered <- df_no_status[,order(names(df_no_status))]\n",
    "    #print(head(df_ordered))\n",
    "    df <- cbind(df_ordered,subset(df,select=c(status_group)))\n",
    "    write(colnames(subset(df,select=-c(status_group))),\"features.txt\")\n",
    "    return(df)\n",
    "}"
   ]
  },
  {
   "cell_type": "code",
   "execution_count": 35,
   "metadata": {},
   "outputs": [],
   "source": [
    "preprocess_training2 <- function(df) {\n",
    "    df <- remove_redundant_features(df)\n",
    "    #df <- create_over_sampling_dataset(df)\n",
    "    \n",
    "    df <- remove_useless_features(df)\n",
    "    df <- create_binary_features(df)\n",
    "    df <- convert_date_to_numeric(df)\n",
    "    df <- convert_installer_to_binary(df)\n",
    "    df <- discard_unrealistic_coordinates(df)\n",
    "    df <- generate_regions(df)\n",
    "    df <- remove_features_many_levels(df)\n",
    "    df <- one_hot_encoding_training(df)\n",
    "    #df <- create_smote_dataset(df)\n",
    "    colnames(df) <- gsub(colnames(df),pattern = \" \", replacement = \"_\")\n",
    "    df <- df[,order(colnames(df))]\n",
    "    write(colnames(subset(df,select=-c(status_group))),\"features.txt\")\n",
    "    print(head(df))\n",
    "    #df_no_status <- pca2(df,25)\n",
    "    X_pca <- pca2(df)\n",
    "    save(X_pca, file = \"X_pca.Rdata\")\n",
    "    df_no_status <- pca2_select(df,X_pca,100)\n",
    "    \n",
    "    #df_no_status <- subset(df_no_status,select=-c(status_group))\n",
    "    df_ordered <- df_no_status[,order(colnames(df_no_status))]\n",
    "\n",
    "    df <- cbind(df_ordered,subset(df,select=c(status_group)))\n",
    "    \n",
    "    return(df)\n",
    "}"
   ]
  },
  {
   "cell_type": "code",
   "execution_count": 207,
   "metadata": {},
   "outputs": [],
   "source": [
    "preprocess_test <- function(df) {\n",
    "    df <- remove_useless_features(df)\n",
    "    df <- convert_date_to_numeric(df)\n",
    "    df <- discard_unrealistic_coordinates(df)\n",
    "    df <- set_existing_regions(df)\n",
    "    df <- remove_features_many_levels(df)\n",
    "    df <- one_hot_encoding_test(df)\n",
    "    colnames(df) <- gsub(colnames(df),pattern = \" \", replacement = \"_\")\n",
    "    features_list <- scan(\"features.txt\",what = \" \")\n",
    "    column_names <- colnames(df)\n",
    "    #Removing all columns that did not appear in training\n",
    "    cols_to_remove <- c()\n",
    "    for(c in 1:ncol(df)) {\n",
    "        if(!(column_names[c] %in% features_list)) {\n",
    "            #print(column_names[c])\n",
    "            cols_to_remove <- c(cols_to_remove,c)\n",
    "        }\n",
    "    }\n",
    "    df <- df[,-cols_to_remove]\n",
    "    \n",
    "    #Adding empty columns for missing features\n",
    "    test_columns <- colnames(df)\n",
    "    for(c in 1:length(features_list)) {\n",
    "        if(!(features_list[c] %in% test_columns)) {\n",
    "            #print(features_list[c])\n",
    "            df[,features_list[c]] = 0\n",
    "        }\n",
    "    }\n",
    "    df <- df[,order(names(df))]\n",
    "    return(df)\n",
    "}"
   ]
  },
  {
   "cell_type": "code",
   "execution_count": 36,
   "metadata": {},
   "outputs": [],
   "source": [
    "preprocess_test2 <- function(df) {\n",
    "    df <- remove_useless_features(df)\n",
    "    df <- convert_date_to_numeric(df)\n",
    "    #df <- discard_unrealistic_coordinates(df)\n",
    "    df <- set_existing_regions(df)\n",
    "    df <- remove_features_many_levels(df)\n",
    "    df <- one_hot_encoding_test(df)\n",
    "    colnames(df) <- gsub(colnames(df),pattern = \" \", replacement = \"_\")\n",
    "    features_list <- scan(\"features.txt\",what = \" \")\n",
    "    column_names <- colnames(df)\n",
    "    #Removing all columns that did not appear in training\n",
    "    cols_to_remove <- c()\n",
    "    for(c in 1:ncol(df)) {\n",
    "        if(!(column_names[c] %in% features_list)) {\n",
    "            #print(column_names[c])\n",
    "            cols_to_remove <- c(cols_to_remove,c)\n",
    "        }\n",
    "    }\n",
    "    df <- df[,-cols_to_remove]\n",
    "    \n",
    "    #Adding empty columns for missing features\n",
    "    test_columns <- colnames(df)\n",
    "    for(c in 1:length(features_list)) {\n",
    "        if(!(features_list[c] %in% test_columns)) {\n",
    "            #print(features_list[c])\n",
    "            df[,features_list[c]] = 0\n",
    "        }\n",
    "    }\n",
    "    df <- df[,order(names(df))]\n",
    "    \n",
    "    print(head(df))\n",
    "\n",
    "    load(file = \"X_pca.Rdata\")\n",
    "    df_no_status <- pca2_select(df,X_pca,100)\n",
    "    df_ordered <- df_no_status[,order(colnames(df_no_status))]\n",
    "\n",
    "   # df_no_status <- subset(df_no_status,select=-c(status_group))\n",
    "    #df_ordered <- df_no_status[,order(colnames(df_no_status))]\n",
    "\n",
    "    return(df_ordered)\n",
    "}"
   ]
  },
  {
   "cell_type": "code",
   "execution_count": 39,
   "metadata": {
    "scrolled": true
   },
   "outputs": [
    {
     "name": "stderr",
     "output_type": "stream",
     "text": [
      "Warning message in model.matrix.default(~x - 1, model.frame(~x - 1), contrasts = FALSE):\n",
      "\"non-list contrasts argument ignored\"\n",
      "Warning message in model.matrix.default(~x - 1, model.frame(~x - 1), contrasts = FALSE):\n",
      "\"non-list contrasts argument ignored\"\n",
      "Warning message in model.matrix.default(~x - 1, model.frame(~x - 1), contrasts = FALSE):\n",
      "\"non-list contrasts argument ignored\"\n",
      "Warning message in model.matrix.default(~x - 1, model.frame(~x - 1), contrasts = FALSE):\n",
      "\"non-list contrasts argument ignored\"\n",
      "Warning message in model.matrix.default(~x - 1, model.frame(~x - 1), contrasts = FALSE):\n",
      "\"non-list contrasts argument ignored\"\n",
      "Warning message in model.matrix.default(~x - 1, model.frame(~x - 1), contrasts = FALSE):\n",
      "\"non-list contrasts argument ignored\"\n",
      "Warning message in model.matrix.default(~x - 1, model.frame(~x - 1), contrasts = FALSE):\n",
      "\"non-list contrasts argument ignored\"\n",
      "Warning message in model.matrix.default(~x - 1, model.frame(~x - 1), contrasts = FALSE):\n",
      "\"non-list contrasts argument ignored\"\n",
      "Warning message in model.matrix.default(~x - 1, model.frame(~x - 1), contrasts = FALSE):\n",
      "\"non-list contrasts argument ignored\"\n",
      "Warning message in model.matrix.default(~x - 1, model.frame(~x - 1), contrasts = FALSE):\n",
      "\"non-list contrasts argument ignored\"\n",
      "Warning message in model.matrix.default(~x - 1, model.frame(~x - 1), contrasts = FALSE):\n",
      "\"non-list contrasts argument ignored\"\n",
      "Warning message in model.matrix.default(~x - 1, model.frame(~x - 1), contrasts = FALSE):\n",
      "\"non-list contrasts argument ignored\"\n"
     ]
    },
    {
     "name": "stdout",
     "output_type": "stream",
     "text": [
      "  amount_tsh basin_Internal basin_Lake_Nyasa basin_Lake_Rukwa\n",
      "2          0              0                0                0\n",
      "3          0              0                0                0\n",
      "4         10              0                0                0\n",
      "5          0              0                0                0\n",
      "6         50              0                0                0\n",
      "7          0              1                0                0\n",
      "  basin_Lake_Tanganyika basin_Lake_Victoria basin_Pangani basin_Rufiji\n",
      "2                     0                   0             0            1\n",
      "3                     0                   0             0            0\n",
      "4                     0                   0             1            0\n",
      "5                     0                   0             0            0\n",
      "6                     0                   0             0            0\n",
      "7                     0                   0             0            0\n",
      "  basin_Ruvuma_/_Southern_Coast basin_Wami_/_Ruvu construction_year\n",
      "2                             0                 0              2008\n",
      "3                             0                 1                 0\n",
      "4                             0                 0              1999\n",
      "5                             0                 1                 0\n",
      "6                             0                 1                 0\n",
      "7                             0                 0                 0\n",
      "  date_recorded district_code extraction_type_class_gravity\n",
      "2         15038             4                             0\n",
      "3         15060             4                             0\n",
      "4         15859             5                             1\n",
      "5         15055             4                             0\n",
      "6         15031            43                             0\n",
      "7         15633             3                             0\n",
      "  extraction_type_class_handpump extraction_type_class_motorpump\n",
      "2                              0                               0\n",
      "3                              0                               1\n",
      "4                              0                               0\n",
      "5                              1                               0\n",
      "6                              0                               0\n",
      "7                              0                               0\n",
      "  extraction_type_class_other extraction_type_class_rope_pump\n",
      "2                           0                               1\n",
      "3                           0                               0\n",
      "4                           0                               0\n",
      "5                           0                               0\n",
      "6                           0                               0\n",
      "7                           1                               0\n",
      "  extraction_type_class_submersible extraction_type_class_wind-powered\n",
      "2                                 0                                  0\n",
      "3                                 0                                  0\n",
      "4                                 0                                  0\n",
      "5                                 0                                  0\n",
      "6                                 1                                  0\n",
      "7                                 0                                  0\n",
      "  extraction_type_group_afridev extraction_type_group_gravity\n",
      "2                             0                             0\n",
      "3                             0                             0\n",
      "4                             0                             1\n",
      "5                             0                             0\n",
      "6                             0                             0\n",
      "7                             0                             0\n",
      "  extraction_type_group_india_mark_ii extraction_type_group_india_mark_iii\n",
      "2                                   0                                    0\n",
      "3                                   0                                    0\n",
      "4                                   0                                    0\n",
      "5                                   0                                    0\n",
      "6                                   0                                    0\n",
      "7                                   0                                    0\n",
      "  extraction_type_group_mono extraction_type_group_nira/tanira\n",
      "2                          0                                 0\n",
      "3                          1                                 0\n",
      "4                          0                                 0\n",
      "5                          0                                 1\n",
      "6                          0                                 0\n",
      "7                          0                                 0\n",
      "  extraction_type_group_other extraction_type_group_other_handpump\n",
      "2                           0                                    0\n",
      "3                           0                                    0\n",
      "4                           0                                    0\n",
      "5                           0                                    0\n",
      "6                           0                                    0\n",
      "7                           1                                    0\n",
      "  extraction_type_group_other_motorpump extraction_type_group_rope_pump\n",
      "2                                     0                               1\n",
      "3                                     0                               0\n",
      "4                                     0                               0\n",
      "5                                     0                               0\n",
      "6                                     0                               0\n",
      "7                                     0                               0\n",
      "  extraction_type_group_submersible extraction_type_group_swn_80\n",
      "2                                 0                            0\n",
      "3                                 0                            0\n",
      "4                                 0                            0\n",
      "5                                 0                            0\n",
      "6                                 1                            0\n",
      "7                                 0                            0\n",
      "  extraction_type_group_wind-powered gps_height id installer lga_Arusha_Rural\n",
      "2                                  0       1978  1         0                0\n",
      "3                                  0          0  2         0                0\n",
      "4                                  0       1639  3         0                0\n",
      "5                                  0          0  4         0                0\n",
      "6                                  0         28  5         0                0\n",
      "7                                  0          0  6         0                0\n",
      "  lga_Babati lga_Bagamoyo lga_Bahi lga_Bariadi lga_Biharamulo lga_Bukoba_Rural\n",
      "2          0            0        0           0              0                0\n",
      "3          0            0        0           0              0                0\n",
      "4          0            0        0           0              0                0\n",
      "5          0            0        0           0              0                0\n",
      "6          0            0        0           0              0                0\n",
      "7          0            0        0           0              0                0\n",
      "  lga_Bukoba_Urban lga_Bukombe lga_Bunda lga_Chamwino lga_Chato lga_Chunya\n",
      "2                0           0         0            0         0          0\n",
      "3                0           0         0            1         0          0\n",
      "4                0           0         0            0         0          0\n",
      "5                0           0         0            1         0          0\n",
      "6                0           0         0            0         0          0\n",
      "7                0           0         0            0         0          0\n",
      "  lga_Dodoma_Urban lga_Hai lga_Hanang lga_Handeni lga_Igunga lga_Ilala\n",
      "2                0       0          0           0          0         0\n",
      "3                0       0          0           0          0         0\n",
      "4                0       1          0           0          0         0\n",
      "5                0       0          0           0          0         0\n",
      "6                0       0          0           0          0         0\n",
      "7                0       0          0           0          0         0\n",
      "  lga_Ileje lga_Ilemela lga_Iramba lga_Iringa_Rural lga_Kahama lga_Karagwe\n",
      "2         0           0          0                0          0           0\n",
      "3         0           0          0                0          0           0\n",
      "4         0           0          0                0          0           0\n",
      "5         0           0          0                0          0           0\n",
      "6         0           0          0                0          0           0\n",
      "7         0           0          0                0          0           0\n",
      "  lga_Karatu lga_Kasulu lga_Kibaha lga_Kibondo lga_Kigoma_Rural\n",
      "2          0          0          0           0                0\n",
      "3          0          0          0           0                0\n",
      "4          0          0          0           0                0\n",
      "5          0          0          0           0                0\n",
      "6          0          0          0           0                0\n",
      "7          0          0          0           0                0\n",
      "  lga_Kigoma_Urban lga_Kilindi lga_Kilolo lga_Kilombero lga_Kilosa lga_Kilwa\n",
      "2                0           0          0             0          0         0\n",
      "3                0           0          0             0          0         0\n",
      "4                0           0          0             0          0         0\n",
      "5                0           0          0             0          0         0\n",
      "6                0           0          0             0          0         0\n",
      "7                0           0          0             0          0         0\n",
      "  lga_Kinondoni lga_Kisarawe lga_Kishapu lga_Kiteto lga_Kondoa lga_Kongwa\n",
      "2             0            0           0          0          0          0\n",
      "3             0            0           0          0          0          0\n",
      "4             0            0           0          0          0          0\n",
      "5             0            0           0          0          0          0\n",
      "6             0            0           0          0          0          0\n",
      "7             0            0           0          0          0          0\n",
      "  lga_Korogwe lga_Kwimba lga_Kyela lga_Lindi_Rural lga_Lindi_Urban lga_Liwale\n",
      "2           0          0         0               0               0          0\n",
      "3           0          0         0               0               0          0\n",
      "4           0          0         0               0               0          0\n",
      "5           0          0         0               0               0          0\n",
      "6           0          0         0               0               0          0\n",
      "7           0          0         0               0               0          0\n",
      "  lga_Longido lga_Ludewa lga_Lushoto lga_Mafia lga_Magu lga_Makete lga_Manyoni\n",
      "2           0          0           0         0        0          0           0\n",
      "3           0          0           0         0        0          0           0\n",
      "4           0          0           0         0        0          0           0\n",
      "5           0          0           0         0        0          0           0\n",
      "6           0          0           0         0        0          0           0\n",
      "7           0          0           0         0        0          0           0\n",
      "  lga_Masasi lga_Maswa lga_Mbarali lga_Mbeya_Rural lga_Mbinga lga_Mbozi\n",
      "2          0         0           0               0          0         0\n",
      "3          0         0           0               0          0         0\n",
      "4          0         0           0               0          0         0\n",
      "5          0         0           0               0          0         0\n",
      "6          0         0           0               0          0         0\n",
      "7          0         0           0               0          0         0\n",
      "  lga_Mbulu lga_Meatu lga_Meru lga_Misenyi lga_Missungwi lga_Mkinga\n",
      "2         0         0        0           0             0          0\n",
      "3         0         0        0           0             0          0\n",
      "4         0         0        0           0             0          0\n",
      "5         0         0        0           0             0          0\n",
      "6         0         0        0           0             0          0\n",
      "7         0         0        0           0             0          0\n",
      "  lga_Mkuranga lga_Morogoro_Rural lga_Morogoro_Urban lga_Moshi_Rural\n",
      "2            0                  0                  0               0\n",
      "3            0                  0                  0               0\n",
      "4            0                  0                  0               0\n",
      "5            0                  0                  0               0\n",
      "6            1                  0                  0               0\n",
      "7            0                  0                  0               0\n",
      "  lga_Moshi_Urban lga_Mpanda lga_Mpwapwa lga_Mtwara_Rural lga_Mtwara_Urban\n",
      "2               0          0           0                0                0\n",
      "3               0          0           0                0                0\n",
      "4               0          0           0                0                0\n",
      "5               0          0           0                0                0\n",
      "6               0          0           0                0                0\n",
      "7               0          0           0                0                0\n",
      "  lga_Mufindi lga_Muheza lga_Muleba lga_Musoma_Rural lga_Mvomero lga_Mwanga\n",
      "2           0          0          0                0           0          0\n",
      "3           0          0          0                0           0          0\n",
      "4           0          0          0                0           0          0\n",
      "5           0          0          0                0           0          0\n",
      "6           0          0          0                0           0          0\n",
      "7           0          0          0                0           0          0\n",
      "  lga_Nachingwea lga_Namtumbo lga_Nanyumbu lga_Newala lga_Ngara lga_Ngorongoro\n",
      "2              0            0            0          0         0              0\n",
      "3              0            0            0          0         0              0\n",
      "4              0            0            0          0         0              0\n",
      "5              0            0            0          0         0              0\n",
      "6              0            0            0          0         0              0\n",
      "7              0            0            0          0         0              0\n",
      "  lga_Njombe lga_Nkasi lga_Nyamagana lga_Nzega lga_Pangani lga_Rombo lga_Rorya\n",
      "2          1         0             0         0           0         0         0\n",
      "3          0         0             0         0           0         0         0\n",
      "4          0         0             0         0           0         0         0\n",
      "5          0         0             0         0           0         0         0\n",
      "6          0         0             0         0           0         0         0\n",
      "7          0         0             0         0           0         0         0\n",
      "  lga_Ruangwa lga_Rufiji lga_Same lga_Sengerema lga_Serengeti\n",
      "2           0          0        0             0             0\n",
      "3           0          0        0             0             0\n",
      "4           0          0        0             0             0\n",
      "5           0          0        0             0             0\n",
      "6           0          0        0             0             0\n",
      "7           0          0        0             0             0\n",
      "  lga_Shinyanga_Rural lga_Shinyanga_Urban lga_Siha lga_Sikonge lga_Simanjiro\n",
      "2                   0                   0        0           0             0\n",
      "3                   0                   0        0           0             0\n",
      "4                   0                   0        0           0             0\n",
      "5                   0                   0        0           0             0\n",
      "6                   0                   0        0           0             0\n",
      "7                   1                   0        0           0             0\n",
      "  lga_Singida_Rural lga_Singida_Urban lga_Songea_Rural lga_Songea_Urban\n",
      "2                 0                 0                0                0\n",
      "3                 0                 0                0                0\n",
      "4                 0                 0                0                0\n",
      "5                 0                 0                0                0\n",
      "6                 0                 0                0                0\n",
      "7                 0                 0                0                0\n",
      "  lga_Sumbawanga_Rural lga_Sumbawanga_Urban lga_Tabora_Urban lga_Tandahimba\n",
      "2                    0                    0                0              0\n",
      "3                    0                    0                0              0\n",
      "4                    0                    0                0              0\n",
      "5                    0                    0                0              0\n",
      "6                    0                    0                0              0\n",
      "7                    0                    0                0              0\n",
      "  lga_Tanga lga_Tarime lga_Temeke lga_Tunduru lga_Ukerewe lga_Ulanga lga_Urambo\n",
      "2         0          0          0           0           0          0          0\n",
      "3         0          0          0           0           0          0          0\n",
      "4         0          0          0           0           0          0          0\n",
      "5         0          0          0           0           0          0          0\n",
      "6         0          0          0           0           0          0          0\n",
      "7         0          0          0           0           0          0          0\n",
      "  lga_Uyui management_company management_group_commercial\n",
      "2        0                  0                           0\n",
      "3        0                  0                           0\n",
      "4        0                  0                           0\n",
      "5        0                  0                           0\n",
      "6        0                  0                           1\n",
      "7        0                  0                           0\n",
      "  management_group_other management_group_parastatal management_group_unknown\n",
      "2                      0                           0                        0\n",
      "3                      0                           0                        0\n",
      "4                      0                           0                        0\n",
      "5                      0                           0                        0\n",
      "6                      0                           0                        0\n",
      "7                      0                           0                        0\n",
      "  management_group_user-group management_other management_other_-_school\n",
      "2                           1                0                         0\n",
      "3                           1                0                         0\n",
      "4                           1                0                         0\n",
      "5                           1                0                         0\n",
      "6                           0                0                         0\n",
      "7                           1                0                         0\n",
      "  management_parastatal management_private_operator management_trust\n",
      "2                     0                           0                0\n",
      "3                     0                           0                0\n",
      "4                     0                           0                0\n",
      "5                     0                           0                0\n",
      "6                     0                           1                0\n",
      "7                     0                           0                0\n",
      "  management_unknown management_vwc management_water_authority\n",
      "2                  0              1                          0\n",
      "3                  0              1                          0\n",
      "4                  0              0                          0\n",
      "5                  0              1                          0\n",
      "6                  0              0                          0\n",
      "7                  0              1                          0\n",
      "  management_water_board management_wua management_wug num_private\n",
      "2                      0              0              0           0\n",
      "3                      0              0              0           0\n",
      "4                      1              0              0           0\n",
      "5                      0              0              0           0\n",
      "6                      0              0              0           0\n",
      "7                      0              0              0           0\n",
      "  payment_type_annually payment_type_monthly payment_type_never_pay\n",
      "2                     0                    0                      1\n",
      "3                     0                    0                      0\n",
      "4                     0                    0                      0\n",
      "5                     0                    0                      0\n",
      "6                     0                    0                      0\n",
      "7                     0                    0                      1\n",
      "  payment_type_on_failure payment_type_other payment_type_per_bucket\n",
      "2                       0                  0                       0\n",
      "3                       0                  0                       1\n",
      "4                       0                  0                       1\n",
      "5                       0                  0                       0\n",
      "6                       0                  0                       1\n",
      "7                       0                  0                       0\n",
      "  payment_type_unknown permit population public_meeting quantity_dry\n",
      "2                    0      0         20              1            0\n",
      "3                    0      1          0              1            0\n",
      "4                    0      1         25              1            0\n",
      "5                    1      1          0              1            1\n",
      "6                    0      0       6922              1            0\n",
      "7                    0      1          0              1            0\n",
      "  quantity_enough quantity_insufficient quantity_seasonal quantity_unknown\n",
      "2               1                     0                 0                0\n",
      "3               0                     1                 0                0\n",
      "4               1                     0                 0                0\n",
      "5               0                     0                 0                0\n",
      "6               1                     0                 0                0\n",
      "7               0                     0                 1                0\n",
      "  region_Arusha region_code region_Dar_es_Salaam region_Dodoma region_Iringa\n",
      "2             0          11                    0             0             1\n",
      "3             0           1                    0             1             0\n",
      "4             0           3                    0             0             0\n",
      "5             0           1                    0             1             0\n",
      "6             0          60                    0             0             0\n",
      "7             0          17                    0             0             0\n",
      "  region_Kagera region_Kigoma region_Kilimanjaro region_kmeans region_Lindi\n",
      "2             0             0                  0             7            0\n",
      "3             0             0                  0             3            0\n",
      "4             0             0                  1             1            0\n",
      "5             0             0                  0             3            0\n",
      "6             0             0                  0             3            0\n",
      "7             0             0                  0             2            0\n",
      "  region_Manyara region_Mara region_Mbeya region_Morogoro region_Mtwara\n",
      "2              0           0            0               0             0\n",
      "3              0           0            0               0             0\n",
      "4              0           0            0               0             0\n",
      "5              0           0            0               0             0\n",
      "6              0           0            0               0             0\n",
      "7              0           0            0               0             0\n",
      "  region_Mwanza region_Pwani region_Rukwa region_Ruvuma region_Shinyanga\n",
      "2             0            0            0             0                0\n",
      "3             0            0            0             0                0\n",
      "4             0            0            0             0                0\n",
      "5             0            0            0             0                0\n",
      "6             0            1            0             0                0\n",
      "7             0            0            0             0                1\n",
      "  region_Singida region_Tabora region_Tanga source_class source_dam\n",
      "2              0             0            0            1          0\n",
      "3              0             0            0            1          0\n",
      "4              0             0            0            1          0\n",
      "5              0             0            0            1          0\n",
      "6              0             0            0            1          0\n",
      "7              0             0            0            1          0\n",
      "  source_hand_dtw source_lake source_machine_dbh source_rainwater_harvesting\n",
      "2               0           0                  0                           0\n",
      "3               0           0                  1                           0\n",
      "4               0           0                  0                           0\n",
      "5               0           0                  0                           0\n",
      "6               0           0                  1                           0\n",
      "7               0           0                  0                           0\n",
      "  source_river source_shallow_well source_spring   status_group\n",
      "2            0                   1             0     functional\n",
      "3            0                   0             0     functional\n",
      "4            0                   0             1     functional\n",
      "5            0                   1             0 non functional\n",
      "6            0                   0             0     functional\n",
      "7            0                   1             0 non functional\n",
      "  water_quality_coloured water_quality_fluoride\n",
      "2                      0                      0\n",
      "3                      0                      0\n",
      "4                      0                      0\n",
      "5                      0                      0\n",
      "6                      0                      0\n",
      "7                      0                      0\n",
      "  water_quality_fluoride_abandoned water_quality_milky water_quality_salty\n",
      "2                                0                   0                   0\n",
      "3                                0                   0                   0\n",
      "4                                0                   0                   0\n",
      "5                                0                   0                   0\n",
      "6                                0                   0                   0\n",
      "7                                0                   0                   0\n",
      "  water_quality_salty_abandoned water_quality_soft water_quality_unknown\n",
      "2                             0                  1                     0\n",
      "3                             0                  1                     0\n",
      "4                             0                  1                     0\n",
      "5                             0                  1                     0\n",
      "6                             0                  1                     0\n",
      "7                             0                  1                     0\n",
      "  waterpoint_type_cattle_trough waterpoint_type_communal_standpipe\n",
      "2                             0                                  0\n",
      "3                             0                                  0\n",
      "4                             0                                  1\n",
      "5                             0                                  0\n",
      "6                             0                                  0\n",
      "7                             0                                  0\n",
      "  waterpoint_type_communal_standpipe_multiple waterpoint_type_dam\n",
      "2                                           0                   0\n",
      "3                                           1                   0\n",
      "4                                           0                   0\n",
      "5                                           0                   0\n",
      "6                                           1                   0\n",
      "7                                           0                   0\n",
      "  waterpoint_type_hand_pump waterpoint_type_improved_spring\n",
      "2                         1                               0\n",
      "3                         0                               0\n",
      "4                         0                               0\n",
      "5                         1                               0\n",
      "6                         0                               0\n",
      "7                         0                               0\n",
      "  waterpoint_type_other\n",
      "2                     0\n",
      "3                     0\n",
      "4                     0\n",
      "5                     0\n",
      "6                     0\n",
      "7                     1\n"
     ]
    },
    {
     "data": {
      "image/png": "[encoded data removed]",
      "text/plain": [
       "Plot with title \"Scree Plot\""
      ]
     },
     "metadata": {
      "image/png": {
       "height": 420,
       "width": 420
      }
     },
     "output_type": "display_data"
    }
   ],
   "source": [
    "data_preproc <- preprocess_training2(data)\n",
    "save(data_preproc, file = \"data_preproc.Rdata\")"
   ]
  },
  {
   "cell_type": "code",
   "execution_count": 40,
   "metadata": {
    "scrolled": false
   },
   "outputs": [
    {
     "data": {
      "text/html": [
       "<table class=\"dataframe\">\n",
       "<caption>A data.frame: 6 × 101</caption>\n",
       "<thead>\n",
       "\t<tr><th></th><th scope=col>PC1</th><th scope=col>PC10</th><th scope=col>PC100</th><th scope=col>PC11</th><th scope=col>PC12</th><th scope=col>PC13</th><th scope=col>PC14</th><th scope=col>PC15</th><th scope=col>PC16</th><th scope=col>PC17</th><th scope=col>PC18</th><th scope=col>PC19</th><th scope=col>PC2</th><th scope=col>PC20</th><th scope=col>PC21</th><th scope=col>PC22</th><th scope=col>PC23</th><th scope=col>PC24</th><th scope=col>PC25</th><th scope=col>PC26</th><th scope=col>PC27</th><th scope=col>PC28</th><th scope=col>PC29</th><th scope=col>PC3</th><th scope=col>PC30</th><th scope=col>...</th><th scope=col>PC78</th><th scope=col>PC79</th><th scope=col>PC8</th><th scope=col>PC80</th><th scope=col>PC81</th><th scope=col>PC82</th><th scope=col>PC83</th><th scope=col>PC84</th><th scope=col>PC85</th><th scope=col>PC86</th><th scope=col>PC87</th><th scope=col>PC88</th><th scope=col>PC89</th><th scope=col>PC9</th><th scope=col>PC90</th><th scope=col>PC91</th><th scope=col>PC92</th><th scope=col>PC93</th><th scope=col>PC94</th><th scope=col>PC95</th><th scope=col>PC96</th><th scope=col>PC97</th><th scope=col>PC98</th><th scope=col>PC99</th><th scope=col>status_group</th></tr>\n",
       "\t<tr><th></th><th scope=col>&lt;dbl&gt;</th><th scope=col>&lt;dbl&gt;</th><th scope=col>&lt;dbl&gt;</th><th scope=col>&lt;dbl&gt;</th><th scope=col>&lt;dbl&gt;</th><th scope=col>&lt;dbl&gt;</th><th scope=col>&lt;dbl&gt;</th><th scope=col>&lt;dbl&gt;</th><th scope=col>&lt;dbl&gt;</th><th scope=col>&lt;dbl&gt;</th><th scope=col>&lt;dbl&gt;</th><th scope=col>&lt;dbl&gt;</th><th scope=col>&lt;dbl&gt;</th><th scope=col>&lt;dbl&gt;</th><th scope=col>&lt;dbl&gt;</th><th scope=col>&lt;dbl&gt;</th><th scope=col>&lt;dbl&gt;</th><th scope=col>&lt;dbl&gt;</th><th scope=col>&lt;dbl&gt;</th><th scope=col>&lt;dbl&gt;</th><th scope=col>&lt;dbl&gt;</th><th scope=col>&lt;dbl&gt;</th><th scope=col>&lt;dbl&gt;</th><th scope=col>&lt;dbl&gt;</th><th scope=col>&lt;dbl&gt;</th><th scope=col>...</th><th scope=col>&lt;dbl&gt;</th><th scope=col>&lt;dbl&gt;</th><th scope=col>&lt;dbl&gt;</th><th scope=col>&lt;dbl&gt;</th><th scope=col>&lt;dbl&gt;</th><th scope=col>&lt;dbl&gt;</th><th scope=col>&lt;dbl&gt;</th><th scope=col>&lt;dbl&gt;</th><th scope=col>&lt;dbl&gt;</th><th scope=col>&lt;dbl&gt;</th><th scope=col>&lt;dbl&gt;</th><th scope=col>&lt;dbl&gt;</th><th scope=col>&lt;dbl&gt;</th><th scope=col>&lt;dbl&gt;</th><th scope=col>&lt;dbl&gt;</th><th scope=col>&lt;dbl&gt;</th><th scope=col>&lt;dbl&gt;</th><th scope=col>&lt;dbl&gt;</th><th scope=col>&lt;dbl&gt;</th><th scope=col>&lt;dbl&gt;</th><th scope=col>&lt;dbl&gt;</th><th scope=col>&lt;dbl&gt;</th><th scope=col>&lt;dbl&gt;</th><th scope=col>&lt;dbl&gt;</th><th scope=col>&lt;fct&gt;</th></tr>\n",
       "</thead>\n",
       "<tbody>\n",
       "\t<tr><th scope=row>2</th><td>-0.4439429</td><td> 3.271290</td><td> 0.06311874</td><td>-4.1252383</td><td>1.9915656</td><td>-0.9000948</td><td>-0.240045119</td><td> 2.3986785</td><td>-1.833868</td><td>-0.2831008</td><td>-4.16649567</td><td> 2.70654747</td><td> 3.0612158</td><td> 2.0935205</td><td> 0.412830863</td><td>-5.2825900</td><td>-11.4695148</td><td> 3.0980778</td><td>0.6208244</td><td>-4.2286898</td><td>-4.9921310</td><td>-2.812598948</td><td> 2.66449909</td><td>-3.67773622</td><td>-2.1220655</td><td>...</td><td>-0.24330600</td><td>-0.2135878</td><td>-0.6403020</td><td> 0.09308543</td><td> 0.3163396</td><td> 0.1130461</td><td> 0.8615588</td><td> 0.3091160</td><td>-0.3989287</td><td>-0.2058565</td><td> 0.15067214</td><td>-0.55389025</td><td>-0.5790466</td><td>-3.6711249</td><td> 0.1399192</td><td> 0.058606347</td><td> 0.08813051</td><td>-0.01247315</td><td>-0.425792815</td><td>-0.04197584</td><td>-0.24030041</td><td> 0.21735040</td><td>-0.2393107</td><td> 0.13985534</td><td>functional    </td></tr>\n",
       "\t<tr><th scope=row>3</th><td>-1.6182408</td><td>-0.749476</td><td>-1.84096691</td><td>-1.3006044</td><td>2.7711901</td><td> 0.6813534</td><td>-2.034508615</td><td>-3.3573960</td><td> 2.454399</td><td>-0.3408232</td><td> 0.04746375</td><td> 0.48144588</td><td>-4.5145513</td><td> 1.4522025</td><td> 0.546209016</td><td>-0.5254788</td><td> -1.3480035</td><td>-0.6382263</td><td>0.5736552</td><td>-0.5550384</td><td> 0.2176294</td><td> 1.099327356</td><td> 0.19328719</td><td>-1.49655429</td><td>-0.2021576</td><td>...</td><td> 0.05839154</td><td>-0.5112613</td><td> 2.1211044</td><td>-1.87854854</td><td> 0.7412946</td><td>-1.0846189</td><td>-1.5790421</td><td> 0.9634706</td><td>-0.2789797</td><td>-0.2281449</td><td>-0.32814941</td><td>-1.40819031</td><td> 0.2690349</td><td> 1.1080383</td><td>-0.4724411</td><td> 0.847662964</td><td>-0.06953225</td><td> 3.07953339</td><td> 0.630785026</td><td> 0.45668883</td><td> 0.07364609</td><td>-2.30232936</td><td>-1.2687648</td><td>-0.14589573</td><td>functional    </td></tr>\n",
       "\t<tr><th scope=row>4</th><td> 4.7390927</td><td> 0.166518</td><td> 0.33141762</td><td> 0.9235705</td><td>1.7896490</td><td> 1.0566870</td><td> 0.002945218</td><td>-0.0375771</td><td>-1.048711</td><td> 3.1985255</td><td>-0.43384574</td><td> 0.91350895</td><td>-1.0085160</td><td>-0.2970865</td><td> 0.004971248</td><td> 2.0795771</td><td> -0.7172651</td><td>-0.7055749</td><td>3.0339105</td><td>-0.7132771</td><td>-1.1119757</td><td> 1.143165345</td><td> 0.08455826</td><td> 2.91719507</td><td>-1.1161875</td><td>...</td><td>-0.81510903</td><td>-1.3016100</td><td>-2.6812021</td><td>-1.65123375</td><td>-0.6472191</td><td> 1.2501264</td><td> 1.5257414</td><td> 1.6147336</td><td>-0.3111334</td><td> 0.1196255</td><td>-0.02687759</td><td> 1.22141946</td><td> 0.3977090</td><td> 1.0355322</td><td>-1.5440299</td><td>-0.007307217</td><td> 0.87248622</td><td> 1.18313547</td><td>-1.147447987</td><td> 0.83865743</td><td>-0.69138679</td><td> 0.03579773</td><td>-0.9535018</td><td> 0.51420338</td><td>functional    </td></tr>\n",
       "\t<tr><th scope=row>5</th><td>-3.3644464</td><td>-1.737531</td><td>-1.82379367</td><td>-0.4948422</td><td>1.9871296</td><td> 0.6481574</td><td>-1.453811173</td><td>-1.2164367</td><td> 1.929693</td><td>-1.6743239</td><td>-0.16189816</td><td>-0.41200488</td><td> 0.0810348</td><td> 0.1601949</td><td>-0.087809455</td><td>-0.2999045</td><td> -1.1553398</td><td>-0.3299301</td><td>1.0920302</td><td>-1.1314204</td><td> 0.5774151</td><td> 2.648941126</td><td> 0.63498410</td><td> 0.02897132</td><td>-0.5379200</td><td>...</td><td>-0.09738136</td><td>-0.1882655</td><td> 0.9340552</td><td>-1.71146405</td><td> 0.8795040</td><td>-1.0606033</td><td>-1.4741139</td><td> 0.9026463</td><td>-0.1872919</td><td>-0.1727348</td><td>-0.41418398</td><td>-1.38767159</td><td> 0.2907808</td><td> 0.6460681</td><td>-0.4335921</td><td> 0.858039569</td><td>-0.03262945</td><td> 3.11046304</td><td> 0.655247568</td><td> 0.45812632</td><td> 0.08743326</td><td>-2.30608218</td><td>-1.2453813</td><td>-0.18372001</td><td>non functional</td></tr>\n",
       "\t<tr><th scope=row>6</th><td>-2.0810286</td><td> 1.928398</td><td> 1.23834582</td><td> 2.4625390</td><td>0.7330121</td><td>-3.0874507</td><td> 0.741575807</td><td> 2.6660369</td><td> 2.232946</td><td>-0.5709471</td><td> 1.15641201</td><td>-0.06668872</td><td>-8.7861481</td><td>-1.6800137</td><td>-1.600227818</td><td> 0.4833760</td><td>  0.4068216</td><td> 2.6885541</td><td>0.1017634</td><td>-2.6330245</td><td> 0.4663568</td><td> 0.589585266</td><td>-0.49396634</td><td>-2.56655072</td><td> 2.1468537</td><td>...</td><td>-1.22936150</td><td> 2.4247470</td><td>-1.7526805</td><td>-1.63196222</td><td> 1.0075728</td><td>-1.6157308</td><td> 0.9301771</td><td>-0.2306175</td><td>-0.9312905</td><td>-0.1479729</td><td>-0.58562285</td><td> 0.07355687</td><td> 0.2028497</td><td>-0.1301592</td><td>-0.6371354</td><td>-0.512156686</td><td> 0.66066285</td><td>-0.29303112</td><td> 0.006911758</td><td>-0.19982811</td><td> 0.07377814</td><td>-0.87581430</td><td>-1.2401262</td><td> 0.64717189</td><td>functional    </td></tr>\n",
       "\t<tr><th scope=row>7</th><td>-3.2898063</td><td>-1.875083</td><td>-0.35379455</td><td>-2.3792425</td><td>0.2944974</td><td>-1.2853911</td><td> 0.218083884</td><td>-0.4372334</td><td>-2.225740</td><td> 2.1028729</td><td> 1.51776758</td><td>-0.95784451</td><td> 0.4559533</td><td>-0.9342545</td><td>-0.169295266</td><td>-1.0477240</td><td> -0.5335776</td><td> 0.2272571</td><td>0.7012112</td><td> 0.3064842</td><td> 0.1324235</td><td> 0.006449267</td><td>-0.49174814</td><td> 3.27746576</td><td> 1.2766860</td><td>...</td><td> 0.60943768</td><td>-2.0764163</td><td> 1.0489584</td><td> 0.37882686</td><td>-0.6185752</td><td>-0.4655209</td><td> 0.7683475</td><td> 0.9869866</td><td> 1.2908771</td><td>-0.6819566</td><td> 1.25266416</td><td> 0.55545752</td><td> 1.3108658</td><td>-1.9045012</td><td> 0.9541137</td><td> 1.069447931</td><td>-0.26137823</td><td> 0.49513265</td><td>-0.253751670</td><td>-0.81210246</td><td>-0.03831276</td><td> 2.14373066</td><td>-2.5433813</td><td>-0.06431642</td><td>non functional</td></tr>\n",
       "</tbody>\n",
       "</table>\n"
      ],
      "text/latex": [
       "A data.frame: 6 × 101\n",
       "\\begin{tabular}{r|lllllllllllllllllllllllllllllllllllllllllllllllllll}\n",
       "  & PC1 & PC10 & PC100 & PC11 & PC12 & PC13 & PC14 & PC15 & PC16 & PC17 & PC18 & PC19 & PC2 & PC20 & PC21 & PC22 & PC23 & PC24 & PC25 & PC26 & PC27 & PC28 & PC29 & PC3 & PC30 & ... & PC78 & PC79 & PC8 & PC80 & PC81 & PC82 & PC83 & PC84 & PC85 & PC86 & PC87 & PC88 & PC89 & PC9 & PC90 & PC91 & PC92 & PC93 & PC94 & PC95 & PC96 & PC97 & PC98 & PC99 & status\\_group\\\\\n",
       "  & <dbl> & <dbl> & <dbl> & <dbl> & <dbl> & <dbl> & <dbl> & <dbl> & <dbl> & <dbl> & <dbl> & <dbl> & <dbl> & <dbl> & <dbl> & <dbl> & <dbl> & <dbl> & <dbl> & <dbl> & <dbl> & <dbl> & <dbl> & <dbl> & <dbl> & ... & <dbl> & <dbl> & <dbl> & <dbl> & <dbl> & <dbl> & <dbl> & <dbl> & <dbl> & <dbl> & <dbl> & <dbl> & <dbl> & <dbl> & <dbl> & <dbl> & <dbl> & <dbl> & <dbl> & <dbl> & <dbl> & <dbl> & <dbl> & <dbl> & <fct>\\\\\n",
       "\\hline\n",
       "\t2 & -0.4439429 &  3.271290 &  0.06311874 & -4.1252383 & 1.9915656 & -0.9000948 & -0.240045119 &  2.3986785 & -1.833868 & -0.2831008 & -4.16649567 &  2.70654747 &  3.0612158 &  2.0935205 &  0.412830863 & -5.2825900 & -11.4695148 &  3.0980778 & 0.6208244 & -4.2286898 & -4.9921310 & -2.812598948 &  2.66449909 & -3.67773622 & -2.1220655 & ... & -0.24330600 & -0.2135878 & -0.6403020 &  0.09308543 &  0.3163396 &  0.1130461 &  0.8615588 &  0.3091160 & -0.3989287 & -0.2058565 &  0.15067214 & -0.55389025 & -0.5790466 & -3.6711249 &  0.1399192 &  0.058606347 &  0.08813051 & -0.01247315 & -0.425792815 & -0.04197584 & -0.24030041 &  0.21735040 & -0.2393107 &  0.13985534 & functional    \\\\\n",
       "\t3 & -1.6182408 & -0.749476 & -1.84096691 & -1.3006044 & 2.7711901 &  0.6813534 & -2.034508615 & -3.3573960 &  2.454399 & -0.3408232 &  0.04746375 &  0.48144588 & -4.5145513 &  1.4522025 &  0.546209016 & -0.5254788 &  -1.3480035 & -0.6382263 & 0.5736552 & -0.5550384 &  0.2176294 &  1.099327356 &  0.19328719 & -1.49655429 & -0.2021576 & ... &  0.05839154 & -0.5112613 &  2.1211044 & -1.87854854 &  0.7412946 & -1.0846189 & -1.5790421 &  0.9634706 & -0.2789797 & -0.2281449 & -0.32814941 & -1.40819031 &  0.2690349 &  1.1080383 & -0.4724411 &  0.847662964 & -0.06953225 &  3.07953339 &  0.630785026 &  0.45668883 &  0.07364609 & -2.30232936 & -1.2687648 & -0.14589573 & functional    \\\\\n",
       "\t4 &  4.7390927 &  0.166518 &  0.33141762 &  0.9235705 & 1.7896490 &  1.0566870 &  0.002945218 & -0.0375771 & -1.048711 &  3.1985255 & -0.43384574 &  0.91350895 & -1.0085160 & -0.2970865 &  0.004971248 &  2.0795771 &  -0.7172651 & -0.7055749 & 3.0339105 & -0.7132771 & -1.1119757 &  1.143165345 &  0.08455826 &  2.91719507 & -1.1161875 & ... & -0.81510903 & -1.3016100 & -2.6812021 & -1.65123375 & -0.6472191 &  1.2501264 &  1.5257414 &  1.6147336 & -0.3111334 &  0.1196255 & -0.02687759 &  1.22141946 &  0.3977090 &  1.0355322 & -1.5440299 & -0.007307217 &  0.87248622 &  1.18313547 & -1.147447987 &  0.83865743 & -0.69138679 &  0.03579773 & -0.9535018 &  0.51420338 & functional    \\\\\n",
       "\t5 & -3.3644464 & -1.737531 & -1.82379367 & -0.4948422 & 1.9871296 &  0.6481574 & -1.453811173 & -1.2164367 &  1.929693 & -1.6743239 & -0.16189816 & -0.41200488 &  0.0810348 &  0.1601949 & -0.087809455 & -0.2999045 &  -1.1553398 & -0.3299301 & 1.0920302 & -1.1314204 &  0.5774151 &  2.648941126 &  0.63498410 &  0.02897132 & -0.5379200 & ... & -0.09738136 & -0.1882655 &  0.9340552 & -1.71146405 &  0.8795040 & -1.0606033 & -1.4741139 &  0.9026463 & -0.1872919 & -0.1727348 & -0.41418398 & -1.38767159 &  0.2907808 &  0.6460681 & -0.4335921 &  0.858039569 & -0.03262945 &  3.11046304 &  0.655247568 &  0.45812632 &  0.08743326 & -2.30608218 & -1.2453813 & -0.18372001 & non functional\\\\\n",
       "\t6 & -2.0810286 &  1.928398 &  1.23834582 &  2.4625390 & 0.7330121 & -3.0874507 &  0.741575807 &  2.6660369 &  2.232946 & -0.5709471 &  1.15641201 & -0.06668872 & -8.7861481 & -1.6800137 & -1.600227818 &  0.4833760 &   0.4068216 &  2.6885541 & 0.1017634 & -2.6330245 &  0.4663568 &  0.589585266 & -0.49396634 & -2.56655072 &  2.1468537 & ... & -1.22936150 &  2.4247470 & -1.7526805 & -1.63196222 &  1.0075728 & -1.6157308 &  0.9301771 & -0.2306175 & -0.9312905 & -0.1479729 & -0.58562285 &  0.07355687 &  0.2028497 & -0.1301592 & -0.6371354 & -0.512156686 &  0.66066285 & -0.29303112 &  0.006911758 & -0.19982811 &  0.07377814 & -0.87581430 & -1.2401262 &  0.64717189 & functional    \\\\\n",
       "\t7 & -3.2898063 & -1.875083 & -0.35379455 & -2.3792425 & 0.2944974 & -1.2853911 &  0.218083884 & -0.4372334 & -2.225740 &  2.1028729 &  1.51776758 & -0.95784451 &  0.4559533 & -0.9342545 & -0.169295266 & -1.0477240 &  -0.5335776 &  0.2272571 & 0.7012112 &  0.3064842 &  0.1324235 &  0.006449267 & -0.49174814 &  3.27746576 &  1.2766860 & ... &  0.60943768 & -2.0764163 &  1.0489584 &  0.37882686 & -0.6185752 & -0.4655209 &  0.7683475 &  0.9869866 &  1.2908771 & -0.6819566 &  1.25266416 &  0.55545752 &  1.3108658 & -1.9045012 &  0.9541137 &  1.069447931 & -0.26137823 &  0.49513265 & -0.253751670 & -0.81210246 & -0.03831276 &  2.14373066 & -2.5433813 & -0.06431642 & non functional\\\\\n",
       "\\end{tabular}\n"
      ],
      "text/markdown": [
       "\n",
       "A data.frame: 6 × 101\n",
       "\n",
       "| <!--/--> | PC1 &lt;dbl&gt; | PC10 &lt;dbl&gt; | PC100 &lt;dbl&gt; | PC11 &lt;dbl&gt; | PC12 &lt;dbl&gt; | PC13 &lt;dbl&gt; | PC14 &lt;dbl&gt; | PC15 &lt;dbl&gt; | PC16 &lt;dbl&gt; | PC17 &lt;dbl&gt; | PC18 &lt;dbl&gt; | PC19 &lt;dbl&gt; | PC2 &lt;dbl&gt; | PC20 &lt;dbl&gt; | PC21 &lt;dbl&gt; | PC22 &lt;dbl&gt; | PC23 &lt;dbl&gt; | PC24 &lt;dbl&gt; | PC25 &lt;dbl&gt; | PC26 &lt;dbl&gt; | PC27 &lt;dbl&gt; | PC28 &lt;dbl&gt; | PC29 &lt;dbl&gt; | PC3 &lt;dbl&gt; | PC30 &lt;dbl&gt; | ... ... | PC78 &lt;dbl&gt; | PC79 &lt;dbl&gt; | PC8 &lt;dbl&gt; | PC80 &lt;dbl&gt; | PC81 &lt;dbl&gt; | PC82 &lt;dbl&gt; | PC83 &lt;dbl&gt; | PC84 &lt;dbl&gt; | PC85 &lt;dbl&gt; | PC86 &lt;dbl&gt; | PC87 &lt;dbl&gt; | PC88 &lt;dbl&gt; | PC89 &lt;dbl&gt; | PC9 &lt;dbl&gt; | PC90 &lt;dbl&gt; | PC91 &lt;dbl&gt; | PC92 &lt;dbl&gt; | PC93 &lt;dbl&gt; | PC94 &lt;dbl&gt; | PC95 &lt;dbl&gt; | PC96 &lt;dbl&gt; | PC97 &lt;dbl&gt; | PC98 &lt;dbl&gt; | PC99 &lt;dbl&gt; | status_group &lt;fct&gt; |\n",
       "|---|---|---|---|---|---|---|---|---|---|---|---|---|---|---|---|---|---|---|---|---|---|---|---|---|---|---|---|---|---|---|---|---|---|---|---|---|---|---|---|---|---|---|---|---|---|---|---|---|---|---|---|\n",
       "| 2 | -0.4439429 |  3.271290 |  0.06311874 | -4.1252383 | 1.9915656 | -0.9000948 | -0.240045119 |  2.3986785 | -1.833868 | -0.2831008 | -4.16649567 |  2.70654747 |  3.0612158 |  2.0935205 |  0.412830863 | -5.2825900 | -11.4695148 |  3.0980778 | 0.6208244 | -4.2286898 | -4.9921310 | -2.812598948 |  2.66449909 | -3.67773622 | -2.1220655 | ... | -0.24330600 | -0.2135878 | -0.6403020 |  0.09308543 |  0.3163396 |  0.1130461 |  0.8615588 |  0.3091160 | -0.3989287 | -0.2058565 |  0.15067214 | -0.55389025 | -0.5790466 | -3.6711249 |  0.1399192 |  0.058606347 |  0.08813051 | -0.01247315 | -0.425792815 | -0.04197584 | -0.24030041 |  0.21735040 | -0.2393107 |  0.13985534 | functional     |\n",
       "| 3 | -1.6182408 | -0.749476 | -1.84096691 | -1.3006044 | 2.7711901 |  0.6813534 | -2.034508615 | -3.3573960 |  2.454399 | -0.3408232 |  0.04746375 |  0.48144588 | -4.5145513 |  1.4522025 |  0.546209016 | -0.5254788 |  -1.3480035 | -0.6382263 | 0.5736552 | -0.5550384 |  0.2176294 |  1.099327356 |  0.19328719 | -1.49655429 | -0.2021576 | ... |  0.05839154 | -0.5112613 |  2.1211044 | -1.87854854 |  0.7412946 | -1.0846189 | -1.5790421 |  0.9634706 | -0.2789797 | -0.2281449 | -0.32814941 | -1.40819031 |  0.2690349 |  1.1080383 | -0.4724411 |  0.847662964 | -0.06953225 |  3.07953339 |  0.630785026 |  0.45668883 |  0.07364609 | -2.30232936 | -1.2687648 | -0.14589573 | functional     |\n",
       "| 4 |  4.7390927 |  0.166518 |  0.33141762 |  0.9235705 | 1.7896490 |  1.0566870 |  0.002945218 | -0.0375771 | -1.048711 |  3.1985255 | -0.43384574 |  0.91350895 | -1.0085160 | -0.2970865 |  0.004971248 |  2.0795771 |  -0.7172651 | -0.7055749 | 3.0339105 | -0.7132771 | -1.1119757 |  1.143165345 |  0.08455826 |  2.91719507 | -1.1161875 | ... | -0.81510903 | -1.3016100 | -2.6812021 | -1.65123375 | -0.6472191 |  1.2501264 |  1.5257414 |  1.6147336 | -0.3111334 |  0.1196255 | -0.02687759 |  1.22141946 |  0.3977090 |  1.0355322 | -1.5440299 | -0.007307217 |  0.87248622 |  1.18313547 | -1.147447987 |  0.83865743 | -0.69138679 |  0.03579773 | -0.9535018 |  0.51420338 | functional     |\n",
       "| 5 | -3.3644464 | -1.737531 | -1.82379367 | -0.4948422 | 1.9871296 |  0.6481574 | -1.453811173 | -1.2164367 |  1.929693 | -1.6743239 | -0.16189816 | -0.41200488 |  0.0810348 |  0.1601949 | -0.087809455 | -0.2999045 |  -1.1553398 | -0.3299301 | 1.0920302 | -1.1314204 |  0.5774151 |  2.648941126 |  0.63498410 |  0.02897132 | -0.5379200 | ... | -0.09738136 | -0.1882655 |  0.9340552 | -1.71146405 |  0.8795040 | -1.0606033 | -1.4741139 |  0.9026463 | -0.1872919 | -0.1727348 | -0.41418398 | -1.38767159 |  0.2907808 |  0.6460681 | -0.4335921 |  0.858039569 | -0.03262945 |  3.11046304 |  0.655247568 |  0.45812632 |  0.08743326 | -2.30608218 | -1.2453813 | -0.18372001 | non functional |\n",
       "| 6 | -2.0810286 |  1.928398 |  1.23834582 |  2.4625390 | 0.7330121 | -3.0874507 |  0.741575807 |  2.6660369 |  2.232946 | -0.5709471 |  1.15641201 | -0.06668872 | -8.7861481 | -1.6800137 | -1.600227818 |  0.4833760 |   0.4068216 |  2.6885541 | 0.1017634 | -2.6330245 |  0.4663568 |  0.589585266 | -0.49396634 | -2.56655072 |  2.1468537 | ... | -1.22936150 |  2.4247470 | -1.7526805 | -1.63196222 |  1.0075728 | -1.6157308 |  0.9301771 | -0.2306175 | -0.9312905 | -0.1479729 | -0.58562285 |  0.07355687 |  0.2028497 | -0.1301592 | -0.6371354 | -0.512156686 |  0.66066285 | -0.29303112 |  0.006911758 | -0.19982811 |  0.07377814 | -0.87581430 | -1.2401262 |  0.64717189 | functional     |\n",
       "| 7 | -3.2898063 | -1.875083 | -0.35379455 | -2.3792425 | 0.2944974 | -1.2853911 |  0.218083884 | -0.4372334 | -2.225740 |  2.1028729 |  1.51776758 | -0.95784451 |  0.4559533 | -0.9342545 | -0.169295266 | -1.0477240 |  -0.5335776 |  0.2272571 | 0.7012112 |  0.3064842 |  0.1324235 |  0.006449267 | -0.49174814 |  3.27746576 |  1.2766860 | ... |  0.60943768 | -2.0764163 |  1.0489584 |  0.37882686 | -0.6185752 | -0.4655209 |  0.7683475 |  0.9869866 |  1.2908771 | -0.6819566 |  1.25266416 |  0.55545752 |  1.3108658 | -1.9045012 |  0.9541137 |  1.069447931 | -0.26137823 |  0.49513265 | -0.253751670 | -0.81210246 | -0.03831276 |  2.14373066 | -2.5433813 | -0.06431642 | non functional |\n",
       "\n"
      ],
      "text/plain": [
       "  PC1        PC10      PC100       PC11       PC12      PC13       PC14        \n",
       "2 -0.4439429  3.271290  0.06311874 -4.1252383 1.9915656 -0.9000948 -0.240045119\n",
       "3 -1.6182408 -0.749476 -1.84096691 -1.3006044 2.7711901  0.6813534 -2.034508615\n",
       "4  4.7390927  0.166518  0.33141762  0.9235705 1.7896490  1.0566870  0.002945218\n",
       "5 -3.3644464 -1.737531 -1.82379367 -0.4948422 1.9871296  0.6481574 -1.453811173\n",
       "6 -2.0810286  1.928398  1.23834582  2.4625390 0.7330121 -3.0874507  0.741575807\n",
       "7 -3.2898063 -1.875083 -0.35379455 -2.3792425 0.2944974 -1.2853911  0.218083884\n",
       "  PC15       PC16      PC17       PC18        PC19        PC2        PC20      \n",
       "2  2.3986785 -1.833868 -0.2831008 -4.16649567  2.70654747  3.0612158  2.0935205\n",
       "3 -3.3573960  2.454399 -0.3408232  0.04746375  0.48144588 -4.5145513  1.4522025\n",
       "4 -0.0375771 -1.048711  3.1985255 -0.43384574  0.91350895 -1.0085160 -0.2970865\n",
       "5 -1.2164367  1.929693 -1.6743239 -0.16189816 -0.41200488  0.0810348  0.1601949\n",
       "6  2.6660369  2.232946 -0.5709471  1.15641201 -0.06668872 -8.7861481 -1.6800137\n",
       "7 -0.4372334 -2.225740  2.1028729  1.51776758 -0.95784451  0.4559533 -0.9342545\n",
       "  PC21         PC22       PC23        PC24       PC25      PC26      \n",
       "2  0.412830863 -5.2825900 -11.4695148  3.0980778 0.6208244 -4.2286898\n",
       "3  0.546209016 -0.5254788  -1.3480035 -0.6382263 0.5736552 -0.5550384\n",
       "4  0.004971248  2.0795771  -0.7172651 -0.7055749 3.0339105 -0.7132771\n",
       "5 -0.087809455 -0.2999045  -1.1553398 -0.3299301 1.0920302 -1.1314204\n",
       "6 -1.600227818  0.4833760   0.4068216  2.6885541 0.1017634 -2.6330245\n",
       "7 -0.169295266 -1.0477240  -0.5335776  0.2272571 0.7012112  0.3064842\n",
       "  PC27       PC28         PC29        PC3         PC30       ... PC78       \n",
       "2 -4.9921310 -2.812598948  2.66449909 -3.67773622 -2.1220655 ... -0.24330600\n",
       "3  0.2176294  1.099327356  0.19328719 -1.49655429 -0.2021576 ...  0.05839154\n",
       "4 -1.1119757  1.143165345  0.08455826  2.91719507 -1.1161875 ... -0.81510903\n",
       "5  0.5774151  2.648941126  0.63498410  0.02897132 -0.5379200 ... -0.09738136\n",
       "6  0.4663568  0.589585266 -0.49396634 -2.56655072  2.1468537 ... -1.22936150\n",
       "7  0.1324235  0.006449267 -0.49174814  3.27746576  1.2766860 ...  0.60943768\n",
       "  PC79       PC8        PC80        PC81       PC82       PC83       PC84      \n",
       "2 -0.2135878 -0.6403020  0.09308543  0.3163396  0.1130461  0.8615588  0.3091160\n",
       "3 -0.5112613  2.1211044 -1.87854854  0.7412946 -1.0846189 -1.5790421  0.9634706\n",
       "4 -1.3016100 -2.6812021 -1.65123375 -0.6472191  1.2501264  1.5257414  1.6147336\n",
       "5 -0.1882655  0.9340552 -1.71146405  0.8795040 -1.0606033 -1.4741139  0.9026463\n",
       "6  2.4247470 -1.7526805 -1.63196222  1.0075728 -1.6157308  0.9301771 -0.2306175\n",
       "7 -2.0764163  1.0489584  0.37882686 -0.6185752 -0.4655209  0.7683475  0.9869866\n",
       "  PC85       PC86       PC87        PC88        PC89       PC9       \n",
       "2 -0.3989287 -0.2058565  0.15067214 -0.55389025 -0.5790466 -3.6711249\n",
       "3 -0.2789797 -0.2281449 -0.32814941 -1.40819031  0.2690349  1.1080383\n",
       "4 -0.3111334  0.1196255 -0.02687759  1.22141946  0.3977090  1.0355322\n",
       "5 -0.1872919 -0.1727348 -0.41418398 -1.38767159  0.2907808  0.6460681\n",
       "6 -0.9312905 -0.1479729 -0.58562285  0.07355687  0.2028497 -0.1301592\n",
       "7  1.2908771 -0.6819566  1.25266416  0.55545752  1.3108658 -1.9045012\n",
       "  PC90       PC91         PC92        PC93        PC94         PC95       \n",
       "2  0.1399192  0.058606347  0.08813051 -0.01247315 -0.425792815 -0.04197584\n",
       "3 -0.4724411  0.847662964 -0.06953225  3.07953339  0.630785026  0.45668883\n",
       "4 -1.5440299 -0.007307217  0.87248622  1.18313547 -1.147447987  0.83865743\n",
       "5 -0.4335921  0.858039569 -0.03262945  3.11046304  0.655247568  0.45812632\n",
       "6 -0.6371354 -0.512156686  0.66066285 -0.29303112  0.006911758 -0.19982811\n",
       "7  0.9541137  1.069447931 -0.26137823  0.49513265 -0.253751670 -0.81210246\n",
       "  PC96        PC97        PC98       PC99        status_group  \n",
       "2 -0.24030041  0.21735040 -0.2393107  0.13985534 functional    \n",
       "3  0.07364609 -2.30232936 -1.2687648 -0.14589573 functional    \n",
       "4 -0.69138679  0.03579773 -0.9535018  0.51420338 functional    \n",
       "5  0.08743326 -2.30608218 -1.2453813 -0.18372001 non functional\n",
       "6  0.07377814 -0.87581430 -1.2401262  0.64717189 functional    \n",
       "7 -0.03831276  2.14373066 -2.5433813 -0.06431642 non functional"
      ]
     },
     "metadata": {},
     "output_type": "display_data"
    },
    {
     "data": {
      "text/html": [
       "<style>\n",
       ".list-inline {list-style: none; margin:0; padding: 0}\n",
       ".list-inline>li {display: inline-block}\n",
       ".list-inline>li:not(:last-child)::after {content: \"\\00b7\"; padding: 0 .5ex}\n",
       "</style>\n",
       "<ol class=list-inline><li>51596</li><li>101</li></ol>\n"
      ],
      "text/latex": [
       "\\begin{enumerate*}\n",
       "\\item 51596\n",
       "\\item 101\n",
       "\\end{enumerate*}\n"
      ],
      "text/markdown": [
       "1. 51596\n",
       "2. 101\n",
       "\n",
       "\n"
      ],
      "text/plain": [
       "[1] 51596   101"
      ]
     },
     "metadata": {},
     "output_type": "display_data"
    },
    {
     "data": {
      "image/png": "[encoded data removed]",
      "text/plain": [
       "plot without title"
      ]
     },
     "metadata": {
      "image/png": {
       "height": 420,
       "width": 420
      }
     },
     "output_type": "display_data"
    }
   ],
   "source": [
    "head(data_preproc)\n",
    "dim(data_preproc)\n",
    "barplot(table(data_preproc$status_group))"
   ]
  },
  {
   "cell_type": "code",
   "execution_count": 41,
   "metadata": {
    "scrolled": true
   },
   "outputs": [
    {
     "name": "stdout",
     "output_type": "stream",
     "text": [
      "     id amount_tsh date_recorded                 funder gps_height  installer\n",
      "1 50785          0         15740                   Dmdd       1996       DMDD\n",
      "2 51630          0         15740 Government Of Tanzania       1569        DWE\n",
      "3 17168          0         15737                              1567           \n",
      "4 45559          0         15727             Finn Water        267 FINN WATER\n",
      "5 49871        500         15791                 Bruder       1260     BRUDER\n",
      "6 52449          0         15768 Government Of Tanzania       1685        DWE\n",
      "  longitude   latitude                wpt_name num_private\n",
      "1  35.29080  -4.059696 Dinamu Secondary School           0\n",
      "2  36.65671  -3.309214                 Kimnyak           0\n",
      "3  34.76786  -5.004344          Puma Secondary           0\n",
      "4  38.05805  -9.418672          Kwa Mzee Pange           0\n",
      "5  35.00612 -10.950412         Kwa Mzee Turuka           0\n",
      "6  36.68528  -3.302420                  Masaga           0\n",
      "                    basin subvillage  region region_code district_code\n",
      "1                Internal     Magoma Manyara          21             3\n",
      "2                 Pangani    Kimnyak  Arusha           2             2\n",
      "3                Internal      Msatu Singida          13             2\n",
      "4 Ruvuma / Southern Coast Kipindimbi   Lindi          80            43\n",
      "5 Ruvuma / Southern Coast    Losonga  Ruvuma          10             3\n",
      "6                 Pangani     Masaga  Arusha           2             2\n",
      "            lga         ward population public_meeting scheme_management\n",
      "1         Mbulu       Bashay        321           True        Parastatal\n",
      "2  Arusha Rural     Kimnyaki        300           True               VWC\n",
      "3 Singida Rural         Puma        500           True               VWC\n",
      "4        Liwale      Mkutano        250                              VWC\n",
      "5        Mbinga Mbinga Urban         60                      Water Board\n",
      "6  Arusha Rural   Ilkiding'a        200           True               VWC\n",
      "                      scheme_name permit construction_year extraction_type\n",
      "1                                   True              2012           other\n",
      "2                  TPRI pipe line   True              2000         gravity\n",
      "3                               P                     2010           other\n",
      "4                                   True              1987           other\n",
      "5                          BRUDER   True              2000         gravity\n",
      "6 Timbolo sambasha TPRI pipe line   True              1990         gravity\n",
      "  extraction_type_group extraction_type_class  management management_group\n",
      "1                 other                 other  parastatal       parastatal\n",
      "2               gravity               gravity         vwc       user-group\n",
      "3                 other                 other         vwc       user-group\n",
      "4                 other                 other         vwc       user-group\n",
      "5               gravity               gravity water board       user-group\n",
      "6               gravity               gravity         vwc       user-group\n",
      "      payment payment_type water_quality quality_group     quantity\n",
      "1   never pay    never pay          soft          good     seasonal\n",
      "2   never pay    never pay          soft          good insufficient\n",
      "3   never pay    never pay          soft          good insufficient\n",
      "4     unknown      unknown          soft          good          dry\n",
      "5 pay monthly      monthly          soft          good       enough\n",
      "6   never pay    never pay          soft          good       enough\n",
      "  quantity_group               source          source_type source_class\n",
      "1       seasonal rainwater harvesting rainwater harvesting      surface\n",
      "2   insufficient               spring               spring  groundwater\n",
      "3   insufficient rainwater harvesting rainwater harvesting      surface\n",
      "4            dry         shallow well         shallow well  groundwater\n",
      "5         enough               spring               spring  groundwater\n",
      "6         enough               spring               spring  groundwater\n",
      "     waterpoint_type waterpoint_type_group\n",
      "1              other                 other\n",
      "2 communal standpipe    communal standpipe\n",
      "3              other                 other\n",
      "4              other                 other\n",
      "5 communal standpipe    communal standpipe\n",
      "6 communal standpipe    communal standpipe\n"
     ]
    },
    {
     "name": "stderr",
     "output_type": "stream",
     "text": [
      "Warning message in model.matrix.default(~x - 1, model.frame(~x - 1), contrasts = FALSE):\n",
      "\"non-list contrasts argument ignored\"\n",
      "Warning message in model.matrix.default(~x - 1, model.frame(~x - 1), contrasts = FALSE):\n",
      "\"non-list contrasts argument ignored\"\n",
      "Warning message in model.matrix.default(~x - 1, model.frame(~x - 1), contrasts = FALSE):\n",
      "\"non-list contrasts argument ignored\"\n",
      "Warning message in model.matrix.default(~x - 1, model.frame(~x - 1), contrasts = FALSE):\n",
      "\"non-list contrasts argument ignored\"\n",
      "Warning message in model.matrix.default(~x - 1, model.frame(~x - 1), contrasts = FALSE):\n",
      "\"non-list contrasts argument ignored\"\n",
      "Warning message in model.matrix.default(~x - 1, model.frame(~x - 1), contrasts = FALSE):\n",
      "\"non-list contrasts argument ignored\"\n",
      "Warning message in model.matrix.default(~x - 1, model.frame(~x - 1), contrasts = FALSE):\n",
      "\"non-list contrasts argument ignored\"\n",
      "Warning message in model.matrix.default(~x - 1, model.frame(~x - 1), contrasts = FALSE):\n",
      "\"non-list contrasts argument ignored\"\n",
      "Warning message in model.matrix.default(~x - 1, model.frame(~x - 1), contrasts = FALSE):\n",
      "\"non-list contrasts argument ignored\"\n",
      "Warning message in model.matrix.default(~x - 1, model.frame(~x - 1), contrasts = FALSE):\n",
      "\"non-list contrasts argument ignored\"\n",
      "Warning message in model.matrix.default(~x - 1, model.frame(~x - 1), contrasts = FALSE):\n",
      "\"non-list contrasts argument ignored\"\n",
      "Warning message in model.matrix.default(~x - 1, model.frame(~x - 1), contrasts = FALSE):\n",
      "\"non-list contrasts argument ignored\"\n",
      "Warning message in model.matrix.default(~x - 1, model.frame(~x - 1), contrasts = FALSE):\n",
      "\"non-list contrasts argument ignored\"\n",
      "Warning message in model.matrix.default(~x - 1, model.frame(~x - 1), contrasts = FALSE):\n",
      "\"non-list contrasts argument ignored\"\n",
      "Warning message in model.matrix.default(~x - 1, model.frame(~x - 1), contrasts = FALSE):\n",
      "\"non-list contrasts argument ignored\"\n",
      "Warning message in model.matrix.default(~x - 1, model.frame(~x - 1), contrasts = FALSE):\n",
      "\"non-list contrasts argument ignored\"\n",
      "Warning message in model.matrix.default(~x - 1, model.frame(~x - 1), contrasts = FALSE):\n",
      "\"non-list contrasts argument ignored\"\n",
      "Warning message in model.matrix.default(~x - 1, model.frame(~x - 1), contrasts = FALSE):\n",
      "\"non-list contrasts argument ignored\"\n",
      "Warning message in model.matrix.default(~x - 1, model.frame(~x - 1), contrasts = FALSE):\n",
      "\"non-list contrasts argument ignored\"\n",
      "Warning message in model.matrix.default(~x - 1, model.frame(~x - 1), contrasts = FALSE):\n",
      "\"non-list contrasts argument ignored\"\n",
      "Warning message in model.matrix.default(~x - 1, model.frame(~x - 1), contrasts = FALSE):\n",
      "\"non-list contrasts argument ignored\"\n",
      "Warning message in model.matrix.default(~x - 1, model.frame(~x - 1), contrasts = FALSE):\n",
      "\"non-list contrasts argument ignored\"\n",
      "Warning message in model.matrix.default(~x - 1, model.frame(~x - 1), contrasts = FALSE):\n",
      "\"non-list contrasts argument ignored\"\n"
     ]
    },
    {
     "name": "stdout",
     "output_type": "stream",
     "text": [
      "  amount_tsh basin_Internal basin_Lake_Nyasa basin_Lake_Rukwa\n",
      "1          0              1                0                0\n",
      "2          0              0                0                0\n",
      "3          0              1                0                0\n",
      "4          0              0                0                0\n",
      "5        500              0                0                0\n",
      "6          0              0                0                0\n",
      "  basin_Lake_Tanganyika basin_Lake_Victoria basin_Pangani basin_Rufiji\n",
      "1                     0                   0             0            0\n",
      "2                     0                   0             1            0\n",
      "3                     0                   0             0            0\n",
      "4                     0                   0             0            0\n",
      "5                     0                   0             0            0\n",
      "6                     0                   0             1            0\n",
      "  basin_Ruvuma_/_Southern_Coast basin_Wami_/_Ruvu construction_year\n",
      "1                             0                 0              2012\n",
      "2                             0                 0              2000\n",
      "3                             0                 0              2010\n",
      "4                             1                 0              1987\n",
      "5                             1                 0              2000\n",
      "6                             0                 0              1990\n",
      "  date_recorded district_code extraction_type_class_gravity\n",
      "1         15740             3                             0\n",
      "2         15740             2                             1\n",
      "3         15737             2                             0\n",
      "4         15727            43                             0\n",
      "5         15791             3                             1\n",
      "6         15768             2                             1\n",
      "  extraction_type_class_handpump extraction_type_class_motorpump\n",
      "1                              0                               0\n",
      "2                              0                               0\n",
      "3                              0                               0\n",
      "4                              0                               0\n",
      "5                              0                               0\n",
      "6                              0                               0\n",
      "  extraction_type_class_other extraction_type_class_rope_pump\n",
      "1                           1                               0\n",
      "2                           0                               0\n",
      "3                           1                               0\n",
      "4                           1                               0\n",
      "5                           0                               0\n",
      "6                           0                               0\n",
      "  extraction_type_class_submersible extraction_type_class_wind-powered\n",
      "1                                 0                                  0\n",
      "2                                 0                                  0\n",
      "3                                 0                                  0\n",
      "4                                 0                                  0\n",
      "5                                 0                                  0\n",
      "6                                 0                                  0\n",
      "  extraction_type_group_afridev extraction_type_group_gravity\n",
      "1                             0                             0\n",
      "2                             0                             1\n",
      "3                             0                             0\n",
      "4                             0                             0\n",
      "5                             0                             1\n",
      "6                             0                             1\n",
      "  extraction_type_group_india_mark_ii extraction_type_group_india_mark_iii\n",
      "1                                   0                                    0\n",
      "2                                   0                                    0\n",
      "3                                   0                                    0\n",
      "4                                   0                                    0\n",
      "5                                   0                                    0\n",
      "6                                   0                                    0\n",
      "  extraction_type_group_mono extraction_type_group_nira/tanira\n",
      "1                          0                                 0\n",
      "2                          0                                 0\n",
      "3                          0                                 0\n",
      "4                          0                                 0\n",
      "5                          0                                 0\n",
      "6                          0                                 0\n",
      "  extraction_type_group_other extraction_type_group_other_handpump\n",
      "1                           1                                    0\n",
      "2                           0                                    0\n",
      "3                           1                                    0\n",
      "4                           1                                    0\n",
      "5                           0                                    0\n",
      "6                           0                                    0\n",
      "  extraction_type_group_other_motorpump extraction_type_group_rope_pump\n",
      "1                                     0                               0\n",
      "2                                     0                               0\n",
      "3                                     0                               0\n",
      "4                                     0                               0\n",
      "5                                     0                               0\n",
      "6                                     0                               0\n",
      "  extraction_type_group_submersible extraction_type_group_swn_80\n",
      "1                                 0                            0\n",
      "2                                 0                            0\n",
      "3                                 0                            0\n",
      "4                                 0                            0\n",
      "5                                 0                            0\n",
      "6                                 0                            0\n",
      "  extraction_type_group_wind-powered gps_height    id installer\n",
      "1                                  0       1996 50785         0\n",
      "2                                  0       1569 51630         0\n",
      "3                                  0       1567 17168         0\n",
      "4                                  0        267 45559         0\n",
      "5                                  0       1260 49871         0\n",
      "6                                  0       1685 52449         0\n",
      "  lga_Arusha_Rural lga_Babati lga_Bagamoyo lga_Bahi lga_Bariadi lga_Biharamulo\n",
      "1                0          0            0        0           0              0\n",
      "2                1          0            0        0           0              0\n",
      "3                0          0            0        0           0              0\n",
      "4                0          0            0        0           0              0\n",
      "5                0          0            0        0           0              0\n",
      "6                1          0            0        0           0              0\n",
      "  lga_Bukoba_Rural lga_Bukoba_Urban lga_Bukombe lga_Bunda lga_Chamwino\n",
      "1                0                0           0         0            0\n",
      "2                0                0           0         0            0\n",
      "3                0                0           0         0            0\n",
      "4                0                0           0         0            0\n",
      "5                0                0           0         0            0\n",
      "6                0                0           0         0            0\n",
      "  lga_Chato lga_Chunya lga_Dodoma_Urban lga_Hai lga_Hanang lga_Handeni\n",
      "1         0          0                0       0          0           0\n",
      "2         0          0                0       0          0           0\n",
      "3         0          0                0       0          0           0\n",
      "4         0          0                0       0          0           0\n",
      "5         0          0                0       0          0           0\n",
      "6         0          0                0       0          0           0\n",
      "  lga_Igunga lga_Ilala lga_Ileje lga_Ilemela lga_Iramba lga_Iringa_Rural\n",
      "1          0         0         0           0          0                0\n",
      "2          0         0         0           0          0                0\n",
      "3          0         0         0           0          0                0\n",
      "4          0         0         0           0          0                0\n",
      "5          0         0         0           0          0                0\n",
      "6          0         0         0           0          0                0\n",
      "  lga_Kahama lga_Karagwe lga_Karatu lga_Kasulu lga_Kibaha lga_Kibondo\n",
      "1          0           0          0          0          0           0\n",
      "2          0           0          0          0          0           0\n",
      "3          0           0          0          0          0           0\n",
      "4          0           0          0          0          0           0\n",
      "5          0           0          0          0          0           0\n",
      "6          0           0          0          0          0           0\n",
      "  lga_Kigoma_Rural lga_Kigoma_Urban lga_Kilindi lga_Kilolo lga_Kilombero\n",
      "1                0                0           0          0             0\n",
      "2                0                0           0          0             0\n",
      "3                0                0           0          0             0\n",
      "4                0                0           0          0             0\n",
      "5                0                0           0          0             0\n",
      "6                0                0           0          0             0\n",
      "  lga_Kilosa lga_Kilwa lga_Kinondoni lga_Kisarawe lga_Kishapu lga_Kiteto\n",
      "1          0         0             0            0           0          0\n",
      "2          0         0             0            0           0          0\n",
      "3          0         0             0            0           0          0\n",
      "4          0         0             0            0           0          0\n",
      "5          0         0             0            0           0          0\n",
      "6          0         0             0            0           0          0\n",
      "  lga_Kondoa lga_Kongwa lga_Korogwe lga_Kwimba lga_Kyela lga_Lindi_Rural\n",
      "1          0          0           0          0         0               0\n",
      "2          0          0           0          0         0               0\n",
      "3          0          0           0          0         0               0\n",
      "4          0          0           0          0         0               0\n",
      "5          0          0           0          0         0               0\n",
      "6          0          0           0          0         0               0\n",
      "  lga_Lindi_Urban lga_Liwale lga_Longido lga_Ludewa lga_Lushoto lga_Mafia\n",
      "1               0          0           0          0           0         0\n",
      "2               0          0           0          0           0         0\n",
      "3               0          0           0          0           0         0\n",
      "4               0          1           0          0           0         0\n",
      "5               0          0           0          0           0         0\n",
      "6               0          0           0          0           0         0\n",
      "  lga_Magu lga_Makete lga_Manyoni lga_Masasi lga_Maswa lga_Mbarali\n",
      "1        0          0           0          0         0           0\n",
      "2        0          0           0          0         0           0\n",
      "3        0          0           0          0         0           0\n",
      "4        0          0           0          0         0           0\n",
      "5        0          0           0          0         0           0\n",
      "6        0          0           0          0         0           0\n",
      "  lga_Mbeya_Rural lga_Mbinga lga_Mbozi lga_Mbulu lga_Meatu lga_Meru lga_Misenyi\n",
      "1               0          0         0         1         0        0           0\n",
      "2               0          0         0         0         0        0           0\n",
      "3               0          0         0         0         0        0           0\n",
      "4               0          0         0         0         0        0           0\n",
      "5               0          1         0         0         0        0           0\n",
      "6               0          0         0         0         0        0           0\n",
      "  lga_Missungwi lga_Mkinga lga_Mkuranga lga_Morogoro_Rural lga_Morogoro_Urban\n",
      "1             0          0            0                  0                  0\n",
      "2             0          0            0                  0                  0\n",
      "3             0          0            0                  0                  0\n",
      "4             0          0            0                  0                  0\n",
      "5             0          0            0                  0                  0\n",
      "6             0          0            0                  0                  0\n",
      "  lga_Moshi_Rural lga_Moshi_Urban lga_Mpanda lga_Mpwapwa lga_Mtwara_Rural\n",
      "1               0               0          0           0                0\n",
      "2               0               0          0           0                0\n",
      "3               0               0          0           0                0\n",
      "4               0               0          0           0                0\n",
      "5               0               0          0           0                0\n",
      "6               0               0          0           0                0\n",
      "  lga_Mtwara_Urban lga_Mufindi lga_Muheza lga_Muleba lga_Musoma_Rural\n",
      "1                0           0          0          0                0\n",
      "2                0           0          0          0                0\n",
      "3                0           0          0          0                0\n",
      "4                0           0          0          0                0\n",
      "5                0           0          0          0                0\n",
      "6                0           0          0          0                0\n",
      "  lga_Mvomero lga_Mwanga lga_Nachingwea lga_Namtumbo lga_Nanyumbu lga_Newala\n",
      "1           0          0              0            0            0          0\n",
      "2           0          0              0            0            0          0\n",
      "3           0          0              0            0            0          0\n",
      "4           0          0              0            0            0          0\n",
      "5           0          0              0            0            0          0\n",
      "6           0          0              0            0            0          0\n",
      "  lga_Ngara lga_Ngorongoro lga_Njombe lga_Nkasi lga_Nyamagana lga_Nzega\n",
      "1         0              0          0         0             0         0\n",
      "2         0              0          0         0             0         0\n",
      "3         0              0          0         0             0         0\n",
      "4         0              0          0         0             0         0\n",
      "5         0              0          0         0             0         0\n",
      "6         0              0          0         0             0         0\n",
      "  lga_Pangani lga_Rombo lga_Rorya lga_Ruangwa lga_Rufiji lga_Same lga_Sengerema\n",
      "1           0         0         0           0          0        0             0\n",
      "2           0         0         0           0          0        0             0\n",
      "3           0         0         0           0          0        0             0\n",
      "4           0         0         0           0          0        0             0\n",
      "5           0         0         0           0          0        0             0\n",
      "6           0         0         0           0          0        0             0\n",
      "  lga_Serengeti lga_Shinyanga_Rural lga_Shinyanga_Urban lga_Siha lga_Sikonge\n",
      "1             0                   0                   0        0           0\n",
      "2             0                   0                   0        0           0\n",
      "3             0                   0                   0        0           0\n",
      "4             0                   0                   0        0           0\n",
      "5             0                   0                   0        0           0\n",
      "6             0                   0                   0        0           0\n",
      "  lga_Simanjiro lga_Singida_Rural lga_Singida_Urban lga_Songea_Rural\n",
      "1             0                 0                 0                0\n",
      "2             0                 0                 0                0\n",
      "3             0                 1                 0                0\n",
      "4             0                 0                 0                0\n",
      "5             0                 0                 0                0\n",
      "6             0                 0                 0                0\n",
      "  lga_Songea_Urban lga_Sumbawanga_Rural lga_Sumbawanga_Urban lga_Tabora_Urban\n",
      "1                0                    0                    0                0\n",
      "2                0                    0                    0                0\n",
      "3                0                    0                    0                0\n",
      "4                0                    0                    0                0\n",
      "5                0                    0                    0                0\n",
      "6                0                    0                    0                0\n",
      "  lga_Tandahimba lga_Tanga lga_Tarime lga_Temeke lga_Tunduru lga_Ukerewe\n",
      "1              0         0          0          0           0           0\n",
      "2              0         0          0          0           0           0\n",
      "3              0         0          0          0           0           0\n",
      "4              0         0          0          0           0           0\n",
      "5              0         0          0          0           0           0\n",
      "6              0         0          0          0           0           0\n",
      "  lga_Ulanga lga_Urambo lga_Uyui management_company management_group_commercial\n",
      "1          0          0        0                  0                           0\n",
      "2          0          0        0                  0                           0\n",
      "3          0          0        0                  0                           0\n",
      "4          0          0        0                  0                           0\n",
      "5          0          0        0                  0                           0\n",
      "6          0          0        0                  0                           0\n",
      "  management_group_other management_group_parastatal management_group_unknown\n",
      "1                      0                           1                        0\n",
      "2                      0                           0                        0\n",
      "3                      0                           0                        0\n",
      "4                      0                           0                        0\n",
      "5                      0                           0                        0\n",
      "6                      0                           0                        0\n",
      "  management_group_user-group management_other management_other_-_school\n",
      "1                           0                0                         0\n",
      "2                           1                0                         0\n",
      "3                           1                0                         0\n",
      "4                           1                0                         0\n",
      "5                           1                0                         0\n",
      "6                           1                0                         0\n",
      "  management_parastatal management_private_operator management_trust\n",
      "1                     1                           0                0\n",
      "2                     0                           0                0\n",
      "3                     0                           0                0\n",
      "4                     0                           0                0\n",
      "5                     0                           0                0\n",
      "6                     0                           0                0\n",
      "  management_unknown management_vwc management_water_authority\n",
      "1                  0              0                          0\n",
      "2                  0              1                          0\n",
      "3                  0              1                          0\n",
      "4                  0              1                          0\n",
      "5                  0              0                          0\n",
      "6                  0              1                          0\n",
      "  management_water_board management_wua management_wug num_private\n",
      "1                      0              0              0           0\n",
      "2                      0              0              0           0\n",
      "3                      0              0              0           0\n",
      "4                      0              0              0           0\n",
      "5                      1              0              0           0\n",
      "6                      0              0              0           0\n",
      "  payment_type_annually payment_type_monthly payment_type_never_pay\n",
      "1                     0                    0                      1\n",
      "2                     0                    0                      1\n",
      "3                     0                    0                      1\n",
      "4                     0                    0                      0\n",
      "5                     0                    1                      0\n",
      "6                     0                    0                      1\n",
      "  payment_type_on_failure payment_type_other payment_type_per_bucket\n",
      "1                       0                  0                       0\n",
      "2                       0                  0                       0\n",
      "3                       0                  0                       0\n",
      "4                       0                  0                       0\n",
      "5                       0                  0                       0\n",
      "6                       0                  0                       0\n",
      "  payment_type_unknown permit population public_meeting quantity_dry\n",
      "1                    0      0        321              0            0\n",
      "2                    0      0        300              0            0\n",
      "3                    0      0        500              0            0\n",
      "4                    1      0        250              0            1\n",
      "5                    0      0         60              0            0\n",
      "6                    0      0        200              0            0\n",
      "  quantity_enough quantity_insufficient quantity_seasonal quantity_unknown\n",
      "1               0                     0                 1                0\n",
      "2               0                     1                 0                0\n",
      "3               0                     1                 0                0\n",
      "4               0                     0                 0                0\n",
      "5               1                     0                 0                0\n",
      "6               1                     0                 0                0\n",
      "  region_Arusha region_code region_Dar_es_Salaam region_Dodoma region_Iringa\n",
      "1             0          21                    0             0             0\n",
      "2             1           2                    0             0             0\n",
      "3             0          13                    0             0             0\n",
      "4             0          80                    0             0             0\n",
      "5             0          10                    0             0             0\n",
      "6             1           2                    0             0             0\n",
      "  region_Kagera region_Kigoma region_Kilimanjaro region_kmeans region_Lindi\n",
      "1             0             0                  0             2            0\n",
      "2             0             0                  0             1            0\n",
      "3             0             0                  0             2            0\n",
      "4             0             0                  0             8            1\n",
      "5             0             0                  0             7            0\n",
      "6             0             0                  0             1            0\n",
      "  region_Manyara region_Mara region_Mbeya region_Morogoro region_Mtwara\n",
      "1              1           0            0               0             0\n",
      "2              0           0            0               0             0\n",
      "3              0           0            0               0             0\n",
      "4              0           0            0               0             0\n",
      "5              0           0            0               0             0\n",
      "6              0           0            0               0             0\n",
      "  region_Mwanza region_Pwani region_Rukwa region_Ruvuma region_Shinyanga\n",
      "1             0            0            0             0                0\n",
      "2             0            0            0             0                0\n",
      "3             0            0            0             0                0\n",
      "4             0            0            0             0                0\n",
      "5             0            0            0             1                0\n",
      "6             0            0            0             0                0\n",
      "  region_Singida region_Tabora region_Tanga source_class source_dam\n",
      "1              0             0            0            0          0\n",
      "2              0             0            0            0          0\n",
      "3              1             0            0            0          0\n",
      "4              0             0            0            0          0\n",
      "5              0             0            0            0          0\n",
      "6              0             0            0            0          0\n",
      "  source_hand_dtw source_lake source_machine_dbh source_rainwater_harvesting\n",
      "1               0           0                  0                           1\n",
      "2               0           0                  0                           0\n",
      "3               0           0                  0                           1\n",
      "4               0           0                  0                           0\n",
      "5               0           0                  0                           0\n",
      "6               0           0                  0                           0\n",
      "  source_river source_shallow_well source_spring water_quality_coloured\n",
      "1            0                   0             0                      0\n",
      "2            0                   0             1                      0\n",
      "3            0                   0             0                      0\n",
      "4            0                   1             0                      0\n",
      "5            0                   0             1                      0\n",
      "6            0                   0             1                      0\n",
      "  water_quality_fluoride water_quality_fluoride_abandoned water_quality_milky\n",
      "1                      0                                0                   0\n",
      "2                      0                                0                   0\n",
      "3                      0                                0                   0\n",
      "4                      0                                0                   0\n",
      "5                      0                                0                   0\n",
      "6                      0                                0                   0\n",
      "  water_quality_salty water_quality_salty_abandoned water_quality_soft\n",
      "1                   0                             0                  1\n",
      "2                   0                             0                  1\n",
      "3                   0                             0                  1\n",
      "4                   0                             0                  1\n",
      "5                   0                             0                  1\n",
      "6                   0                             0                  1\n",
      "  water_quality_unknown waterpoint_type_cattle_trough\n",
      "1                     0                             0\n",
      "2                     0                             0\n",
      "3                     0                             0\n",
      "4                     0                             0\n",
      "5                     0                             0\n",
      "6                     0                             0\n",
      "  waterpoint_type_communal_standpipe\n",
      "1                                  0\n",
      "2                                  1\n",
      "3                                  0\n",
      "4                                  0\n",
      "5                                  1\n",
      "6                                  1\n",
      "  waterpoint_type_communal_standpipe_multiple waterpoint_type_dam\n",
      "1                                           0                   0\n",
      "2                                           0                   0\n",
      "3                                           0                   0\n",
      "4                                           0                   0\n",
      "5                                           0                   0\n",
      "6                                           0                   0\n",
      "  waterpoint_type_hand_pump waterpoint_type_improved_spring\n",
      "1                         0                               0\n",
      "2                         0                               0\n",
      "3                         0                               0\n",
      "4                         0                               0\n",
      "5                         0                               0\n",
      "6                         0                               0\n",
      "  waterpoint_type_other\n",
      "1                     1\n",
      "2                     0\n",
      "3                     1\n",
      "4                     1\n",
      "5                     0\n",
      "6                     0\n"
     ]
    }
   ],
   "source": [
    "test_preproc <- preprocess_test2(eval_data)\n",
    "save(test_preproc, file = \"test_preproc.Rdata\")"
   ]
  },
  {
   "cell_type": "code",
   "execution_count": 42,
   "metadata": {
    "scrolled": true
   },
   "outputs": [
    {
     "data": {
      "text/html": [
       "<style>\n",
       ".list-inline {list-style: none; margin:0; padding: 0}\n",
       ".list-inline>li {display: inline-block}\n",
       ".list-inline>li:not(:last-child)::after {content: \"\\00b7\"; padding: 0 .5ex}\n",
       "</style>\n",
       "<ol class=list-inline><li>14850</li><li>100</li></ol>\n"
      ],
      "text/latex": [
       "\\begin{enumerate*}\n",
       "\\item 14850\n",
       "\\item 100\n",
       "\\end{enumerate*}\n"
      ],
      "text/markdown": [
       "1. 14850\n",
       "2. 100\n",
       "\n",
       "\n"
      ],
      "text/plain": [
       "[1] 14850   100"
      ]
     },
     "metadata": {},
     "output_type": "display_data"
    }
   ],
   "source": [
    "dim(test_preproc)"
   ]
  },
  {
   "cell_type": "code",
   "execution_count": 43,
   "metadata": {},
   "outputs": [],
   "source": [
    "train_cols <- colnames(data_preproc)\n",
    "for(c in colnames(test_preproc)) {\n",
    "    if(!(c %in% train_cols)) {\n",
    "        print(c)\n",
    "    }\n",
    "}"
   ]
  },
  {
   "cell_type": "markdown",
   "metadata": {},
   "source": [
    "## Feature engineering"
   ]
  },
  {
   "cell_type": "markdown",
   "metadata": {},
   "source": [
    "## Feature selection"
   ]
  },
  {
   "cell_type": "markdown",
   "metadata": {},
   "source": [
    "# Model selection"
   ]
  },
  {
   "cell_type": "markdown",
   "metadata": {},
   "source": [
    "## Model 1\n"
   ]
  },
  {
   "cell_type": "code",
   "execution_count": 152,
   "metadata": {},
   "outputs": [
    {
     "name": "stderr",
     "output_type": "stream",
     "text": [
      "Warning message:\n",
      "\"package 'nnet' was built under R version 4.0.5\"\n"
     ]
    }
   ],
   "source": [
    "library(\"nnet\")"
   ]
  },
  {
   "cell_type": "code",
   "execution_count": 51,
   "metadata": {},
   "outputs": [],
   "source": [
    "accuracyFromConfusionMatrix <- function(confusion_matrix){\n",
    "   \n",
    "    full_confusion_matrix <-matrix(0, nrow = 3, ncol = 3)\n",
    "    colnames(full_confusion_matrix) <- colnames(confusion_matrix)\n",
    "    rownames(full_confusion_matrix) <- colnames(confusion_matrix)\n",
    "    full_confusion_matrix[rownames(confusion_matrix),] <- confusion_matrix[rownames(confusion_matrix),]\n",
    "    return((full_confusion_matrix[1,1]+full_confusion_matrix[2,2]+full_confusion_matrix[3,3])/sum(full_confusion_matrix))\n",
    "}\n",
    "\n",
    "\n",
    "computeResults <- function(Y,Y_hat,explanatory_string=\"\",verbose=TRUE){\n",
    " \n",
    "    confusion_matrix <- table(Y_hat,Y)\n",
    "    accuracy <- accuracyFromConfusionMatrix(confusion_matrix)\n",
    "    misclassification_rate <- 1 - accuracy\n",
    "    \n",
    "    if(verbose){\n",
    "        print(paste(\"[INFO] - Confusion matrix\",explanatory_string,\":\"))\n",
    "        print(confusion_matrix)\n",
    "        print(paste(\"[INFO] - Accuracy\",explanatory_string,\":\",accuracy))\n",
    "        print(paste(\"[INFO] - Misclassification rate\",explanatory_string,\":\",misclassification_rate))\n",
    "    }\n",
    "    return(accuracy)\n",
    "}"
   ]
  },
  {
   "cell_type": "code",
   "execution_count": 13,
   "metadata": {},
   "outputs": [],
   "source": [
    "library(\"nnet\")\n",
    "library(\"randomForest\")\n",
    "library(\"RSNNS\")\n",
    "\n",
    "#Cross validation\n",
    "crossValidationInOutSample <- function(parameter,k,model_type){\n",
    "    data <- data_preproc\n",
    "    target_variable <- ncol(data)\n",
    "    accuracy_vec <- c()\n",
    "    \n",
    "    # 1. Shuffle the dataset randomly.\n",
    "    data_idx <- sample(1:nrow(data))\n",
    "    half_split <- floor(nrow(data)/2)\n",
    "    target_variable <- ncol(data)\n",
    "    \n",
    "    # 2. Split the dataset into k groups\n",
    "    max <- ceiling(nrow(data)/k)\n",
    "    splits <- split(data_idx, ceiling(seq_along(data_idx)/max))\n",
    "    \n",
    "     # 2. Normalize dataset\n",
    "    data_n <- data[,-target_variable]\n",
    "    scaled <- scale(data_n)\n",
    "\n",
    "    # 3. For each unique group:\n",
    "    for (i in 1:k){\n",
    "        if (model_type==\"nnet\" || model_type==\"random_forest\"){\n",
    "            #3.1 Take the group as a hold out or test data set\n",
    "            train_data <- data[-splits[[i]],]\n",
    "            #3.2 Take the remaining groups as a training data set\n",
    "            test_data <- data[splits[[i]],]\n",
    "            Y <- test_data[,target_variable]\n",
    "            print(paste(\"[INFO] - Training set size:\",dim(train_data)[1],\"- Testing set size\",dim(test_data)[1]))\n",
    "        }\n",
    "        if (model_type==\"radial\" || model_type==\"mlp\"){\n",
    "            train_data <- scaled[-splits[[i]],]\n",
    "            train_label <- data[-splits[[i]],target_variable]\n",
    "            test_data <- scaled[splits[[i]],]\n",
    "            test_label <- data[splits[[i]],target_variable]\n",
    "            n_train <- dim(train_data)[1]\n",
    "            Y <- test_label\n",
    "        } \n",
    "        #3.3 Fit a model on the training set and evaluate it on the test set\n",
    "        if(model_type==\"nnet\"){\n",
    "              model_single_out <- nnet(status_group ~ ., data=train_data,size=parameter,\n",
    "                                 skip=FALSE, maxit=100,rang=0.2,MaxNWts=10000,trace=FALSE)\n",
    "              Y_pred<-predict(model_single_out,test_data[,-target_variable])\n",
    "              Y_hat <- colnames(Y_pred)[max.col(Y_pred,ties.method=\"first\")]\n",
    "     \n",
    "        }\n",
    "        if(model_type==\"random_forest\"){\n",
    "            model_single_out <- randomForest(x=train_data[,-c(target_variable)],\n",
    "                          y=as.factor(train_data[,c(target_variable)]),\n",
    "                          xtest=test_data[,-c(target_variable)],\n",
    "                          ytest=as.factor(test_data[,c(target_variable)]),\n",
    "                          ntree=parameter,keep.forest=TRUE)\n",
    "            Y_hat <- predict(model_single_out,newdata = test_data[,-target_variable])\n",
    "            \n",
    "            #accuracy_vec[i] = (model$test$confusion[1,1]+model$test$confusion[2,2]+model$test$confusion[3,3])/sum(model$test$confusion)\n",
    "        }\n",
    "        if (model_type==\"radial\"){\n",
    "          model <- RSNNS::rbf(as.matrix(train_data),\n",
    "                           decodeClassLabels(as.matrix(train_label)), # Training labels must be provided with one-hot-encoding\n",
    "                           size=parameter, \n",
    "                           maxit=75, \n",
    "                           #initFuncParams=c(0, 1, 0, 0.01, 0.01),\n",
    "                           #initFunc=\"RBF_Weights_Kohonen\",\n",
    "                           learnFuncParams=c(1e-8, 0, 1e-8, 0.1, 0.8), linOut=T, trace=T)\n",
    "          Y_pred <- predict(model,test_data)\n",
    "          colnames(Y_pred) <- c(\"functional\", \"functional needs repair\", \"non functional\")\n",
    "          Y_hat <- colnames(Y_pred)[max.col(Y_pred,ties.method=\"first\")]\n",
    "\n",
    "        }\n",
    "        if(model_type==\"mlp\"){\n",
    "              model <- mlp(train_data, decodeClassLabels(train_label), size =parameter, maxit = 100)\n",
    "              Y_pred <- predict(model,test_data)\n",
    "              colnames(Y_pred) <- c(\"functional\", \"functional needs repair\", \"non functional\")\n",
    "              Y_hat <- colnames(Y_pred)[max.col(Y_pred,ties.method=\"first\")]\n",
    "         }\n",
    "\n",
    "\n",
    "        accuracy_vec[i] <- computeResults(Y,Y_hat,paste(i,\"fold\"))\n",
    "\n",
    "        }\n",
    "\n",
    "    # 4.1 Summarize the skill of the model using the sample of model evaluation scores\n",
    "    print(paste(\"[INFO] - CV - Accuracy:\",mean(accuracy_vec)))\n",
    "    print(paste(\"[INFO] - CV - Mean misclassification rate:\",1-mean(accuracy_vec)))\n",
    "    \n",
    "    accuracy <- inOutSampleTest(data,scaled,target_variable,data_idx,half_split,parameter)\n",
    "    \n",
    "    return(list(in_sample=accuracy$in_sample,out_sample=accuracy$out_sample,cv=mean(accuracy_vec)))\n",
    "}\n",
    "\n",
    "\n"
   ]
  },
  {
   "cell_type": "code",
   "execution_count": 14,
   "metadata": {},
   "outputs": [],
   "source": [
    "inOutSampleTest <- function(data,scaled,target_variable,data_idx,half_split,parameter){\n",
    "     # 4.2 Split training-test for in/out of sample predictions\n",
    "    if (model_type==\"nnet\" || model_type==\"random_forest\"){\n",
    "        train_data <- data[data_idx[1:half_split],]\n",
    "        test_data <- data[data_idx[(half_split+1):nrow(data)],]\n",
    "    } \n",
    "    if (model_type==\"radial\" || model_type==\"mlp\"){\n",
    "        train_data <- scaled[data_idx[1:half_split],]\n",
    "        test_data <- scaled[data_idx[(half_split+1):nrow(data)],]\n",
    "        n_train <- dim(train_data)[1]\n",
    "    } \n",
    "    train_label <- data[data_idx[1:half_split],target_variable]\n",
    "    test_label <- data[data_idx[(half_split+1):nrow(data)],target_variable]\n",
    "    Y <- test_label\n",
    "    if(model_type==\"nnet\"){\n",
    "        model_single_out <- nnet(status_group ~ ., data=train_data,size=parameter,trace=F,skip=FALSE,maxit=100,rang=0.2,MaxNWts=10000)\n",
    "\n",
    "    } \n",
    "    if(model_type==\"random_forest\"){\n",
    "            model_single_out <- randomForest(x=train_data[,-c(target_variable)],\n",
    "                          y=as.factor(train_data[,c(target_variable)]),\n",
    "                          xtest=test_data[,-c(target_variable)],\n",
    "                          ytest=as.factor(test_data[,c(target_variable)]),\n",
    "                          ntree=parameter,keep.forest=TRUE)\n",
    "            \n",
    "    } \n",
    "    if (model_type==\"radial\"){\n",
    "      model_single_out <- RSNNS::rbf(as.matrix(train_data),\n",
    "                       decodeClassLabels(as.matrix(train_label)), # Training labels must be provided with one-hot-encoding\n",
    "                       size=parameter, \n",
    "                       maxit=75, \n",
    "                       #initFuncParams=c(0, 1, 0, 0.01, 0.01),\n",
    "                       #initFunc=\"RBF_Weights_Kohonen\",\n",
    "                       learnFuncParams=c(1e-8, 0, 1e-8, 0.1, 0.8), linOut=T, trace=T)\n",
    "    } \n",
    "    if(model_type==\"mlp\"){\n",
    "          model_single_out <- mlp(train_data, decodeClassLabels(train_label), size =parameter, maxit = 100)\n",
    "    } \n",
    "    \n",
    "    if(model_type==\"random_forest\"){\n",
    "        # In sample evaluation \n",
    "        Y_hat_single_out_in_sample  <- predict(model_single_out,train_data[,-target_variable])\n",
    "        # Out of sample evaluation \n",
    "        Y_hat_single_out_out_sample <- predict(model_single_out,test_data[,-target_variable])\n",
    "    }else{\n",
    "        # In sample evaluation \n",
    "        Y_pred<-predict(model_single_out,train_data[,-target_variable])\n",
    "        colnames(Y_pred) <- c(\"functional\", \"functional needs repair\", \"non functional\")\n",
    "        Y_hat_single_out_in_sample <- colnames(Y_pred)[max.col(Y_pred,ties.method=\"first\")]\n",
    "         # Out of sample evaluation \n",
    "        Y_pred<-predict(model_single_out,test_data[,-target_variable])\n",
    "        colnames(Y_pred) <- c(\"functional\", \"functional needs repair\", \"non functional\")\n",
    "        Y_hat_single_out_out_sample <- colnames(Y_pred)[max.col(Y_pred,ties.method=\"first\")]\n",
    "    }\n",
    "      \n",
    "    #print(head(Y_hat_single_out_in_sample))  \n",
    "    accuracy_in_sample <- computeResults(train_label,Y_hat_single_out_in_sample,\"In sample\")\n",
    "    accuracy_out_sample <- computeResults(Y,Y_hat_single_out_out_sample,\"Out sample\")\n",
    "    return (list(in_sample=accuracy_in_sample,out_sample=accuracy_out_sample))\n",
    "}\n"
   ]
  },
  {
   "cell_type": "code",
   "execution_count": 15,
   "metadata": {},
   "outputs": [],
   "source": [
    "applyCVInOutComp <- function(parameters,k,model_type){\n",
    "    error_in_sample_vec <- numeric()\n",
    "    error_out_sample_vec <- numeric()\n",
    "    error_cv_vec <- numeric()\n",
    "\n",
    "    for(parameter in parameters){\n",
    "        print(paste(\"[INFO] - Testing h=\",parameter))\n",
    "        results <- crossValidationInOutSample(parameter,k,model_type)\n",
    "        error_in_sample_vec <- c(error_in_sample_vec,results$in_sample)\n",
    "        error_out_sample_vec <- c(error_out_sample_vec,results$out_sample)\n",
    "        error_cv_vec <- c(error_cv_vec,results$cv)\n",
    "    }\n",
    "    save(error_in_sample_vec,error_out_sample_vec,error_cv_vec,file=\"CV.Rdata\")\n",
    "}\n",
    "    "
   ]
  },
  {
   "cell_type": "code",
   "execution_count": null,
   "metadata": {},
   "outputs": [],
   "source": [
    "model_type = \"radial\"\n",
    "k <- 2\n",
    "#parameters <- c(c(2,1),c(5,2),3)\n",
    "parameters <- list(1,3,2)\n",
    "load(file = \"data_preproc.Rdata\")\n",
    "applyCVInOutComp(parameters,k,model_type)\n"
   ]
  },
  {
   "cell_type": "code",
   "execution_count": 163,
   "metadata": {},
   "outputs": [
    {
     "data": {
      "image/png": "[encoded data removed]",
      "text/plain": [
       "Plot with title \"Classification accuracy as a function of number of hidden neurons\""
      ]
     },
     "metadata": {
      "image/png": {
       "height": 420,
       "width": 420
      }
     },
     "output_type": "display_data"
    }
   ],
   "source": [
    "load(\"CV.Rdata\")\n",
    "plot(parameters,error_in_sample_vec,type=\"n\",main=\"Classification accuracy as a function of number of hidden neurons\",xlab=\"Hidden neurons\",ylab=\"Accuracy\")\n",
    "lines(parameters,error_in_sample_vec)\n",
    "lines(parameters,error_out_sample_vec,col=\"blue\")\n",
    "lines(parameters,error_cv_vec,col=\"red\")\n",
    "legend(\"bottomright\",legend=c(\"In sample\",\"Out of sample\",\"CV\"),col=c(\"black\",\"blue\",\"red\"),lty=c(1,1,1))"
   ]
  },
  {
   "cell_type": "code",
   "execution_count": 49,
   "metadata": {},
   "outputs": [
    {
     "name": "stderr",
     "output_type": "stream",
     "text": [
      "Warning message:\n",
      "\"package 'nnet' was built under R version 4.0.5\"\n",
      "Warning message:\n",
      "\"package 'RSNNS' was built under R version 4.0.5\"\n",
      "Loading required package: Rcpp\n",
      "\n",
      "Warning message:\n",
      "\"package 'Rcpp' was built under R version 4.0.5\"\n"
     ]
    },
    {
     "name": "stdout",
     "output_type": "stream",
     "text": [
      "[1] \"done\"\n"
     ]
    }
   ],
   "source": [
    "#install.packages(\"RSNNS\")\n",
    "#install.packages(\"nnet\")\n",
    "library(\"nnet\")\n",
    "library(\"randomForest\")\n",
    "library(\"RSNNS\")\n",
    "\n",
    "BaggingNN <- function(n_bagging_resamples,model_type,hidden_nodes){\n",
    "    \n",
    "     ######################\n",
    "    # TO DO \n",
    "    \n",
    "    # manually select model names\n",
    "    #model_names = seq(n_bagging_resamples)\n",
    "\n",
    "    # create a list based on models names provided\n",
    "    #list_models = lapply(model_names, get)\n",
    "\n",
    "    # set names\n",
    "    #names(list_models) = model_names\n",
    "    ######################\n",
    "    data <- data_preproc\n",
    "    half_split <- floor(nrow(data)/2)\n",
    "    target_variable <- ncol(data)\n",
    "    accuracy_vec <- c()\n",
    "    \n",
    "    # 1. Shuffle the dataset randomly.\n",
    "    set.seed(1717)\n",
    "    data_idx <- sample(1:nrow(data))\n",
    "    \n",
    "    # 2. Normalize dataset\n",
    "    data_n <- data[,-target_variable]\n",
    "    scaled <- scale(data_n)\n",
    "    \n",
    "    # 2. Split shuffled dataset into training and test set\n",
    "    if (model_type==\"nnet\"){\n",
    "         # 2. Normalize dataset\n",
    "         data<-data.frame(data_n,data[,\"status_group\"])\n",
    "         names(data)[length(names(data))]<-\"status_group\" \n",
    "         train_data <- data[data_idx[1:half_split],]\n",
    "         test_data <- data[data_idx[(half_split+1):nrow(data)],]\n",
    "         n_train <- length(train_data)\n",
    "         Y_hat_bagged<-array(0,c(length(test_data),1))\n",
    "         Y <- test_data[,target_variable]\n",
    "    }\n",
    "     if (model_type==\"radial\" || model_type==\"mlp\"){\n",
    "        train_data <- scaled[data_idx[1:half_split],]\n",
    "        train_label <- data[data_idx[1:half_split],target_variable]\n",
    "        test_data <- scaled[data_idx[(half_split+1):nrow(data)],]\n",
    "        test_label <- data[data_idx[(half_split+1):nrow(data)],target_variable]\n",
    "        n_train <- dim(train_data)[1]\n",
    "        Y_hat_bagged<-array(0,c(dim(test_data)[1],1))\n",
    "        Y <- test_label\n",
    "    }\n",
    " \n",
    "   \n",
    "    Y_pred_models<-numeric()\n",
    "   \n",
    "\n",
    "    accuracy_vec<-array(0,c(1,n_bagging_resamples))\n",
    "        print(\"okkke-1-1\")\n",
    "    for (i in 1:n_bagging_resamples)\n",
    "    {\n",
    "      # 1. Resample data from the training set\n",
    "      I_bag <- sample(seq(1,n_train),replace=TRUE)\n",
    "      # 2. Fit model\n",
    "        #model<- 0\n",
    "       # Y_pred <-  0\n",
    "        print(\"okkke11\")\n",
    "      if (model_type == \"nnet\"){\n",
    "          print(\"okkke22\")\n",
    "           model <- nnet (status_group ~ .,train_data[I_bag,],skip=FALSE,\n",
    "                       size=hidden_nodes, maxit=75,trace=F,rang=0.2,MaxNWts=20000)\n",
    "           Y_pred <- predict(model,test_data[,-target_variable])\n",
    "           print(\"whaaat\")\n",
    "      }\n",
    "     if (model_type==\"radial\"){\n",
    "          model <- RSNNS::rbf(as.matrix(train_data[I_bag,]),\n",
    "                           decodeClassLabels(as.matrix(train_label[I_bag])), # Training labels must be provided with one-hot-encoding\n",
    "                           size=hidden_nodes, \n",
    "                           maxit=75, \n",
    "                           #initFuncParams=c(0, 1, 0, 0.01, 0.01),\n",
    "                           #initFunc=\"RBF_Weights_Kohonen\",\n",
    "                           learnFuncParams=c(1e-8, 0, 1e-8, 0.1, 0.8), linOut=T, trace=T)\n",
    "          Y_pred <- predict(model,test_data)\n",
    "          colnames(Y_pred) <- c(\"functional\", \"functional needs repair\", \"non functional\")\n",
    "\n",
    "     }\n",
    "     if(model_type==\"mlp\"){\n",
    "          model <- mlp(train_data[I_bag,], decodeClassLabels(train_label[I_bag]), size = hidden_nodes, maxit = 100)\n",
    "          Y_pred <- predict(model,test_data)\n",
    "          colnames(Y_pred) <- c(\"functional\", \"functional needs repair\", \"non functional\")\n",
    "     }\n",
    "      \n",
    "\n",
    "     \n",
    "    print(i)\n",
    "      result_classification <- colnames(Y_pred)[max.col(Y_pred,ties.method=\"first\")]\n",
    "#       result_classification[1] <- \"functional needs repair\"\n",
    "#       result_classification[2] <- \"non functional\"\n",
    "      Y_pred_models <- cbind(Y_pred_models,result_classification)\n",
    "      accuracy_vec[i] <- computeResults(Y,result_classification,paste(i,\"th model\"),verbose=F)\n",
    "    }\n",
    "\n",
    "\n",
    "   \n",
    "#     # 3. Majority vote of the classifiers to make the prediction\n",
    "\n",
    "     Y_hat_bagged <- apply(Y_pred_models,1,function(x) names(which.max(table(x))))\n",
    "     #Y <- test_data[,target_variable]\n",
    "\n",
    "     accuracy_bag <- computeResults(Y,Y_hat_bagged,\"bagged model\")\n",
    "     print(accuracy_bag)\n",
    "     if (model_type == \"nnet\"){\n",
    "             print(\"okk444\")\n",
    "             model_single_out <- nnet(status_group ~ ., data=train_data,size=hidden_nodes,trace=F,skip=FALSE,maxit=100,rang=0.2,MaxNWts=20000)\n",
    "              \n",
    "     }\n",
    "     if (model_type == \"radial\"){  \n",
    "         model_single_out <- model_single_out <- RSNNS::rbf(as.matrix(train_data),\n",
    "                           decodeClassLabels(train_label),\n",
    "                           #nOutputs=2,\n",
    "                           size=hidden_nodes, \n",
    "                           maxit=150, \n",
    "                           #initFuncParams=c(0, 1, 0, 0.01, 0.01),\n",
    "                          #initFunc=\"RBF_Weights_Kohonen\",\n",
    "                           learnFuncParams=c(1e-8, 0, 1e-8, 0.1, 0.8), linOut=T, trace=T)\n",
    "         \n",
    "     }\n",
    "      if(model_type==\"mlp\"){\n",
    "         model_single_out <- mlp(train_data, decodeClassLabels(train_label), size = hidden_nodes, maxit = 150)\n",
    "      }\n",
    "     Y_pred_single_out <- predict(model_single_out,test_data[,-target_variable])\n",
    "     colnames(Y_pred_single_out) <- c(\"functional\", \"functional needs repair\", \"non functional\")\n",
    "     Y_hat_single_out <- colnames(Y_pred_single_out)[max.col(Y_pred_single_out,ties.method=\"first\")]\n",
    "     accuracy_single_out <- computeResults(Y,Y_hat_single_out,\"single model\")\n",
    "                           \n",
    "     return(list(accuracy_bagged=accuracy_bag,accuracy_simple=accuracy_single_out,bagging_accuracies=accuracy_vec))\n",
    "}\n",
    "print(\"done\")\n"
   ]
  },
  {
   "cell_type": "code",
   "execution_count": 56,
   "metadata": {},
   "outputs": [
    {
     "data": {
      "text/html": [
       "<style>\n",
       ".list-inline {list-style: none; margin:0; padding: 0}\n",
       ".list-inline>li {display: inline-block}\n",
       ".list-inline>li:not(:last-child)::after {content: \"\\00b7\"; padding: 0 .5ex}\n",
       "</style>\n",
       "<ol class=list-inline><li>1</li><li>2</li><li>3</li></ol>\n"
      ],
      "text/latex": [
       "\\begin{enumerate*}\n",
       "\\item 1\n",
       "\\item 2\n",
       "\\item 3\n",
       "\\end{enumerate*}\n"
      ],
      "text/markdown": [
       "1. 1\n",
       "2. 2\n",
       "3. 3\n",
       "\n",
       "\n"
      ],
      "text/plain": [
       "[1] 1 2 3"
      ]
     },
     "metadata": {},
     "output_type": "display_data"
    }
   ],
   "source": [
    "model_names = seq(3)\n",
    "model_names"
   ]
  },
  {
   "cell_type": "code",
   "execution_count": 310,
   "metadata": {},
   "outputs": [
    {
     "name": "stdout",
     "output_type": "stream",
     "text": [
      "[1] \"done\"\n"
     ]
    }
   ],
   "source": [
    "#install.packages(\"RSNNS\")\n",
    "#install.packages(\"nnet\")\n",
    "library(\"nnet\")\n",
    "library(\"randomForest\")\n",
    "library(\"RSNNS\")\n",
    "\n",
    "Bagging_test <- function(n_bagging_resamples,model_type,hidden_nodes){\n",
    "    data <- data_preproc\n",
    "    target_variable <- ncol(data)\n",
    "    # 1. Shuffle the dataset randomly.\n",
    "    set.seed(1717)\n",
    "    data_idx <- sample(1:nrow(data))\n",
    "    \n",
    "    # 2. Normalize dataset\n",
    "    data_n <- data[,-target_variable]\n",
    "    scaled <- scale(data_n)\n",
    "    \n",
    "    # 2. Split shuffled dataset into training and test set\n",
    "    if (model_type==\"nnet\"){\n",
    "         # 2. Normalize dataset\n",
    "         data<-data.frame(data_n,data[,\"status_group\"])\n",
    "         names(data)[length(names(data))]<-\"status_group\" \n",
    "         train_data <- data[data_idx[1:half_split],]\n",
    "         test_data <- test_preproc\n",
    "         n_train <- length(train_data)\n",
    "         Y_hat_bagged<-array(0,c(length(test_data),1))\n",
    "    }\n",
    "     if (model_type==\"radial\" || model_type==\"mlp\"){\n",
    "        train_data <- scaled[data_idx,]\n",
    "        train_label <- data[data_idx,target_variable]\n",
    "        test_data <- test_preproc\n",
    "        n_train <- dim(train_data)[1]\n",
    "        Y_hat_bagged<-array(0,c(dim(test_data)[1],1))\n",
    "    }\n",
    " \n",
    "   \n",
    "    Y_pred_models<-numeric()\n",
    "   \n",
    "\n",
    "    accuracy_vec<-array(0,c(1,n_bagging_resamples))\n",
    "    print(\"okkke-1-1\")\n",
    "    for (i in 1:n_bagging_resamples)\n",
    "    {\n",
    "      # 1. Resample data from the training set\n",
    "      I_bag <- sample(seq(1,n_train),replace=TRUE)\n",
    "      # 2. Fit model\n",
    "        #model<- 0\n",
    "       # Y_pred <-  0\n",
    "        print(\"okkke11\")\n",
    "      if (model_type == \"nnet\"){\n",
    "          print(\"okkke22\")\n",
    "           model <- nnet (status_group ~ .,train_data[I_bag,],skip=FALSE,\n",
    "                       size=2, maxit=75,trace=F,rang=0.2,MaxNWts=20000)#to change ! (size)\n",
    "           Y_pred <- predict(model,test_data)\n",
    "           print(\"whaaat\")\n",
    "      }\n",
    "     if (model_type==\"radial\"){\n",
    "          model <- RSNNS::rbf(as.matrix(train_data[I_bag,]),\n",
    "                           decodeClassLabels(as.matrix(train_label[I_bag])), # Training labels must be provided with one-hot-encoding\n",
    "                           size=hidden_nodes, \n",
    "                           maxit=75, \n",
    "                           #initFuncParams=c(0, 1, 0, 0.01, 0.01),\n",
    "                           #initFunc=\"RBF_Weights_Kohonen\",\n",
    "                           learnFuncParams=c(1e-8, 0, 1e-8, 0.1, 0.8), linOut=T, trace=T)\n",
    "          Y_pred <- predict(model,test_data)\n",
    "          colnames(Y_pred) <- c(\"functional\", \"functional needs repair\", \"non functional\")\n",
    "\n",
    "     }\n",
    "     if(model_type==\"mlp\"){\n",
    "          model <- mlp(train_data[I_bag,], decodeClassLabels(train_label[I_bag]), size = hidden_nodes, maxit = 100)\n",
    "          Y_pred <- predict(model,test_data)\n",
    "          colnames(Y_pred) <- c(\"functional\", \"functional needs repair\", \"non functional\")\n",
    "     }\n",
    "      \n",
    "\n",
    "     \n",
    "    print(i)\n",
    "      result_classification <- colnames(Y_pred)[max.col(Y_pred,ties.method=\"first\")]\n",
    "#       result_classification[1] <- \"functional needs repair\"\n",
    "#       result_classification[2] <- \"non functional\"\n",
    "      Y_pred_models <- cbind(Y_pred_models,result_classification)\n",
    "      \n",
    "    }\n",
    "\n",
    "\n",
    "   \n",
    "#     # 3. Majority vote of the classifiers to make the prediction\n",
    "\n",
    "     Y_hat_bagged <- apply(Y_pred_models,1,function(x) names(which.max(table(x))))\n",
    "     if (model_type == \"nnet\"){\n",
    "             print(\"okk444\")\n",
    "             model_single_out <- nnet(status_group ~ ., data=train_data,size=hidden_nodes,trace=F,skip=FALSE,maxit=300,rang=0.2,MaxNWts=20000)\n",
    "              \n",
    "     }\n",
    "     if (model_type == \"radial\"){  \n",
    "         model_single_out <- model_single_out <- RSNNS::rbf(as.matrix(train_data),\n",
    "                           decodeClassLabels(train_label),\n",
    "                           #nOutputs=2,\n",
    "                           size=hidden_nodes, \n",
    "                           maxit=150, \n",
    "                           #initFuncParams=c(0, 1, 0, 0.01, 0.01),\n",
    "                          #initFunc=\"RBF_Weights_Kohonen\",\n",
    "                           learnFuncParams=c(1e-8, 0, 1e-8, 0.1, 0.8), linOut=T, trace=T)\n",
    "         \n",
    "     }\n",
    "      if(model_type==\"mlp\"){\n",
    "         model_single_out <- mlp(train_data, decodeClassLabels(train_label), size = hidden_nodes, maxit = 150)\n",
    "      }\n",
    "     Y_pred_single_out <- predict(model_single_out,test_data)\n",
    "     colnames(Y_pred_single_out) <- c(\"functional\", \"functional needs repair\", \"non functional\")\n",
    "     Y_hat_single_out <- colnames(Y_pred_single_out)[max.col(Y_pred_single_out,ties.method=\"first\")]\n",
    "     return(list(single=Y_hat_single_out,bag=Y_hat_bagged))\n",
    "}\n",
    "print(\"done\")\n"
   ]
  },
  {
   "cell_type": "code",
   "execution_count": 54,
   "metadata": {},
   "outputs": [
    {
     "name": "stdout",
     "output_type": "stream",
     "text": [
      "[1] \"okkke-1-1\"\n",
      "[1] \"okkke11\"\n"
     ]
    },
    {
     "name": "stderr",
     "output_type": "stream",
     "text": [
      "Warning message in snnsObject$setUnitName(num, oNames[[i]]):\n",
      "\"SNNS error message in setUnitName : SNNS-Kernel Error: Symbol pattern invalid (must match [A-Za-z][^|, ]*)\"\n",
      "Warning message in snnsObject$setUnitName(num, oNames[[i]]):\n",
      "\"SNNS error message in setUnitName : SNNS-Kernel Error: Symbol pattern invalid (must match [A-Za-z][^|, ]*)\"\n"
     ]
    },
    {
     "name": "stdout",
     "output_type": "stream",
     "text": [
      "[1] 1\n",
      "[1] \"okkke11\"\n"
     ]
    },
    {
     "name": "stderr",
     "output_type": "stream",
     "text": [
      "Warning message in snnsObject$setUnitName(num, oNames[[i]]):\n",
      "\"SNNS error message in setUnitName : SNNS-Kernel Error: Symbol pattern invalid (must match [A-Za-z][^|, ]*)\"\n",
      "Warning message in snnsObject$setUnitName(num, oNames[[i]]):\n",
      "\"SNNS error message in setUnitName : SNNS-Kernel Error: Symbol pattern invalid (must match [A-Za-z][^|, ]*)\"\n"
     ]
    },
    {
     "name": "stdout",
     "output_type": "stream",
     "text": [
      "[1] 2\n",
      "[1] \"okkke11\"\n"
     ]
    },
    {
     "name": "stderr",
     "output_type": "stream",
     "text": [
      "Warning message in snnsObject$setUnitName(num, oNames[[i]]):\n",
      "\"SNNS error message in setUnitName : SNNS-Kernel Error: Symbol pattern invalid (must match [A-Za-z][^|, ]*)\"\n",
      "Warning message in snnsObject$setUnitName(num, oNames[[i]]):\n",
      "\"SNNS error message in setUnitName : SNNS-Kernel Error: Symbol pattern invalid (must match [A-Za-z][^|, ]*)\"\n"
     ]
    },
    {
     "name": "stdout",
     "output_type": "stream",
     "text": [
      "[1] 3\n",
      "[1] \"okkke11\"\n"
     ]
    },
    {
     "name": "stderr",
     "output_type": "stream",
     "text": [
      "Warning message in snnsObject$setUnitName(num, oNames[[i]]):\n",
      "\"SNNS error message in setUnitName : SNNS-Kernel Error: Symbol pattern invalid (must match [A-Za-z][^|, ]*)\"\n",
      "Warning message in snnsObject$setUnitName(num, oNames[[i]]):\n",
      "\"SNNS error message in setUnitName : SNNS-Kernel Error: Symbol pattern invalid (must match [A-Za-z][^|, ]*)\"\n"
     ]
    },
    {
     "name": "stdout",
     "output_type": "stream",
     "text": [
      "[1] 4\n",
      "[1] \"okkke11\"\n"
     ]
    },
    {
     "name": "stderr",
     "output_type": "stream",
     "text": [
      "Warning message in snnsObject$setUnitName(num, oNames[[i]]):\n",
      "\"SNNS error message in setUnitName : SNNS-Kernel Error: Symbol pattern invalid (must match [A-Za-z][^|, ]*)\"\n",
      "Warning message in snnsObject$setUnitName(num, oNames[[i]]):\n",
      "\"SNNS error message in setUnitName : SNNS-Kernel Error: Symbol pattern invalid (must match [A-Za-z][^|, ]*)\"\n"
     ]
    },
    {
     "name": "stdout",
     "output_type": "stream",
     "text": [
      "[1] 5\n",
      "[1] \"okkke11\"\n"
     ]
    },
    {
     "name": "stderr",
     "output_type": "stream",
     "text": [
      "Warning message in snnsObject$setUnitName(num, oNames[[i]]):\n",
      "\"SNNS error message in setUnitName : SNNS-Kernel Error: Symbol pattern invalid (must match [A-Za-z][^|, ]*)\"\n",
      "Warning message in snnsObject$setUnitName(num, oNames[[i]]):\n",
      "\"SNNS error message in setUnitName : SNNS-Kernel Error: Symbol pattern invalid (must match [A-Za-z][^|, ]*)\"\n"
     ]
    },
    {
     "name": "stdout",
     "output_type": "stream",
     "text": [
      "[1] 6\n",
      "[1] \"okkke11\"\n"
     ]
    },
    {
     "name": "stderr",
     "output_type": "stream",
     "text": [
      "Warning message in snnsObject$setUnitName(num, oNames[[i]]):\n",
      "\"SNNS error message in setUnitName : SNNS-Kernel Error: Symbol pattern invalid (must match [A-Za-z][^|, ]*)\"\n",
      "Warning message in snnsObject$setUnitName(num, oNames[[i]]):\n",
      "\"SNNS error message in setUnitName : SNNS-Kernel Error: Symbol pattern invalid (must match [A-Za-z][^|, ]*)\"\n"
     ]
    },
    {
     "name": "stdout",
     "output_type": "stream",
     "text": [
      "[1] 7\n",
      "[1] \"okkke11\"\n"
     ]
    },
    {
     "name": "stderr",
     "output_type": "stream",
     "text": [
      "Warning message in snnsObject$setUnitName(num, oNames[[i]]):\n",
      "\"SNNS error message in setUnitName : SNNS-Kernel Error: Symbol pattern invalid (must match [A-Za-z][^|, ]*)\"\n",
      "Warning message in snnsObject$setUnitName(num, oNames[[i]]):\n",
      "\"SNNS error message in setUnitName : SNNS-Kernel Error: Symbol pattern invalid (must match [A-Za-z][^|, ]*)\"\n"
     ]
    },
    {
     "name": "stdout",
     "output_type": "stream",
     "text": [
      "[1] 8\n",
      "[1] \"okkke11\"\n"
     ]
    },
    {
     "name": "stderr",
     "output_type": "stream",
     "text": [
      "Warning message in snnsObject$setUnitName(num, oNames[[i]]):\n",
      "\"SNNS error message in setUnitName : SNNS-Kernel Error: Symbol pattern invalid (must match [A-Za-z][^|, ]*)\"\n",
      "Warning message in snnsObject$setUnitName(num, oNames[[i]]):\n",
      "\"SNNS error message in setUnitName : SNNS-Kernel Error: Symbol pattern invalid (must match [A-Za-z][^|, ]*)\"\n"
     ]
    },
    {
     "name": "stdout",
     "output_type": "stream",
     "text": [
      "[1] 9\n",
      "[1] \"okkke11\"\n"
     ]
    },
    {
     "name": "stderr",
     "output_type": "stream",
     "text": [
      "Warning message in snnsObject$setUnitName(num, oNames[[i]]):\n",
      "\"SNNS error message in setUnitName : SNNS-Kernel Error: Symbol pattern invalid (must match [A-Za-z][^|, ]*)\"\n",
      "Warning message in snnsObject$setUnitName(num, oNames[[i]]):\n",
      "\"SNNS error message in setUnitName : SNNS-Kernel Error: Symbol pattern invalid (must match [A-Za-z][^|, ]*)\"\n"
     ]
    },
    {
     "name": "stdout",
     "output_type": "stream",
     "text": [
      "[1] 10\n",
      "[1] \"[INFO] - Confusion matrix bagged model :\"\n",
      "                         Y\n",
      "Y_hat                     functional functional needs repair non functional\n",
      "  functional                   12505                    1020           2806\n",
      "  functional needs repair        232                     383            172\n",
      "  non functional                1335                     322           7023\n",
      "[1] \"[INFO] - Accuracy bagged model : 0.771804015815179\"\n",
      "[1] \"[INFO] - Misclassification rate bagged model : 0.228195984184821\"\n",
      "[1] 0.771804\n"
     ]
    },
    {
     "name": "stderr",
     "output_type": "stream",
     "text": [
      "Warning message in snnsObject$setUnitName(num, oNames[[i]]):\n",
      "\"SNNS error message in setUnitName : SNNS-Kernel Error: Symbol pattern invalid (must match [A-Za-z][^|, ]*)\"\n",
      "Warning message in snnsObject$setUnitName(num, oNames[[i]]):\n",
      "\"SNNS error message in setUnitName : SNNS-Kernel Error: Symbol pattern invalid (must match [A-Za-z][^|, ]*)\"\n"
     ]
    },
    {
     "name": "stdout",
     "output_type": "stream",
     "text": [
      "[1] \"[INFO] - Confusion matrix single model :\"\n",
      "                         Y\n",
      "Y_hat                     functional functional needs repair non functional\n",
      "  functional                   12687                    1043           3360\n",
      "  functional needs repair        457                     498            310\n",
      "  non functional                 928                     184           6331\n",
      "[1] \"[INFO] - Accuracy single model : 0.756492751376076\"\n",
      "[1] \"[INFO] - Misclassification rate single model : 0.243507248623924\"\n"
     ]
    }
   ],
   "source": [
    "load(file = \"data_preproc.Rdata\")\n",
    "results <- BaggingNN(n_bagging_resamples=10,\"mlp\",hidden_nodes=c(32,16,8))\n"
   ]
  },
  {
   "cell_type": "code",
   "execution_count": 432,
   "metadata": {},
   "outputs": [
    {
     "name": "stdout",
     "output_type": "stream",
     "text": [
      "[1] \"okkke-1-1\"\n",
      "[1] \"okkke11\"\n",
      "[1] \"okkke22\"\n",
      "[1] \"whaaat\"\n",
      "[1] 1\n",
      "[1] \"okk444\"\n"
     ]
    }
   ],
   "source": [
    "Y_pred <- Bagging_test(n_bagging_resamples=1,\"nnet\",hidden_nodes=128)\n",
    "\n"
   ]
  },
  {
   "cell_type": "code",
   "execution_count": 433,
   "metadata": {},
   "outputs": [
    {
     "name": "stdout",
     "output_type": "stream",
     "text": [
      "[1] 14850\n"
     ]
    }
   ],
   "source": [
    "print(length(Y_pred$single))\n",
    "res <- cbind(\"id\"=eval_data$id,\"status_group\"=as.character(Y_pred$single))"
   ]
  },
  {
   "cell_type": "code",
   "execution_count": 434,
   "metadata": {},
   "outputs": [
    {
     "data": {
      "text/html": [
       "<table class=\"dataframe\">\n",
       "<caption>A matrix: 30 × 2 of type chr</caption>\n",
       "<thead>\n",
       "\t<tr><th scope=col>id</th><th scope=col>status_group</th></tr>\n",
       "</thead>\n",
       "<tbody>\n",
       "\t<tr><td>50785</td><td>functional             </td></tr>\n",
       "\t<tr><td>51630</td><td>non functional         </td></tr>\n",
       "\t<tr><td>17168</td><td>non functional         </td></tr>\n",
       "\t<tr><td>45559</td><td>non functional         </td></tr>\n",
       "\t<tr><td>49871</td><td>non functional         </td></tr>\n",
       "\t<tr><td>52449</td><td>functional             </td></tr>\n",
       "\t<tr><td>24806</td><td>non functional         </td></tr>\n",
       "\t<tr><td>28965</td><td>non functional         </td></tr>\n",
       "\t<tr><td>36301</td><td>functional             </td></tr>\n",
       "\t<tr><td>54122</td><td>functional             </td></tr>\n",
       "\t<tr><td>419  </td><td>non functional         </td></tr>\n",
       "\t<tr><td>45750</td><td>non functional         </td></tr>\n",
       "\t<tr><td>653  </td><td>non functional         </td></tr>\n",
       "\t<tr><td>14017</td><td>non functional         </td></tr>\n",
       "\t<tr><td>44607</td><td>non functional         </td></tr>\n",
       "\t<tr><td>40228</td><td>functional             </td></tr>\n",
       "\t<tr><td>27714</td><td>functional             </td></tr>\n",
       "\t<tr><td>28785</td><td>functional             </td></tr>\n",
       "\t<tr><td>28330</td><td>functional             </td></tr>\n",
       "\t<tr><td>18532</td><td>non functional         </td></tr>\n",
       "\t<tr><td>69961</td><td>functional             </td></tr>\n",
       "\t<tr><td>55083</td><td>non functional         </td></tr>\n",
       "\t<tr><td>8691 </td><td>non functional         </td></tr>\n",
       "\t<tr><td>30331</td><td>non functional         </td></tr>\n",
       "\t<tr><td>70970</td><td>functional             </td></tr>\n",
       "\t<tr><td>61136</td><td>functional             </td></tr>\n",
       "\t<tr><td>28799</td><td>non functional         </td></tr>\n",
       "\t<tr><td>46825</td><td>non functional         </td></tr>\n",
       "\t<tr><td>44718</td><td>functional needs repair</td></tr>\n",
       "\t<tr><td>37350</td><td>functional             </td></tr>\n",
       "</tbody>\n",
       "</table>\n"
      ],
      "text/latex": [
       "A matrix: 30 × 2 of type chr\n",
       "\\begin{tabular}{ll}\n",
       " id & status\\_group\\\\\n",
       "\\hline\n",
       "\t 50785 & functional             \\\\\n",
       "\t 51630 & non functional         \\\\\n",
       "\t 17168 & non functional         \\\\\n",
       "\t 45559 & non functional         \\\\\n",
       "\t 49871 & non functional         \\\\\n",
       "\t 52449 & functional             \\\\\n",
       "\t 24806 & non functional         \\\\\n",
       "\t 28965 & non functional         \\\\\n",
       "\t 36301 & functional             \\\\\n",
       "\t 54122 & functional             \\\\\n",
       "\t 419   & non functional         \\\\\n",
       "\t 45750 & non functional         \\\\\n",
       "\t 653   & non functional         \\\\\n",
       "\t 14017 & non functional         \\\\\n",
       "\t 44607 & non functional         \\\\\n",
       "\t 40228 & functional             \\\\\n",
       "\t 27714 & functional             \\\\\n",
       "\t 28785 & functional             \\\\\n",
       "\t 28330 & functional             \\\\\n",
       "\t 18532 & non functional         \\\\\n",
       "\t 69961 & functional             \\\\\n",
       "\t 55083 & non functional         \\\\\n",
       "\t 8691  & non functional         \\\\\n",
       "\t 30331 & non functional         \\\\\n",
       "\t 70970 & functional             \\\\\n",
       "\t 61136 & functional             \\\\\n",
       "\t 28799 & non functional         \\\\\n",
       "\t 46825 & non functional         \\\\\n",
       "\t 44718 & functional needs repair\\\\\n",
       "\t 37350 & functional             \\\\\n",
       "\\end{tabular}\n"
      ],
      "text/markdown": [
       "\n",
       "A matrix: 30 × 2 of type chr\n",
       "\n",
       "| id | status_group |\n",
       "|---|---|\n",
       "| 50785 | functional              |\n",
       "| 51630 | non functional          |\n",
       "| 17168 | non functional          |\n",
       "| 45559 | non functional          |\n",
       "| 49871 | non functional          |\n",
       "| 52449 | functional              |\n",
       "| 24806 | non functional          |\n",
       "| 28965 | non functional          |\n",
       "| 36301 | functional              |\n",
       "| 54122 | functional              |\n",
       "| 419   | non functional          |\n",
       "| 45750 | non functional          |\n",
       "| 653   | non functional          |\n",
       "| 14017 | non functional          |\n",
       "| 44607 | non functional          |\n",
       "| 40228 | functional              |\n",
       "| 27714 | functional              |\n",
       "| 28785 | functional              |\n",
       "| 28330 | functional              |\n",
       "| 18532 | non functional          |\n",
       "| 69961 | functional              |\n",
       "| 55083 | non functional          |\n",
       "| 8691  | non functional          |\n",
       "| 30331 | non functional          |\n",
       "| 70970 | functional              |\n",
       "| 61136 | functional              |\n",
       "| 28799 | non functional          |\n",
       "| 46825 | non functional          |\n",
       "| 44718 | functional needs repair |\n",
       "| 37350 | functional              |\n",
       "\n"
      ],
      "text/plain": [
       "      id    status_group           \n",
       " [1,] 50785 functional             \n",
       " [2,] 51630 non functional         \n",
       " [3,] 17168 non functional         \n",
       " [4,] 45559 non functional         \n",
       " [5,] 49871 non functional         \n",
       " [6,] 52449 functional             \n",
       " [7,] 24806 non functional         \n",
       " [8,] 28965 non functional         \n",
       " [9,] 36301 functional             \n",
       "[10,] 54122 functional             \n",
       "[11,] 419   non functional         \n",
       "[12,] 45750 non functional         \n",
       "[13,] 653   non functional         \n",
       "[14,] 14017 non functional         \n",
       "[15,] 44607 non functional         \n",
       "[16,] 40228 functional             \n",
       "[17,] 27714 functional             \n",
       "[18,] 28785 functional             \n",
       "[19,] 28330 functional             \n",
       "[20,] 18532 non functional         \n",
       "[21,] 69961 functional             \n",
       "[22,] 55083 non functional         \n",
       "[23,] 8691  non functional         \n",
       "[24,] 30331 non functional         \n",
       "[25,] 70970 functional             \n",
       "[26,] 61136 functional             \n",
       "[27,] 28799 non functional         \n",
       "[28,] 46825 non functional         \n",
       "[29,] 44718 functional needs repair\n",
       "[30,] 37350 functional             "
      ]
     },
     "metadata": {},
     "output_type": "display_data"
    },
    {
     "data": {
      "text/html": [
       "<style>\n",
       ".list-inline {list-style: none; margin:0; padding: 0}\n",
       ".list-inline>li {display: inline-block}\n",
       ".list-inline>li:not(:last-child)::after {content: \"\\00b7\"; padding: 0 .5ex}\n",
       "</style>\n",
       "<ol class=list-inline><li>'functional'</li><li>'non functional'</li><li>'functional needs repair'</li><li>'non functional'</li><li>'non functional'</li><li>'non functional'</li></ol>\n"
      ],
      "text/latex": [
       "\\begin{enumerate*}\n",
       "\\item 'functional'\n",
       "\\item 'non functional'\n",
       "\\item 'functional needs repair'\n",
       "\\item 'non functional'\n",
       "\\item 'non functional'\n",
       "\\item 'non functional'\n",
       "\\end{enumerate*}\n"
      ],
      "text/markdown": [
       "1. 'functional'\n",
       "2. 'non functional'\n",
       "3. 'functional needs repair'\n",
       "4. 'non functional'\n",
       "5. 'non functional'\n",
       "6. 'non functional'\n",
       "\n",
       "\n"
      ],
      "text/plain": [
       "[1] \"functional\"              \"non functional\"         \n",
       "[3] \"functional needs repair\" \"non functional\"         \n",
       "[5] \"non functional\"          \"non functional\"         "
      ]
     },
     "metadata": {},
     "output_type": "display_data"
    },
    {
     "data": {
      "text/html": [
       "<style>\n",
       ".list-inline {list-style: none; margin:0; padding: 0}\n",
       ".list-inline>li {display: inline-block}\n",
       ".list-inline>li:not(:last-child)::after {content: \"\\00b7\"; padding: 0 .5ex}\n",
       "</style>\n",
       "<ol class=list-inline><li>'functional'</li><li>'non functional'</li><li>'non functional'</li><li>'non functional'</li><li>'non functional'</li><li>'functional'</li></ol>\n"
      ],
      "text/latex": [
       "\\begin{enumerate*}\n",
       "\\item 'functional'\n",
       "\\item 'non functional'\n",
       "\\item 'non functional'\n",
       "\\item 'non functional'\n",
       "\\item 'non functional'\n",
       "\\item 'functional'\n",
       "\\end{enumerate*}\n"
      ],
      "text/markdown": [
       "1. 'functional'\n",
       "2. 'non functional'\n",
       "3. 'non functional'\n",
       "4. 'non functional'\n",
       "5. 'non functional'\n",
       "6. 'functional'\n",
       "\n",
       "\n"
      ],
      "text/plain": [
       "[1] \"functional\"     \"non functional\" \"non functional\" \"non functional\"\n",
       "[5] \"non functional\" \"functional\"    "
      ]
     },
     "metadata": {},
     "output_type": "display_data"
    }
   ],
   "source": [
    "head(res,30)\n",
    "head(Y_pred$bag)\n",
    "head(Y_pred$single)"
   ]
  },
  {
   "cell_type": "code",
   "execution_count": 435,
   "metadata": {},
   "outputs": [],
   "source": [
    "write.csv(res,\"submission.csv\",row.names=FALSE)"
   ]
  },
  {
   "cell_type": "markdown",
   "metadata": {},
   "source": [
    "## Model 2\n"
   ]
  },
  {
   "cell_type": "markdown",
   "metadata": {},
   "source": [
    "The second model that was implemented is a Random Forest. A hyperparameter of this model is the number of trees that is used. Different values for this hyperparameter were therefore tested in order to find the ont yielding the best solution in terms of accuracy."
   ]
  },
  {
   "cell_type": "code",
   "execution_count": 45,
   "metadata": {},
   "outputs": [
    {
     "name": "stderr",
     "output_type": "stream",
     "text": [
      "Warning message:\n",
      "\"package 'randomForest' was built under R version 4.0.5\"\n",
      "randomForest 4.6-14\n",
      "\n",
      "Type rfNews() to see new features/changes/bug fixes.\n",
      "\n"
     ]
    }
   ],
   "source": [
    "library(\"randomForest\")\n",
    "#load(file = \"data_preproc.Rdata\")"
   ]
  },
  {
   "cell_type": "code",
   "execution_count": 47,
   "metadata": {},
   "outputs": [
    {
     "name": "stdout",
     "output_type": "stream",
     "text": [
      "                        functional functional needs repair non functional\n",
      "functional                   11894                     451           1771\n",
      "functional needs repair        921                     456            392\n",
      "non functional                2372                     229           7312\n",
      "                        class.error\n",
      "functional                0.1574100\n",
      "functional needs repair   0.7422272\n",
      "non functional            0.2623827\n"
     ]
    },
    {
     "data": {
      "text/html": [
       "0.762117776722809"
      ],
      "text/latex": [
       "0.762117776722809"
      ],
      "text/markdown": [
       "0.762117776722809"
      ],
      "text/plain": [
       "[1] 0.7621178"
      ]
     },
     "metadata": {},
     "output_type": "display_data"
    }
   ],
   "source": [
    "#n_trees <- c(4,6,8,10,12,14,16,18,20,22,24,26,28,30,32)\n",
    "set.seed(5)\n",
    "n_trees <- c(100)\n",
    "data <- data_preproc\n",
    "accuracy_vec <- array(0,length(n_trees))\n",
    "data_idx <- sample(1:nrow(data))\n",
    "half_split <- floor(nrow(data)/2)\n",
    "target_variable <- ncol(data)\n",
    "index <- 1\n",
    "best_accuracy <- 0\n",
    "\n",
    "for (i in n_trees){\n",
    "    train_data <- data[data_idx[1:half_split],]\n",
    "    test_data <- data[data_idx[(half_split+1):nrow(data)],]\n",
    "    \n",
    "    model <- randomForest(x=train_data[,-c(target_variable)],\n",
    "                          y=as.factor(train_data[,c(target_variable)]),\n",
    "                          xtest=test_data[,-c(target_variable)],\n",
    "                          ytest=as.factor(test_data[,c(target_variable)]),\n",
    "                          ntree=i,keep.forest=TRUE)\n",
    "    print(model$test$confusion)\n",
    "    accuracy_vec[index] = (model$test$confusion[1,1]+model$test$confusion[2,2]+model$test$confusion[3,3])/sum(model$test$confusion)\n",
    "    if(accuracy_vec[index] > best_accuracy) {\n",
    "        best_model_ <- model\n",
    "        best_accuracy <- accuracy_vec[index]\n",
    "    }\n",
    "    index <- index + 1\n",
    "}\n",
    "accuracy_vec"
   ]
  },
  {
   "cell_type": "code",
   "execution_count": 315,
   "metadata": {},
   "outputs": [
    {
     "data": {
      "text/html": [
       "0.762118064888816"
      ],
      "text/latex": [
       "0.762118064888816"
      ],
      "text/markdown": [
       "0.762118064888816"
      ],
      "text/plain": [
       "[1] 0.7621181"
      ]
     },
     "metadata": {},
     "output_type": "display_data"
    },
    {
     "ename": "ERROR",
     "evalue": "Error in xy.coords(x, y, xlabel, ylabel, log): 'x' and 'y' lengths differ\n",
     "output_type": "error",
     "traceback": [
      "Error in xy.coords(x, y, xlabel, ylabel, log): 'x' and 'y' lengths differ\nTraceback:\n",
      "1. plot(c(4, 6, 8, 10, 12, 14, 16, 18, 20, 22, 24, 26, 28, 30, 32), \n .     accuracy_vec, main = \"Number of trees influence\", xlab = \"Nbr of trees\", \n .     ylab = \"Classification rate\")",
      "2. plot(c(4, 6, 8, 10, 12, 14, 16, 18, 20, 22, 24, 26, 28, 30, 32), \n .     accuracy_vec, main = \"Number of trees influence\", xlab = \"Nbr of trees\", \n .     ylab = \"Classification rate\")",
      "3. plot.default(c(4, 6, 8, 10, 12, 14, 16, 18, 20, 22, 24, 26, 28, \n .     30, 32), accuracy_vec, main = \"Number of trees influence\", \n .     xlab = \"Nbr of trees\", ylab = \"Classification rate\")",
      "4. xy.coords(x, y, xlabel, ylabel, log)",
      "5. stop(\"'x' and 'y' lengths differ\")"
     ]
    }
   ],
   "source": [
    "accuracy_vec\n",
    "plot( c(4,6,8,10,12,14,16,18,20,22,24,26,28,30,32),accuracy_vec,main = \"Number of trees influence\",xlab = \"Nbr of trees\",ylab = \"Classification rate\")"
   ]
  },
  {
   "cell_type": "code",
   "execution_count": 384,
   "metadata": {},
   "outputs": [
    {
     "name": "stdout",
     "output_type": "stream",
     "text": [
      "[1] 14850\n"
     ]
    }
   ],
   "source": [
    "Y_pred <- predict(best_model_,newdata = test_preproc)\n",
    "print(length(Y_pred))"
   ]
  },
  {
   "cell_type": "code",
   "execution_count": 385,
   "metadata": {},
   "outputs": [],
   "source": [
    "res <- cbind(\"id\"=eval_data$id,\"status_group\"=as.character(Y_pred))"
   ]
  },
  {
   "cell_type": "code",
   "execution_count": 329,
   "metadata": {
    "scrolled": true
   },
   "outputs": [
    {
     "data": {
      "text/html": [
       "<table class=\"dataframe\">\n",
       "<caption>A matrix: 30 × 50 of type dbl</caption>\n",
       "<thead>\n",
       "\t<tr><th></th><th scope=col>PC1</th><th scope=col>PC10</th><th scope=col>PC11</th><th scope=col>PC12</th><th scope=col>PC13</th><th scope=col>PC14</th><th scope=col>PC15</th><th scope=col>PC16</th><th scope=col>PC17</th><th scope=col>PC18</th><th scope=col>PC19</th><th scope=col>PC2</th><th scope=col>PC20</th><th scope=col>PC21</th><th scope=col>PC22</th><th scope=col>PC23</th><th scope=col>PC24</th><th scope=col>PC25</th><th scope=col>PC26</th><th scope=col>PC27</th><th scope=col>PC28</th><th scope=col>PC29</th><th scope=col>PC3</th><th scope=col>PC30</th><th scope=col>PC31</th><th scope=col>PC32</th><th scope=col>PC33</th><th scope=col>PC34</th><th scope=col>PC35</th><th scope=col>PC36</th><th scope=col>PC37</th><th scope=col>PC38</th><th scope=col>PC39</th><th scope=col>PC4</th><th scope=col>PC40</th><th scope=col>PC41</th><th scope=col>PC42</th><th scope=col>PC43</th><th scope=col>PC44</th><th scope=col>PC45</th><th scope=col>PC46</th><th scope=col>PC47</th><th scope=col>PC48</th><th scope=col>PC49</th><th scope=col>PC5</th><th scope=col>PC50</th><th scope=col>PC6</th><th scope=col>PC7</th><th scope=col>PC8</th><th scope=col>PC9</th></tr>\n",
       "</thead>\n",
       "<tbody>\n",
       "\t<tr><th scope=row>1</th><td>-0.5257945</td><td> 1.06471547</td><td>-4.6294452</td><td>-5.879981934</td><td>-2.9649885</td><td>-1.013949014</td><td> 0.12017020</td><td>-1.322647693</td><td> 1.19322808</td><td> 1.4797748</td><td>-0.65212851</td><td>-2.51305923</td><td>-4.96202282</td><td> 0.0304791903</td><td> 0.12638107</td><td>-2.62339981</td><td>-4.70808332</td><td> 0.90938716</td><td>-2.22390670</td><td>-0.28974354</td><td>-0.38281303</td><td> 0.21520915</td><td> 4.7335282</td><td> 0.17112784</td><td>-0.48338473</td><td> 3.7766557</td><td>-0.631313265</td><td>-1.18641638</td><td>-0.90691472</td><td>-0.072265199</td><td>-0.99474803</td><td> 1.13693217</td><td>-0.007931919</td><td>-1.59437328</td><td>-1.18057959</td><td>-1.56555966</td><td>-0.15924607</td><td>-0.684011192</td><td>-1.65539436</td><td> 0.42083219</td><td>-0.7556776</td><td> 1.17851100</td><td>-0.31675217</td><td> 1.19715563</td><td>-5.05783611</td><td> 0.053265567</td><td>-2.67812714</td><td> 0.51403398</td><td> 1.66398262</td><td>-4.9525741</td></tr>\n",
       "\t<tr><th scope=row>2</th><td> 3.6797615</td><td>-1.50165235</td><td>-0.1274510</td><td>-2.625919754</td><td>-0.2608930</td><td> 0.191994643</td><td> 0.90304936</td><td> 1.980178570</td><td>-0.88665767</td><td>-0.2326876</td><td> 0.22115104</td><td>-0.01406686</td><td> 2.10038402</td><td>-2.1996389470</td><td>-0.69020342</td><td>-0.26574121</td><td> 1.03600165</td><td>-0.06563713</td><td> 0.02099496</td><td>-0.27481986</td><td> 0.97685660</td><td>-0.36848004</td><td> 2.1021413</td><td> 1.27457495</td><td> 0.53529075</td><td>-0.7976193</td><td>-0.856136210</td><td>-0.40757413</td><td>-0.48332681</td><td>-0.327805890</td><td>-0.97846873</td><td>-1.85233835</td><td> 0.580540273</td><td>-0.60721335</td><td>-0.33360993</td><td> 1.45391014</td><td> 0.81703289</td><td> 0.178970010</td><td>-1.20106807</td><td>-0.99544752</td><td>-0.1592643</td><td> 1.01724026</td><td> 0.10716480</td><td>-0.13688030</td><td> 1.85441671</td><td> 0.027746678</td><td>-0.30627988</td><td>-0.16984891</td><td> 0.37809306</td><td>-0.7301437</td></tr>\n",
       "\t<tr><th scope=row>3</th><td>-1.2473337</td><td> 0.07322357</td><td>-3.6410022</td><td>-3.235769076</td><td>-1.9087365</td><td>-0.418670576</td><td>-1.45559242</td><td>-1.627088154</td><td> 2.09070933</td><td> 0.4298780</td><td> 1.39326598</td><td>-1.26043581</td><td>-2.70378275</td><td>-0.6654321526</td><td>-0.61829170</td><td> 1.25557840</td><td> 4.28094416</td><td>-0.30255975</td><td>-0.34382918</td><td>-1.12601152</td><td>-1.84668019</td><td>-4.91093803</td><td> 2.7990754</td><td> 1.76094088</td><td>-3.01502000</td><td> 0.1322287</td><td> 0.598729885</td><td> 0.75208290</td><td>-0.73010702</td><td>-1.718445264</td><td> 0.85177720</td><td> 0.74594595</td><td> 2.863917683</td><td>-1.40697379</td><td> 3.67737268</td><td> 0.39655918</td><td>-0.33433858</td><td> 0.773080065</td><td>-0.91146532</td><td>-1.14178160</td><td> 1.2182073</td><td>-1.76953824</td><td>-0.84617542</td><td>-2.93430331</td><td>-0.26509328</td><td>-2.322034557</td><td>-0.42709075</td><td> 0.55970392</td><td> 2.86662040</td><td>-2.5953221</td></tr>\n",
       "\t<tr><th scope=row>4</th><td>-3.8610960</td><td>-2.19942955</td><td>-1.5519287</td><td> 0.643008709</td><td>-1.2349829</td><td>-1.766971279</td><td> 0.50536007</td><td> 0.603665435</td><td> 1.86596342</td><td> 0.5221076</td><td> 2.22541835</td><td>-2.17526303</td><td>-0.01359822</td><td>-1.2059897872</td><td> 2.29929736</td><td>-1.05808938</td><td> 0.47263209</td><td>-2.17858546</td><td> 0.50438511</td><td>-0.91890985</td><td> 1.45777748</td><td>-0.89107055</td><td>-2.2668598</td><td>-0.55920856</td><td> 2.25695287</td><td> 0.4355687</td><td>-0.914670851</td><td> 2.69530161</td><td>-1.49465779</td><td>-0.815255767</td><td>-0.29676690</td><td> 1.74977996</td><td>-0.128882440</td><td>-7.88428691</td><td> 1.03377716</td><td>-1.14438210</td><td>-2.89388809</td><td> 0.391741763</td><td>-1.12700547</td><td>-0.95098206</td><td>-2.9446051</td><td>-2.83688102</td><td>-0.41758465</td><td>-0.79146345</td><td>-0.68473841</td><td>-0.282102214</td><td>-2.99828423</td><td>-2.23882199</td><td>-0.11702894</td><td>-0.7438652</td></tr>\n",
       "\t<tr><th scope=row>5</th><td> 3.1882956</td><td>-0.44558986</td><td> 0.4015659</td><td> 0.004343887</td><td> 2.7723814</td><td>-0.513782237</td><td>-1.95689465</td><td>-0.828544328</td><td>-0.90532568</td><td> 3.4946852</td><td> 0.40564491</td><td> 0.38966882</td><td>-0.49006666</td><td>-0.5760246551</td><td> 2.32704709</td><td>-0.96043739</td><td> 0.45145981</td><td> 1.63489344</td><td>-0.04182869</td><td>-1.21908734</td><td>-0.84801734</td><td> 0.59557639</td><td>-0.9081166</td><td>-0.86974685</td><td> 0.74132715</td><td>-0.3726409</td><td>-0.136050916</td><td>-0.42002397</td><td> 0.89018414</td><td> 1.003611465</td><td> 0.19973602</td><td>-0.09930250</td><td> 1.310281887</td><td>-2.92509537</td><td>-2.04535334</td><td> 1.55654903</td><td> 1.54447435</td><td> 0.015850480</td><td>-1.87085535</td><td> 2.65115026</td><td> 0.2180391</td><td>-0.40125588</td><td> 1.02967364</td><td>-2.29885827</td><td>-1.83575409</td><td>-1.251919131</td><td> 0.63819142</td><td> 0.49248401</td><td>-1.53519300</td><td> 1.0734899</td></tr>\n",
       "\t<tr><th scope=row>6</th><td> 3.7654805</td><td>-0.76219538</td><td>-0.1208134</td><td>-2.261704782</td><td>-0.4259040</td><td> 0.622221801</td><td> 1.30879541</td><td> 1.557304320</td><td>-0.37668600</td><td> 0.1138156</td><td> 0.06633436</td><td> 0.07347764</td><td> 1.93543746</td><td>-2.1704921479</td><td>-0.24958918</td><td>-0.15737286</td><td> 0.81019497</td><td> 0.45145871</td><td>-0.02591290</td><td>-0.16060574</td><td> 0.93284442</td><td>-0.54648838</td><td> 1.7772866</td><td> 0.84596321</td><td> 1.68909924</td><td>-0.9388022</td><td>-0.350849918</td><td>-0.57493491</td><td> 0.20144978</td><td>-0.115522090</td><td>-1.52429441</td><td>-1.99937651</td><td> 0.784739303</td><td>-0.61825515</td><td>-0.39410593</td><td> 0.91801383</td><td> 0.84643226</td><td> 0.624606374</td><td>-1.37911915</td><td>-0.68831401</td><td>-0.4297368</td><td> 1.32578618</td><td> 0.17343285</td><td> 0.19382427</td><td> 1.66529571</td><td> 0.229581733</td><td>-0.10703755</td><td> 0.14605844</td><td> 0.21485866</td><td>-0.6281183</td></tr>\n",
       "\t<tr><th scope=row>7</th><td>-1.8932313</td><td> 1.32153261</td><td>-1.6097497</td><td>-0.674878342</td><td>-0.5342553</td><td>-0.159604483</td><td> 1.77411505</td><td> 0.048479922</td><td>-0.33494867</td><td>-0.8408693</td><td> 1.77486454</td><td> 0.47151024</td><td> 0.91357218</td><td> 0.5438638834</td><td> 1.48303767</td><td> 0.81820679</td><td>-1.32512309</td><td>-0.11999110</td><td> 1.48263886</td><td> 0.63221988</td><td> 1.09907491</td><td> 0.71352462</td><td>-2.7135744</td><td>-0.11124626</td><td>-1.44794988</td><td> 1.2202144</td><td> 0.812707964</td><td>-0.76245545</td><td> 0.88453545</td><td> 1.334346425</td><td>-0.63993649</td><td> 0.17530501</td><td>-0.301532107</td><td> 0.74278277</td><td> 1.59245605</td><td> 1.50462991</td><td>-0.07054134</td><td>-0.433228782</td><td>-0.44540039</td><td>-0.66894698</td><td>-1.4012987</td><td> 0.17036496</td><td> 2.23036487</td><td> 2.14086878</td><td>-0.13960279</td><td> 1.034126492</td><td> 2.47108658</td><td>-0.32475143</td><td> 0.37763136</td><td>-0.4893168</td></tr>\n",
       "\t<tr><th scope=row>8</th><td>-1.6743905</td><td>-0.82893901</td><td> 1.7873979</td><td>-1.600045407</td><td> 1.6109195</td><td> 2.692331633</td><td>-1.57554037</td><td>-2.851629154</td><td>-1.85112633</td><td>-0.9196504</td><td>-1.30833473</td><td>-4.47850745</td><td> 0.26225079</td><td> 2.4320604860</td><td>-3.92933751</td><td>-0.71648184</td><td>-0.45055230</td><td> 1.81128553</td><td> 0.08900280</td><td> 0.58542588</td><td> 0.80528244</td><td>-0.52089550</td><td>-3.4432013</td><td> 1.83200354</td><td>-2.01345456</td><td>-0.4892589</td><td> 0.006886495</td><td> 1.38897201</td><td>-0.90743748</td><td>-2.712316114</td><td>-1.46899438</td><td>-2.91425112</td><td> 1.333572642</td><td>-3.66587540</td><td>-0.29840067</td><td> 0.63605162</td><td> 0.86310351</td><td> 0.120013458</td><td>-0.13757495</td><td>-0.01975629</td><td>-1.8642872</td><td> 2.08971980</td><td>-0.21671829</td><td> 1.42736261</td><td> 0.03440970</td><td>-0.652192394</td><td>-0.63978050</td><td> 1.15580048</td><td>-0.68236266</td><td> 0.5266755</td></tr>\n",
       "\t<tr><th scope=row>9</th><td> 0.5826252</td><td>-1.34723541</td><td> 2.1381110</td><td>-0.465972378</td><td>-0.2561637</td><td>-0.654473768</td><td> 0.39431580</td><td> 0.202584374</td><td>-0.55571896</td><td>-0.9746703</td><td>-0.40708981</td><td>-2.61515024</td><td> 0.47947986</td><td> 0.8852175345</td><td>-2.26089037</td><td>-0.14152115</td><td>-0.37770635</td><td> 1.45621594</td><td>-0.79635659</td><td> 1.72480916</td><td>-0.26900774</td><td> 0.76906074</td><td>-3.4774712</td><td> 3.27281515</td><td>-0.98902135</td><td>-0.9968284</td><td> 0.758694756</td><td>-1.72272614</td><td>-1.26164049</td><td> 1.107525902</td><td> 2.63766662</td><td> 0.67369119</td><td> 1.332482011</td><td>-6.11673242</td><td> 0.98619312</td><td> 0.93748401</td><td> 0.43321251</td><td>-0.116431923</td><td> 0.06523181</td><td>-0.85962200</td><td> 0.1498454</td><td> 0.16096874</td><td>-1.27941571</td><td>-2.24062266</td><td> 0.05167626</td><td>-0.394597166</td><td>-1.77621616</td><td> 0.85752334</td><td>-2.87942624</td><td>-0.2538725</td></tr>\n",
       "\t<tr><th scope=row>10</th><td> 4.8567407</td><td>-0.07122440</td><td> 0.8894424</td><td> 1.679740918</td><td> 1.0822725</td><td>-0.449402084</td><td>-0.25730283</td><td>-1.003741501</td><td> 2.81688520</td><td>-0.3981956</td><td> 2.26207497</td><td>-0.32171377</td><td>-1.00813474</td><td> 0.2264523954</td><td> 2.24458594</td><td>-0.86114293</td><td>-0.82372762</td><td> 2.53940928</td><td>-0.19619848</td><td>-0.89715936</td><td> 0.34585599</td><td> 0.16185081</td><td> 2.7178012</td><td>-0.22461750</td><td>-0.52254907</td><td> 0.1467630</td><td> 0.695134745</td><td>-1.18969810</td><td> 0.54662239</td><td> 0.009276401</td><td> 0.42540184</td><td>-0.01576382</td><td> 0.616517221</td><td>-0.66294605</td><td>-1.88237567</td><td>-0.26881839</td><td> 1.50212223</td><td>-1.162904455</td><td>-0.87533976</td><td> 0.65627244</td><td>-1.1763400</td><td>-0.60468569</td><td>-0.82381191</td><td>-0.74570160</td><td> 0.58385794</td><td>-0.994281582</td><td> 1.10016117</td><td>-0.63174249</td><td>-2.34036797</td><td> 1.3979264</td></tr>\n",
       "\t<tr><th scope=row>11</th><td> 4.6474679</td><td>-0.10365820</td><td> 0.9817481</td><td> 1.245683614</td><td> 1.0757742</td><td> 0.388805774</td><td> 0.21704037</td><td>-0.951469101</td><td> 3.21808698</td><td>-0.2145598</td><td> 2.01106669</td><td>-1.34611526</td><td>-0.04270788</td><td> 0.0007480721</td><td> 2.55279090</td><td>-1.11490750</td><td>-0.75383246</td><td> 3.00422234</td><td>-0.84101192</td><td>-1.27111769</td><td> 1.14484428</td><td> 0.05561192</td><td> 2.9080359</td><td>-0.15450742</td><td>-0.81579342</td><td>-0.1108904</td><td>-0.060826119</td><td>-1.76825096</td><td>-0.28009727</td><td> 0.680398738</td><td>-0.27924359</td><td>-0.21949716</td><td> 0.041247100</td><td>-0.72471483</td><td> 1.56160933</td><td>-0.58236060</td><td>-0.67425980</td><td>-0.648070689</td><td>-1.40175275</td><td> 0.49034054</td><td>-1.2210765</td><td>-0.39338709</td><td>-1.55374792</td><td>-1.40305474</td><td> 0.84168743</td><td> 0.928269529</td><td> 1.08226614</td><td>-0.17542572</td><td>-2.51271432</td><td> 1.3956121</td></tr>\n",
       "\t<tr><th scope=row>12</th><td>-0.5404158</td><td>-0.52511710</td><td>-2.4675570</td><td>-2.632283089</td><td>-1.3258666</td><td> 0.895669031</td><td> 0.04965394</td><td>-1.982412768</td><td> 1.50079055</td><td> 1.0900163</td><td>-1.24809782</td><td>-1.75994827</td><td>-1.74813373</td><td>-0.8595664850</td><td> 0.80172670</td><td>-1.68026985</td><td>-1.77766872</td><td>-1.45360958</td><td>-3.39030059</td><td> 0.51504419</td><td>-1.45825258</td><td> 1.55789280</td><td> 2.4143592</td><td>-0.05014637</td><td>-1.66099131</td><td> 3.0208996</td><td>-1.258755302</td><td> 0.15794264</td><td>-1.15491551</td><td>-0.239863636</td><td>-0.99492181</td><td> 1.31162564</td><td> 0.124670254</td><td>-1.93607662</td><td>-0.91025042</td><td>-1.36636400</td><td>-2.54449646</td><td> 2.060282888</td><td>-0.34411876</td><td>-0.16993511</td><td>-0.8775017</td><td> 1.19010605</td><td>-0.63673763</td><td> 1.60844346</td><td> 0.41798140</td><td> 0.033565498</td><td>-1.98550410</td><td>-1.71778381</td><td> 2.19475713</td><td>-1.3898735</td></tr>\n",
       "\t<tr><th scope=row>13</th><td>-2.0849082</td><td>-0.42402214</td><td>-1.5452477</td><td> 0.338418591</td><td>-0.7244594</td><td>-0.823258461</td><td>-0.52356800</td><td>-2.591454677</td><td>-2.04801613</td><td>-0.7963224</td><td> 2.38310831</td><td>-3.63346632</td><td> 2.31923275</td><td>-2.2257494120</td><td> 0.68485631</td><td>-0.43573781</td><td>-1.01499460</td><td> 0.17564988</td><td> 1.28190428</td><td> 0.76067221</td><td>-1.68882558</td><td> 0.66898305</td><td> 0.7905284</td><td> 1.28303711</td><td>-0.45928952</td><td>-1.2887668</td><td> 0.138659219</td><td>-0.56929258</td><td>-3.04180914</td><td> 2.550415513</td><td>-0.51658416</td><td> 0.20789743</td><td> 0.176436933</td><td> 0.96045471</td><td>-1.04883841</td><td>-1.43063395</td><td> 1.59592902</td><td> 1.457552336</td><td> 0.83371987</td><td> 1.40165709</td><td>-0.5140617</td><td>-2.91311490</td><td>-1.35807628</td><td>-0.82521717</td><td> 0.45140542</td><td> 0.882788382</td><td>-1.33799705</td><td> 5.05296085</td><td> 2.47560945</td><td> 1.9599802</td></tr>\n",
       "\t<tr><th scope=row>14</th><td>-2.5095883</td><td> 3.27287798</td><td> 1.0957666</td><td> 0.947795685</td><td> 0.6965707</td><td> 0.581448514</td><td>-3.71274614</td><td> 1.056034101</td><td> 1.86258810</td><td> 0.2853842</td><td> 1.86790881</td><td>-2.19352036</td><td> 1.25002639</td><td>-2.0489399995</td><td>-1.76689702</td><td> 1.32213318</td><td>-2.37632226</td><td>-0.60632082</td><td>-0.63572465</td><td>-2.26265303</td><td> 0.71524477</td><td> 0.04079346</td><td>-1.5077179</td><td>-0.42729334</td><td> 0.36723339</td><td>-1.1818812</td><td> 0.248353562</td><td>-0.11512140</td><td>-1.81793437</td><td> 3.026106811</td><td>-0.41034035</td><td> 0.54711563</td><td> 0.412085765</td><td> 1.84240308</td><td>-0.56132884</td><td>-0.33765833</td><td> 0.38545165</td><td> 0.689519231</td><td>-0.52597726</td><td> 0.99458071</td><td>-1.6122634</td><td> 0.30826664</td><td>-0.45413665</td><td> 0.95636657</td><td> 1.09970043</td><td> 1.177658683</td><td>-2.17943596</td><td> 3.02492580</td><td> 0.37764440</td><td> 0.6320426</td></tr>\n",
       "\t<tr><th scope=row>15</th><td> 3.4350691</td><td> 1.05764806</td><td>-1.7166734</td><td> 1.146759334</td><td>-0.3195388</td><td> 0.454816610</td><td> 0.76824854</td><td>-0.674111512</td><td>-0.38117590</td><td>-0.2726422</td><td> 0.83321475</td><td> 1.97206222</td><td> 0.18908265</td><td> 0.0848161550</td><td> 0.31497812</td><td> 0.85425655</td><td>-0.90608685</td><td> 0.13077944</td><td> 0.50137677</td><td> 0.87291245</td><td> 0.89646194</td><td>-0.24474474</td><td>-2.9463914</td><td> 1.32663683</td><td> 0.02592505</td><td> 1.0873563</td><td>-0.522459614</td><td>-0.46327124</td><td>-0.25530326</td><td> 0.793790220</td><td>-0.87664727</td><td>-0.01859731</td><td>-0.157159634</td><td> 0.24805860</td><td> 1.00741807</td><td> 1.42667467</td><td> 0.56827787</td><td> 0.005967887</td><td>-0.43317595</td><td>-0.36001934</td><td>-1.1880999</td><td>-0.10470098</td><td> 0.74151503</td><td>-1.62886647</td><td>-0.99811938</td><td>-0.601542683</td><td> 0.28988011</td><td> 0.01598736</td><td>-0.08610804</td><td>-0.8737517</td></tr>\n",
       "\t<tr><th scope=row>16</th><td> 1.5425660</td><td>-0.56736618</td><td> 0.5952613</td><td>-1.604812654</td><td> 2.2974136</td><td>-0.002250981</td><td>-2.77631213</td><td>-0.676257266</td><td>-1.26938565</td><td> 4.5527638</td><td> 0.23115048</td><td> 0.04655218</td><td> 1.68768521</td><td>-0.5150069317</td><td> 1.47036059</td><td>-0.89759387</td><td> 0.46474421</td><td> 0.49536258</td><td> 0.60433549</td><td>-1.52619142</td><td>-1.40677847</td><td> 0.83030492</td><td>-2.4682924</td><td> 0.07145449</td><td> 0.63226557</td><td> 0.6726482</td><td> 0.951174897</td><td> 0.38607764</td><td> 0.41356183</td><td> 0.832149742</td><td>-0.22685103</td><td>-0.39414346</td><td> 0.140495720</td><td>-2.93396773</td><td> 2.42879947</td><td> 0.01594773</td><td> 0.06263822</td><td> 2.087745572</td><td>-0.86626100</td><td>-0.26032949</td><td> 0.8203151</td><td>-0.48911003</td><td> 2.08913959</td><td> 0.67284381</td><td>-2.31161674</td><td>-0.006202612</td><td> 0.82432638</td><td> 1.09238743</td><td> 0.56079246</td><td> 0.6680789</td></tr>\n",
       "\t<tr><th scope=row>17</th><td>-3.1334573</td><td> 0.14484716</td><td> 1.7493953</td><td> 0.046892176</td><td>-2.4497715</td><td>-0.935641819</td><td> 2.72932234</td><td> 0.419462017</td><td> 0.70418577</td><td> 0.4911018</td><td> 1.95540028</td><td> 0.56834272</td><td>-0.05067478</td><td>-1.6806518313</td><td> 0.66112002</td><td> 0.73280559</td><td> 0.26564484</td><td> 1.29984673</td><td>-1.15632902</td><td> 0.34259774</td><td>-0.10540510</td><td> 0.27013188</td><td>-1.3981142</td><td> 2.30390479</td><td>-1.08703631</td><td> 1.5013004</td><td>-1.599079889</td><td> 2.29958617</td><td> 2.49377287</td><td> 0.619503102</td><td> 0.89017924</td><td>-1.64700633</td><td> 0.039879550</td><td> 2.18655913</td><td>-0.87058106</td><td> 0.00109876</td><td> 0.34548836</td><td> 0.957499354</td><td> 0.44679668</td><td> 1.88259916</td><td>-0.8644121</td><td>-0.01908389</td><td> 2.96436279</td><td> 0.64230315</td><td>-0.86188402</td><td>-1.667384836</td><td> 0.65868358</td><td>-0.75096715</td><td>-1.16897917</td><td>-0.6988599</td></tr>\n",
       "\t<tr><th scope=row>18</th><td> 3.8187290</td><td>-0.43028229</td><td>-0.2122447</td><td>-0.862939799</td><td>-0.4175045</td><td> 1.667580315</td><td> 1.47001366</td><td> 0.329570503</td><td>-0.51823338</td><td> 2.4723605</td><td> 3.26467133</td><td> 0.49508016</td><td>-0.10619737</td><td> 2.0603688520</td><td>-1.01301643</td><td> 1.02271537</td><td>-1.04813124</td><td> 0.34423094</td><td>-0.88355411</td><td> 1.02136004</td><td>-1.37704133</td><td> 0.05787341</td><td> 0.4977762</td><td>-0.39581043</td><td> 2.35509592</td><td>-0.7389129</td><td> 1.044204578</td><td> 0.48011322</td><td> 0.38436193</td><td> 0.503108374</td><td>-1.08635758</td><td> 1.74385860</td><td> 0.591376126</td><td> 0.72960443</td><td>-0.47375064</td><td>-0.08171993</td><td> 0.69370071</td><td> 0.244528825</td><td>-0.13931988</td><td> 0.75720525</td><td>-0.9800807</td><td> 0.95569687</td><td>-0.49152157</td><td>-0.43589003</td><td> 1.85244906</td><td>-0.300405898</td><td> 0.19821477</td><td>-1.46090791</td><td>-0.09334846</td><td> 0.2330481</td></tr>\n",
       "\t<tr><th scope=row>19</th><td> 0.2273345</td><td>-0.96079512</td><td>-0.8642664</td><td>-1.239121599</td><td>-1.1422181</td><td>-0.948847192</td><td> 1.93990226</td><td> 1.821497652</td><td>-2.26983356</td><td> 0.1798309</td><td> 1.09157031</td><td>-0.49723690</td><td>-1.83356584</td><td> 2.2698464647</td><td>-2.07967615</td><td>-0.86060017</td><td>-3.30691667</td><td> 3.76946348</td><td> 1.56648715</td><td>-0.59592555</td><td> 2.75176345</td><td>-0.24850509</td><td> 5.0092646</td><td>-1.69819051</td><td> 0.79652169</td><td> 1.5802724</td><td>-0.410166206</td><td> 1.35279567</td><td>-2.01674119</td><td> 1.117777063</td><td> 0.50037932</td><td> 0.63351150</td><td>-0.168584661</td><td>-0.64841814</td><td>-0.31302668</td><td>-0.47677201</td><td>-0.84437909</td><td> 0.898946201</td><td>-0.77462129</td><td> 0.67299152</td><td>-0.6091504</td><td>-0.42808621</td><td> 0.43698284</td><td> 0.02435737</td><td>-7.91116027</td><td>-0.586690667</td><td>-3.48541895</td><td> 2.30577238</td><td>-0.09494672</td><td>-2.1417434</td></tr>\n",
       "\t<tr><th scope=row>20</th><td>-1.1229766</td><td>-1.07365762</td><td> 1.6584601</td><td>-1.881268810</td><td> 1.6442869</td><td> 2.502590618</td><td>-1.04572532</td><td>-2.834864206</td><td>-1.64270143</td><td>-0.7654139</td><td>-1.60117080</td><td>-4.06688788</td><td> 0.18659239</td><td> 2.1873900130</td><td>-3.58965307</td><td>-0.54724053</td><td>-0.47298825</td><td> 2.09233270</td><td> 0.13654978</td><td> 0.54456971</td><td> 0.89060190</td><td>-0.32571460</td><td>-3.4873964</td><td> 1.64775686</td><td>-1.97957848</td><td>-0.3936655</td><td> 0.225900868</td><td> 1.33560169</td><td>-0.90079902</td><td>-2.675199700</td><td>-1.35848236</td><td>-2.70949411</td><td> 1.670264460</td><td>-3.43133300</td><td>-0.24590329</td><td> 0.87988736</td><td> 0.01242443</td><td>-0.905807786</td><td>-0.04342730</td><td>-0.20532350</td><td>-2.1218296</td><td> 2.21980736</td><td>-0.28118018</td><td> 1.15804521</td><td>-0.19074402</td><td>-0.763533964</td><td>-0.71712774</td><td> 0.61854975</td><td>-0.95559755</td><td> 0.4098365</td></tr>\n",
       "\t<tr><th scope=row>21</th><td>-0.8008472</td><td> 2.49123804</td><td>-4.3069752</td><td>-2.580371447</td><td>19.8416992</td><td>-1.818541322</td><td>12.66324206</td><td> 0.083420986</td><td> 5.61252135</td><td>-2.6668535</td><td>-1.85737457</td><td>-7.81491646</td><td>-2.40888462</td><td>-3.3934309778</td><td>-5.04776407</td><td> 3.05463436</td><td>-2.11447623</td><td>-2.27188614</td><td> 2.56518086</td><td>-1.49347942</td><td>-3.13809176</td><td> 1.60115933</td><td>-0.3540877</td><td> 2.78825995</td><td> 4.26819807</td><td> 1.1502275</td><td>-2.155777141</td><td>-0.06281178</td><td> 1.83036845</td><td>-0.014323792</td><td> 0.81741032</td><td> 0.31945932</td><td> 2.662663818</td><td> 3.36971068</td><td> 1.06788405</td><td> 0.27329661</td><td> 1.97135923</td><td> 0.908785391</td><td> 0.48996035</td><td> 0.69484027</td><td> 1.1342932</td><td>-0.03819314</td><td>-0.34986419</td><td> 1.03017855</td><td>-3.17615842</td><td>-3.380010039</td><td>-1.15230789</td><td>-1.06490637</td><td> 2.07494825</td><td> 2.4574213</td></tr>\n",
       "\t<tr><th scope=row>22</th><td> 2.9922525</td><td> 0.40331012</td><td>-1.8532753</td><td> 0.234273445</td><td>-0.5295028</td><td> 0.266677987</td><td> 0.95902416</td><td>-0.304425632</td><td>-0.39962447</td><td>-0.6308217</td><td> 1.28064258</td><td> 1.88655184</td><td> 0.72678782</td><td>-0.1443399202</td><td>-0.40768678</td><td>-0.22078682</td><td>-0.27625653</td><td>-0.68959612</td><td> 0.17070493</td><td> 0.13901490</td><td> 0.56889698</td><td> 0.09078144</td><td>-2.5676866</td><td> 1.80106898</td><td>-1.24455880</td><td> 0.4805115</td><td>-0.377344788</td><td> 0.10415024</td><td>-1.45806759</td><td>-0.327430346</td><td> 0.49276962</td><td> 0.30623831</td><td> 1.009531610</td><td> 0.23229604</td><td> 0.06252132</td><td> 1.33193493</td><td> 0.66356972</td><td> 0.294522216</td><td>-0.48076240</td><td> 0.43145672</td><td>-0.4812890</td><td> 0.44138123</td><td>-0.05283438</td><td>-0.41742464</td><td>-0.72677814</td><td>-0.029164479</td><td>-0.38273065</td><td>-0.24907556</td><td> 0.07953361</td><td>-1.2987064</td></tr>\n",
       "\t<tr><th scope=row>23</th><td>-2.0517599</td><td>-0.38792485</td><td>-0.7612489</td><td> 3.461071363</td><td>-1.4156259</td><td> 1.201298374</td><td> 0.78423948</td><td> 0.504905906</td><td> 0.00366605</td><td> 0.6930717</td><td> 0.54911312</td><td>-0.20020398</td><td>-1.79314294</td><td>-0.7774508798</td><td>-0.56929962</td><td>-0.15298069</td><td> 1.08934203</td><td>-0.53807644</td><td>-0.55115656</td><td>-0.08088238</td><td> 0.11122302</td><td>-0.56898892</td><td> 2.3477678</td><td>-0.97968279</td><td> 0.41118918</td><td> 2.5270804</td><td> 1.078390664</td><td> 0.04103956</td><td> 0.69181948</td><td> 1.842635235</td><td> 1.07501358</td><td>-1.24943262</td><td> 0.191774779</td><td>-4.04385079</td><td> 0.74041895</td><td>-0.15103961</td><td> 1.13422157</td><td> 0.295398624</td><td>-1.00153823</td><td> 0.05941833</td><td> 0.4652482</td><td> 0.65215911</td><td>-0.68105772</td><td> 0.66631006</td><td>-2.09167650</td><td>-0.042397788</td><td> 0.06907770</td><td>-2.02496229</td><td> 6.19114675</td><td> 2.0296936</td></tr>\n",
       "\t<tr><th scope=row>24</th><td>-1.1767844</td><td>-0.38633754</td><td>-4.0483159</td><td>-0.791069910</td><td>-0.1766003</td><td>-0.998081307</td><td>-1.77178312</td><td> 0.917455695</td><td> 0.17459690</td><td>-1.5117797</td><td> 1.57814809</td><td>-3.51814642</td><td>-0.98957635</td><td>-0.0822333825</td><td> 1.32707265</td><td> 3.24385848</td><td> 2.97280493</td><td>-0.52352126</td><td>-0.64418581</td><td>-1.46409368</td><td>-3.14380629</td><td>-3.92319586</td><td> 0.7198852</td><td>-1.55307237</td><td>-3.69502760</td><td>-1.4153557</td><td> 2.205632719</td><td> 1.56358903</td><td>-3.08816666</td><td>-1.238145389</td><td>-1.11598428</td><td>-1.11115492</td><td> 3.244669627</td><td> 0.06870802</td><td> 3.68580535</td><td>-2.47333607</td><td> 0.45485077</td><td> 0.837549534</td><td>-0.45308711</td><td> 0.32645273</td><td>-1.8246975</td><td>-1.54949244</td><td> 0.97233111</td><td>-3.36861405</td><td> 0.66823273</td><td>-2.764331317</td><td> 0.75238351</td><td> 4.65160986</td><td> 2.39475272</td><td>-0.8124173</td></tr>\n",
       "\t<tr><th scope=row>25</th><td>-4.3659326</td><td>-0.39576326</td><td> 1.3149710</td><td> 1.606704951</td><td> 0.9463605</td><td> 1.827001086</td><td> 0.89431131</td><td> 0.002924701</td><td> 1.44075236</td><td> 1.4699214</td><td>-0.05956663</td><td> 2.47507643</td><td> 1.05088412</td><td> 0.8517599974</td><td> 0.46552025</td><td>-0.26380741</td><td>-0.02062384</td><td>-0.89586411</td><td>-0.30399517</td><td> 0.60277188</td><td> 0.09402262</td><td>-0.12508251</td><td> 2.6619287</td><td> 2.42117384</td><td>-0.45830478</td><td>-2.7618025</td><td>-0.409821655</td><td>-0.02155461</td><td>-0.54054145</td><td> 0.130135490</td><td>-1.97882355</td><td> 0.37854631</td><td> 0.543858991</td><td> 0.75331253</td><td> 0.39811159</td><td> 0.50165022</td><td>-0.78221268</td><td> 1.036359659</td><td>-0.70015312</td><td> 0.03682088</td><td> 0.2399763</td><td> 0.32581220</td><td> 0.22912910</td><td> 0.86091916</td><td>-2.73258160</td><td>-0.847879085</td><td> 0.03310274</td><td> 1.36596234</td><td>-2.52807315</td><td>-0.7837359</td></tr>\n",
       "\t<tr><th scope=row>26</th><td> 3.5070811</td><td> 1.02190093</td><td>-1.6471046</td><td> 1.301924835</td><td>-0.4087782</td><td> 0.603231213</td><td> 0.87948042</td><td>-0.647916331</td><td>-0.02051878</td><td>-0.4106160</td><td> 1.27540633</td><td> 1.98918494</td><td> 0.39021954</td><td>-0.0325732149</td><td> 0.00710682</td><td>-0.06897642</td><td>-0.44323429</td><td>-0.42597551</td><td> 0.36571732</td><td> 0.38293824</td><td> 0.33631721</td><td>-0.12182175</td><td>-3.0362362</td><td> 1.21171817</td><td> 0.04054188</td><td> 0.5742301</td><td> 0.367627494</td><td>-0.37689992</td><td>-0.62933125</td><td>-0.028639690</td><td> 0.28515021</td><td> 0.45407967</td><td> 0.749569177</td><td> 0.17348089</td><td>-0.87185626</td><td> 0.29610762</td><td> 0.60558440</td><td> 0.528767634</td><td>-0.70258179</td><td> 0.80106505</td><td>-0.4022244</td><td> 0.45595491</td><td> 0.06911825</td><td>-0.34312839</td><td>-1.32031310</td><td>-0.252008679</td><td> 0.41451941</td><td> 0.01669949</td><td>-0.12994211</td><td>-1.0408942</td></tr>\n",
       "\t<tr><th scope=row>27</th><td> 1.5181517</td><td>-1.62173112</td><td> 0.2905469</td><td>-2.329804803</td><td> 2.5613627</td><td>-0.890947376</td><td>-2.34792000</td><td>-0.802532037</td><td>-1.29751157</td><td> 4.2215853</td><td> 0.16727454</td><td> 0.24862652</td><td> 1.27182286</td><td>-0.7420315209</td><td> 1.39915198</td><td>-0.95347155</td><td> 0.63208631</td><td> 0.67224613</td><td> 0.17966957</td><td>-1.32443370</td><td>-1.63946707</td><td> 1.42538081</td><td>-2.1634544</td><td>-0.25805100</td><td>-0.21768526</td><td>-0.1720673</td><td> 0.981734037</td><td> 1.45539601</td><td>-0.05315184</td><td>-0.932035937</td><td>-0.05987541</td><td>-0.77899114</td><td> 0.911850194</td><td>-2.60049023</td><td> 1.77928498</td><td> 0.47043527</td><td>-1.06769705</td><td> 1.449394175</td><td>-1.03991437</td><td> 0.19014630</td><td>-0.5125945</td><td>-0.08150759</td><td> 1.41018775</td><td> 0.10310525</td><td>-2.07368233</td><td> 0.296846658</td><td>-0.67458170</td><td> 0.23821486</td><td> 0.40069655</td><td> 0.5354099</td></tr>\n",
       "\t<tr><th scope=row>28</th><td>-2.5785518</td><td>-1.09811784</td><td>-2.7386019</td><td> 2.466965295</td><td> 1.2679477</td><td>-1.408775995</td><td>-2.33429176</td><td> 2.645734605</td><td>-0.63041760</td><td> 0.4200504</td><td> 2.15036658</td><td>-5.58739627</td><td> 1.21800888</td><td> 0.8012763042</td><td> 1.41023062</td><td>-1.92165860</td><td>-1.31080479</td><td>-0.11372442</td><td>-0.21015076</td><td> 0.55843147</td><td> 0.86099716</td><td> 0.53211371</td><td>-2.0571813</td><td>-0.75558565</td><td>-1.85860834</td><td>-0.1159016</td><td> 1.239656118</td><td>-0.49853983</td><td>-1.27052317</td><td>-1.210367972</td><td>-0.66320425</td><td> 0.38933859</td><td>-1.419803622</td><td> 3.89491405</td><td> 0.03303260</td><td> 0.57810243</td><td> 0.11956177</td><td> 2.137982493</td><td>-2.92535598</td><td>-0.34202975</td><td>-1.7690169</td><td>-0.31460219</td><td>-1.25729606</td><td> 0.61027441</td><td> 2.14485268</td><td> 1.048115778</td><td>-2.03672304</td><td> 4.36893348</td><td> 2.44730129</td><td> 1.8369244</td></tr>\n",
       "\t<tr><th scope=row>29</th><td>-5.0408497</td><td>-0.74215308</td><td> 0.5298410</td><td> 1.548710748</td><td> 2.0227804</td><td> 2.069488085</td><td> 1.19329994</td><td> 1.274797310</td><td> 1.40152680</td><td> 0.8291049</td><td> 0.64212515</td><td> 2.26487254</td><td> 0.92558331</td><td> 0.6406475217</td><td> 1.11432529</td><td>-0.23915635</td><td>-0.37834945</td><td>-1.67827065</td><td> 0.12327988</td><td> 0.38864284</td><td> 0.16955053</td><td>-0.19993647</td><td> 2.7541114</td><td> 1.36959260</td><td>-0.34978841</td><td>-2.5556831</td><td> 1.801112350</td><td>-0.98879445</td><td>-1.42759469</td><td>-0.739446958</td><td> 0.43246933</td><td>-0.69261102</td><td> 1.905853383</td><td> 0.58530587</td><td> 0.71572537</td><td> 2.18844714</td><td> 0.91739604</td><td>-1.289352047</td><td>-1.69087685</td><td> 0.47039455</td><td>-2.7299936</td><td> 1.83589559</td><td> 5.00700378</td><td> 0.35808444</td><td>-2.94769469</td><td> 2.563728165</td><td> 1.15985286</td><td> 1.48862285</td><td>-2.62162477</td><td>-0.7992089</td></tr>\n",
       "\t<tr><th scope=row>30</th><td> 1.7500199</td><td>-0.43090810</td><td>-0.4877710</td><td>-4.545161509</td><td>-1.1850999</td><td> 0.078918665</td><td> 1.09260905</td><td>-1.467335726</td><td> 0.33908627</td><td>-0.2432775</td><td>-0.97147361</td><td>-1.21333873</td><td>-2.39768097</td><td>-0.0001188752</td><td> 1.71771982</td><td>-1.72573260</td><td>-2.79266991</td><td>-2.45477346</td><td>-3.02099982</td><td> 0.85354695</td><td>-0.56003392</td><td> 1.54439589</td><td> 1.6557394</td><td> 0.76205209</td><td>-3.53004540</td><td> 2.0261046</td><td>-0.034080391</td><td> 0.15954832</td><td>-0.58781913</td><td> 1.323991929</td><td>-1.03882172</td><td> 0.17760738</td><td> 0.639356172</td><td>-0.66768383</td><td>-0.14090387</td><td> 0.34899050</td><td>-1.18694218</td><td> 0.432369015</td><td>-1.72370838</td><td> 0.45986628</td><td> 0.9644104</td><td> 1.54365110</td><td>-0.13004511</td><td> 1.21865241</td><td>-1.04540607</td><td> 1.511695115</td><td>-0.92768080</td><td> 1.69597379</td><td> 1.35138283</td><td>-2.3737727</td></tr>\n",
       "</tbody>\n",
       "</table>\n"
      ],
      "text/latex": [
       "A matrix: 30 × 50 of type dbl\n",
       "\\begin{tabular}{r|llllllllllllllllllllllllllllllllllllllllllllllllll}\n",
       "  & PC1 & PC10 & PC11 & PC12 & PC13 & PC14 & PC15 & PC16 & PC17 & PC18 & PC19 & PC2 & PC20 & PC21 & PC22 & PC23 & PC24 & PC25 & PC26 & PC27 & PC28 & PC29 & PC3 & PC30 & PC31 & PC32 & PC33 & PC34 & PC35 & PC36 & PC37 & PC38 & PC39 & PC4 & PC40 & PC41 & PC42 & PC43 & PC44 & PC45 & PC46 & PC47 & PC48 & PC49 & PC5 & PC50 & PC6 & PC7 & PC8 & PC9\\\\\n",
       "\\hline\n",
       "\t1 & -0.5257945 &  1.06471547 & -4.6294452 & -5.879981934 & -2.9649885 & -1.013949014 &  0.12017020 & -1.322647693 &  1.19322808 &  1.4797748 & -0.65212851 & -2.51305923 & -4.96202282 &  0.0304791903 &  0.12638107 & -2.62339981 & -4.70808332 &  0.90938716 & -2.22390670 & -0.28974354 & -0.38281303 &  0.21520915 &  4.7335282 &  0.17112784 & -0.48338473 &  3.7766557 & -0.631313265 & -1.18641638 & -0.90691472 & -0.072265199 & -0.99474803 &  1.13693217 & -0.007931919 & -1.59437328 & -1.18057959 & -1.56555966 & -0.15924607 & -0.684011192 & -1.65539436 &  0.42083219 & -0.7556776 &  1.17851100 & -0.31675217 &  1.19715563 & -5.05783611 &  0.053265567 & -2.67812714 &  0.51403398 &  1.66398262 & -4.9525741\\\\\n",
       "\t2 &  3.6797615 & -1.50165235 & -0.1274510 & -2.625919754 & -0.2608930 &  0.191994643 &  0.90304936 &  1.980178570 & -0.88665767 & -0.2326876 &  0.22115104 & -0.01406686 &  2.10038402 & -2.1996389470 & -0.69020342 & -0.26574121 &  1.03600165 & -0.06563713 &  0.02099496 & -0.27481986 &  0.97685660 & -0.36848004 &  2.1021413 &  1.27457495 &  0.53529075 & -0.7976193 & -0.856136210 & -0.40757413 & -0.48332681 & -0.327805890 & -0.97846873 & -1.85233835 &  0.580540273 & -0.60721335 & -0.33360993 &  1.45391014 &  0.81703289 &  0.178970010 & -1.20106807 & -0.99544752 & -0.1592643 &  1.01724026 &  0.10716480 & -0.13688030 &  1.85441671 &  0.027746678 & -0.30627988 & -0.16984891 &  0.37809306 & -0.7301437\\\\\n",
       "\t3 & -1.2473337 &  0.07322357 & -3.6410022 & -3.235769076 & -1.9087365 & -0.418670576 & -1.45559242 & -1.627088154 &  2.09070933 &  0.4298780 &  1.39326598 & -1.26043581 & -2.70378275 & -0.6654321526 & -0.61829170 &  1.25557840 &  4.28094416 & -0.30255975 & -0.34382918 & -1.12601152 & -1.84668019 & -4.91093803 &  2.7990754 &  1.76094088 & -3.01502000 &  0.1322287 &  0.598729885 &  0.75208290 & -0.73010702 & -1.718445264 &  0.85177720 &  0.74594595 &  2.863917683 & -1.40697379 &  3.67737268 &  0.39655918 & -0.33433858 &  0.773080065 & -0.91146532 & -1.14178160 &  1.2182073 & -1.76953824 & -0.84617542 & -2.93430331 & -0.26509328 & -2.322034557 & -0.42709075 &  0.55970392 &  2.86662040 & -2.5953221\\\\\n",
       "\t4 & -3.8610960 & -2.19942955 & -1.5519287 &  0.643008709 & -1.2349829 & -1.766971279 &  0.50536007 &  0.603665435 &  1.86596342 &  0.5221076 &  2.22541835 & -2.17526303 & -0.01359822 & -1.2059897872 &  2.29929736 & -1.05808938 &  0.47263209 & -2.17858546 &  0.50438511 & -0.91890985 &  1.45777748 & -0.89107055 & -2.2668598 & -0.55920856 &  2.25695287 &  0.4355687 & -0.914670851 &  2.69530161 & -1.49465779 & -0.815255767 & -0.29676690 &  1.74977996 & -0.128882440 & -7.88428691 &  1.03377716 & -1.14438210 & -2.89388809 &  0.391741763 & -1.12700547 & -0.95098206 & -2.9446051 & -2.83688102 & -0.41758465 & -0.79146345 & -0.68473841 & -0.282102214 & -2.99828423 & -2.23882199 & -0.11702894 & -0.7438652\\\\\n",
       "\t5 &  3.1882956 & -0.44558986 &  0.4015659 &  0.004343887 &  2.7723814 & -0.513782237 & -1.95689465 & -0.828544328 & -0.90532568 &  3.4946852 &  0.40564491 &  0.38966882 & -0.49006666 & -0.5760246551 &  2.32704709 & -0.96043739 &  0.45145981 &  1.63489344 & -0.04182869 & -1.21908734 & -0.84801734 &  0.59557639 & -0.9081166 & -0.86974685 &  0.74132715 & -0.3726409 & -0.136050916 & -0.42002397 &  0.89018414 &  1.003611465 &  0.19973602 & -0.09930250 &  1.310281887 & -2.92509537 & -2.04535334 &  1.55654903 &  1.54447435 &  0.015850480 & -1.87085535 &  2.65115026 &  0.2180391 & -0.40125588 &  1.02967364 & -2.29885827 & -1.83575409 & -1.251919131 &  0.63819142 &  0.49248401 & -1.53519300 &  1.0734899\\\\\n",
       "\t6 &  3.7654805 & -0.76219538 & -0.1208134 & -2.261704782 & -0.4259040 &  0.622221801 &  1.30879541 &  1.557304320 & -0.37668600 &  0.1138156 &  0.06633436 &  0.07347764 &  1.93543746 & -2.1704921479 & -0.24958918 & -0.15737286 &  0.81019497 &  0.45145871 & -0.02591290 & -0.16060574 &  0.93284442 & -0.54648838 &  1.7772866 &  0.84596321 &  1.68909924 & -0.9388022 & -0.350849918 & -0.57493491 &  0.20144978 & -0.115522090 & -1.52429441 & -1.99937651 &  0.784739303 & -0.61825515 & -0.39410593 &  0.91801383 &  0.84643226 &  0.624606374 & -1.37911915 & -0.68831401 & -0.4297368 &  1.32578618 &  0.17343285 &  0.19382427 &  1.66529571 &  0.229581733 & -0.10703755 &  0.14605844 &  0.21485866 & -0.6281183\\\\\n",
       "\t7 & -1.8932313 &  1.32153261 & -1.6097497 & -0.674878342 & -0.5342553 & -0.159604483 &  1.77411505 &  0.048479922 & -0.33494867 & -0.8408693 &  1.77486454 &  0.47151024 &  0.91357218 &  0.5438638834 &  1.48303767 &  0.81820679 & -1.32512309 & -0.11999110 &  1.48263886 &  0.63221988 &  1.09907491 &  0.71352462 & -2.7135744 & -0.11124626 & -1.44794988 &  1.2202144 &  0.812707964 & -0.76245545 &  0.88453545 &  1.334346425 & -0.63993649 &  0.17530501 & -0.301532107 &  0.74278277 &  1.59245605 &  1.50462991 & -0.07054134 & -0.433228782 & -0.44540039 & -0.66894698 & -1.4012987 &  0.17036496 &  2.23036487 &  2.14086878 & -0.13960279 &  1.034126492 &  2.47108658 & -0.32475143 &  0.37763136 & -0.4893168\\\\\n",
       "\t8 & -1.6743905 & -0.82893901 &  1.7873979 & -1.600045407 &  1.6109195 &  2.692331633 & -1.57554037 & -2.851629154 & -1.85112633 & -0.9196504 & -1.30833473 & -4.47850745 &  0.26225079 &  2.4320604860 & -3.92933751 & -0.71648184 & -0.45055230 &  1.81128553 &  0.08900280 &  0.58542588 &  0.80528244 & -0.52089550 & -3.4432013 &  1.83200354 & -2.01345456 & -0.4892589 &  0.006886495 &  1.38897201 & -0.90743748 & -2.712316114 & -1.46899438 & -2.91425112 &  1.333572642 & -3.66587540 & -0.29840067 &  0.63605162 &  0.86310351 &  0.120013458 & -0.13757495 & -0.01975629 & -1.8642872 &  2.08971980 & -0.21671829 &  1.42736261 &  0.03440970 & -0.652192394 & -0.63978050 &  1.15580048 & -0.68236266 &  0.5266755\\\\\n",
       "\t9 &  0.5826252 & -1.34723541 &  2.1381110 & -0.465972378 & -0.2561637 & -0.654473768 &  0.39431580 &  0.202584374 & -0.55571896 & -0.9746703 & -0.40708981 & -2.61515024 &  0.47947986 &  0.8852175345 & -2.26089037 & -0.14152115 & -0.37770635 &  1.45621594 & -0.79635659 &  1.72480916 & -0.26900774 &  0.76906074 & -3.4774712 &  3.27281515 & -0.98902135 & -0.9968284 &  0.758694756 & -1.72272614 & -1.26164049 &  1.107525902 &  2.63766662 &  0.67369119 &  1.332482011 & -6.11673242 &  0.98619312 &  0.93748401 &  0.43321251 & -0.116431923 &  0.06523181 & -0.85962200 &  0.1498454 &  0.16096874 & -1.27941571 & -2.24062266 &  0.05167626 & -0.394597166 & -1.77621616 &  0.85752334 & -2.87942624 & -0.2538725\\\\\n",
       "\t10 &  4.8567407 & -0.07122440 &  0.8894424 &  1.679740918 &  1.0822725 & -0.449402084 & -0.25730283 & -1.003741501 &  2.81688520 & -0.3981956 &  2.26207497 & -0.32171377 & -1.00813474 &  0.2264523954 &  2.24458594 & -0.86114293 & -0.82372762 &  2.53940928 & -0.19619848 & -0.89715936 &  0.34585599 &  0.16185081 &  2.7178012 & -0.22461750 & -0.52254907 &  0.1467630 &  0.695134745 & -1.18969810 &  0.54662239 &  0.009276401 &  0.42540184 & -0.01576382 &  0.616517221 & -0.66294605 & -1.88237567 & -0.26881839 &  1.50212223 & -1.162904455 & -0.87533976 &  0.65627244 & -1.1763400 & -0.60468569 & -0.82381191 & -0.74570160 &  0.58385794 & -0.994281582 &  1.10016117 & -0.63174249 & -2.34036797 &  1.3979264\\\\\n",
       "\t11 &  4.6474679 & -0.10365820 &  0.9817481 &  1.245683614 &  1.0757742 &  0.388805774 &  0.21704037 & -0.951469101 &  3.21808698 & -0.2145598 &  2.01106669 & -1.34611526 & -0.04270788 &  0.0007480721 &  2.55279090 & -1.11490750 & -0.75383246 &  3.00422234 & -0.84101192 & -1.27111769 &  1.14484428 &  0.05561192 &  2.9080359 & -0.15450742 & -0.81579342 & -0.1108904 & -0.060826119 & -1.76825096 & -0.28009727 &  0.680398738 & -0.27924359 & -0.21949716 &  0.041247100 & -0.72471483 &  1.56160933 & -0.58236060 & -0.67425980 & -0.648070689 & -1.40175275 &  0.49034054 & -1.2210765 & -0.39338709 & -1.55374792 & -1.40305474 &  0.84168743 &  0.928269529 &  1.08226614 & -0.17542572 & -2.51271432 &  1.3956121\\\\\n",
       "\t12 & -0.5404158 & -0.52511710 & -2.4675570 & -2.632283089 & -1.3258666 &  0.895669031 &  0.04965394 & -1.982412768 &  1.50079055 &  1.0900163 & -1.24809782 & -1.75994827 & -1.74813373 & -0.8595664850 &  0.80172670 & -1.68026985 & -1.77766872 & -1.45360958 & -3.39030059 &  0.51504419 & -1.45825258 &  1.55789280 &  2.4143592 & -0.05014637 & -1.66099131 &  3.0208996 & -1.258755302 &  0.15794264 & -1.15491551 & -0.239863636 & -0.99492181 &  1.31162564 &  0.124670254 & -1.93607662 & -0.91025042 & -1.36636400 & -2.54449646 &  2.060282888 & -0.34411876 & -0.16993511 & -0.8775017 &  1.19010605 & -0.63673763 &  1.60844346 &  0.41798140 &  0.033565498 & -1.98550410 & -1.71778381 &  2.19475713 & -1.3898735\\\\\n",
       "\t13 & -2.0849082 & -0.42402214 & -1.5452477 &  0.338418591 & -0.7244594 & -0.823258461 & -0.52356800 & -2.591454677 & -2.04801613 & -0.7963224 &  2.38310831 & -3.63346632 &  2.31923275 & -2.2257494120 &  0.68485631 & -0.43573781 & -1.01499460 &  0.17564988 &  1.28190428 &  0.76067221 & -1.68882558 &  0.66898305 &  0.7905284 &  1.28303711 & -0.45928952 & -1.2887668 &  0.138659219 & -0.56929258 & -3.04180914 &  2.550415513 & -0.51658416 &  0.20789743 &  0.176436933 &  0.96045471 & -1.04883841 & -1.43063395 &  1.59592902 &  1.457552336 &  0.83371987 &  1.40165709 & -0.5140617 & -2.91311490 & -1.35807628 & -0.82521717 &  0.45140542 &  0.882788382 & -1.33799705 &  5.05296085 &  2.47560945 &  1.9599802\\\\\n",
       "\t14 & -2.5095883 &  3.27287798 &  1.0957666 &  0.947795685 &  0.6965707 &  0.581448514 & -3.71274614 &  1.056034101 &  1.86258810 &  0.2853842 &  1.86790881 & -2.19352036 &  1.25002639 & -2.0489399995 & -1.76689702 &  1.32213318 & -2.37632226 & -0.60632082 & -0.63572465 & -2.26265303 &  0.71524477 &  0.04079346 & -1.5077179 & -0.42729334 &  0.36723339 & -1.1818812 &  0.248353562 & -0.11512140 & -1.81793437 &  3.026106811 & -0.41034035 &  0.54711563 &  0.412085765 &  1.84240308 & -0.56132884 & -0.33765833 &  0.38545165 &  0.689519231 & -0.52597726 &  0.99458071 & -1.6122634 &  0.30826664 & -0.45413665 &  0.95636657 &  1.09970043 &  1.177658683 & -2.17943596 &  3.02492580 &  0.37764440 &  0.6320426\\\\\n",
       "\t15 &  3.4350691 &  1.05764806 & -1.7166734 &  1.146759334 & -0.3195388 &  0.454816610 &  0.76824854 & -0.674111512 & -0.38117590 & -0.2726422 &  0.83321475 &  1.97206222 &  0.18908265 &  0.0848161550 &  0.31497812 &  0.85425655 & -0.90608685 &  0.13077944 &  0.50137677 &  0.87291245 &  0.89646194 & -0.24474474 & -2.9463914 &  1.32663683 &  0.02592505 &  1.0873563 & -0.522459614 & -0.46327124 & -0.25530326 &  0.793790220 & -0.87664727 & -0.01859731 & -0.157159634 &  0.24805860 &  1.00741807 &  1.42667467 &  0.56827787 &  0.005967887 & -0.43317595 & -0.36001934 & -1.1880999 & -0.10470098 &  0.74151503 & -1.62886647 & -0.99811938 & -0.601542683 &  0.28988011 &  0.01598736 & -0.08610804 & -0.8737517\\\\\n",
       "\t16 &  1.5425660 & -0.56736618 &  0.5952613 & -1.604812654 &  2.2974136 & -0.002250981 & -2.77631213 & -0.676257266 & -1.26938565 &  4.5527638 &  0.23115048 &  0.04655218 &  1.68768521 & -0.5150069317 &  1.47036059 & -0.89759387 &  0.46474421 &  0.49536258 &  0.60433549 & -1.52619142 & -1.40677847 &  0.83030492 & -2.4682924 &  0.07145449 &  0.63226557 &  0.6726482 &  0.951174897 &  0.38607764 &  0.41356183 &  0.832149742 & -0.22685103 & -0.39414346 &  0.140495720 & -2.93396773 &  2.42879947 &  0.01594773 &  0.06263822 &  2.087745572 & -0.86626100 & -0.26032949 &  0.8203151 & -0.48911003 &  2.08913959 &  0.67284381 & -2.31161674 & -0.006202612 &  0.82432638 &  1.09238743 &  0.56079246 &  0.6680789\\\\\n",
       "\t17 & -3.1334573 &  0.14484716 &  1.7493953 &  0.046892176 & -2.4497715 & -0.935641819 &  2.72932234 &  0.419462017 &  0.70418577 &  0.4911018 &  1.95540028 &  0.56834272 & -0.05067478 & -1.6806518313 &  0.66112002 &  0.73280559 &  0.26564484 &  1.29984673 & -1.15632902 &  0.34259774 & -0.10540510 &  0.27013188 & -1.3981142 &  2.30390479 & -1.08703631 &  1.5013004 & -1.599079889 &  2.29958617 &  2.49377287 &  0.619503102 &  0.89017924 & -1.64700633 &  0.039879550 &  2.18655913 & -0.87058106 &  0.00109876 &  0.34548836 &  0.957499354 &  0.44679668 &  1.88259916 & -0.8644121 & -0.01908389 &  2.96436279 &  0.64230315 & -0.86188402 & -1.667384836 &  0.65868358 & -0.75096715 & -1.16897917 & -0.6988599\\\\\n",
       "\t18 &  3.8187290 & -0.43028229 & -0.2122447 & -0.862939799 & -0.4175045 &  1.667580315 &  1.47001366 &  0.329570503 & -0.51823338 &  2.4723605 &  3.26467133 &  0.49508016 & -0.10619737 &  2.0603688520 & -1.01301643 &  1.02271537 & -1.04813124 &  0.34423094 & -0.88355411 &  1.02136004 & -1.37704133 &  0.05787341 &  0.4977762 & -0.39581043 &  2.35509592 & -0.7389129 &  1.044204578 &  0.48011322 &  0.38436193 &  0.503108374 & -1.08635758 &  1.74385860 &  0.591376126 &  0.72960443 & -0.47375064 & -0.08171993 &  0.69370071 &  0.244528825 & -0.13931988 &  0.75720525 & -0.9800807 &  0.95569687 & -0.49152157 & -0.43589003 &  1.85244906 & -0.300405898 &  0.19821477 & -1.46090791 & -0.09334846 &  0.2330481\\\\\n",
       "\t19 &  0.2273345 & -0.96079512 & -0.8642664 & -1.239121599 & -1.1422181 & -0.948847192 &  1.93990226 &  1.821497652 & -2.26983356 &  0.1798309 &  1.09157031 & -0.49723690 & -1.83356584 &  2.2698464647 & -2.07967615 & -0.86060017 & -3.30691667 &  3.76946348 &  1.56648715 & -0.59592555 &  2.75176345 & -0.24850509 &  5.0092646 & -1.69819051 &  0.79652169 &  1.5802724 & -0.410166206 &  1.35279567 & -2.01674119 &  1.117777063 &  0.50037932 &  0.63351150 & -0.168584661 & -0.64841814 & -0.31302668 & -0.47677201 & -0.84437909 &  0.898946201 & -0.77462129 &  0.67299152 & -0.6091504 & -0.42808621 &  0.43698284 &  0.02435737 & -7.91116027 & -0.586690667 & -3.48541895 &  2.30577238 & -0.09494672 & -2.1417434\\\\\n",
       "\t20 & -1.1229766 & -1.07365762 &  1.6584601 & -1.881268810 &  1.6442869 &  2.502590618 & -1.04572532 & -2.834864206 & -1.64270143 & -0.7654139 & -1.60117080 & -4.06688788 &  0.18659239 &  2.1873900130 & -3.58965307 & -0.54724053 & -0.47298825 &  2.09233270 &  0.13654978 &  0.54456971 &  0.89060190 & -0.32571460 & -3.4873964 &  1.64775686 & -1.97957848 & -0.3936655 &  0.225900868 &  1.33560169 & -0.90079902 & -2.675199700 & -1.35848236 & -2.70949411 &  1.670264460 & -3.43133300 & -0.24590329 &  0.87988736 &  0.01242443 & -0.905807786 & -0.04342730 & -0.20532350 & -2.1218296 &  2.21980736 & -0.28118018 &  1.15804521 & -0.19074402 & -0.763533964 & -0.71712774 &  0.61854975 & -0.95559755 &  0.4098365\\\\\n",
       "\t21 & -0.8008472 &  2.49123804 & -4.3069752 & -2.580371447 & 19.8416992 & -1.818541322 & 12.66324206 &  0.083420986 &  5.61252135 & -2.6668535 & -1.85737457 & -7.81491646 & -2.40888462 & -3.3934309778 & -5.04776407 &  3.05463436 & -2.11447623 & -2.27188614 &  2.56518086 & -1.49347942 & -3.13809176 &  1.60115933 & -0.3540877 &  2.78825995 &  4.26819807 &  1.1502275 & -2.155777141 & -0.06281178 &  1.83036845 & -0.014323792 &  0.81741032 &  0.31945932 &  2.662663818 &  3.36971068 &  1.06788405 &  0.27329661 &  1.97135923 &  0.908785391 &  0.48996035 &  0.69484027 &  1.1342932 & -0.03819314 & -0.34986419 &  1.03017855 & -3.17615842 & -3.380010039 & -1.15230789 & -1.06490637 &  2.07494825 &  2.4574213\\\\\n",
       "\t22 &  2.9922525 &  0.40331012 & -1.8532753 &  0.234273445 & -0.5295028 &  0.266677987 &  0.95902416 & -0.304425632 & -0.39962447 & -0.6308217 &  1.28064258 &  1.88655184 &  0.72678782 & -0.1443399202 & -0.40768678 & -0.22078682 & -0.27625653 & -0.68959612 &  0.17070493 &  0.13901490 &  0.56889698 &  0.09078144 & -2.5676866 &  1.80106898 & -1.24455880 &  0.4805115 & -0.377344788 &  0.10415024 & -1.45806759 & -0.327430346 &  0.49276962 &  0.30623831 &  1.009531610 &  0.23229604 &  0.06252132 &  1.33193493 &  0.66356972 &  0.294522216 & -0.48076240 &  0.43145672 & -0.4812890 &  0.44138123 & -0.05283438 & -0.41742464 & -0.72677814 & -0.029164479 & -0.38273065 & -0.24907556 &  0.07953361 & -1.2987064\\\\\n",
       "\t23 & -2.0517599 & -0.38792485 & -0.7612489 &  3.461071363 & -1.4156259 &  1.201298374 &  0.78423948 &  0.504905906 &  0.00366605 &  0.6930717 &  0.54911312 & -0.20020398 & -1.79314294 & -0.7774508798 & -0.56929962 & -0.15298069 &  1.08934203 & -0.53807644 & -0.55115656 & -0.08088238 &  0.11122302 & -0.56898892 &  2.3477678 & -0.97968279 &  0.41118918 &  2.5270804 &  1.078390664 &  0.04103956 &  0.69181948 &  1.842635235 &  1.07501358 & -1.24943262 &  0.191774779 & -4.04385079 &  0.74041895 & -0.15103961 &  1.13422157 &  0.295398624 & -1.00153823 &  0.05941833 &  0.4652482 &  0.65215911 & -0.68105772 &  0.66631006 & -2.09167650 & -0.042397788 &  0.06907770 & -2.02496229 &  6.19114675 &  2.0296936\\\\\n",
       "\t24 & -1.1767844 & -0.38633754 & -4.0483159 & -0.791069910 & -0.1766003 & -0.998081307 & -1.77178312 &  0.917455695 &  0.17459690 & -1.5117797 &  1.57814809 & -3.51814642 & -0.98957635 & -0.0822333825 &  1.32707265 &  3.24385848 &  2.97280493 & -0.52352126 & -0.64418581 & -1.46409368 & -3.14380629 & -3.92319586 &  0.7198852 & -1.55307237 & -3.69502760 & -1.4153557 &  2.205632719 &  1.56358903 & -3.08816666 & -1.238145389 & -1.11598428 & -1.11115492 &  3.244669627 &  0.06870802 &  3.68580535 & -2.47333607 &  0.45485077 &  0.837549534 & -0.45308711 &  0.32645273 & -1.8246975 & -1.54949244 &  0.97233111 & -3.36861405 &  0.66823273 & -2.764331317 &  0.75238351 &  4.65160986 &  2.39475272 & -0.8124173\\\\\n",
       "\t25 & -4.3659326 & -0.39576326 &  1.3149710 &  1.606704951 &  0.9463605 &  1.827001086 &  0.89431131 &  0.002924701 &  1.44075236 &  1.4699214 & -0.05956663 &  2.47507643 &  1.05088412 &  0.8517599974 &  0.46552025 & -0.26380741 & -0.02062384 & -0.89586411 & -0.30399517 &  0.60277188 &  0.09402262 & -0.12508251 &  2.6619287 &  2.42117384 & -0.45830478 & -2.7618025 & -0.409821655 & -0.02155461 & -0.54054145 &  0.130135490 & -1.97882355 &  0.37854631 &  0.543858991 &  0.75331253 &  0.39811159 &  0.50165022 & -0.78221268 &  1.036359659 & -0.70015312 &  0.03682088 &  0.2399763 &  0.32581220 &  0.22912910 &  0.86091916 & -2.73258160 & -0.847879085 &  0.03310274 &  1.36596234 & -2.52807315 & -0.7837359\\\\\n",
       "\t26 &  3.5070811 &  1.02190093 & -1.6471046 &  1.301924835 & -0.4087782 &  0.603231213 &  0.87948042 & -0.647916331 & -0.02051878 & -0.4106160 &  1.27540633 &  1.98918494 &  0.39021954 & -0.0325732149 &  0.00710682 & -0.06897642 & -0.44323429 & -0.42597551 &  0.36571732 &  0.38293824 &  0.33631721 & -0.12182175 & -3.0362362 &  1.21171817 &  0.04054188 &  0.5742301 &  0.367627494 & -0.37689992 & -0.62933125 & -0.028639690 &  0.28515021 &  0.45407967 &  0.749569177 &  0.17348089 & -0.87185626 &  0.29610762 &  0.60558440 &  0.528767634 & -0.70258179 &  0.80106505 & -0.4022244 &  0.45595491 &  0.06911825 & -0.34312839 & -1.32031310 & -0.252008679 &  0.41451941 &  0.01669949 & -0.12994211 & -1.0408942\\\\\n",
       "\t27 &  1.5181517 & -1.62173112 &  0.2905469 & -2.329804803 &  2.5613627 & -0.890947376 & -2.34792000 & -0.802532037 & -1.29751157 &  4.2215853 &  0.16727454 &  0.24862652 &  1.27182286 & -0.7420315209 &  1.39915198 & -0.95347155 &  0.63208631 &  0.67224613 &  0.17966957 & -1.32443370 & -1.63946707 &  1.42538081 & -2.1634544 & -0.25805100 & -0.21768526 & -0.1720673 &  0.981734037 &  1.45539601 & -0.05315184 & -0.932035937 & -0.05987541 & -0.77899114 &  0.911850194 & -2.60049023 &  1.77928498 &  0.47043527 & -1.06769705 &  1.449394175 & -1.03991437 &  0.19014630 & -0.5125945 & -0.08150759 &  1.41018775 &  0.10310525 & -2.07368233 &  0.296846658 & -0.67458170 &  0.23821486 &  0.40069655 &  0.5354099\\\\\n",
       "\t28 & -2.5785518 & -1.09811784 & -2.7386019 &  2.466965295 &  1.2679477 & -1.408775995 & -2.33429176 &  2.645734605 & -0.63041760 &  0.4200504 &  2.15036658 & -5.58739627 &  1.21800888 &  0.8012763042 &  1.41023062 & -1.92165860 & -1.31080479 & -0.11372442 & -0.21015076 &  0.55843147 &  0.86099716 &  0.53211371 & -2.0571813 & -0.75558565 & -1.85860834 & -0.1159016 &  1.239656118 & -0.49853983 & -1.27052317 & -1.210367972 & -0.66320425 &  0.38933859 & -1.419803622 &  3.89491405 &  0.03303260 &  0.57810243 &  0.11956177 &  2.137982493 & -2.92535598 & -0.34202975 & -1.7690169 & -0.31460219 & -1.25729606 &  0.61027441 &  2.14485268 &  1.048115778 & -2.03672304 &  4.36893348 &  2.44730129 &  1.8369244\\\\\n",
       "\t29 & -5.0408497 & -0.74215308 &  0.5298410 &  1.548710748 &  2.0227804 &  2.069488085 &  1.19329994 &  1.274797310 &  1.40152680 &  0.8291049 &  0.64212515 &  2.26487254 &  0.92558331 &  0.6406475217 &  1.11432529 & -0.23915635 & -0.37834945 & -1.67827065 &  0.12327988 &  0.38864284 &  0.16955053 & -0.19993647 &  2.7541114 &  1.36959260 & -0.34978841 & -2.5556831 &  1.801112350 & -0.98879445 & -1.42759469 & -0.739446958 &  0.43246933 & -0.69261102 &  1.905853383 &  0.58530587 &  0.71572537 &  2.18844714 &  0.91739604 & -1.289352047 & -1.69087685 &  0.47039455 & -2.7299936 &  1.83589559 &  5.00700378 &  0.35808444 & -2.94769469 &  2.563728165 &  1.15985286 &  1.48862285 & -2.62162477 & -0.7992089\\\\\n",
       "\t30 &  1.7500199 & -0.43090810 & -0.4877710 & -4.545161509 & -1.1850999 &  0.078918665 &  1.09260905 & -1.467335726 &  0.33908627 & -0.2432775 & -0.97147361 & -1.21333873 & -2.39768097 & -0.0001188752 &  1.71771982 & -1.72573260 & -2.79266991 & -2.45477346 & -3.02099982 &  0.85354695 & -0.56003392 &  1.54439589 &  1.6557394 &  0.76205209 & -3.53004540 &  2.0261046 & -0.034080391 &  0.15954832 & -0.58781913 &  1.323991929 & -1.03882172 &  0.17760738 &  0.639356172 & -0.66768383 & -0.14090387 &  0.34899050 & -1.18694218 &  0.432369015 & -1.72370838 &  0.45986628 &  0.9644104 &  1.54365110 & -0.13004511 &  1.21865241 & -1.04540607 &  1.511695115 & -0.92768080 &  1.69597379 &  1.35138283 & -2.3737727\\\\\n",
       "\\end{tabular}\n"
      ],
      "text/markdown": [
       "\n",
       "A matrix: 30 × 50 of type dbl\n",
       "\n",
       "| <!--/--> | PC1 | PC10 | PC11 | PC12 | PC13 | PC14 | PC15 | PC16 | PC17 | PC18 | PC19 | PC2 | PC20 | PC21 | PC22 | PC23 | PC24 | PC25 | PC26 | PC27 | PC28 | PC29 | PC3 | PC30 | PC31 | PC32 | PC33 | PC34 | PC35 | PC36 | PC37 | PC38 | PC39 | PC4 | PC40 | PC41 | PC42 | PC43 | PC44 | PC45 | PC46 | PC47 | PC48 | PC49 | PC5 | PC50 | PC6 | PC7 | PC8 | PC9 |\n",
       "|---|---|---|---|---|---|---|---|---|---|---|---|---|---|---|---|---|---|---|---|---|---|---|---|---|---|---|---|---|---|---|---|---|---|---|---|---|---|---|---|---|---|---|---|---|---|---|---|---|---|---|\n",
       "| 1 | -0.5257945 |  1.06471547 | -4.6294452 | -5.879981934 | -2.9649885 | -1.013949014 |  0.12017020 | -1.322647693 |  1.19322808 |  1.4797748 | -0.65212851 | -2.51305923 | -4.96202282 |  0.0304791903 |  0.12638107 | -2.62339981 | -4.70808332 |  0.90938716 | -2.22390670 | -0.28974354 | -0.38281303 |  0.21520915 |  4.7335282 |  0.17112784 | -0.48338473 |  3.7766557 | -0.631313265 | -1.18641638 | -0.90691472 | -0.072265199 | -0.99474803 |  1.13693217 | -0.007931919 | -1.59437328 | -1.18057959 | -1.56555966 | -0.15924607 | -0.684011192 | -1.65539436 |  0.42083219 | -0.7556776 |  1.17851100 | -0.31675217 |  1.19715563 | -5.05783611 |  0.053265567 | -2.67812714 |  0.51403398 |  1.66398262 | -4.9525741 |\n",
       "| 2 |  3.6797615 | -1.50165235 | -0.1274510 | -2.625919754 | -0.2608930 |  0.191994643 |  0.90304936 |  1.980178570 | -0.88665767 | -0.2326876 |  0.22115104 | -0.01406686 |  2.10038402 | -2.1996389470 | -0.69020342 | -0.26574121 |  1.03600165 | -0.06563713 |  0.02099496 | -0.27481986 |  0.97685660 | -0.36848004 |  2.1021413 |  1.27457495 |  0.53529075 | -0.7976193 | -0.856136210 | -0.40757413 | -0.48332681 | -0.327805890 | -0.97846873 | -1.85233835 |  0.580540273 | -0.60721335 | -0.33360993 |  1.45391014 |  0.81703289 |  0.178970010 | -1.20106807 | -0.99544752 | -0.1592643 |  1.01724026 |  0.10716480 | -0.13688030 |  1.85441671 |  0.027746678 | -0.30627988 | -0.16984891 |  0.37809306 | -0.7301437 |\n",
       "| 3 | -1.2473337 |  0.07322357 | -3.6410022 | -3.235769076 | -1.9087365 | -0.418670576 | -1.45559242 | -1.627088154 |  2.09070933 |  0.4298780 |  1.39326598 | -1.26043581 | -2.70378275 | -0.6654321526 | -0.61829170 |  1.25557840 |  4.28094416 | -0.30255975 | -0.34382918 | -1.12601152 | -1.84668019 | -4.91093803 |  2.7990754 |  1.76094088 | -3.01502000 |  0.1322287 |  0.598729885 |  0.75208290 | -0.73010702 | -1.718445264 |  0.85177720 |  0.74594595 |  2.863917683 | -1.40697379 |  3.67737268 |  0.39655918 | -0.33433858 |  0.773080065 | -0.91146532 | -1.14178160 |  1.2182073 | -1.76953824 | -0.84617542 | -2.93430331 | -0.26509328 | -2.322034557 | -0.42709075 |  0.55970392 |  2.86662040 | -2.5953221 |\n",
       "| 4 | -3.8610960 | -2.19942955 | -1.5519287 |  0.643008709 | -1.2349829 | -1.766971279 |  0.50536007 |  0.603665435 |  1.86596342 |  0.5221076 |  2.22541835 | -2.17526303 | -0.01359822 | -1.2059897872 |  2.29929736 | -1.05808938 |  0.47263209 | -2.17858546 |  0.50438511 | -0.91890985 |  1.45777748 | -0.89107055 | -2.2668598 | -0.55920856 |  2.25695287 |  0.4355687 | -0.914670851 |  2.69530161 | -1.49465779 | -0.815255767 | -0.29676690 |  1.74977996 | -0.128882440 | -7.88428691 |  1.03377716 | -1.14438210 | -2.89388809 |  0.391741763 | -1.12700547 | -0.95098206 | -2.9446051 | -2.83688102 | -0.41758465 | -0.79146345 | -0.68473841 | -0.282102214 | -2.99828423 | -2.23882199 | -0.11702894 | -0.7438652 |\n",
       "| 5 |  3.1882956 | -0.44558986 |  0.4015659 |  0.004343887 |  2.7723814 | -0.513782237 | -1.95689465 | -0.828544328 | -0.90532568 |  3.4946852 |  0.40564491 |  0.38966882 | -0.49006666 | -0.5760246551 |  2.32704709 | -0.96043739 |  0.45145981 |  1.63489344 | -0.04182869 | -1.21908734 | -0.84801734 |  0.59557639 | -0.9081166 | -0.86974685 |  0.74132715 | -0.3726409 | -0.136050916 | -0.42002397 |  0.89018414 |  1.003611465 |  0.19973602 | -0.09930250 |  1.310281887 | -2.92509537 | -2.04535334 |  1.55654903 |  1.54447435 |  0.015850480 | -1.87085535 |  2.65115026 |  0.2180391 | -0.40125588 |  1.02967364 | -2.29885827 | -1.83575409 | -1.251919131 |  0.63819142 |  0.49248401 | -1.53519300 |  1.0734899 |\n",
       "| 6 |  3.7654805 | -0.76219538 | -0.1208134 | -2.261704782 | -0.4259040 |  0.622221801 |  1.30879541 |  1.557304320 | -0.37668600 |  0.1138156 |  0.06633436 |  0.07347764 |  1.93543746 | -2.1704921479 | -0.24958918 | -0.15737286 |  0.81019497 |  0.45145871 | -0.02591290 | -0.16060574 |  0.93284442 | -0.54648838 |  1.7772866 |  0.84596321 |  1.68909924 | -0.9388022 | -0.350849918 | -0.57493491 |  0.20144978 | -0.115522090 | -1.52429441 | -1.99937651 |  0.784739303 | -0.61825515 | -0.39410593 |  0.91801383 |  0.84643226 |  0.624606374 | -1.37911915 | -0.68831401 | -0.4297368 |  1.32578618 |  0.17343285 |  0.19382427 |  1.66529571 |  0.229581733 | -0.10703755 |  0.14605844 |  0.21485866 | -0.6281183 |\n",
       "| 7 | -1.8932313 |  1.32153261 | -1.6097497 | -0.674878342 | -0.5342553 | -0.159604483 |  1.77411505 |  0.048479922 | -0.33494867 | -0.8408693 |  1.77486454 |  0.47151024 |  0.91357218 |  0.5438638834 |  1.48303767 |  0.81820679 | -1.32512309 | -0.11999110 |  1.48263886 |  0.63221988 |  1.09907491 |  0.71352462 | -2.7135744 | -0.11124626 | -1.44794988 |  1.2202144 |  0.812707964 | -0.76245545 |  0.88453545 |  1.334346425 | -0.63993649 |  0.17530501 | -0.301532107 |  0.74278277 |  1.59245605 |  1.50462991 | -0.07054134 | -0.433228782 | -0.44540039 | -0.66894698 | -1.4012987 |  0.17036496 |  2.23036487 |  2.14086878 | -0.13960279 |  1.034126492 |  2.47108658 | -0.32475143 |  0.37763136 | -0.4893168 |\n",
       "| 8 | -1.6743905 | -0.82893901 |  1.7873979 | -1.600045407 |  1.6109195 |  2.692331633 | -1.57554037 | -2.851629154 | -1.85112633 | -0.9196504 | -1.30833473 | -4.47850745 |  0.26225079 |  2.4320604860 | -3.92933751 | -0.71648184 | -0.45055230 |  1.81128553 |  0.08900280 |  0.58542588 |  0.80528244 | -0.52089550 | -3.4432013 |  1.83200354 | -2.01345456 | -0.4892589 |  0.006886495 |  1.38897201 | -0.90743748 | -2.712316114 | -1.46899438 | -2.91425112 |  1.333572642 | -3.66587540 | -0.29840067 |  0.63605162 |  0.86310351 |  0.120013458 | -0.13757495 | -0.01975629 | -1.8642872 |  2.08971980 | -0.21671829 |  1.42736261 |  0.03440970 | -0.652192394 | -0.63978050 |  1.15580048 | -0.68236266 |  0.5266755 |\n",
       "| 9 |  0.5826252 | -1.34723541 |  2.1381110 | -0.465972378 | -0.2561637 | -0.654473768 |  0.39431580 |  0.202584374 | -0.55571896 | -0.9746703 | -0.40708981 | -2.61515024 |  0.47947986 |  0.8852175345 | -2.26089037 | -0.14152115 | -0.37770635 |  1.45621594 | -0.79635659 |  1.72480916 | -0.26900774 |  0.76906074 | -3.4774712 |  3.27281515 | -0.98902135 | -0.9968284 |  0.758694756 | -1.72272614 | -1.26164049 |  1.107525902 |  2.63766662 |  0.67369119 |  1.332482011 | -6.11673242 |  0.98619312 |  0.93748401 |  0.43321251 | -0.116431923 |  0.06523181 | -0.85962200 |  0.1498454 |  0.16096874 | -1.27941571 | -2.24062266 |  0.05167626 | -0.394597166 | -1.77621616 |  0.85752334 | -2.87942624 | -0.2538725 |\n",
       "| 10 |  4.8567407 | -0.07122440 |  0.8894424 |  1.679740918 |  1.0822725 | -0.449402084 | -0.25730283 | -1.003741501 |  2.81688520 | -0.3981956 |  2.26207497 | -0.32171377 | -1.00813474 |  0.2264523954 |  2.24458594 | -0.86114293 | -0.82372762 |  2.53940928 | -0.19619848 | -0.89715936 |  0.34585599 |  0.16185081 |  2.7178012 | -0.22461750 | -0.52254907 |  0.1467630 |  0.695134745 | -1.18969810 |  0.54662239 |  0.009276401 |  0.42540184 | -0.01576382 |  0.616517221 | -0.66294605 | -1.88237567 | -0.26881839 |  1.50212223 | -1.162904455 | -0.87533976 |  0.65627244 | -1.1763400 | -0.60468569 | -0.82381191 | -0.74570160 |  0.58385794 | -0.994281582 |  1.10016117 | -0.63174249 | -2.34036797 |  1.3979264 |\n",
       "| 11 |  4.6474679 | -0.10365820 |  0.9817481 |  1.245683614 |  1.0757742 |  0.388805774 |  0.21704037 | -0.951469101 |  3.21808698 | -0.2145598 |  2.01106669 | -1.34611526 | -0.04270788 |  0.0007480721 |  2.55279090 | -1.11490750 | -0.75383246 |  3.00422234 | -0.84101192 | -1.27111769 |  1.14484428 |  0.05561192 |  2.9080359 | -0.15450742 | -0.81579342 | -0.1108904 | -0.060826119 | -1.76825096 | -0.28009727 |  0.680398738 | -0.27924359 | -0.21949716 |  0.041247100 | -0.72471483 |  1.56160933 | -0.58236060 | -0.67425980 | -0.648070689 | -1.40175275 |  0.49034054 | -1.2210765 | -0.39338709 | -1.55374792 | -1.40305474 |  0.84168743 |  0.928269529 |  1.08226614 | -0.17542572 | -2.51271432 |  1.3956121 |\n",
       "| 12 | -0.5404158 | -0.52511710 | -2.4675570 | -2.632283089 | -1.3258666 |  0.895669031 |  0.04965394 | -1.982412768 |  1.50079055 |  1.0900163 | -1.24809782 | -1.75994827 | -1.74813373 | -0.8595664850 |  0.80172670 | -1.68026985 | -1.77766872 | -1.45360958 | -3.39030059 |  0.51504419 | -1.45825258 |  1.55789280 |  2.4143592 | -0.05014637 | -1.66099131 |  3.0208996 | -1.258755302 |  0.15794264 | -1.15491551 | -0.239863636 | -0.99492181 |  1.31162564 |  0.124670254 | -1.93607662 | -0.91025042 | -1.36636400 | -2.54449646 |  2.060282888 | -0.34411876 | -0.16993511 | -0.8775017 |  1.19010605 | -0.63673763 |  1.60844346 |  0.41798140 |  0.033565498 | -1.98550410 | -1.71778381 |  2.19475713 | -1.3898735 |\n",
       "| 13 | -2.0849082 | -0.42402214 | -1.5452477 |  0.338418591 | -0.7244594 | -0.823258461 | -0.52356800 | -2.591454677 | -2.04801613 | -0.7963224 |  2.38310831 | -3.63346632 |  2.31923275 | -2.2257494120 |  0.68485631 | -0.43573781 | -1.01499460 |  0.17564988 |  1.28190428 |  0.76067221 | -1.68882558 |  0.66898305 |  0.7905284 |  1.28303711 | -0.45928952 | -1.2887668 |  0.138659219 | -0.56929258 | -3.04180914 |  2.550415513 | -0.51658416 |  0.20789743 |  0.176436933 |  0.96045471 | -1.04883841 | -1.43063395 |  1.59592902 |  1.457552336 |  0.83371987 |  1.40165709 | -0.5140617 | -2.91311490 | -1.35807628 | -0.82521717 |  0.45140542 |  0.882788382 | -1.33799705 |  5.05296085 |  2.47560945 |  1.9599802 |\n",
       "| 14 | -2.5095883 |  3.27287798 |  1.0957666 |  0.947795685 |  0.6965707 |  0.581448514 | -3.71274614 |  1.056034101 |  1.86258810 |  0.2853842 |  1.86790881 | -2.19352036 |  1.25002639 | -2.0489399995 | -1.76689702 |  1.32213318 | -2.37632226 | -0.60632082 | -0.63572465 | -2.26265303 |  0.71524477 |  0.04079346 | -1.5077179 | -0.42729334 |  0.36723339 | -1.1818812 |  0.248353562 | -0.11512140 | -1.81793437 |  3.026106811 | -0.41034035 |  0.54711563 |  0.412085765 |  1.84240308 | -0.56132884 | -0.33765833 |  0.38545165 |  0.689519231 | -0.52597726 |  0.99458071 | -1.6122634 |  0.30826664 | -0.45413665 |  0.95636657 |  1.09970043 |  1.177658683 | -2.17943596 |  3.02492580 |  0.37764440 |  0.6320426 |\n",
       "| 15 |  3.4350691 |  1.05764806 | -1.7166734 |  1.146759334 | -0.3195388 |  0.454816610 |  0.76824854 | -0.674111512 | -0.38117590 | -0.2726422 |  0.83321475 |  1.97206222 |  0.18908265 |  0.0848161550 |  0.31497812 |  0.85425655 | -0.90608685 |  0.13077944 |  0.50137677 |  0.87291245 |  0.89646194 | -0.24474474 | -2.9463914 |  1.32663683 |  0.02592505 |  1.0873563 | -0.522459614 | -0.46327124 | -0.25530326 |  0.793790220 | -0.87664727 | -0.01859731 | -0.157159634 |  0.24805860 |  1.00741807 |  1.42667467 |  0.56827787 |  0.005967887 | -0.43317595 | -0.36001934 | -1.1880999 | -0.10470098 |  0.74151503 | -1.62886647 | -0.99811938 | -0.601542683 |  0.28988011 |  0.01598736 | -0.08610804 | -0.8737517 |\n",
       "| 16 |  1.5425660 | -0.56736618 |  0.5952613 | -1.604812654 |  2.2974136 | -0.002250981 | -2.77631213 | -0.676257266 | -1.26938565 |  4.5527638 |  0.23115048 |  0.04655218 |  1.68768521 | -0.5150069317 |  1.47036059 | -0.89759387 |  0.46474421 |  0.49536258 |  0.60433549 | -1.52619142 | -1.40677847 |  0.83030492 | -2.4682924 |  0.07145449 |  0.63226557 |  0.6726482 |  0.951174897 |  0.38607764 |  0.41356183 |  0.832149742 | -0.22685103 | -0.39414346 |  0.140495720 | -2.93396773 |  2.42879947 |  0.01594773 |  0.06263822 |  2.087745572 | -0.86626100 | -0.26032949 |  0.8203151 | -0.48911003 |  2.08913959 |  0.67284381 | -2.31161674 | -0.006202612 |  0.82432638 |  1.09238743 |  0.56079246 |  0.6680789 |\n",
       "| 17 | -3.1334573 |  0.14484716 |  1.7493953 |  0.046892176 | -2.4497715 | -0.935641819 |  2.72932234 |  0.419462017 |  0.70418577 |  0.4911018 |  1.95540028 |  0.56834272 | -0.05067478 | -1.6806518313 |  0.66112002 |  0.73280559 |  0.26564484 |  1.29984673 | -1.15632902 |  0.34259774 | -0.10540510 |  0.27013188 | -1.3981142 |  2.30390479 | -1.08703631 |  1.5013004 | -1.599079889 |  2.29958617 |  2.49377287 |  0.619503102 |  0.89017924 | -1.64700633 |  0.039879550 |  2.18655913 | -0.87058106 |  0.00109876 |  0.34548836 |  0.957499354 |  0.44679668 |  1.88259916 | -0.8644121 | -0.01908389 |  2.96436279 |  0.64230315 | -0.86188402 | -1.667384836 |  0.65868358 | -0.75096715 | -1.16897917 | -0.6988599 |\n",
       "| 18 |  3.8187290 | -0.43028229 | -0.2122447 | -0.862939799 | -0.4175045 |  1.667580315 |  1.47001366 |  0.329570503 | -0.51823338 |  2.4723605 |  3.26467133 |  0.49508016 | -0.10619737 |  2.0603688520 | -1.01301643 |  1.02271537 | -1.04813124 |  0.34423094 | -0.88355411 |  1.02136004 | -1.37704133 |  0.05787341 |  0.4977762 | -0.39581043 |  2.35509592 | -0.7389129 |  1.044204578 |  0.48011322 |  0.38436193 |  0.503108374 | -1.08635758 |  1.74385860 |  0.591376126 |  0.72960443 | -0.47375064 | -0.08171993 |  0.69370071 |  0.244528825 | -0.13931988 |  0.75720525 | -0.9800807 |  0.95569687 | -0.49152157 | -0.43589003 |  1.85244906 | -0.300405898 |  0.19821477 | -1.46090791 | -0.09334846 |  0.2330481 |\n",
       "| 19 |  0.2273345 | -0.96079512 | -0.8642664 | -1.239121599 | -1.1422181 | -0.948847192 |  1.93990226 |  1.821497652 | -2.26983356 |  0.1798309 |  1.09157031 | -0.49723690 | -1.83356584 |  2.2698464647 | -2.07967615 | -0.86060017 | -3.30691667 |  3.76946348 |  1.56648715 | -0.59592555 |  2.75176345 | -0.24850509 |  5.0092646 | -1.69819051 |  0.79652169 |  1.5802724 | -0.410166206 |  1.35279567 | -2.01674119 |  1.117777063 |  0.50037932 |  0.63351150 | -0.168584661 | -0.64841814 | -0.31302668 | -0.47677201 | -0.84437909 |  0.898946201 | -0.77462129 |  0.67299152 | -0.6091504 | -0.42808621 |  0.43698284 |  0.02435737 | -7.91116027 | -0.586690667 | -3.48541895 |  2.30577238 | -0.09494672 | -2.1417434 |\n",
       "| 20 | -1.1229766 | -1.07365762 |  1.6584601 | -1.881268810 |  1.6442869 |  2.502590618 | -1.04572532 | -2.834864206 | -1.64270143 | -0.7654139 | -1.60117080 | -4.06688788 |  0.18659239 |  2.1873900130 | -3.58965307 | -0.54724053 | -0.47298825 |  2.09233270 |  0.13654978 |  0.54456971 |  0.89060190 | -0.32571460 | -3.4873964 |  1.64775686 | -1.97957848 | -0.3936655 |  0.225900868 |  1.33560169 | -0.90079902 | -2.675199700 | -1.35848236 | -2.70949411 |  1.670264460 | -3.43133300 | -0.24590329 |  0.87988736 |  0.01242443 | -0.905807786 | -0.04342730 | -0.20532350 | -2.1218296 |  2.21980736 | -0.28118018 |  1.15804521 | -0.19074402 | -0.763533964 | -0.71712774 |  0.61854975 | -0.95559755 |  0.4098365 |\n",
       "| 21 | -0.8008472 |  2.49123804 | -4.3069752 | -2.580371447 | 19.8416992 | -1.818541322 | 12.66324206 |  0.083420986 |  5.61252135 | -2.6668535 | -1.85737457 | -7.81491646 | -2.40888462 | -3.3934309778 | -5.04776407 |  3.05463436 | -2.11447623 | -2.27188614 |  2.56518086 | -1.49347942 | -3.13809176 |  1.60115933 | -0.3540877 |  2.78825995 |  4.26819807 |  1.1502275 | -2.155777141 | -0.06281178 |  1.83036845 | -0.014323792 |  0.81741032 |  0.31945932 |  2.662663818 |  3.36971068 |  1.06788405 |  0.27329661 |  1.97135923 |  0.908785391 |  0.48996035 |  0.69484027 |  1.1342932 | -0.03819314 | -0.34986419 |  1.03017855 | -3.17615842 | -3.380010039 | -1.15230789 | -1.06490637 |  2.07494825 |  2.4574213 |\n",
       "| 22 |  2.9922525 |  0.40331012 | -1.8532753 |  0.234273445 | -0.5295028 |  0.266677987 |  0.95902416 | -0.304425632 | -0.39962447 | -0.6308217 |  1.28064258 |  1.88655184 |  0.72678782 | -0.1443399202 | -0.40768678 | -0.22078682 | -0.27625653 | -0.68959612 |  0.17070493 |  0.13901490 |  0.56889698 |  0.09078144 | -2.5676866 |  1.80106898 | -1.24455880 |  0.4805115 | -0.377344788 |  0.10415024 | -1.45806759 | -0.327430346 |  0.49276962 |  0.30623831 |  1.009531610 |  0.23229604 |  0.06252132 |  1.33193493 |  0.66356972 |  0.294522216 | -0.48076240 |  0.43145672 | -0.4812890 |  0.44138123 | -0.05283438 | -0.41742464 | -0.72677814 | -0.029164479 | -0.38273065 | -0.24907556 |  0.07953361 | -1.2987064 |\n",
       "| 23 | -2.0517599 | -0.38792485 | -0.7612489 |  3.461071363 | -1.4156259 |  1.201298374 |  0.78423948 |  0.504905906 |  0.00366605 |  0.6930717 |  0.54911312 | -0.20020398 | -1.79314294 | -0.7774508798 | -0.56929962 | -0.15298069 |  1.08934203 | -0.53807644 | -0.55115656 | -0.08088238 |  0.11122302 | -0.56898892 |  2.3477678 | -0.97968279 |  0.41118918 |  2.5270804 |  1.078390664 |  0.04103956 |  0.69181948 |  1.842635235 |  1.07501358 | -1.24943262 |  0.191774779 | -4.04385079 |  0.74041895 | -0.15103961 |  1.13422157 |  0.295398624 | -1.00153823 |  0.05941833 |  0.4652482 |  0.65215911 | -0.68105772 |  0.66631006 | -2.09167650 | -0.042397788 |  0.06907770 | -2.02496229 |  6.19114675 |  2.0296936 |\n",
       "| 24 | -1.1767844 | -0.38633754 | -4.0483159 | -0.791069910 | -0.1766003 | -0.998081307 | -1.77178312 |  0.917455695 |  0.17459690 | -1.5117797 |  1.57814809 | -3.51814642 | -0.98957635 | -0.0822333825 |  1.32707265 |  3.24385848 |  2.97280493 | -0.52352126 | -0.64418581 | -1.46409368 | -3.14380629 | -3.92319586 |  0.7198852 | -1.55307237 | -3.69502760 | -1.4153557 |  2.205632719 |  1.56358903 | -3.08816666 | -1.238145389 | -1.11598428 | -1.11115492 |  3.244669627 |  0.06870802 |  3.68580535 | -2.47333607 |  0.45485077 |  0.837549534 | -0.45308711 |  0.32645273 | -1.8246975 | -1.54949244 |  0.97233111 | -3.36861405 |  0.66823273 | -2.764331317 |  0.75238351 |  4.65160986 |  2.39475272 | -0.8124173 |\n",
       "| 25 | -4.3659326 | -0.39576326 |  1.3149710 |  1.606704951 |  0.9463605 |  1.827001086 |  0.89431131 |  0.002924701 |  1.44075236 |  1.4699214 | -0.05956663 |  2.47507643 |  1.05088412 |  0.8517599974 |  0.46552025 | -0.26380741 | -0.02062384 | -0.89586411 | -0.30399517 |  0.60277188 |  0.09402262 | -0.12508251 |  2.6619287 |  2.42117384 | -0.45830478 | -2.7618025 | -0.409821655 | -0.02155461 | -0.54054145 |  0.130135490 | -1.97882355 |  0.37854631 |  0.543858991 |  0.75331253 |  0.39811159 |  0.50165022 | -0.78221268 |  1.036359659 | -0.70015312 |  0.03682088 |  0.2399763 |  0.32581220 |  0.22912910 |  0.86091916 | -2.73258160 | -0.847879085 |  0.03310274 |  1.36596234 | -2.52807315 | -0.7837359 |\n",
       "| 26 |  3.5070811 |  1.02190093 | -1.6471046 |  1.301924835 | -0.4087782 |  0.603231213 |  0.87948042 | -0.647916331 | -0.02051878 | -0.4106160 |  1.27540633 |  1.98918494 |  0.39021954 | -0.0325732149 |  0.00710682 | -0.06897642 | -0.44323429 | -0.42597551 |  0.36571732 |  0.38293824 |  0.33631721 | -0.12182175 | -3.0362362 |  1.21171817 |  0.04054188 |  0.5742301 |  0.367627494 | -0.37689992 | -0.62933125 | -0.028639690 |  0.28515021 |  0.45407967 |  0.749569177 |  0.17348089 | -0.87185626 |  0.29610762 |  0.60558440 |  0.528767634 | -0.70258179 |  0.80106505 | -0.4022244 |  0.45595491 |  0.06911825 | -0.34312839 | -1.32031310 | -0.252008679 |  0.41451941 |  0.01669949 | -0.12994211 | -1.0408942 |\n",
       "| 27 |  1.5181517 | -1.62173112 |  0.2905469 | -2.329804803 |  2.5613627 | -0.890947376 | -2.34792000 | -0.802532037 | -1.29751157 |  4.2215853 |  0.16727454 |  0.24862652 |  1.27182286 | -0.7420315209 |  1.39915198 | -0.95347155 |  0.63208631 |  0.67224613 |  0.17966957 | -1.32443370 | -1.63946707 |  1.42538081 | -2.1634544 | -0.25805100 | -0.21768526 | -0.1720673 |  0.981734037 |  1.45539601 | -0.05315184 | -0.932035937 | -0.05987541 | -0.77899114 |  0.911850194 | -2.60049023 |  1.77928498 |  0.47043527 | -1.06769705 |  1.449394175 | -1.03991437 |  0.19014630 | -0.5125945 | -0.08150759 |  1.41018775 |  0.10310525 | -2.07368233 |  0.296846658 | -0.67458170 |  0.23821486 |  0.40069655 |  0.5354099 |\n",
       "| 28 | -2.5785518 | -1.09811784 | -2.7386019 |  2.466965295 |  1.2679477 | -1.408775995 | -2.33429176 |  2.645734605 | -0.63041760 |  0.4200504 |  2.15036658 | -5.58739627 |  1.21800888 |  0.8012763042 |  1.41023062 | -1.92165860 | -1.31080479 | -0.11372442 | -0.21015076 |  0.55843147 |  0.86099716 |  0.53211371 | -2.0571813 | -0.75558565 | -1.85860834 | -0.1159016 |  1.239656118 | -0.49853983 | -1.27052317 | -1.210367972 | -0.66320425 |  0.38933859 | -1.419803622 |  3.89491405 |  0.03303260 |  0.57810243 |  0.11956177 |  2.137982493 | -2.92535598 | -0.34202975 | -1.7690169 | -0.31460219 | -1.25729606 |  0.61027441 |  2.14485268 |  1.048115778 | -2.03672304 |  4.36893348 |  2.44730129 |  1.8369244 |\n",
       "| 29 | -5.0408497 | -0.74215308 |  0.5298410 |  1.548710748 |  2.0227804 |  2.069488085 |  1.19329994 |  1.274797310 |  1.40152680 |  0.8291049 |  0.64212515 |  2.26487254 |  0.92558331 |  0.6406475217 |  1.11432529 | -0.23915635 | -0.37834945 | -1.67827065 |  0.12327988 |  0.38864284 |  0.16955053 | -0.19993647 |  2.7541114 |  1.36959260 | -0.34978841 | -2.5556831 |  1.801112350 | -0.98879445 | -1.42759469 | -0.739446958 |  0.43246933 | -0.69261102 |  1.905853383 |  0.58530587 |  0.71572537 |  2.18844714 |  0.91739604 | -1.289352047 | -1.69087685 |  0.47039455 | -2.7299936 |  1.83589559 |  5.00700378 |  0.35808444 | -2.94769469 |  2.563728165 |  1.15985286 |  1.48862285 | -2.62162477 | -0.7992089 |\n",
       "| 30 |  1.7500199 | -0.43090810 | -0.4877710 | -4.545161509 | -1.1850999 |  0.078918665 |  1.09260905 | -1.467335726 |  0.33908627 | -0.2432775 | -0.97147361 | -1.21333873 | -2.39768097 | -0.0001188752 |  1.71771982 | -1.72573260 | -2.79266991 | -2.45477346 | -3.02099982 |  0.85354695 | -0.56003392 |  1.54439589 |  1.6557394 |  0.76205209 | -3.53004540 |  2.0261046 | -0.034080391 |  0.15954832 | -0.58781913 |  1.323991929 | -1.03882172 |  0.17760738 |  0.639356172 | -0.66768383 | -0.14090387 |  0.34899050 | -1.18694218 |  0.432369015 | -1.72370838 |  0.45986628 |  0.9644104 |  1.54365110 | -0.13004511 |  1.21865241 | -1.04540607 |  1.511695115 | -0.92768080 |  1.69597379 |  1.35138283 | -2.3737727 |\n",
       "\n"
      ],
      "text/plain": [
       "   PC1        PC10        PC11       PC12         PC13       PC14        \n",
       "1  -0.5257945  1.06471547 -4.6294452 -5.879981934 -2.9649885 -1.013949014\n",
       "2   3.6797615 -1.50165235 -0.1274510 -2.625919754 -0.2608930  0.191994643\n",
       "3  -1.2473337  0.07322357 -3.6410022 -3.235769076 -1.9087365 -0.418670576\n",
       "4  -3.8610960 -2.19942955 -1.5519287  0.643008709 -1.2349829 -1.766971279\n",
       "5   3.1882956 -0.44558986  0.4015659  0.004343887  2.7723814 -0.513782237\n",
       "6   3.7654805 -0.76219538 -0.1208134 -2.261704782 -0.4259040  0.622221801\n",
       "7  -1.8932313  1.32153261 -1.6097497 -0.674878342 -0.5342553 -0.159604483\n",
       "8  -1.6743905 -0.82893901  1.7873979 -1.600045407  1.6109195  2.692331633\n",
       "9   0.5826252 -1.34723541  2.1381110 -0.465972378 -0.2561637 -0.654473768\n",
       "10  4.8567407 -0.07122440  0.8894424  1.679740918  1.0822725 -0.449402084\n",
       "11  4.6474679 -0.10365820  0.9817481  1.245683614  1.0757742  0.388805774\n",
       "12 -0.5404158 -0.52511710 -2.4675570 -2.632283089 -1.3258666  0.895669031\n",
       "13 -2.0849082 -0.42402214 -1.5452477  0.338418591 -0.7244594 -0.823258461\n",
       "14 -2.5095883  3.27287798  1.0957666  0.947795685  0.6965707  0.581448514\n",
       "15  3.4350691  1.05764806 -1.7166734  1.146759334 -0.3195388  0.454816610\n",
       "16  1.5425660 -0.56736618  0.5952613 -1.604812654  2.2974136 -0.002250981\n",
       "17 -3.1334573  0.14484716  1.7493953  0.046892176 -2.4497715 -0.935641819\n",
       "18  3.8187290 -0.43028229 -0.2122447 -0.862939799 -0.4175045  1.667580315\n",
       "19  0.2273345 -0.96079512 -0.8642664 -1.239121599 -1.1422181 -0.948847192\n",
       "20 -1.1229766 -1.07365762  1.6584601 -1.881268810  1.6442869  2.502590618\n",
       "21 -0.8008472  2.49123804 -4.3069752 -2.580371447 19.8416992 -1.818541322\n",
       "22  2.9922525  0.40331012 -1.8532753  0.234273445 -0.5295028  0.266677987\n",
       "23 -2.0517599 -0.38792485 -0.7612489  3.461071363 -1.4156259  1.201298374\n",
       "24 -1.1767844 -0.38633754 -4.0483159 -0.791069910 -0.1766003 -0.998081307\n",
       "25 -4.3659326 -0.39576326  1.3149710  1.606704951  0.9463605  1.827001086\n",
       "26  3.5070811  1.02190093 -1.6471046  1.301924835 -0.4087782  0.603231213\n",
       "27  1.5181517 -1.62173112  0.2905469 -2.329804803  2.5613627 -0.890947376\n",
       "28 -2.5785518 -1.09811784 -2.7386019  2.466965295  1.2679477 -1.408775995\n",
       "29 -5.0408497 -0.74215308  0.5298410  1.548710748  2.0227804  2.069488085\n",
       "30  1.7500199 -0.43090810 -0.4877710 -4.545161509 -1.1850999  0.078918665\n",
       "   PC15        PC16         PC17        PC18       PC19        PC2        \n",
       "1   0.12017020 -1.322647693  1.19322808  1.4797748 -0.65212851 -2.51305923\n",
       "2   0.90304936  1.980178570 -0.88665767 -0.2326876  0.22115104 -0.01406686\n",
       "3  -1.45559242 -1.627088154  2.09070933  0.4298780  1.39326598 -1.26043581\n",
       "4   0.50536007  0.603665435  1.86596342  0.5221076  2.22541835 -2.17526303\n",
       "5  -1.95689465 -0.828544328 -0.90532568  3.4946852  0.40564491  0.38966882\n",
       "6   1.30879541  1.557304320 -0.37668600  0.1138156  0.06633436  0.07347764\n",
       "7   1.77411505  0.048479922 -0.33494867 -0.8408693  1.77486454  0.47151024\n",
       "8  -1.57554037 -2.851629154 -1.85112633 -0.9196504 -1.30833473 -4.47850745\n",
       "9   0.39431580  0.202584374 -0.55571896 -0.9746703 -0.40708981 -2.61515024\n",
       "10 -0.25730283 -1.003741501  2.81688520 -0.3981956  2.26207497 -0.32171377\n",
       "11  0.21704037 -0.951469101  3.21808698 -0.2145598  2.01106669 -1.34611526\n",
       "12  0.04965394 -1.982412768  1.50079055  1.0900163 -1.24809782 -1.75994827\n",
       "13 -0.52356800 -2.591454677 -2.04801613 -0.7963224  2.38310831 -3.63346632\n",
       "14 -3.71274614  1.056034101  1.86258810  0.2853842  1.86790881 -2.19352036\n",
       "15  0.76824854 -0.674111512 -0.38117590 -0.2726422  0.83321475  1.97206222\n",
       "16 -2.77631213 -0.676257266 -1.26938565  4.5527638  0.23115048  0.04655218\n",
       "17  2.72932234  0.419462017  0.70418577  0.4911018  1.95540028  0.56834272\n",
       "18  1.47001366  0.329570503 -0.51823338  2.4723605  3.26467133  0.49508016\n",
       "19  1.93990226  1.821497652 -2.26983356  0.1798309  1.09157031 -0.49723690\n",
       "20 -1.04572532 -2.834864206 -1.64270143 -0.7654139 -1.60117080 -4.06688788\n",
       "21 12.66324206  0.083420986  5.61252135 -2.6668535 -1.85737457 -7.81491646\n",
       "22  0.95902416 -0.304425632 -0.39962447 -0.6308217  1.28064258  1.88655184\n",
       "23  0.78423948  0.504905906  0.00366605  0.6930717  0.54911312 -0.20020398\n",
       "24 -1.77178312  0.917455695  0.17459690 -1.5117797  1.57814809 -3.51814642\n",
       "25  0.89431131  0.002924701  1.44075236  1.4699214 -0.05956663  2.47507643\n",
       "26  0.87948042 -0.647916331 -0.02051878 -0.4106160  1.27540633  1.98918494\n",
       "27 -2.34792000 -0.802532037 -1.29751157  4.2215853  0.16727454  0.24862652\n",
       "28 -2.33429176  2.645734605 -0.63041760  0.4200504  2.15036658 -5.58739627\n",
       "29  1.19329994  1.274797310  1.40152680  0.8291049  0.64212515  2.26487254\n",
       "30  1.09260905 -1.467335726  0.33908627 -0.2432775 -0.97147361 -1.21333873\n",
       "   PC20        PC21          PC22        PC23        PC24        PC25       \n",
       "1  -4.96202282  0.0304791903  0.12638107 -2.62339981 -4.70808332  0.90938716\n",
       "2   2.10038402 -2.1996389470 -0.69020342 -0.26574121  1.03600165 -0.06563713\n",
       "3  -2.70378275 -0.6654321526 -0.61829170  1.25557840  4.28094416 -0.30255975\n",
       "4  -0.01359822 -1.2059897872  2.29929736 -1.05808938  0.47263209 -2.17858546\n",
       "5  -0.49006666 -0.5760246551  2.32704709 -0.96043739  0.45145981  1.63489344\n",
       "6   1.93543746 -2.1704921479 -0.24958918 -0.15737286  0.81019497  0.45145871\n",
       "7   0.91357218  0.5438638834  1.48303767  0.81820679 -1.32512309 -0.11999110\n",
       "8   0.26225079  2.4320604860 -3.92933751 -0.71648184 -0.45055230  1.81128553\n",
       "9   0.47947986  0.8852175345 -2.26089037 -0.14152115 -0.37770635  1.45621594\n",
       "10 -1.00813474  0.2264523954  2.24458594 -0.86114293 -0.82372762  2.53940928\n",
       "11 -0.04270788  0.0007480721  2.55279090 -1.11490750 -0.75383246  3.00422234\n",
       "12 -1.74813373 -0.8595664850  0.80172670 -1.68026985 -1.77766872 -1.45360958\n",
       "13  2.31923275 -2.2257494120  0.68485631 -0.43573781 -1.01499460  0.17564988\n",
       "14  1.25002639 -2.0489399995 -1.76689702  1.32213318 -2.37632226 -0.60632082\n",
       "15  0.18908265  0.0848161550  0.31497812  0.85425655 -0.90608685  0.13077944\n",
       "16  1.68768521 -0.5150069317  1.47036059 -0.89759387  0.46474421  0.49536258\n",
       "17 -0.05067478 -1.6806518313  0.66112002  0.73280559  0.26564484  1.29984673\n",
       "18 -0.10619737  2.0603688520 -1.01301643  1.02271537 -1.04813124  0.34423094\n",
       "19 -1.83356584  2.2698464647 -2.07967615 -0.86060017 -3.30691667  3.76946348\n",
       "20  0.18659239  2.1873900130 -3.58965307 -0.54724053 -0.47298825  2.09233270\n",
       "21 -2.40888462 -3.3934309778 -5.04776407  3.05463436 -2.11447623 -2.27188614\n",
       "22  0.72678782 -0.1443399202 -0.40768678 -0.22078682 -0.27625653 -0.68959612\n",
       "23 -1.79314294 -0.7774508798 -0.56929962 -0.15298069  1.08934203 -0.53807644\n",
       "24 -0.98957635 -0.0822333825  1.32707265  3.24385848  2.97280493 -0.52352126\n",
       "25  1.05088412  0.8517599974  0.46552025 -0.26380741 -0.02062384 -0.89586411\n",
       "26  0.39021954 -0.0325732149  0.00710682 -0.06897642 -0.44323429 -0.42597551\n",
       "27  1.27182286 -0.7420315209  1.39915198 -0.95347155  0.63208631  0.67224613\n",
       "28  1.21800888  0.8012763042  1.41023062 -1.92165860 -1.31080479 -0.11372442\n",
       "29  0.92558331  0.6406475217  1.11432529 -0.23915635 -0.37834945 -1.67827065\n",
       "30 -2.39768097 -0.0001188752  1.71771982 -1.72573260 -2.79266991 -2.45477346\n",
       "   PC26        PC27        PC28        PC29        PC3        PC30       \n",
       "1  -2.22390670 -0.28974354 -0.38281303  0.21520915  4.7335282  0.17112784\n",
       "2   0.02099496 -0.27481986  0.97685660 -0.36848004  2.1021413  1.27457495\n",
       "3  -0.34382918 -1.12601152 -1.84668019 -4.91093803  2.7990754  1.76094088\n",
       "4   0.50438511 -0.91890985  1.45777748 -0.89107055 -2.2668598 -0.55920856\n",
       "5  -0.04182869 -1.21908734 -0.84801734  0.59557639 -0.9081166 -0.86974685\n",
       "6  -0.02591290 -0.16060574  0.93284442 -0.54648838  1.7772866  0.84596321\n",
       "7   1.48263886  0.63221988  1.09907491  0.71352462 -2.7135744 -0.11124626\n",
       "8   0.08900280  0.58542588  0.80528244 -0.52089550 -3.4432013  1.83200354\n",
       "9  -0.79635659  1.72480916 -0.26900774  0.76906074 -3.4774712  3.27281515\n",
       "10 -0.19619848 -0.89715936  0.34585599  0.16185081  2.7178012 -0.22461750\n",
       "11 -0.84101192 -1.27111769  1.14484428  0.05561192  2.9080359 -0.15450742\n",
       "12 -3.39030059  0.51504419 -1.45825258  1.55789280  2.4143592 -0.05014637\n",
       "13  1.28190428  0.76067221 -1.68882558  0.66898305  0.7905284  1.28303711\n",
       "14 -0.63572465 -2.26265303  0.71524477  0.04079346 -1.5077179 -0.42729334\n",
       "15  0.50137677  0.87291245  0.89646194 -0.24474474 -2.9463914  1.32663683\n",
       "16  0.60433549 -1.52619142 -1.40677847  0.83030492 -2.4682924  0.07145449\n",
       "17 -1.15632902  0.34259774 -0.10540510  0.27013188 -1.3981142  2.30390479\n",
       "18 -0.88355411  1.02136004 -1.37704133  0.05787341  0.4977762 -0.39581043\n",
       "19  1.56648715 -0.59592555  2.75176345 -0.24850509  5.0092646 -1.69819051\n",
       "20  0.13654978  0.54456971  0.89060190 -0.32571460 -3.4873964  1.64775686\n",
       "21  2.56518086 -1.49347942 -3.13809176  1.60115933 -0.3540877  2.78825995\n",
       "22  0.17070493  0.13901490  0.56889698  0.09078144 -2.5676866  1.80106898\n",
       "23 -0.55115656 -0.08088238  0.11122302 -0.56898892  2.3477678 -0.97968279\n",
       "24 -0.64418581 -1.46409368 -3.14380629 -3.92319586  0.7198852 -1.55307237\n",
       "25 -0.30399517  0.60277188  0.09402262 -0.12508251  2.6619287  2.42117384\n",
       "26  0.36571732  0.38293824  0.33631721 -0.12182175 -3.0362362  1.21171817\n",
       "27  0.17966957 -1.32443370 -1.63946707  1.42538081 -2.1634544 -0.25805100\n",
       "28 -0.21015076  0.55843147  0.86099716  0.53211371 -2.0571813 -0.75558565\n",
       "29  0.12327988  0.38864284  0.16955053 -0.19993647  2.7541114  1.36959260\n",
       "30 -3.02099982  0.85354695 -0.56003392  1.54439589  1.6557394  0.76205209\n",
       "   PC31        PC32       PC33         PC34        PC35        PC36        \n",
       "1  -0.48338473  3.7766557 -0.631313265 -1.18641638 -0.90691472 -0.072265199\n",
       "2   0.53529075 -0.7976193 -0.856136210 -0.40757413 -0.48332681 -0.327805890\n",
       "3  -3.01502000  0.1322287  0.598729885  0.75208290 -0.73010702 -1.718445264\n",
       "4   2.25695287  0.4355687 -0.914670851  2.69530161 -1.49465779 -0.815255767\n",
       "5   0.74132715 -0.3726409 -0.136050916 -0.42002397  0.89018414  1.003611465\n",
       "6   1.68909924 -0.9388022 -0.350849918 -0.57493491  0.20144978 -0.115522090\n",
       "7  -1.44794988  1.2202144  0.812707964 -0.76245545  0.88453545  1.334346425\n",
       "8  -2.01345456 -0.4892589  0.006886495  1.38897201 -0.90743748 -2.712316114\n",
       "9  -0.98902135 -0.9968284  0.758694756 -1.72272614 -1.26164049  1.107525902\n",
       "10 -0.52254907  0.1467630  0.695134745 -1.18969810  0.54662239  0.009276401\n",
       "11 -0.81579342 -0.1108904 -0.060826119 -1.76825096 -0.28009727  0.680398738\n",
       "12 -1.66099131  3.0208996 -1.258755302  0.15794264 -1.15491551 -0.239863636\n",
       "13 -0.45928952 -1.2887668  0.138659219 -0.56929258 -3.04180914  2.550415513\n",
       "14  0.36723339 -1.1818812  0.248353562 -0.11512140 -1.81793437  3.026106811\n",
       "15  0.02592505  1.0873563 -0.522459614 -0.46327124 -0.25530326  0.793790220\n",
       "16  0.63226557  0.6726482  0.951174897  0.38607764  0.41356183  0.832149742\n",
       "17 -1.08703631  1.5013004 -1.599079889  2.29958617  2.49377287  0.619503102\n",
       "18  2.35509592 -0.7389129  1.044204578  0.48011322  0.38436193  0.503108374\n",
       "19  0.79652169  1.5802724 -0.410166206  1.35279567 -2.01674119  1.117777063\n",
       "20 -1.97957848 -0.3936655  0.225900868  1.33560169 -0.90079902 -2.675199700\n",
       "21  4.26819807  1.1502275 -2.155777141 -0.06281178  1.83036845 -0.014323792\n",
       "22 -1.24455880  0.4805115 -0.377344788  0.10415024 -1.45806759 -0.327430346\n",
       "23  0.41118918  2.5270804  1.078390664  0.04103956  0.69181948  1.842635235\n",
       "24 -3.69502760 -1.4153557  2.205632719  1.56358903 -3.08816666 -1.238145389\n",
       "25 -0.45830478 -2.7618025 -0.409821655 -0.02155461 -0.54054145  0.130135490\n",
       "26  0.04054188  0.5742301  0.367627494 -0.37689992 -0.62933125 -0.028639690\n",
       "27 -0.21768526 -0.1720673  0.981734037  1.45539601 -0.05315184 -0.932035937\n",
       "28 -1.85860834 -0.1159016  1.239656118 -0.49853983 -1.27052317 -1.210367972\n",
       "29 -0.34978841 -2.5556831  1.801112350 -0.98879445 -1.42759469 -0.739446958\n",
       "30 -3.53004540  2.0261046 -0.034080391  0.15954832 -0.58781913  1.323991929\n",
       "   PC37        PC38        PC39         PC4         PC40        PC41       \n",
       "1  -0.99474803  1.13693217 -0.007931919 -1.59437328 -1.18057959 -1.56555966\n",
       "2  -0.97846873 -1.85233835  0.580540273 -0.60721335 -0.33360993  1.45391014\n",
       "3   0.85177720  0.74594595  2.863917683 -1.40697379  3.67737268  0.39655918\n",
       "4  -0.29676690  1.74977996 -0.128882440 -7.88428691  1.03377716 -1.14438210\n",
       "5   0.19973602 -0.09930250  1.310281887 -2.92509537 -2.04535334  1.55654903\n",
       "6  -1.52429441 -1.99937651  0.784739303 -0.61825515 -0.39410593  0.91801383\n",
       "7  -0.63993649  0.17530501 -0.301532107  0.74278277  1.59245605  1.50462991\n",
       "8  -1.46899438 -2.91425112  1.333572642 -3.66587540 -0.29840067  0.63605162\n",
       "9   2.63766662  0.67369119  1.332482011 -6.11673242  0.98619312  0.93748401\n",
       "10  0.42540184 -0.01576382  0.616517221 -0.66294605 -1.88237567 -0.26881839\n",
       "11 -0.27924359 -0.21949716  0.041247100 -0.72471483  1.56160933 -0.58236060\n",
       "12 -0.99492181  1.31162564  0.124670254 -1.93607662 -0.91025042 -1.36636400\n",
       "13 -0.51658416  0.20789743  0.176436933  0.96045471 -1.04883841 -1.43063395\n",
       "14 -0.41034035  0.54711563  0.412085765  1.84240308 -0.56132884 -0.33765833\n",
       "15 -0.87664727 -0.01859731 -0.157159634  0.24805860  1.00741807  1.42667467\n",
       "16 -0.22685103 -0.39414346  0.140495720 -2.93396773  2.42879947  0.01594773\n",
       "17  0.89017924 -1.64700633  0.039879550  2.18655913 -0.87058106  0.00109876\n",
       "18 -1.08635758  1.74385860  0.591376126  0.72960443 -0.47375064 -0.08171993\n",
       "19  0.50037932  0.63351150 -0.168584661 -0.64841814 -0.31302668 -0.47677201\n",
       "20 -1.35848236 -2.70949411  1.670264460 -3.43133300 -0.24590329  0.87988736\n",
       "21  0.81741032  0.31945932  2.662663818  3.36971068  1.06788405  0.27329661\n",
       "22  0.49276962  0.30623831  1.009531610  0.23229604  0.06252132  1.33193493\n",
       "23  1.07501358 -1.24943262  0.191774779 -4.04385079  0.74041895 -0.15103961\n",
       "24 -1.11598428 -1.11115492  3.244669627  0.06870802  3.68580535 -2.47333607\n",
       "25 -1.97882355  0.37854631  0.543858991  0.75331253  0.39811159  0.50165022\n",
       "26  0.28515021  0.45407967  0.749569177  0.17348089 -0.87185626  0.29610762\n",
       "27 -0.05987541 -0.77899114  0.911850194 -2.60049023  1.77928498  0.47043527\n",
       "28 -0.66320425  0.38933859 -1.419803622  3.89491405  0.03303260  0.57810243\n",
       "29  0.43246933 -0.69261102  1.905853383  0.58530587  0.71572537  2.18844714\n",
       "30 -1.03882172  0.17760738  0.639356172 -0.66768383 -0.14090387  0.34899050\n",
       "   PC42        PC43         PC44        PC45        PC46       PC47       \n",
       "1  -0.15924607 -0.684011192 -1.65539436  0.42083219 -0.7556776  1.17851100\n",
       "2   0.81703289  0.178970010 -1.20106807 -0.99544752 -0.1592643  1.01724026\n",
       "3  -0.33433858  0.773080065 -0.91146532 -1.14178160  1.2182073 -1.76953824\n",
       "4  -2.89388809  0.391741763 -1.12700547 -0.95098206 -2.9446051 -2.83688102\n",
       "5   1.54447435  0.015850480 -1.87085535  2.65115026  0.2180391 -0.40125588\n",
       "6   0.84643226  0.624606374 -1.37911915 -0.68831401 -0.4297368  1.32578618\n",
       "7  -0.07054134 -0.433228782 -0.44540039 -0.66894698 -1.4012987  0.17036496\n",
       "8   0.86310351  0.120013458 -0.13757495 -0.01975629 -1.8642872  2.08971980\n",
       "9   0.43321251 -0.116431923  0.06523181 -0.85962200  0.1498454  0.16096874\n",
       "10  1.50212223 -1.162904455 -0.87533976  0.65627244 -1.1763400 -0.60468569\n",
       "11 -0.67425980 -0.648070689 -1.40175275  0.49034054 -1.2210765 -0.39338709\n",
       "12 -2.54449646  2.060282888 -0.34411876 -0.16993511 -0.8775017  1.19010605\n",
       "13  1.59592902  1.457552336  0.83371987  1.40165709 -0.5140617 -2.91311490\n",
       "14  0.38545165  0.689519231 -0.52597726  0.99458071 -1.6122634  0.30826664\n",
       "15  0.56827787  0.005967887 -0.43317595 -0.36001934 -1.1880999 -0.10470098\n",
       "16  0.06263822  2.087745572 -0.86626100 -0.26032949  0.8203151 -0.48911003\n",
       "17  0.34548836  0.957499354  0.44679668  1.88259916 -0.8644121 -0.01908389\n",
       "18  0.69370071  0.244528825 -0.13931988  0.75720525 -0.9800807  0.95569687\n",
       "19 -0.84437909  0.898946201 -0.77462129  0.67299152 -0.6091504 -0.42808621\n",
       "20  0.01242443 -0.905807786 -0.04342730 -0.20532350 -2.1218296  2.21980736\n",
       "21  1.97135923  0.908785391  0.48996035  0.69484027  1.1342932 -0.03819314\n",
       "22  0.66356972  0.294522216 -0.48076240  0.43145672 -0.4812890  0.44138123\n",
       "23  1.13422157  0.295398624 -1.00153823  0.05941833  0.4652482  0.65215911\n",
       "24  0.45485077  0.837549534 -0.45308711  0.32645273 -1.8246975 -1.54949244\n",
       "25 -0.78221268  1.036359659 -0.70015312  0.03682088  0.2399763  0.32581220\n",
       "26  0.60558440  0.528767634 -0.70258179  0.80106505 -0.4022244  0.45595491\n",
       "27 -1.06769705  1.449394175 -1.03991437  0.19014630 -0.5125945 -0.08150759\n",
       "28  0.11956177  2.137982493 -2.92535598 -0.34202975 -1.7690169 -0.31460219\n",
       "29  0.91739604 -1.289352047 -1.69087685  0.47039455 -2.7299936  1.83589559\n",
       "30 -1.18694218  0.432369015 -1.72370838  0.45986628  0.9644104  1.54365110\n",
       "   PC48        PC49        PC5         PC50         PC6         PC7        \n",
       "1  -0.31675217  1.19715563 -5.05783611  0.053265567 -2.67812714  0.51403398\n",
       "2   0.10716480 -0.13688030  1.85441671  0.027746678 -0.30627988 -0.16984891\n",
       "3  -0.84617542 -2.93430331 -0.26509328 -2.322034557 -0.42709075  0.55970392\n",
       "4  -0.41758465 -0.79146345 -0.68473841 -0.282102214 -2.99828423 -2.23882199\n",
       "5   1.02967364 -2.29885827 -1.83575409 -1.251919131  0.63819142  0.49248401\n",
       "6   0.17343285  0.19382427  1.66529571  0.229581733 -0.10703755  0.14605844\n",
       "7   2.23036487  2.14086878 -0.13960279  1.034126492  2.47108658 -0.32475143\n",
       "8  -0.21671829  1.42736261  0.03440970 -0.652192394 -0.63978050  1.15580048\n",
       "9  -1.27941571 -2.24062266  0.05167626 -0.394597166 -1.77621616  0.85752334\n",
       "10 -0.82381191 -0.74570160  0.58385794 -0.994281582  1.10016117 -0.63174249\n",
       "11 -1.55374792 -1.40305474  0.84168743  0.928269529  1.08226614 -0.17542572\n",
       "12 -0.63673763  1.60844346  0.41798140  0.033565498 -1.98550410 -1.71778381\n",
       "13 -1.35807628 -0.82521717  0.45140542  0.882788382 -1.33799705  5.05296085\n",
       "14 -0.45413665  0.95636657  1.09970043  1.177658683 -2.17943596  3.02492580\n",
       "15  0.74151503 -1.62886647 -0.99811938 -0.601542683  0.28988011  0.01598736\n",
       "16  2.08913959  0.67284381 -2.31161674 -0.006202612  0.82432638  1.09238743\n",
       "17  2.96436279  0.64230315 -0.86188402 -1.667384836  0.65868358 -0.75096715\n",
       "18 -0.49152157 -0.43589003  1.85244906 -0.300405898  0.19821477 -1.46090791\n",
       "19  0.43698284  0.02435737 -7.91116027 -0.586690667 -3.48541895  2.30577238\n",
       "20 -0.28118018  1.15804521 -0.19074402 -0.763533964 -0.71712774  0.61854975\n",
       "21 -0.34986419  1.03017855 -3.17615842 -3.380010039 -1.15230789 -1.06490637\n",
       "22 -0.05283438 -0.41742464 -0.72677814 -0.029164479 -0.38273065 -0.24907556\n",
       "23 -0.68105772  0.66631006 -2.09167650 -0.042397788  0.06907770 -2.02496229\n",
       "24  0.97233111 -3.36861405  0.66823273 -2.764331317  0.75238351  4.65160986\n",
       "25  0.22912910  0.86091916 -2.73258160 -0.847879085  0.03310274  1.36596234\n",
       "26  0.06911825 -0.34312839 -1.32031310 -0.252008679  0.41451941  0.01669949\n",
       "27  1.41018775  0.10310525 -2.07368233  0.296846658 -0.67458170  0.23821486\n",
       "28 -1.25729606  0.61027441  2.14485268  1.048115778 -2.03672304  4.36893348\n",
       "29  5.00700378  0.35808444 -2.94769469  2.563728165  1.15985286  1.48862285\n",
       "30 -0.13004511  1.21865241 -1.04540607  1.511695115 -0.92768080  1.69597379\n",
       "   PC8         PC9       \n",
       "1   1.66398262 -4.9525741\n",
       "2   0.37809306 -0.7301437\n",
       "3   2.86662040 -2.5953221\n",
       "4  -0.11702894 -0.7438652\n",
       "5  -1.53519300  1.0734899\n",
       "6   0.21485866 -0.6281183\n",
       "7   0.37763136 -0.4893168\n",
       "8  -0.68236266  0.5266755\n",
       "9  -2.87942624 -0.2538725\n",
       "10 -2.34036797  1.3979264\n",
       "11 -2.51271432  1.3956121\n",
       "12  2.19475713 -1.3898735\n",
       "13  2.47560945  1.9599802\n",
       "14  0.37764440  0.6320426\n",
       "15 -0.08610804 -0.8737517\n",
       "16  0.56079246  0.6680789\n",
       "17 -1.16897917 -0.6988599\n",
       "18 -0.09334846  0.2330481\n",
       "19 -0.09494672 -2.1417434\n",
       "20 -0.95559755  0.4098365\n",
       "21  2.07494825  2.4574213\n",
       "22  0.07953361 -1.2987064\n",
       "23  6.19114675  2.0296936\n",
       "24  2.39475272 -0.8124173\n",
       "25 -2.52807315 -0.7837359\n",
       "26 -0.12994211 -1.0408942\n",
       "27  0.40069655  0.5354099\n",
       "28  2.44730129  1.8369244\n",
       "29 -2.62162477 -0.7992089\n",
       "30  1.35138283 -2.3737727"
      ]
     },
     "metadata": {},
     "output_type": "display_data"
    }
   ],
   "source": [
    "head(test_preproc,30)"
   ]
  },
  {
   "cell_type": "code",
   "execution_count": 386,
   "metadata": {
    "scrolled": true
   },
   "outputs": [
    {
     "data": {
      "text/html": [
       "<table class=\"dataframe\">\n",
       "<caption>A matrix: 30 × 2 of type chr</caption>\n",
       "<thead>\n",
       "\t<tr><th scope=col>id</th><th scope=col>status_group</th></tr>\n",
       "</thead>\n",
       "<tbody>\n",
       "\t<tr><td>50785</td><td>functional             </td></tr>\n",
       "\t<tr><td>51630</td><td>functional             </td></tr>\n",
       "\t<tr><td>17168</td><td>non functional         </td></tr>\n",
       "\t<tr><td>45559</td><td>non functional         </td></tr>\n",
       "\t<tr><td>49871</td><td>functional needs repair</td></tr>\n",
       "\t<tr><td>52449</td><td>non functional         </td></tr>\n",
       "\t<tr><td>24806</td><td>functional             </td></tr>\n",
       "\t<tr><td>28965</td><td>non functional         </td></tr>\n",
       "\t<tr><td>36301</td><td>non functional         </td></tr>\n",
       "\t<tr><td>54122</td><td>functional             </td></tr>\n",
       "\t<tr><td>419  </td><td>functional             </td></tr>\n",
       "\t<tr><td>45750</td><td>non functional         </td></tr>\n",
       "\t<tr><td>653  </td><td>non functional         </td></tr>\n",
       "\t<tr><td>14017</td><td>functional             </td></tr>\n",
       "\t<tr><td>44607</td><td>functional             </td></tr>\n",
       "\t<tr><td>40228</td><td>functional             </td></tr>\n",
       "\t<tr><td>27714</td><td>non functional         </td></tr>\n",
       "\t<tr><td>28785</td><td>functional             </td></tr>\n",
       "\t<tr><td>28330</td><td>functional             </td></tr>\n",
       "\t<tr><td>18532</td><td>functional             </td></tr>\n",
       "\t<tr><td>69961</td><td>functional             </td></tr>\n",
       "\t<tr><td>55083</td><td>functional             </td></tr>\n",
       "\t<tr><td>8691 </td><td>non functional         </td></tr>\n",
       "\t<tr><td>30331</td><td>non functional         </td></tr>\n",
       "\t<tr><td>70970</td><td>functional             </td></tr>\n",
       "\t<tr><td>61136</td><td>functional             </td></tr>\n",
       "\t<tr><td>28799</td><td>non functional         </td></tr>\n",
       "\t<tr><td>46825</td><td>non functional         </td></tr>\n",
       "\t<tr><td>44718</td><td>functional needs repair</td></tr>\n",
       "\t<tr><td>37350</td><td>functional             </td></tr>\n",
       "</tbody>\n",
       "</table>\n"
      ],
      "text/latex": [
       "A matrix: 30 × 2 of type chr\n",
       "\\begin{tabular}{ll}\n",
       " id & status\\_group\\\\\n",
       "\\hline\n",
       "\t 50785 & functional             \\\\\n",
       "\t 51630 & functional             \\\\\n",
       "\t 17168 & non functional         \\\\\n",
       "\t 45559 & non functional         \\\\\n",
       "\t 49871 & functional needs repair\\\\\n",
       "\t 52449 & non functional         \\\\\n",
       "\t 24806 & functional             \\\\\n",
       "\t 28965 & non functional         \\\\\n",
       "\t 36301 & non functional         \\\\\n",
       "\t 54122 & functional             \\\\\n",
       "\t 419   & functional             \\\\\n",
       "\t 45750 & non functional         \\\\\n",
       "\t 653   & non functional         \\\\\n",
       "\t 14017 & functional             \\\\\n",
       "\t 44607 & functional             \\\\\n",
       "\t 40228 & functional             \\\\\n",
       "\t 27714 & non functional         \\\\\n",
       "\t 28785 & functional             \\\\\n",
       "\t 28330 & functional             \\\\\n",
       "\t 18532 & functional             \\\\\n",
       "\t 69961 & functional             \\\\\n",
       "\t 55083 & functional             \\\\\n",
       "\t 8691  & non functional         \\\\\n",
       "\t 30331 & non functional         \\\\\n",
       "\t 70970 & functional             \\\\\n",
       "\t 61136 & functional             \\\\\n",
       "\t 28799 & non functional         \\\\\n",
       "\t 46825 & non functional         \\\\\n",
       "\t 44718 & functional needs repair\\\\\n",
       "\t 37350 & functional             \\\\\n",
       "\\end{tabular}\n"
      ],
      "text/markdown": [
       "\n",
       "A matrix: 30 × 2 of type chr\n",
       "\n",
       "| id | status_group |\n",
       "|---|---|\n",
       "| 50785 | functional              |\n",
       "| 51630 | functional              |\n",
       "| 17168 | non functional          |\n",
       "| 45559 | non functional          |\n",
       "| 49871 | functional needs repair |\n",
       "| 52449 | non functional          |\n",
       "| 24806 | functional              |\n",
       "| 28965 | non functional          |\n",
       "| 36301 | non functional          |\n",
       "| 54122 | functional              |\n",
       "| 419   | functional              |\n",
       "| 45750 | non functional          |\n",
       "| 653   | non functional          |\n",
       "| 14017 | functional              |\n",
       "| 44607 | functional              |\n",
       "| 40228 | functional              |\n",
       "| 27714 | non functional          |\n",
       "| 28785 | functional              |\n",
       "| 28330 | functional              |\n",
       "| 18532 | functional              |\n",
       "| 69961 | functional              |\n",
       "| 55083 | functional              |\n",
       "| 8691  | non functional          |\n",
       "| 30331 | non functional          |\n",
       "| 70970 | functional              |\n",
       "| 61136 | functional              |\n",
       "| 28799 | non functional          |\n",
       "| 46825 | non functional          |\n",
       "| 44718 | functional needs repair |\n",
       "| 37350 | functional              |\n",
       "\n"
      ],
      "text/plain": [
       "      id    status_group           \n",
       " [1,] 50785 functional             \n",
       " [2,] 51630 functional             \n",
       " [3,] 17168 non functional         \n",
       " [4,] 45559 non functional         \n",
       " [5,] 49871 functional needs repair\n",
       " [6,] 52449 non functional         \n",
       " [7,] 24806 functional             \n",
       " [8,] 28965 non functional         \n",
       " [9,] 36301 non functional         \n",
       "[10,] 54122 functional             \n",
       "[11,] 419   functional             \n",
       "[12,] 45750 non functional         \n",
       "[13,] 653   non functional         \n",
       "[14,] 14017 functional             \n",
       "[15,] 44607 functional             \n",
       "[16,] 40228 functional             \n",
       "[17,] 27714 non functional         \n",
       "[18,] 28785 functional             \n",
       "[19,] 28330 functional             \n",
       "[20,] 18532 functional             \n",
       "[21,] 69961 functional             \n",
       "[22,] 55083 functional             \n",
       "[23,] 8691  non functional         \n",
       "[24,] 30331 non functional         \n",
       "[25,] 70970 functional             \n",
       "[26,] 61136 functional             \n",
       "[27,] 28799 non functional         \n",
       "[28,] 46825 non functional         \n",
       "[29,] 44718 functional needs repair\n",
       "[30,] 37350 functional             "
      ]
     },
     "metadata": {},
     "output_type": "display_data"
    }
   ],
   "source": [
    "head(res,30)"
   ]
  },
  {
   "cell_type": "code",
   "execution_count": 387,
   "metadata": {},
   "outputs": [],
   "source": [
    "write.csv(res,\"submission.csv\",row.names=FALSE)"
   ]
  },
  {
   "cell_type": "markdown",
   "metadata": {},
   "source": [
    "## Model 3\n",
    "\n",
    "#### Example of simple equation\n",
    "\\begin{equation}\n",
    "e = mc^2\n",
    "\\end{equation}\n",
    "\n",
    "#### Example of matrix equation - Cross product formula:\n",
    "\n",
    "\\begin{equation*}\n",
    "\\mathbf{V}_1 \\times \\mathbf{V}_2 =  \\begin{vmatrix}\n",
    "\\mathbf{i} & \\mathbf{j} & \\mathbf{k} \\\\\n",
    "\\frac{\\partial X}{\\partial u} &  \\frac{\\partial Y}{\\partial u} & 0 \\\\\n",
    "\\frac{\\partial X}{\\partial v} &  \\frac{\\partial Y}{\\partial v} & 0\n",
    "\\end{vmatrix}\n",
    "\\end{equation*}\n",
    "\n",
    "#### Example of multiline equation - The Lorenz Equations:\n",
    "\n",
    "\\begin{align}\n",
    "\\dot{x} & = \\sigma(y-x) \\\\\n",
    "\\dot{y} & = \\rho x - y - xz \\\\\n",
    "\\dot{z} & = -\\beta z + xy\n",
    "\\end{align}\n",
    "\n",
    "#### Example of Markdown Table:\n",
    "\n",
    "| This | is   |\n",
    "|------|------|\n",
    "|   a  | table|\n"
   ]
  },
  {
   "cell_type": "markdown",
   "metadata": {},
   "source": [
    "# Alternative models\n",
    "\n",
    "\n",
    "\n"
   ]
  },
  {
   "cell_type": "markdown",
   "metadata": {},
   "source": [
    "## Gradient boosting"
   ]
  },
  {
   "cell_type": "code",
   "execution_count": null,
   "metadata": {},
   "outputs": [],
   "source": [
    "require(gbm)"
   ]
  },
  {
   "cell_type": "code",
   "execution_count": null,
   "metadata": {},
   "outputs": [],
   "source": [
    "data <- data_preproc\n",
    "data_idx <- sample(1:nrow(data))\n",
    "half_split <- floor(nrow(data)/2)\n",
    "train_data <- data[data_idx[1:half_split],]\n",
    "test_data <- data[data_idx[(half_split+1):nrow(data)],]\n",
    "target_variable <- ncol(data)\n",
    "\n",
    "boost <- gbm(status_group ~ . ,data = train_data,distribution = \"multinomial\",cv.folds = 5,n.trees = 1000,shrinkage = 0.01, interaction.depth = 10)\n",
    "boost\n",
    "summary(boost)\n",
    "best_iter <- gbm.perf(boost, method = \"cv\")\n",
    "best_iter\n"
   ]
  },
  {
   "cell_type": "code",
   "execution_count": null,
   "metadata": {},
   "outputs": [],
   "source": [
    "n.trees = seq(from=100 ,to=10000, by=100)\n",
    "predmatrix<-predict(boost,test_data[,-target_variable],n.trees = n.trees)\n",
    "dim(predmatrix) #dimentions of the Prediction Matrix\n",
    "#Calculating The Mean squared Test Error\n",
    "test.error<-with(test_data[,-target_variable],apply( (predmatrix-status_group)^2,2,mean))\n",
    "head(test.error) #contains the Mean squared test error for each of the 100 trees averaged\n"
   ]
  },
  {
   "cell_type": "code",
   "execution_count": null,
   "metadata": {},
   "outputs": [],
   "source": [
    "require(caret)"
   ]
  },
  {
   "cell_type": "code",
   "execution_count": null,
   "metadata": {},
   "outputs": [],
   "source": [
    "data <- data_preproc\n",
    "data_idx <- sample(1:nrow(data))\n",
    "half_split <- floor(nrow(data)/2)\n",
    "train_data <- data[data_idx[1:half_split],]\n",
    "test_data <- data[data_idx[(half_split+1):nrow(data)],]\n",
    "target_variable <- ncol(data)\n",
    "\n",
    "fitControl <- trainControl(## 10-fold CV\n",
    "                           method = \"repeatedcv\",\n",
    "                           number = 10,\n",
    "                           ## repeated ten times\n",
    "                           repeats = 10)\n",
    "\n",
    "gbmGrid <-  expand.grid(interaction.depth = 3, \n",
    "                        n.trees = 2000, \n",
    "                        shrinkage = 0.01,n.minobsinnode = 1)\n",
    "                        \n",
    "nrow(gbmGrid)\n",
    "\n",
    "set.seed(825)\n",
    "gbmFit2 <- train(status_group ~ ., data = train_data, \n",
    "                 method = \"gbm\", \n",
    "                 verbose = TRUE, \n",
    "                 trControl = fitControl,\n",
    "                 ## Now specify the exact models \n",
    "                 ## to evaluate:\n",
    "                 tuneGrid = gbmGrid)\n",
    "gbmFit2"
   ]
  },
  {
   "cell_type": "code",
   "execution_count": null,
   "metadata": {},
   "outputs": [],
   "source": [
    "confusionMatrix(gbmFit2)"
   ]
  },
  {
   "cell_type": "code",
   "execution_count": null,
   "metadata": {},
   "outputs": [],
   "source": [
    "mPred = predict(gbmFit2, test_data, na.action = na.pass)\n",
    "postResample(mPred, test_data$status_group)"
   ]
  },
  {
   "cell_type": "code",
   "execution_count": null,
   "metadata": {},
   "outputs": [],
   "source": [
    "confusionMatrix(mPred, test_data$status_group)"
   ]
  },
  {
   "cell_type": "code",
   "execution_count": null,
   "metadata": {},
   "outputs": [],
   "source": [
    "install.packages(\"xgboost\")"
   ]
  },
  {
   "cell_type": "code",
   "execution_count": null,
   "metadata": {},
   "outputs": [],
   "source": [
    "require(xgboost)"
   ]
  },
  {
   "cell_type": "code",
   "execution_count": null,
   "metadata": {
    "scrolled": true
   },
   "outputs": [],
   "source": [
    "data <- data_preproc\n",
    "#print(head(data))\n",
    "data_idx <- sample(1:nrow(data))\n",
    "half_split <- floor(nrow(data)/2)\n",
    "train_data <- data[data_idx[1:half_split],]\n",
    "test_data <- data[data_idx[(half_split+1):nrow(data)],]\n",
    "target_variable <- ncol(data)\n",
    "labels <- as.matrix(as.numeric(train_data[,target_variable])) - 1\n",
    "\n",
    "best_param = list()\n",
    "best_seednumber = 1234\n",
    "best_loss = Inf\n",
    "best_loss_index = 0\n",
    "\n",
    "for (iter in 1:10) {\n",
    "    param <- list(objective = \"multi:softprob\",\n",
    "        eval_metric = \"merror\",\n",
    "        num_class = 3,\n",
    "        max_depth = sample(10:30, 1),\n",
    "        eta = runif(1, .001, .1),\n",
    "        gamma = runif(1, 0.0, 0.2),\n",
    "        subsample = runif(1, .6, .9),\n",
    "        colsample_bytree = runif(1, .5, .8), \n",
    "        min_child_weight = sample(1:40, 1),\n",
    "        max_delta_step = sample(1:10, 1)\n",
    "    )\n",
    "    seed.number <- sample.int(10000, 1)[[1]]\n",
    "    set.seed(seed.number)\n",
    "\n",
    "    cv.nround <- 50\n",
    "    cv.nfold <- 15\n",
    "\n",
    "    bstSparse <- xgb.cv(data = as.matrix(train_data[,-target_variable]),label=labels,params = param,\n",
    "                        nthread=6, nfold=cv.nfold, nrounds=cv.nround,verbose = T)\n",
    "    \n",
    "    #print(typeof(bstSparse))\n",
    "    #print(bstSparse)\n",
    "    #print(\"OKOK\")\n",
    "    #print(bstSparse[1])\n",
    "    #print(\"OKOKOKOKO\")\n",
    "    min_loss <-  min(bstSparse$evaluation_log$test_merror_mean)\n",
    "    min_loss_index  <- which.min(bstSparse$evaluation_log$test_merror_mean)\n",
    "    message(min_loss_index)\n",
    "    #print(bstSparse$evaluation_log)\n",
    "    \n",
    "    if (min_loss < best_loss) {\n",
    "        best_loss <- min_loss\n",
    "        best_loss_index <- min_loss_index\n",
    "        best_seednumber <- seed.number\n",
    "        best_param <- param\n",
    "    }\n",
    "}\n",
    "\n",
    "\n"
   ]
  },
  {
   "cell_type": "code",
   "execution_count": null,
   "metadata": {},
   "outputs": [],
   "source": [
    "nround <- best_loss_index\n",
    "set.seed(best_seednumber)\n",
    "md <- xgboost(data = as.matrix(train_data[,-target_variable]),label=labels, params=best_param, nrounds=nround, nthread=6)\n"
   ]
  },
  {
   "cell_type": "code",
   "execution_count": null,
   "metadata": {},
   "outputs": [],
   "source": [
    "pred <- predict(md, as.matrix(test_data[,-target_variable]),reshape = T)\n",
    "head(pred)"
   ]
  },
  {
   "cell_type": "code",
   "execution_count": null,
   "metadata": {},
   "outputs": [],
   "source": [
    "predicted_labels <- factor(max.col(pred),levels=1:3)\n",
    "real_labels <- factor(as.numeric(test_data[,target_variable]))\n",
    "predicted_labels"
   ]
  },
  {
   "cell_type": "code",
   "execution_count": null,
   "metadata": {
    "scrolled": true
   },
   "outputs": [],
   "source": [
    "caret::confusionMatrix(real_labels,predicted_labels)"
   ]
  },
  {
   "cell_type": "code",
   "execution_count": null,
   "metadata": {},
   "outputs": [],
   "source": [
    "best_param"
   ]
  },
  {
   "cell_type": "code",
   "execution_count": null,
   "metadata": {},
   "outputs": [],
   "source": [
    "pred <- predict(md, as.matrix(test_preproc),reshape = T)\n",
    "head(pred)\n",
    "pred <- factor(max.col(pred),levels=1:3)\n",
    "pred <- ifelse(pred == 1,\"functional\",ifelse(pred == 2, \"functional needs repair\", \"non functional\"))\n",
    "barplot(table(pred))"
   ]
  },
  {
   "cell_type": "code",
   "execution_count": null,
   "metadata": {},
   "outputs": [],
   "source": [
    "res <- cbind(\"id\"=eval_data$id,\"status_group\"=as.character(pred))\n",
    "head(res)"
   ]
  },
  {
   "cell_type": "code",
   "execution_count": null,
   "metadata": {},
   "outputs": [],
   "source": [
    "write.csv(res,\"submission.csv\",row.names=FALSE)"
   ]
  },
  {
   "cell_type": "markdown",
   "metadata": {},
   "source": [
    "# Conclusions"
   ]
  }
 ],
 "metadata": {
  "kernelspec": {
   "display_name": "R",
   "language": "R",
   "name": "ir"
  },
  "language_info": {
   "codemirror_mode": "r",
   "file_extension": ".r",
   "mimetype": "text/x-r-source",
   "name": "R",
   "pygments_lexer": "r",
   "version": "4.0.3"
  }
 },
 "nbformat": 4,
 "nbformat_minor": 4
}
