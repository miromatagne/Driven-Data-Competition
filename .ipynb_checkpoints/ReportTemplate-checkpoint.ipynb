{
 "cells": [
  {
   "cell_type": "markdown",
   "metadata": {},
   "source": [
    "# INFO-F-422 -  Statistical Foundations of Machine Learning \n",
    "\n",
    "### Student 1 - __[student1@ulb.ac.be](mailto:student1@ulb.ac.be) - Student ID 123456__\n",
    "### Student 2 - __[student2@vub.ac.be](mailto:student2@ulb.ac.be) - Student ID 789012__\n",
    "### Student 3 - __[student3@ulb.ac.be](mailto:student3@ulb.ac.be) - Student ID 345678__\n",
    "\n",
    "### Video presentation: www.youtube.com/abcd1234\n",
    "\n",
    "## Project Title\n"
   ]
  },
  {
   "cell_type": "markdown",
   "metadata": {},
   "source": [
    "# Introduction\n"
   ]
  },
  {
   "cell_type": "markdown",
   "metadata": {},
   "source": [
    "## Read the datasets"
   ]
  },
  {
   "cell_type": "code",
   "execution_count": 7,
   "metadata": {},
   "outputs": [],
   "source": [
    "labels <- read.csv(\"training_set_labels.csv\")\n",
    "values <- read.csv(\"training_set_values.csv\")"
   ]
  },
  {
   "cell_type": "code",
   "execution_count": 12,
   "metadata": {
    "scrolled": false
   },
   "outputs": [
    {
     "data": {
      "text/html": [
       "<style>\n",
       ".list-inline {list-style: none; margin:0; padding: 0}\n",
       ".list-inline>li {display: inline-block}\n",
       ".list-inline>li:not(:last-child)::after {content: \"\\00b7\"; padding: 0 .5ex}\n",
       "</style>\n",
       "<ol class=list-inline><li>59400</li><li>2</li></ol>\n"
      ],
      "text/latex": [
       "\\begin{enumerate*}\n",
       "\\item 59400\n",
       "\\item 2\n",
       "\\end{enumerate*}\n"
      ],
      "text/markdown": [
       "1. 59400\n",
       "2. 2\n",
       "\n",
       "\n"
      ],
      "text/plain": [
       "[1] 59400     2"
      ]
     },
     "metadata": {},
     "output_type": "display_data"
    },
    {
     "data": {
      "text/html": [
       "<table class=\"dataframe\">\n",
       "<caption>A data.frame: 6 × 2</caption>\n",
       "<thead>\n",
       "\t<tr><th></th><th scope=col>id</th><th scope=col>status_group</th></tr>\n",
       "\t<tr><th></th><th scope=col>&lt;int&gt;</th><th scope=col>&lt;chr&gt;</th></tr>\n",
       "</thead>\n",
       "<tbody>\n",
       "\t<tr><th scope=row>1</th><td>69572</td><td>functional    </td></tr>\n",
       "\t<tr><th scope=row>2</th><td> 8776</td><td>functional    </td></tr>\n",
       "\t<tr><th scope=row>3</th><td>34310</td><td>functional    </td></tr>\n",
       "\t<tr><th scope=row>4</th><td>67743</td><td>non functional</td></tr>\n",
       "\t<tr><th scope=row>5</th><td>19728</td><td>functional    </td></tr>\n",
       "\t<tr><th scope=row>6</th><td> 9944</td><td>functional    </td></tr>\n",
       "</tbody>\n",
       "</table>\n"
      ],
      "text/latex": [
       "A data.frame: 6 × 2\n",
       "\\begin{tabular}{r|ll}\n",
       "  & id & status\\_group\\\\\n",
       "  & <int> & <chr>\\\\\n",
       "\\hline\n",
       "\t1 & 69572 & functional    \\\\\n",
       "\t2 &  8776 & functional    \\\\\n",
       "\t3 & 34310 & functional    \\\\\n",
       "\t4 & 67743 & non functional\\\\\n",
       "\t5 & 19728 & functional    \\\\\n",
       "\t6 &  9944 & functional    \\\\\n",
       "\\end{tabular}\n"
      ],
      "text/markdown": [
       "\n",
       "A data.frame: 6 × 2\n",
       "\n",
       "| <!--/--> | id &lt;int&gt; | status_group &lt;chr&gt; |\n",
       "|---|---|---|\n",
       "| 1 | 69572 | functional     |\n",
       "| 2 |  8776 | functional     |\n",
       "| 3 | 34310 | functional     |\n",
       "| 4 | 67743 | non functional |\n",
       "| 5 | 19728 | functional     |\n",
       "| 6 |  9944 | functional     |\n",
       "\n"
      ],
      "text/plain": [
       "  id    status_group  \n",
       "1 69572 functional    \n",
       "2  8776 functional    \n",
       "3 34310 functional    \n",
       "4 67743 non functional\n",
       "5 19728 functional    \n",
       "6  9944 functional    "
      ]
     },
     "metadata": {},
     "output_type": "display_data"
    }
   ],
   "source": [
    "dim(labels)\n",
    "head(labels)"
   ]
  },
  {
   "cell_type": "code",
   "execution_count": 13,
   "metadata": {},
   "outputs": [
    {
     "data": {
      "text/html": [
       "<style>\n",
       ".list-inline {list-style: none; margin:0; padding: 0}\n",
       ".list-inline>li {display: inline-block}\n",
       ".list-inline>li:not(:last-child)::after {content: \"\\00b7\"; padding: 0 .5ex}\n",
       "</style>\n",
       "<ol class=list-inline><li>59400</li><li>40</li></ol>\n"
      ],
      "text/latex": [
       "\\begin{enumerate*}\n",
       "\\item 59400\n",
       "\\item 40\n",
       "\\end{enumerate*}\n"
      ],
      "text/markdown": [
       "1. 59400\n",
       "2. 40\n",
       "\n",
       "\n"
      ],
      "text/plain": [
       "[1] 59400    40"
      ]
     },
     "metadata": {},
     "output_type": "display_data"
    },
    {
     "data": {
      "text/html": [
       "<table class=\"dataframe\">\n",
       "<caption>A data.frame: 6 × 40</caption>\n",
       "<thead>\n",
       "\t<tr><th></th><th scope=col>id</th><th scope=col>amount_tsh</th><th scope=col>date_recorded</th><th scope=col>funder</th><th scope=col>gps_height</th><th scope=col>installer</th><th scope=col>longitude</th><th scope=col>latitude</th><th scope=col>wpt_name</th><th scope=col>num_private</th><th scope=col>⋯</th><th scope=col>payment_type</th><th scope=col>water_quality</th><th scope=col>quality_group</th><th scope=col>quantity</th><th scope=col>quantity_group</th><th scope=col>source</th><th scope=col>source_type</th><th scope=col>source_class</th><th scope=col>waterpoint_type</th><th scope=col>waterpoint_type_group</th></tr>\n",
       "\t<tr><th></th><th scope=col>&lt;int&gt;</th><th scope=col>&lt;dbl&gt;</th><th scope=col>&lt;chr&gt;</th><th scope=col>&lt;chr&gt;</th><th scope=col>&lt;int&gt;</th><th scope=col>&lt;chr&gt;</th><th scope=col>&lt;dbl&gt;</th><th scope=col>&lt;dbl&gt;</th><th scope=col>&lt;chr&gt;</th><th scope=col>&lt;int&gt;</th><th scope=col>⋯</th><th scope=col>&lt;chr&gt;</th><th scope=col>&lt;chr&gt;</th><th scope=col>&lt;chr&gt;</th><th scope=col>&lt;chr&gt;</th><th scope=col>&lt;chr&gt;</th><th scope=col>&lt;chr&gt;</th><th scope=col>&lt;chr&gt;</th><th scope=col>&lt;chr&gt;</th><th scope=col>&lt;chr&gt;</th><th scope=col>&lt;chr&gt;</th></tr>\n",
       "</thead>\n",
       "<tbody>\n",
       "\t<tr><th scope=row>1</th><td>69572</td><td>6000</td><td>2011-03-14</td><td>Roman              </td><td>1390</td><td>Roman       </td><td>34.93809</td><td> -9.856322</td><td>none                </td><td>0</td><td>⋯</td><td>annually  </td><td>soft </td><td>good </td><td>enough      </td><td>enough      </td><td>spring              </td><td>spring              </td><td>groundwater</td><td>communal standpipe         </td><td>communal standpipe</td></tr>\n",
       "\t<tr><th scope=row>2</th><td> 8776</td><td>   0</td><td>2013-03-06</td><td>Grumeti            </td><td>1399</td><td>GRUMETI     </td><td>34.69877</td><td> -2.147466</td><td>Zahanati            </td><td>0</td><td>⋯</td><td>never pay </td><td>soft </td><td>good </td><td>insufficient</td><td>insufficient</td><td>rainwater harvesting</td><td>rainwater harvesting</td><td>surface    </td><td>communal standpipe         </td><td>communal standpipe</td></tr>\n",
       "\t<tr><th scope=row>3</th><td>34310</td><td>  25</td><td>2013-02-25</td><td>Lottery Club       </td><td> 686</td><td>World vision</td><td>37.46066</td><td> -3.821329</td><td>Kwa Mahundi         </td><td>0</td><td>⋯</td><td>per bucket</td><td>soft </td><td>good </td><td>enough      </td><td>enough      </td><td>dam                 </td><td>dam                 </td><td>surface    </td><td>communal standpipe multiple</td><td>communal standpipe</td></tr>\n",
       "\t<tr><th scope=row>4</th><td>67743</td><td>   0</td><td>2013-01-28</td><td>Unicef             </td><td> 263</td><td>UNICEF      </td><td>38.48616</td><td>-11.155298</td><td>Zahanati Ya Nanyumbu</td><td>0</td><td>⋯</td><td>never pay </td><td>soft </td><td>good </td><td>dry         </td><td>dry         </td><td>machine dbh         </td><td>borehole            </td><td>groundwater</td><td>communal standpipe multiple</td><td>communal standpipe</td></tr>\n",
       "\t<tr><th scope=row>5</th><td>19728</td><td>   0</td><td>2011-07-13</td><td>Action In A        </td><td>   0</td><td>Artisan     </td><td>31.13085</td><td> -1.825359</td><td>Shuleni             </td><td>0</td><td>⋯</td><td>never pay </td><td>soft </td><td>good </td><td>seasonal    </td><td>seasonal    </td><td>rainwater harvesting</td><td>rainwater harvesting</td><td>surface    </td><td>communal standpipe         </td><td>communal standpipe</td></tr>\n",
       "\t<tr><th scope=row>6</th><td> 9944</td><td>  20</td><td>2011-03-13</td><td>Mkinga Distric Coun</td><td>   0</td><td>DWE         </td><td>39.17280</td><td> -4.765587</td><td>Tajiri              </td><td>0</td><td>⋯</td><td>per bucket</td><td>salty</td><td>salty</td><td>enough      </td><td>enough      </td><td>other               </td><td>other               </td><td>unknown    </td><td>communal standpipe multiple</td><td>communal standpipe</td></tr>\n",
       "</tbody>\n",
       "</table>\n"
      ],
      "text/latex": [
       "A data.frame: 6 × 40\n",
       "\\begin{tabular}{r|lllllllllllllllllllll}\n",
       "  & id & amount\\_tsh & date\\_recorded & funder & gps\\_height & installer & longitude & latitude & wpt\\_name & num\\_private & ⋯ & payment\\_type & water\\_quality & quality\\_group & quantity & quantity\\_group & source & source\\_type & source\\_class & waterpoint\\_type & waterpoint\\_type\\_group\\\\\n",
       "  & <int> & <dbl> & <chr> & <chr> & <int> & <chr> & <dbl> & <dbl> & <chr> & <int> & ⋯ & <chr> & <chr> & <chr> & <chr> & <chr> & <chr> & <chr> & <chr> & <chr> & <chr>\\\\\n",
       "\\hline\n",
       "\t1 & 69572 & 6000 & 2011-03-14 & Roman               & 1390 & Roman        & 34.93809 &  -9.856322 & none                 & 0 & ⋯ & annually   & soft  & good  & enough       & enough       & spring               & spring               & groundwater & communal standpipe          & communal standpipe\\\\\n",
       "\t2 &  8776 &    0 & 2013-03-06 & Grumeti             & 1399 & GRUMETI      & 34.69877 &  -2.147466 & Zahanati             & 0 & ⋯ & never pay  & soft  & good  & insufficient & insufficient & rainwater harvesting & rainwater harvesting & surface     & communal standpipe          & communal standpipe\\\\\n",
       "\t3 & 34310 &   25 & 2013-02-25 & Lottery Club        &  686 & World vision & 37.46066 &  -3.821329 & Kwa Mahundi          & 0 & ⋯ & per bucket & soft  & good  & enough       & enough       & dam                  & dam                  & surface     & communal standpipe multiple & communal standpipe\\\\\n",
       "\t4 & 67743 &    0 & 2013-01-28 & Unicef              &  263 & UNICEF       & 38.48616 & -11.155298 & Zahanati Ya Nanyumbu & 0 & ⋯ & never pay  & soft  & good  & dry          & dry          & machine dbh          & borehole             & groundwater & communal standpipe multiple & communal standpipe\\\\\n",
       "\t5 & 19728 &    0 & 2011-07-13 & Action In A         &    0 & Artisan      & 31.13085 &  -1.825359 & Shuleni              & 0 & ⋯ & never pay  & soft  & good  & seasonal     & seasonal     & rainwater harvesting & rainwater harvesting & surface     & communal standpipe          & communal standpipe\\\\\n",
       "\t6 &  9944 &   20 & 2011-03-13 & Mkinga Distric Coun &    0 & DWE          & 39.17280 &  -4.765587 & Tajiri               & 0 & ⋯ & per bucket & salty & salty & enough       & enough       & other                & other                & unknown     & communal standpipe multiple & communal standpipe\\\\\n",
       "\\end{tabular}\n"
      ],
      "text/markdown": [
       "\n",
       "A data.frame: 6 × 40\n",
       "\n",
       "| <!--/--> | id &lt;int&gt; | amount_tsh &lt;dbl&gt; | date_recorded &lt;chr&gt; | funder &lt;chr&gt; | gps_height &lt;int&gt; | installer &lt;chr&gt; | longitude &lt;dbl&gt; | latitude &lt;dbl&gt; | wpt_name &lt;chr&gt; | num_private &lt;int&gt; | ⋯ ⋯ | payment_type &lt;chr&gt; | water_quality &lt;chr&gt; | quality_group &lt;chr&gt; | quantity &lt;chr&gt; | quantity_group &lt;chr&gt; | source &lt;chr&gt; | source_type &lt;chr&gt; | source_class &lt;chr&gt; | waterpoint_type &lt;chr&gt; | waterpoint_type_group &lt;chr&gt; |\n",
       "|---|---|---|---|---|---|---|---|---|---|---|---|---|---|---|---|---|---|---|---|---|---|\n",
       "| 1 | 69572 | 6000 | 2011-03-14 | Roman               | 1390 | Roman        | 34.93809 |  -9.856322 | none                 | 0 | ⋯ | annually   | soft  | good  | enough       | enough       | spring               | spring               | groundwater | communal standpipe          | communal standpipe |\n",
       "| 2 |  8776 |    0 | 2013-03-06 | Grumeti             | 1399 | GRUMETI      | 34.69877 |  -2.147466 | Zahanati             | 0 | ⋯ | never pay  | soft  | good  | insufficient | insufficient | rainwater harvesting | rainwater harvesting | surface     | communal standpipe          | communal standpipe |\n",
       "| 3 | 34310 |   25 | 2013-02-25 | Lottery Club        |  686 | World vision | 37.46066 |  -3.821329 | Kwa Mahundi          | 0 | ⋯ | per bucket | soft  | good  | enough       | enough       | dam                  | dam                  | surface     | communal standpipe multiple | communal standpipe |\n",
       "| 4 | 67743 |    0 | 2013-01-28 | Unicef              |  263 | UNICEF       | 38.48616 | -11.155298 | Zahanati Ya Nanyumbu | 0 | ⋯ | never pay  | soft  | good  | dry          | dry          | machine dbh          | borehole             | groundwater | communal standpipe multiple | communal standpipe |\n",
       "| 5 | 19728 |    0 | 2011-07-13 | Action In A         |    0 | Artisan      | 31.13085 |  -1.825359 | Shuleni              | 0 | ⋯ | never pay  | soft  | good  | seasonal     | seasonal     | rainwater harvesting | rainwater harvesting | surface     | communal standpipe          | communal standpipe |\n",
       "| 6 |  9944 |   20 | 2011-03-13 | Mkinga Distric Coun |    0 | DWE          | 39.17280 |  -4.765587 | Tajiri               | 0 | ⋯ | per bucket | salty | salty | enough       | enough       | other                | other                | unknown     | communal standpipe multiple | communal standpipe |\n",
       "\n"
      ],
      "text/plain": [
       "  id    amount_tsh date_recorded funder              gps_height installer   \n",
       "1 69572 6000       2011-03-14    Roman               1390       Roman       \n",
       "2  8776    0       2013-03-06    Grumeti             1399       GRUMETI     \n",
       "3 34310   25       2013-02-25    Lottery Club         686       World vision\n",
       "4 67743    0       2013-01-28    Unicef               263       UNICEF      \n",
       "5 19728    0       2011-07-13    Action In A            0       Artisan     \n",
       "6  9944   20       2011-03-13    Mkinga Distric Coun    0       DWE         \n",
       "  longitude latitude   wpt_name             num_private ⋯ payment_type\n",
       "1 34.93809   -9.856322 none                 0           ⋯ annually    \n",
       "2 34.69877   -2.147466 Zahanati             0           ⋯ never pay   \n",
       "3 37.46066   -3.821329 Kwa Mahundi          0           ⋯ per bucket  \n",
       "4 38.48616  -11.155298 Zahanati Ya Nanyumbu 0           ⋯ never pay   \n",
       "5 31.13085   -1.825359 Shuleni              0           ⋯ never pay   \n",
       "6 39.17280   -4.765587 Tajiri               0           ⋯ per bucket  \n",
       "  water_quality quality_group quantity     quantity_group source              \n",
       "1 soft          good          enough       enough         spring              \n",
       "2 soft          good          insufficient insufficient   rainwater harvesting\n",
       "3 soft          good          enough       enough         dam                 \n",
       "4 soft          good          dry          dry            machine dbh         \n",
       "5 soft          good          seasonal     seasonal       rainwater harvesting\n",
       "6 salty         salty         enough       enough         other               \n",
       "  source_type          source_class waterpoint_type            \n",
       "1 spring               groundwater  communal standpipe         \n",
       "2 rainwater harvesting surface      communal standpipe         \n",
       "3 dam                  surface      communal standpipe multiple\n",
       "4 borehole             groundwater  communal standpipe multiple\n",
       "5 rainwater harvesting surface      communal standpipe         \n",
       "6 other                unknown      communal standpipe multiple\n",
       "  waterpoint_type_group\n",
       "1 communal standpipe   \n",
       "2 communal standpipe   \n",
       "3 communal standpipe   \n",
       "4 communal standpipe   \n",
       "5 communal standpipe   \n",
       "6 communal standpipe   "
      ]
     },
     "metadata": {},
     "output_type": "display_data"
    }
   ],
   "source": [
    "dim(values)\n",
    "head(values)"
   ]
  },
  {
   "cell_type": "markdown",
   "metadata": {},
   "source": [
    "# Data preprocessing"
   ]
  },
  {
   "cell_type": "markdown",
   "metadata": {},
   "source": [
    "## Missing value imputation"
   ]
  },
  {
   "cell_type": "markdown",
   "metadata": {},
   "source": [
    "## Feature engineering"
   ]
  },
  {
   "cell_type": "markdown",
   "metadata": {},
   "source": [
    "## Feature selection"
   ]
  },
  {
   "cell_type": "markdown",
   "metadata": {},
   "source": [
    "# Model selection\n",
    "\n",
    "## Model 1\n",
    "\n",
    "## Model 2\n",
    "\n",
    "## Model 3\n",
    "\n",
    "#### Example of simple equation\n",
    "\\begin{equation}\n",
    "e = mc^2\n",
    "\\end{equation}\n",
    "\n",
    "#### Example of matrix equation - Cross product formula:\n",
    "\n",
    "\\begin{equation*}\n",
    "\\mathbf{V}_1 \\times \\mathbf{V}_2 =  \\begin{vmatrix}\n",
    "\\mathbf{i} & \\mathbf{j} & \\mathbf{k} \\\\\n",
    "\\frac{\\partial X}{\\partial u} &  \\frac{\\partial Y}{\\partial u} & 0 \\\\\n",
    "\\frac{\\partial X}{\\partial v} &  \\frac{\\partial Y}{\\partial v} & 0\n",
    "\\end{vmatrix}\n",
    "\\end{equation*}\n",
    "\n",
    "#### Example of multiline equation - The Lorenz Equations:\n",
    "\n",
    "\\begin{align}\n",
    "\\dot{x} & = \\sigma(y-x) \\\\\n",
    "\\dot{y} & = \\rho x - y - xz \\\\\n",
    "\\dot{z} & = -\\beta z + xy\n",
    "\\end{align}\n",
    "\n",
    "#### Example of Markdown Table:\n",
    "\n",
    "| This | is   |\n",
    "|------|------|\n",
    "|   a  | table|\n"
   ]
  },
  {
   "cell_type": "markdown",
   "metadata": {},
   "source": [
    "# Alternative models\n",
    "\n",
    "\n",
    "\n"
   ]
  },
  {
   "cell_type": "markdown",
   "metadata": {},
   "source": [
    "# Conclusions"
   ]
  }
 ],
 "metadata": {
  "kernelspec": {
   "display_name": "R",
   "language": "R",
   "name": "ir"
  },
  "language_info": {
   "codemirror_mode": "r",
   "file_extension": ".r",
   "mimetype": "text/x-r-source",
   "name": "R",
   "pygments_lexer": "r",
   "version": "4.0.3"
  }
 },
 "nbformat": 4,
 "nbformat_minor": 4
}
