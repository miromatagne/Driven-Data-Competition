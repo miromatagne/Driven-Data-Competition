{
 "cells": [
  {
   "cell_type": "markdown",
   "metadata": {},
   "source": [
    "# INFO-F-422 -  Statistical Foundations of Machine Learning \n",
    "\n",
    "### MATAGNE Miro-Manuel - __[Miro-Manuel.Matagne@ulb.be](mailto:Miro-Manuel.Matagne@ulb.be) - Student ID 459668__\n",
    "### Student 2 - __[student2@vub.ac.be](mailto:student2@ulb.ac.be) - Student ID 789012__\n",
    "### Student 3 - __[student3@ulb.ac.be](mailto:student3@ulb.ac.be) - Student ID 345678__\n",
    "\n",
    "### Video presentation: www.youtube.com/abcd1234\n",
    "\n",
    "## Project Title\n"
   ]
  },
  {
   "cell_type": "markdown",
   "metadata": {},
   "source": [
    "# Introduction\n"
   ]
  },
  {
   "cell_type": "markdown",
   "metadata": {},
   "source": [
    "## Read the datasets"
   ]
  },
  {
   "cell_type": "markdown",
   "metadata": {},
   "source": [
    "The training datasets are imported (*training* here means that this data will not be used for the final assessment of the solution quality by DrivenData).\n",
    "\n",
    "Notice that the characters are read as factors in order to be able to study the categorical variables later on."
   ]
  },
  {
   "cell_type": "code",
   "execution_count": 9,
   "metadata": {},
   "outputs": [],
   "source": [
    "X <- read.csv(\"training_set_values.csv\",stringsAsFactors = T)\n",
    "Y <- read.csv(\"training_set_labels.csv\",stringsAsFactors = T)"
   ]
  },
  {
   "cell_type": "markdown",
   "metadata": {},
   "source": [
    "The dataset on which we will have to establush predictions for the DrivenData is also loaded."
   ]
  },
  {
   "cell_type": "code",
   "execution_count": 11,
   "metadata": {},
   "outputs": [],
   "source": [
    "eval_data <- read.csv(\"test_set_values.csv\",stringsAsFactors = T)"
   ]
  },
  {
   "cell_type": "markdown",
   "metadata": {},
   "source": [
    "## Data exploration"
   ]
  },
  {
   "cell_type": "markdown",
   "metadata": {},
   "source": [
    "For both these datasets, the dimensions, the head and the summary are displayed in order to get a first feel of the data."
   ]
  },
  {
   "cell_type": "markdown",
   "metadata": {},
   "source": [
    "The X dataset contains 59400 samples with 40 different features, of which 30 are categorical and 10 are numerical."
   ]
  },
  {
   "cell_type": "code",
   "execution_count": 12,
   "metadata": {
    "scrolled": true
   },
   "outputs": [
    {
     "data": {
      "text/html": [
       "<style>\n",
       ".list-inline {list-style: none; margin:0; padding: 0}\n",
       ".list-inline>li {display: inline-block}\n",
       ".list-inline>li:not(:last-child)::after {content: \"\\00b7\"; padding: 0 .5ex}\n",
       "</style>\n",
       "<ol class=list-inline><li>59400</li><li>40</li></ol>\n"
      ],
      "text/latex": [
       "\\begin{enumerate*}\n",
       "\\item 59400\n",
       "\\item 40\n",
       "\\end{enumerate*}\n"
      ],
      "text/markdown": [
       "1. 59400\n",
       "2. 40\n",
       "\n",
       "\n"
      ],
      "text/plain": [
       "[1] 59400    40"
      ]
     },
     "metadata": {},
     "output_type": "display_data"
    },
    {
     "data": {
      "text/html": [
       "<table class=\"dataframe\">\n",
       "<caption>A data.frame: 6 × 40</caption>\n",
       "<thead>\n",
       "\t<tr><th></th><th scope=col>id</th><th scope=col>amount_tsh</th><th scope=col>date_recorded</th><th scope=col>funder</th><th scope=col>gps_height</th><th scope=col>installer</th><th scope=col>longitude</th><th scope=col>latitude</th><th scope=col>wpt_name</th><th scope=col>num_private</th><th scope=col>basin</th><th scope=col>subvillage</th><th scope=col>region</th><th scope=col>region_code</th><th scope=col>district_code</th><th scope=col>lga</th><th scope=col>ward</th><th scope=col>population</th><th scope=col>public_meeting</th><th scope=col>recorded_by</th><th scope=col>scheme_management</th><th scope=col>scheme_name</th><th scope=col>permit</th><th scope=col>construction_year</th><th scope=col>extraction_type</th><th scope=col>extraction_type_group</th><th scope=col>extraction_type_class</th><th scope=col>management</th><th scope=col>management_group</th><th scope=col>payment</th><th scope=col>payment_type</th><th scope=col>water_quality</th><th scope=col>quality_group</th><th scope=col>quantity</th><th scope=col>quantity_group</th><th scope=col>source</th><th scope=col>source_type</th><th scope=col>source_class</th><th scope=col>waterpoint_type</th><th scope=col>waterpoint_type_group</th></tr>\n",
       "\t<tr><th></th><th scope=col>&lt;int&gt;</th><th scope=col>&lt;dbl&gt;</th><th scope=col>&lt;fct&gt;</th><th scope=col>&lt;fct&gt;</th><th scope=col>&lt;int&gt;</th><th scope=col>&lt;fct&gt;</th><th scope=col>&lt;dbl&gt;</th><th scope=col>&lt;dbl&gt;</th><th scope=col>&lt;fct&gt;</th><th scope=col>&lt;int&gt;</th><th scope=col>&lt;fct&gt;</th><th scope=col>&lt;fct&gt;</th><th scope=col>&lt;fct&gt;</th><th scope=col>&lt;int&gt;</th><th scope=col>&lt;int&gt;</th><th scope=col>&lt;fct&gt;</th><th scope=col>&lt;fct&gt;</th><th scope=col>&lt;int&gt;</th><th scope=col>&lt;fct&gt;</th><th scope=col>&lt;fct&gt;</th><th scope=col>&lt;fct&gt;</th><th scope=col>&lt;fct&gt;</th><th scope=col>&lt;fct&gt;</th><th scope=col>&lt;int&gt;</th><th scope=col>&lt;fct&gt;</th><th scope=col>&lt;fct&gt;</th><th scope=col>&lt;fct&gt;</th><th scope=col>&lt;fct&gt;</th><th scope=col>&lt;fct&gt;</th><th scope=col>&lt;fct&gt;</th><th scope=col>&lt;fct&gt;</th><th scope=col>&lt;fct&gt;</th><th scope=col>&lt;fct&gt;</th><th scope=col>&lt;fct&gt;</th><th scope=col>&lt;fct&gt;</th><th scope=col>&lt;fct&gt;</th><th scope=col>&lt;fct&gt;</th><th scope=col>&lt;fct&gt;</th><th scope=col>&lt;fct&gt;</th><th scope=col>&lt;fct&gt;</th></tr>\n",
       "</thead>\n",
       "<tbody>\n",
       "\t<tr><th scope=row>1</th><td>69572</td><td>6000</td><td>2011-03-14</td><td>Roman              </td><td>1390</td><td>Roman       </td><td>34.93809</td><td> -9.856322</td><td>none                </td><td>0</td><td>Lake Nyasa             </td><td>Mnyusi B   </td><td>Iringa </td><td>11</td><td> 5</td><td>Ludewa   </td><td>Mundindi  </td><td>109</td><td>True</td><td>GeoData Consultants Ltd</td><td>VWC  </td><td>Roman                      </td><td>False</td><td>1999</td><td>gravity    </td><td>gravity    </td><td>gravity    </td><td>vwc  </td><td>user-group</td><td>pay annually  </td><td>annually  </td><td>soft </td><td>good </td><td>enough      </td><td>enough      </td><td>spring              </td><td>spring              </td><td>groundwater</td><td>communal standpipe         </td><td>communal standpipe</td></tr>\n",
       "\t<tr><th scope=row>2</th><td> 8776</td><td>   0</td><td>2013-03-06</td><td>Grumeti            </td><td>1399</td><td>GRUMETI     </td><td>34.69877</td><td> -2.147466</td><td>Zahanati            </td><td>0</td><td>Lake Victoria          </td><td>Nyamara    </td><td>Mara   </td><td>20</td><td> 2</td><td>Serengeti</td><td>Natta     </td><td>280</td><td>    </td><td>GeoData Consultants Ltd</td><td>Other</td><td>                           </td><td>True </td><td>2010</td><td>gravity    </td><td>gravity    </td><td>gravity    </td><td>wug  </td><td>user-group</td><td>never pay     </td><td>never pay </td><td>soft </td><td>good </td><td>insufficient</td><td>insufficient</td><td>rainwater harvesting</td><td>rainwater harvesting</td><td>surface    </td><td>communal standpipe         </td><td>communal standpipe</td></tr>\n",
       "\t<tr><th scope=row>3</th><td>34310</td><td>  25</td><td>2013-02-25</td><td>Lottery Club       </td><td> 686</td><td>World vision</td><td>37.46066</td><td> -3.821329</td><td>Kwa Mahundi         </td><td>0</td><td>Pangani                </td><td>Majengo    </td><td>Manyara</td><td>21</td><td> 4</td><td>Simanjiro</td><td>Ngorika   </td><td>250</td><td>True</td><td>GeoData Consultants Ltd</td><td>VWC  </td><td>Nyumba ya mungu pipe scheme</td><td>True </td><td>2009</td><td>gravity    </td><td>gravity    </td><td>gravity    </td><td>vwc  </td><td>user-group</td><td>pay per bucket</td><td>per bucket</td><td>soft </td><td>good </td><td>enough      </td><td>enough      </td><td>dam                 </td><td>dam                 </td><td>surface    </td><td>communal standpipe multiple</td><td>communal standpipe</td></tr>\n",
       "\t<tr><th scope=row>4</th><td>67743</td><td>   0</td><td>2013-01-28</td><td>Unicef             </td><td> 263</td><td>UNICEF      </td><td>38.48616</td><td>-11.155298</td><td>Zahanati Ya Nanyumbu</td><td>0</td><td>Ruvuma / Southern Coast</td><td>Mahakamani </td><td>Mtwara </td><td>90</td><td>63</td><td>Nanyumbu </td><td>Nanyumbu  </td><td> 58</td><td>True</td><td>GeoData Consultants Ltd</td><td>VWC  </td><td>                           </td><td>True </td><td>1986</td><td>submersible</td><td>submersible</td><td>submersible</td><td>vwc  </td><td>user-group</td><td>never pay     </td><td>never pay </td><td>soft </td><td>good </td><td>dry         </td><td>dry         </td><td>machine dbh         </td><td>borehole            </td><td>groundwater</td><td>communal standpipe multiple</td><td>communal standpipe</td></tr>\n",
       "\t<tr><th scope=row>5</th><td>19728</td><td>   0</td><td>2011-07-13</td><td>Action In A        </td><td>   0</td><td>Artisan     </td><td>31.13085</td><td> -1.825359</td><td>Shuleni             </td><td>0</td><td>Lake Victoria          </td><td>Kyanyamisa </td><td>Kagera </td><td>18</td><td> 1</td><td>Karagwe  </td><td>Nyakasimbi</td><td>  0</td><td>True</td><td>GeoData Consultants Ltd</td><td>     </td><td>                           </td><td>True </td><td>   0</td><td>gravity    </td><td>gravity    </td><td>gravity    </td><td>other</td><td>other     </td><td>never pay     </td><td>never pay </td><td>soft </td><td>good </td><td>seasonal    </td><td>seasonal    </td><td>rainwater harvesting</td><td>rainwater harvesting</td><td>surface    </td><td>communal standpipe         </td><td>communal standpipe</td></tr>\n",
       "\t<tr><th scope=row>6</th><td> 9944</td><td>  20</td><td>2011-03-13</td><td>Mkinga Distric Coun</td><td>   0</td><td>DWE         </td><td>39.17280</td><td> -4.765587</td><td>Tajiri              </td><td>0</td><td>Pangani                </td><td>Moa/Mwereme</td><td>Tanga  </td><td> 4</td><td> 8</td><td>Mkinga   </td><td>Moa       </td><td>  1</td><td>True</td><td>GeoData Consultants Ltd</td><td>VWC  </td><td>Zingibali                  </td><td>True </td><td>2009</td><td>submersible</td><td>submersible</td><td>submersible</td><td>vwc  </td><td>user-group</td><td>pay per bucket</td><td>per bucket</td><td>salty</td><td>salty</td><td>enough      </td><td>enough      </td><td>other               </td><td>other               </td><td>unknown    </td><td>communal standpipe multiple</td><td>communal standpipe</td></tr>\n",
       "</tbody>\n",
       "</table>\n"
      ],
      "text/latex": [
       "A data.frame: 6 × 40\n",
       "\\begin{tabular}{r|llllllllllllllllllllllllllllllllllllllll}\n",
       "  & id & amount\\_tsh & date\\_recorded & funder & gps\\_height & installer & longitude & latitude & wpt\\_name & num\\_private & basin & subvillage & region & region\\_code & district\\_code & lga & ward & population & public\\_meeting & recorded\\_by & scheme\\_management & scheme\\_name & permit & construction\\_year & extraction\\_type & extraction\\_type\\_group & extraction\\_type\\_class & management & management\\_group & payment & payment\\_type & water\\_quality & quality\\_group & quantity & quantity\\_group & source & source\\_type & source\\_class & waterpoint\\_type & waterpoint\\_type\\_group\\\\\n",
       "  & <int> & <dbl> & <fct> & <fct> & <int> & <fct> & <dbl> & <dbl> & <fct> & <int> & <fct> & <fct> & <fct> & <int> & <int> & <fct> & <fct> & <int> & <fct> & <fct> & <fct> & <fct> & <fct> & <int> & <fct> & <fct> & <fct> & <fct> & <fct> & <fct> & <fct> & <fct> & <fct> & <fct> & <fct> & <fct> & <fct> & <fct> & <fct> & <fct>\\\\\n",
       "\\hline\n",
       "\t1 & 69572 & 6000 & 2011-03-14 & Roman               & 1390 & Roman        & 34.93809 &  -9.856322 & none                 & 0 & Lake Nyasa              & Mnyusi B    & Iringa  & 11 &  5 & Ludewa    & Mundindi   & 109 & True & GeoData Consultants Ltd & VWC   & Roman                       & False & 1999 & gravity     & gravity     & gravity     & vwc   & user-group & pay annually   & annually   & soft  & good  & enough       & enough       & spring               & spring               & groundwater & communal standpipe          & communal standpipe\\\\\n",
       "\t2 &  8776 &    0 & 2013-03-06 & Grumeti             & 1399 & GRUMETI      & 34.69877 &  -2.147466 & Zahanati             & 0 & Lake Victoria           & Nyamara     & Mara    & 20 &  2 & Serengeti & Natta      & 280 &      & GeoData Consultants Ltd & Other &                             & True  & 2010 & gravity     & gravity     & gravity     & wug   & user-group & never pay      & never pay  & soft  & good  & insufficient & insufficient & rainwater harvesting & rainwater harvesting & surface     & communal standpipe          & communal standpipe\\\\\n",
       "\t3 & 34310 &   25 & 2013-02-25 & Lottery Club        &  686 & World vision & 37.46066 &  -3.821329 & Kwa Mahundi          & 0 & Pangani                 & Majengo     & Manyara & 21 &  4 & Simanjiro & Ngorika    & 250 & True & GeoData Consultants Ltd & VWC   & Nyumba ya mungu pipe scheme & True  & 2009 & gravity     & gravity     & gravity     & vwc   & user-group & pay per bucket & per bucket & soft  & good  & enough       & enough       & dam                  & dam                  & surface     & communal standpipe multiple & communal standpipe\\\\\n",
       "\t4 & 67743 &    0 & 2013-01-28 & Unicef              &  263 & UNICEF       & 38.48616 & -11.155298 & Zahanati Ya Nanyumbu & 0 & Ruvuma / Southern Coast & Mahakamani  & Mtwara  & 90 & 63 & Nanyumbu  & Nanyumbu   &  58 & True & GeoData Consultants Ltd & VWC   &                             & True  & 1986 & submersible & submersible & submersible & vwc   & user-group & never pay      & never pay  & soft  & good  & dry          & dry          & machine dbh          & borehole             & groundwater & communal standpipe multiple & communal standpipe\\\\\n",
       "\t5 & 19728 &    0 & 2011-07-13 & Action In A         &    0 & Artisan      & 31.13085 &  -1.825359 & Shuleni              & 0 & Lake Victoria           & Kyanyamisa  & Kagera  & 18 &  1 & Karagwe   & Nyakasimbi &   0 & True & GeoData Consultants Ltd &       &                             & True  &    0 & gravity     & gravity     & gravity     & other & other      & never pay      & never pay  & soft  & good  & seasonal     & seasonal     & rainwater harvesting & rainwater harvesting & surface     & communal standpipe          & communal standpipe\\\\\n",
       "\t6 &  9944 &   20 & 2011-03-13 & Mkinga Distric Coun &    0 & DWE          & 39.17280 &  -4.765587 & Tajiri               & 0 & Pangani                 & Moa/Mwereme & Tanga   &  4 &  8 & Mkinga    & Moa        &   1 & True & GeoData Consultants Ltd & VWC   & Zingibali                   & True  & 2009 & submersible & submersible & submersible & vwc   & user-group & pay per bucket & per bucket & salty & salty & enough       & enough       & other                & other                & unknown     & communal standpipe multiple & communal standpipe\\\\\n",
       "\\end{tabular}\n"
      ],
      "text/markdown": [
       "\n",
       "A data.frame: 6 × 40\n",
       "\n",
       "| <!--/--> | id &lt;int&gt; | amount_tsh &lt;dbl&gt; | date_recorded &lt;fct&gt; | funder &lt;fct&gt; | gps_height &lt;int&gt; | installer &lt;fct&gt; | longitude &lt;dbl&gt; | latitude &lt;dbl&gt; | wpt_name &lt;fct&gt; | num_private &lt;int&gt; | basin &lt;fct&gt; | subvillage &lt;fct&gt; | region &lt;fct&gt; | region_code &lt;int&gt; | district_code &lt;int&gt; | lga &lt;fct&gt; | ward &lt;fct&gt; | population &lt;int&gt; | public_meeting &lt;fct&gt; | recorded_by &lt;fct&gt; | scheme_management &lt;fct&gt; | scheme_name &lt;fct&gt; | permit &lt;fct&gt; | construction_year &lt;int&gt; | extraction_type &lt;fct&gt; | extraction_type_group &lt;fct&gt; | extraction_type_class &lt;fct&gt; | management &lt;fct&gt; | management_group &lt;fct&gt; | payment &lt;fct&gt; | payment_type &lt;fct&gt; | water_quality &lt;fct&gt; | quality_group &lt;fct&gt; | quantity &lt;fct&gt; | quantity_group &lt;fct&gt; | source &lt;fct&gt; | source_type &lt;fct&gt; | source_class &lt;fct&gt; | waterpoint_type &lt;fct&gt; | waterpoint_type_group &lt;fct&gt; |\n",
       "|---|---|---|---|---|---|---|---|---|---|---|---|---|---|---|---|---|---|---|---|---|---|---|---|---|---|---|---|---|---|---|---|---|---|---|---|---|---|---|---|---|\n",
       "| 1 | 69572 | 6000 | 2011-03-14 | Roman               | 1390 | Roman        | 34.93809 |  -9.856322 | none                 | 0 | Lake Nyasa              | Mnyusi B    | Iringa  | 11 |  5 | Ludewa    | Mundindi   | 109 | True | GeoData Consultants Ltd | VWC   | Roman                       | False | 1999 | gravity     | gravity     | gravity     | vwc   | user-group | pay annually   | annually   | soft  | good  | enough       | enough       | spring               | spring               | groundwater | communal standpipe          | communal standpipe |\n",
       "| 2 |  8776 |    0 | 2013-03-06 | Grumeti             | 1399 | GRUMETI      | 34.69877 |  -2.147466 | Zahanati             | 0 | Lake Victoria           | Nyamara     | Mara    | 20 |  2 | Serengeti | Natta      | 280 | <!----> | GeoData Consultants Ltd | Other | <!----> | True  | 2010 | gravity     | gravity     | gravity     | wug   | user-group | never pay      | never pay  | soft  | good  | insufficient | insufficient | rainwater harvesting | rainwater harvesting | surface     | communal standpipe          | communal standpipe |\n",
       "| 3 | 34310 |   25 | 2013-02-25 | Lottery Club        |  686 | World vision | 37.46066 |  -3.821329 | Kwa Mahundi          | 0 | Pangani                 | Majengo     | Manyara | 21 |  4 | Simanjiro | Ngorika    | 250 | True | GeoData Consultants Ltd | VWC   | Nyumba ya mungu pipe scheme | True  | 2009 | gravity     | gravity     | gravity     | vwc   | user-group | pay per bucket | per bucket | soft  | good  | enough       | enough       | dam                  | dam                  | surface     | communal standpipe multiple | communal standpipe |\n",
       "| 4 | 67743 |    0 | 2013-01-28 | Unicef              |  263 | UNICEF       | 38.48616 | -11.155298 | Zahanati Ya Nanyumbu | 0 | Ruvuma / Southern Coast | Mahakamani  | Mtwara  | 90 | 63 | Nanyumbu  | Nanyumbu   |  58 | True | GeoData Consultants Ltd | VWC   | <!----> | True  | 1986 | submersible | submersible | submersible | vwc   | user-group | never pay      | never pay  | soft  | good  | dry          | dry          | machine dbh          | borehole             | groundwater | communal standpipe multiple | communal standpipe |\n",
       "| 5 | 19728 |    0 | 2011-07-13 | Action In A         |    0 | Artisan      | 31.13085 |  -1.825359 | Shuleni              | 0 | Lake Victoria           | Kyanyamisa  | Kagera  | 18 |  1 | Karagwe   | Nyakasimbi |   0 | True | GeoData Consultants Ltd | <!----> | <!----> | True  |    0 | gravity     | gravity     | gravity     | other | other      | never pay      | never pay  | soft  | good  | seasonal     | seasonal     | rainwater harvesting | rainwater harvesting | surface     | communal standpipe          | communal standpipe |\n",
       "| 6 |  9944 |   20 | 2011-03-13 | Mkinga Distric Coun |    0 | DWE          | 39.17280 |  -4.765587 | Tajiri               | 0 | Pangani                 | Moa/Mwereme | Tanga   |  4 |  8 | Mkinga    | Moa        |   1 | True | GeoData Consultants Ltd | VWC   | Zingibali                   | True  | 2009 | submersible | submersible | submersible | vwc   | user-group | pay per bucket | per bucket | salty | salty | enough       | enough       | other                | other                | unknown     | communal standpipe multiple | communal standpipe |\n",
       "\n"
      ],
      "text/plain": [
       "  id    amount_tsh date_recorded funder              gps_height installer   \n",
       "1 69572 6000       2011-03-14    Roman               1390       Roman       \n",
       "2  8776    0       2013-03-06    Grumeti             1399       GRUMETI     \n",
       "3 34310   25       2013-02-25    Lottery Club         686       World vision\n",
       "4 67743    0       2013-01-28    Unicef               263       UNICEF      \n",
       "5 19728    0       2011-07-13    Action In A            0       Artisan     \n",
       "6  9944   20       2011-03-13    Mkinga Distric Coun    0       DWE         \n",
       "  longitude latitude   wpt_name             num_private basin                  \n",
       "1 34.93809   -9.856322 none                 0           Lake Nyasa             \n",
       "2 34.69877   -2.147466 Zahanati             0           Lake Victoria          \n",
       "3 37.46066   -3.821329 Kwa Mahundi          0           Pangani                \n",
       "4 38.48616  -11.155298 Zahanati Ya Nanyumbu 0           Ruvuma / Southern Coast\n",
       "5 31.13085   -1.825359 Shuleni              0           Lake Victoria          \n",
       "6 39.17280   -4.765587 Tajiri               0           Pangani                \n",
       "  subvillage  region  region_code district_code lga       ward       population\n",
       "1 Mnyusi B    Iringa  11           5            Ludewa    Mundindi   109       \n",
       "2 Nyamara     Mara    20           2            Serengeti Natta      280       \n",
       "3 Majengo     Manyara 21           4            Simanjiro Ngorika    250       \n",
       "4 Mahakamani  Mtwara  90          63            Nanyumbu  Nanyumbu    58       \n",
       "5 Kyanyamisa  Kagera  18           1            Karagwe   Nyakasimbi   0       \n",
       "6 Moa/Mwereme Tanga    4           8            Mkinga    Moa          1       \n",
       "  public_meeting recorded_by             scheme_management\n",
       "1 True           GeoData Consultants Ltd VWC              \n",
       "2                GeoData Consultants Ltd Other            \n",
       "3 True           GeoData Consultants Ltd VWC              \n",
       "4 True           GeoData Consultants Ltd VWC              \n",
       "5 True           GeoData Consultants Ltd                  \n",
       "6 True           GeoData Consultants Ltd VWC              \n",
       "  scheme_name                 permit construction_year extraction_type\n",
       "1 Roman                       False  1999              gravity        \n",
       "2                             True   2010              gravity        \n",
       "3 Nyumba ya mungu pipe scheme True   2009              gravity        \n",
       "4                             True   1986              submersible    \n",
       "5                             True      0              gravity        \n",
       "6 Zingibali                   True   2009              submersible    \n",
       "  extraction_type_group extraction_type_class management management_group\n",
       "1 gravity               gravity               vwc        user-group      \n",
       "2 gravity               gravity               wug        user-group      \n",
       "3 gravity               gravity               vwc        user-group      \n",
       "4 submersible           submersible           vwc        user-group      \n",
       "5 gravity               gravity               other      other           \n",
       "6 submersible           submersible           vwc        user-group      \n",
       "  payment        payment_type water_quality quality_group quantity    \n",
       "1 pay annually   annually     soft          good          enough      \n",
       "2 never pay      never pay    soft          good          insufficient\n",
       "3 pay per bucket per bucket   soft          good          enough      \n",
       "4 never pay      never pay    soft          good          dry         \n",
       "5 never pay      never pay    soft          good          seasonal    \n",
       "6 pay per bucket per bucket   salty         salty         enough      \n",
       "  quantity_group source               source_type          source_class\n",
       "1 enough         spring               spring               groundwater \n",
       "2 insufficient   rainwater harvesting rainwater harvesting surface     \n",
       "3 enough         dam                  dam                  surface     \n",
       "4 dry            machine dbh          borehole             groundwater \n",
       "5 seasonal       rainwater harvesting rainwater harvesting surface     \n",
       "6 enough         other                other                unknown     \n",
       "  waterpoint_type             waterpoint_type_group\n",
       "1 communal standpipe          communal standpipe   \n",
       "2 communal standpipe          communal standpipe   \n",
       "3 communal standpipe multiple communal standpipe   \n",
       "4 communal standpipe multiple communal standpipe   \n",
       "5 communal standpipe          communal standpipe   \n",
       "6 communal standpipe multiple communal standpipe   "
      ]
     },
     "metadata": {},
     "output_type": "display_data"
    },
    {
     "data": {
      "text/plain": [
       "       id          amount_tsh          date_recorded  \n",
       " Min.   :    0   Min.   :     0.0   2011-03-15:  572  \n",
       " 1st Qu.:18520   1st Qu.:     0.0   2011-03-17:  558  \n",
       " Median :37062   Median :     0.0   2013-02-03:  546  \n",
       " Mean   :37115   Mean   :   317.7   2011-03-14:  520  \n",
       " 3rd Qu.:55657   3rd Qu.:    20.0   2011-03-16:  513  \n",
       " Max.   :74247   Max.   :350000.0   2011-03-18:  497  \n",
       "                                    (Other)   :56194  \n",
       "                    funder        gps_height          installer    \n",
       " Government Of Tanzania: 9084   Min.   : -90.0   DWE       :17402  \n",
       "                       : 3635   1st Qu.:   0.0             : 3655  \n",
       " Danida                : 3114   Median : 369.0   Government: 1825  \n",
       " Hesawa                : 2202   Mean   : 668.3   RWE       : 1206  \n",
       " Rwssp                 : 1374   3rd Qu.:1319.2   Commu     : 1060  \n",
       " World Bank            : 1349   Max.   :2770.0   DANIDA    : 1050  \n",
       " (Other)               :38642                    (Other)   :33202  \n",
       "   longitude        latitude            wpt_name      num_private       \n",
       " Min.   : 0.00   Min.   :-11.649   none     : 3563   Min.   :   0.0000  \n",
       " 1st Qu.:33.09   1st Qu.: -8.541   Shuleni  : 1748   1st Qu.:   0.0000  \n",
       " Median :34.91   Median : -5.022   Zahanati :  830   Median :   0.0000  \n",
       " Mean   :34.08   Mean   : -5.706   Msikitini:  535   Mean   :   0.4741  \n",
       " 3rd Qu.:37.18   3rd Qu.: -3.326   Kanisani :  323   3rd Qu.:   0.0000  \n",
       " Max.   :40.35   Max.   :  0.000   Bombani  :  271   Max.   :1776.0000  \n",
       "                                   (Other)  :52130                      \n",
       "             basin          subvillage            region       region_code  \n",
       " Lake Victoria  :10248   Madukani:  508   Iringa     : 5294   Min.   : 1.0  \n",
       " Pangani        : 8940   Shuleni :  506   Shinyanga  : 4982   1st Qu.: 5.0  \n",
       " Rufiji         : 7976   Majengo :  502   Mbeya      : 4639   Median :12.0  \n",
       " Internal       : 7785   Kati    :  373   Kilimanjaro: 4379   Mean   :15.3  \n",
       " Lake Tanganyika: 6432           :  371   Morogoro   : 4006   3rd Qu.:17.0  \n",
       " Wami / Ruvu    : 5987   Mtakuja :  262   Arusha     : 3350   Max.   :99.0  \n",
       " (Other)        :12032   (Other) :56878   (Other)    :32750                 \n",
       " district_code             lga               ward         population     \n",
       " Min.   : 0.00   Njombe      : 2503   Igosi    :  307   Min.   :    0.0  \n",
       " 1st Qu.: 2.00   Arusha Rural: 1252   Imalinyi :  252   1st Qu.:    0.0  \n",
       " Median : 3.00   Moshi Rural : 1251   Siha Kati:  232   Median :   25.0  \n",
       " Mean   : 5.63   Bariadi     : 1177   Mdandu   :  231   Mean   :  179.9  \n",
       " 3rd Qu.: 5.00   Rungwe      : 1106   Nduruma  :  217   3rd Qu.:  215.0  \n",
       " Max.   :80.00   Kilosa      : 1094   Kitunda  :  203   Max.   :30500.0  \n",
       "                 (Other)     :51017   (Other)  :57958                    \n",
       " public_meeting                  recorded_by          scheme_management\n",
       "      : 3334    GeoData Consultants Ltd:59400   VWC            :36793  \n",
       " False: 5055                                    WUG            : 5206  \n",
       " True :51011                                                   : 3877  \n",
       "                                                Water authority: 3153  \n",
       "                                                WUA            : 2883  \n",
       "                                                Water Board    : 2748  \n",
       "                                                (Other)        : 4740  \n",
       "        scheme_name      permit      construction_year    extraction_type \n",
       "              :28166        : 3056   Min.   :   0      gravity    :26780  \n",
       " K            :  682   False:17492   1st Qu.:   0      nira/tanira: 8154  \n",
       " None         :  644   True :38852   Median :1986      other      : 6430  \n",
       " Borehole     :  546                 Mean   :1301      submersible: 4764  \n",
       " Chalinze wate:  405                 3rd Qu.:2004      swn 80     : 3670  \n",
       " M            :  400                 Max.   :2013      mono       : 2865  \n",
       " (Other)      :28557                                   (Other)    : 6737  \n",
       " extraction_type_group  extraction_type_class            management   \n",
       " gravity    :26780     gravity     :26780     vwc             :40507  \n",
       " nira/tanira: 8154     handpump    :16456     wug             : 6515  \n",
       " other      : 6430     motorpump   : 2987     water board     : 2933  \n",
       " submersible: 6179     other       : 6430     wua             : 2535  \n",
       " swn 80     : 3670     rope pump   :  451     private operator: 1971  \n",
       " mono       : 2865     submersible : 6179     parastatal      : 1768  \n",
       " (Other)    : 5322     wind-powered:  117     (Other)         : 3171  \n",
       "   management_group                  payment          payment_type  \n",
       " commercial: 3638   never pay            :25348   annually  : 3642  \n",
       " other     :  943   other                : 1054   monthly   : 8300  \n",
       " parastatal: 1768   pay annually         : 3642   never pay :25348  \n",
       " unknown   :  561   pay monthly          : 8300   on failure: 3914  \n",
       " user-group:52490   pay per bucket       : 8985   other     : 1054  \n",
       "                    pay when scheme fails: 3914   per bucket: 8985  \n",
       "                    unknown              : 8157   unknown   : 8157  \n",
       "         water_quality    quality_group           quantity    \n",
       " soft           :50818   colored :  490   dry         : 6246  \n",
       " salty          : 4856   fluoride:  217   enough      :33186  \n",
       " unknown        : 1876   good    :50818   insufficient:15129  \n",
       " milky          :  804   milky   :  804   seasonal    : 4050  \n",
       " coloured       :  490   salty   : 5195   unknown     :  789  \n",
       " salty abandoned:  339   unknown : 1876                       \n",
       " (Other)        :  217                                        \n",
       "      quantity_group                   source                    source_type   \n",
       " dry         : 6246   spring              :17021   borehole            :11949  \n",
       " enough      :33186   shallow well        :16824   dam                 :  656  \n",
       " insufficient:15129   machine dbh         :11075   other               :  278  \n",
       " seasonal    : 4050   river               : 9612   rainwater harvesting: 2295  \n",
       " unknown     :  789   rainwater harvesting: 2295   river/lake          :10377  \n",
       "                      hand dtw            :  874   shallow well        :16824  \n",
       "                      (Other)             : 1699   spring              :17021  \n",
       "      source_class                      waterpoint_type \n",
       " groundwater:45794   cattle trough              :  116  \n",
       " surface    :13328   communal standpipe         :28522  \n",
       " unknown    :  278   communal standpipe multiple: 6103  \n",
       "                     dam                        :    7  \n",
       "                     hand pump                  :17488  \n",
       "                     improved spring            :  784  \n",
       "                     other                      : 6380  \n",
       "        waterpoint_type_group\n",
       " cattle trough     :  116    \n",
       " communal standpipe:34625    \n",
       " dam               :    7    \n",
       " hand pump         :17488    \n",
       " improved spring   :  784    \n",
       " other             : 6380    \n",
       "                             "
      ]
     },
     "metadata": {},
     "output_type": "display_data"
    }
   ],
   "source": [
    "options(repr.matrix.max.cols=50)\n",
    "dim(X)\n",
    "head(X)\n",
    "summary(X)"
   ]
  },
  {
   "cell_type": "code",
   "execution_count": 13,
   "metadata": {},
   "outputs": [
    {
     "data": {
      "text/html": [
       "30"
      ],
      "text/latex": [
       "30"
      ],
      "text/markdown": [
       "30"
      ],
      "text/plain": [
       "[1] 30"
      ]
     },
     "metadata": {},
     "output_type": "display_data"
    }
   ],
   "source": [
    "categorical_variables <- which(sapply(X[1,],class)==\"factor\")\n",
    "length(categorical_variables)"
   ]
  },
  {
   "cell_type": "markdown",
   "metadata": {},
   "source": [
    "The target variable is a categorical variable with 3 different levels, indicating if the water pump is functional, functional but needs repair or non functional."
   ]
  },
  {
   "cell_type": "code",
   "execution_count": 14,
   "metadata": {
    "scrolled": true
   },
   "outputs": [
    {
     "data": {
      "text/html": [
       "<style>\n",
       ".list-inline {list-style: none; margin:0; padding: 0}\n",
       ".list-inline>li {display: inline-block}\n",
       ".list-inline>li:not(:last-child)::after {content: \"\\00b7\"; padding: 0 .5ex}\n",
       "</style>\n",
       "<ol class=list-inline><li>59400</li><li>2</li></ol>\n"
      ],
      "text/latex": [
       "\\begin{enumerate*}\n",
       "\\item 59400\n",
       "\\item 2\n",
       "\\end{enumerate*}\n"
      ],
      "text/markdown": [
       "1. 59400\n",
       "2. 2\n",
       "\n",
       "\n"
      ],
      "text/plain": [
       "[1] 59400     2"
      ]
     },
     "metadata": {},
     "output_type": "display_data"
    },
    {
     "data": {
      "text/html": [
       "<table class=\"dataframe\">\n",
       "<caption>A data.frame: 6 × 2</caption>\n",
       "<thead>\n",
       "\t<tr><th></th><th scope=col>id</th><th scope=col>status_group</th></tr>\n",
       "\t<tr><th></th><th scope=col>&lt;int&gt;</th><th scope=col>&lt;fct&gt;</th></tr>\n",
       "</thead>\n",
       "<tbody>\n",
       "\t<tr><th scope=row>1</th><td>69572</td><td>functional    </td></tr>\n",
       "\t<tr><th scope=row>2</th><td> 8776</td><td>functional    </td></tr>\n",
       "\t<tr><th scope=row>3</th><td>34310</td><td>functional    </td></tr>\n",
       "\t<tr><th scope=row>4</th><td>67743</td><td>non functional</td></tr>\n",
       "\t<tr><th scope=row>5</th><td>19728</td><td>functional    </td></tr>\n",
       "\t<tr><th scope=row>6</th><td> 9944</td><td>functional    </td></tr>\n",
       "</tbody>\n",
       "</table>\n"
      ],
      "text/latex": [
       "A data.frame: 6 × 2\n",
       "\\begin{tabular}{r|ll}\n",
       "  & id & status\\_group\\\\\n",
       "  & <int> & <fct>\\\\\n",
       "\\hline\n",
       "\t1 & 69572 & functional    \\\\\n",
       "\t2 &  8776 & functional    \\\\\n",
       "\t3 & 34310 & functional    \\\\\n",
       "\t4 & 67743 & non functional\\\\\n",
       "\t5 & 19728 & functional    \\\\\n",
       "\t6 &  9944 & functional    \\\\\n",
       "\\end{tabular}\n"
      ],
      "text/markdown": [
       "\n",
       "A data.frame: 6 × 2\n",
       "\n",
       "| <!--/--> | id &lt;int&gt; | status_group &lt;fct&gt; |\n",
       "|---|---|---|\n",
       "| 1 | 69572 | functional     |\n",
       "| 2 |  8776 | functional     |\n",
       "| 3 | 34310 | functional     |\n",
       "| 4 | 67743 | non functional |\n",
       "| 5 | 19728 | functional     |\n",
       "| 6 |  9944 | functional     |\n",
       "\n"
      ],
      "text/plain": [
       "  id    status_group  \n",
       "1 69572 functional    \n",
       "2  8776 functional    \n",
       "3 34310 functional    \n",
       "4 67743 non functional\n",
       "5 19728 functional    \n",
       "6  9944 functional    "
      ]
     },
     "metadata": {},
     "output_type": "display_data"
    },
    {
     "data": {
      "text/plain": [
       "       id                         status_group  \n",
       " Min.   :    0   functional             :32259  \n",
       " 1st Qu.:18520   functional needs repair: 4317  \n",
       " Median :37062   non functional         :22824  \n",
       " Mean   :37115                                  \n",
       " 3rd Qu.:55657                                  \n",
       " Max.   :74247                                  "
      ]
     },
     "metadata": {},
     "output_type": "display_data"
    }
   ],
   "source": [
    "dim(Y)\n",
    "head(Y)\n",
    "summary(Y)"
   ]
  },
  {
   "cell_type": "markdown",
   "metadata": {},
   "source": [
    "This histogram shows the number of samples corresponding to each class of the target variable. Notice that there are large differences in terms of numbers of samples corresponding to each class. In particular, we see that there are very few samples falling in the category $functional\\ needs\\ repair$, which might be a problem because a model will have a lot of trouble predicting this class since the number of corresponding training samples is very low."
   ]
  },
  {
   "cell_type": "code",
   "execution_count": null,
   "metadata": {},
   "outputs": [],
   "source": [
    "noquote(paste(\"Functional :\",sum(Y$status_group==\"functional\")))\n",
    "noquote(paste(\"Functional needs repair :\",sum(Y$status_group==\"functional needs repair\")))\n",
    "noquote(paste(\"Non functional :\",sum(Y$status_group==\"non functional\")))\n",
    "\n",
    "barplot(table(Y))"
   ]
  },
  {
   "cell_type": "markdown",
   "metadata": {},
   "source": [
    "# Data preprocessing"
   ]
  },
  {
   "cell_type": "markdown",
   "metadata": {},
   "source": [
    "## Missing value imputation\n"
   ]
  },
  {
   "cell_type": "markdown",
   "metadata": {},
   "source": [
    "We check if there are any NA values in the dataset. The results show that no empty values are present in either dataset."
   ]
  },
  {
   "cell_type": "code",
   "execution_count": 15,
   "metadata": {},
   "outputs": [
    {
     "data": {
      "text/html": [
       "0"
      ],
      "text/latex": [
       "0"
      ],
      "text/markdown": [
       "0"
      ],
      "text/plain": [
       "[1] 0"
      ]
     },
     "metadata": {},
     "output_type": "display_data"
    },
    {
     "data": {
      "text/html": [
       "0"
      ],
      "text/latex": [
       "0"
      ],
      "text/markdown": [
       "0"
      ],
      "text/plain": [
       "[1] 0"
      ]
     },
     "metadata": {},
     "output_type": "display_data"
    }
   ],
   "source": [
    "sum(is.na(X))\n",
    "sum(is.na(Y))"
   ]
  },
  {
   "cell_type": "markdown",
   "metadata": {},
   "source": [
    "It is however important to note that this result does not look for empty strings or $none$ strings in the categorical variables. Indeed, we saw previously in the summaries of the datasets that there were wome empty strings, for example for features $funder$, $installer$, $subvillage$, $scheme\\_management$,..."
   ]
  },
  {
   "cell_type": "markdown",
   "metadata": {},
   "source": [
    "It is also important to check that all entries in X have a corresponding entry in Y. To do so, we merge the 2 datasets X and Y based on their common feature $id$ and check the dimension of the resulting dataset. As expected, the merged dataset has 59400 entries and 41 features, which means that for all samples in X there exists a corresponding sample in Y."
   ]
  },
  {
   "cell_type": "code",
   "execution_count": 58,
   "metadata": {
    "scrolled": false
   },
   "outputs": [
    {
     "data": {
      "text/html": [
       "<style>\n",
       ".list-inline {list-style: none; margin:0; padding: 0}\n",
       ".list-inline>li {display: inline-block}\n",
       ".list-inline>li:not(:last-child)::after {content: \"\\00b7\"; padding: 0 .5ex}\n",
       "</style>\n",
       "<ol class=list-inline><li>59400</li><li>41</li></ol>\n"
      ],
      "text/latex": [
       "\\begin{enumerate*}\n",
       "\\item 59400\n",
       "\\item 41\n",
       "\\end{enumerate*}\n"
      ],
      "text/markdown": [
       "1. 59400\n",
       "2. 41\n",
       "\n",
       "\n"
      ],
      "text/plain": [
       "[1] 59400    41"
      ]
     },
     "metadata": {},
     "output_type": "display_data"
    },
    {
     "data": {
      "text/html": [
       "<table class=\"dataframe\">\n",
       "<caption>A data.frame: 6 × 41</caption>\n",
       "<thead>\n",
       "\t<tr><th></th><th scope=col>id</th><th scope=col>amount_tsh</th><th scope=col>date_recorded</th><th scope=col>funder</th><th scope=col>gps_height</th><th scope=col>installer</th><th scope=col>longitude</th><th scope=col>latitude</th><th scope=col>wpt_name</th><th scope=col>num_private</th><th scope=col>basin</th><th scope=col>subvillage</th><th scope=col>region</th><th scope=col>region_code</th><th scope=col>district_code</th><th scope=col>lga</th><th scope=col>ward</th><th scope=col>population</th><th scope=col>public_meeting</th><th scope=col>recorded_by</th><th scope=col>scheme_management</th><th scope=col>scheme_name</th><th scope=col>permit</th><th scope=col>construction_year</th><th scope=col>extraction_type</th><th scope=col>extraction_type_group</th><th scope=col>extraction_type_class</th><th scope=col>management</th><th scope=col>management_group</th><th scope=col>payment</th><th scope=col>payment_type</th><th scope=col>water_quality</th><th scope=col>quality_group</th><th scope=col>quantity</th><th scope=col>quantity_group</th><th scope=col>source</th><th scope=col>source_type</th><th scope=col>source_class</th><th scope=col>waterpoint_type</th><th scope=col>waterpoint_type_group</th><th scope=col>status_group</th></tr>\n",
       "\t<tr><th></th><th scope=col>&lt;int&gt;</th><th scope=col>&lt;dbl&gt;</th><th scope=col>&lt;fct&gt;</th><th scope=col>&lt;fct&gt;</th><th scope=col>&lt;int&gt;</th><th scope=col>&lt;fct&gt;</th><th scope=col>&lt;dbl&gt;</th><th scope=col>&lt;dbl&gt;</th><th scope=col>&lt;fct&gt;</th><th scope=col>&lt;int&gt;</th><th scope=col>&lt;fct&gt;</th><th scope=col>&lt;fct&gt;</th><th scope=col>&lt;fct&gt;</th><th scope=col>&lt;int&gt;</th><th scope=col>&lt;int&gt;</th><th scope=col>&lt;fct&gt;</th><th scope=col>&lt;fct&gt;</th><th scope=col>&lt;int&gt;</th><th scope=col>&lt;fct&gt;</th><th scope=col>&lt;fct&gt;</th><th scope=col>&lt;fct&gt;</th><th scope=col>&lt;fct&gt;</th><th scope=col>&lt;fct&gt;</th><th scope=col>&lt;int&gt;</th><th scope=col>&lt;fct&gt;</th><th scope=col>&lt;fct&gt;</th><th scope=col>&lt;fct&gt;</th><th scope=col>&lt;fct&gt;</th><th scope=col>&lt;fct&gt;</th><th scope=col>&lt;fct&gt;</th><th scope=col>&lt;fct&gt;</th><th scope=col>&lt;fct&gt;</th><th scope=col>&lt;fct&gt;</th><th scope=col>&lt;fct&gt;</th><th scope=col>&lt;fct&gt;</th><th scope=col>&lt;fct&gt;</th><th scope=col>&lt;fct&gt;</th><th scope=col>&lt;fct&gt;</th><th scope=col>&lt;fct&gt;</th><th scope=col>&lt;fct&gt;</th><th scope=col>&lt;fct&gt;</th></tr>\n",
       "</thead>\n",
       "<tbody>\n",
       "\t<tr><th scope=row>1</th><td>0</td><td> 0</td><td>2012-11-13</td><td>Tasaf          </td><td>   0</td><td>TASAF  </td><td>33.12583</td><td>-5.118154</td><td>Mratibu       </td><td>0</td><td>Lake Tanganyika</td><td>Majengo   </td><td>Tabora     </td><td>14</td><td> 3</td><td>Uyui    </td><td>Igalula         </td><td>   0</td><td>    </td><td>GeoData Consultants Ltd</td><td>VWC             </td><td>                      </td><td>True </td><td>   0</td><td>afridev          </td><td>afridev    </td><td>handpump   </td><td>vwc             </td><td>user-group</td><td>unknown       </td><td>unknown   </td><td>milky</td><td>milky</td><td>enough      </td><td>enough      </td><td>shallow well</td><td>shallow well</td><td>groundwater</td><td>hand pump                  </td><td>hand pump         </td><td>non functional</td></tr>\n",
       "\t<tr><th scope=row>2</th><td>1</td><td> 0</td><td>2011-03-05</td><td>Shipo          </td><td>1978</td><td>SHIPO  </td><td>34.77072</td><td>-9.395642</td><td>none          </td><td>0</td><td>Rufiji         </td><td>Magoda C  </td><td>Iringa     </td><td>11</td><td> 4</td><td>Njombe  </td><td>Uwemba          </td><td>  20</td><td>True</td><td>GeoData Consultants Ltd</td><td>                </td><td>                      </td><td>False</td><td>2008</td><td>other - rope pump</td><td>rope pump  </td><td>rope pump  </td><td>vwc             </td><td>user-group</td><td>never pay     </td><td>never pay </td><td>soft </td><td>good </td><td>enough      </td><td>enough      </td><td>shallow well</td><td>shallow well</td><td>groundwater</td><td>hand pump                  </td><td>hand pump         </td><td>functional    </td></tr>\n",
       "\t<tr><th scope=row>3</th><td>2</td><td> 0</td><td>2011-03-27</td><td>Lvia           </td><td>   0</td><td>LVIA   </td><td>36.11506</td><td>-6.279268</td><td>Bombani       </td><td>0</td><td>Wami / Ruvu    </td><td>Songambele</td><td>Dodoma     </td><td> 1</td><td> 4</td><td>Chamwino</td><td>Msamalo         </td><td>   0</td><td>True</td><td>GeoData Consultants Ltd</td><td>VWC             </td><td>Mgun                  </td><td>True </td><td>   0</td><td>mono             </td><td>mono       </td><td>motorpump  </td><td>vwc             </td><td>user-group</td><td>pay per bucket</td><td>per bucket</td><td>soft </td><td>good </td><td>insufficient</td><td>insufficient</td><td>machine dbh </td><td>borehole    </td><td>groundwater</td><td>communal standpipe multiple</td><td>communal standpipe</td><td>functional    </td></tr>\n",
       "\t<tr><th scope=row>4</th><td>3</td><td>10</td><td>2013-06-03</td><td>Germany Republi</td><td>1639</td><td>CES    </td><td>37.14743</td><td>-3.187555</td><td>Area 7 Namba 5</td><td>0</td><td>Pangani        </td><td>Urereni   </td><td>Kilimanjaro</td><td> 3</td><td> 5</td><td>Hai     </td><td>Masama Magharibi</td><td>  25</td><td>True</td><td>GeoData Consultants Ltd</td><td>Water Board     </td><td>Losaa-Kia water supply</td><td>True </td><td>1999</td><td>gravity          </td><td>gravity    </td><td>gravity    </td><td>water board     </td><td>user-group</td><td>pay per bucket</td><td>per bucket</td><td>soft </td><td>good </td><td>enough      </td><td>enough      </td><td>spring      </td><td>spring      </td><td>groundwater</td><td>communal standpipe         </td><td>communal standpipe</td><td>functional    </td></tr>\n",
       "\t<tr><th scope=row>5</th><td>4</td><td> 0</td><td>2011-03-22</td><td>Cmsr           </td><td>   0</td><td>CMSR   </td><td>36.16489</td><td>-6.099289</td><td>Ezeleda       </td><td>0</td><td>Wami / Ruvu    </td><td>Maata A   </td><td>Dodoma     </td><td> 1</td><td> 4</td><td>Chamwino</td><td>Majeleko        </td><td>   0</td><td>True</td><td>GeoData Consultants Ltd</td><td>VWC             </td><td>                      </td><td>True </td><td>   0</td><td>nira/tanira      </td><td>nira/tanira</td><td>handpump   </td><td>vwc             </td><td>user-group</td><td>unknown       </td><td>unknown   </td><td>soft </td><td>good </td><td>dry         </td><td>dry         </td><td>shallow well</td><td>shallow well</td><td>groundwater</td><td>hand pump                  </td><td>hand pump         </td><td>non functional</td></tr>\n",
       "\t<tr><th scope=row>6</th><td>5</td><td>50</td><td>2011-02-26</td><td>Private        </td><td>  28</td><td>Private</td><td>39.28612</td><td>-6.972403</td><td>Kwa Namaj     </td><td>0</td><td>Wami / Ruvu    </td><td>Mwandege  </td><td>Pwani      </td><td>60</td><td>43</td><td>Mkuranga</td><td>Vikindu         </td><td>6922</td><td>True</td><td>GeoData Consultants Ltd</td><td>Private operator</td><td>                      </td><td>False</td><td>   0</td><td>submersible      </td><td>submersible</td><td>submersible</td><td>private operator</td><td>commercial</td><td>pay per bucket</td><td>per bucket</td><td>soft </td><td>good </td><td>enough      </td><td>enough      </td><td>machine dbh </td><td>borehole    </td><td>groundwater</td><td>communal standpipe multiple</td><td>communal standpipe</td><td>functional    </td></tr>\n",
       "</tbody>\n",
       "</table>\n"
      ],
      "text/latex": [
       "A data.frame: 6 × 41\n",
       "\\begin{tabular}{r|lllllllllllllllllllllllllllllllllllllllll}\n",
       "  & id & amount\\_tsh & date\\_recorded & funder & gps\\_height & installer & longitude & latitude & wpt\\_name & num\\_private & basin & subvillage & region & region\\_code & district\\_code & lga & ward & population & public\\_meeting & recorded\\_by & scheme\\_management & scheme\\_name & permit & construction\\_year & extraction\\_type & extraction\\_type\\_group & extraction\\_type\\_class & management & management\\_group & payment & payment\\_type & water\\_quality & quality\\_group & quantity & quantity\\_group & source & source\\_type & source\\_class & waterpoint\\_type & waterpoint\\_type\\_group & status\\_group\\\\\n",
       "  & <int> & <dbl> & <fct> & <fct> & <int> & <fct> & <dbl> & <dbl> & <fct> & <int> & <fct> & <fct> & <fct> & <int> & <int> & <fct> & <fct> & <int> & <fct> & <fct> & <fct> & <fct> & <fct> & <int> & <fct> & <fct> & <fct> & <fct> & <fct> & <fct> & <fct> & <fct> & <fct> & <fct> & <fct> & <fct> & <fct> & <fct> & <fct> & <fct> & <fct>\\\\\n",
       "\\hline\n",
       "\t1 & 0 &  0 & 2012-11-13 & Tasaf           &    0 & TASAF   & 33.12583 & -5.118154 & Mratibu        & 0 & Lake Tanganyika & Majengo    & Tabora      & 14 &  3 & Uyui     & Igalula          &    0 &      & GeoData Consultants Ltd & VWC              &                        & True  &    0 & afridev           & afridev     & handpump    & vwc              & user-group & unknown        & unknown    & milky & milky & enough       & enough       & shallow well & shallow well & groundwater & hand pump                   & hand pump          & non functional\\\\\n",
       "\t2 & 1 &  0 & 2011-03-05 & Shipo           & 1978 & SHIPO   & 34.77072 & -9.395642 & none           & 0 & Rufiji          & Magoda C   & Iringa      & 11 &  4 & Njombe   & Uwemba           &   20 & True & GeoData Consultants Ltd &                  &                        & False & 2008 & other - rope pump & rope pump   & rope pump   & vwc              & user-group & never pay      & never pay  & soft  & good  & enough       & enough       & shallow well & shallow well & groundwater & hand pump                   & hand pump          & functional    \\\\\n",
       "\t3 & 2 &  0 & 2011-03-27 & Lvia            &    0 & LVIA    & 36.11506 & -6.279268 & Bombani        & 0 & Wami / Ruvu     & Songambele & Dodoma      &  1 &  4 & Chamwino & Msamalo          &    0 & True & GeoData Consultants Ltd & VWC              & Mgun                   & True  &    0 & mono              & mono        & motorpump   & vwc              & user-group & pay per bucket & per bucket & soft  & good  & insufficient & insufficient & machine dbh  & borehole     & groundwater & communal standpipe multiple & communal standpipe & functional    \\\\\n",
       "\t4 & 3 & 10 & 2013-06-03 & Germany Republi & 1639 & CES     & 37.14743 & -3.187555 & Area 7 Namba 5 & 0 & Pangani         & Urereni    & Kilimanjaro &  3 &  5 & Hai      & Masama Magharibi &   25 & True & GeoData Consultants Ltd & Water Board      & Losaa-Kia water supply & True  & 1999 & gravity           & gravity     & gravity     & water board      & user-group & pay per bucket & per bucket & soft  & good  & enough       & enough       & spring       & spring       & groundwater & communal standpipe          & communal standpipe & functional    \\\\\n",
       "\t5 & 4 &  0 & 2011-03-22 & Cmsr            &    0 & CMSR    & 36.16489 & -6.099289 & Ezeleda        & 0 & Wami / Ruvu     & Maata A    & Dodoma      &  1 &  4 & Chamwino & Majeleko         &    0 & True & GeoData Consultants Ltd & VWC              &                        & True  &    0 & nira/tanira       & nira/tanira & handpump    & vwc              & user-group & unknown        & unknown    & soft  & good  & dry          & dry          & shallow well & shallow well & groundwater & hand pump                   & hand pump          & non functional\\\\\n",
       "\t6 & 5 & 50 & 2011-02-26 & Private         &   28 & Private & 39.28612 & -6.972403 & Kwa Namaj      & 0 & Wami / Ruvu     & Mwandege   & Pwani       & 60 & 43 & Mkuranga & Vikindu          & 6922 & True & GeoData Consultants Ltd & Private operator &                        & False &    0 & submersible       & submersible & submersible & private operator & commercial & pay per bucket & per bucket & soft  & good  & enough       & enough       & machine dbh  & borehole     & groundwater & communal standpipe multiple & communal standpipe & functional    \\\\\n",
       "\\end{tabular}\n"
      ],
      "text/markdown": [
       "\n",
       "A data.frame: 6 × 41\n",
       "\n",
       "| <!--/--> | id &lt;int&gt; | amount_tsh &lt;dbl&gt; | date_recorded &lt;fct&gt; | funder &lt;fct&gt; | gps_height &lt;int&gt; | installer &lt;fct&gt; | longitude &lt;dbl&gt; | latitude &lt;dbl&gt; | wpt_name &lt;fct&gt; | num_private &lt;int&gt; | basin &lt;fct&gt; | subvillage &lt;fct&gt; | region &lt;fct&gt; | region_code &lt;int&gt; | district_code &lt;int&gt; | lga &lt;fct&gt; | ward &lt;fct&gt; | population &lt;int&gt; | public_meeting &lt;fct&gt; | recorded_by &lt;fct&gt; | scheme_management &lt;fct&gt; | scheme_name &lt;fct&gt; | permit &lt;fct&gt; | construction_year &lt;int&gt; | extraction_type &lt;fct&gt; | extraction_type_group &lt;fct&gt; | extraction_type_class &lt;fct&gt; | management &lt;fct&gt; | management_group &lt;fct&gt; | payment &lt;fct&gt; | payment_type &lt;fct&gt; | water_quality &lt;fct&gt; | quality_group &lt;fct&gt; | quantity &lt;fct&gt; | quantity_group &lt;fct&gt; | source &lt;fct&gt; | source_type &lt;fct&gt; | source_class &lt;fct&gt; | waterpoint_type &lt;fct&gt; | waterpoint_type_group &lt;fct&gt; | status_group &lt;fct&gt; |\n",
       "|---|---|---|---|---|---|---|---|---|---|---|---|---|---|---|---|---|---|---|---|---|---|---|---|---|---|---|---|---|---|---|---|---|---|---|---|---|---|---|---|---|---|\n",
       "| 1 | 0 |  0 | 2012-11-13 | Tasaf           |    0 | TASAF   | 33.12583 | -5.118154 | Mratibu        | 0 | Lake Tanganyika | Majengo    | Tabora      | 14 |  3 | Uyui     | Igalula          |    0 | <!----> | GeoData Consultants Ltd | VWC              | <!----> | True  |    0 | afridev           | afridev     | handpump    | vwc              | user-group | unknown        | unknown    | milky | milky | enough       | enough       | shallow well | shallow well | groundwater | hand pump                   | hand pump          | non functional |\n",
       "| 2 | 1 |  0 | 2011-03-05 | Shipo           | 1978 | SHIPO   | 34.77072 | -9.395642 | none           | 0 | Rufiji          | Magoda C   | Iringa      | 11 |  4 | Njombe   | Uwemba           |   20 | True | GeoData Consultants Ltd | <!----> | <!----> | False | 2008 | other - rope pump | rope pump   | rope pump   | vwc              | user-group | never pay      | never pay  | soft  | good  | enough       | enough       | shallow well | shallow well | groundwater | hand pump                   | hand pump          | functional     |\n",
       "| 3 | 2 |  0 | 2011-03-27 | Lvia            |    0 | LVIA    | 36.11506 | -6.279268 | Bombani        | 0 | Wami / Ruvu     | Songambele | Dodoma      |  1 |  4 | Chamwino | Msamalo          |    0 | True | GeoData Consultants Ltd | VWC              | Mgun                   | True  |    0 | mono              | mono        | motorpump   | vwc              | user-group | pay per bucket | per bucket | soft  | good  | insufficient | insufficient | machine dbh  | borehole     | groundwater | communal standpipe multiple | communal standpipe | functional     |\n",
       "| 4 | 3 | 10 | 2013-06-03 | Germany Republi | 1639 | CES     | 37.14743 | -3.187555 | Area 7 Namba 5 | 0 | Pangani         | Urereni    | Kilimanjaro |  3 |  5 | Hai      | Masama Magharibi |   25 | True | GeoData Consultants Ltd | Water Board      | Losaa-Kia water supply | True  | 1999 | gravity           | gravity     | gravity     | water board      | user-group | pay per bucket | per bucket | soft  | good  | enough       | enough       | spring       | spring       | groundwater | communal standpipe          | communal standpipe | functional     |\n",
       "| 5 | 4 |  0 | 2011-03-22 | Cmsr            |    0 | CMSR    | 36.16489 | -6.099289 | Ezeleda        | 0 | Wami / Ruvu     | Maata A    | Dodoma      |  1 |  4 | Chamwino | Majeleko         |    0 | True | GeoData Consultants Ltd | VWC              | <!----> | True  |    0 | nira/tanira       | nira/tanira | handpump    | vwc              | user-group | unknown        | unknown    | soft  | good  | dry          | dry          | shallow well | shallow well | groundwater | hand pump                   | hand pump          | non functional |\n",
       "| 6 | 5 | 50 | 2011-02-26 | Private         |   28 | Private | 39.28612 | -6.972403 | Kwa Namaj      | 0 | Wami / Ruvu     | Mwandege   | Pwani       | 60 | 43 | Mkuranga | Vikindu          | 6922 | True | GeoData Consultants Ltd | Private operator | <!----> | False |    0 | submersible       | submersible | submersible | private operator | commercial | pay per bucket | per bucket | soft  | good  | enough       | enough       | machine dbh  | borehole     | groundwater | communal standpipe multiple | communal standpipe | functional     |\n",
       "\n"
      ],
      "text/plain": [
       "  id amount_tsh date_recorded funder          gps_height installer longitude\n",
       "1 0   0         2012-11-13    Tasaf              0       TASAF     33.12583 \n",
       "2 1   0         2011-03-05    Shipo           1978       SHIPO     34.77072 \n",
       "3 2   0         2011-03-27    Lvia               0       LVIA      36.11506 \n",
       "4 3  10         2013-06-03    Germany Republi 1639       CES       37.14743 \n",
       "5 4   0         2011-03-22    Cmsr               0       CMSR      36.16489 \n",
       "6 5  50         2011-02-26    Private           28       Private   39.28612 \n",
       "  latitude  wpt_name       num_private basin           subvillage region     \n",
       "1 -5.118154 Mratibu        0           Lake Tanganyika Majengo    Tabora     \n",
       "2 -9.395642 none           0           Rufiji          Magoda C   Iringa     \n",
       "3 -6.279268 Bombani        0           Wami / Ruvu     Songambele Dodoma     \n",
       "4 -3.187555 Area 7 Namba 5 0           Pangani         Urereni    Kilimanjaro\n",
       "5 -6.099289 Ezeleda        0           Wami / Ruvu     Maata A    Dodoma     \n",
       "6 -6.972403 Kwa Namaj      0           Wami / Ruvu     Mwandege   Pwani      \n",
       "  region_code district_code lga      ward             population public_meeting\n",
       "1 14           3            Uyui     Igalula             0                     \n",
       "2 11           4            Njombe   Uwemba             20       True          \n",
       "3  1           4            Chamwino Msamalo             0       True          \n",
       "4  3           5            Hai      Masama Magharibi   25       True          \n",
       "5  1           4            Chamwino Majeleko            0       True          \n",
       "6 60          43            Mkuranga Vikindu          6922       True          \n",
       "  recorded_by             scheme_management scheme_name            permit\n",
       "1 GeoData Consultants Ltd VWC                                      True  \n",
       "2 GeoData Consultants Ltd                                          False \n",
       "3 GeoData Consultants Ltd VWC               Mgun                   True  \n",
       "4 GeoData Consultants Ltd Water Board       Losaa-Kia water supply True  \n",
       "5 GeoData Consultants Ltd VWC                                      True  \n",
       "6 GeoData Consultants Ltd Private operator                         False \n",
       "  construction_year extraction_type   extraction_type_group\n",
       "1    0              afridev           afridev              \n",
       "2 2008              other - rope pump rope pump            \n",
       "3    0              mono              mono                 \n",
       "4 1999              gravity           gravity              \n",
       "5    0              nira/tanira       nira/tanira          \n",
       "6    0              submersible       submersible          \n",
       "  extraction_type_class management       management_group payment       \n",
       "1 handpump              vwc              user-group       unknown       \n",
       "2 rope pump             vwc              user-group       never pay     \n",
       "3 motorpump             vwc              user-group       pay per bucket\n",
       "4 gravity               water board      user-group       pay per bucket\n",
       "5 handpump              vwc              user-group       unknown       \n",
       "6 submersible           private operator commercial       pay per bucket\n",
       "  payment_type water_quality quality_group quantity     quantity_group\n",
       "1 unknown      milky         milky         enough       enough        \n",
       "2 never pay    soft          good          enough       enough        \n",
       "3 per bucket   soft          good          insufficient insufficient  \n",
       "4 per bucket   soft          good          enough       enough        \n",
       "5 unknown      soft          good          dry          dry           \n",
       "6 per bucket   soft          good          enough       enough        \n",
       "  source       source_type  source_class waterpoint_type            \n",
       "1 shallow well shallow well groundwater  hand pump                  \n",
       "2 shallow well shallow well groundwater  hand pump                  \n",
       "3 machine dbh  borehole     groundwater  communal standpipe multiple\n",
       "4 spring       spring       groundwater  communal standpipe         \n",
       "5 shallow well shallow well groundwater  hand pump                  \n",
       "6 machine dbh  borehole     groundwater  communal standpipe multiple\n",
       "  waterpoint_type_group status_group  \n",
       "1 hand pump             non functional\n",
       "2 hand pump             functional    \n",
       "3 communal standpipe    functional    \n",
       "4 communal standpipe    functional    \n",
       "5 hand pump             non functional\n",
       "6 communal standpipe    functional    "
      ]
     },
     "metadata": {},
     "output_type": "display_data"
    }
   ],
   "source": [
    "data <- merge(X,Y)\n",
    "dim(data)\n",
    "head(data)\n",
    "demo_data <- data"
   ]
  },
  {
   "cell_type": "markdown",
   "metadata": {},
   "source": [
    "By representing the number of missing values for each categorical variable, it stands out that the feature $scheme\\_name$ has nearly 50% of missing values. The missing values will be treated in several different ways :\n",
    "- removing the samples with the missing values\n",
    "- considering the missing values as a category on their own\n",
    "- keeping only the relevant classes of the problematic features through one hot encoding (for example discard the column resulting from the none class in the one hot encoding but keeping the rest)"
   ]
  },
  {
   "cell_type": "code",
   "execution_count": 17,
   "metadata": {},
   "outputs": [
    {
     "data": {
      "text/html": [
       "<table class=\"dataframe\">\n",
       "<caption>A data.frame: 8 × 3</caption>\n",
       "<thead>\n",
       "\t<tr><th></th><th scope=col>variable</th><th scope=col>empty_count</th><th scope=col>percentage</th></tr>\n",
       "\t<tr><th></th><th scope=col>&lt;chr&gt;</th><th scope=col>&lt;int&gt;</th><th scope=col>&lt;dbl&gt;</th></tr>\n",
       "</thead>\n",
       "<tbody>\n",
       "\t<tr><th scope=row>2</th><td>funder           </td><td> 3635</td><td>0.061195286</td></tr>\n",
       "\t<tr><th scope=row>3</th><td>installer        </td><td> 3655</td><td>0.061531987</td></tr>\n",
       "\t<tr><th scope=row>4</th><td>wpt_name         </td><td> 3563</td><td>0.059983165</td></tr>\n",
       "\t<tr><th scope=row>6</th><td>subvillage       </td><td>  371</td><td>0.006245791</td></tr>\n",
       "\t<tr><th scope=row>10</th><td>public_meeting   </td><td> 3334</td><td>0.056127946</td></tr>\n",
       "\t<tr><th scope=row>12</th><td>scheme_management</td><td> 3877</td><td>0.065269360</td></tr>\n",
       "\t<tr><th scope=row>13</th><td>scheme_name      </td><td>28191</td><td>0.474595960</td></tr>\n",
       "\t<tr><th scope=row>14</th><td>permit           </td><td> 3056</td><td>0.051447811</td></tr>\n",
       "</tbody>\n",
       "</table>\n"
      ],
      "text/latex": [
       "A data.frame: 8 × 3\n",
       "\\begin{tabular}{r|lll}\n",
       "  & variable & empty\\_count & percentage\\\\\n",
       "  & <chr> & <int> & <dbl>\\\\\n",
       "\\hline\n",
       "\t2 & funder            &  3635 & 0.061195286\\\\\n",
       "\t3 & installer         &  3655 & 0.061531987\\\\\n",
       "\t4 & wpt\\_name          &  3563 & 0.059983165\\\\\n",
       "\t6 & subvillage        &   371 & 0.006245791\\\\\n",
       "\t10 & public\\_meeting    &  3334 & 0.056127946\\\\\n",
       "\t12 & scheme\\_management &  3877 & 0.065269360\\\\\n",
       "\t13 & scheme\\_name       & 28191 & 0.474595960\\\\\n",
       "\t14 & permit            &  3056 & 0.051447811\\\\\n",
       "\\end{tabular}\n"
      ],
      "text/markdown": [
       "\n",
       "A data.frame: 8 × 3\n",
       "\n",
       "| <!--/--> | variable &lt;chr&gt; | empty_count &lt;int&gt; | percentage &lt;dbl&gt; |\n",
       "|---|---|---|---|\n",
       "| 2 | funder            |  3635 | 0.061195286 |\n",
       "| 3 | installer         |  3655 | 0.061531987 |\n",
       "| 4 | wpt_name          |  3563 | 0.059983165 |\n",
       "| 6 | subvillage        |   371 | 0.006245791 |\n",
       "| 10 | public_meeting    |  3334 | 0.056127946 |\n",
       "| 12 | scheme_management |  3877 | 0.065269360 |\n",
       "| 13 | scheme_name       | 28191 | 0.474595960 |\n",
       "| 14 | permit            |  3056 | 0.051447811 |\n",
       "\n"
      ],
      "text/plain": [
       "   variable          empty_count percentage \n",
       "2  funder             3635       0.061195286\n",
       "3  installer          3655       0.061531987\n",
       "4  wpt_name           3563       0.059983165\n",
       "6  subvillage          371       0.006245791\n",
       "10 public_meeting     3334       0.056127946\n",
       "12 scheme_management  3877       0.065269360\n",
       "13 scheme_name       28191       0.474595960\n",
       "14 permit             3056       0.051447811"
      ]
     },
     "metadata": {},
     "output_type": "display_data"
    }
   ],
   "source": [
    "empty_count <- c()\n",
    "for (c in colnames(data[,categorical_variables])) { \n",
    "    a <- dim(data[data[,c] == \"none\" | data[,c] == \"\",])[1]\n",
    "    empty_count <- c(empty_count,a)\n",
    "}\n",
    "\n",
    "df <- data.frame(variable=colnames(data[,categorical_variables]),empty_count=empty_count,percentage=empty_count/nrow(data))\n",
    "df[df$empty_count != 0,]"
   ]
  },
  {
   "cell_type": "code",
   "execution_count": null,
   "metadata": {},
   "outputs": [],
   "source": [
    "barplot(table(data[,scheme_name]))"
   ]
  },
  {
   "cell_type": "code",
   "execution_count": 18,
   "metadata": {},
   "outputs": [],
   "source": [
    "remove_scheme_name <- function(df) {\n",
    "    return(subset(df,select=-c(scheme_name)))\n",
    "}"
   ]
  },
  {
   "cell_type": "markdown",
   "metadata": {},
   "source": [
    "## Dataset balancing"
   ]
  },
  {
   "cell_type": "markdown",
   "metadata": {},
   "source": [
    "In order to avoid the previously described situation where the models will predict only the very frequent classes, some dataset balancing can be done. It is important to understand this does not necessarily yield better results, but it could, and this is why it was implemented. Indeed, sometimes the frequency of apparition of certain classes is actually very relevant, and moreover if the dataset is large enough the minority class might be representative enough in the sense that it contains all relevant information in its features to be classified.\n",
    "\n",
    "The 2 dataset balancing techniques that were tested are SMOTE and oversampling."
   ]
  },
  {
   "cell_type": "markdown",
   "metadata": {},
   "source": [
    "### SMOTE"
   ]
  },
  {
   "cell_type": "code",
   "execution_count": null,
   "metadata": {},
   "outputs": [],
   "source": [
    "install.packages(\"performanceEstimation\")"
   ]
  },
  {
   "cell_type": "code",
   "execution_count": 20,
   "metadata": {},
   "outputs": [
    {
     "name": "stderr",
     "output_type": "stream",
     "text": [
      "Warning message:\n",
      "\"package 'performanceEstimation' was built under R version 4.0.5\"\n"
     ]
    }
   ],
   "source": [
    "library(performanceEstimation)"
   ]
  },
  {
   "cell_type": "code",
   "execution_count": 21,
   "metadata": {},
   "outputs": [],
   "source": [
    "create_smote_dataset <- function(df) {\n",
    "    df <- smote(status_group ~ ., df, perc.over = 3,perc.under=3)\n",
    "    return(df)\n",
    "}"
   ]
  },
  {
   "cell_type": "code",
   "execution_count": null,
   "metadata": {},
   "outputs": [],
   "source": [
    "demo_data <- create_smote_dataset(demo_data)"
   ]
  },
  {
   "cell_type": "code",
   "execution_count": null,
   "metadata": {},
   "outputs": [],
   "source": [
    "barplot(table(demo_data$status_group))"
   ]
  },
  {
   "cell_type": "code",
   "execution_count": null,
   "metadata": {},
   "outputs": [],
   "source": [
    "dim(demo_data)"
   ]
  },
  {
   "cell_type": "markdown",
   "metadata": {},
   "source": [
    "### Over sampling"
   ]
  },
  {
   "cell_type": "code",
   "execution_count": 22,
   "metadata": {},
   "outputs": [],
   "source": [
    "create_over_sampling_dataset <- function(df) {\n",
    "    to_dup <- df[data$status_group == \"functional needs repair\",]\n",
    "    for(i in 1:4) {\n",
    "        df <- rbind(df,to_dup)\n",
    "    }\n",
    "    to_remove <- which(data$status_group == \"functional\")[1:10000]\n",
    "    #print(to_remove)\n",
    "    return(df[-to_remove,])\n",
    "}"
   ]
  },
  {
   "cell_type": "code",
   "execution_count": null,
   "metadata": {},
   "outputs": [],
   "source": [
    "demo_data <- data"
   ]
  },
  {
   "cell_type": "code",
   "execution_count": null,
   "metadata": {},
   "outputs": [],
   "source": [
    "dem <- create_over_sampling_dataset(demo_data)"
   ]
  },
  {
   "cell_type": "code",
   "execution_count": null,
   "metadata": {},
   "outputs": [],
   "source": [
    "barplot(table(dem$status_group))"
   ]
  },
  {
   "cell_type": "code",
   "execution_count": null,
   "metadata": {},
   "outputs": [],
   "source": [
    "dim(demo_data)"
   ]
  },
  {
   "cell_type": "markdown",
   "metadata": {},
   "source": [
    "## Handle categorical variables"
   ]
  },
  {
   "cell_type": "markdown",
   "metadata": {},
   "source": [
    "All the categorical variables present in the merged dataset are presented below."
   ]
  },
  {
   "cell_type": "code",
   "execution_count": 23,
   "metadata": {},
   "outputs": [
    {
     "data": {
      "text/html": [
       "<style>\n",
       ".list-inline {list-style: none; margin:0; padding: 0}\n",
       ".list-inline>li {display: inline-block}\n",
       ".list-inline>li:not(:last-child)::after {content: \"\\00b7\"; padding: 0 .5ex}\n",
       "</style>\n",
       "<ol class=list-inline><li>'date_recorded'</li><li>'funder'</li><li>'installer'</li><li>'wpt_name'</li><li>'basin'</li><li>'subvillage'</li><li>'region'</li><li>'lga'</li><li>'ward'</li><li>'public_meeting'</li><li>'recorded_by'</li><li>'scheme_management'</li><li>'scheme_name'</li><li>'permit'</li><li>'extraction_type'</li><li>'extraction_type_group'</li><li>'extraction_type_class'</li><li>'management'</li><li>'management_group'</li><li>'payment'</li><li>'payment_type'</li><li>'water_quality'</li><li>'quality_group'</li><li>'quantity'</li><li>'quantity_group'</li><li>'source'</li><li>'source_type'</li><li>'source_class'</li><li>'waterpoint_type'</li><li>'waterpoint_type_group'</li><li>'status_group'</li></ol>\n"
      ],
      "text/latex": [
       "\\begin{enumerate*}\n",
       "\\item 'date\\_recorded'\n",
       "\\item 'funder'\n",
       "\\item 'installer'\n",
       "\\item 'wpt\\_name'\n",
       "\\item 'basin'\n",
       "\\item 'subvillage'\n",
       "\\item 'region'\n",
       "\\item 'lga'\n",
       "\\item 'ward'\n",
       "\\item 'public\\_meeting'\n",
       "\\item 'recorded\\_by'\n",
       "\\item 'scheme\\_management'\n",
       "\\item 'scheme\\_name'\n",
       "\\item 'permit'\n",
       "\\item 'extraction\\_type'\n",
       "\\item 'extraction\\_type\\_group'\n",
       "\\item 'extraction\\_type\\_class'\n",
       "\\item 'management'\n",
       "\\item 'management\\_group'\n",
       "\\item 'payment'\n",
       "\\item 'payment\\_type'\n",
       "\\item 'water\\_quality'\n",
       "\\item 'quality\\_group'\n",
       "\\item 'quantity'\n",
       "\\item 'quantity\\_group'\n",
       "\\item 'source'\n",
       "\\item 'source\\_type'\n",
       "\\item 'source\\_class'\n",
       "\\item 'waterpoint\\_type'\n",
       "\\item 'waterpoint\\_type\\_group'\n",
       "\\item 'status\\_group'\n",
       "\\end{enumerate*}\n"
      ],
      "text/markdown": [
       "1. 'date_recorded'\n",
       "2. 'funder'\n",
       "3. 'installer'\n",
       "4. 'wpt_name'\n",
       "5. 'basin'\n",
       "6. 'subvillage'\n",
       "7. 'region'\n",
       "8. 'lga'\n",
       "9. 'ward'\n",
       "10. 'public_meeting'\n",
       "11. 'recorded_by'\n",
       "12. 'scheme_management'\n",
       "13. 'scheme_name'\n",
       "14. 'permit'\n",
       "15. 'extraction_type'\n",
       "16. 'extraction_type_group'\n",
       "17. 'extraction_type_class'\n",
       "18. 'management'\n",
       "19. 'management_group'\n",
       "20. 'payment'\n",
       "21. 'payment_type'\n",
       "22. 'water_quality'\n",
       "23. 'quality_group'\n",
       "24. 'quantity'\n",
       "25. 'quantity_group'\n",
       "26. 'source'\n",
       "27. 'source_type'\n",
       "28. 'source_class'\n",
       "29. 'waterpoint_type'\n",
       "30. 'waterpoint_type_group'\n",
       "31. 'status_group'\n",
       "\n",
       "\n"
      ],
      "text/plain": [
       " [1] \"date_recorded\"         \"funder\"                \"installer\"            \n",
       " [4] \"wpt_name\"              \"basin\"                 \"subvillage\"           \n",
       " [7] \"region\"                \"lga\"                   \"ward\"                 \n",
       "[10] \"public_meeting\"        \"recorded_by\"           \"scheme_management\"    \n",
       "[13] \"scheme_name\"           \"permit\"                \"extraction_type\"      \n",
       "[16] \"extraction_type_group\" \"extraction_type_class\" \"management\"           \n",
       "[19] \"management_group\"      \"payment\"               \"payment_type\"         \n",
       "[22] \"water_quality\"         \"quality_group\"         \"quantity\"             \n",
       "[25] \"quantity_group\"        \"source\"                \"source_type\"          \n",
       "[28] \"source_class\"          \"waterpoint_type\"       \"waterpoint_type_group\"\n",
       "[31] \"status_group\"         "
      ]
     },
     "metadata": {},
     "output_type": "display_data"
    }
   ],
   "source": [
    "categorical_variables <- which(sapply(data[1,],class)==\"factor\")\n",
    "colnames(data[,categorical_variables])"
   ]
  },
  {
   "cell_type": "markdown",
   "metadata": {},
   "source": [
    "### Useless features"
   ]
  },
  {
   "cell_type": "markdown",
   "metadata": {},
   "source": [
    "A check is made to ensure all categorical variables take more than 1 possible value, otherwise they are not necessary since they do not bring any information. The following code shows that the feature $recorded\\_by$ contains only 1 factor, which is $GeoData Consultants Ltd$."
   ]
  },
  {
   "cell_type": "code",
   "execution_count": 24,
   "metadata": {},
   "outputs": [
    {
     "name": "stdout",
     "output_type": "stream",
     "text": [
      "[1] \"recorded_by\"\n",
      "[1] GeoData Consultants Ltd\n",
      "Levels: GeoData Consultants Ltd\n"
     ]
    }
   ],
   "source": [
    "for (n in colnames(data[,categorical_variables])) {\n",
    "    l <- nlevels(data[,n])\n",
    "    if (l < 2) {\n",
    "        print(n)\n",
    "        print(data[1,n])\n",
    "    }\n",
    "}"
   ]
  },
  {
   "cell_type": "code",
   "execution_count": 25,
   "metadata": {},
   "outputs": [],
   "source": [
    "remove_useless_features <- function(df) {\n",
    "    df <- subset(df,select=-c(recorded_by))\n",
    "    return(df)\n",
    "}"
   ]
  },
  {
   "cell_type": "code",
   "execution_count": null,
   "metadata": {},
   "outputs": [],
   "source": [
    "demo_data <- remove_useless_features(demo_data)"
   ]
  },
  {
   "cell_type": "code",
   "execution_count": null,
   "metadata": {},
   "outputs": [],
   "source": [
    "dim(demo_data)"
   ]
  },
  {
   "cell_type": "markdown",
   "metadata": {},
   "source": [
    "## Boolean features"
   ]
  },
  {
   "cell_type": "markdown",
   "metadata": {},
   "source": [
    "By analyzing the features that contain 3 classes, we see that some of them are boolean features ($public\\_meeting$ and $permit$), which take the values True, False or an empty string. There is also a feature $source_class$ that contains only 2 classes and an $unknown$ class. By analyzing the distribution of the different classes of these features, we can see that the missing values are always very minoritary, we could therefore remove the problematic samples and encode these features as boolean 0-1 features."
   ]
  },
  {
   "cell_type": "code",
   "execution_count": 26,
   "metadata": {},
   "outputs": [
    {
     "name": "stdout",
     "output_type": "stream",
     "text": [
      "[1] \"public_meeting\"\n",
      "[1] \n",
      "Levels:  False True\n",
      "[1] \"permit\"\n",
      "[1] True\n",
      "Levels:  False True\n"
     ]
    },
    {
     "data": {
      "image/png": "[encoded data removed]",
      "text/plain": [
       "plot without title"
      ]
     },
     "metadata": {
      "image/png": {
       "height": 420,
       "width": 420
      }
     },
     "output_type": "display_data"
    },
    {
     "name": "stdout",
     "output_type": "stream",
     "text": [
      "[1] \"source_class\"\n",
      "[1] groundwater\n",
      "Levels: groundwater surface unknown\n"
     ]
    },
    {
     "data": {
      "image/png": "[encoded data removed]",
      "text/plain": [
       "plot without title"
      ]
     },
     "metadata": {
      "image/png": {
       "height": 420,
       "width": 420
      }
     },
     "output_type": "display_data"
    },
    {
     "name": "stdout",
     "output_type": "stream",
     "text": [
      "[1] \"status_group\"\n",
      "[1] non functional\n",
      "Levels: functional functional needs repair non functional\n"
     ]
    },
    {
     "data": {
      "image/png": "[encoded data removed]",
      "text/plain": [
       "plot without title"
      ]
     },
     "metadata": {
      "image/png": {
       "height": 420,
       "width": 420
      }
     },
     "output_type": "display_data"
    },
    {
     "data": {
      "image/png": "[encoded data removed]",
      "text/plain": [
       "plot without title"
      ]
     },
     "metadata": {
      "image/png": {
       "height": 420,
       "width": 420
      }
     },
     "output_type": "display_data"
    }
   ],
   "source": [
    "for (n in colnames(data[,categorical_variables])) {\n",
    "    l <- nlevels(data[,n])\n",
    "    if (l == 3) {\n",
    "        print(n)\n",
    "        print(data[1,n])\n",
    "        barplot(table(data[,n]))\n",
    "    }\n",
    "}"
   ]
  },
  {
   "cell_type": "code",
   "execution_count": 27,
   "metadata": {},
   "outputs": [],
   "source": [
    "create_binary_features <- function(df) {\n",
    "    df <- df[df$public_meeting != \"\", ] \n",
    "    levels(df$public_meeting) <- c(levels(df$public_meeting), \"1\",\"0\") \n",
    "    df$public_meeting[df$public_meeting == \"True\"] <- 1\n",
    "    df$public_meeting[df$public_meeting != \"1\"] <- 0\n",
    "    df <- transform(df, public_meeting = as.integer(as.character(public_meeting)))\n",
    "    \n",
    "    df <- df[df$permit != \"\", ] \n",
    "    levels(df$permit) <- c(levels(df$permit), \"1\",\"0\") \n",
    "    df$permit[df$permit == \"True\"] <- 1\n",
    "    df$permit[df$permit != \"1\"] <- 0\n",
    "    df <- transform(df, permit = as.integer(as.character(permit)))\n",
    "    \n",
    "    df <- df[df$source_class != \"unknown\", ] \n",
    "    levels(df$source_class) <- c(levels(df$source_class), \"1\",\"0\") \n",
    "    df$source_class[df$source_class == \"groundwater\"] <- 1\n",
    "    df$source_class[df$source_class != \"1\"] <- 0\n",
    "    df <- transform(df, source_class = as.integer(as.character(source_class)))\n",
    "    return(df)\n",
    "}"
   ]
  },
  {
   "cell_type": "markdown",
   "metadata": {},
   "source": [
    "### Convert the dates"
   ]
  },
  {
   "cell_type": "markdown",
   "metadata": {},
   "source": [
    "The feature $date\\_recorded$ is a categorical variable but can easily be converted into a numerical one."
   ]
  },
  {
   "cell_type": "code",
   "execution_count": 29,
   "metadata": {},
   "outputs": [],
   "source": [
    "convert_date_to_numeric <- function(df) {\n",
    "    df$date_recorded <- as.numeric(as.Date(df$date_recorded))\n",
    "    return(df)\n",
    "}"
   ]
  },
  {
   "cell_type": "code",
   "execution_count": null,
   "metadata": {},
   "outputs": [],
   "source": [
    "demo_data <- convert_date_to_numeric(demo_data)"
   ]
  },
  {
   "cell_type": "code",
   "execution_count": null,
   "metadata": {
    "scrolled": true
   },
   "outputs": [],
   "source": [
    "head(demo_data,20)"
   ]
  },
  {
   "cell_type": "markdown",
   "metadata": {},
   "source": [
    "### Handpicking redundant features"
   ]
  },
  {
   "cell_type": "markdown",
   "metadata": {},
   "source": [
    "Some features are noticeably redudant at first sight, and we can therefore reduce the number of features."
   ]
  },
  {
   "cell_type": "code",
   "execution_count": null,
   "metadata": {},
   "outputs": [],
   "source": [
    "table(data$extraction_type)\n",
    "table(data$extraction_type_group)\n",
    "table(data$extraction_type_class)"
   ]
  },
  {
   "cell_type": "code",
   "execution_count": null,
   "metadata": {},
   "outputs": [],
   "source": [
    "table(data$management)\n",
    "table(data$scheme_management)"
   ]
  },
  {
   "cell_type": "code",
   "execution_count": null,
   "metadata": {},
   "outputs": [],
   "source": [
    "table(data$waterpoint_type)\n",
    "table(data$waterpoint_type_group)"
   ]
  },
  {
   "cell_type": "code",
   "execution_count": null,
   "metadata": {},
   "outputs": [],
   "source": [
    "table(data$source)\n",
    "table(data$source_type)"
   ]
  },
  {
   "cell_type": "code",
   "execution_count": null,
   "metadata": {},
   "outputs": [],
   "source": [
    "table(data$quantity)\n",
    "table(data$quantity_group)"
   ]
  },
  {
   "cell_type": "code",
   "execution_count": null,
   "metadata": {},
   "outputs": [],
   "source": [
    "table(data$water_quality)\n",
    "table(data$quality_group)"
   ]
  },
  {
   "cell_type": "code",
   "execution_count": null,
   "metadata": {},
   "outputs": [],
   "source": [
    "table(data$payment)\n",
    "table(data$payment_type)"
   ]
  },
  {
   "cell_type": "code",
   "execution_count": 30,
   "metadata": {},
   "outputs": [],
   "source": [
    "remove_redundant_features <- function(df) {\n",
    "    df <- subset(df,select=-c(extraction_type,scheme_management,waterpoint_type_group,source_type,quantity_group,quality_group,payment))\n",
    "    return(df)\n",
    "}"
   ]
  },
  {
   "cell_type": "markdown",
   "metadata": {},
   "source": [
    "### Handle the coordinates"
   ]
  },
  {
   "cell_type": "markdown",
   "metadata": {},
   "source": [
    "The dataset contains $longitude$ and $latitude$ features which can be useful in the sense that the outcome of the prediction might depend on if the water pumps are located in a similar region."
   ]
  },
  {
   "cell_type": "code",
   "execution_count": null,
   "metadata": {},
   "outputs": [],
   "source": [
    "plot(data$longitude,data$latitude)"
   ]
  },
  {
   "cell_type": "markdown",
   "metadata": {},
   "source": [
    "There seems to be some outliers having coordinates (0,0), which we will remove since they represent null values :"
   ]
  },
  {
   "cell_type": "code",
   "execution_count": 31,
   "metadata": {},
   "outputs": [],
   "source": [
    "discard_unrealistic_coordinates <- function(df) {\n",
    "    df <- df[df$longitude > 20 & df$latitude <0,]\n",
    "    return(df)\n",
    "}"
   ]
  },
  {
   "cell_type": "code",
   "execution_count": null,
   "metadata": {},
   "outputs": [],
   "source": [
    "demo_data <- discard_unrealistic_coordinates(demo_data)"
   ]
  },
  {
   "cell_type": "code",
   "execution_count": null,
   "metadata": {},
   "outputs": [],
   "source": [
    "dim(demo_data)"
   ]
  },
  {
   "cell_type": "markdown",
   "metadata": {},
   "source": [
    "The new longitudes and latitudes, after filtering, are represented below :"
   ]
  },
  {
   "cell_type": "code",
   "execution_count": null,
   "metadata": {},
   "outputs": [],
   "source": [
    "plot(demo_data$longitude,demo_data$latitude)"
   ]
  },
  {
   "cell_type": "code",
   "execution_count": null,
   "metadata": {},
   "outputs": [],
   "source": [
    "install.packages(\"factoextra\")\n"
   ]
  },
  {
   "cell_type": "code",
   "execution_count": 32,
   "metadata": {},
   "outputs": [
    {
     "name": "stderr",
     "output_type": "stream",
     "text": [
      "Warning message:\n",
      "\"package 'factoextra' was built under R version 4.0.5\"\n",
      "Loading required package: ggplot2\n",
      "\n",
      "Warning message:\n",
      "\"package 'ggplot2' was built under R version 4.0.5\"\n",
      "\n",
      "Attaching package: 'ggplot2'\n",
      "\n",
      "\n",
      "The following object is masked from 'package:randomForest':\n",
      "\n",
      "    margin\n",
      "\n",
      "\n",
      "Welcome! Want to learn more? See two factoextra-related books at https://goo.gl/ve3WBa\n",
      "\n"
     ]
    }
   ],
   "source": [
    "library(factoextra)"
   ]
  },
  {
   "cell_type": "markdown",
   "metadata": {},
   "source": [
    "Although there is already an attribute $region\\_code$ in the dataset, we might use these coordinates to our advantage by defining a custom notion of spaciality between the water pumps. Using k-means clustering, we can separate the pumps into k different geographical regions based on $longitude$ and $latitude$. The advangate of this method compared to the $region\\_code$ feature is that we can choose how small or large the different regions are."
   ]
  },
  {
   "cell_type": "code",
   "execution_count": 33,
   "metadata": {},
   "outputs": [],
   "source": [
    "generate_regions <- function(df) {\n",
    "    set.seed(19)\n",
    "    coordinates <- as.data.frame(cbind(df$longitude,df$latitude))\n",
    "    km_res <- kmeans(coordinates,8)\n",
    "    df <- subset(df,select=-c(longitude,latitude))\n",
    "    df$region_kmeans <- km_res$cluster\n",
    "    write.csv(km_res$centers,\"cluster_centers.csv\")\n",
    "    return(df)\n",
    "}\n",
    "#head(km.res$cluster,20)"
   ]
  },
  {
   "cell_type": "code",
   "execution_count": null,
   "metadata": {},
   "outputs": [],
   "source": [
    "best_correlation <- 0\n",
    "best_seed <- 1\n",
    "correlations <- numeric(length(5:40))\n",
    "dum <- dummy.data.frame(data[,ncol(data),drop=F],names=c(\"status_group\"), sep=\"_\")\n",
    "coordinates <- as.data.frame(cbind(data$longitude,data$latitude))\n",
    "\n",
    "for(k in 5:40) {\n",
    "    for(s in 1:30) {\n",
    "        set.seed(s)\n",
    "        km_res <- kmeans(coordinates,k)\n",
    "        region_kmeans <- km_res$cluster\n",
    "\n",
    "        correlation <- 0\n",
    "        for(i in 1:ncol(dum)) {\n",
    "            correlation <- correlation + abs(cor(region_kmeans,dum[,i]))\n",
    "        }\n",
    "        correlations[k] <- correlations[k] + correlation\n",
    "        if(correlation > best_correlation) {\n",
    "            best_k <- k\n",
    "            best_correlation <- correlation\n",
    "            best_seed <- s\n",
    "        }\n",
    "    }\n",
    "}\n"
   ]
  },
  {
   "cell_type": "code",
   "execution_count": null,
   "metadata": {},
   "outputs": [],
   "source": [
    "best_k\n",
    "best_correlation\n",
    "best_seed"
   ]
  },
  {
   "cell_type": "code",
   "execution_count": null,
   "metadata": {},
   "outputs": [],
   "source": [
    "mean_cor <- correlations / 30\n",
    "plot(5:40,mean_cor[5:40],xlab=\"Number of clusters\",ylab=\"Averaged summed correlation\",col = \"blue\",pch=19)"
   ]
  },
  {
   "cell_type": "code",
   "execution_count": 34,
   "metadata": {},
   "outputs": [],
   "source": [
    "closest_cluster <- function(x) {\n",
    "    centers <- read.csv(\"cluster_centers.csv\")\n",
    "    centers <- centers[,c(\"V1\",\"V2\")]\n",
    "    #print(centers)\n",
    "    #print(paste(\"x:\",x))\n",
    "    cluster_dist <- apply(centers, 1, function(y) sqrt(sum((x-y)^2)))\n",
    "    return(which.min(cluster_dist)[1])\n",
    "}"
   ]
  },
  {
   "cell_type": "code",
   "execution_count": 35,
   "metadata": {},
   "outputs": [],
   "source": [
    "set_existing_regions <- function(df) {\n",
    "    clusters2 <- apply(df[,c(\"longitude\",\"latitude\")], 1, closest_cluster)\n",
    "    df <- subset(df,select=-c(longitude,latitude))\n",
    "    df$region_kmeans <- clusters2\n",
    "    return(df)\n",
    "}"
   ]
  },
  {
   "cell_type": "code",
   "execution_count": null,
   "metadata": {},
   "outputs": [],
   "source": [
    "eval_data <- set_existing_regions(eval_data)"
   ]
  },
  {
   "cell_type": "code",
   "execution_count": 36,
   "metadata": {
    "scrolled": true
   },
   "outputs": [
    {
     "data": {
      "text/html": [
       "<table class=\"dataframe\">\n",
       "<caption>A data.frame: 20 × 40</caption>\n",
       "<thead>\n",
       "\t<tr><th></th><th scope=col>id</th><th scope=col>amount_tsh</th><th scope=col>date_recorded</th><th scope=col>funder</th><th scope=col>gps_height</th><th scope=col>installer</th><th scope=col>longitude</th><th scope=col>latitude</th><th scope=col>wpt_name</th><th scope=col>num_private</th><th scope=col>basin</th><th scope=col>subvillage</th><th scope=col>region</th><th scope=col>region_code</th><th scope=col>district_code</th><th scope=col>lga</th><th scope=col>ward</th><th scope=col>population</th><th scope=col>public_meeting</th><th scope=col>recorded_by</th><th scope=col>scheme_management</th><th scope=col>scheme_name</th><th scope=col>permit</th><th scope=col>construction_year</th><th scope=col>extraction_type</th><th scope=col>extraction_type_group</th><th scope=col>extraction_type_class</th><th scope=col>management</th><th scope=col>management_group</th><th scope=col>payment</th><th scope=col>payment_type</th><th scope=col>water_quality</th><th scope=col>quality_group</th><th scope=col>quantity</th><th scope=col>quantity_group</th><th scope=col>source</th><th scope=col>source_type</th><th scope=col>source_class</th><th scope=col>waterpoint_type</th><th scope=col>waterpoint_type_group</th></tr>\n",
       "\t<tr><th></th><th scope=col>&lt;int&gt;</th><th scope=col>&lt;dbl&gt;</th><th scope=col>&lt;fct&gt;</th><th scope=col>&lt;fct&gt;</th><th scope=col>&lt;int&gt;</th><th scope=col>&lt;fct&gt;</th><th scope=col>&lt;dbl&gt;</th><th scope=col>&lt;dbl&gt;</th><th scope=col>&lt;fct&gt;</th><th scope=col>&lt;int&gt;</th><th scope=col>&lt;fct&gt;</th><th scope=col>&lt;fct&gt;</th><th scope=col>&lt;fct&gt;</th><th scope=col>&lt;int&gt;</th><th scope=col>&lt;int&gt;</th><th scope=col>&lt;fct&gt;</th><th scope=col>&lt;fct&gt;</th><th scope=col>&lt;int&gt;</th><th scope=col>&lt;fct&gt;</th><th scope=col>&lt;fct&gt;</th><th scope=col>&lt;fct&gt;</th><th scope=col>&lt;fct&gt;</th><th scope=col>&lt;fct&gt;</th><th scope=col>&lt;int&gt;</th><th scope=col>&lt;fct&gt;</th><th scope=col>&lt;fct&gt;</th><th scope=col>&lt;fct&gt;</th><th scope=col>&lt;fct&gt;</th><th scope=col>&lt;fct&gt;</th><th scope=col>&lt;fct&gt;</th><th scope=col>&lt;fct&gt;</th><th scope=col>&lt;fct&gt;</th><th scope=col>&lt;fct&gt;</th><th scope=col>&lt;fct&gt;</th><th scope=col>&lt;fct&gt;</th><th scope=col>&lt;fct&gt;</th><th scope=col>&lt;fct&gt;</th><th scope=col>&lt;fct&gt;</th><th scope=col>&lt;fct&gt;</th><th scope=col>&lt;fct&gt;</th></tr>\n",
       "</thead>\n",
       "<tbody>\n",
       "\t<tr><th scope=row>1</th><td>50785</td><td>   0</td><td>2013-02-04</td><td>Dmdd                          </td><td>1996</td><td>DMDD                      </td><td>35.29080</td><td> -4.059696</td><td>Dinamu Secondary School</td><td>0</td><td>Internal               </td><td>Magoma     </td><td>Manyara    </td><td>21</td><td> 3</td><td>Mbulu        </td><td>Bashay           </td><td>321</td><td>True</td><td>GeoData Consultants Ltd</td><td>Parastatal </td><td>                               </td><td>True </td><td>2012</td><td>other        </td><td>other        </td><td>other      </td><td>parastatal </td><td>parastatal</td><td>never pay     </td><td>never pay </td><td>soft </td><td>good </td><td>seasonal    </td><td>seasonal    </td><td>rainwater harvesting</td><td>rainwater harvesting</td><td>surface    </td><td>other                      </td><td>other             </td></tr>\n",
       "\t<tr><th scope=row>2</th><td>51630</td><td>   0</td><td>2013-02-04</td><td>Government Of Tanzania        </td><td>1569</td><td>DWE                       </td><td>36.65671</td><td> -3.309214</td><td>Kimnyak                </td><td>0</td><td>Pangani                </td><td>Kimnyak    </td><td>Arusha     </td><td> 2</td><td> 2</td><td>Arusha Rural </td><td>Kimnyaki         </td><td>300</td><td>True</td><td>GeoData Consultants Ltd</td><td>VWC        </td><td>TPRI pipe line                 </td><td>True </td><td>2000</td><td>gravity      </td><td>gravity      </td><td>gravity    </td><td>vwc        </td><td>user-group</td><td>never pay     </td><td>never pay </td><td>soft </td><td>good </td><td>insufficient</td><td>insufficient</td><td>spring              </td><td>spring              </td><td>groundwater</td><td>communal standpipe         </td><td>communal standpipe</td></tr>\n",
       "\t<tr><th scope=row>3</th><td>17168</td><td>   0</td><td>2013-02-01</td><td>                              </td><td>1567</td><td>                          </td><td>34.76786</td><td> -5.004344</td><td>Puma Secondary         </td><td>0</td><td>Internal               </td><td>Msatu      </td><td>Singida    </td><td>13</td><td> 2</td><td>Singida Rural</td><td>Puma             </td><td>500</td><td>True</td><td>GeoData Consultants Ltd</td><td>VWC        </td><td>P                              </td><td>     </td><td>2010</td><td>other        </td><td>other        </td><td>other      </td><td>vwc        </td><td>user-group</td><td>never pay     </td><td>never pay </td><td>soft </td><td>good </td><td>insufficient</td><td>insufficient</td><td>rainwater harvesting</td><td>rainwater harvesting</td><td>surface    </td><td>other                      </td><td>other             </td></tr>\n",
       "\t<tr><th scope=row>4</th><td>45559</td><td>   0</td><td>2013-01-22</td><td>Finn Water                    </td><td> 267</td><td>FINN WATER                </td><td>38.05805</td><td> -9.418672</td><td>Kwa Mzee Pange         </td><td>0</td><td>Ruvuma / Southern Coast</td><td>Kipindimbi </td><td>Lindi      </td><td>80</td><td>43</td><td>Liwale       </td><td>Mkutano          </td><td>250</td><td>    </td><td>GeoData Consultants Ltd</td><td>VWC        </td><td>                               </td><td>True </td><td>1987</td><td>other        </td><td>other        </td><td>other      </td><td>vwc        </td><td>user-group</td><td>unknown       </td><td>unknown   </td><td>soft </td><td>good </td><td>dry         </td><td>dry         </td><td>shallow well        </td><td>shallow well        </td><td>groundwater</td><td>other                      </td><td>other             </td></tr>\n",
       "\t<tr><th scope=row>5</th><td>49871</td><td> 500</td><td>2013-03-27</td><td>Bruder                        </td><td>1260</td><td>BRUDER                    </td><td>35.00612</td><td>-10.950412</td><td>Kwa Mzee Turuka        </td><td>0</td><td>Ruvuma / Southern Coast</td><td>Losonga    </td><td>Ruvuma     </td><td>10</td><td> 3</td><td>Mbinga       </td><td>Mbinga Urban     </td><td> 60</td><td>    </td><td>GeoData Consultants Ltd</td><td>Water Board</td><td>BRUDER                         </td><td>True </td><td>2000</td><td>gravity      </td><td>gravity      </td><td>gravity    </td><td>water board</td><td>user-group</td><td>pay monthly   </td><td>monthly   </td><td>soft </td><td>good </td><td>enough      </td><td>enough      </td><td>spring              </td><td>spring              </td><td>groundwater</td><td>communal standpipe         </td><td>communal standpipe</td></tr>\n",
       "\t<tr><th scope=row>6</th><td>52449</td><td>   0</td><td>2013-03-04</td><td>Government Of Tanzania        </td><td>1685</td><td>DWE                       </td><td>36.68528</td><td> -3.302420</td><td>Masaga                 </td><td>0</td><td>Pangani                </td><td>Masaga     </td><td>Arusha     </td><td> 2</td><td> 2</td><td>Arusha Rural </td><td>Ilkiding'a       </td><td>200</td><td>True</td><td>GeoData Consultants Ltd</td><td>VWC        </td><td>Timbolo sambasha TPRI pipe line</td><td>True </td><td>1990</td><td>gravity      </td><td>gravity      </td><td>gravity    </td><td>vwc        </td><td>user-group</td><td>never pay     </td><td>never pay </td><td>soft </td><td>good </td><td>enough      </td><td>enough      </td><td>spring              </td><td>spring              </td><td>groundwater</td><td>communal standpipe         </td><td>communal standpipe</td></tr>\n",
       "\t<tr><th scope=row>7</th><td>24806</td><td>   0</td><td>2011-03-02</td><td>Government Of Tanzania        </td><td> 550</td><td>Gover                     </td><td>36.39804</td><td> -7.541382</td><td>none                   </td><td>0</td><td>Rufiji                 </td><td>Kichangani </td><td>Iringa     </td><td>11</td><td> 7</td><td>Kilolo       </td><td>Mahenge          </td><td>600</td><td>True</td><td>GeoData Consultants Ltd</td><td>VWC        </td><td>                               </td><td>True </td><td>2007</td><td>india mark ii</td><td>india mark ii</td><td>handpump   </td><td>vwc        </td><td>user-group</td><td>never pay     </td><td>never pay </td><td>salty</td><td>salty</td><td>enough      </td><td>enough      </td><td>machine dbh         </td><td>borehole            </td><td>groundwater</td><td>hand pump                  </td><td>hand pump         </td></tr>\n",
       "\t<tr><th scope=row>8</th><td>28965</td><td>   0</td><td>2013-01-25</td><td>Finw                          </td><td> 234</td><td>FinW                      </td><td>39.60742</td><td>-10.893786</td><td>Kwa Mkwaa              </td><td>0</td><td>Ruvuma / Southern Coast</td><td>Ilala      </td><td>Mtwara     </td><td> 9</td><td> 4</td><td>Tandahimba   </td><td>Maundo           </td><td>  1</td><td>True</td><td>GeoData Consultants Ltd</td><td>Water Board</td><td>Borehole                       </td><td>True </td><td>1982</td><td>submersible  </td><td>submersible  </td><td>submersible</td><td>vwc        </td><td>user-group</td><td>never pay     </td><td>never pay </td><td>soft </td><td>good </td><td>dry         </td><td>dry         </td><td>machine dbh         </td><td>borehole            </td><td>groundwater</td><td>communal standpipe multiple</td><td>communal standpipe</td></tr>\n",
       "\t<tr><th scope=row>9</th><td>36301</td><td>  30</td><td>2013-01-23</td><td>Unicef                        </td><td> 584</td><td>LGA                       </td><td>39.26295</td><td>-10.823588</td><td>Kwa Mzee Mpini         </td><td>0</td><td>Ruvuma / Southern Coast</td><td>Bondeni    </td><td>Mtwara     </td><td>90</td><td>33</td><td>Newala       </td><td>Mnekachi         </td><td> 40</td><td>True</td><td>GeoData Consultants Ltd</td><td>VWC        </td><td>MWS                            </td><td>False</td><td>1997</td><td>gravity      </td><td>gravity      </td><td>gravity    </td><td>vwc        </td><td>user-group</td><td>pay per bucket</td><td>per bucket</td><td>soft </td><td>good </td><td>insufficient</td><td>insufficient</td><td>spring              </td><td>spring              </td><td>groundwater</td><td>communal standpipe         </td><td>communal standpipe</td></tr>\n",
       "\t<tr><th scope=row>10</th><td>54122</td><td>   0</td><td>2013-03-18</td><td>Lawatefuka Water Supply       </td><td>1083</td><td>Lawatefuka water sup      </td><td>37.09611</td><td> -3.251754</td><td>Kwa Flora Daud         </td><td>0</td><td>Pangani                </td><td>Donyomuruak</td><td>Kilimanjaro</td><td> 3</td><td> 7</td><td>Siha         </td><td>Siha Kati        </td><td>  1</td><td>True</td><td>GeoData Consultants Ltd</td><td>Water Board</td><td>BL Erasto Laizer               </td><td>True </td><td>2003</td><td>gravity      </td><td>gravity      </td><td>gravity    </td><td>water board</td><td>user-group</td><td>pay monthly   </td><td>monthly   </td><td>soft </td><td>good </td><td>enough      </td><td>enough      </td><td>spring              </td><td>spring              </td><td>groundwater</td><td>communal standpipe         </td><td>communal standpipe</td></tr>\n",
       "\t<tr><th scope=row>11</th><td>  419</td><td>   5</td><td>2013-10-03</td><td>Germany Republi               </td><td>1259</td><td>CES                       </td><td>37.23325</td><td> -3.241121</td><td>Kwa Anna P Muro        </td><td>0</td><td>Pangani                </td><td>Saa        </td><td>Kilimanjaro</td><td> 3</td><td> 5</td><td>Hai          </td><td>Machame Kaskazini</td><td> 75</td><td>True</td><td>GeoData Consultants Ltd</td><td>Water Board</td><td>Lyamungo-Umbwe water supply    </td><td>True </td><td>2006</td><td>gravity      </td><td>gravity      </td><td>gravity    </td><td>water board</td><td>user-group</td><td>pay per bucket</td><td>per bucket</td><td>soft </td><td>good </td><td>enough      </td><td>enough      </td><td>spring              </td><td>spring              </td><td>groundwater</td><td>communal standpipe         </td><td>communal standpipe</td></tr>\n",
       "\t<tr><th scope=row>12</th><td>45750</td><td>   0</td><td>2013-02-27</td><td>World Vision                  </td><td> 608</td><td>World vision              </td><td>37.68639</td><td> -4.555975</td><td>Shuleni                </td><td>0</td><td>Pangani                </td><td>Remit      </td><td>Manyara    </td><td>21</td><td> 4</td><td>Simanjiro    </td><td>Ruvu Remit       </td><td>500</td><td>True</td><td>GeoData Consultants Ltd</td><td>           </td><td>                               </td><td>True </td><td>2002</td><td>other        </td><td>other        </td><td>other      </td><td>vwc        </td><td>user-group</td><td>never pay     </td><td>never pay </td><td>soft </td><td>good </td><td>dry         </td><td>dry         </td><td>rainwater harvesting</td><td>rainwater harvesting</td><td>surface    </td><td>other                      </td><td>other             </td></tr>\n",
       "\t<tr><th scope=row>13</th><td>  653</td><td>   0</td><td>2012-10-11</td><td>World Bank                    </td><td>   0</td><td>Building works company Ltd</td><td>33.66107</td><td> -4.165720</td><td>Kwa Nzega              </td><td>0</td><td>Internal               </td><td>Chonja     </td><td>Tabora     </td><td>14</td><td> 2</td><td>Igunga       </td><td>Itunduru         </td><td>  0</td><td>True</td><td>GeoData Consultants Ltd</td><td>Other      </td><td>World Bank                     </td><td>True </td><td>   0</td><td>mono         </td><td>mono         </td><td>motorpump  </td><td>vwc        </td><td>user-group</td><td>unknown       </td><td>unknown   </td><td>soft </td><td>good </td><td>dry         </td><td>dry         </td><td>machine dbh         </td><td>borehole            </td><td>groundwater</td><td>communal standpipe multiple</td><td>communal standpipe</td></tr>\n",
       "\t<tr><th scope=row>14</th><td>14017</td><td>   0</td><td>2011-07-29</td><td>Ministry Of Water             </td><td>   0</td><td>DWE                       </td><td>33.00768</td><td> -3.209529</td><td>Gati La Shuleni        </td><td>0</td><td>Lake Victoria          </td><td>Ilobashi   </td><td>Mwanza     </td><td>19</td><td> 4</td><td>Kwimba       </td><td>Bupamwa          </td><td>  0</td><td>True</td><td>GeoData Consultants Ltd</td><td>VWC        </td><td>Mradi wa maji Kiliwi           </td><td>True </td><td>   0</td><td>mono         </td><td>mono         </td><td>motorpump  </td><td>vwc        </td><td>user-group</td><td>pay per bucket</td><td>per bucket</td><td>soft </td><td>good </td><td>enough      </td><td>enough      </td><td>machine dbh         </td><td>borehole            </td><td>groundwater</td><td>communal standpipe multiple</td><td>communal standpipe</td></tr>\n",
       "\t<tr><th scope=row>15</th><td>44607</td><td>1000</td><td>2011-03-02</td><td>Danida                        </td><td>1625</td><td>DANID                     </td><td>35.61562</td><td> -7.870290</td><td>none                   </td><td>0</td><td>Rufiji                 </td><td>Winome     </td><td>Iringa     </td><td>11</td><td> 1</td><td>Iringa Rural </td><td>Mseke            </td><td>  1</td><td>True</td><td>GeoData Consultants Ltd</td><td>VWC        </td><td>Meseke                         </td><td>True </td><td>1984</td><td>gravity      </td><td>gravity      </td><td>gravity    </td><td>vwc        </td><td>user-group</td><td>pay monthly   </td><td>monthly   </td><td>soft </td><td>good </td><td>enough      </td><td>enough      </td><td>spring              </td><td>spring              </td><td>groundwater</td><td>communal standpipe         </td><td>communal standpipe</td></tr>\n",
       "\t<tr><th scope=row>16</th><td>40228</td><td>1200</td><td>2013-06-03</td><td>Danida                        </td><td> 916</td><td>DWE                       </td><td>35.48289</td><td>-10.912596</td><td>Kwa Daniela            </td><td>0</td><td>Ruvuma / Southern Coast</td><td>Mkulu      </td><td>Ruvuma     </td><td>10</td><td> 2</td><td>Songea Rural </td><td>Ndogosi          </td><td>  0</td><td>True</td><td>GeoData Consultants Ltd</td><td>VWC        </td><td>Mradi wa maji wa ndongosi      </td><td>True </td><td>1989</td><td>gravity      </td><td>gravity      </td><td>gravity    </td><td>vwc        </td><td>user-group</td><td>pay annually  </td><td>annually  </td><td>soft </td><td>good </td><td>enough      </td><td>enough      </td><td>river               </td><td>river/lake          </td><td>surface    </td><td>communal standpipe multiple</td><td>communal standpipe</td></tr>\n",
       "\t<tr><th scope=row>17</th><td>27714</td><td>   0</td><td>2011-02-24</td><td>                              </td><td> -39</td><td>                          </td><td>39.85019</td><td> -7.727946</td><td>Kitotoni               </td><td>0</td><td>Rufiji                 </td><td>Barabarani </td><td>Pwani      </td><td> 6</td><td> 6</td><td>Mafia        </td><td>Kanga            </td><td>900</td><td>True</td><td>GeoData Consultants Ltd</td><td>VWC        </td><td>                               </td><td>False</td><td>   0</td><td>nira/tanira  </td><td>nira/tanira  </td><td>handpump   </td><td>vwc        </td><td>user-group</td><td>never pay     </td><td>never pay </td><td>soft </td><td>good </td><td>enough      </td><td>enough      </td><td>shallow well        </td><td>shallow well        </td><td>groundwater</td><td>hand pump                  </td><td>hand pump         </td></tr>\n",
       "\t<tr><th scope=row>18</th><td>28785</td><td> 200</td><td>2011-03-11</td><td>Government Of Tanzania        </td><td>1793</td><td>DWE                       </td><td>38.25402</td><td> -4.565802</td><td>Magagai Hospital       </td><td>0</td><td>Pangani                </td><td>Magagai 2  </td><td>Tanga      </td><td> 4</td><td> 1</td><td>Lushoto      </td><td>Rangwi           </td><td>  1</td><td>True</td><td>GeoData Consultants Ltd</td><td>VWC        </td><td>Shagayo forest                 </td><td>True </td><td>1978</td><td>gravity      </td><td>gravity      </td><td>gravity    </td><td>vwc        </td><td>user-group</td><td>pay monthly   </td><td>monthly   </td><td>soft </td><td>good </td><td>enough      </td><td>enough      </td><td>spring              </td><td>spring              </td><td>groundwater</td><td>communal standpipe         </td><td>communal standpipe</td></tr>\n",
       "\t<tr><th scope=row>19</th><td>28330</td><td>   0</td><td>2012-10-06</td><td>Rural Water Supply And Sanitat</td><td>   0</td><td>DWE                       </td><td>31.58680</td><td> -3.387808</td><td>Shule Ya Msingi Ikuzi  </td><td>0</td><td>Lake Tanganyika        </td><td>Bumbaaga A </td><td>Shinyanga  </td><td>17</td><td> 5</td><td>Bukombe      </td><td>Runzewe          </td><td>  0</td><td>True</td><td>GeoData Consultants Ltd</td><td>Parastatal </td><td>                               </td><td>True </td><td>   0</td><td>gravity      </td><td>gravity      </td><td>gravity    </td><td>parastatal </td><td>parastatal</td><td>unknown       </td><td>unknown   </td><td>soft </td><td>good </td><td>seasonal    </td><td>seasonal    </td><td>rainwater harvesting</td><td>rainwater harvesting</td><td>surface    </td><td>communal standpipe         </td><td>communal standpipe</td></tr>\n",
       "\t<tr><th scope=row>20</th><td>18532</td><td>   0</td><td>2013-02-02</td><td>Finw                          </td><td> 368</td><td>FinW                      </td><td>39.43853</td><td>-10.583366</td><td>Liponde A              </td><td>0</td><td>Ruvuma / Southern Coast</td><td>Liponde A  </td><td>Mtwara     </td><td> 9</td><td> 4</td><td>Tandahimba   </td><td>Chaume           </td><td>300</td><td>True</td><td>GeoData Consultants Ltd</td><td>Water Board</td><td>Borehole                       </td><td>True </td><td>1982</td><td>submersible  </td><td>submersible  </td><td>submersible</td><td>vwc        </td><td>user-group</td><td>never pay     </td><td>never pay </td><td>soft </td><td>good </td><td>dry         </td><td>dry         </td><td>machine dbh         </td><td>borehole            </td><td>groundwater</td><td>communal standpipe         </td><td>communal standpipe</td></tr>\n",
       "</tbody>\n",
       "</table>\n"
      ],
      "text/latex": [
       "A data.frame: 20 × 40\n",
       "\\begin{tabular}{r|llllllllllllllllllllllllllllllllllllllll}\n",
       "  & id & amount\\_tsh & date\\_recorded & funder & gps\\_height & installer & longitude & latitude & wpt\\_name & num\\_private & basin & subvillage & region & region\\_code & district\\_code & lga & ward & population & public\\_meeting & recorded\\_by & scheme\\_management & scheme\\_name & permit & construction\\_year & extraction\\_type & extraction\\_type\\_group & extraction\\_type\\_class & management & management\\_group & payment & payment\\_type & water\\_quality & quality\\_group & quantity & quantity\\_group & source & source\\_type & source\\_class & waterpoint\\_type & waterpoint\\_type\\_group\\\\\n",
       "  & <int> & <dbl> & <fct> & <fct> & <int> & <fct> & <dbl> & <dbl> & <fct> & <int> & <fct> & <fct> & <fct> & <int> & <int> & <fct> & <fct> & <int> & <fct> & <fct> & <fct> & <fct> & <fct> & <int> & <fct> & <fct> & <fct> & <fct> & <fct> & <fct> & <fct> & <fct> & <fct> & <fct> & <fct> & <fct> & <fct> & <fct> & <fct> & <fct>\\\\\n",
       "\\hline\n",
       "\t1 & 50785 &    0 & 2013-02-04 & Dmdd                           & 1996 & DMDD                       & 35.29080 &  -4.059696 & Dinamu Secondary School & 0 & Internal                & Magoma      & Manyara     & 21 &  3 & Mbulu         & Bashay            & 321 & True & GeoData Consultants Ltd & Parastatal  &                                 & True  & 2012 & other         & other         & other       & parastatal  & parastatal & never pay      & never pay  & soft  & good  & seasonal     & seasonal     & rainwater harvesting & rainwater harvesting & surface     & other                       & other             \\\\\n",
       "\t2 & 51630 &    0 & 2013-02-04 & Government Of Tanzania         & 1569 & DWE                        & 36.65671 &  -3.309214 & Kimnyak                 & 0 & Pangani                 & Kimnyak     & Arusha      &  2 &  2 & Arusha Rural  & Kimnyaki          & 300 & True & GeoData Consultants Ltd & VWC         & TPRI pipe line                  & True  & 2000 & gravity       & gravity       & gravity     & vwc         & user-group & never pay      & never pay  & soft  & good  & insufficient & insufficient & spring               & spring               & groundwater & communal standpipe          & communal standpipe\\\\\n",
       "\t3 & 17168 &    0 & 2013-02-01 &                                & 1567 &                            & 34.76786 &  -5.004344 & Puma Secondary          & 0 & Internal                & Msatu       & Singida     & 13 &  2 & Singida Rural & Puma              & 500 & True & GeoData Consultants Ltd & VWC         & P                               &       & 2010 & other         & other         & other       & vwc         & user-group & never pay      & never pay  & soft  & good  & insufficient & insufficient & rainwater harvesting & rainwater harvesting & surface     & other                       & other             \\\\\n",
       "\t4 & 45559 &    0 & 2013-01-22 & Finn Water                     &  267 & FINN WATER                 & 38.05805 &  -9.418672 & Kwa Mzee Pange          & 0 & Ruvuma / Southern Coast & Kipindimbi  & Lindi       & 80 & 43 & Liwale        & Mkutano           & 250 &      & GeoData Consultants Ltd & VWC         &                                 & True  & 1987 & other         & other         & other       & vwc         & user-group & unknown        & unknown    & soft  & good  & dry          & dry          & shallow well         & shallow well         & groundwater & other                       & other             \\\\\n",
       "\t5 & 49871 &  500 & 2013-03-27 & Bruder                         & 1260 & BRUDER                     & 35.00612 & -10.950412 & Kwa Mzee Turuka         & 0 & Ruvuma / Southern Coast & Losonga     & Ruvuma      & 10 &  3 & Mbinga        & Mbinga Urban      &  60 &      & GeoData Consultants Ltd & Water Board & BRUDER                          & True  & 2000 & gravity       & gravity       & gravity     & water board & user-group & pay monthly    & monthly    & soft  & good  & enough       & enough       & spring               & spring               & groundwater & communal standpipe          & communal standpipe\\\\\n",
       "\t6 & 52449 &    0 & 2013-03-04 & Government Of Tanzania         & 1685 & DWE                        & 36.68528 &  -3.302420 & Masaga                  & 0 & Pangani                 & Masaga      & Arusha      &  2 &  2 & Arusha Rural  & Ilkiding'a        & 200 & True & GeoData Consultants Ltd & VWC         & Timbolo sambasha TPRI pipe line & True  & 1990 & gravity       & gravity       & gravity     & vwc         & user-group & never pay      & never pay  & soft  & good  & enough       & enough       & spring               & spring               & groundwater & communal standpipe          & communal standpipe\\\\\n",
       "\t7 & 24806 &    0 & 2011-03-02 & Government Of Tanzania         &  550 & Gover                      & 36.39804 &  -7.541382 & none                    & 0 & Rufiji                  & Kichangani  & Iringa      & 11 &  7 & Kilolo        & Mahenge           & 600 & True & GeoData Consultants Ltd & VWC         &                                 & True  & 2007 & india mark ii & india mark ii & handpump    & vwc         & user-group & never pay      & never pay  & salty & salty & enough       & enough       & machine dbh          & borehole             & groundwater & hand pump                   & hand pump         \\\\\n",
       "\t8 & 28965 &    0 & 2013-01-25 & Finw                           &  234 & FinW                       & 39.60742 & -10.893786 & Kwa Mkwaa               & 0 & Ruvuma / Southern Coast & Ilala       & Mtwara      &  9 &  4 & Tandahimba    & Maundo            &   1 & True & GeoData Consultants Ltd & Water Board & Borehole                        & True  & 1982 & submersible   & submersible   & submersible & vwc         & user-group & never pay      & never pay  & soft  & good  & dry          & dry          & machine dbh          & borehole             & groundwater & communal standpipe multiple & communal standpipe\\\\\n",
       "\t9 & 36301 &   30 & 2013-01-23 & Unicef                         &  584 & LGA                        & 39.26295 & -10.823588 & Kwa Mzee Mpini          & 0 & Ruvuma / Southern Coast & Bondeni     & Mtwara      & 90 & 33 & Newala        & Mnekachi          &  40 & True & GeoData Consultants Ltd & VWC         & MWS                             & False & 1997 & gravity       & gravity       & gravity     & vwc         & user-group & pay per bucket & per bucket & soft  & good  & insufficient & insufficient & spring               & spring               & groundwater & communal standpipe          & communal standpipe\\\\\n",
       "\t10 & 54122 &    0 & 2013-03-18 & Lawatefuka Water Supply        & 1083 & Lawatefuka water sup       & 37.09611 &  -3.251754 & Kwa Flora Daud          & 0 & Pangani                 & Donyomuruak & Kilimanjaro &  3 &  7 & Siha          & Siha Kati         &   1 & True & GeoData Consultants Ltd & Water Board & BL Erasto Laizer                & True  & 2003 & gravity       & gravity       & gravity     & water board & user-group & pay monthly    & monthly    & soft  & good  & enough       & enough       & spring               & spring               & groundwater & communal standpipe          & communal standpipe\\\\\n",
       "\t11 &   419 &    5 & 2013-10-03 & Germany Republi                & 1259 & CES                        & 37.23325 &  -3.241121 & Kwa Anna P Muro         & 0 & Pangani                 & Saa         & Kilimanjaro &  3 &  5 & Hai           & Machame Kaskazini &  75 & True & GeoData Consultants Ltd & Water Board & Lyamungo-Umbwe water supply     & True  & 2006 & gravity       & gravity       & gravity     & water board & user-group & pay per bucket & per bucket & soft  & good  & enough       & enough       & spring               & spring               & groundwater & communal standpipe          & communal standpipe\\\\\n",
       "\t12 & 45750 &    0 & 2013-02-27 & World Vision                   &  608 & World vision               & 37.68639 &  -4.555975 & Shuleni                 & 0 & Pangani                 & Remit       & Manyara     & 21 &  4 & Simanjiro     & Ruvu Remit        & 500 & True & GeoData Consultants Ltd &             &                                 & True  & 2002 & other         & other         & other       & vwc         & user-group & never pay      & never pay  & soft  & good  & dry          & dry          & rainwater harvesting & rainwater harvesting & surface     & other                       & other             \\\\\n",
       "\t13 &   653 &    0 & 2012-10-11 & World Bank                     &    0 & Building works company Ltd & 33.66107 &  -4.165720 & Kwa Nzega               & 0 & Internal                & Chonja      & Tabora      & 14 &  2 & Igunga        & Itunduru          &   0 & True & GeoData Consultants Ltd & Other       & World Bank                      & True  &    0 & mono          & mono          & motorpump   & vwc         & user-group & unknown        & unknown    & soft  & good  & dry          & dry          & machine dbh          & borehole             & groundwater & communal standpipe multiple & communal standpipe\\\\\n",
       "\t14 & 14017 &    0 & 2011-07-29 & Ministry Of Water              &    0 & DWE                        & 33.00768 &  -3.209529 & Gati La Shuleni         & 0 & Lake Victoria           & Ilobashi    & Mwanza      & 19 &  4 & Kwimba        & Bupamwa           &   0 & True & GeoData Consultants Ltd & VWC         & Mradi wa maji Kiliwi            & True  &    0 & mono          & mono          & motorpump   & vwc         & user-group & pay per bucket & per bucket & soft  & good  & enough       & enough       & machine dbh          & borehole             & groundwater & communal standpipe multiple & communal standpipe\\\\\n",
       "\t15 & 44607 & 1000 & 2011-03-02 & Danida                         & 1625 & DANID                      & 35.61562 &  -7.870290 & none                    & 0 & Rufiji                  & Winome      & Iringa      & 11 &  1 & Iringa Rural  & Mseke             &   1 & True & GeoData Consultants Ltd & VWC         & Meseke                          & True  & 1984 & gravity       & gravity       & gravity     & vwc         & user-group & pay monthly    & monthly    & soft  & good  & enough       & enough       & spring               & spring               & groundwater & communal standpipe          & communal standpipe\\\\\n",
       "\t16 & 40228 & 1200 & 2013-06-03 & Danida                         &  916 & DWE                        & 35.48289 & -10.912596 & Kwa Daniela             & 0 & Ruvuma / Southern Coast & Mkulu       & Ruvuma      & 10 &  2 & Songea Rural  & Ndogosi           &   0 & True & GeoData Consultants Ltd & VWC         & Mradi wa maji wa ndongosi       & True  & 1989 & gravity       & gravity       & gravity     & vwc         & user-group & pay annually   & annually   & soft  & good  & enough       & enough       & river                & river/lake           & surface     & communal standpipe multiple & communal standpipe\\\\\n",
       "\t17 & 27714 &    0 & 2011-02-24 &                                &  -39 &                            & 39.85019 &  -7.727946 & Kitotoni                & 0 & Rufiji                  & Barabarani  & Pwani       &  6 &  6 & Mafia         & Kanga             & 900 & True & GeoData Consultants Ltd & VWC         &                                 & False &    0 & nira/tanira   & nira/tanira   & handpump    & vwc         & user-group & never pay      & never pay  & soft  & good  & enough       & enough       & shallow well         & shallow well         & groundwater & hand pump                   & hand pump         \\\\\n",
       "\t18 & 28785 &  200 & 2011-03-11 & Government Of Tanzania         & 1793 & DWE                        & 38.25402 &  -4.565802 & Magagai Hospital        & 0 & Pangani                 & Magagai 2   & Tanga       &  4 &  1 & Lushoto       & Rangwi            &   1 & True & GeoData Consultants Ltd & VWC         & Shagayo forest                  & True  & 1978 & gravity       & gravity       & gravity     & vwc         & user-group & pay monthly    & monthly    & soft  & good  & enough       & enough       & spring               & spring               & groundwater & communal standpipe          & communal standpipe\\\\\n",
       "\t19 & 28330 &    0 & 2012-10-06 & Rural Water Supply And Sanitat &    0 & DWE                        & 31.58680 &  -3.387808 & Shule Ya Msingi Ikuzi   & 0 & Lake Tanganyika         & Bumbaaga A  & Shinyanga   & 17 &  5 & Bukombe       & Runzewe           &   0 & True & GeoData Consultants Ltd & Parastatal  &                                 & True  &    0 & gravity       & gravity       & gravity     & parastatal  & parastatal & unknown        & unknown    & soft  & good  & seasonal     & seasonal     & rainwater harvesting & rainwater harvesting & surface     & communal standpipe          & communal standpipe\\\\\n",
       "\t20 & 18532 &    0 & 2013-02-02 & Finw                           &  368 & FinW                       & 39.43853 & -10.583366 & Liponde A               & 0 & Ruvuma / Southern Coast & Liponde A   & Mtwara      &  9 &  4 & Tandahimba    & Chaume            & 300 & True & GeoData Consultants Ltd & Water Board & Borehole                        & True  & 1982 & submersible   & submersible   & submersible & vwc         & user-group & never pay      & never pay  & soft  & good  & dry          & dry          & machine dbh          & borehole             & groundwater & communal standpipe          & communal standpipe\\\\\n",
       "\\end{tabular}\n"
      ],
      "text/markdown": [
       "\n",
       "A data.frame: 20 × 40\n",
       "\n",
       "| <!--/--> | id &lt;int&gt; | amount_tsh &lt;dbl&gt; | date_recorded &lt;fct&gt; | funder &lt;fct&gt; | gps_height &lt;int&gt; | installer &lt;fct&gt; | longitude &lt;dbl&gt; | latitude &lt;dbl&gt; | wpt_name &lt;fct&gt; | num_private &lt;int&gt; | basin &lt;fct&gt; | subvillage &lt;fct&gt; | region &lt;fct&gt; | region_code &lt;int&gt; | district_code &lt;int&gt; | lga &lt;fct&gt; | ward &lt;fct&gt; | population &lt;int&gt; | public_meeting &lt;fct&gt; | recorded_by &lt;fct&gt; | scheme_management &lt;fct&gt; | scheme_name &lt;fct&gt; | permit &lt;fct&gt; | construction_year &lt;int&gt; | extraction_type &lt;fct&gt; | extraction_type_group &lt;fct&gt; | extraction_type_class &lt;fct&gt; | management &lt;fct&gt; | management_group &lt;fct&gt; | payment &lt;fct&gt; | payment_type &lt;fct&gt; | water_quality &lt;fct&gt; | quality_group &lt;fct&gt; | quantity &lt;fct&gt; | quantity_group &lt;fct&gt; | source &lt;fct&gt; | source_type &lt;fct&gt; | source_class &lt;fct&gt; | waterpoint_type &lt;fct&gt; | waterpoint_type_group &lt;fct&gt; |\n",
       "|---|---|---|---|---|---|---|---|---|---|---|---|---|---|---|---|---|---|---|---|---|---|---|---|---|---|---|---|---|---|---|---|---|---|---|---|---|---|---|---|---|\n",
       "| 1 | 50785 |    0 | 2013-02-04 | Dmdd                           | 1996 | DMDD                       | 35.29080 |  -4.059696 | Dinamu Secondary School | 0 | Internal                | Magoma      | Manyara     | 21 |  3 | Mbulu         | Bashay            | 321 | True | GeoData Consultants Ltd | Parastatal  | <!----> | True  | 2012 | other         | other         | other       | parastatal  | parastatal | never pay      | never pay  | soft  | good  | seasonal     | seasonal     | rainwater harvesting | rainwater harvesting | surface     | other                       | other              |\n",
       "| 2 | 51630 |    0 | 2013-02-04 | Government Of Tanzania         | 1569 | DWE                        | 36.65671 |  -3.309214 | Kimnyak                 | 0 | Pangani                 | Kimnyak     | Arusha      |  2 |  2 | Arusha Rural  | Kimnyaki          | 300 | True | GeoData Consultants Ltd | VWC         | TPRI pipe line                  | True  | 2000 | gravity       | gravity       | gravity     | vwc         | user-group | never pay      | never pay  | soft  | good  | insufficient | insufficient | spring               | spring               | groundwater | communal standpipe          | communal standpipe |\n",
       "| 3 | 17168 |    0 | 2013-02-01 | <!----> | 1567 | <!----> | 34.76786 |  -5.004344 | Puma Secondary          | 0 | Internal                | Msatu       | Singida     | 13 |  2 | Singida Rural | Puma              | 500 | True | GeoData Consultants Ltd | VWC         | P                               | <!----> | 2010 | other         | other         | other       | vwc         | user-group | never pay      | never pay  | soft  | good  | insufficient | insufficient | rainwater harvesting | rainwater harvesting | surface     | other                       | other              |\n",
       "| 4 | 45559 |    0 | 2013-01-22 | Finn Water                     |  267 | FINN WATER                 | 38.05805 |  -9.418672 | Kwa Mzee Pange          | 0 | Ruvuma / Southern Coast | Kipindimbi  | Lindi       | 80 | 43 | Liwale        | Mkutano           | 250 | <!----> | GeoData Consultants Ltd | VWC         | <!----> | True  | 1987 | other         | other         | other       | vwc         | user-group | unknown        | unknown    | soft  | good  | dry          | dry          | shallow well         | shallow well         | groundwater | other                       | other              |\n",
       "| 5 | 49871 |  500 | 2013-03-27 | Bruder                         | 1260 | BRUDER                     | 35.00612 | -10.950412 | Kwa Mzee Turuka         | 0 | Ruvuma / Southern Coast | Losonga     | Ruvuma      | 10 |  3 | Mbinga        | Mbinga Urban      |  60 | <!----> | GeoData Consultants Ltd | Water Board | BRUDER                          | True  | 2000 | gravity       | gravity       | gravity     | water board | user-group | pay monthly    | monthly    | soft  | good  | enough       | enough       | spring               | spring               | groundwater | communal standpipe          | communal standpipe |\n",
       "| 6 | 52449 |    0 | 2013-03-04 | Government Of Tanzania         | 1685 | DWE                        | 36.68528 |  -3.302420 | Masaga                  | 0 | Pangani                 | Masaga      | Arusha      |  2 |  2 | Arusha Rural  | Ilkiding'a        | 200 | True | GeoData Consultants Ltd | VWC         | Timbolo sambasha TPRI pipe line | True  | 1990 | gravity       | gravity       | gravity     | vwc         | user-group | never pay      | never pay  | soft  | good  | enough       | enough       | spring               | spring               | groundwater | communal standpipe          | communal standpipe |\n",
       "| 7 | 24806 |    0 | 2011-03-02 | Government Of Tanzania         |  550 | Gover                      | 36.39804 |  -7.541382 | none                    | 0 | Rufiji                  | Kichangani  | Iringa      | 11 |  7 | Kilolo        | Mahenge           | 600 | True | GeoData Consultants Ltd | VWC         | <!----> | True  | 2007 | india mark ii | india mark ii | handpump    | vwc         | user-group | never pay      | never pay  | salty | salty | enough       | enough       | machine dbh          | borehole             | groundwater | hand pump                   | hand pump          |\n",
       "| 8 | 28965 |    0 | 2013-01-25 | Finw                           |  234 | FinW                       | 39.60742 | -10.893786 | Kwa Mkwaa               | 0 | Ruvuma / Southern Coast | Ilala       | Mtwara      |  9 |  4 | Tandahimba    | Maundo            |   1 | True | GeoData Consultants Ltd | Water Board | Borehole                        | True  | 1982 | submersible   | submersible   | submersible | vwc         | user-group | never pay      | never pay  | soft  | good  | dry          | dry          | machine dbh          | borehole             | groundwater | communal standpipe multiple | communal standpipe |\n",
       "| 9 | 36301 |   30 | 2013-01-23 | Unicef                         |  584 | LGA                        | 39.26295 | -10.823588 | Kwa Mzee Mpini          | 0 | Ruvuma / Southern Coast | Bondeni     | Mtwara      | 90 | 33 | Newala        | Mnekachi          |  40 | True | GeoData Consultants Ltd | VWC         | MWS                             | False | 1997 | gravity       | gravity       | gravity     | vwc         | user-group | pay per bucket | per bucket | soft  | good  | insufficient | insufficient | spring               | spring               | groundwater | communal standpipe          | communal standpipe |\n",
       "| 10 | 54122 |    0 | 2013-03-18 | Lawatefuka Water Supply        | 1083 | Lawatefuka water sup       | 37.09611 |  -3.251754 | Kwa Flora Daud          | 0 | Pangani                 | Donyomuruak | Kilimanjaro |  3 |  7 | Siha          | Siha Kati         |   1 | True | GeoData Consultants Ltd | Water Board | BL Erasto Laizer                | True  | 2003 | gravity       | gravity       | gravity     | water board | user-group | pay monthly    | monthly    | soft  | good  | enough       | enough       | spring               | spring               | groundwater | communal standpipe          | communal standpipe |\n",
       "| 11 |   419 |    5 | 2013-10-03 | Germany Republi                | 1259 | CES                        | 37.23325 |  -3.241121 | Kwa Anna P Muro         | 0 | Pangani                 | Saa         | Kilimanjaro |  3 |  5 | Hai           | Machame Kaskazini |  75 | True | GeoData Consultants Ltd | Water Board | Lyamungo-Umbwe water supply     | True  | 2006 | gravity       | gravity       | gravity     | water board | user-group | pay per bucket | per bucket | soft  | good  | enough       | enough       | spring               | spring               | groundwater | communal standpipe          | communal standpipe |\n",
       "| 12 | 45750 |    0 | 2013-02-27 | World Vision                   |  608 | World vision               | 37.68639 |  -4.555975 | Shuleni                 | 0 | Pangani                 | Remit       | Manyara     | 21 |  4 | Simanjiro     | Ruvu Remit        | 500 | True | GeoData Consultants Ltd | <!----> | <!----> | True  | 2002 | other         | other         | other       | vwc         | user-group | never pay      | never pay  | soft  | good  | dry          | dry          | rainwater harvesting | rainwater harvesting | surface     | other                       | other              |\n",
       "| 13 |   653 |    0 | 2012-10-11 | World Bank                     |    0 | Building works company Ltd | 33.66107 |  -4.165720 | Kwa Nzega               | 0 | Internal                | Chonja      | Tabora      | 14 |  2 | Igunga        | Itunduru          |   0 | True | GeoData Consultants Ltd | Other       | World Bank                      | True  |    0 | mono          | mono          | motorpump   | vwc         | user-group | unknown        | unknown    | soft  | good  | dry          | dry          | machine dbh          | borehole             | groundwater | communal standpipe multiple | communal standpipe |\n",
       "| 14 | 14017 |    0 | 2011-07-29 | Ministry Of Water              |    0 | DWE                        | 33.00768 |  -3.209529 | Gati La Shuleni         | 0 | Lake Victoria           | Ilobashi    | Mwanza      | 19 |  4 | Kwimba        | Bupamwa           |   0 | True | GeoData Consultants Ltd | VWC         | Mradi wa maji Kiliwi            | True  |    0 | mono          | mono          | motorpump   | vwc         | user-group | pay per bucket | per bucket | soft  | good  | enough       | enough       | machine dbh          | borehole             | groundwater | communal standpipe multiple | communal standpipe |\n",
       "| 15 | 44607 | 1000 | 2011-03-02 | Danida                         | 1625 | DANID                      | 35.61562 |  -7.870290 | none                    | 0 | Rufiji                  | Winome      | Iringa      | 11 |  1 | Iringa Rural  | Mseke             |   1 | True | GeoData Consultants Ltd | VWC         | Meseke                          | True  | 1984 | gravity       | gravity       | gravity     | vwc         | user-group | pay monthly    | monthly    | soft  | good  | enough       | enough       | spring               | spring               | groundwater | communal standpipe          | communal standpipe |\n",
       "| 16 | 40228 | 1200 | 2013-06-03 | Danida                         |  916 | DWE                        | 35.48289 | -10.912596 | Kwa Daniela             | 0 | Ruvuma / Southern Coast | Mkulu       | Ruvuma      | 10 |  2 | Songea Rural  | Ndogosi           |   0 | True | GeoData Consultants Ltd | VWC         | Mradi wa maji wa ndongosi       | True  | 1989 | gravity       | gravity       | gravity     | vwc         | user-group | pay annually   | annually   | soft  | good  | enough       | enough       | river                | river/lake           | surface     | communal standpipe multiple | communal standpipe |\n",
       "| 17 | 27714 |    0 | 2011-02-24 | <!----> |  -39 | <!----> | 39.85019 |  -7.727946 | Kitotoni                | 0 | Rufiji                  | Barabarani  | Pwani       |  6 |  6 | Mafia         | Kanga             | 900 | True | GeoData Consultants Ltd | VWC         | <!----> | False |    0 | nira/tanira   | nira/tanira   | handpump    | vwc         | user-group | never pay      | never pay  | soft  | good  | enough       | enough       | shallow well         | shallow well         | groundwater | hand pump                   | hand pump          |\n",
       "| 18 | 28785 |  200 | 2011-03-11 | Government Of Tanzania         | 1793 | DWE                        | 38.25402 |  -4.565802 | Magagai Hospital        | 0 | Pangani                 | Magagai 2   | Tanga       |  4 |  1 | Lushoto       | Rangwi            |   1 | True | GeoData Consultants Ltd | VWC         | Shagayo forest                  | True  | 1978 | gravity       | gravity       | gravity     | vwc         | user-group | pay monthly    | monthly    | soft  | good  | enough       | enough       | spring               | spring               | groundwater | communal standpipe          | communal standpipe |\n",
       "| 19 | 28330 |    0 | 2012-10-06 | Rural Water Supply And Sanitat |    0 | DWE                        | 31.58680 |  -3.387808 | Shule Ya Msingi Ikuzi   | 0 | Lake Tanganyika         | Bumbaaga A  | Shinyanga   | 17 |  5 | Bukombe       | Runzewe           |   0 | True | GeoData Consultants Ltd | Parastatal  | <!----> | True  |    0 | gravity       | gravity       | gravity     | parastatal  | parastatal | unknown        | unknown    | soft  | good  | seasonal     | seasonal     | rainwater harvesting | rainwater harvesting | surface     | communal standpipe          | communal standpipe |\n",
       "| 20 | 18532 |    0 | 2013-02-02 | Finw                           |  368 | FinW                       | 39.43853 | -10.583366 | Liponde A               | 0 | Ruvuma / Southern Coast | Liponde A   | Mtwara      |  9 |  4 | Tandahimba    | Chaume            | 300 | True | GeoData Consultants Ltd | Water Board | Borehole                        | True  | 1982 | submersible   | submersible   | submersible | vwc         | user-group | never pay      | never pay  | soft  | good  | dry          | dry          | machine dbh          | borehole             | groundwater | communal standpipe          | communal standpipe |\n",
       "\n"
      ],
      "text/plain": [
       "   id    amount_tsh date_recorded funder                         gps_height\n",
       "1  50785    0       2013-02-04    Dmdd                           1996      \n",
       "2  51630    0       2013-02-04    Government Of Tanzania         1569      \n",
       "3  17168    0       2013-02-01                                   1567      \n",
       "4  45559    0       2013-01-22    Finn Water                      267      \n",
       "5  49871  500       2013-03-27    Bruder                         1260      \n",
       "6  52449    0       2013-03-04    Government Of Tanzania         1685      \n",
       "7  24806    0       2011-03-02    Government Of Tanzania          550      \n",
       "8  28965    0       2013-01-25    Finw                            234      \n",
       "9  36301   30       2013-01-23    Unicef                          584      \n",
       "10 54122    0       2013-03-18    Lawatefuka Water Supply        1083      \n",
       "11   419    5       2013-10-03    Germany Republi                1259      \n",
       "12 45750    0       2013-02-27    World Vision                    608      \n",
       "13   653    0       2012-10-11    World Bank                        0      \n",
       "14 14017    0       2011-07-29    Ministry Of Water                 0      \n",
       "15 44607 1000       2011-03-02    Danida                         1625      \n",
       "16 40228 1200       2013-06-03    Danida                          916      \n",
       "17 27714    0       2011-02-24                                    -39      \n",
       "18 28785  200       2011-03-11    Government Of Tanzania         1793      \n",
       "19 28330    0       2012-10-06    Rural Water Supply And Sanitat    0      \n",
       "20 18532    0       2013-02-02    Finw                            368      \n",
       "   installer                  longitude latitude   wpt_name               \n",
       "1  DMDD                       35.29080   -4.059696 Dinamu Secondary School\n",
       "2  DWE                        36.65671   -3.309214 Kimnyak                \n",
       "3                             34.76786   -5.004344 Puma Secondary         \n",
       "4  FINN WATER                 38.05805   -9.418672 Kwa Mzee Pange         \n",
       "5  BRUDER                     35.00612  -10.950412 Kwa Mzee Turuka        \n",
       "6  DWE                        36.68528   -3.302420 Masaga                 \n",
       "7  Gover                      36.39804   -7.541382 none                   \n",
       "8  FinW                       39.60742  -10.893786 Kwa Mkwaa              \n",
       "9  LGA                        39.26295  -10.823588 Kwa Mzee Mpini         \n",
       "10 Lawatefuka water sup       37.09611   -3.251754 Kwa Flora Daud         \n",
       "11 CES                        37.23325   -3.241121 Kwa Anna P Muro        \n",
       "12 World vision               37.68639   -4.555975 Shuleni                \n",
       "13 Building works company Ltd 33.66107   -4.165720 Kwa Nzega              \n",
       "14 DWE                        33.00768   -3.209529 Gati La Shuleni        \n",
       "15 DANID                      35.61562   -7.870290 none                   \n",
       "16 DWE                        35.48289  -10.912596 Kwa Daniela            \n",
       "17                            39.85019   -7.727946 Kitotoni               \n",
       "18 DWE                        38.25402   -4.565802 Magagai Hospital       \n",
       "19 DWE                        31.58680   -3.387808 Shule Ya Msingi Ikuzi  \n",
       "20 FinW                       39.43853  -10.583366 Liponde A              \n",
       "   num_private basin                   subvillage  region      region_code\n",
       "1  0           Internal                Magoma      Manyara     21         \n",
       "2  0           Pangani                 Kimnyak     Arusha       2         \n",
       "3  0           Internal                Msatu       Singida     13         \n",
       "4  0           Ruvuma / Southern Coast Kipindimbi  Lindi       80         \n",
       "5  0           Ruvuma / Southern Coast Losonga     Ruvuma      10         \n",
       "6  0           Pangani                 Masaga      Arusha       2         \n",
       "7  0           Rufiji                  Kichangani  Iringa      11         \n",
       "8  0           Ruvuma / Southern Coast Ilala       Mtwara       9         \n",
       "9  0           Ruvuma / Southern Coast Bondeni     Mtwara      90         \n",
       "10 0           Pangani                 Donyomuruak Kilimanjaro  3         \n",
       "11 0           Pangani                 Saa         Kilimanjaro  3         \n",
       "12 0           Pangani                 Remit       Manyara     21         \n",
       "13 0           Internal                Chonja      Tabora      14         \n",
       "14 0           Lake Victoria           Ilobashi    Mwanza      19         \n",
       "15 0           Rufiji                  Winome      Iringa      11         \n",
       "16 0           Ruvuma / Southern Coast Mkulu       Ruvuma      10         \n",
       "17 0           Rufiji                  Barabarani  Pwani        6         \n",
       "18 0           Pangani                 Magagai 2   Tanga        4         \n",
       "19 0           Lake Tanganyika         Bumbaaga A  Shinyanga   17         \n",
       "20 0           Ruvuma / Southern Coast Liponde A   Mtwara       9         \n",
       "   district_code lga           ward              population public_meeting\n",
       "1   3            Mbulu         Bashay            321        True          \n",
       "2   2            Arusha Rural  Kimnyaki          300        True          \n",
       "3   2            Singida Rural Puma              500        True          \n",
       "4  43            Liwale        Mkutano           250                      \n",
       "5   3            Mbinga        Mbinga Urban       60                      \n",
       "6   2            Arusha Rural  Ilkiding'a        200        True          \n",
       "7   7            Kilolo        Mahenge           600        True          \n",
       "8   4            Tandahimba    Maundo              1        True          \n",
       "9  33            Newala        Mnekachi           40        True          \n",
       "10  7            Siha          Siha Kati           1        True          \n",
       "11  5            Hai           Machame Kaskazini  75        True          \n",
       "12  4            Simanjiro     Ruvu Remit        500        True          \n",
       "13  2            Igunga        Itunduru            0        True          \n",
       "14  4            Kwimba        Bupamwa             0        True          \n",
       "15  1            Iringa Rural  Mseke               1        True          \n",
       "16  2            Songea Rural  Ndogosi             0        True          \n",
       "17  6            Mafia         Kanga             900        True          \n",
       "18  1            Lushoto       Rangwi              1        True          \n",
       "19  5            Bukombe       Runzewe             0        True          \n",
       "20  4            Tandahimba    Chaume            300        True          \n",
       "   recorded_by             scheme_management scheme_name                    \n",
       "1  GeoData Consultants Ltd Parastatal                                       \n",
       "2  GeoData Consultants Ltd VWC               TPRI pipe line                 \n",
       "3  GeoData Consultants Ltd VWC               P                              \n",
       "4  GeoData Consultants Ltd VWC                                              \n",
       "5  GeoData Consultants Ltd Water Board       BRUDER                         \n",
       "6  GeoData Consultants Ltd VWC               Timbolo sambasha TPRI pipe line\n",
       "7  GeoData Consultants Ltd VWC                                              \n",
       "8  GeoData Consultants Ltd Water Board       Borehole                       \n",
       "9  GeoData Consultants Ltd VWC               MWS                            \n",
       "10 GeoData Consultants Ltd Water Board       BL Erasto Laizer               \n",
       "11 GeoData Consultants Ltd Water Board       Lyamungo-Umbwe water supply    \n",
       "12 GeoData Consultants Ltd                                                  \n",
       "13 GeoData Consultants Ltd Other             World Bank                     \n",
       "14 GeoData Consultants Ltd VWC               Mradi wa maji Kiliwi           \n",
       "15 GeoData Consultants Ltd VWC               Meseke                         \n",
       "16 GeoData Consultants Ltd VWC               Mradi wa maji wa ndongosi      \n",
       "17 GeoData Consultants Ltd VWC                                              \n",
       "18 GeoData Consultants Ltd VWC               Shagayo forest                 \n",
       "19 GeoData Consultants Ltd Parastatal                                       \n",
       "20 GeoData Consultants Ltd Water Board       Borehole                       \n",
       "   permit construction_year extraction_type extraction_type_group\n",
       "1  True   2012              other           other                \n",
       "2  True   2000              gravity         gravity              \n",
       "3         2010              other           other                \n",
       "4  True   1987              other           other                \n",
       "5  True   2000              gravity         gravity              \n",
       "6  True   1990              gravity         gravity              \n",
       "7  True   2007              india mark ii   india mark ii        \n",
       "8  True   1982              submersible     submersible          \n",
       "9  False  1997              gravity         gravity              \n",
       "10 True   2003              gravity         gravity              \n",
       "11 True   2006              gravity         gravity              \n",
       "12 True   2002              other           other                \n",
       "13 True      0              mono            mono                 \n",
       "14 True      0              mono            mono                 \n",
       "15 True   1984              gravity         gravity              \n",
       "16 True   1989              gravity         gravity              \n",
       "17 False     0              nira/tanira     nira/tanira          \n",
       "18 True   1978              gravity         gravity              \n",
       "19 True      0              gravity         gravity              \n",
       "20 True   1982              submersible     submersible          \n",
       "   extraction_type_class management  management_group payment       \n",
       "1  other                 parastatal  parastatal       never pay     \n",
       "2  gravity               vwc         user-group       never pay     \n",
       "3  other                 vwc         user-group       never pay     \n",
       "4  other                 vwc         user-group       unknown       \n",
       "5  gravity               water board user-group       pay monthly   \n",
       "6  gravity               vwc         user-group       never pay     \n",
       "7  handpump              vwc         user-group       never pay     \n",
       "8  submersible           vwc         user-group       never pay     \n",
       "9  gravity               vwc         user-group       pay per bucket\n",
       "10 gravity               water board user-group       pay monthly   \n",
       "11 gravity               water board user-group       pay per bucket\n",
       "12 other                 vwc         user-group       never pay     \n",
       "13 motorpump             vwc         user-group       unknown       \n",
       "14 motorpump             vwc         user-group       pay per bucket\n",
       "15 gravity               vwc         user-group       pay monthly   \n",
       "16 gravity               vwc         user-group       pay annually  \n",
       "17 handpump              vwc         user-group       never pay     \n",
       "18 gravity               vwc         user-group       pay monthly   \n",
       "19 gravity               parastatal  parastatal       unknown       \n",
       "20 submersible           vwc         user-group       never pay     \n",
       "   payment_type water_quality quality_group quantity     quantity_group\n",
       "1  never pay    soft          good          seasonal     seasonal      \n",
       "2  never pay    soft          good          insufficient insufficient  \n",
       "3  never pay    soft          good          insufficient insufficient  \n",
       "4  unknown      soft          good          dry          dry           \n",
       "5  monthly      soft          good          enough       enough        \n",
       "6  never pay    soft          good          enough       enough        \n",
       "7  never pay    salty         salty         enough       enough        \n",
       "8  never pay    soft          good          dry          dry           \n",
       "9  per bucket   soft          good          insufficient insufficient  \n",
       "10 monthly      soft          good          enough       enough        \n",
       "11 per bucket   soft          good          enough       enough        \n",
       "12 never pay    soft          good          dry          dry           \n",
       "13 unknown      soft          good          dry          dry           \n",
       "14 per bucket   soft          good          enough       enough        \n",
       "15 monthly      soft          good          enough       enough        \n",
       "16 annually     soft          good          enough       enough        \n",
       "17 never pay    soft          good          enough       enough        \n",
       "18 monthly      soft          good          enough       enough        \n",
       "19 unknown      soft          good          seasonal     seasonal      \n",
       "20 never pay    soft          good          dry          dry           \n",
       "   source               source_type          source_class\n",
       "1  rainwater harvesting rainwater harvesting surface     \n",
       "2  spring               spring               groundwater \n",
       "3  rainwater harvesting rainwater harvesting surface     \n",
       "4  shallow well         shallow well         groundwater \n",
       "5  spring               spring               groundwater \n",
       "6  spring               spring               groundwater \n",
       "7  machine dbh          borehole             groundwater \n",
       "8  machine dbh          borehole             groundwater \n",
       "9  spring               spring               groundwater \n",
       "10 spring               spring               groundwater \n",
       "11 spring               spring               groundwater \n",
       "12 rainwater harvesting rainwater harvesting surface     \n",
       "13 machine dbh          borehole             groundwater \n",
       "14 machine dbh          borehole             groundwater \n",
       "15 spring               spring               groundwater \n",
       "16 river                river/lake           surface     \n",
       "17 shallow well         shallow well         groundwater \n",
       "18 spring               spring               groundwater \n",
       "19 rainwater harvesting rainwater harvesting surface     \n",
       "20 machine dbh          borehole             groundwater \n",
       "   waterpoint_type             waterpoint_type_group\n",
       "1  other                       other                \n",
       "2  communal standpipe          communal standpipe   \n",
       "3  other                       other                \n",
       "4  other                       other                \n",
       "5  communal standpipe          communal standpipe   \n",
       "6  communal standpipe          communal standpipe   \n",
       "7  hand pump                   hand pump            \n",
       "8  communal standpipe multiple communal standpipe   \n",
       "9  communal standpipe          communal standpipe   \n",
       "10 communal standpipe          communal standpipe   \n",
       "11 communal standpipe          communal standpipe   \n",
       "12 other                       other                \n",
       "13 communal standpipe multiple communal standpipe   \n",
       "14 communal standpipe multiple communal standpipe   \n",
       "15 communal standpipe          communal standpipe   \n",
       "16 communal standpipe multiple communal standpipe   \n",
       "17 hand pump                   hand pump            \n",
       "18 communal standpipe          communal standpipe   \n",
       "19 communal standpipe          communal standpipe   \n",
       "20 communal standpipe          communal standpipe   "
      ]
     },
     "metadata": {},
     "output_type": "display_data"
    },
    {
     "data": {
      "text/html": [
       "<table class=\"dataframe\">\n",
       "<caption>A data.frame: 20 × 41</caption>\n",
       "<thead>\n",
       "\t<tr><th></th><th scope=col>id</th><th scope=col>amount_tsh</th><th scope=col>date_recorded</th><th scope=col>funder</th><th scope=col>gps_height</th><th scope=col>installer</th><th scope=col>longitude</th><th scope=col>latitude</th><th scope=col>wpt_name</th><th scope=col>num_private</th><th scope=col>basin</th><th scope=col>subvillage</th><th scope=col>region</th><th scope=col>region_code</th><th scope=col>district_code</th><th scope=col>lga</th><th scope=col>ward</th><th scope=col>population</th><th scope=col>public_meeting</th><th scope=col>recorded_by</th><th scope=col>scheme_management</th><th scope=col>scheme_name</th><th scope=col>permit</th><th scope=col>construction_year</th><th scope=col>extraction_type</th><th scope=col>extraction_type_group</th><th scope=col>extraction_type_class</th><th scope=col>management</th><th scope=col>management_group</th><th scope=col>payment</th><th scope=col>payment_type</th><th scope=col>water_quality</th><th scope=col>quality_group</th><th scope=col>quantity</th><th scope=col>quantity_group</th><th scope=col>source</th><th scope=col>source_type</th><th scope=col>source_class</th><th scope=col>waterpoint_type</th><th scope=col>waterpoint_type_group</th><th scope=col>status_group</th></tr>\n",
       "\t<tr><th></th><th scope=col>&lt;int&gt;</th><th scope=col>&lt;dbl&gt;</th><th scope=col>&lt;fct&gt;</th><th scope=col>&lt;fct&gt;</th><th scope=col>&lt;int&gt;</th><th scope=col>&lt;fct&gt;</th><th scope=col>&lt;dbl&gt;</th><th scope=col>&lt;dbl&gt;</th><th scope=col>&lt;fct&gt;</th><th scope=col>&lt;int&gt;</th><th scope=col>&lt;fct&gt;</th><th scope=col>&lt;fct&gt;</th><th scope=col>&lt;fct&gt;</th><th scope=col>&lt;int&gt;</th><th scope=col>&lt;int&gt;</th><th scope=col>&lt;fct&gt;</th><th scope=col>&lt;fct&gt;</th><th scope=col>&lt;int&gt;</th><th scope=col>&lt;fct&gt;</th><th scope=col>&lt;fct&gt;</th><th scope=col>&lt;fct&gt;</th><th scope=col>&lt;fct&gt;</th><th scope=col>&lt;fct&gt;</th><th scope=col>&lt;int&gt;</th><th scope=col>&lt;fct&gt;</th><th scope=col>&lt;fct&gt;</th><th scope=col>&lt;fct&gt;</th><th scope=col>&lt;fct&gt;</th><th scope=col>&lt;fct&gt;</th><th scope=col>&lt;fct&gt;</th><th scope=col>&lt;fct&gt;</th><th scope=col>&lt;fct&gt;</th><th scope=col>&lt;fct&gt;</th><th scope=col>&lt;fct&gt;</th><th scope=col>&lt;fct&gt;</th><th scope=col>&lt;fct&gt;</th><th scope=col>&lt;fct&gt;</th><th scope=col>&lt;fct&gt;</th><th scope=col>&lt;fct&gt;</th><th scope=col>&lt;fct&gt;</th><th scope=col>&lt;fct&gt;</th></tr>\n",
       "</thead>\n",
       "<tbody>\n",
       "\t<tr><th scope=row>1</th><td> 0</td><td>  0</td><td>2012-11-13</td><td>Tasaf                  </td><td>   0</td><td>TASAF     </td><td>33.12583</td><td> -5.11815407</td><td>Mratibu                     </td><td>0</td><td>Lake Tanganyika        </td><td>Majengo        </td><td>Tabora       </td><td>14</td><td> 3</td><td>Uyui           </td><td>Igalula         </td><td>   0</td><td>     </td><td>GeoData Consultants Ltd</td><td>VWC             </td><td>                         </td><td>True </td><td>   0</td><td>afridev          </td><td>afridev    </td><td>handpump   </td><td>vwc             </td><td>user-group</td><td>unknown              </td><td>unknown   </td><td>milky          </td><td>milky</td><td>enough      </td><td>enough      </td><td>shallow well        </td><td>shallow well        </td><td>groundwater</td><td>hand pump                  </td><td>hand pump         </td><td>non functional         </td></tr>\n",
       "\t<tr><th scope=row>2</th><td> 1</td><td>  0</td><td>2011-03-05</td><td>Shipo                  </td><td>1978</td><td>SHIPO     </td><td>34.77072</td><td> -9.39564152</td><td>none                        </td><td>0</td><td>Rufiji                 </td><td>Magoda C       </td><td>Iringa       </td><td>11</td><td> 4</td><td>Njombe         </td><td>Uwemba          </td><td>  20</td><td>True </td><td>GeoData Consultants Ltd</td><td>                </td><td>                         </td><td>False</td><td>2008</td><td>other - rope pump</td><td>rope pump  </td><td>rope pump  </td><td>vwc             </td><td>user-group</td><td>never pay            </td><td>never pay </td><td>soft           </td><td>good </td><td>enough      </td><td>enough      </td><td>shallow well        </td><td>shallow well        </td><td>groundwater</td><td>hand pump                  </td><td>hand pump         </td><td>functional             </td></tr>\n",
       "\t<tr><th scope=row>3</th><td> 2</td><td>  0</td><td>2011-03-27</td><td>Lvia                   </td><td>   0</td><td>LVIA      </td><td>36.11506</td><td> -6.27926803</td><td>Bombani                     </td><td>0</td><td>Wami / Ruvu            </td><td>Songambele     </td><td>Dodoma       </td><td> 1</td><td> 4</td><td>Chamwino       </td><td>Msamalo         </td><td>   0</td><td>True </td><td>GeoData Consultants Ltd</td><td>VWC             </td><td>Mgun                     </td><td>True </td><td>   0</td><td>mono             </td><td>mono       </td><td>motorpump  </td><td>vwc             </td><td>user-group</td><td>pay per bucket       </td><td>per bucket</td><td>soft           </td><td>good </td><td>insufficient</td><td>insufficient</td><td>machine dbh         </td><td>borehole            </td><td>groundwater</td><td>communal standpipe multiple</td><td>communal standpipe</td><td>functional             </td></tr>\n",
       "\t<tr><th scope=row>4</th><td> 3</td><td> 10</td><td>2013-06-03</td><td>Germany Republi        </td><td>1639</td><td>CES       </td><td>37.14743</td><td> -3.18755455</td><td>Area 7 Namba 5              </td><td>0</td><td>Pangani                </td><td>Urereni        </td><td>Kilimanjaro  </td><td> 3</td><td> 5</td><td>Hai            </td><td>Masama Magharibi</td><td>  25</td><td>True </td><td>GeoData Consultants Ltd</td><td>Water Board     </td><td>Losaa-Kia water supply   </td><td>True </td><td>1999</td><td>gravity          </td><td>gravity    </td><td>gravity    </td><td>water board     </td><td>user-group</td><td>pay per bucket       </td><td>per bucket</td><td>soft           </td><td>good </td><td>enough      </td><td>enough      </td><td>spring              </td><td>spring              </td><td>groundwater</td><td>communal standpipe         </td><td>communal standpipe</td><td>functional             </td></tr>\n",
       "\t<tr><th scope=row>5</th><td> 4</td><td>  0</td><td>2011-03-22</td><td>Cmsr                   </td><td>   0</td><td>CMSR      </td><td>36.16489</td><td> -6.09928949</td><td>Ezeleda                     </td><td>0</td><td>Wami / Ruvu            </td><td>Maata A        </td><td>Dodoma       </td><td> 1</td><td> 4</td><td>Chamwino       </td><td>Majeleko        </td><td>   0</td><td>True </td><td>GeoData Consultants Ltd</td><td>VWC             </td><td>                         </td><td>True </td><td>   0</td><td>nira/tanira      </td><td>nira/tanira</td><td>handpump   </td><td>vwc             </td><td>user-group</td><td>unknown              </td><td>unknown   </td><td>soft           </td><td>good </td><td>dry         </td><td>dry         </td><td>shallow well        </td><td>shallow well        </td><td>groundwater</td><td>hand pump                  </td><td>hand pump         </td><td>non functional         </td></tr>\n",
       "\t<tr><th scope=row>6</th><td> 5</td><td> 50</td><td>2011-02-26</td><td>Private                </td><td>  28</td><td>Private   </td><td>39.28612</td><td> -6.97240273</td><td>Kwa Namaj                   </td><td>0</td><td>Wami / Ruvu            </td><td>Mwandege       </td><td>Pwani        </td><td>60</td><td>43</td><td>Mkuranga       </td><td>Vikindu         </td><td>6922</td><td>True </td><td>GeoData Consultants Ltd</td><td>Private operator</td><td>                         </td><td>False</td><td>   0</td><td>submersible      </td><td>submersible</td><td>submersible</td><td>private operator</td><td>commercial</td><td>pay per bucket       </td><td>per bucket</td><td>soft           </td><td>good </td><td>enough      </td><td>enough      </td><td>machine dbh         </td><td>borehole            </td><td>groundwater</td><td>communal standpipe multiple</td><td>communal standpipe</td><td>functional             </td></tr>\n",
       "\t<tr><th scope=row>7</th><td> 6</td><td>  0</td><td>2012-10-20</td><td>Government Of Tanzania </td><td>   0</td><td>Government</td><td>33.22988</td><td> -3.85298271</td><td>Mission                     </td><td>0</td><td>Internal               </td><td>Ngaganulwa     </td><td>Shinyanga    </td><td>17</td><td> 3</td><td>Shinyanga Rural</td><td>Usanda          </td><td>   0</td><td>True </td><td>GeoData Consultants Ltd</td><td>VWC             </td><td>                         </td><td>True </td><td>   0</td><td>other            </td><td>other      </td><td>other      </td><td>vwc             </td><td>user-group</td><td>never pay            </td><td>never pay </td><td>soft           </td><td>good </td><td>seasonal    </td><td>seasonal    </td><td>shallow well        </td><td>shallow well        </td><td>groundwater</td><td>other                      </td><td>other             </td><td>non functional         </td></tr>\n",
       "\t<tr><th scope=row>8</th><td> 7</td><td>  0</td><td>2011-03-23</td><td>Water                  </td><td>   0</td><td>Gover     </td><td>36.31362</td><td> -6.71925716</td><td>Itawi                       </td><td>0</td><td>Rufiji                 </td><td>Mwangaza       </td><td>Dodoma       </td><td> 1</td><td> 1</td><td>Mpwapwa        </td><td>Wotta           </td><td>   0</td><td>True </td><td>GeoData Consultants Ltd</td><td>VWC             </td><td>Lwih                     </td><td>True </td><td>   0</td><td>other            </td><td>other      </td><td>other      </td><td>vwc             </td><td>user-group</td><td>never pay            </td><td>never pay </td><td>milky          </td><td>milky</td><td>insufficient</td><td>insufficient</td><td>spring              </td><td>spring              </td><td>groundwater</td><td>improved spring            </td><td>improved spring   </td><td>functional             </td></tr>\n",
       "\t<tr><th scope=row>9</th><td> 8</td><td>  0</td><td>2011-04-07</td><td>Water                  </td><td>   0</td><td>Commu     </td><td>35.93944</td><td> -6.01435820</td><td>Kwa Chiswagala              </td><td>0</td><td>Wami / Ruvu            </td><td>Mazengo        </td><td>Dodoma       </td><td> 1</td><td> 5</td><td>Dodoma Urban   </td><td>Ipala           </td><td>   0</td><td>True </td><td>GeoData Consultants Ltd</td><td>VWC             </td><td>Ipal                     </td><td>False</td><td>   0</td><td>mono             </td><td>mono       </td><td>motorpump  </td><td>private operator</td><td>commercial</td><td>pay per bucket       </td><td>per bucket</td><td>soft           </td><td>good </td><td>dry         </td><td>dry         </td><td>machine dbh         </td><td>borehole            </td><td>groundwater</td><td>communal standpipe multiple</td><td>communal standpipe</td><td>non functional         </td></tr>\n",
       "\t<tr><th scope=row>10</th><td> 9</td><td>  0</td><td>2011-07-12</td><td>Ded                    </td><td>   0</td><td>DED       </td><td>31.69337</td><td> -2.53070326</td><td>Shule Ya Msingi Nyamirembe A</td><td>0</td><td>Lake Victoria          </td><td>Miembeni       </td><td>Kagera       </td><td>18</td><td> 8</td><td>Chato          </td><td>Nyamirembe      </td><td>   0</td><td>True </td><td>GeoData Consultants Ltd</td><td>VWC             </td><td>Mapinduzi                </td><td>True </td><td>   0</td><td>mono             </td><td>mono       </td><td>motorpump  </td><td>vwc             </td><td>user-group</td><td>never pay            </td><td>never pay </td><td>soft           </td><td>good </td><td>insufficient</td><td>insufficient</td><td>machine dbh         </td><td>borehole            </td><td>groundwater</td><td>communal standpipe multiple</td><td>communal standpipe</td><td>non functional         </td></tr>\n",
       "\t<tr><th scope=row>11</th><td>11</td><td> 30</td><td>2011-03-09</td><td>Kwa Makala             </td><td>  64</td><td>Makala    </td><td>38.66364</td><td> -5.80574551</td><td>Kwa Makala                  </td><td>0</td><td>Pangani                </td><td>Sokoni         </td><td>Tanga        </td><td> 4</td><td> 5</td><td>Pangani        </td><td>Mkalamo         </td><td> 150</td><td>False</td><td>GeoData Consultants Ltd</td><td>Private operator</td><td>Mkalamo water supply     </td><td>False</td><td>2007</td><td>submersible      </td><td>submersible</td><td>submersible</td><td>private operator</td><td>commercial</td><td>pay per bucket       </td><td>per bucket</td><td>salty          </td><td>salty</td><td>insufficient</td><td>insufficient</td><td>machine dbh         </td><td>borehole            </td><td>groundwater</td><td>communal standpipe         </td><td>communal standpipe</td><td>non functional         </td></tr>\n",
       "\t<tr><th scope=row>12</th><td>12</td><td>  0</td><td>2013-03-14</td><td>World Bank             </td><td>1332</td><td>World bank</td><td>36.75623</td><td> -3.37377239</td><td>Moivaro Primary School      </td><td>0</td><td>Pangani                </td><td>Moivaro        </td><td>Arusha       </td><td> 2</td><td> 7</td><td>Meru           </td><td>Nkoanrua        </td><td> 350</td><td>True </td><td>GeoData Consultants Ltd</td><td>WUA             </td><td>                         </td><td>False</td><td>2010</td><td>gravity          </td><td>gravity    </td><td>gravity    </td><td>wua             </td><td>user-group</td><td>unknown              </td><td>unknown   </td><td>soft           </td><td>good </td><td>insufficient</td><td>insufficient</td><td>rainwater harvesting</td><td>rainwater harvesting</td><td>surface    </td><td>communal standpipe         </td><td>communal standpipe</td><td>non functional         </td></tr>\n",
       "\t<tr><th scope=row>13</th><td>15</td><td>  0</td><td>2012-11-06</td><td>Hesawa                 </td><td>   0</td><td>DWE       </td><td> 0.00000</td><td> -0.00000002</td><td>Kwamazoa                    </td><td>0</td><td>Lake Victoria          </td><td>Madukani       </td><td>Mwanza       </td><td>19</td><td> 2</td><td>Magu           </td><td>Igalukilo       </td><td>   0</td><td>True </td><td>GeoData Consultants Ltd</td><td>                </td><td>                         </td><td>True </td><td>   0</td><td>other            </td><td>other      </td><td>other      </td><td>vwc             </td><td>user-group</td><td>never pay            </td><td>never pay </td><td>soft           </td><td>good </td><td>seasonal    </td><td>seasonal    </td><td>shallow well        </td><td>shallow well        </td><td>groundwater</td><td>other                      </td><td>other             </td><td>non functional         </td></tr>\n",
       "\t<tr><th scope=row>14</th><td>16</td><td>  0</td><td>2013-02-03</td><td>Songea District Council</td><td>1014</td><td>DWE       </td><td>35.33371</td><td>-10.46963842</td><td>Kwa Feristasi               </td><td>0</td><td>Lake Nyasa             </td><td>Amka Twende    </td><td>Ruvuma       </td><td>10</td><td> 2</td><td>Songea Rural   </td><td>Kilagano        </td><td>   0</td><td>True </td><td>GeoData Consultants Ltd</td><td>VWC             </td><td>Mradi wa maji wa kilagano</td><td>True </td><td>1984</td><td>gravity          </td><td>gravity    </td><td>gravity    </td><td>vwc             </td><td>user-group</td><td>pay when scheme fails</td><td>on failure</td><td>soft           </td><td>good </td><td>dry         </td><td>dry         </td><td>spring              </td><td>spring              </td><td>groundwater</td><td>communal standpipe         </td><td>communal standpipe</td><td>non functional         </td></tr>\n",
       "\t<tr><th scope=row>15</th><td>17</td><td>  0</td><td>2013-03-28</td><td>World Bank             </td><td>1606</td><td>DWE       </td><td>36.62429</td><td> -3.27627358</td><td>Seuli                       </td><td>0</td><td>Pangani                </td><td>Seuli          </td><td>Arusha       </td><td> 2</td><td> 2</td><td>Arusha Rural   </td><td>Oltrumet        </td><td> 200</td><td>True </td><td>GeoData Consultants Ltd</td><td>VWC             </td><td>Mlimani pipe line        </td><td>True </td><td>2010</td><td>gravity          </td><td>gravity    </td><td>gravity    </td><td>vwc             </td><td>user-group</td><td>never pay            </td><td>never pay </td><td>soft           </td><td>good </td><td>enough      </td><td>enough      </td><td>spring              </td><td>spring              </td><td>groundwater</td><td>communal standpipe         </td><td>communal standpipe</td><td>functional             </td></tr>\n",
       "\t<tr><th scope=row>16</th><td>18</td><td>  0</td><td>2011-03-13</td><td>Water                  </td><td>   0</td><td>Commu     </td><td>36.52430</td><td> -6.18081796</td><td>Kwa Majele                  </td><td>0</td><td>Wami / Ruvu            </td><td>               </td><td>Dodoma       </td><td> 1</td><td> 3</td><td>Kongwa         </td><td>Ugogoni         </td><td>   0</td><td>True </td><td>GeoData Consultants Ltd</td><td>VWC             </td><td>Msin                     </td><td>False</td><td>   0</td><td>mono             </td><td>mono       </td><td>motorpump  </td><td>vwc             </td><td>user-group</td><td>pay per bucket       </td><td>per bucket</td><td>salty          </td><td>salty</td><td>enough      </td><td>enough      </td><td>machine dbh         </td><td>borehole            </td><td>groundwater</td><td>communal standpipe multiple</td><td>communal standpipe</td><td>functional             </td></tr>\n",
       "\t<tr><th scope=row>17</th><td>19</td><td> 50</td><td>2013-02-23</td><td>Amref                  </td><td> 226</td><td>Amref     </td><td>39.73442</td><td>-10.56919171</td><td>Kwa Ally Likomba            </td><td>0</td><td>Ruvuma / Southern Coast</td><td>Mwenge         </td><td>Mtwara       </td><td>99</td><td> 1</td><td>Mtwara Rural   </td><td>Njengwa         </td><td> 450</td><td>True </td><td>GeoData Consultants Ltd</td><td>VWC             </td><td>Nang'awanga water supply </td><td>True </td><td>2012</td><td>mono             </td><td>mono       </td><td>motorpump  </td><td>vwc             </td><td>user-group</td><td>pay per bucket       </td><td>per bucket</td><td>soft           </td><td>good </td><td>enough      </td><td>enough      </td><td>machine dbh         </td><td>borehole            </td><td>groundwater</td><td>communal standpipe multiple</td><td>communal standpipe</td><td>functional             </td></tr>\n",
       "\t<tr><th scope=row>18</th><td>20</td><td>250</td><td>2013-02-09</td><td>Oxfam                  </td><td>1257</td><td>OXFAM     </td><td>29.90178</td><td> -4.54070514</td><td>Ccm                         </td><td>0</td><td>Lake Tanganyika        </td><td>Gwandamula     </td><td>Kigoma       </td><td>16</td><td> 2</td><td>Kasulu         </td><td>Janda           </td><td> 340</td><td>True </td><td>GeoData Consultants Ltd</td><td>Water authority </td><td>Mwangwe                  </td><td>True </td><td>1999</td><td>gravity          </td><td>gravity    </td><td>gravity    </td><td>water board     </td><td>user-group</td><td>pay monthly          </td><td>monthly   </td><td>soft           </td><td>good </td><td>enough      </td><td>enough      </td><td>river               </td><td>river/lake          </td><td>surface    </td><td>communal standpipe multiple</td><td>communal standpipe</td><td>functional needs repair</td></tr>\n",
       "\t<tr><th scope=row>19</th><td>21</td><td>  0</td><td>2011-03-22</td><td>Government Of Tanzania </td><td>   0</td><td>GOVER     </td><td>36.24521</td><td> -6.01976068</td><td>Salum Sady                  </td><td>0</td><td>Wami / Ruvu            </td><td>Manzilanzi A   </td><td>Dodoma       </td><td> 1</td><td> 4</td><td>Chamwino       </td><td>Majeleko        </td><td>   0</td><td>True </td><td>GeoData Consultants Ltd</td><td>VWC             </td><td>Manz                     </td><td>True </td><td>   0</td><td>mono             </td><td>mono       </td><td>motorpump  </td><td>vwc             </td><td>user-group</td><td>unknown              </td><td>unknown   </td><td>soft           </td><td>good </td><td>dry         </td><td>dry         </td><td>machine dbh         </td><td>borehole            </td><td>groundwater</td><td>communal standpipe multiple</td><td>communal standpipe</td><td>non functional         </td></tr>\n",
       "\t<tr><th scope=row>20</th><td>22</td><td> 50</td><td>2013-03-16</td><td>                       </td><td>  76</td><td>          </td><td>39.08618</td><td> -6.98584173</td><td>Kwa Konde                   </td><td>0</td><td>Wami / Ruvu            </td><td>Mtaa Wa Tungini</td><td>Dar es Salaam</td><td> 7</td><td> 2</td><td>Ilala          </td><td>Chanika         </td><td> 250</td><td>     </td><td>GeoData Consultants Ltd</td><td>Private operator</td><td>                         </td><td>     </td><td>2010</td><td>other            </td><td>other      </td><td>other      </td><td>private operator</td><td>commercial</td><td>pay per bucket       </td><td>per bucket</td><td>salty abandoned</td><td>salty</td><td>enough      </td><td>enough      </td><td>machine dbh         </td><td>borehole            </td><td>groundwater</td><td>communal standpipe         </td><td>communal standpipe</td><td>functional             </td></tr>\n",
       "</tbody>\n",
       "</table>\n"
      ],
      "text/latex": [
       "A data.frame: 20 × 41\n",
       "\\begin{tabular}{r|lllllllllllllllllllllllllllllllllllllllll}\n",
       "  & id & amount\\_tsh & date\\_recorded & funder & gps\\_height & installer & longitude & latitude & wpt\\_name & num\\_private & basin & subvillage & region & region\\_code & district\\_code & lga & ward & population & public\\_meeting & recorded\\_by & scheme\\_management & scheme\\_name & permit & construction\\_year & extraction\\_type & extraction\\_type\\_group & extraction\\_type\\_class & management & management\\_group & payment & payment\\_type & water\\_quality & quality\\_group & quantity & quantity\\_group & source & source\\_type & source\\_class & waterpoint\\_type & waterpoint\\_type\\_group & status\\_group\\\\\n",
       "  & <int> & <dbl> & <fct> & <fct> & <int> & <fct> & <dbl> & <dbl> & <fct> & <int> & <fct> & <fct> & <fct> & <int> & <int> & <fct> & <fct> & <int> & <fct> & <fct> & <fct> & <fct> & <fct> & <int> & <fct> & <fct> & <fct> & <fct> & <fct> & <fct> & <fct> & <fct> & <fct> & <fct> & <fct> & <fct> & <fct> & <fct> & <fct> & <fct> & <fct>\\\\\n",
       "\\hline\n",
       "\t1 &  0 &   0 & 2012-11-13 & Tasaf                   &    0 & TASAF      & 33.12583 &  -5.11815407 & Mratibu                      & 0 & Lake Tanganyika         & Majengo         & Tabora        & 14 &  3 & Uyui            & Igalula          &    0 &       & GeoData Consultants Ltd & VWC              &                           & True  &    0 & afridev           & afridev     & handpump    & vwc              & user-group & unknown               & unknown    & milky           & milky & enough       & enough       & shallow well         & shallow well         & groundwater & hand pump                   & hand pump          & non functional         \\\\\n",
       "\t2 &  1 &   0 & 2011-03-05 & Shipo                   & 1978 & SHIPO      & 34.77072 &  -9.39564152 & none                         & 0 & Rufiji                  & Magoda C        & Iringa        & 11 &  4 & Njombe          & Uwemba           &   20 & True  & GeoData Consultants Ltd &                  &                           & False & 2008 & other - rope pump & rope pump   & rope pump   & vwc              & user-group & never pay             & never pay  & soft            & good  & enough       & enough       & shallow well         & shallow well         & groundwater & hand pump                   & hand pump          & functional             \\\\\n",
       "\t3 &  2 &   0 & 2011-03-27 & Lvia                    &    0 & LVIA       & 36.11506 &  -6.27926803 & Bombani                      & 0 & Wami / Ruvu             & Songambele      & Dodoma        &  1 &  4 & Chamwino        & Msamalo          &    0 & True  & GeoData Consultants Ltd & VWC              & Mgun                      & True  &    0 & mono              & mono        & motorpump   & vwc              & user-group & pay per bucket        & per bucket & soft            & good  & insufficient & insufficient & machine dbh          & borehole             & groundwater & communal standpipe multiple & communal standpipe & functional             \\\\\n",
       "\t4 &  3 &  10 & 2013-06-03 & Germany Republi         & 1639 & CES        & 37.14743 &  -3.18755455 & Area 7 Namba 5               & 0 & Pangani                 & Urereni         & Kilimanjaro   &  3 &  5 & Hai             & Masama Magharibi &   25 & True  & GeoData Consultants Ltd & Water Board      & Losaa-Kia water supply    & True  & 1999 & gravity           & gravity     & gravity     & water board      & user-group & pay per bucket        & per bucket & soft            & good  & enough       & enough       & spring               & spring               & groundwater & communal standpipe          & communal standpipe & functional             \\\\\n",
       "\t5 &  4 &   0 & 2011-03-22 & Cmsr                    &    0 & CMSR       & 36.16489 &  -6.09928949 & Ezeleda                      & 0 & Wami / Ruvu             & Maata A         & Dodoma        &  1 &  4 & Chamwino        & Majeleko         &    0 & True  & GeoData Consultants Ltd & VWC              &                           & True  &    0 & nira/tanira       & nira/tanira & handpump    & vwc              & user-group & unknown               & unknown    & soft            & good  & dry          & dry          & shallow well         & shallow well         & groundwater & hand pump                   & hand pump          & non functional         \\\\\n",
       "\t6 &  5 &  50 & 2011-02-26 & Private                 &   28 & Private    & 39.28612 &  -6.97240273 & Kwa Namaj                    & 0 & Wami / Ruvu             & Mwandege        & Pwani         & 60 & 43 & Mkuranga        & Vikindu          & 6922 & True  & GeoData Consultants Ltd & Private operator &                           & False &    0 & submersible       & submersible & submersible & private operator & commercial & pay per bucket        & per bucket & soft            & good  & enough       & enough       & machine dbh          & borehole             & groundwater & communal standpipe multiple & communal standpipe & functional             \\\\\n",
       "\t7 &  6 &   0 & 2012-10-20 & Government Of Tanzania  &    0 & Government & 33.22988 &  -3.85298271 & Mission                      & 0 & Internal                & Ngaganulwa      & Shinyanga     & 17 &  3 & Shinyanga Rural & Usanda           &    0 & True  & GeoData Consultants Ltd & VWC              &                           & True  &    0 & other             & other       & other       & vwc              & user-group & never pay             & never pay  & soft            & good  & seasonal     & seasonal     & shallow well         & shallow well         & groundwater & other                       & other              & non functional         \\\\\n",
       "\t8 &  7 &   0 & 2011-03-23 & Water                   &    0 & Gover      & 36.31362 &  -6.71925716 & Itawi                        & 0 & Rufiji                  & Mwangaza        & Dodoma        &  1 &  1 & Mpwapwa         & Wotta            &    0 & True  & GeoData Consultants Ltd & VWC              & Lwih                      & True  &    0 & other             & other       & other       & vwc              & user-group & never pay             & never pay  & milky           & milky & insufficient & insufficient & spring               & spring               & groundwater & improved spring             & improved spring    & functional             \\\\\n",
       "\t9 &  8 &   0 & 2011-04-07 & Water                   &    0 & Commu      & 35.93944 &  -6.01435820 & Kwa Chiswagala               & 0 & Wami / Ruvu             & Mazengo         & Dodoma        &  1 &  5 & Dodoma Urban    & Ipala            &    0 & True  & GeoData Consultants Ltd & VWC              & Ipal                      & False &    0 & mono              & mono        & motorpump   & private operator & commercial & pay per bucket        & per bucket & soft            & good  & dry          & dry          & machine dbh          & borehole             & groundwater & communal standpipe multiple & communal standpipe & non functional         \\\\\n",
       "\t10 &  9 &   0 & 2011-07-12 & Ded                     &    0 & DED        & 31.69337 &  -2.53070326 & Shule Ya Msingi Nyamirembe A & 0 & Lake Victoria           & Miembeni        & Kagera        & 18 &  8 & Chato           & Nyamirembe       &    0 & True  & GeoData Consultants Ltd & VWC              & Mapinduzi                 & True  &    0 & mono              & mono        & motorpump   & vwc              & user-group & never pay             & never pay  & soft            & good  & insufficient & insufficient & machine dbh          & borehole             & groundwater & communal standpipe multiple & communal standpipe & non functional         \\\\\n",
       "\t11 & 11 &  30 & 2011-03-09 & Kwa Makala              &   64 & Makala     & 38.66364 &  -5.80574551 & Kwa Makala                   & 0 & Pangani                 & Sokoni          & Tanga         &  4 &  5 & Pangani         & Mkalamo          &  150 & False & GeoData Consultants Ltd & Private operator & Mkalamo water supply      & False & 2007 & submersible       & submersible & submersible & private operator & commercial & pay per bucket        & per bucket & salty           & salty & insufficient & insufficient & machine dbh          & borehole             & groundwater & communal standpipe          & communal standpipe & non functional         \\\\\n",
       "\t12 & 12 &   0 & 2013-03-14 & World Bank              & 1332 & World bank & 36.75623 &  -3.37377239 & Moivaro Primary School       & 0 & Pangani                 & Moivaro         & Arusha        &  2 &  7 & Meru            & Nkoanrua         &  350 & True  & GeoData Consultants Ltd & WUA              &                           & False & 2010 & gravity           & gravity     & gravity     & wua              & user-group & unknown               & unknown    & soft            & good  & insufficient & insufficient & rainwater harvesting & rainwater harvesting & surface     & communal standpipe          & communal standpipe & non functional         \\\\\n",
       "\t13 & 15 &   0 & 2012-11-06 & Hesawa                  &    0 & DWE        &  0.00000 &  -0.00000002 & Kwamazoa                     & 0 & Lake Victoria           & Madukani        & Mwanza        & 19 &  2 & Magu            & Igalukilo        &    0 & True  & GeoData Consultants Ltd &                  &                           & True  &    0 & other             & other       & other       & vwc              & user-group & never pay             & never pay  & soft            & good  & seasonal     & seasonal     & shallow well         & shallow well         & groundwater & other                       & other              & non functional         \\\\\n",
       "\t14 & 16 &   0 & 2013-02-03 & Songea District Council & 1014 & DWE        & 35.33371 & -10.46963842 & Kwa Feristasi                & 0 & Lake Nyasa              & Amka Twende     & Ruvuma        & 10 &  2 & Songea Rural    & Kilagano         &    0 & True  & GeoData Consultants Ltd & VWC              & Mradi wa maji wa kilagano & True  & 1984 & gravity           & gravity     & gravity     & vwc              & user-group & pay when scheme fails & on failure & soft            & good  & dry          & dry          & spring               & spring               & groundwater & communal standpipe          & communal standpipe & non functional         \\\\\n",
       "\t15 & 17 &   0 & 2013-03-28 & World Bank              & 1606 & DWE        & 36.62429 &  -3.27627358 & Seuli                        & 0 & Pangani                 & Seuli           & Arusha        &  2 &  2 & Arusha Rural    & Oltrumet         &  200 & True  & GeoData Consultants Ltd & VWC              & Mlimani pipe line         & True  & 2010 & gravity           & gravity     & gravity     & vwc              & user-group & never pay             & never pay  & soft            & good  & enough       & enough       & spring               & spring               & groundwater & communal standpipe          & communal standpipe & functional             \\\\\n",
       "\t16 & 18 &   0 & 2011-03-13 & Water                   &    0 & Commu      & 36.52430 &  -6.18081796 & Kwa Majele                   & 0 & Wami / Ruvu             &                 & Dodoma        &  1 &  3 & Kongwa          & Ugogoni          &    0 & True  & GeoData Consultants Ltd & VWC              & Msin                      & False &    0 & mono              & mono        & motorpump   & vwc              & user-group & pay per bucket        & per bucket & salty           & salty & enough       & enough       & machine dbh          & borehole             & groundwater & communal standpipe multiple & communal standpipe & functional             \\\\\n",
       "\t17 & 19 &  50 & 2013-02-23 & Amref                   &  226 & Amref      & 39.73442 & -10.56919171 & Kwa Ally Likomba             & 0 & Ruvuma / Southern Coast & Mwenge          & Mtwara        & 99 &  1 & Mtwara Rural    & Njengwa          &  450 & True  & GeoData Consultants Ltd & VWC              & Nang'awanga water supply  & True  & 2012 & mono              & mono        & motorpump   & vwc              & user-group & pay per bucket        & per bucket & soft            & good  & enough       & enough       & machine dbh          & borehole             & groundwater & communal standpipe multiple & communal standpipe & functional             \\\\\n",
       "\t18 & 20 & 250 & 2013-02-09 & Oxfam                   & 1257 & OXFAM      & 29.90178 &  -4.54070514 & Ccm                          & 0 & Lake Tanganyika         & Gwandamula      & Kigoma        & 16 &  2 & Kasulu          & Janda            &  340 & True  & GeoData Consultants Ltd & Water authority  & Mwangwe                   & True  & 1999 & gravity           & gravity     & gravity     & water board      & user-group & pay monthly           & monthly    & soft            & good  & enough       & enough       & river                & river/lake           & surface     & communal standpipe multiple & communal standpipe & functional needs repair\\\\\n",
       "\t19 & 21 &   0 & 2011-03-22 & Government Of Tanzania  &    0 & GOVER      & 36.24521 &  -6.01976068 & Salum Sady                   & 0 & Wami / Ruvu             & Manzilanzi A    & Dodoma        &  1 &  4 & Chamwino        & Majeleko         &    0 & True  & GeoData Consultants Ltd & VWC              & Manz                      & True  &    0 & mono              & mono        & motorpump   & vwc              & user-group & unknown               & unknown    & soft            & good  & dry          & dry          & machine dbh          & borehole             & groundwater & communal standpipe multiple & communal standpipe & non functional         \\\\\n",
       "\t20 & 22 &  50 & 2013-03-16 &                         &   76 &            & 39.08618 &  -6.98584173 & Kwa Konde                    & 0 & Wami / Ruvu             & Mtaa Wa Tungini & Dar es Salaam &  7 &  2 & Ilala           & Chanika          &  250 &       & GeoData Consultants Ltd & Private operator &                           &       & 2010 & other             & other       & other       & private operator & commercial & pay per bucket        & per bucket & salty abandoned & salty & enough       & enough       & machine dbh          & borehole             & groundwater & communal standpipe          & communal standpipe & functional             \\\\\n",
       "\\end{tabular}\n"
      ],
      "text/markdown": [
       "\n",
       "A data.frame: 20 × 41\n",
       "\n",
       "| <!--/--> | id &lt;int&gt; | amount_tsh &lt;dbl&gt; | date_recorded &lt;fct&gt; | funder &lt;fct&gt; | gps_height &lt;int&gt; | installer &lt;fct&gt; | longitude &lt;dbl&gt; | latitude &lt;dbl&gt; | wpt_name &lt;fct&gt; | num_private &lt;int&gt; | basin &lt;fct&gt; | subvillage &lt;fct&gt; | region &lt;fct&gt; | region_code &lt;int&gt; | district_code &lt;int&gt; | lga &lt;fct&gt; | ward &lt;fct&gt; | population &lt;int&gt; | public_meeting &lt;fct&gt; | recorded_by &lt;fct&gt; | scheme_management &lt;fct&gt; | scheme_name &lt;fct&gt; | permit &lt;fct&gt; | construction_year &lt;int&gt; | extraction_type &lt;fct&gt; | extraction_type_group &lt;fct&gt; | extraction_type_class &lt;fct&gt; | management &lt;fct&gt; | management_group &lt;fct&gt; | payment &lt;fct&gt; | payment_type &lt;fct&gt; | water_quality &lt;fct&gt; | quality_group &lt;fct&gt; | quantity &lt;fct&gt; | quantity_group &lt;fct&gt; | source &lt;fct&gt; | source_type &lt;fct&gt; | source_class &lt;fct&gt; | waterpoint_type &lt;fct&gt; | waterpoint_type_group &lt;fct&gt; | status_group &lt;fct&gt; |\n",
       "|---|---|---|---|---|---|---|---|---|---|---|---|---|---|---|---|---|---|---|---|---|---|---|---|---|---|---|---|---|---|---|---|---|---|---|---|---|---|---|---|---|---|\n",
       "| 1 |  0 |   0 | 2012-11-13 | Tasaf                   |    0 | TASAF      | 33.12583 |  -5.11815407 | Mratibu                      | 0 | Lake Tanganyika         | Majengo         | Tabora        | 14 |  3 | Uyui            | Igalula          |    0 | <!----> | GeoData Consultants Ltd | VWC              | <!----> | True  |    0 | afridev           | afridev     | handpump    | vwc              | user-group | unknown               | unknown    | milky           | milky | enough       | enough       | shallow well         | shallow well         | groundwater | hand pump                   | hand pump          | non functional          |\n",
       "| 2 |  1 |   0 | 2011-03-05 | Shipo                   | 1978 | SHIPO      | 34.77072 |  -9.39564152 | none                         | 0 | Rufiji                  | Magoda C        | Iringa        | 11 |  4 | Njombe          | Uwemba           |   20 | True  | GeoData Consultants Ltd | <!----> | <!----> | False | 2008 | other - rope pump | rope pump   | rope pump   | vwc              | user-group | never pay             | never pay  | soft            | good  | enough       | enough       | shallow well         | shallow well         | groundwater | hand pump                   | hand pump          | functional              |\n",
       "| 3 |  2 |   0 | 2011-03-27 | Lvia                    |    0 | LVIA       | 36.11506 |  -6.27926803 | Bombani                      | 0 | Wami / Ruvu             | Songambele      | Dodoma        |  1 |  4 | Chamwino        | Msamalo          |    0 | True  | GeoData Consultants Ltd | VWC              | Mgun                      | True  |    0 | mono              | mono        | motorpump   | vwc              | user-group | pay per bucket        | per bucket | soft            | good  | insufficient | insufficient | machine dbh          | borehole             | groundwater | communal standpipe multiple | communal standpipe | functional              |\n",
       "| 4 |  3 |  10 | 2013-06-03 | Germany Republi         | 1639 | CES        | 37.14743 |  -3.18755455 | Area 7 Namba 5               | 0 | Pangani                 | Urereni         | Kilimanjaro   |  3 |  5 | Hai             | Masama Magharibi |   25 | True  | GeoData Consultants Ltd | Water Board      | Losaa-Kia water supply    | True  | 1999 | gravity           | gravity     | gravity     | water board      | user-group | pay per bucket        | per bucket | soft            | good  | enough       | enough       | spring               | spring               | groundwater | communal standpipe          | communal standpipe | functional              |\n",
       "| 5 |  4 |   0 | 2011-03-22 | Cmsr                    |    0 | CMSR       | 36.16489 |  -6.09928949 | Ezeleda                      | 0 | Wami / Ruvu             | Maata A         | Dodoma        |  1 |  4 | Chamwino        | Majeleko         |    0 | True  | GeoData Consultants Ltd | VWC              | <!----> | True  |    0 | nira/tanira       | nira/tanira | handpump    | vwc              | user-group | unknown               | unknown    | soft            | good  | dry          | dry          | shallow well         | shallow well         | groundwater | hand pump                   | hand pump          | non functional          |\n",
       "| 6 |  5 |  50 | 2011-02-26 | Private                 |   28 | Private    | 39.28612 |  -6.97240273 | Kwa Namaj                    | 0 | Wami / Ruvu             | Mwandege        | Pwani         | 60 | 43 | Mkuranga        | Vikindu          | 6922 | True  | GeoData Consultants Ltd | Private operator | <!----> | False |    0 | submersible       | submersible | submersible | private operator | commercial | pay per bucket        | per bucket | soft            | good  | enough       | enough       | machine dbh          | borehole             | groundwater | communal standpipe multiple | communal standpipe | functional              |\n",
       "| 7 |  6 |   0 | 2012-10-20 | Government Of Tanzania  |    0 | Government | 33.22988 |  -3.85298271 | Mission                      | 0 | Internal                | Ngaganulwa      | Shinyanga     | 17 |  3 | Shinyanga Rural | Usanda           |    0 | True  | GeoData Consultants Ltd | VWC              | <!----> | True  |    0 | other             | other       | other       | vwc              | user-group | never pay             | never pay  | soft            | good  | seasonal     | seasonal     | shallow well         | shallow well         | groundwater | other                       | other              | non functional          |\n",
       "| 8 |  7 |   0 | 2011-03-23 | Water                   |    0 | Gover      | 36.31362 |  -6.71925716 | Itawi                        | 0 | Rufiji                  | Mwangaza        | Dodoma        |  1 |  1 | Mpwapwa         | Wotta            |    0 | True  | GeoData Consultants Ltd | VWC              | Lwih                      | True  |    0 | other             | other       | other       | vwc              | user-group | never pay             | never pay  | milky           | milky | insufficient | insufficient | spring               | spring               | groundwater | improved spring             | improved spring    | functional              |\n",
       "| 9 |  8 |   0 | 2011-04-07 | Water                   |    0 | Commu      | 35.93944 |  -6.01435820 | Kwa Chiswagala               | 0 | Wami / Ruvu             | Mazengo         | Dodoma        |  1 |  5 | Dodoma Urban    | Ipala            |    0 | True  | GeoData Consultants Ltd | VWC              | Ipal                      | False |    0 | mono              | mono        | motorpump   | private operator | commercial | pay per bucket        | per bucket | soft            | good  | dry          | dry          | machine dbh          | borehole             | groundwater | communal standpipe multiple | communal standpipe | non functional          |\n",
       "| 10 |  9 |   0 | 2011-07-12 | Ded                     |    0 | DED        | 31.69337 |  -2.53070326 | Shule Ya Msingi Nyamirembe A | 0 | Lake Victoria           | Miembeni        | Kagera        | 18 |  8 | Chato           | Nyamirembe       |    0 | True  | GeoData Consultants Ltd | VWC              | Mapinduzi                 | True  |    0 | mono              | mono        | motorpump   | vwc              | user-group | never pay             | never pay  | soft            | good  | insufficient | insufficient | machine dbh          | borehole             | groundwater | communal standpipe multiple | communal standpipe | non functional          |\n",
       "| 11 | 11 |  30 | 2011-03-09 | Kwa Makala              |   64 | Makala     | 38.66364 |  -5.80574551 | Kwa Makala                   | 0 | Pangani                 | Sokoni          | Tanga         |  4 |  5 | Pangani         | Mkalamo          |  150 | False | GeoData Consultants Ltd | Private operator | Mkalamo water supply      | False | 2007 | submersible       | submersible | submersible | private operator | commercial | pay per bucket        | per bucket | salty           | salty | insufficient | insufficient | machine dbh          | borehole             | groundwater | communal standpipe          | communal standpipe | non functional          |\n",
       "| 12 | 12 |   0 | 2013-03-14 | World Bank              | 1332 | World bank | 36.75623 |  -3.37377239 | Moivaro Primary School       | 0 | Pangani                 | Moivaro         | Arusha        |  2 |  7 | Meru            | Nkoanrua         |  350 | True  | GeoData Consultants Ltd | WUA              | <!----> | False | 2010 | gravity           | gravity     | gravity     | wua              | user-group | unknown               | unknown    | soft            | good  | insufficient | insufficient | rainwater harvesting | rainwater harvesting | surface     | communal standpipe          | communal standpipe | non functional          |\n",
       "| 13 | 15 |   0 | 2012-11-06 | Hesawa                  |    0 | DWE        |  0.00000 |  -0.00000002 | Kwamazoa                     | 0 | Lake Victoria           | Madukani        | Mwanza        | 19 |  2 | Magu            | Igalukilo        |    0 | True  | GeoData Consultants Ltd | <!----> | <!----> | True  |    0 | other             | other       | other       | vwc              | user-group | never pay             | never pay  | soft            | good  | seasonal     | seasonal     | shallow well         | shallow well         | groundwater | other                       | other              | non functional          |\n",
       "| 14 | 16 |   0 | 2013-02-03 | Songea District Council | 1014 | DWE        | 35.33371 | -10.46963842 | Kwa Feristasi                | 0 | Lake Nyasa              | Amka Twende     | Ruvuma        | 10 |  2 | Songea Rural    | Kilagano         |    0 | True  | GeoData Consultants Ltd | VWC              | Mradi wa maji wa kilagano | True  | 1984 | gravity           | gravity     | gravity     | vwc              | user-group | pay when scheme fails | on failure | soft            | good  | dry          | dry          | spring               | spring               | groundwater | communal standpipe          | communal standpipe | non functional          |\n",
       "| 15 | 17 |   0 | 2013-03-28 | World Bank              | 1606 | DWE        | 36.62429 |  -3.27627358 | Seuli                        | 0 | Pangani                 | Seuli           | Arusha        |  2 |  2 | Arusha Rural    | Oltrumet         |  200 | True  | GeoData Consultants Ltd | VWC              | Mlimani pipe line         | True  | 2010 | gravity           | gravity     | gravity     | vwc              | user-group | never pay             | never pay  | soft            | good  | enough       | enough       | spring               | spring               | groundwater | communal standpipe          | communal standpipe | functional              |\n",
       "| 16 | 18 |   0 | 2011-03-13 | Water                   |    0 | Commu      | 36.52430 |  -6.18081796 | Kwa Majele                   | 0 | Wami / Ruvu             | <!----> | Dodoma        |  1 |  3 | Kongwa          | Ugogoni          |    0 | True  | GeoData Consultants Ltd | VWC              | Msin                      | False |    0 | mono              | mono        | motorpump   | vwc              | user-group | pay per bucket        | per bucket | salty           | salty | enough       | enough       | machine dbh          | borehole             | groundwater | communal standpipe multiple | communal standpipe | functional              |\n",
       "| 17 | 19 |  50 | 2013-02-23 | Amref                   |  226 | Amref      | 39.73442 | -10.56919171 | Kwa Ally Likomba             | 0 | Ruvuma / Southern Coast | Mwenge          | Mtwara        | 99 |  1 | Mtwara Rural    | Njengwa          |  450 | True  | GeoData Consultants Ltd | VWC              | Nang'awanga water supply  | True  | 2012 | mono              | mono        | motorpump   | vwc              | user-group | pay per bucket        | per bucket | soft            | good  | enough       | enough       | machine dbh          | borehole             | groundwater | communal standpipe multiple | communal standpipe | functional              |\n",
       "| 18 | 20 | 250 | 2013-02-09 | Oxfam                   | 1257 | OXFAM      | 29.90178 |  -4.54070514 | Ccm                          | 0 | Lake Tanganyika         | Gwandamula      | Kigoma        | 16 |  2 | Kasulu          | Janda            |  340 | True  | GeoData Consultants Ltd | Water authority  | Mwangwe                   | True  | 1999 | gravity           | gravity     | gravity     | water board      | user-group | pay monthly           | monthly    | soft            | good  | enough       | enough       | river                | river/lake           | surface     | communal standpipe multiple | communal standpipe | functional needs repair |\n",
       "| 19 | 21 |   0 | 2011-03-22 | Government Of Tanzania  |    0 | GOVER      | 36.24521 |  -6.01976068 | Salum Sady                   | 0 | Wami / Ruvu             | Manzilanzi A    | Dodoma        |  1 |  4 | Chamwino        | Majeleko         |    0 | True  | GeoData Consultants Ltd | VWC              | Manz                      | True  |    0 | mono              | mono        | motorpump   | vwc              | user-group | unknown               | unknown    | soft            | good  | dry          | dry          | machine dbh          | borehole             | groundwater | communal standpipe multiple | communal standpipe | non functional          |\n",
       "| 20 | 22 |  50 | 2013-03-16 | <!----> |   76 | <!----> | 39.08618 |  -6.98584173 | Kwa Konde                    | 0 | Wami / Ruvu             | Mtaa Wa Tungini | Dar es Salaam |  7 |  2 | Ilala           | Chanika          |  250 | <!----> | GeoData Consultants Ltd | Private operator | <!----> | <!----> | 2010 | other             | other       | other       | private operator | commercial | pay per bucket        | per bucket | salty abandoned | salty | enough       | enough       | machine dbh          | borehole             | groundwater | communal standpipe          | communal standpipe | functional              |\n",
       "\n"
      ],
      "text/plain": [
       "   id amount_tsh date_recorded funder                  gps_height installer \n",
       "1   0   0        2012-11-13    Tasaf                      0       TASAF     \n",
       "2   1   0        2011-03-05    Shipo                   1978       SHIPO     \n",
       "3   2   0        2011-03-27    Lvia                       0       LVIA      \n",
       "4   3  10        2013-06-03    Germany Republi         1639       CES       \n",
       "5   4   0        2011-03-22    Cmsr                       0       CMSR      \n",
       "6   5  50        2011-02-26    Private                   28       Private   \n",
       "7   6   0        2012-10-20    Government Of Tanzania     0       Government\n",
       "8   7   0        2011-03-23    Water                      0       Gover     \n",
       "9   8   0        2011-04-07    Water                      0       Commu     \n",
       "10  9   0        2011-07-12    Ded                        0       DED       \n",
       "11 11  30        2011-03-09    Kwa Makala                64       Makala    \n",
       "12 12   0        2013-03-14    World Bank              1332       World bank\n",
       "13 15   0        2012-11-06    Hesawa                     0       DWE       \n",
       "14 16   0        2013-02-03    Songea District Council 1014       DWE       \n",
       "15 17   0        2013-03-28    World Bank              1606       DWE       \n",
       "16 18   0        2011-03-13    Water                      0       Commu     \n",
       "17 19  50        2013-02-23    Amref                    226       Amref     \n",
       "18 20 250        2013-02-09    Oxfam                   1257       OXFAM     \n",
       "19 21   0        2011-03-22    Government Of Tanzania     0       GOVER     \n",
       "20 22  50        2013-03-16                              76                 \n",
       "   longitude latitude     wpt_name                     num_private\n",
       "1  33.12583   -5.11815407 Mratibu                      0          \n",
       "2  34.77072   -9.39564152 none                         0          \n",
       "3  36.11506   -6.27926803 Bombani                      0          \n",
       "4  37.14743   -3.18755455 Area 7 Namba 5               0          \n",
       "5  36.16489   -6.09928949 Ezeleda                      0          \n",
       "6  39.28612   -6.97240273 Kwa Namaj                    0          \n",
       "7  33.22988   -3.85298271 Mission                      0          \n",
       "8  36.31362   -6.71925716 Itawi                        0          \n",
       "9  35.93944   -6.01435820 Kwa Chiswagala               0          \n",
       "10 31.69337   -2.53070326 Shule Ya Msingi Nyamirembe A 0          \n",
       "11 38.66364   -5.80574551 Kwa Makala                   0          \n",
       "12 36.75623   -3.37377239 Moivaro Primary School       0          \n",
       "13  0.00000   -0.00000002 Kwamazoa                     0          \n",
       "14 35.33371  -10.46963842 Kwa Feristasi                0          \n",
       "15 36.62429   -3.27627358 Seuli                        0          \n",
       "16 36.52430   -6.18081796 Kwa Majele                   0          \n",
       "17 39.73442  -10.56919171 Kwa Ally Likomba             0          \n",
       "18 29.90178   -4.54070514 Ccm                          0          \n",
       "19 36.24521   -6.01976068 Salum Sady                   0          \n",
       "20 39.08618   -6.98584173 Kwa Konde                    0          \n",
       "   basin                   subvillage      region        region_code\n",
       "1  Lake Tanganyika         Majengo         Tabora        14         \n",
       "2  Rufiji                  Magoda C        Iringa        11         \n",
       "3  Wami / Ruvu             Songambele      Dodoma         1         \n",
       "4  Pangani                 Urereni         Kilimanjaro    3         \n",
       "5  Wami / Ruvu             Maata A         Dodoma         1         \n",
       "6  Wami / Ruvu             Mwandege        Pwani         60         \n",
       "7  Internal                Ngaganulwa      Shinyanga     17         \n",
       "8  Rufiji                  Mwangaza        Dodoma         1         \n",
       "9  Wami / Ruvu             Mazengo         Dodoma         1         \n",
       "10 Lake Victoria           Miembeni        Kagera        18         \n",
       "11 Pangani                 Sokoni          Tanga          4         \n",
       "12 Pangani                 Moivaro         Arusha         2         \n",
       "13 Lake Victoria           Madukani        Mwanza        19         \n",
       "14 Lake Nyasa              Amka Twende     Ruvuma        10         \n",
       "15 Pangani                 Seuli           Arusha         2         \n",
       "16 Wami / Ruvu                             Dodoma         1         \n",
       "17 Ruvuma / Southern Coast Mwenge          Mtwara        99         \n",
       "18 Lake Tanganyika         Gwandamula      Kigoma        16         \n",
       "19 Wami / Ruvu             Manzilanzi A    Dodoma         1         \n",
       "20 Wami / Ruvu             Mtaa Wa Tungini Dar es Salaam  7         \n",
       "   district_code lga             ward             population public_meeting\n",
       "1   3            Uyui            Igalula             0                     \n",
       "2   4            Njombe          Uwemba             20       True          \n",
       "3   4            Chamwino        Msamalo             0       True          \n",
       "4   5            Hai             Masama Magharibi   25       True          \n",
       "5   4            Chamwino        Majeleko            0       True          \n",
       "6  43            Mkuranga        Vikindu          6922       True          \n",
       "7   3            Shinyanga Rural Usanda              0       True          \n",
       "8   1            Mpwapwa         Wotta               0       True          \n",
       "9   5            Dodoma Urban    Ipala               0       True          \n",
       "10  8            Chato           Nyamirembe          0       True          \n",
       "11  5            Pangani         Mkalamo           150       False         \n",
       "12  7            Meru            Nkoanrua          350       True          \n",
       "13  2            Magu            Igalukilo           0       True          \n",
       "14  2            Songea Rural    Kilagano            0       True          \n",
       "15  2            Arusha Rural    Oltrumet          200       True          \n",
       "16  3            Kongwa          Ugogoni             0       True          \n",
       "17  1            Mtwara Rural    Njengwa           450       True          \n",
       "18  2            Kasulu          Janda             340       True          \n",
       "19  4            Chamwino        Majeleko            0       True          \n",
       "20  2            Ilala           Chanika           250                     \n",
       "   recorded_by             scheme_management scheme_name               permit\n",
       "1  GeoData Consultants Ltd VWC                                         True  \n",
       "2  GeoData Consultants Ltd                                             False \n",
       "3  GeoData Consultants Ltd VWC               Mgun                      True  \n",
       "4  GeoData Consultants Ltd Water Board       Losaa-Kia water supply    True  \n",
       "5  GeoData Consultants Ltd VWC                                         True  \n",
       "6  GeoData Consultants Ltd Private operator                            False \n",
       "7  GeoData Consultants Ltd VWC                                         True  \n",
       "8  GeoData Consultants Ltd VWC               Lwih                      True  \n",
       "9  GeoData Consultants Ltd VWC               Ipal                      False \n",
       "10 GeoData Consultants Ltd VWC               Mapinduzi                 True  \n",
       "11 GeoData Consultants Ltd Private operator  Mkalamo water supply      False \n",
       "12 GeoData Consultants Ltd WUA                                         False \n",
       "13 GeoData Consultants Ltd                                             True  \n",
       "14 GeoData Consultants Ltd VWC               Mradi wa maji wa kilagano True  \n",
       "15 GeoData Consultants Ltd VWC               Mlimani pipe line         True  \n",
       "16 GeoData Consultants Ltd VWC               Msin                      False \n",
       "17 GeoData Consultants Ltd VWC               Nang'awanga water supply  True  \n",
       "18 GeoData Consultants Ltd Water authority   Mwangwe                   True  \n",
       "19 GeoData Consultants Ltd VWC               Manz                      True  \n",
       "20 GeoData Consultants Ltd Private operator                                  \n",
       "   construction_year extraction_type   extraction_type_group\n",
       "1     0              afridev           afridev              \n",
       "2  2008              other - rope pump rope pump            \n",
       "3     0              mono              mono                 \n",
       "4  1999              gravity           gravity              \n",
       "5     0              nira/tanira       nira/tanira          \n",
       "6     0              submersible       submersible          \n",
       "7     0              other             other                \n",
       "8     0              other             other                \n",
       "9     0              mono              mono                 \n",
       "10    0              mono              mono                 \n",
       "11 2007              submersible       submersible          \n",
       "12 2010              gravity           gravity              \n",
       "13    0              other             other                \n",
       "14 1984              gravity           gravity              \n",
       "15 2010              gravity           gravity              \n",
       "16    0              mono              mono                 \n",
       "17 2012              mono              mono                 \n",
       "18 1999              gravity           gravity              \n",
       "19    0              mono              mono                 \n",
       "20 2010              other             other                \n",
       "   extraction_type_class management       management_group\n",
       "1  handpump              vwc              user-group      \n",
       "2  rope pump             vwc              user-group      \n",
       "3  motorpump             vwc              user-group      \n",
       "4  gravity               water board      user-group      \n",
       "5  handpump              vwc              user-group      \n",
       "6  submersible           private operator commercial      \n",
       "7  other                 vwc              user-group      \n",
       "8  other                 vwc              user-group      \n",
       "9  motorpump             private operator commercial      \n",
       "10 motorpump             vwc              user-group      \n",
       "11 submersible           private operator commercial      \n",
       "12 gravity               wua              user-group      \n",
       "13 other                 vwc              user-group      \n",
       "14 gravity               vwc              user-group      \n",
       "15 gravity               vwc              user-group      \n",
       "16 motorpump             vwc              user-group      \n",
       "17 motorpump             vwc              user-group      \n",
       "18 gravity               water board      user-group      \n",
       "19 motorpump             vwc              user-group      \n",
       "20 other                 private operator commercial      \n",
       "   payment               payment_type water_quality   quality_group\n",
       "1  unknown               unknown      milky           milky        \n",
       "2  never pay             never pay    soft            good         \n",
       "3  pay per bucket        per bucket   soft            good         \n",
       "4  pay per bucket        per bucket   soft            good         \n",
       "5  unknown               unknown      soft            good         \n",
       "6  pay per bucket        per bucket   soft            good         \n",
       "7  never pay             never pay    soft            good         \n",
       "8  never pay             never pay    milky           milky        \n",
       "9  pay per bucket        per bucket   soft            good         \n",
       "10 never pay             never pay    soft            good         \n",
       "11 pay per bucket        per bucket   salty           salty        \n",
       "12 unknown               unknown      soft            good         \n",
       "13 never pay             never pay    soft            good         \n",
       "14 pay when scheme fails on failure   soft            good         \n",
       "15 never pay             never pay    soft            good         \n",
       "16 pay per bucket        per bucket   salty           salty        \n",
       "17 pay per bucket        per bucket   soft            good         \n",
       "18 pay monthly           monthly      soft            good         \n",
       "19 unknown               unknown      soft            good         \n",
       "20 pay per bucket        per bucket   salty abandoned salty        \n",
       "   quantity     quantity_group source               source_type         \n",
       "1  enough       enough         shallow well         shallow well        \n",
       "2  enough       enough         shallow well         shallow well        \n",
       "3  insufficient insufficient   machine dbh          borehole            \n",
       "4  enough       enough         spring               spring              \n",
       "5  dry          dry            shallow well         shallow well        \n",
       "6  enough       enough         machine dbh          borehole            \n",
       "7  seasonal     seasonal       shallow well         shallow well        \n",
       "8  insufficient insufficient   spring               spring              \n",
       "9  dry          dry            machine dbh          borehole            \n",
       "10 insufficient insufficient   machine dbh          borehole            \n",
       "11 insufficient insufficient   machine dbh          borehole            \n",
       "12 insufficient insufficient   rainwater harvesting rainwater harvesting\n",
       "13 seasonal     seasonal       shallow well         shallow well        \n",
       "14 dry          dry            spring               spring              \n",
       "15 enough       enough         spring               spring              \n",
       "16 enough       enough         machine dbh          borehole            \n",
       "17 enough       enough         machine dbh          borehole            \n",
       "18 enough       enough         river                river/lake          \n",
       "19 dry          dry            machine dbh          borehole            \n",
       "20 enough       enough         machine dbh          borehole            \n",
       "   source_class waterpoint_type             waterpoint_type_group\n",
       "1  groundwater  hand pump                   hand pump            \n",
       "2  groundwater  hand pump                   hand pump            \n",
       "3  groundwater  communal standpipe multiple communal standpipe   \n",
       "4  groundwater  communal standpipe          communal standpipe   \n",
       "5  groundwater  hand pump                   hand pump            \n",
       "6  groundwater  communal standpipe multiple communal standpipe   \n",
       "7  groundwater  other                       other                \n",
       "8  groundwater  improved spring             improved spring      \n",
       "9  groundwater  communal standpipe multiple communal standpipe   \n",
       "10 groundwater  communal standpipe multiple communal standpipe   \n",
       "11 groundwater  communal standpipe          communal standpipe   \n",
       "12 surface      communal standpipe          communal standpipe   \n",
       "13 groundwater  other                       other                \n",
       "14 groundwater  communal standpipe          communal standpipe   \n",
       "15 groundwater  communal standpipe          communal standpipe   \n",
       "16 groundwater  communal standpipe multiple communal standpipe   \n",
       "17 groundwater  communal standpipe multiple communal standpipe   \n",
       "18 surface      communal standpipe multiple communal standpipe   \n",
       "19 groundwater  communal standpipe multiple communal standpipe   \n",
       "20 groundwater  communal standpipe          communal standpipe   \n",
       "   status_group           \n",
       "1  non functional         \n",
       "2  functional             \n",
       "3  functional             \n",
       "4  functional             \n",
       "5  non functional         \n",
       "6  functional             \n",
       "7  non functional         \n",
       "8  functional             \n",
       "9  non functional         \n",
       "10 non functional         \n",
       "11 non functional         \n",
       "12 non functional         \n",
       "13 non functional         \n",
       "14 non functional         \n",
       "15 functional             \n",
       "16 functional             \n",
       "17 functional             \n",
       "18 functional needs repair\n",
       "19 non functional         \n",
       "20 functional             "
      ]
     },
     "metadata": {},
     "output_type": "display_data"
    }
   ],
   "source": [
    "options(repr.matrix.max.cols=50)\n",
    "head(eval_data,20)\n",
    "head(data,20)"
   ]
  },
  {
   "cell_type": "markdown",
   "metadata": {},
   "source": [
    "The graphical representation of the regions after the k-means clustering is shown below."
   ]
  },
  {
   "cell_type": "code",
   "execution_count": null,
   "metadata": {},
   "outputs": [],
   "source": [
    "coordinates <- as.data.frame(cbind(demo_data$longitude,demo_data$latitude))\n",
    "km_res <- kmeans(coordinates,20)\n",
    "demo_data <- subset(demo_data,select=-c(longitude,latitude))\n",
    "demo_data$region_kmeans <- km_res$cluster"
   ]
  },
  {
   "cell_type": "code",
   "execution_count": null,
   "metadata": {},
   "outputs": [],
   "source": [
    "fviz_cluster(km_res,coordinates)"
   ]
  },
  {
   "cell_type": "markdown",
   "metadata": {},
   "source": [
    "Therefore, we can now remove the longitude and latitude features from the dataset and replace them with a new feature called $region$, representing the cluster in which the pump is located."
   ]
  },
  {
   "cell_type": "code",
   "execution_count": null,
   "metadata": {},
   "outputs": [],
   "source": [
    "options(repr.matrix.max.cols=50)\n",
    "head(data)"
   ]
  },
  {
   "cell_type": "markdown",
   "metadata": {},
   "source": [
    "### Variables with too many levels"
   ]
  },
  {
   "cell_type": "markdown",
   "metadata": {},
   "source": [
    "Some categorical variables that have too many levels could be useless for the problem. Indeed, let us imagine if each sample has a different factor for a given feature, this would not bring any additional information. This is why we check what features have a huge amount of features below :"
   ]
  },
  {
   "cell_type": "code",
   "execution_count": 37,
   "metadata": {},
   "outputs": [
    {
     "name": "stdout",
     "output_type": "stream",
     "text": [
      "[1] \"funder\"\n",
      "[1] Tasaf\n",
      "1898 Levels:  0 A/co Germany Aar Abas Ka Abasia ... Zingibali Secondary\n",
      "[1] \"wpt_name\"\n",
      "[1] Mratibu\n",
      "37400 Levels: 24 A Kulwa A Saidi Abass Abbas Abdala Hamisi ... Zuwena Kindo\n",
      "[1] \"subvillage\"\n",
      "[1] Majengo\n",
      "19288 Levels:  'A' Kati ## 1 14Kambalage 18 19 20 22B 23B 24 24B 30 42 43 ... Zuri\n",
      "[1] \"ward\"\n",
      "[1] Igalula\n",
      "2092 Levels: Aghondi Akheri Arash Arri Arusha Chini Babayu Badi Badugu ... Zuzu\n",
      "[1] \"scheme_name\"\n",
      "[1] \n",
      "2697 Levels:  14 Kambarage A ADP ADP Simbo ADP Simbu Adra ... Zuzu\n"
     ]
    },
    {
     "data": {
      "text/html": [
       "<style>\n",
       ".list-inline {list-style: none; margin:0; padding: 0}\n",
       ".list-inline>li {display: inline-block}\n",
       ".list-inline>li:not(:last-child)::after {content: \"\\00b7\"; padding: 0 .5ex}\n",
       "</style>\n",
       "<ol class=list-inline><li>'funder'</li><li>'wpt_name'</li><li>'subvillage'</li><li>'ward'</li><li>'scheme_name'</li></ol>\n"
      ],
      "text/latex": [
       "\\begin{enumerate*}\n",
       "\\item 'funder'\n",
       "\\item 'wpt\\_name'\n",
       "\\item 'subvillage'\n",
       "\\item 'ward'\n",
       "\\item 'scheme\\_name'\n",
       "\\end{enumerate*}\n"
      ],
      "text/markdown": [
       "1. 'funder'\n",
       "2. 'wpt_name'\n",
       "3. 'subvillage'\n",
       "4. 'ward'\n",
       "5. 'scheme_name'\n",
       "\n",
       "\n"
      ],
      "text/plain": [
       "[1] \"funder\"      \"wpt_name\"    \"subvillage\"  \"ward\"        \"scheme_name\""
      ]
     },
     "metadata": {},
     "output_type": "display_data"
    }
   ],
   "source": [
    "categorical_variables <- which(sapply(data[1,],class)==\"factor\")\n",
    "\n",
    "problematic_features <- c()\n",
    "\n",
    "for (n in colnames(data[,categorical_variables])) {\n",
    "    l <- nlevels(data[,n])\n",
    "    if (l > 1000 & n != \"installer\") {\n",
    "        print(n)\n",
    "        problematic_features <- c(problematic_features,n)\n",
    "        print(data[1,n])\n",
    "    }\n",
    "}\n",
    "problematic_features"
   ]
  },
  {
   "cell_type": "markdown",
   "metadata": {},
   "source": [
    "For each one of these features, we check the distribution of the different categories."
   ]
  },
  {
   "cell_type": "code",
   "execution_count": 38,
   "metadata": {
    "scrolled": true
   },
   "outputs": [
    {
     "data": {
      "image/png": "[encoded data removed]",
      "text/plain": [
       "plot without title"
      ]
     },
     "metadata": {
      "image/png": {
       "height": 420,
       "width": 420
      }
     },
     "output_type": "display_data"
    },
    {
     "data": {
      "image/png": "[encoded data removed]",
      "text/plain": [
       "plot without title"
      ]
     },
     "metadata": {
      "image/png": {
       "height": 420,
       "width": 420
      }
     },
     "output_type": "display_data"
    },
    {
     "data": {
      "image/png": "[encoded data removed]",
      "text/plain": [
       "plot without title"
      ]
     },
     "metadata": {
      "image/png": {
       "height": 420,
       "width": 420
      }
     },
     "output_type": "display_data"
    },
    {
     "data": {
      "image/png": "[encoded data removed]",
      "text/plain": [
       "plot without title"
      ]
     },
     "metadata": {
      "image/png": {
       "height": 420,
       "width": 420
      }
     },
     "output_type": "display_data"
    },
    {
     "data": {
      "image/png": "[encoded data removed]",
      "text/plain": [
       "plot without title"
      ]
     },
     "metadata": {
      "image/png": {
       "height": 420,
       "width": 420
      }
     },
     "output_type": "display_data"
    }
   ],
   "source": [
    "for (f in problematic_features) {\n",
    "    factors <- table(data[,f])\n",
    "    barplot( (sort(factors, decreasing=TRUE)[1:5] ))\n",
    "}"
   ]
  },
  {
   "cell_type": "markdown",
   "metadata": {},
   "source": [
    "By taking a look at the barplots, some features might be interesting to keep because they have a large dominance in one category. For example, the $installer$ feature contains more than 16000 samples with the category $DWE$ so it might be useful to simply keep track of whether the installer is DWE or not (binary value)."
   ]
  },
  {
   "cell_type": "code",
   "execution_count": 39,
   "metadata": {},
   "outputs": [],
   "source": [
    "convert_installer_to_binary <- function(df) {\n",
    "    levels(df$installer) <- c(levels(df$installer), \"1\",\"0\") \n",
    "    df$installer[df$installer == \"DWE\"] <- 1\n",
    "    df$installer[df$installer != \"1\"] <- 0\n",
    "    df <- transform(df, installer = as.integer(as.character(installer)))\n",
    "    return(df)\n",
    "}"
   ]
  },
  {
   "cell_type": "markdown",
   "metadata": {},
   "source": [
    "By analyzing the rest of the barplots, either there are extremely few samples of each category of the feature, or there are majoritarily samples containing $none$ or an empty string. Therefore, we choose to remove them from the dataset."
   ]
  },
  {
   "cell_type": "code",
   "execution_count": 40,
   "metadata": {},
   "outputs": [],
   "source": [
    "remove_features_many_levels <- function(df) {\n",
    "    df <- subset(df,select=-which(names(df) %in% problematic_features))\n",
    "    return(df)\n",
    "}"
   ]
  },
  {
   "cell_type": "code",
   "execution_count": 41,
   "metadata": {},
   "outputs": [
    {
     "data": {
      "text/html": [
       "<style>\n",
       ".list-inline {list-style: none; margin:0; padding: 0}\n",
       ".list-inline>li {display: inline-block}\n",
       ".list-inline>li:not(:last-child)::after {content: \"\\00b7\"; padding: 0 .5ex}\n",
       "</style>\n",
       "<ol class=list-inline><li>'date_recorded'</li><li>'funder'</li><li>'installer'</li><li>'wpt_name'</li><li>'basin'</li><li>'subvillage'</li><li>'region'</li><li>'lga'</li><li>'ward'</li><li>'public_meeting'</li><li>'recorded_by'</li><li>'scheme_management'</li><li>'scheme_name'</li><li>'permit'</li><li>'extraction_type'</li><li>'extraction_type_group'</li><li>'extraction_type_class'</li><li>'management'</li><li>'management_group'</li><li>'payment'</li><li>'payment_type'</li><li>'water_quality'</li><li>'quality_group'</li><li>'quantity'</li><li>'quantity_group'</li><li>'source'</li><li>'source_type'</li><li>'source_class'</li><li>'waterpoint_type'</li><li>'waterpoint_type_group'</li></ol>\n"
      ],
      "text/latex": [
       "\\begin{enumerate*}\n",
       "\\item 'date\\_recorded'\n",
       "\\item 'funder'\n",
       "\\item 'installer'\n",
       "\\item 'wpt\\_name'\n",
       "\\item 'basin'\n",
       "\\item 'subvillage'\n",
       "\\item 'region'\n",
       "\\item 'lga'\n",
       "\\item 'ward'\n",
       "\\item 'public\\_meeting'\n",
       "\\item 'recorded\\_by'\n",
       "\\item 'scheme\\_management'\n",
       "\\item 'scheme\\_name'\n",
       "\\item 'permit'\n",
       "\\item 'extraction\\_type'\n",
       "\\item 'extraction\\_type\\_group'\n",
       "\\item 'extraction\\_type\\_class'\n",
       "\\item 'management'\n",
       "\\item 'management\\_group'\n",
       "\\item 'payment'\n",
       "\\item 'payment\\_type'\n",
       "\\item 'water\\_quality'\n",
       "\\item 'quality\\_group'\n",
       "\\item 'quantity'\n",
       "\\item 'quantity\\_group'\n",
       "\\item 'source'\n",
       "\\item 'source\\_type'\n",
       "\\item 'source\\_class'\n",
       "\\item 'waterpoint\\_type'\n",
       "\\item 'waterpoint\\_type\\_group'\n",
       "\\end{enumerate*}\n"
      ],
      "text/markdown": [
       "1. 'date_recorded'\n",
       "2. 'funder'\n",
       "3. 'installer'\n",
       "4. 'wpt_name'\n",
       "5. 'basin'\n",
       "6. 'subvillage'\n",
       "7. 'region'\n",
       "8. 'lga'\n",
       "9. 'ward'\n",
       "10. 'public_meeting'\n",
       "11. 'recorded_by'\n",
       "12. 'scheme_management'\n",
       "13. 'scheme_name'\n",
       "14. 'permit'\n",
       "15. 'extraction_type'\n",
       "16. 'extraction_type_group'\n",
       "17. 'extraction_type_class'\n",
       "18. 'management'\n",
       "19. 'management_group'\n",
       "20. 'payment'\n",
       "21. 'payment_type'\n",
       "22. 'water_quality'\n",
       "23. 'quality_group'\n",
       "24. 'quantity'\n",
       "25. 'quantity_group'\n",
       "26. 'source'\n",
       "27. 'source_type'\n",
       "28. 'source_class'\n",
       "29. 'waterpoint_type'\n",
       "30. 'waterpoint_type_group'\n",
       "\n",
       "\n"
      ],
      "text/plain": [
       " [1] \"date_recorded\"         \"funder\"                \"installer\"            \n",
       " [4] \"wpt_name\"              \"basin\"                 \"subvillage\"           \n",
       " [7] \"region\"                \"lga\"                   \"ward\"                 \n",
       "[10] \"public_meeting\"        \"recorded_by\"           \"scheme_management\"    \n",
       "[13] \"scheme_name\"           \"permit\"                \"extraction_type\"      \n",
       "[16] \"extraction_type_group\" \"extraction_type_class\" \"management\"           \n",
       "[19] \"management_group\"      \"payment\"               \"payment_type\"         \n",
       "[22] \"water_quality\"         \"quality_group\"         \"quantity\"             \n",
       "[25] \"quantity_group\"        \"source\"                \"source_type\"          \n",
       "[28] \"source_class\"          \"waterpoint_type\"       \"waterpoint_type_group\""
      ]
     },
     "metadata": {},
     "output_type": "display_data"
    }
   ],
   "source": [
    "categorical_variables <- which(sapply(subset(data,select=-c(status_group)),class)==\"factor\")\n",
    "colnames(data[,categorical_variables])"
   ]
  },
  {
   "cell_type": "code",
   "execution_count": null,
   "metadata": {},
   "outputs": [],
   "source": [
    "install.packages('dummies')"
   ]
  },
  {
   "cell_type": "code",
   "execution_count": 42,
   "metadata": {},
   "outputs": [
    {
     "name": "stderr",
     "output_type": "stream",
     "text": [
      "dummies-1.5.6 provided by Decision Patterns\n",
      "\n",
      "\n"
     ]
    }
   ],
   "source": [
    "library(dummies)"
   ]
  },
  {
   "cell_type": "code",
   "execution_count": 43,
   "metadata": {
    "scrolled": true
   },
   "outputs": [],
   "source": [
    "one_hot_encoding_training <- function(df) {\n",
    "    categorical_variables <- which(sapply(subset(df,select=-c(status_group)),class)==\"factor\")\n",
    "    dum <- dummy.data.frame(df[,categorical_variables], sep=\"_\")\n",
    "    df <- cbind(df[,-categorical_variables],dum)\n",
    "    return(df)\n",
    "}"
   ]
  },
  {
   "cell_type": "code",
   "execution_count": 44,
   "metadata": {},
   "outputs": [],
   "source": [
    "one_hot_encoding_test <- function(df) {\n",
    "    categorical_variables <- which(sapply(df,class)==\"factor\")\n",
    "    dum <- dummy.data.frame(df[,categorical_variables], sep=\"_\")\n",
    "    df <- cbind(df[,-categorical_variables],dum)\n",
    "    return(df)\n",
    "}"
   ]
  },
  {
   "cell_type": "code",
   "execution_count": null,
   "metadata": {},
   "outputs": [],
   "source": [
    "data <- cbind(data[,-categorical_variables],dum)\n",
    "dim(data)\n",
    "head(data)"
   ]
  },
  {
   "cell_type": "markdown",
   "metadata": {},
   "source": [
    "# Feature selection"
   ]
  },
  {
   "cell_type": "markdown",
   "metadata": {},
   "source": [
    "## mRMR on one-hot encoded data"
   ]
  },
  {
   "cell_type": "code",
   "execution_count": 56,
   "metadata": {},
   "outputs": [],
   "source": [
    "apply_mrmr_numerical <- function(df) {\n",
    "    #print(head(df[,ncol(df)]))\n",
    "    X <- subset(df,select=-c(status_group))\n",
    "    print(colnames(X))\n",
    "    \n",
    "    dum <- dummy.data.frame(subset(df,select=c(status_group)),names=c(\"status_group\"), sep=\"_\")\n",
    "    correlation <- numeric(ncol(X))\n",
    "    #print(head(dum))\n",
    "    #print(head(dum[,1]))\n",
    "    for(i in 1:ncol(dum)) {\n",
    "        correlation <- correlation + abs(cor(X,dum[,i]))\n",
    "    }\n",
    "    correlation <- correlation / 3\n",
    "    #print(correlation)\n",
    "    n <- ncol(X)\n",
    "    selected_features <- c()\n",
    "    candidate_features <- 1:n\n",
    "    #message(correlation)\n",
    "    for(j in 1:n) {\n",
    "        redundancy_score <- numeric(length(candidate_features))\n",
    "        if (length(selected_features)>0) {\n",
    "            cor_selected_candidates <- cor(X[,selected_features,drop=F],X[,candidate_features,drop=F])\n",
    "            redundancy_score <- apply(cor_selected_candidates,2,mean)\n",
    "        }\n",
    "        mRMR_score <- correlation[candidate_features] - redundancy_score\n",
    "        best_candidate <- candidate_features[which.max(mRMR_score)]\n",
    "        message(best_candidate)\n",
    "        selected_features<-c(selected_features,best_candidate)\n",
    "        \n",
    "        candidate_features <- setdiff(candidate_features,best_candidate)\n",
    "    }\n",
    "    return(selected_features)\n",
    "}"
   ]
  },
  {
   "cell_type": "code",
   "execution_count": 46,
   "metadata": {},
   "outputs": [],
   "source": [
    "get_k_mrmr_variables <- function(df,k) {\n",
    "    sorted_features <- apply_mrmr_numerical(df[,1:ncol(df)])    \n",
    "    df <- df[,sorted_features[1:k]]\n",
    "    return(df)\n",
    "}"
   ]
  },
  {
   "cell_type": "markdown",
   "metadata": {},
   "source": [
    "## mRMR on categorical data"
   ]
  },
  {
   "cell_type": "code",
   "execution_count": 47,
   "metadata": {},
   "outputs": [],
   "source": [
    "apply_mrmr <- function(X,Y) {\n",
    "    selected_features <- c()\n",
    "    n <- ncol(X)\n",
    "    candidate_features <- 1:n\n",
    "    correlation <- c()\n",
    "    for (i in 1:n) {\n",
    "        chi_value <- chisq.test(X[,i], Y)\n",
    "        correlation[i] <- chi_value$statistic\n",
    "    }\n",
    "    message(correlation)\n",
    "    correlation <- correlation/max(correlation)\n",
    "    redundancy_score <- c()\n",
    "    for(j in 1:n) {\n",
    "        redundancy_score <- numeric(length(candidate_features))\n",
    "        if(length(selected_features) > 0) {\n",
    "            for (c in 1:length(candidate_features)) {\n",
    "                redundancy_cor <- numeric(length(selected_features))\n",
    "                for (s in 1:length(selected_features)) {\n",
    "                    #print(length(X[,selected_features[s]]))\n",
    "                    #print(length(X[,candidate_features[c]]))\n",
    "                    chi_value <- chisq.test(X[,selected_features[s]],X[,candidate_features[c]])\n",
    "                    redundancy_cor[s]  <- chi_value$statistic\n",
    "                    message(chi_value$statistic)\n",
    "                }\n",
    "                message(redundancy_cor)\n",
    "                redundancy_score[c] <- mean(redundancy_cor)\n",
    "            }\n",
    "        }\n",
    "        #message(redundancy_score)\n",
    "        mRMR_score <- correlation[candidate_features] - redundancy_score\n",
    "        #message(mRMR_score)\n",
    "        #message(candidate_features)\n",
    "        max_score_candidate <- candidate_features[which.max(mRMR_score)]\n",
    "        message(max_score_candidate)\n",
    "        selected_features <- c(selected_features,max_score_candidate)\n",
    "        candidate_features <- setdiff(candidate_features,max_score_candidate)\n",
    "    }\n",
    "    #write(selected_features,\"selected_features.txt\")\n",
    "    #print(selected_features)\n",
    "}"
   ]
  },
  {
   "cell_type": "markdown",
   "metadata": {},
   "source": [
    "# Call the preprocessing functions"
   ]
  },
  {
   "cell_type": "code",
   "execution_count": 48,
   "metadata": {},
   "outputs": [],
   "source": [
    "preprocess_training <- function(df) {\n",
    "    df <- remove_redundant_features(df)\n",
    "    #df <- create_over_sampling_dataset(df)\n",
    "    df <- create_smote_dataset(df)\n",
    "    df <- remove_useless_features(df)\n",
    "    df <- create_binary_features(df)\n",
    "    df <- convert_date_to_numeric(df)\n",
    "    df <- convert_installer_to_binary(df)\n",
    "    df <- discard_unrealistic_coordinates(df)\n",
    "    df <- generate_regions(df)\n",
    "    df <- remove_features_many_levels(df)\n",
    "    df <- one_hot_encoding_training(df)\n",
    "    colnames(df) <- gsub(colnames(df),pattern = \" \", replacement = \"_\")\n",
    "    df_no_status <- get_k_mrmr_variables(df,100)\n",
    "    df_no_status <- subset(df_no_status,select=-c(status_group))\n",
    "    df_ordered <- df_no_status[,order(names(df_no_status))]\n",
    "    #print(head(df_ordered))\n",
    "    df <- cbind(df_ordered,subset(df,select=c(status_group)))\n",
    "    write(colnames(subset(df,select=-c(status_group))),\"features.txt\")\n",
    "    return(df)\n",
    "}"
   ]
  },
  {
   "cell_type": "code",
   "execution_count": 49,
   "metadata": {},
   "outputs": [],
   "source": [
    "preprocess_test <- function(df) {\n",
    "    df <- remove_useless_features(df)\n",
    "    df <- convert_date_to_numeric(df)\n",
    "    #df <- discard_unrealistic_coordinates(df)\n",
    "    df <- set_existing_regions(df)\n",
    "    df <- remove_features_many_levels(df)\n",
    "    df <- one_hot_encoding_test(df)\n",
    "    colnames(df) <- gsub(colnames(df),pattern = \" \", replacement = \"_\")\n",
    "    features_list <- scan(\"features.txt\",what = \" \")\n",
    "    column_names <- colnames(df)\n",
    "    #Removing all columns that did not appear in training\n",
    "    cols_to_remove <- c()\n",
    "    for(c in 1:ncol(df)) {\n",
    "        if(!(column_names[c] %in% features_list)) {\n",
    "            #print(column_names[c])\n",
    "            cols_to_remove <- c(cols_to_remove,c)\n",
    "        }\n",
    "    }\n",
    "    df <- df[,-cols_to_remove]\n",
    "    \n",
    "    #Adding empty columns for missing features\n",
    "    test_columns <- colnames(df)\n",
    "    for(c in 1:length(features_list)) {\n",
    "        if(!(features_list[c] %in% test_columns)) {\n",
    "            #print(features_list[c])\n",
    "            df[,features_list[c]] = 0\n",
    "        }\n",
    "    }\n",
    "    df <- df[,order(names(df))]\n",
    "    return(df)\n",
    "}"
   ]
  },
  {
   "cell_type": "code",
   "execution_count": 59,
   "metadata": {
    "scrolled": true
   },
   "outputs": [
    {
     "name": "stderr",
     "output_type": "stream",
     "text": [
      "Warning message in model.matrix.default(~x - 1, model.frame(~x - 1), contrasts = FALSE):\n",
      "\"non-list contrasts argument ignored\"\n",
      "Warning message in model.matrix.default(~x - 1, model.frame(~x - 1), contrasts = FALSE):\n",
      "\"non-list contrasts argument ignored\"\n",
      "Warning message in model.matrix.default(~x - 1, model.frame(~x - 1), contrasts = FALSE):\n",
      "\"non-list contrasts argument ignored\"\n",
      "Warning message in model.matrix.default(~x - 1, model.frame(~x - 1), contrasts = FALSE):\n",
      "\"non-list contrasts argument ignored\"\n",
      "Warning message in model.matrix.default(~x - 1, model.frame(~x - 1), contrasts = FALSE):\n",
      "\"non-list contrasts argument ignored\"\n",
      "Warning message in model.matrix.default(~x - 1, model.frame(~x - 1), contrasts = FALSE):\n",
      "\"non-list contrasts argument ignored\"\n",
      "Warning message in model.matrix.default(~x - 1, model.frame(~x - 1), contrasts = FALSE):\n",
      "\"non-list contrasts argument ignored\"\n",
      "Warning message in model.matrix.default(~x - 1, model.frame(~x - 1), contrasts = FALSE):\n",
      "\"non-list contrasts argument ignored\"\n",
      "Warning message in model.matrix.default(~x - 1, model.frame(~x - 1), contrasts = FALSE):\n",
      "\"non-list contrasts argument ignored\"\n",
      "Warning message in model.matrix.default(~x - 1, model.frame(~x - 1), contrasts = FALSE):\n",
      "\"non-list contrasts argument ignored\"\n",
      "Warning message in model.matrix.default(~x - 1, model.frame(~x - 1), contrasts = FALSE):\n",
      "\"non-list contrasts argument ignored\"\n",
      "Warning message in model.matrix.default(~x - 1, model.frame(~x - 1), contrasts = FALSE):\n",
      "\"non-list contrasts argument ignored\"\n"
     ]
    },
    {
     "name": "stdout",
     "output_type": "stream",
     "text": [
      "  [1] \"id\"                                         \n",
      "  [2] \"amount_tsh\"                                 \n",
      "  [3] \"date_recorded\"                              \n",
      "  [4] \"gps_height\"                                 \n",
      "  [5] \"installer\"                                  \n",
      "  [6] \"num_private\"                                \n",
      "  [7] \"region_code\"                                \n",
      "  [8] \"district_code\"                              \n",
      "  [9] \"population\"                                 \n",
      " [10] \"public_meeting\"                             \n",
      " [11] \"permit\"                                     \n",
      " [12] \"construction_year\"                          \n",
      " [13] \"source_class\"                               \n",
      " [14] \"region_kmeans\"                              \n",
      " [15] \"basin_Internal\"                             \n",
      " [16] \"basin_Lake_Nyasa\"                           \n",
      " [17] \"basin_Lake_Rukwa\"                           \n",
      " [18] \"basin_Lake_Tanganyika\"                      \n",
      " [19] \"basin_Lake_Victoria\"                        \n",
      " [20] \"basin_Pangani\"                              \n",
      " [21] \"basin_Rufiji\"                               \n",
      " [22] \"basin_Ruvuma_/_Southern_Coast\"              \n",
      " [23] \"basin_Wami_/_Ruvu\"                          \n",
      " [24] \"region_Arusha\"                              \n",
      " [25] \"region_Dar_es_Salaam\"                       \n",
      " [26] \"region_Dodoma\"                              \n",
      " [27] \"region_Iringa\"                              \n",
      " [28] \"region_Kagera\"                              \n",
      " [29] \"region_Kigoma\"                              \n",
      " [30] \"region_Kilimanjaro\"                         \n",
      " [31] \"region_Lindi\"                               \n",
      " [32] \"region_Manyara\"                             \n",
      " [33] \"region_Mara\"                                \n",
      " [34] \"region_Mbeya\"                               \n",
      " [35] \"region_Morogoro\"                            \n",
      " [36] \"region_Mtwara\"                              \n",
      " [37] \"region_Mwanza\"                              \n",
      " [38] \"region_Pwani\"                               \n",
      " [39] \"region_Rukwa\"                               \n",
      " [40] \"region_Ruvuma\"                              \n",
      " [41] \"region_Shinyanga\"                           \n",
      " [42] \"region_Singida\"                             \n",
      " [43] \"region_Tabora\"                              \n",
      " [44] \"region_Tanga\"                               \n",
      " [45] \"lga_Arusha_Rural\"                           \n",
      " [46] \"lga_Arusha_Urban\"                           \n",
      " [47] \"lga_Babati\"                                 \n",
      " [48] \"lga_Bagamoyo\"                               \n",
      " [49] \"lga_Bahi\"                                   \n",
      " [50] \"lga_Bariadi\"                                \n",
      " [51] \"lga_Biharamulo\"                             \n",
      " [52] \"lga_Bukoba_Rural\"                           \n",
      " [53] \"lga_Bukoba_Urban\"                           \n",
      " [54] \"lga_Bukombe\"                                \n",
      " [55] \"lga_Bunda\"                                  \n",
      " [56] \"lga_Chamwino\"                               \n",
      " [57] \"lga_Chato\"                                  \n",
      " [58] \"lga_Chunya\"                                 \n",
      " [59] \"lga_Dodoma_Urban\"                           \n",
      " [60] \"lga_Geita\"                                  \n",
      " [61] \"lga_Hai\"                                    \n",
      " [62] \"lga_Hanang\"                                 \n",
      " [63] \"lga_Handeni\"                                \n",
      " [64] \"lga_Igunga\"                                 \n",
      " [65] \"lga_Ilala\"                                  \n",
      " [66] \"lga_Ileje\"                                  \n",
      " [67] \"lga_Ilemela\"                                \n",
      " [68] \"lga_Iramba\"                                 \n",
      " [69] \"lga_Iringa_Rural\"                           \n",
      " [70] \"lga_Kahama\"                                 \n",
      " [71] \"lga_Karagwe\"                                \n",
      " [72] \"lga_Karatu\"                                 \n",
      " [73] \"lga_Kasulu\"                                 \n",
      " [74] \"lga_Kibaha\"                                 \n",
      " [75] \"lga_Kibondo\"                                \n",
      " [76] \"lga_Kigoma_Rural\"                           \n",
      " [77] \"lga_Kigoma_Urban\"                           \n",
      " [78] \"lga_Kilindi\"                                \n",
      " [79] \"lga_Kilolo\"                                 \n",
      " [80] \"lga_Kilombero\"                              \n",
      " [81] \"lga_Kilosa\"                                 \n",
      " [82] \"lga_Kilwa\"                                  \n",
      " [83] \"lga_Kinondoni\"                              \n",
      " [84] \"lga_Kisarawe\"                               \n",
      " [85] \"lga_Kishapu\"                                \n",
      " [86] \"lga_Kiteto\"                                 \n",
      " [87] \"lga_Kondoa\"                                 \n",
      " [88] \"lga_Kongwa\"                                 \n",
      " [89] \"lga_Korogwe\"                                \n",
      " [90] \"lga_Kwimba\"                                 \n",
      " [91] \"lga_Kyela\"                                  \n",
      " [92] \"lga_Lindi_Rural\"                            \n",
      " [93] \"lga_Lindi_Urban\"                            \n",
      " [94] \"lga_Liwale\"                                 \n",
      " [95] \"lga_Longido\"                                \n",
      " [96] \"lga_Ludewa\"                                 \n",
      " [97] \"lga_Lushoto\"                                \n",
      " [98] \"lga_Mafia\"                                  \n",
      " [99] \"lga_Magu\"                                   \n",
      "[100] \"lga_Makete\"                                 \n",
      "[101] \"lga_Manyoni\"                                \n",
      "[102] \"lga_Masasi\"                                 \n",
      "[103] \"lga_Maswa\"                                  \n",
      "[104] \"lga_Mbarali\"                                \n",
      "[105] \"lga_Mbeya_Rural\"                            \n",
      "[106] \"lga_Mbinga\"                                 \n",
      "[107] \"lga_Mbozi\"                                  \n",
      "[108] \"lga_Mbulu\"                                  \n",
      "[109] \"lga_Meatu\"                                  \n",
      "[110] \"lga_Meru\"                                   \n",
      "[111] \"lga_Misenyi\"                                \n",
      "[112] \"lga_Missungwi\"                              \n",
      "[113] \"lga_Mkinga\"                                 \n",
      "[114] \"lga_Mkuranga\"                               \n",
      "[115] \"lga_Monduli\"                                \n",
      "[116] \"lga_Morogoro_Rural\"                         \n",
      "[117] \"lga_Morogoro_Urban\"                         \n",
      "[118] \"lga_Moshi_Rural\"                            \n",
      "[119] \"lga_Moshi_Urban\"                            \n",
      "[120] \"lga_Mpanda\"                                 \n",
      "[121] \"lga_Mpwapwa\"                                \n",
      "[122] \"lga_Mtwara_Rural\"                           \n",
      "[123] \"lga_Mtwara_Urban\"                           \n",
      "[124] \"lga_Mufindi\"                                \n",
      "[125] \"lga_Muheza\"                                 \n",
      "[126] \"lga_Muleba\"                                 \n",
      "[127] \"lga_Musoma_Rural\"                           \n",
      "[128] \"lga_Mvomero\"                                \n",
      "[129] \"lga_Mwanga\"                                 \n",
      "[130] \"lga_Nachingwea\"                             \n",
      "[131] \"lga_Namtumbo\"                               \n",
      "[132] \"lga_Nanyumbu\"                               \n",
      "[133] \"lga_Newala\"                                 \n",
      "[134] \"lga_Ngara\"                                  \n",
      "[135] \"lga_Ngorongoro\"                             \n",
      "[136] \"lga_Njombe\"                                 \n",
      "[137] \"lga_Nkasi\"                                  \n",
      "[138] \"lga_Nzega\"                                  \n",
      "[139] \"lga_Pangani\"                                \n",
      "[140] \"lga_Rombo\"                                  \n",
      "[141] \"lga_Rorya\"                                  \n",
      "[142] \"lga_Ruangwa\"                                \n",
      "[143] \"lga_Rufiji\"                                 \n",
      "[144] \"lga_Rungwe\"                                 \n",
      "[145] \"lga_Same\"                                   \n",
      "[146] \"lga_Sengerema\"                              \n",
      "[147] \"lga_Serengeti\"                              \n",
      "[148] \"lga_Shinyanga_Rural\"                        \n",
      "[149] \"lga_Shinyanga_Urban\"                        \n",
      "[150] \"lga_Siha\"                                   \n",
      "[151] \"lga_Sikonge\"                                \n",
      "[152] \"lga_Simanjiro\"                              \n",
      "[153] \"lga_Singida_Rural\"                          \n",
      "[154] \"lga_Singida_Urban\"                          \n",
      "[155] \"lga_Songea_Rural\"                           \n",
      "[156] \"lga_Songea_Urban\"                           \n",
      "[157] \"lga_Sumbawanga_Rural\"                       \n",
      "[158] \"lga_Sumbawanga_Urban\"                       \n",
      "[159] \"lga_Tabora_Urban\"                           \n",
      "[160] \"lga_Tandahimba\"                             \n",
      "[161] \"lga_Tanga\"                                  \n",
      "[162] \"lga_Tarime\"                                 \n",
      "[163] \"lga_Temeke\"                                 \n",
      "[164] \"lga_Tunduru\"                                \n",
      "[165] \"lga_Ukerewe\"                                \n",
      "[166] \"lga_Ulanga\"                                 \n",
      "[167] \"lga_Urambo\"                                 \n",
      "[168] \"lga_Uyui\"                                   \n",
      "[169] \"extraction_type_group_afridev\"              \n",
      "[170] \"extraction_type_group_gravity\"              \n",
      "[171] \"extraction_type_group_india_mark_ii\"        \n",
      "[172] \"extraction_type_group_india_mark_iii\"       \n",
      "[173] \"extraction_type_group_mono\"                 \n",
      "[174] \"extraction_type_group_nira/tanira\"          \n",
      "[175] \"extraction_type_group_other\"                \n",
      "[176] \"extraction_type_group_other_handpump\"       \n",
      "[177] \"extraction_type_group_other_motorpump\"      \n",
      "[178] \"extraction_type_group_rope_pump\"            \n",
      "[179] \"extraction_type_group_submersible\"          \n",
      "[180] \"extraction_type_group_swn_80\"               \n",
      "[181] \"extraction_type_group_wind-powered\"         \n",
      "[182] \"extraction_type_class_gravity\"              \n",
      "[183] \"extraction_type_class_handpump\"             \n",
      "[184] \"extraction_type_class_motorpump\"            \n",
      "[185] \"extraction_type_class_other\"                \n",
      "[186] \"extraction_type_class_rope_pump\"            \n",
      "[187] \"extraction_type_class_submersible\"          \n",
      "[188] \"extraction_type_class_wind-powered\"         \n",
      "[189] \"management_company\"                         \n",
      "[190] \"management_other\"                           \n",
      "[191] \"management_other_-_school\"                  \n",
      "[192] \"management_parastatal\"                      \n",
      "[193] \"management_private_operator\"                \n",
      "[194] \"management_trust\"                           \n",
      "[195] \"management_unknown\"                         \n",
      "[196] \"management_vwc\"                             \n",
      "[197] \"management_water_authority\"                 \n",
      "[198] \"management_water_board\"                     \n",
      "[199] \"management_wua\"                             \n",
      "[200] \"management_wug\"                             \n",
      "[201] \"management_group_commercial\"                \n",
      "[202] \"management_group_other\"                     \n",
      "[203] \"management_group_parastatal\"                \n",
      "[204] \"management_group_unknown\"                   \n",
      "[205] \"management_group_user-group\"                \n",
      "[206] \"payment_type_annually\"                      \n",
      "[207] \"payment_type_monthly\"                       \n",
      "[208] \"payment_type_never_pay\"                     \n",
      "[209] \"payment_type_on_failure\"                    \n",
      "[210] \"payment_type_other\"                         \n",
      "[211] \"payment_type_per_bucket\"                    \n",
      "[212] \"payment_type_unknown\"                       \n",
      "[213] \"water_quality_coloured\"                     \n",
      "[214] \"water_quality_fluoride\"                     \n",
      "[215] \"water_quality_fluoride_abandoned\"           \n",
      "[216] \"water_quality_milky\"                        \n",
      "[217] \"water_quality_salty\"                        \n",
      "[218] \"water_quality_salty_abandoned\"              \n",
      "[219] \"water_quality_soft\"                         \n",
      "[220] \"water_quality_unknown\"                      \n",
      "[221] \"quantity_dry\"                               \n",
      "[222] \"quantity_enough\"                            \n",
      "[223] \"quantity_insufficient\"                      \n",
      "[224] \"quantity_seasonal\"                          \n",
      "[225] \"quantity_unknown\"                           \n",
      "[226] \"source_dam\"                                 \n",
      "[227] \"source_hand_dtw\"                            \n",
      "[228] \"source_lake\"                                \n",
      "[229] \"source_machine_dbh\"                         \n",
      "[230] \"source_other\"                               \n",
      "[231] \"source_rainwater_harvesting\"                \n",
      "[232] \"source_river\"                               \n",
      "[233] \"source_shallow_well\"                        \n",
      "[234] \"source_spring\"                              \n",
      "[235] \"source_unknown\"                             \n",
      "[236] \"waterpoint_type_cattle_trough\"              \n",
      "[237] \"waterpoint_type_communal_standpipe\"         \n",
      "[238] \"waterpoint_type_communal_standpipe_multiple\"\n",
      "[239] \"waterpoint_type_dam\"                        \n",
      "[240] \"waterpoint_type_hand_pump\"                  \n",
      "[241] \"waterpoint_type_improved_spring\"            \n",
      "[242] \"waterpoint_type_other\"                      \n"
     ]
    },
    {
     "name": "stderr",
     "output_type": "stream",
     "text": [
      "Warning message in model.matrix.default(~x - 1, model.frame(~x - 1), contrasts = FALSE):\n",
      "\"non-list contrasts argument ignored\"\n",
      "221\n",
      "\n",
      "222\n",
      "\n",
      "223\n",
      "\n",
      "224\n",
      "\n",
      "175\n",
      "\n",
      "170\n",
      "\n",
      "183\n",
      "\n",
      "1\n",
      "\n",
      "50\n",
      "\n",
      "145\n",
      "\n",
      "185\n",
      "\n",
      "182\n",
      "\n",
      "211\n",
      "\n",
      "208\n",
      "\n",
      "27\n",
      "\n",
      "41\n",
      "\n",
      "196\n",
      "\n",
      "218\n",
      "\n",
      "103\n",
      "\n",
      "13\n",
      "\n",
      "232\n",
      "\n",
      "242\n",
      "\n",
      "237\n",
      "\n",
      "107\n",
      "\n",
      "135\n",
      "\n",
      "200\n",
      "\n",
      "207\n",
      "\n",
      "231\n",
      "\n",
      "229\n",
      "\n",
      "240\n",
      "\n",
      "198\n",
      "\n",
      "76\n",
      "\n",
      "206\n",
      "\n",
      "14\n",
      "\n",
      "23\n",
      "\n",
      "22\n",
      "\n",
      "21\n",
      "\n",
      "17\n",
      "\n",
      "3\n",
      "\n",
      "19\n",
      "\n",
      "38\n",
      "\n",
      "16\n",
      "\n",
      "220\n",
      "\n",
      "136\n",
      "\n",
      "184\n",
      "\n",
      "4\n",
      "\n",
      "34\n",
      "\n",
      "44\n",
      "\n",
      "217\n",
      "\n",
      "219\n",
      "\n",
      "233\n",
      "\n",
      "238\n",
      "\n",
      "234\n",
      "\n",
      "192\n",
      "\n",
      "201\n",
      "\n",
      "7\n",
      "\n",
      "29\n",
      "\n",
      "43\n",
      "\n",
      "180\n",
      "\n",
      "30\n",
      "\n",
      "173\n",
      "\n",
      "100\n",
      "\n",
      "203\n",
      "\n",
      "212\n",
      "\n",
      "11\n",
      "\n",
      "174\n",
      "\n",
      "31\n",
      "\n",
      "10\n",
      "\n",
      "193\n",
      "\n",
      "150\n",
      "\n",
      "61\n",
      "\n",
      "72\n",
      "\n",
      "225\n",
      "\n",
      "169\n",
      "\n",
      "171\n",
      "\n",
      "36\n",
      "\n",
      "48\n",
      "\n",
      "209\n",
      "\n",
      "228\n",
      "\n",
      "96\n",
      "\n",
      "45\n",
      "\n",
      "8\n",
      "\n",
      "35\n",
      "\n",
      "199\n",
      "\n",
      "139\n",
      "\n",
      "39\n",
      "\n",
      "189\n",
      "\n",
      "69\n",
      "\n",
      "91\n",
      "\n",
      "130\n",
      "\n",
      "58\n",
      "\n",
      "144\n",
      "\n",
      "12\n",
      "\n",
      "90\n",
      "\n",
      "26\n",
      "\n",
      "226\n",
      "\n",
      "216\n",
      "\n",
      "110\n",
      "\n",
      "227\n",
      "\n",
      "33\n",
      "\n",
      "104\n",
      "\n",
      "2\n",
      "\n",
      "140\n",
      "\n",
      "52\n",
      "\n",
      "124\n",
      "\n",
      "126\n",
      "\n",
      "40\n",
      "\n",
      "70\n",
      "\n",
      "101\n",
      "\n",
      "32\n",
      "\n",
      "88\n",
      "\n",
      "24\n",
      "\n",
      "102\n",
      "\n",
      "73\n",
      "\n",
      "51\n",
      "\n",
      "137\n",
      "\n",
      "114\n",
      "\n",
      "89\n",
      "\n",
      "59\n",
      "\n",
      "55\n",
      "\n",
      "138\n",
      "\n",
      "125\n",
      "\n",
      "87\n",
      "\n",
      "148\n",
      "\n",
      "146\n",
      "\n",
      "25\n",
      "\n",
      "131\n",
      "\n",
      "165\n",
      "\n",
      "151\n",
      "\n",
      "142\n",
      "\n",
      "241\n",
      "\n",
      "179\n",
      "\n",
      "79\n",
      "\n",
      "62\n",
      "\n",
      "132\n",
      "\n",
      "84\n",
      "\n",
      "71\n",
      "\n",
      "47\n",
      "\n",
      "166\n",
      "\n",
      "99\n",
      "\n",
      "63\n",
      "\n",
      "49\n",
      "\n",
      "82\n",
      "\n",
      "143\n",
      "\n",
      "122\n",
      "\n",
      "111\n",
      "\n",
      "153\n",
      "\n",
      "81\n",
      "\n",
      "168\n",
      "\n",
      "160\n",
      "\n",
      "57\n",
      "\n",
      "167\n",
      "\n",
      "64\n",
      "\n",
      "37\n",
      "\n",
      "152\n",
      "\n",
      "141\n",
      "\n",
      "157\n",
      "\n",
      "204\n",
      "\n",
      "66\n",
      "\n",
      "128\n",
      "\n",
      "158\n",
      "\n",
      "159\n",
      "\n",
      "105\n",
      "\n",
      "97\n",
      "\n",
      "15\n",
      "\n",
      "186\n",
      "\n",
      "176\n",
      "\n",
      "129\n",
      "\n",
      "86\n",
      "\n",
      "155\n",
      "\n",
      "112\n",
      "\n",
      "133\n",
      "\n",
      "113\n",
      "\n",
      "78\n",
      "\n",
      "18\n",
      "\n",
      "28\n",
      "\n",
      "20\n",
      "\n",
      "214\n",
      "\n",
      "80\n",
      "\n",
      "187\n",
      "\n",
      "210\n",
      "\n",
      "74\n",
      "\n",
      "197\n",
      "\n",
      "205\n",
      "\n",
      "163\n",
      "\n",
      "195\n",
      "\n",
      "42\n",
      "\n",
      "109\n",
      "\n",
      "106\n",
      "\n",
      "115\n",
      "\n",
      "120\n",
      "\n",
      "162\n",
      "\n",
      "108\n",
      "\n",
      "118\n",
      "\n",
      "56\n",
      "\n",
      "83\n",
      "\n",
      "236\n",
      "\n",
      "190\n",
      "\n",
      "75\n",
      "\n",
      "5\n",
      "\n",
      "94\n",
      "\n",
      "178\n",
      "\n",
      "60\n",
      "\n",
      "119\n",
      "\n",
      "154\n",
      "\n",
      "68\n",
      "\n",
      "172\n",
      "\n",
      "92\n",
      "\n",
      "98\n",
      "\n",
      "134\n",
      "\n",
      "191\n",
      "\n",
      "85\n",
      "\n",
      "67\n",
      "\n",
      "54\n",
      "\n",
      "93\n",
      "\n",
      "161\n",
      "\n",
      "177\n",
      "\n",
      "117\n",
      "\n",
      "116\n",
      "\n",
      "95\n",
      "\n",
      "156\n",
      "\n",
      "121\n",
      "\n",
      "46\n",
      "\n",
      "6\n",
      "\n",
      "9\n",
      "\n",
      "188\n",
      "\n",
      "65\n",
      "\n",
      "202\n",
      "\n",
      "149\n",
      "\n",
      "239\n",
      "\n",
      "53\n",
      "\n",
      "164\n",
      "\n",
      "77\n",
      "\n",
      "235\n",
      "\n",
      "213\n",
      "\n",
      "123\n",
      "\n",
      "194\n",
      "\n",
      "147\n",
      "\n",
      "230\n",
      "\n",
      "215\n",
      "\n",
      "181\n",
      "\n",
      "127\n",
      "\n"
     ]
    }
   ],
   "source": [
    "data_preproc <- preprocess_training(data)\n",
    "save(data_preproc, file = \"data_preproc.Rdata\")"
   ]
  },
  {
   "cell_type": "code",
   "execution_count": 60,
   "metadata": {
    "scrolled": true
   },
   "outputs": [
    {
     "data": {
      "text/html": [
       "<table class=\"dataframe\">\n",
       "<caption>A data.frame: 6 × 101</caption>\n",
       "<thead>\n",
       "\t<tr><th></th><th scope=col>basin_Internal</th><th scope=col>basin_Lake_Nyasa</th><th scope=col>basin_Lake_Tanganyika</th><th scope=col>basin_Pangani</th><th scope=col>basin_Rufiji</th><th scope=col>basin_Ruvuma_/_Southern_Coast</th><th scope=col>construction_year</th><th scope=col>date_recorded</th><th scope=col>district_code</th><th scope=col>extraction_type_class_gravity</th><th scope=col>extraction_type_class_handpump</th><th scope=col>extraction_type_class_motorpump</th><th scope=col>extraction_type_class_wind-powered</th><th scope=col>extraction_type_group_afridev</th><th scope=col>extraction_type_group_gravity</th><th scope=col>extraction_type_group_india_mark_iii</th><th scope=col>extraction_type_group_mono</th><th scope=col>extraction_type_group_nira/tanira</th><th scope=col>extraction_type_group_submersible</th><th scope=col>extraction_type_group_wind-powered</th><th scope=col>gps_height</th><th scope=col>id</th><th scope=col>lga_Babati</th><th scope=col>lga_Bahi</th><th scope=col>lga_Chato</th><th scope=col>...</th><th scope=col>region_Pwani</th><th scope=col>region_Ruvuma</th><th scope=col>region_Singida</th><th scope=col>region_Tabora</th><th scope=col>region_Tanga</th><th scope=col>source_class</th><th scope=col>source_dam</th><th scope=col>source_hand_dtw</th><th scope=col>source_lake</th><th scope=col>source_other</th><th scope=col>source_rainwater_harvesting</th><th scope=col>source_river</th><th scope=col>source_shallow_well</th><th scope=col>status_group</th><th scope=col>water_quality_fluoride_abandoned</th><th scope=col>water_quality_milky</th><th scope=col>water_quality_salty</th><th scope=col>water_quality_salty_abandoned</th><th scope=col>water_quality_soft</th><th scope=col>water_quality_unknown</th><th scope=col>waterpoint_type_cattle_trough</th><th scope=col>waterpoint_type_communal_standpipe</th><th scope=col>waterpoint_type_dam</th><th scope=col>waterpoint_type_improved_spring</th><th scope=col>status_group.1</th></tr>\n",
       "\t<tr><th></th><th scope=col>&lt;int&gt;</th><th scope=col>&lt;int&gt;</th><th scope=col>&lt;int&gt;</th><th scope=col>&lt;int&gt;</th><th scope=col>&lt;int&gt;</th><th scope=col>&lt;int&gt;</th><th scope=col>&lt;dbl&gt;</th><th scope=col>&lt;dbl&gt;</th><th scope=col>&lt;dbl&gt;</th><th scope=col>&lt;int&gt;</th><th scope=col>&lt;int&gt;</th><th scope=col>&lt;int&gt;</th><th scope=col>&lt;int&gt;</th><th scope=col>&lt;int&gt;</th><th scope=col>&lt;int&gt;</th><th scope=col>&lt;int&gt;</th><th scope=col>&lt;int&gt;</th><th scope=col>&lt;int&gt;</th><th scope=col>&lt;int&gt;</th><th scope=col>&lt;int&gt;</th><th scope=col>&lt;dbl&gt;</th><th scope=col>&lt;dbl&gt;</th><th scope=col>&lt;int&gt;</th><th scope=col>&lt;int&gt;</th><th scope=col>&lt;int&gt;</th><th scope=col>...</th><th scope=col>&lt;int&gt;</th><th scope=col>&lt;int&gt;</th><th scope=col>&lt;int&gt;</th><th scope=col>&lt;int&gt;</th><th scope=col>&lt;int&gt;</th><th scope=col>&lt;int&gt;</th><th scope=col>&lt;int&gt;</th><th scope=col>&lt;int&gt;</th><th scope=col>&lt;int&gt;</th><th scope=col>&lt;int&gt;</th><th scope=col>&lt;int&gt;</th><th scope=col>&lt;int&gt;</th><th scope=col>&lt;int&gt;</th><th scope=col>&lt;fct&gt;</th><th scope=col>&lt;int&gt;</th><th scope=col>&lt;int&gt;</th><th scope=col>&lt;int&gt;</th><th scope=col>&lt;int&gt;</th><th scope=col>&lt;int&gt;</th><th scope=col>&lt;int&gt;</th><th scope=col>&lt;int&gt;</th><th scope=col>&lt;int&gt;</th><th scope=col>&lt;int&gt;</th><th scope=col>&lt;int&gt;</th><th scope=col>&lt;fct&gt;</th></tr>\n",
       "</thead>\n",
       "<tbody>\n",
       "\t<tr><th scope=row>40746</th><td>0</td><td>0</td><td>0</td><td>0</td><td>0</td><td>0</td><td>2010</td><td>15029</td><td>2</td><td>0</td><td>0</td><td>1</td><td>0</td><td>0</td><td>0</td><td>0</td><td>1</td><td>0</td><td>0</td><td>0</td><td> 110</td><td>50916</td><td>0</td><td>0</td><td>0</td><td>...</td><td>1</td><td>0</td><td>0</td><td>0</td><td>0</td><td>0</td><td>0</td><td>0</td><td>0</td><td>0</td><td>0</td><td>1</td><td>0</td><td>non functional</td><td>0</td><td>0</td><td>0</td><td>0</td><td>1</td><td>0</td><td>0</td><td>1</td><td>0</td><td>0</td><td>non functional</td></tr>\n",
       "\t<tr><th scope=row>52162</th><td>0</td><td>0</td><td>1</td><td>0</td><td>0</td><td>0</td><td>   0</td><td>15626</td><td>4</td><td>0</td><td>1</td><td>0</td><td>0</td><td>1</td><td>0</td><td>0</td><td>0</td><td>0</td><td>0</td><td>0</td><td>   0</td><td>65228</td><td>0</td><td>0</td><td>0</td><td>...</td><td>0</td><td>0</td><td>0</td><td>1</td><td>0</td><td>1</td><td>0</td><td>0</td><td>0</td><td>0</td><td>0</td><td>0</td><td>1</td><td>non functional</td><td>0</td><td>0</td><td>0</td><td>0</td><td>1</td><td>0</td><td>0</td><td>0</td><td>0</td><td>0</td><td>non functional</td></tr>\n",
       "\t<tr><th scope=row>25288</th><td>0</td><td>0</td><td>0</td><td>0</td><td>0</td><td>0</td><td>1972</td><td>15648</td><td>4</td><td>1</td><td>0</td><td>0</td><td>0</td><td>0</td><td>1</td><td>0</td><td>0</td><td>0</td><td>0</td><td>0</td><td>1357</td><td>31526</td><td>0</td><td>0</td><td>0</td><td>...</td><td>0</td><td>0</td><td>0</td><td>0</td><td>0</td><td>0</td><td>0</td><td>0</td><td>1</td><td>0</td><td>0</td><td>0</td><td>0</td><td>non functional</td><td>0</td><td>0</td><td>0</td><td>0</td><td>0</td><td>1</td><td>0</td><td>0</td><td>0</td><td>0</td><td>non functional</td></tr>\n",
       "\t<tr><th scope=row>472</th><td>0</td><td>0</td><td>0</td><td>0</td><td>1</td><td>0</td><td>   0</td><td>15070</td><td>7</td><td>1</td><td>0</td><td>0</td><td>0</td><td>0</td><td>1</td><td>0</td><td>0</td><td>0</td><td>0</td><td>0</td><td>   0</td><td>  575</td><td>0</td><td>0</td><td>0</td><td>...</td><td>0</td><td>0</td><td>0</td><td>0</td><td>0</td><td>0</td><td>0</td><td>0</td><td>0</td><td>0</td><td>0</td><td>1</td><td>0</td><td>functional    </td><td>0</td><td>0</td><td>0</td><td>0</td><td>1</td><td>0</td><td>0</td><td>1</td><td>0</td><td>0</td><td>functional    </td></tr>\n",
       "\t<tr><th scope=row>19180</th><td>0</td><td>0</td><td>0</td><td>0</td><td>0</td><td>0</td><td>   0</td><td>15189</td><td>1</td><td>1</td><td>0</td><td>0</td><td>0</td><td>0</td><td>1</td><td>0</td><td>0</td><td>0</td><td>0</td><td>0</td><td>   0</td><td>23948</td><td>0</td><td>0</td><td>0</td><td>...</td><td>0</td><td>0</td><td>0</td><td>0</td><td>0</td><td>1</td><td>0</td><td>0</td><td>0</td><td>0</td><td>0</td><td>0</td><td>0</td><td>functional    </td><td>0</td><td>0</td><td>0</td><td>0</td><td>1</td><td>0</td><td>0</td><td>1</td><td>0</td><td>0</td><td>functional    </td></tr>\n",
       "\t<tr><th scope=row>14417</th><td>0</td><td>0</td><td>0</td><td>0</td><td>1</td><td>0</td><td>2009</td><td>15080</td><td>4</td><td>1</td><td>0</td><td>0</td><td>0</td><td>0</td><td>1</td><td>0</td><td>0</td><td>0</td><td>0</td><td>0</td><td>1852</td><td>17969</td><td>0</td><td>0</td><td>0</td><td>...</td><td>0</td><td>0</td><td>0</td><td>0</td><td>0</td><td>1</td><td>0</td><td>0</td><td>0</td><td>0</td><td>0</td><td>0</td><td>0</td><td>functional    </td><td>0</td><td>0</td><td>0</td><td>0</td><td>1</td><td>0</td><td>0</td><td>1</td><td>0</td><td>0</td><td>functional    </td></tr>\n",
       "</tbody>\n",
       "</table>\n"
      ],
      "text/latex": [
       "A data.frame: 6 × 101\n",
       "\\begin{tabular}{r|lllllllllllllllllllllllllllllllllllllllllllllllllll}\n",
       "  & basin\\_Internal & basin\\_Lake\\_Nyasa & basin\\_Lake\\_Tanganyika & basin\\_Pangani & basin\\_Rufiji & basin\\_Ruvuma\\_/\\_Southern\\_Coast & construction\\_year & date\\_recorded & district\\_code & extraction\\_type\\_class\\_gravity & extraction\\_type\\_class\\_handpump & extraction\\_type\\_class\\_motorpump & extraction\\_type\\_class\\_wind-powered & extraction\\_type\\_group\\_afridev & extraction\\_type\\_group\\_gravity & extraction\\_type\\_group\\_india\\_mark\\_iii & extraction\\_type\\_group\\_mono & extraction\\_type\\_group\\_nira/tanira & extraction\\_type\\_group\\_submersible & extraction\\_type\\_group\\_wind-powered & gps\\_height & id & lga\\_Babati & lga\\_Bahi & lga\\_Chato & ... & region\\_Pwani & region\\_Ruvuma & region\\_Singida & region\\_Tabora & region\\_Tanga & source\\_class & source\\_dam & source\\_hand\\_dtw & source\\_lake & source\\_other & source\\_rainwater\\_harvesting & source\\_river & source\\_shallow\\_well & status\\_group & water\\_quality\\_fluoride\\_abandoned & water\\_quality\\_milky & water\\_quality\\_salty & water\\_quality\\_salty\\_abandoned & water\\_quality\\_soft & water\\_quality\\_unknown & waterpoint\\_type\\_cattle\\_trough & waterpoint\\_type\\_communal\\_standpipe & waterpoint\\_type\\_dam & waterpoint\\_type\\_improved\\_spring & status\\_group.1\\\\\n",
       "  & <int> & <int> & <int> & <int> & <int> & <int> & <dbl> & <dbl> & <dbl> & <int> & <int> & <int> & <int> & <int> & <int> & <int> & <int> & <int> & <int> & <int> & <dbl> & <dbl> & <int> & <int> & <int> & ... & <int> & <int> & <int> & <int> & <int> & <int> & <int> & <int> & <int> & <int> & <int> & <int> & <int> & <fct> & <int> & <int> & <int> & <int> & <int> & <int> & <int> & <int> & <int> & <int> & <fct>\\\\\n",
       "\\hline\n",
       "\t40746 & 0 & 0 & 0 & 0 & 0 & 0 & 2010 & 15029 & 2 & 0 & 0 & 1 & 0 & 0 & 0 & 0 & 1 & 0 & 0 & 0 &  110 & 50916 & 0 & 0 & 0 & ... & 1 & 0 & 0 & 0 & 0 & 0 & 0 & 0 & 0 & 0 & 0 & 1 & 0 & non functional & 0 & 0 & 0 & 0 & 1 & 0 & 0 & 1 & 0 & 0 & non functional\\\\\n",
       "\t52162 & 0 & 0 & 1 & 0 & 0 & 0 &    0 & 15626 & 4 & 0 & 1 & 0 & 0 & 1 & 0 & 0 & 0 & 0 & 0 & 0 &    0 & 65228 & 0 & 0 & 0 & ... & 0 & 0 & 0 & 1 & 0 & 1 & 0 & 0 & 0 & 0 & 0 & 0 & 1 & non functional & 0 & 0 & 0 & 0 & 1 & 0 & 0 & 0 & 0 & 0 & non functional\\\\\n",
       "\t25288 & 0 & 0 & 0 & 0 & 0 & 0 & 1972 & 15648 & 4 & 1 & 0 & 0 & 0 & 0 & 1 & 0 & 0 & 0 & 0 & 0 & 1357 & 31526 & 0 & 0 & 0 & ... & 0 & 0 & 0 & 0 & 0 & 0 & 0 & 0 & 1 & 0 & 0 & 0 & 0 & non functional & 0 & 0 & 0 & 0 & 0 & 1 & 0 & 0 & 0 & 0 & non functional\\\\\n",
       "\t472 & 0 & 0 & 0 & 0 & 1 & 0 &    0 & 15070 & 7 & 1 & 0 & 0 & 0 & 0 & 1 & 0 & 0 & 0 & 0 & 0 &    0 &   575 & 0 & 0 & 0 & ... & 0 & 0 & 0 & 0 & 0 & 0 & 0 & 0 & 0 & 0 & 0 & 1 & 0 & functional     & 0 & 0 & 0 & 0 & 1 & 0 & 0 & 1 & 0 & 0 & functional    \\\\\n",
       "\t19180 & 0 & 0 & 0 & 0 & 0 & 0 &    0 & 15189 & 1 & 1 & 0 & 0 & 0 & 0 & 1 & 0 & 0 & 0 & 0 & 0 &    0 & 23948 & 0 & 0 & 0 & ... & 0 & 0 & 0 & 0 & 0 & 1 & 0 & 0 & 0 & 0 & 0 & 0 & 0 & functional     & 0 & 0 & 0 & 0 & 1 & 0 & 0 & 1 & 0 & 0 & functional    \\\\\n",
       "\t14417 & 0 & 0 & 0 & 0 & 1 & 0 & 2009 & 15080 & 4 & 1 & 0 & 0 & 0 & 0 & 1 & 0 & 0 & 0 & 0 & 0 & 1852 & 17969 & 0 & 0 & 0 & ... & 0 & 0 & 0 & 0 & 0 & 1 & 0 & 0 & 0 & 0 & 0 & 0 & 0 & functional     & 0 & 0 & 0 & 0 & 1 & 0 & 0 & 1 & 0 & 0 & functional    \\\\\n",
       "\\end{tabular}\n"
      ],
      "text/markdown": [
       "\n",
       "A data.frame: 6 × 101\n",
       "\n",
       "| <!--/--> | basin_Internal &lt;int&gt; | basin_Lake_Nyasa &lt;int&gt; | basin_Lake_Tanganyika &lt;int&gt; | basin_Pangani &lt;int&gt; | basin_Rufiji &lt;int&gt; | basin_Ruvuma_/_Southern_Coast &lt;int&gt; | construction_year &lt;dbl&gt; | date_recorded &lt;dbl&gt; | district_code &lt;dbl&gt; | extraction_type_class_gravity &lt;int&gt; | extraction_type_class_handpump &lt;int&gt; | extraction_type_class_motorpump &lt;int&gt; | extraction_type_class_wind-powered &lt;int&gt; | extraction_type_group_afridev &lt;int&gt; | extraction_type_group_gravity &lt;int&gt; | extraction_type_group_india_mark_iii &lt;int&gt; | extraction_type_group_mono &lt;int&gt; | extraction_type_group_nira/tanira &lt;int&gt; | extraction_type_group_submersible &lt;int&gt; | extraction_type_group_wind-powered &lt;int&gt; | gps_height &lt;dbl&gt; | id &lt;dbl&gt; | lga_Babati &lt;int&gt; | lga_Bahi &lt;int&gt; | lga_Chato &lt;int&gt; | ... ... | region_Pwani &lt;int&gt; | region_Ruvuma &lt;int&gt; | region_Singida &lt;int&gt; | region_Tabora &lt;int&gt; | region_Tanga &lt;int&gt; | source_class &lt;int&gt; | source_dam &lt;int&gt; | source_hand_dtw &lt;int&gt; | source_lake &lt;int&gt; | source_other &lt;int&gt; | source_rainwater_harvesting &lt;int&gt; | source_river &lt;int&gt; | source_shallow_well &lt;int&gt; | status_group &lt;fct&gt; | water_quality_fluoride_abandoned &lt;int&gt; | water_quality_milky &lt;int&gt; | water_quality_salty &lt;int&gt; | water_quality_salty_abandoned &lt;int&gt; | water_quality_soft &lt;int&gt; | water_quality_unknown &lt;int&gt; | waterpoint_type_cattle_trough &lt;int&gt; | waterpoint_type_communal_standpipe &lt;int&gt; | waterpoint_type_dam &lt;int&gt; | waterpoint_type_improved_spring &lt;int&gt; | status_group.1 &lt;fct&gt; |\n",
       "|---|---|---|---|---|---|---|---|---|---|---|---|---|---|---|---|---|---|---|---|---|---|---|---|---|---|---|---|---|---|---|---|---|---|---|---|---|---|---|---|---|---|---|---|---|---|---|---|---|---|---|---|\n",
       "| 40746 | 0 | 0 | 0 | 0 | 0 | 0 | 2010 | 15029 | 2 | 0 | 0 | 1 | 0 | 0 | 0 | 0 | 1 | 0 | 0 | 0 |  110 | 50916 | 0 | 0 | 0 | ... | 1 | 0 | 0 | 0 | 0 | 0 | 0 | 0 | 0 | 0 | 0 | 1 | 0 | non functional | 0 | 0 | 0 | 0 | 1 | 0 | 0 | 1 | 0 | 0 | non functional |\n",
       "| 52162 | 0 | 0 | 1 | 0 | 0 | 0 |    0 | 15626 | 4 | 0 | 1 | 0 | 0 | 1 | 0 | 0 | 0 | 0 | 0 | 0 |    0 | 65228 | 0 | 0 | 0 | ... | 0 | 0 | 0 | 1 | 0 | 1 | 0 | 0 | 0 | 0 | 0 | 0 | 1 | non functional | 0 | 0 | 0 | 0 | 1 | 0 | 0 | 0 | 0 | 0 | non functional |\n",
       "| 25288 | 0 | 0 | 0 | 0 | 0 | 0 | 1972 | 15648 | 4 | 1 | 0 | 0 | 0 | 0 | 1 | 0 | 0 | 0 | 0 | 0 | 1357 | 31526 | 0 | 0 | 0 | ... | 0 | 0 | 0 | 0 | 0 | 0 | 0 | 0 | 1 | 0 | 0 | 0 | 0 | non functional | 0 | 0 | 0 | 0 | 0 | 1 | 0 | 0 | 0 | 0 | non functional |\n",
       "| 472 | 0 | 0 | 0 | 0 | 1 | 0 |    0 | 15070 | 7 | 1 | 0 | 0 | 0 | 0 | 1 | 0 | 0 | 0 | 0 | 0 |    0 |   575 | 0 | 0 | 0 | ... | 0 | 0 | 0 | 0 | 0 | 0 | 0 | 0 | 0 | 0 | 0 | 1 | 0 | functional     | 0 | 0 | 0 | 0 | 1 | 0 | 0 | 1 | 0 | 0 | functional     |\n",
       "| 19180 | 0 | 0 | 0 | 0 | 0 | 0 |    0 | 15189 | 1 | 1 | 0 | 0 | 0 | 0 | 1 | 0 | 0 | 0 | 0 | 0 |    0 | 23948 | 0 | 0 | 0 | ... | 0 | 0 | 0 | 0 | 0 | 1 | 0 | 0 | 0 | 0 | 0 | 0 | 0 | functional     | 0 | 0 | 0 | 0 | 1 | 0 | 0 | 1 | 0 | 0 | functional     |\n",
       "| 14417 | 0 | 0 | 0 | 0 | 1 | 0 | 2009 | 15080 | 4 | 1 | 0 | 0 | 0 | 0 | 1 | 0 | 0 | 0 | 0 | 0 | 1852 | 17969 | 0 | 0 | 0 | ... | 0 | 0 | 0 | 0 | 0 | 1 | 0 | 0 | 0 | 0 | 0 | 0 | 0 | functional     | 0 | 0 | 0 | 0 | 1 | 0 | 0 | 1 | 0 | 0 | functional     |\n",
       "\n"
      ],
      "text/plain": [
       "      basin_Internal basin_Lake_Nyasa basin_Lake_Tanganyika basin_Pangani\n",
       "40746 0              0                0                     0            \n",
       "52162 0              0                1                     0            \n",
       "25288 0              0                0                     0            \n",
       "472   0              0                0                     0            \n",
       "19180 0              0                0                     0            \n",
       "14417 0              0                0                     0            \n",
       "      basin_Rufiji basin_Ruvuma_/_Southern_Coast construction_year\n",
       "40746 0            0                             2010             \n",
       "52162 0            0                                0             \n",
       "25288 0            0                             1972             \n",
       "472   1            0                                0             \n",
       "19180 0            0                                0             \n",
       "14417 1            0                             2009             \n",
       "      date_recorded district_code extraction_type_class_gravity\n",
       "40746 15029         2             0                            \n",
       "52162 15626         4             0                            \n",
       "25288 15648         4             1                            \n",
       "472   15070         7             1                            \n",
       "19180 15189         1             1                            \n",
       "14417 15080         4             1                            \n",
       "      extraction_type_class_handpump extraction_type_class_motorpump\n",
       "40746 0                              1                              \n",
       "52162 1                              0                              \n",
       "25288 0                              0                              \n",
       "472   0                              0                              \n",
       "19180 0                              0                              \n",
       "14417 0                              0                              \n",
       "      extraction_type_class_wind-powered extraction_type_group_afridev\n",
       "40746 0                                  0                            \n",
       "52162 0                                  1                            \n",
       "25288 0                                  0                            \n",
       "472   0                                  0                            \n",
       "19180 0                                  0                            \n",
       "14417 0                                  0                            \n",
       "      extraction_type_group_gravity extraction_type_group_india_mark_iii\n",
       "40746 0                             0                                   \n",
       "52162 0                             0                                   \n",
       "25288 1                             0                                   \n",
       "472   1                             0                                   \n",
       "19180 1                             0                                   \n",
       "14417 1                             0                                   \n",
       "      extraction_type_group_mono extraction_type_group_nira/tanira\n",
       "40746 1                          0                                \n",
       "52162 0                          0                                \n",
       "25288 0                          0                                \n",
       "472   0                          0                                \n",
       "19180 0                          0                                \n",
       "14417 0                          0                                \n",
       "      extraction_type_group_submersible extraction_type_group_wind-powered\n",
       "40746 0                                 0                                 \n",
       "52162 0                                 0                                 \n",
       "25288 0                                 0                                 \n",
       "472   0                                 0                                 \n",
       "19180 0                                 0                                 \n",
       "14417 0                                 0                                 \n",
       "      gps_height id    lga_Babati lga_Bahi lga_Chato ... region_Pwani\n",
       "40746  110       50916 0          0        0         ... 1           \n",
       "52162    0       65228 0          0        0         ... 0           \n",
       "25288 1357       31526 0          0        0         ... 0           \n",
       "472      0         575 0          0        0         ... 0           \n",
       "19180    0       23948 0          0        0         ... 0           \n",
       "14417 1852       17969 0          0        0         ... 0           \n",
       "      region_Ruvuma region_Singida region_Tabora region_Tanga source_class\n",
       "40746 0             0              0             0            0           \n",
       "52162 0             0              1             0            1           \n",
       "25288 0             0              0             0            0           \n",
       "472   0             0              0             0            0           \n",
       "19180 0             0              0             0            1           \n",
       "14417 0             0              0             0            1           \n",
       "      source_dam source_hand_dtw source_lake source_other\n",
       "40746 0          0               0           0           \n",
       "52162 0          0               0           0           \n",
       "25288 0          0               1           0           \n",
       "472   0          0               0           0           \n",
       "19180 0          0               0           0           \n",
       "14417 0          0               0           0           \n",
       "      source_rainwater_harvesting source_river source_shallow_well\n",
       "40746 0                           1            0                  \n",
       "52162 0                           0            1                  \n",
       "25288 0                           0            0                  \n",
       "472   0                           1            0                  \n",
       "19180 0                           0            0                  \n",
       "14417 0                           0            0                  \n",
       "      status_group   water_quality_fluoride_abandoned water_quality_milky\n",
       "40746 non functional 0                                0                  \n",
       "52162 non functional 0                                0                  \n",
       "25288 non functional 0                                0                  \n",
       "472   functional     0                                0                  \n",
       "19180 functional     0                                0                  \n",
       "14417 functional     0                                0                  \n",
       "      water_quality_salty water_quality_salty_abandoned water_quality_soft\n",
       "40746 0                   0                             1                 \n",
       "52162 0                   0                             1                 \n",
       "25288 0                   0                             0                 \n",
       "472   0                   0                             1                 \n",
       "19180 0                   0                             1                 \n",
       "14417 0                   0                             1                 \n",
       "      water_quality_unknown waterpoint_type_cattle_trough\n",
       "40746 0                     0                            \n",
       "52162 0                     0                            \n",
       "25288 1                     0                            \n",
       "472   0                     0                            \n",
       "19180 0                     0                            \n",
       "14417 0                     0                            \n",
       "      waterpoint_type_communal_standpipe waterpoint_type_dam\n",
       "40746 1                                  0                  \n",
       "52162 0                                  0                  \n",
       "25288 0                                  0                  \n",
       "472   1                                  0                  \n",
       "19180 1                                  0                  \n",
       "14417 1                                  0                  \n",
       "      waterpoint_type_improved_spring status_group.1\n",
       "40746 0                               non functional\n",
       "52162 0                               non functional\n",
       "25288 0                               non functional\n",
       "472   0                               functional    \n",
       "19180 0                               functional    \n",
       "14417 0                               functional    "
      ]
     },
     "metadata": {},
     "output_type": "display_data"
    },
    {
     "data": {
      "text/html": [
       "<style>\n",
       ".list-inline {list-style: none; margin:0; padding: 0}\n",
       ".list-inline>li {display: inline-block}\n",
       ".list-inline>li:not(:last-child)::after {content: \"\\00b7\"; padding: 0 .5ex}\n",
       "</style>\n",
       "<ol class=list-inline><li>47885</li><li>101</li></ol>\n"
      ],
      "text/latex": [
       "\\begin{enumerate*}\n",
       "\\item 47885\n",
       "\\item 101\n",
       "\\end{enumerate*}\n"
      ],
      "text/markdown": [
       "1. 47885\n",
       "2. 101\n",
       "\n",
       "\n"
      ],
      "text/plain": [
       "[1] 47885   101"
      ]
     },
     "metadata": {},
     "output_type": "display_data"
    },
    {
     "data": {
      "image/png": "[encoded data removed]",
      "text/plain": [
       "plot without title"
      ]
     },
     "metadata": {
      "image/png": {
       "height": 420,
       "width": 420
      }
     },
     "output_type": "display_data"
    }
   ],
   "source": [
    "head(data_preproc)\n",
    "dim(data_preproc)\n",
    "barplot(table(data_preproc$status_group))"
   ]
  },
  {
   "cell_type": "code",
   "execution_count": 53,
   "metadata": {
    "scrolled": true
   },
   "outputs": [
    {
     "name": "stderr",
     "output_type": "stream",
     "text": [
      "Warning message in model.matrix.default(~x - 1, model.frame(~x - 1), contrasts = FALSE):\n",
      "\"non-list contrasts argument ignored\"\n",
      "Warning message in model.matrix.default(~x - 1, model.frame(~x - 1), contrasts = FALSE):\n",
      "\"non-list contrasts argument ignored\"\n",
      "Warning message in model.matrix.default(~x - 1, model.frame(~x - 1), contrasts = FALSE):\n",
      "\"non-list contrasts argument ignored\"\n",
      "Warning message in model.matrix.default(~x - 1, model.frame(~x - 1), contrasts = FALSE):\n",
      "\"non-list contrasts argument ignored\"\n",
      "Warning message in model.matrix.default(~x - 1, model.frame(~x - 1), contrasts = FALSE):\n",
      "\"non-list contrasts argument ignored\"\n",
      "Warning message in model.matrix.default(~x - 1, model.frame(~x - 1), contrasts = FALSE):\n",
      "\"non-list contrasts argument ignored\"\n",
      "Warning message in model.matrix.default(~x - 1, model.frame(~x - 1), contrasts = FALSE):\n",
      "\"non-list contrasts argument ignored\"\n",
      "Warning message in model.matrix.default(~x - 1, model.frame(~x - 1), contrasts = FALSE):\n",
      "\"non-list contrasts argument ignored\"\n",
      "Warning message in model.matrix.default(~x - 1, model.frame(~x - 1), contrasts = FALSE):\n",
      "\"non-list contrasts argument ignored\"\n",
      "Warning message in model.matrix.default(~x - 1, model.frame(~x - 1), contrasts = FALSE):\n",
      "\"non-list contrasts argument ignored\"\n",
      "Warning message in model.matrix.default(~x - 1, model.frame(~x - 1), contrasts = FALSE):\n",
      "\"non-list contrasts argument ignored\"\n",
      "Warning message in model.matrix.default(~x - 1, model.frame(~x - 1), contrasts = FALSE):\n",
      "\"non-list contrasts argument ignored\"\n",
      "Warning message in model.matrix.default(~x - 1, model.frame(~x - 1), contrasts = FALSE):\n",
      "\"non-list contrasts argument ignored\"\n",
      "Warning message in model.matrix.default(~x - 1, model.frame(~x - 1), contrasts = FALSE):\n",
      "\"non-list contrasts argument ignored\"\n",
      "Warning message in model.matrix.default(~x - 1, model.frame(~x - 1), contrasts = FALSE):\n",
      "\"non-list contrasts argument ignored\"\n",
      "Warning message in model.matrix.default(~x - 1, model.frame(~x - 1), contrasts = FALSE):\n",
      "\"non-list contrasts argument ignored\"\n",
      "Warning message in model.matrix.default(~x - 1, model.frame(~x - 1), contrasts = FALSE):\n",
      "\"non-list contrasts argument ignored\"\n",
      "Warning message in model.matrix.default(~x - 1, model.frame(~x - 1), contrasts = FALSE):\n",
      "\"non-list contrasts argument ignored\"\n",
      "Warning message in model.matrix.default(~x - 1, model.frame(~x - 1), contrasts = FALSE):\n",
      "\"non-list contrasts argument ignored\"\n",
      "Warning message in model.matrix.default(~x - 1, model.frame(~x - 1), contrasts = FALSE):\n",
      "\"non-list contrasts argument ignored\"\n",
      "Warning message in model.matrix.default(~x - 1, model.frame(~x - 1), contrasts = FALSE):\n",
      "\"non-list contrasts argument ignored\"\n",
      "Warning message in model.matrix.default(~x - 1, model.frame(~x - 1), contrasts = FALSE):\n",
      "\"non-list contrasts argument ignored\"\n",
      "Warning message in model.matrix.default(~x - 1, model.frame(~x - 1), contrasts = FALSE):\n",
      "\"non-list contrasts argument ignored\"\n"
     ]
    }
   ],
   "source": [
    "test_preproc <- preprocess_test(eval_data)"
   ]
  },
  {
   "cell_type": "code",
   "execution_count": null,
   "metadata": {
    "scrolled": true
   },
   "outputs": [],
   "source": [
    "dim(test_preproc)"
   ]
  },
  {
   "cell_type": "code",
   "execution_count": null,
   "metadata": {},
   "outputs": [],
   "source": [
    "train_cols <- colnames(data_preproc)\n",
    "for(c in colnames(test_preproc)) {\n",
    "    if(!(c %in% train_cols)) {\n",
    "        print(c)\n",
    "    }\n",
    "}"
   ]
  },
  {
   "cell_type": "markdown",
   "metadata": {},
   "source": [
    "## Feature engineering"
   ]
  },
  {
   "cell_type": "markdown",
   "metadata": {},
   "source": [
    "## Feature selection"
   ]
  },
  {
   "cell_type": "markdown",
   "metadata": {},
   "source": [
    "# Model selection"
   ]
  },
  {
   "cell_type": "markdown",
   "metadata": {},
   "source": [
    "## Model 1\n"
   ]
  },
  {
   "cell_type": "code",
   "execution_count": null,
   "metadata": {},
   "outputs": [],
   "source": [
    "library(\"nnet\")"
   ]
  },
  {
   "cell_type": "code",
   "execution_count": null,
   "metadata": {},
   "outputs": [],
   "source": [
    "accuracyFromConfusionMatrix <- function(confusion_matrix){\n",
    "   \n",
    "    full_confusion_matrix <-matrix(0, nrow = 3, ncol = 3)\n",
    "    colnames(full_confusion_matrix) <- colnames(confusion_matrix)\n",
    "    rownames(full_confusion_matrix) <- colnames(confusion_matrix)\n",
    "    full_confusion_matrix[rownames(confusion_matrix),] <- confusion_matrix[rownames(confusion_matrix),]\n",
    "    return((full_confusion_matrix[1,1]+full_confusion_matrix[2,2]+full_confusion_matrix[3,3])/sum(full_confusion_matrix))\n",
    "}\n",
    "\n",
    "\n",
    "computeResults <- function(Y,Y_hat,explanatory_string=\"\",verbose=TRUE){\n",
    " \n",
    "    confusion_matrix <- table(Y_hat,Y)\n",
    "    accuracy <- accuracyFromConfusionMatrix(confusion_matrix)\n",
    "    misclassification_rate <- 1 - accuracy\n",
    "    \n",
    "    if(verbose){\n",
    "        print(paste(\"[INFO] - Confusion matrix\",explanatory_string,\":\"))\n",
    "        print(confusion_matrix)\n",
    "        print(paste(\"[INFO] - Accuracy\",explanatory_string,\":\",accuracy))\n",
    "        print(paste(\"[INFO] - Misclassification rate\",explanatory_string,\":\",misclassification_rate))\n",
    "    }\n",
    "    return(accuracy)\n",
    "}"
   ]
  },
  {
   "cell_type": "code",
   "execution_count": null,
   "metadata": {},
   "outputs": [],
   "source": [
    "library(\"nnet\")\n",
    "library(\"randomForest\")\n",
    "library(\"RSNNS\")\n",
    "\n",
    "#Cross validation\n",
    "crossValidationInOutSample <- function(parameter,k,model_type){\n",
    "    data <- data_preproc\n",
    "    target_variable <- ncol(data)\n",
    "    accuracy_vec <- c()\n",
    "    \n",
    "    # 1. Shuffle the dataset randomly.\n",
    "    data_idx <- sample(1:nrow(data))\n",
    "    half_split <- floor(nrow(data)/2)\n",
    "    target_variable <- ncol(data)\n",
    "    \n",
    "    # 2. Split the dataset into k groups\n",
    "    max <- ceiling(nrow(data)/k)\n",
    "    splits <- split(data_idx, ceiling(seq_along(data_idx)/max))\n",
    "\n",
    "    # 3. For each unique group:\n",
    "    for (i in 1:k){\n",
    "        #3.1 Take the group as a hold out or test data set\n",
    "        train_data <- data[-splits[[i]],]\n",
    "\n",
    "        #3.2 Take the remaining groups as a training data set\n",
    "        test_data <- data[splits[[i]],]\n",
    "        print(paste(\"[INFO] - Training set size:\",dim(train_data)[1],\"- Testing set size\",dim(test_data)[1]))\n",
    "\n",
    "        #3.3 Fit a model on the training set and evaluate it on the test set\n",
    "        if(model_type==\"nnet\"){\n",
    "              model_single_out <- nnet(status_group ~ ., data=train_data,size=parameter,\n",
    "                                 skip=FALSE, maxit=100,rang=0.2,MaxNWts=10000,trace=FALSE)\n",
    "              Y_pred<-predict(model_single_out,test_data[,-target_variable])\n",
    "              Y_hat <- colnames(Y_pred)[max.col(Y_pred,ties.method=\"first\")]\n",
    "     \n",
    "        }\n",
    "        if(model_type==\"random_forest\"){\n",
    "            model_single_out <- randomForest(x=train_data[,-c(target_variable)],\n",
    "                          y=as.factor(train_data[,c(target_variable)]),\n",
    "                          xtest=test_data[,-c(target_variable)],\n",
    "                          ytest=as.factor(test_data[,c(target_variable)]),\n",
    "                          ntree=parameter,keep.forest=TRUE)\n",
    "            Y_hat <- predict(model_single_out,newdata = test_data[,-target_variable])\n",
    "            \n",
    "            #accuracy_vec[i] = (model$test$confusion[1,1]+model$test$confusion[2,2]+model$test$confusion[3,3])/sum(model$test$confusion)\n",
    "        }\n",
    "        \n",
    "        Y <- test_data[,target_variable]\n",
    "        accuracy_vec[i] <- computeResults(Y,Y_hat,paste(i,\"fold\"))\n",
    "        \n",
    "        \n",
    "       \n",
    "        #confusion_matrix <- table(Y_hat,Y)\n",
    "        \n",
    "        #3.4 Retain the evaluation score and discard the model\n",
    "       #accuracy_vec[i] = (confusion_matrix[1,1]+confusion_matrix[2,2])/sum(confusion_matrix)\n",
    "       \n",
    "        #misclassification_rate = 1 - accuracy_vec[i]\n",
    "        #print(paste(\"[INFO] - Misclassification rate -\",i,\"fold:\",misclassification_rate))\n",
    "    }\n",
    "\n",
    "    # 4.1 Summarize the skill of the model using the sample of model evaluation scores\n",
    "    print(paste(\"[INFO] - CV - Mean misclassification rate:\",1-mean(accuracy_vec)))\n",
    "    \n",
    "    # 4.2 Split training-test for in/out of sample predictions\n",
    "    train_data <- data[data_idx[1:half_split],]\n",
    "    test_data <- data[data_idx[(half_split+1):nrow(data)],]\n",
    "    Y <- test_data[,target_variable]\n",
    "    if(model_type==\"nnet\"){\n",
    "        model_single_out <- nnet(status_group ~ ., data=train_data,size=parameter,trace=F,skip=FALSE,maxit=100,rang=0.2,MaxNWts=10000)\n",
    "         # 4.2 - In sample evaluation error computation\n",
    "        Y_pred<-predict(model_single_out,train_data[,-target_variable])\n",
    "        Y_hat_single_out_in_sample <- colnames(Y_pred)[max.col(Y_pred,ties.method=\"first\")]\n",
    "         # 4.2 - Out of sample evaluation error computation\n",
    "        Y_pred<-predict(model_single_out,test_data[,-target_variable])\n",
    "        Y_hat_single_out_out_sample <- colnames(Y_pred)[max.col(Y_pred,ties.method=\"first\")]\n",
    "\n",
    "\n",
    "    }\n",
    "    if(model_type==\"random_forest\"){\n",
    "            model_single_out <- randomForest(x=train_data[,-c(target_variable)],\n",
    "                          y=as.factor(train_data[,c(target_variable)]),\n",
    "                          xtest=test_data[,-c(target_variable)],\n",
    "                          ytest=as.factor(test_data[,c(target_variable)]),\n",
    "                          ntree=parameter,keep.forest=TRUE)\n",
    "            Y_hat_single_out_in_sample  <- predict(model_single_out,train_data[,-target_variable])\n",
    "            Y_hat_single_out_out_sample <- predict(model_single_out,test_data[,-target_variable])\n",
    "            #accuracy_vec[i] = (model$test$confusion[1,1]+model$test$confusion[2,2]+model$test$confusion[3,3])/sum(model$test$confusion)\n",
    "    }\n",
    "        \n",
    "\n",
    "   \n",
    "   \n",
    "    accuracy_in_sample <- computeResults(train_data[,target_variable],Y_hat_single_out_in_sample,\"In sample\")\n",
    "    accuracy_out_sample <- computeResults(Y,Y_hat_single_out_out_sample,\"Out sample\")\n",
    "    \n",
    "    return(list(in_sample=accuracy_in_sample,out_sample=accuracy_out_sample,cv=mean(accuracy_vec)))\n",
    "}\n",
    "\n",
    "applyCrossValTest <- function(parameters,k,model_type){\n",
    "    error_in_sample_vec <- numeric()\n",
    "    error_out_sample_vec <- numeric()\n",
    "    error_cv_vec <- numeric()\n",
    "\n",
    "    for(parameter in parameters){\n",
    "        print(paste(\"[INFO] - Testing h=\",parameter))\n",
    "        results <- crossValidationInOutSample(parameter,k,model_type)\n",
    "        error_in_sample_vec <- c(error_in_sample_vec,results$in_sample)\n",
    "        error_out_sample_vec <- c(error_out_sample_vec,results$out_sample)\n",
    "        error_cv_vec <- c(error_cv_vec,results$cv)\n",
    "    }\n",
    "    save(error_in_sample_vec,error_out_sample_vec,error_cv_vec,file=\"CV.Rdata\")\n",
    "}\n",
    "    "
   ]
  },
  {
   "cell_type": "code",
   "execution_count": null,
   "metadata": {},
   "outputs": [],
   "source": [
    "model_type = \"random_forest\"\n",
    "k <- 1\n",
    "parameters <- c(14)\n",
    "load(file = \"data_preproc.Rdata\")\n",
    "applyCrossValTest(parameters,k,model_type)\n"
   ]
  },
  {
   "cell_type": "code",
   "execution_count": null,
   "metadata": {},
   "outputs": [],
   "source": [
    "load(\"CV.Rdata\")\n",
    "plot(parameters,error_in_sample_vec,type=\"n\",main=\"Classification accuracy as a function of number of hidden neurons\",xlab=\"Hidden neurons\",ylab=\"Accuracy\")\n",
    "lines(parameters,error_in_sample_vec)\n",
    "lines(parameters,error_out_sample_vec,col=\"blue\")\n",
    "lines(parameters,error_cv_vec,col=\"red\")\n",
    "legend(\"bottomright\",legend=c(\"In sample\",\"Out of sample\",\"CV\"),col=c(\"black\",\"blue\",\"red\"),lty=c(1,1,1))"
   ]
  },
  {
   "cell_type": "code",
   "execution_count": null,
   "metadata": {},
   "outputs": [],
   "source": [
    "#install.packages(\"RSNNS\")\n",
    "library(\"nnet\")\n",
    "library(\"randomForest\")\n",
    "library(\"RSNNS\")\n",
    "\n",
    "BaggingNN <- function(n_bagging_resamples,model_type,hidden_nodes){\n",
    "    data <- data_preproc\n",
    "    half_split <- floor(nrow(data)/2)\n",
    "    target_variable <- ncol(data)\n",
    "    accuracy_vec <- c()\n",
    "    \n",
    "    # 1. Shuffle the dataset randomly.\n",
    "    set.seed(1717)\n",
    "    data_idx <- sample(1:nrow(data))\n",
    "    \n",
    "    # 2. Normalize dataset\n",
    "    data_n <- data[,-target_variable]\n",
    "    scaled <- scale(data_n)\n",
    "    \n",
    "    # 2. Split shuffled dataset into training and test set\n",
    "    if (model_type==\"nnet\"){\n",
    "         train_data <- data[data_idx[1:half_split],]\n",
    "         test_data <- data[data_idx[(half_split+1):nrow(data)],]\n",
    "         n_train <- length(train_data)\n",
    "         Y_hat_bagged<-array(0,c(length(test_data),1))\n",
    "         Y <- test_data[,target_variable]\n",
    "    }\n",
    "     if (model_type==\"radial\"){\n",
    "        train_data <- scaled[data_idx[1:half_split],]\n",
    "        train_label <- data[data_idx[1:half_split],target_variable]\n",
    "        test_data <- scaled[data_idx[(half_split+1):nrow(data)],]\n",
    "        test_label <- data[data_idx[(half_split+1):nrow(data)],target_variable]\n",
    "        n_train <- dim(train_data)[1]\n",
    "        Y_hat_bagged<-array(0,c(dim(test_data)[1],1))\n",
    "        Y <- test_label\n",
    "    }\n",
    " \n",
    "   \n",
    "    Y_pred_models<-numeric()\n",
    "   \n",
    "\n",
    "    accuracy_vec<-array(0,c(1,n_bagging_resamples))\n",
    "        print(\"okkke-1-1\")\n",
    "    for (i in 1:n_bagging_resamples)\n",
    "    {\n",
    "      # 1. Resample data from the training set\n",
    "      I_bag <- sample(seq(1,n_train),replace=TRUE)\n",
    "      # 2. Fit model\n",
    "        #model<- 0\n",
    "       # Y_pred <-  0\n",
    "        print(\"okkke11\")\n",
    "      if (model_type == \"nnet\"){\n",
    "          print(\"okkke22\")\n",
    "           model <- nnet (status_group ~ .,train_data[I_bag,],skip=FALSE,\n",
    "                       size=hidden_nodes, maxit=75,trace=F,rang=0.2,MaxNWts=20000)\n",
    "           Y_pred <- predict(model,test_data[,-target_variable])\n",
    "          print(\"whaaat\")\n",
    "      }\n",
    "     if (model_type==\"radial\"){\n",
    "          model <- RSNNS::rbf(as.matrix(train_data[I_bag,]),\n",
    "                           decodeClassLabels(as.matrix(train_label[I_bag])), # Training labels must be provided with one-hot-encoding\n",
    "                           size=hidden_nodes, \n",
    "                           maxit=75, \n",
    "                           #initFuncParams=c(0, 1, 0, 0.01, 0.01),\n",
    "                           #initFunc=\"RBF_Weights_Kohonen\",\n",
    "                           learnFuncParams=c(1e-8, 0, 1e-8, 0.1, 0.8), linOut=T, trace=T)\n",
    "\n",
    "          Y_pred <- predict(model,test_data)\n",
    "          colnames(Y_pred) <- c(\"functional\", \"functional needs repair\", \"non functional\")\n",
    "     }\n",
    "      \n",
    "\n",
    "     \n",
    "    print(\"okk3333\")\n",
    "      result_classification <- colnames(Y_pred)[max.col(Y_pred,ties.method=\"first\")]\n",
    "#       result_classification[1] <- \"functional needs repair\"\n",
    "#       result_classification[2] <- \"non functional\"\n",
    "      Y_pred_models <- cbind(Y_pred_models,result_classification)\n",
    "      accuracy_vec[i] <- computeResults(Y,result_classification,paste(i,\"th model\"),verbose=F)\n",
    "    }\n",
    "\n",
    "\n",
    "   \n",
    "#     # 3. Majority vote of the classifiers to make the prediction\n",
    "\n",
    "     Y_hat_bagged <- apply(Y_pred_models,1,function(x) names(which.max(table(x))))\n",
    "     #Y <- test_data[,target_variable]\n",
    "\n",
    "     accuracy_bag <- computeResults(Y,Y_hat_bagged,\"bagged model\")\n",
    "     print(accuracy_bag)\n",
    "     if (model_type == \"nnet\"){\n",
    "             print(\"okk444\")\n",
    "             model_single_out <- nnet(status_group ~ ., data=train_data,size=hidden_nodes,trace=F,skip=FALSE,maxit=75,rang=0.2,MaxNWts=20000)\n",
    "     }\n",
    "     if (model_type == \"radial\"){\n",
    "          model_single_out <- model_single_out <- RSNNS::rbf(as.matrix(train_data),\n",
    "                           decodeClassLabels(train_label),\n",
    "                           #nOutputs=2,\n",
    "                           size=hidden_nodes, \n",
    "                           maxit=150, \n",
    "                           #initFuncParams=c(0, 1, 0, 0.01, 0.01),\n",
    "                           #initFunc=\"RBF_Weights_Kohonen\",\n",
    "                           learnFuncParams=c(1e-8, 0, 1e-8, 0.1, 0.8), linOut=T, trace=T)\n",
    "         \n",
    "     }\n",
    "     Y_pred_single_out <- predict(model_single_out,test_data[,-target_variable])\n",
    "     colnames(Y_pred_single_out) <- c(\"functional\", \"functional needs repair\", \"non functional\")\n",
    "     Y_hat_single_out <- colnames(Y_pred_single_out)[max.col(Y_pred_single_out,ties.method=\"first\")]\n",
    "     accuracy_single_out <- computeResults(Y,Y_hat_single_out,\"single model\")\n",
    "     return(list(accuracy_bagged=accuracy_bag,accuracy_simple=accuracy_single_out,bagging_accuracies=accuracy_vec))\n",
    "}\n",
    "print(\"test\")\n"
   ]
  },
  {
   "cell_type": "code",
   "execution_count": null,
   "metadata": {},
   "outputs": [],
   "source": [
    "load(file = \"data_preproc.Rdata\")\n",
    "results <- BaggingNN(n_bagging_resamples=10,\"nnet\",hidden_nodes=10)"
   ]
  },
  {
   "cell_type": "code",
   "execution_count": null,
   "metadata": {},
   "outputs": [],
   "source": []
  },
  {
   "cell_type": "markdown",
   "metadata": {},
   "source": [
    "## Model 2\n"
   ]
  },
  {
   "cell_type": "markdown",
   "metadata": {},
   "source": [
    "The second model that was implemented is a Random Forest. A hyperparameter of this model is the number of trees that is used. Different values for this hyperparameter were therefore tested in order to find the ont yielding the best solution in terms of accuracy."
   ]
  },
  {
   "cell_type": "code",
   "execution_count": 51,
   "metadata": {},
   "outputs": [],
   "source": [
    "library(\"randomForest\")\n",
    "#load(file = \"data_preproc.Rdata\")"
   ]
  },
  {
   "cell_type": "code",
   "execution_count": 54,
   "metadata": {},
   "outputs": [
    {
     "name": "stdout",
     "output_type": "stream",
     "text": [
      "        amount_tsh basin_Internal basin_Lake_Nyasa basin_Lake_Tanganyika\n",
      "9248        0.0000              0                0                     0\n",
      "22945.1  1000.0000              0                0                     0\n",
      "105421    175.6136              0                0                     0\n",
      "25626       0.0000              0                0                     0\n",
      "53936    1000.0000              0                0                     0\n",
      "45233       0.0000              0                0                     1\n",
      "        basin_Pangani basin_Rufiji basin_Ruvuma_/_Southern_Coast date_recorded\n",
      "9248                0            1                             0         15221\n",
      "22945.1             0            0                             1         15739\n",
      "105421              0            0                             0         15793\n",
      "25626               0            0                             1         15734\n",
      "53936               0            1                             0         15035\n",
      "45233               0            0                             0         15634\n",
      "        district_code extraction_type_class_gravity\n",
      "9248         2.675255                             1\n",
      "22945.1      1.000000                             0\n",
      "105421       1.702455                             1\n",
      "25626       53.000000                             0\n",
      "53936        1.000000                             1\n",
      "45233        1.000000                             0\n",
      "        extraction_type_class_handpump extraction_type_class_motorpump\n",
      "9248                                 0                               0\n",
      "22945.1                              1                               0\n",
      "105421                               0                               0\n",
      "25626                                0                               0\n",
      "53936                                0                               0\n",
      "45233                                0                               0\n",
      "        extraction_type_class_wind-powered extraction_type_group_afridev\n",
      "9248                                     0                             0\n",
      "22945.1                                  0                             0\n",
      "105421                                   0                             0\n",
      "25626                                    0                             0\n",
      "53936                                    0                             0\n",
      "45233                                    0                             0\n",
      "        extraction_type_group_gravity extraction_type_group_india_mark_iii\n",
      "9248                                1                                    0\n",
      "22945.1                             0                                    0\n",
      "105421                              1                                    0\n",
      "25626                               0                                    0\n",
      "53936                               1                                    0\n",
      "45233                               0                                    0\n",
      "        extraction_type_group_mono extraction_type_group_nira/tanira\n",
      "9248                             0                                 0\n",
      "22945.1                          0                                 0\n",
      "105421                           0                                 0\n",
      "25626                            0                                 0\n",
      "53936                            0                                 0\n",
      "45233                            0                                 0\n",
      "        extraction_type_group_submersible extraction_type_group_wind-powered\n",
      "9248                                    0                                  0\n",
      "22945.1                                 0                                  0\n",
      "105421                                  0                                  0\n",
      "25626                                   0                                  0\n",
      "53936                                   0                                  0\n",
      "45233                                   0                                  0\n",
      "        gps_height       id lga_Babati lga_Bahi lga_Chato lga_Geita lga_Iramba\n",
      "9248      573.2913 17977.94          0        0         0         0          0\n",
      "22945.1   430.0000 28616.00          0        0         0         0          0\n",
      "105421    586.9008 38900.31          0        0         0         0          0\n",
      "25626     277.0000 31944.00          0        0         0         0          0\n",
      "53936    1609.0000 67477.00          0        0         0         0          0\n",
      "45233       0.0000 56560.00          0        0         0         0          0\n",
      "        lga_Iringa_Rural lga_Karagwe lga_Kibondo lga_Kiteto lga_Kwimba\n",
      "9248                   0           0           0          0          0\n",
      "22945.1                0           0           0          0          0\n",
      "105421                 0           0           0          0          0\n",
      "25626                  0           0           0          0          0\n",
      "53936                  1           0           0          0          0\n",
      "45233                  0           0           0          0          0\n",
      "        lga_Longido lga_Magu lga_Masasi lga_Mbinga lga_Meatu lga_Mwanga\n",
      "9248              0        0          0          0         0          0\n",
      "22945.1           0        0          0          0         0          0\n",
      "105421            0        0          0          0         0          0\n",
      "25626             0        0          0          0         0          0\n",
      "53936             0        0          0          0         0          0\n",
      "45233             0        0          0          0         0          0\n",
      "        lga_Ngara lga_Ngorongoro lga_Nkasi lga_Nzega lga_Rufiji lga_Rungwe\n",
      "9248            0              0         0         0          0          0\n",
      "22945.1         0              0         0         0          0          0\n",
      "105421          0              0         0         0          0          0\n",
      "25626           0              0         0         0          0          0\n",
      "53936           0              0         0         0          0          0\n",
      "45233           0              0         0         1          0          0\n",
      "        lga_Shinyanga_Urban lga_Uyui management_group_other\n",
      "9248                      0        0                      0\n",
      "22945.1                   0        0                      0\n",
      "105421                    0        0                      0\n",
      "25626                     0        0                      0\n",
      "53936                     0        0                      0\n",
      "45233                     0        0                      0\n",
      "        management_group_user-group management_other_-_school\n",
      "9248                              1                         0\n",
      "22945.1                           1                         0\n",
      "105421                            1                         0\n",
      "25626                             1                         0\n",
      "53936                             1                         0\n",
      "45233                             1                         0\n",
      "        management_parastatal management_unknown management_water_authority\n",
      "9248                        0                  0                          0\n",
      "22945.1                     0                  0                          0\n",
      "105421                      0                  0                          0\n",
      "25626                       0                  0                          0\n",
      "53936                       0                  0                          0\n",
      "45233                       0                  0                          0\n",
      "        management_water_board management_wua management_wug\n",
      "9248                         0              0              1\n",
      "22945.1                      0              0              0\n",
      "105421                       1              0              0\n",
      "25626                        0              0              0\n",
      "53936                        0              0              0\n",
      "45233                        0              0              0\n",
      "        payment_type_annually payment_type_monthly payment_type_never_pay\n",
      "9248                        0                    0                      0\n",
      "22945.1                     0                    1                      0\n",
      "105421                      0                    1                      0\n",
      "25626                       0                    0                      1\n",
      "53936                       0                    1                      0\n",
      "45233                       0                    0                      1\n",
      "        payment_type_other payment_type_per_bucket permit public_meeting\n",
      "9248                     0                       0      0              1\n",
      "22945.1                  0                       0      0              1\n",
      "105421                   0                       0      1              1\n",
      "25626                    0                       0      1              1\n",
      "53936                    0                       0      1              1\n",
      "45233                    0                       0      0              0\n",
      "        quantity_dry quantity_enough quantity_insufficient quantity_seasonal\n",
      "9248               0               0                     0                 1\n",
      "22945.1            0               1                     0                 0\n",
      "105421             0               0                     1                 0\n",
      "25626              0               1                     0                 0\n",
      "53936              1               0                     0                 0\n",
      "45233              0               1                     0                 0\n",
      "        quantity_unknown region_code region_Dodoma region_Kagera region_Kigoma\n",
      "9248                   0   14.974236             0             0             0\n",
      "22945.1                0   10.000000             0             0             0\n",
      "105421                 0    8.838954             0             0             0\n",
      "25626                  0   80.000000             0             0             0\n",
      "53936                  0   11.000000             0             0             0\n",
      "45233                  0   14.000000             0             0             0\n",
      "        region_Kilimanjaro region_Manyara region_Mara region_Mbeya\n",
      "9248                     0              0           0            0\n",
      "22945.1                  0              0           0            0\n",
      "105421                   1              0           0            0\n",
      "25626                    0              0           0            0\n",
      "53936                    0              0           0            0\n",
      "45233                    0              0           0            0\n",
      "        region_Morogoro region_Mtwara region_Mwanza region_Pwani region_Ruvuma\n",
      "9248                  0             0             0            0             0\n",
      "22945.1               0             0             0            0             1\n",
      "105421                0             0             0            0             0\n",
      "25626                 0             0             0            0             0\n",
      "53936                 0             0             0            0             0\n",
      "45233                 0             0             0            0             0\n",
      "        region_Singida region_Tabora region_Tanga source_class source_hand_dtw\n",
      "9248                 0             0            0            0               0\n",
      "22945.1              0             0            0            1               0\n",
      "105421               0             0            0            0               0\n",
      "25626                0             0            0            1               0\n",
      "53936                0             0            0            1               0\n",
      "45233                0             1            0            1               0\n",
      "        source_lake source_other source_rainwater_harvesting source_river\n",
      "9248              0            0                           1            0\n",
      "22945.1           0            0                           0            0\n",
      "105421            0            0                           0            1\n",
      "25626             0            0                           0            0\n",
      "53936             0            0                           0            0\n",
      "45233             0            0                           0            0\n",
      "        source_shallow_well            status_group water_quality_milky\n",
      "9248                      0 functional needs repair                   0\n",
      "22945.1                   0              functional                   0\n",
      "105421                    0 functional needs repair                   0\n",
      "25626                     1          non functional                   0\n",
      "53936                     0              functional                   0\n",
      "45233                     1 functional needs repair                   0\n",
      "        water_quality_salty water_quality_salty_abandoned water_quality_soft\n",
      "9248                      0                             0                  1\n",
      "22945.1                   0                             0                  1\n",
      "105421                    0                             0                  1\n",
      "25626                     0                             0                  1\n",
      "53936                     0                             0                  1\n",
      "45233                     0                             0                  1\n",
      "        water_quality_unknown waterpoint_type_cattle_trough\n",
      "9248                        0                             0\n",
      "22945.1                     0                             0\n",
      "105421                      0                             0\n",
      "25626                       0                             0\n",
      "53936                       0                             0\n",
      "45233                       0                             0\n",
      "        waterpoint_type_communal_standpipe waterpoint_type_dam\n",
      "9248                                     1                   0\n",
      "22945.1                                  0                   0\n",
      "105421                                   1                   0\n",
      "25626                                    0                   0\n",
      "53936                                    1                   0\n",
      "45233                                    0                   0\n",
      "        waterpoint_type_improved_spring            status_group\n",
      "9248                                  0 functional needs repair\n",
      "22945.1                               0              functional\n",
      "105421                                0 functional needs repair\n",
      "25626                                 0          non functional\n",
      "53936                                 0              functional\n",
      "45233                                 0 functional needs repair\n",
      "        amount_tsh basin_Internal basin_Lake_Nyasa basin_Lake_Tanganyika\n",
      "3610       369.884              0                0                     0\n",
      "17937        0.000              0                0                     0\n",
      "46919.1      0.000              1                0                     0\n",
      "84041        0.000              1                0                     0\n",
      "8385.1       0.000              0                0                     0\n",
      "20722      300.000              0                0                     0\n",
      "        basin_Pangani basin_Rufiji basin_Ruvuma_/_Southern_Coast date_recorded\n",
      "3610                1            0                             0         15026\n",
      "17937               1            0                             0         15056\n",
      "46919.1             0            0                             0         15748\n",
      "84041               0            0                             0         15750\n",
      "8385.1              0            1                             0         15053\n",
      "20722               0            1                             0         15028\n",
      "        district_code extraction_type_class_gravity\n",
      "3610        18.451272                             1\n",
      "17937        2.000000                             1\n",
      "46919.1      1.000000                             1\n",
      "84041        4.990263                             1\n",
      "8385.1       3.000000                             0\n",
      "20722        2.000000                             0\n",
      "        extraction_type_class_handpump extraction_type_class_motorpump\n",
      "3610                                 0                               0\n",
      "17937                                0                               0\n",
      "46919.1                              0                               0\n",
      "84041                                0                               0\n",
      "8385.1                               1                               0\n",
      "20722                                1                               0\n",
      "        extraction_type_class_wind-powered extraction_type_group_afridev\n",
      "3610                                     0                             0\n",
      "17937                                    0                             0\n",
      "46919.1                                  0                             0\n",
      "84041                                    0                             0\n",
      "8385.1                                   0                             0\n",
      "20722                                    0                             0\n",
      "        extraction_type_group_gravity extraction_type_group_india_mark_iii\n",
      "3610                                0                                    0\n",
      "17937                               1                                    0\n",
      "46919.1                             1                                    0\n",
      "84041                               1                                    0\n",
      "8385.1                              0                                    0\n",
      "20722                               0                                    0\n",
      "        extraction_type_group_mono extraction_type_group_nira/tanira\n",
      "3610                             0                                 0\n",
      "17937                            0                                 0\n",
      "46919.1                          0                                 0\n",
      "84041                            0                                 0\n",
      "8385.1                           0                                 1\n",
      "20722                            0                                 0\n",
      "        extraction_type_group_submersible extraction_type_group_wind-powered\n",
      "3610                                    1                                  0\n",
      "17937                                   0                                  0\n",
      "46919.1                                 0                                  0\n",
      "84041                                   0                                  0\n",
      "8385.1                                  0                                  0\n",
      "20722                                   0                                  0\n",
      "        gps_height         id lga_Babati lga_Bahi lga_Chato lga_Geita\n",
      "3610      1213.697  5733.4746          0        0         0         0\n",
      "17937      665.000 22385.0000          0        0         0         0\n",
      "46919.1   1261.000 58695.0000          1        0         0         0\n",
      "84041     2044.221   276.3954          0        0         0         0\n",
      "8385.1     252.000 10466.0000          0        0         0         0\n",
      "20722     1842.000 25831.0000          0        0         0         0\n",
      "        lga_Iramba lga_Iringa_Rural lga_Karagwe lga_Kibondo lga_Kiteto\n",
      "3610             0                0           0           0          0\n",
      "17937            0                0           0           0          0\n",
      "46919.1          0                0           0           0          0\n",
      "84041            0                0           0           0          0\n",
      "8385.1           0                0           0           0          0\n",
      "20722            0                0           0           0          0\n",
      "        lga_Kwimba lga_Longido lga_Magu lga_Masasi lga_Mbinga lga_Meatu\n",
      "3610             0           0        0          0          0         0\n",
      "17937            0           0        0          0          0         0\n",
      "46919.1          0           0        0          0          0         0\n",
      "84041            0           0        0          0          0         0\n",
      "8385.1           0           0        0          0          0         0\n",
      "20722            0           0        0          0          0         0\n",
      "        lga_Mwanga lga_Ngara lga_Ngorongoro lga_Nkasi lga_Nzega lga_Rufiji\n",
      "3610             0         0              0         0         0          0\n",
      "17937            0         0              0         0         0          0\n",
      "46919.1          0         0              0         0         0          0\n",
      "84041            0         0              1         0         0          0\n",
      "8385.1           0         0              0         0         0          0\n",
      "20722            0         0              0         0         0          0\n",
      "        lga_Rungwe lga_Shinyanga_Urban lga_Uyui management_group_other\n",
      "3610             0                   0        0                      0\n",
      "17937            0                   0        0                      0\n",
      "46919.1          0                   0        0                      0\n",
      "84041            0                   0        0                      0\n",
      "8385.1           0                   0        0                      0\n",
      "20722            0                   0        0                      0\n",
      "        management_group_user-group management_other_-_school\n",
      "3610                              1                         0\n",
      "17937                             1                         0\n",
      "46919.1                           1                         0\n",
      "84041                             0                         0\n",
      "8385.1                            1                         0\n",
      "20722                             1                         0\n",
      "        management_parastatal management_unknown management_water_authority\n",
      "3610                        0                  0                          0\n",
      "17937                       0                  0                          0\n",
      "46919.1                     0                  0                          0\n",
      "84041                       0                  0                          0\n",
      "8385.1                      0                  0                          0\n",
      "20722                       0                  0                          0\n",
      "        management_water_board management_wua management_wug\n",
      "3610                         0              0              0\n",
      "17937                        0              0              0\n",
      "46919.1                      0              0              0\n",
      "84041                        0              0              0\n",
      "8385.1                       0              0              0\n",
      "20722                        0              0              0\n",
      "        payment_type_annually payment_type_monthly payment_type_never_pay\n",
      "3610                        0                    0                      0\n",
      "17937                       0                    0                      1\n",
      "46919.1                     0                    0                      1\n",
      "84041                       0                    0                      1\n",
      "8385.1                      0                    0                      1\n",
      "20722                       1                    0                      0\n",
      "        payment_type_other payment_type_per_bucket permit public_meeting\n",
      "3610                     0                       1      1              1\n",
      "17937                    0                       0      0              1\n",
      "46919.1                  0                       0      1              1\n",
      "84041                    0                       0      0              1\n",
      "8385.1                   0                       0      1              1\n",
      "20722                    0                       0      1              1\n",
      "        quantity_dry quantity_enough quantity_insufficient quantity_seasonal\n",
      "3610               0               0                     1                 0\n",
      "17937              0               1                     0                 0\n",
      "46919.1            0               1                     0                 0\n",
      "84041              0               0                     1                 0\n",
      "8385.1             0               0                     1                 0\n",
      "20722              0               1                     0                 0\n",
      "        quantity_unknown region_code region_Dodoma region_Kagera region_Kigoma\n",
      "3610                   0   18.451272             0             0             0\n",
      "17937                  0    4.000000             0             0             0\n",
      "46919.1                0   21.000000             0             0             0\n",
      "84041                  0    2.034079             0             0             0\n",
      "8385.1                 0    5.000000             0             0             0\n",
      "20722                  0   11.000000             0             0             0\n",
      "        region_Kilimanjaro region_Manyara region_Mara region_Mbeya\n",
      "3610                     1              0           0            0\n",
      "17937                    0              0           0            0\n",
      "46919.1                  0              1           0            0\n",
      "84041                    0              0           0            0\n",
      "8385.1                   0              0           0            0\n",
      "20722                    0              0           0            0\n",
      "        region_Morogoro region_Mtwara region_Mwanza region_Pwani region_Ruvuma\n",
      "3610                  0             0             0            0             0\n",
      "17937                 0             0             0            0             0\n",
      "46919.1               0             0             0            0             0\n",
      "84041                 0             0             0            0             0\n",
      "8385.1                1             0             0            0             0\n",
      "20722                 0             0             0            0             0\n",
      "        region_Singida region_Tabora region_Tanga source_class source_hand_dtw\n",
      "3610                 0             0            0            0               0\n",
      "17937                0             0            1            0               0\n",
      "46919.1              0             0            0            1               0\n",
      "84041                0             0            0            0               0\n",
      "8385.1               0             0            0            1               0\n",
      "20722                0             0            0            1               1\n",
      "        source_lake source_other source_rainwater_harvesting source_river\n",
      "3610              0            0                           0            0\n",
      "17937             0            0                           0            1\n",
      "46919.1           0            0                           0            0\n",
      "84041             0            0                           1            0\n",
      "8385.1            0            0                           0            0\n",
      "20722             0            0                           0            0\n",
      "        source_shallow_well            status_group water_quality_milky\n",
      "3610                      0 functional needs repair                   0\n",
      "17937                     0              functional                   0\n",
      "46919.1                   0              functional                   0\n",
      "84041                     0 functional needs repair                   0\n",
      "8385.1                    1              functional                   0\n",
      "20722                     0              functional                   0\n",
      "        water_quality_salty water_quality_salty_abandoned water_quality_soft\n",
      "3610                      0                             0                  1\n",
      "17937                     0                             0                  1\n",
      "46919.1                   0                             0                  1\n",
      "84041                     0                             0                  1\n",
      "8385.1                    0                             0                  0\n",
      "20722                     0                             0                  1\n",
      "        water_quality_unknown waterpoint_type_cattle_trough\n",
      "3610                        0                             0\n",
      "17937                       0                             0\n",
      "46919.1                     0                             0\n",
      "84041                       0                             0\n",
      "8385.1                      0                             0\n",
      "20722                       0                             0\n",
      "        waterpoint_type_communal_standpipe waterpoint_type_dam\n",
      "3610                                     1                   0\n",
      "17937                                    1                   0\n",
      "46919.1                                  1                   0\n",
      "84041                                    1                   0\n",
      "8385.1                                   0                   0\n",
      "20722                                    0                   0\n",
      "        waterpoint_type_improved_spring            status_group\n",
      "3610                                  0 functional needs repair\n",
      "17937                                 0              functional\n",
      "46919.1                               0              functional\n",
      "84041                                 0 functional needs repair\n",
      "8385.1                                0              functional\n",
      "20722                                 0              functional\n",
      "                        functional functional needs repair non functional\n",
      "functional                    9981                       0              0\n",
      "functional needs repair          0                    7005             12\n",
      "non functional                   4                       5           6952\n",
      "                        class.error\n",
      "functional              0.000000000\n",
      "functional needs repair 0.001710133\n",
      "non functional          0.001292918\n"
     ]
    },
    {
     "data": {
      "text/html": [
       "0.999123377419021"
      ],
      "text/latex": [
       "0.999123377419021"
      ],
      "text/markdown": [
       "0.999123377419021"
      ],
      "text/plain": [
       "[1] 0.9991234"
      ]
     },
     "metadata": {},
     "output_type": "display_data"
    }
   ],
   "source": [
    "#n_trees <- c(4,6,8,10,12,14,16,18,20,22,24,26,28,30,32)\n",
    "set.seed(5)\n",
    "n_trees <- c(14)\n",
    "data <- data_preproc\n",
    "accuracy_vec <- array(0,length(n_trees))\n",
    "data_idx <- sample(1:nrow(data))\n",
    "half_split <- floor(nrow(data)/2)\n",
    "target_variable <- ncol(data)\n",
    "index <- 1\n",
    "best_accuracy <- 0\n",
    "\n",
    "for (i in n_trees){\n",
    "    train_data <- data[data_idx[1:half_split],]\n",
    "    test_data <- data[data_idx[(half_split+1):nrow(data)],]\n",
    "    print(head(train_data))\n",
    "    print(head(test_data))\n",
    "    \n",
    "    model <- randomForest(x=train_data[,-c(target_variable)],\n",
    "                          y=as.factor(train_data[,c(target_variable)]),\n",
    "                          xtest=test_data[,-c(target_variable)],\n",
    "                          ytest=as.factor(test_data[,c(target_variable)]),\n",
    "                          ntree=i,keep.forest=TRUE)\n",
    "    print(model$test$confusion)\n",
    "    accuracy_vec[index] = (model$test$confusion[1,1]+model$test$confusion[2,2]+model$test$confusion[3,3])/sum(model$test$confusion)\n",
    "    if(accuracy_vec[index] > best_accuracy) {\n",
    "        best_model_ <- model\n",
    "        best_accuracy <- accuracy_vec[index]\n",
    "    }\n",
    "    index <- index + 1\n",
    "}\n",
    "accuracy_vec"
   ]
  },
  {
   "cell_type": "code",
   "execution_count": null,
   "metadata": {},
   "outputs": [],
   "source": [
    "accuracy_vec\n",
    "plot( c(4,6,8,10,12,14,16,18,20,22,24,26,28,30,32),accuracy_vec,main = \"Number of trees influence\",xlab = \"Nbr of trees\",ylab = \"Classification rate\")"
   ]
  },
  {
   "cell_type": "code",
   "execution_count": null,
   "metadata": {},
   "outputs": [],
   "source": [
    "Y_pred <- predict(best_model_,newdata = test_preproc)"
   ]
  },
  {
   "cell_type": "code",
   "execution_count": null,
   "metadata": {},
   "outputs": [],
   "source": [
    "res <- cbind(\"id\"=test_preproc$id,\"status_group\"=as.character(Y_pred))"
   ]
  },
  {
   "cell_type": "code",
   "execution_count": null,
   "metadata": {
    "scrolled": true
   },
   "outputs": [],
   "source": [
    "head(test_preproc,30)"
   ]
  },
  {
   "cell_type": "code",
   "execution_count": null,
   "metadata": {
    "scrolled": true
   },
   "outputs": [],
   "source": [
    "head(res,30)"
   ]
  },
  {
   "cell_type": "code",
   "execution_count": null,
   "metadata": {},
   "outputs": [],
   "source": [
    "write.csv(res,\"submission.csv\",row.names=FALSE)"
   ]
  },
  {
   "cell_type": "markdown",
   "metadata": {},
   "source": [
    "## Model 3\n",
    "\n",
    "#### Example of simple equation\n",
    "\\begin{equation}\n",
    "e = mc^2\n",
    "\\end{equation}\n",
    "\n",
    "#### Example of matrix equation - Cross product formula:\n",
    "\n",
    "\\begin{equation*}\n",
    "\\mathbf{V}_1 \\times \\mathbf{V}_2 =  \\begin{vmatrix}\n",
    "\\mathbf{i} & \\mathbf{j} & \\mathbf{k} \\\\\n",
    "\\frac{\\partial X}{\\partial u} &  \\frac{\\partial Y}{\\partial u} & 0 \\\\\n",
    "\\frac{\\partial X}{\\partial v} &  \\frac{\\partial Y}{\\partial v} & 0\n",
    "\\end{vmatrix}\n",
    "\\end{equation*}\n",
    "\n",
    "#### Example of multiline equation - The Lorenz Equations:\n",
    "\n",
    "\\begin{align}\n",
    "\\dot{x} & = \\sigma(y-x) \\\\\n",
    "\\dot{y} & = \\rho x - y - xz \\\\\n",
    "\\dot{z} & = -\\beta z + xy\n",
    "\\end{align}\n",
    "\n",
    "#### Example of Markdown Table:\n",
    "\n",
    "| This | is   |\n",
    "|------|------|\n",
    "|   a  | table|\n"
   ]
  },
  {
   "cell_type": "markdown",
   "metadata": {},
   "source": [
    "# Alternative models\n",
    "\n",
    "\n",
    "\n"
   ]
  },
  {
   "cell_type": "markdown",
   "metadata": {},
   "source": [
    "## Gradient boosting"
   ]
  },
  {
   "cell_type": "code",
   "execution_count": null,
   "metadata": {},
   "outputs": [],
   "source": [
    "require(gbm)"
   ]
  },
  {
   "cell_type": "code",
   "execution_count": null,
   "metadata": {},
   "outputs": [],
   "source": [
    "data <- data_preproc\n",
    "data_idx <- sample(1:nrow(data))\n",
    "half_split <- floor(nrow(data)/2)\n",
    "train_data <- data[data_idx[1:half_split],]\n",
    "test_data <- data[data_idx[(half_split+1):nrow(data)],]\n",
    "target_variable <- ncol(data)\n",
    "\n",
    "boost <- gbm(status_group ~ . ,data = train_data,distribution = \"multinomial\",cv.folds = 5,n.trees = 1000,shrinkage = 0.01, interaction.depth = 10)\n",
    "boost\n",
    "summary(boost)\n",
    "best_iter <- gbm.perf(boost, method = \"cv\")\n",
    "best_iter\n"
   ]
  },
  {
   "cell_type": "code",
   "execution_count": null,
   "metadata": {},
   "outputs": [],
   "source": [
    "n.trees = seq(from=100 ,to=10000, by=100)\n",
    "predmatrix<-predict(boost,test_data[,-target_variable],n.trees = n.trees)\n",
    "dim(predmatrix) #dimentions of the Prediction Matrix\n",
    "#Calculating The Mean squared Test Error\n",
    "test.error<-with(test_data[,-target_variable],apply( (predmatrix-status_group)^2,2,mean))\n",
    "head(test.error) #contains the Mean squared test error for each of the 100 trees averaged\n"
   ]
  },
  {
   "cell_type": "code",
   "execution_count": null,
   "metadata": {},
   "outputs": [],
   "source": [
    "require(caret)"
   ]
  },
  {
   "cell_type": "code",
   "execution_count": null,
   "metadata": {},
   "outputs": [],
   "source": [
    "data <- data_preproc\n",
    "data_idx <- sample(1:nrow(data))\n",
    "half_split <- floor(nrow(data)/2)\n",
    "train_data <- data[data_idx[1:half_split],]\n",
    "test_data <- data[data_idx[(half_split+1):nrow(data)],]\n",
    "target_variable <- ncol(data)\n",
    "\n",
    "fitControl <- trainControl(## 10-fold CV\n",
    "                           method = \"repeatedcv\",\n",
    "                           number = 10,\n",
    "                           ## repeated ten times\n",
    "                           repeats = 10)\n",
    "\n",
    "gbmGrid <-  expand.grid(interaction.depth = 3, \n",
    "                        n.trees = 2000, \n",
    "                        shrinkage = 0.01,n.minobsinnode = 1)\n",
    "                        \n",
    "nrow(gbmGrid)\n",
    "\n",
    "set.seed(825)\n",
    "gbmFit2 <- train(status_group ~ ., data = train_data, \n",
    "                 method = \"gbm\", \n",
    "                 verbose = TRUE, \n",
    "                 trControl = fitControl,\n",
    "                 ## Now specify the exact models \n",
    "                 ## to evaluate:\n",
    "                 tuneGrid = gbmGrid)\n",
    "gbmFit2"
   ]
  },
  {
   "cell_type": "code",
   "execution_count": null,
   "metadata": {},
   "outputs": [],
   "source": [
    "confusionMatrix(gbmFit2)"
   ]
  },
  {
   "cell_type": "code",
   "execution_count": null,
   "metadata": {},
   "outputs": [],
   "source": [
    "mPred = predict(gbmFit2, test_data, na.action = na.pass)\n",
    "postResample(mPred, test_data$status_group)"
   ]
  },
  {
   "cell_type": "code",
   "execution_count": null,
   "metadata": {},
   "outputs": [],
   "source": [
    "confusionMatrix(mPred, test_data$status_group)"
   ]
  },
  {
   "cell_type": "code",
   "execution_count": null,
   "metadata": {},
   "outputs": [],
   "source": [
    "install.packages(\"xgboost\")"
   ]
  },
  {
   "cell_type": "code",
   "execution_count": null,
   "metadata": {},
   "outputs": [],
   "source": [
    "require(xgboost)"
   ]
  },
  {
   "cell_type": "code",
   "execution_count": null,
   "metadata": {
    "scrolled": true
   },
   "outputs": [],
   "source": [
    "data <- data_preproc\n",
    "#print(head(data))\n",
    "data_idx <- sample(1:nrow(data))\n",
    "half_split <- floor(nrow(data)/2)\n",
    "train_data <- data[data_idx[1:half_split],]\n",
    "test_data <- data[data_idx[(half_split+1):nrow(data)],]\n",
    "target_variable <- ncol(data)\n",
    "labels <- as.matrix(as.numeric(train_data[,target_variable])) - 1\n",
    "\n",
    "best_param = list()\n",
    "best_seednumber = 1234\n",
    "best_loss = Inf\n",
    "best_loss_index = 0\n",
    "\n",
    "for (iter in 1:10) {\n",
    "    param <- list(objective = \"multi:softprob\",\n",
    "        eval_metric = \"merror\",\n",
    "        num_class = 3,\n",
    "        max_depth = sample(10:30, 1),\n",
    "        eta = runif(1, .001, .1),\n",
    "        gamma = runif(1, 0.0, 0.2),\n",
    "        subsample = runif(1, .6, .9),\n",
    "        colsample_bytree = runif(1, .5, .8), \n",
    "        min_child_weight = sample(1:40, 1),\n",
    "        max_delta_step = sample(1:10, 1)\n",
    "    )\n",
    "    seed.number <- sample.int(10000, 1)[[1]]\n",
    "    set.seed(seed.number)\n",
    "\n",
    "    cv.nround <- 50\n",
    "    cv.nfold <- 15\n",
    "\n",
    "    bstSparse <- xgb.cv(data = as.matrix(train_data[,-target_variable]),label=labels,params = param,\n",
    "                        nthread=6, nfold=cv.nfold, nrounds=cv.nround,verbose = T)\n",
    "    \n",
    "    #print(typeof(bstSparse))\n",
    "    #print(bstSparse)\n",
    "    #print(\"OKOK\")\n",
    "    #print(bstSparse[1])\n",
    "    #print(\"OKOKOKOKO\")\n",
    "    min_loss <-  min(bstSparse$evaluation_log$test_merror_mean)\n",
    "    min_loss_index  <- which.min(bstSparse$evaluation_log$test_merror_mean)\n",
    "    message(min_loss_index)\n",
    "    #print(bstSparse$evaluation_log)\n",
    "    \n",
    "    if (min_loss < best_loss) {\n",
    "        best_loss <- min_loss\n",
    "        best_loss_index <- min_loss_index\n",
    "        best_seednumber <- seed.number\n",
    "        best_param <- param\n",
    "    }\n",
    "}\n",
    "\n",
    "\n"
   ]
  },
  {
   "cell_type": "code",
   "execution_count": null,
   "metadata": {},
   "outputs": [],
   "source": [
    "nround <- best_loss_index\n",
    "set.seed(best_seednumber)\n",
    "md <- xgboost(data = as.matrix(train_data[,-target_variable]),label=labels, params=best_param, nrounds=nround, nthread=6)\n"
   ]
  },
  {
   "cell_type": "code",
   "execution_count": null,
   "metadata": {},
   "outputs": [],
   "source": [
    "pred <- predict(md, as.matrix(test_data[,-target_variable]),reshape = T)\n",
    "head(pred)"
   ]
  },
  {
   "cell_type": "code",
   "execution_count": null,
   "metadata": {},
   "outputs": [],
   "source": [
    "predicted_labels <- factor(max.col(pred),levels=1:3)\n",
    "real_labels <- factor(as.numeric(test_data[,target_variable]))\n",
    "predicted_labels"
   ]
  },
  {
   "cell_type": "code",
   "execution_count": null,
   "metadata": {
    "scrolled": true
   },
   "outputs": [],
   "source": [
    "caret::confusionMatrix(real_labels,predicted_labels)"
   ]
  },
  {
   "cell_type": "code",
   "execution_count": null,
   "metadata": {},
   "outputs": [],
   "source": [
    "best_param"
   ]
  },
  {
   "cell_type": "code",
   "execution_count": null,
   "metadata": {},
   "outputs": [],
   "source": [
    "pred <- predict(md, as.matrix(test_preproc),reshape = T)\n",
    "head(pred)\n",
    "pred <- factor(max.col(pred),levels=1:3)\n",
    "pred <- ifelse(pred == 1,\"functional\",ifelse(pred == 2, \"functional needs repair\", \"non functional\"))\n",
    "barplot(table(pred))"
   ]
  },
  {
   "cell_type": "code",
   "execution_count": null,
   "metadata": {},
   "outputs": [],
   "source": [
    "res <- cbind(\"id\"=eval_data$id,\"status_group\"=as.character(pred))\n",
    "head(res)"
   ]
  },
  {
   "cell_type": "code",
   "execution_count": null,
   "metadata": {},
   "outputs": [],
   "source": [
    "write.csv(res,\"submission.csv\",row.names=FALSE)"
   ]
  },
  {
   "cell_type": "markdown",
   "metadata": {},
   "source": [
    "# Conclusions"
   ]
  }
 ],
 "metadata": {
  "kernelspec": {
   "display_name": "R",
   "language": "R",
   "name": "ir"
  },
  "language_info": {
   "codemirror_mode": "r",
   "file_extension": ".r",
   "mimetype": "text/x-r-source",
   "name": "R",
   "pygments_lexer": "r",
   "version": "4.0.3"
  }
 },
 "nbformat": 4,
 "nbformat_minor": 4
}
